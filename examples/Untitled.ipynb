{
 "cells": [
  {
   "cell_type": "code",
   "execution_count": 11,
   "metadata": {},
   "outputs": [],
   "source": [
    "using Pkg"
   ]
  },
  {
   "cell_type": "code",
   "execution_count": 12,
   "metadata": {},
   "outputs": [
    {
     "name": "stdout",
     "output_type": "stream",
     "text": [
      "\u001b[32m\u001b[1m Resolving\u001b[22m\u001b[39m package versions...\n",
      "\u001b[32m\u001b[1m  Updating\u001b[22m\u001b[39m `/opt/julia/environments/v1.3/Project.toml`\n",
      "\u001b[90m [no changes]\u001b[39m\n",
      "\u001b[32m\u001b[1m  Updating\u001b[22m\u001b[39m `/opt/julia/environments/v1.3/Manifest.toml`\n",
      "\u001b[90m [no changes]\u001b[39m\n"
     ]
    }
   ],
   "source": [
    "Pkg.add(\"PyCall\")"
   ]
  },
  {
   "cell_type": "code",
   "execution_count": 13,
   "metadata": {},
   "outputs": [],
   "source": [
    "using PyCall"
   ]
  },
  {
   "cell_type": "code",
   "execution_count": 14,
   "metadata": {},
   "outputs": [
    {
     "data": {
      "text/plain": [
       "PyObject <module 'mlrun' from '/home/jovyan/data/repos/mlrun/mlrun/__init__.py'>"
      ]
     },
     "execution_count": 14,
     "metadata": {},
     "output_type": "execute_result"
    }
   ],
   "source": [
    "mlrun = pyimport(\"mlrun\")"
   ]
  },
  {
   "cell_type": "code",
   "execution_count": 15,
   "metadata": {},
   "outputs": [
    {
     "data": {
      "text/plain": [
       "PyObject Config({'namespace': 'kubeflow', 'dbpath': 'http://mlrun-api:8080', 'ui_url': '', 'remote_host': '', 'version': '0.4.7', 'images_tag': '0.4.7-py37', 'kfp_ttl': '86400', 'kfp_image': 'mlrun/mlrun:0.4.7', 'kaniko_version': 'v0.19.0', 'package_path': 'mlrun', 'default_image': 'python:3.6-jessie', 'default_project': 'default', 'default_archive': '', 'hub_url': '/home/jovyan/data/functions/{name}/function.yaml', 'ipython_widget': True, 'log_level': 'ERROR', 'submit_timeout': '180', 'artifact_path': '/home/jovyan/data', 'httpdb': {'port': 8080, 'dirpath': '/home/jovyan/data/.db', 'dsn': 'sqlite:////tmp/mlrun.db?check_same_thread=false', 'debug': False, 'user': '', 'password': '', 'token': '', 'logs_path': '/home/jovyan/.mlrun/logs', 'data_volume': '', 'real_path': '', 'db_type': 'filerundb'}})"
      ]
     },
     "execution_count": 15,
     "metadata": {},
     "output_type": "execute_result"
    }
   ],
   "source": [
    "mlrun.mlconf"
   ]
  },
  {
   "cell_type": "code",
   "execution_count": 16,
   "metadata": {},
   "outputs": [
    {
     "data": {
      "text/plain": [
       "\"0.4.7-py37\""
      ]
     },
     "execution_count": 16,
     "metadata": {},
     "output_type": "execute_result"
    }
   ],
   "source": [
    "mlrun.mlconf.images_tag"
   ]
  },
  {
   "cell_type": "code",
   "execution_count": 17,
   "metadata": {},
   "outputs": [
    {
     "data": {
      "text/plain": [
       "\"0.4.6-py37\""
      ]
     },
     "execution_count": 17,
     "metadata": {},
     "output_type": "execute_result"
    }
   ],
   "source": [
    "mlrun.mlconf.images_tag = \"0.4.6-py37\""
   ]
  },
  {
   "cell_type": "code",
   "execution_count": 18,
   "metadata": {},
   "outputs": [
    {
     "data": {
      "text/plain": [
       "\"0.4.7-py37\""
      ]
     },
     "execution_count": 18,
     "metadata": {},
     "output_type": "execute_result"
    }
   ],
   "source": [
    "mlrun.mlconf.images_tag =\"0.4.7-py37\""
   ]
  },
  {
   "cell_type": "code",
   "execution_count": 24,
   "metadata": {},
   "outputs": [
    {
     "data": {
      "text/plain": [
       "PyObject <mlrun.model.RunTemplate object at 0x7fd59cefabd0>"
      ]
     },
     "execution_count": 24,
     "metadata": {},
     "output_type": "execute_result"
    }
   ],
   "source": [
    "task = mlrun.NewTask(name=\"demo\", params=Dict([(\"p1\", 5)]), artifact_path=mlrun.mlconf.artifact_path).with_secrets(\"file\", \"secrets.txt\").set_label(\"type\", \"demo\")"
   ]
  },
  {
   "cell_type": "code",
   "execution_count": 26,
   "metadata": {},
   "outputs": [
    {
     "name": "stdout",
     "output_type": "stream",
     "text": [
      "[mlrun] 2020-05-03 03:19:10,778 warning!, server (0.4.6) and client (0.4.7) ver dont match\n",
      "[mlrun] 2020-05-03 03:19:10,778 starting run demo uid=568ba48b9e574010812ac32af52cf3f7  -> http://mlrun-api:8080\n",
      "[mlrun] 2020-05-03 03:19:13,140 logging run results to: http://mlrun-api:8080\n",
      "[mlrun] 2020-05-03 03:19:13,150 warning!, server (0.4.6) and client (0.4.7) ver dont match\n",
      "Run: demo (uid=568ba48b9e574010812ac32af52cf3f7)\n",
      "Params: p1=5, p2=a-string\n",
      "accesskey = 456\n",
      "file\n",
      "b\"I'm a local input file\\n\"\n",
      "\n",
      "[mlrun] 2020-05-03 03:19:13,191 log artifact model at /home/jovyan/data/model.txt, size: 10, db: Y\n",
      "[mlrun] 2020-05-03 03:19:13,206 log artifact html_result at /home/jovyan/data/result.html, size: 17, db: Y\n",
      "[mlrun] 2020-05-03 03:19:13,222 log artifact dataset at /home/jovyan/data/dataset.csv, size: 12, db: Y\n",
      "[mlrun] 2020-05-03 03:19:13,237 log artifact chart at /home/jovyan/data/chart.html, size: 881, db: Y\n",
      "[mlrun] 2020-05-03 03:19:13,271 log artifact mydf at /home/jovyan/data/mydf.csv, size: 135, db: Y\n",
      "\n",
      "[mlrun] 2020-05-03 03:19:13,741 run executed, status=completed\n"
     ]
    },
    {
     "data": {
      "text/plain": [
       "PyObject <mlrun.model.RunObject object at 0x7fd59ce77050>"
      ]
     },
     "execution_count": 26,
     "metadata": {},
     "output_type": "execute_result"
    }
   ],
   "source": [
    "run_object = mlrun.run_local(task, command=\"training.py\")"
   ]
  },
  {
   "cell_type": "code",
   "execution_count": null,
   "metadata": {},
   "outputs": [],
   "source": []
  }
 ],
 "metadata": {
  "kernelspec": {
   "display_name": "Julia 1.3.1",
   "language": "julia",
   "name": "julia-1.3"
  },
  "language_info": {
   "file_extension": ".jl",
   "mimetype": "application/julia",
   "name": "julia",
   "version": "1.3.1"
  }
 },
 "nbformat": 4,
 "nbformat_minor": 4
}
