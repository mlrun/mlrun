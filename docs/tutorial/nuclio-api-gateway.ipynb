{
 "cells": [
  {
   "cell_type": "markdown",
   "id": "b00408b3",
   "metadata": {},
   "source": [
    "# Nuclio API gateway \n",
    "\n",
    "This notebook demonstrates making an HTTP request to an HTTPS API Gateway of a Nuclio function using basic/access key authentication."
   ]
  },
  {
   "cell_type": "code",
   "execution_count": null,
   "id": "4d983231",
   "metadata": {},
   "outputs": [],
   "source": [
    "import mlrun\n",
    "import nuclio"
   ]
  },
  {
   "cell_type": "code",
   "execution_count": null,
   "id": "38fbc82c",
   "metadata": {},
   "outputs": [],
   "source": [
    "# Create a project\n",
    "project = mlrun.get_or_create_project(\n",
    "    \"nuclio-api-gateway-example\", context=\"./\", user_project=True\n",
    ")"
   ]
  },
  {
   "cell_type": "code",
   "execution_count": null,
   "id": "1199cf14",
   "metadata": {},
   "outputs": [],
   "source": [
    "# mlrun: start-code"
   ]
  },
  {
   "cell_type": "code",
   "execution_count": null,
   "id": "50143d4d",
   "metadata": {},
   "outputs": [],
   "source": [
    "def handler(context, event):\n",
    "    return \"test\""
   ]
  },
  {
   "cell_type": "code",
   "execution_count": null,
   "id": "7b7449b4",
   "metadata": {},
   "outputs": [],
   "source": [
    "# mlrun: end-code"
   ]
  },
  {
   "cell_type": "code",
   "execution_count": null,
   "id": "d2019278",
   "metadata": {},
   "outputs": [],
   "source": [
    "# Create a simple Nuclio function that gets basic authentication\n",
    "basic_auth = project.set_function(\n",
    "    name=\"basic-auth\", handler=\"handler\", image=\"mlrun/mlrun\", kind=\"nuclio\"\n",
    ")\n",
    "# Create a simple nuclio function that gets accesss key authentication\n",
    "access_key_auth = project.set_function(\n",
    "    name=\"acces-key\", handler=\"handler\", image=\"mlrun/mlrun\", kind=\"nuclio\"\n",
    ")\n",
    "project.save()"
   ]
  },
  {
   "cell_type": "code",
   "execution_count": null,
   "id": "71f61991",
   "metadata": {},
   "outputs": [],
   "source": [
    "# Deploy the function\n",
    "basic_auth.deploy()\n",
    "access_key_auth.deploy()"
   ]
  },
  {
   "cell_type": "markdown",
   "id": "c32395ec",
   "metadata": {},
   "source": [
    "## Making an HTTP request using basic authentication\n",
    "1. Create an API Gateway in the UI, with authentication `basic`. Set your desired username and password and choose the `basic-auth` nuclio function.\n",
    "2. Give it a name and copy the endpoint.\n",
    "2. Paste the endpoint after the `https://`.\n",
    "2. Change the username and password in the code below."
   ]
  },
  {
   "cell_type": "code",
   "execution_count": null,
   "id": "9d10a986",
   "metadata": {},
   "outputs": [],
   "source": [
    "import requests\n",
    "from base64 import b64encode\n",
    "\n",
    "# Authorization token: Encode to Base64 format\n",
    "# and then decode it to ASCII since python 3 stores it as a byte string\n",
    "def basic_auth(username, password):\n",
    "    token = b64encode(f\"{username}:{password}\".encode(\"utf-8\")).decode(\"ascii\")\n",
    "    return f\"Basic {token}\"\n",
    "\n",
    "\n",
    "# Enter your username and password here\n",
    "username = \"username\"\n",
    "password = \"password\"\n",
    "\n",
    "# Enter your API Gateway endpoint here\n",
    "basic_auth_api_gateway_path = \"https://<API GATEWAY ENDPOINT>\"\n",
    "\n",
    "headers = {\"Authorization\": basic_auth(username, password)}\n",
    "res = requests.get(url=basic_auth_api_gateway_path, headers=headers, verify=False)\n",
    "print(res.text)"
   ]
  },
  {
   "cell_type": "markdown",
   "id": "f5941683",
   "metadata": {},
   "source": [
    "## Making an HTTP request using access key authentication\n",
    "1. Create an API Gateway in the UI, with authentication `access key` and choose the `access-key` Nuclio function.\n",
    "2. Give it a name and copy the endpoint.\n",
    "2. Paste the endpoint after the `https://`.\n",
    "2. In the UI, click the user's top right icon, then copy the access key from there.\n",
    "2. Change the access key in the code below."
   ]
  },
  {
   "cell_type": "code",
   "execution_count": null,
   "id": "9d181272",
   "metadata": {},
   "outputs": [],
   "source": [
    "# Enter your access key here\n",
    "access_key = \"some-access-key\"\n",
    "\n",
    "# Enter your API Gateway endpoint here\n",
    "access_key_auth_api_gateway_path = \"https://<API GATEWAY ENDPOINT>\"\n",
    "\n",
    "headers = {\"Cookie\": 'session=j:{\"sid\": \"' + access_key + '\"}'}\n",
    "res = requests.get(url=access_key_auth_api_gateway_path, headers=headers, verify=False)\n",
    "print(res.text)"
   ]
  }
 ],
 "metadata": {
  "kernelspec": {
   "display_name": "Python 3 (ipykernel)",
   "language": "python",
   "name": "python3"
  },
  "language_info": {
   "codemirror_mode": {
    "name": "ipython",
    "version": 3
   },
   "file_extension": ".py",
   "mimetype": "text/x-python",
   "name": "python",
   "nbconvert_exporter": "python",
   "pygments_lexer": "ipython3",
   "version": "3.10.1"
  }
 },
 "nbformat": 4,
 "nbformat_minor": 5
}
