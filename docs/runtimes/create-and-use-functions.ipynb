{
 "cells": [
  {
   "cell_type": "markdown",
   "id": "d689eeca",
   "metadata": {},
   "source": [
    "# Create and Use Functions"
   ]
  },
  {
   "cell_type": "markdown",
   "id": "548cbdc4",
   "metadata": {},
   "source": [
    "## About Functions"
   ]
  },
  {
   "cell_type": "markdown",
   "id": "19ceffc1",
   "metadata": {},
   "source": [
    "Functions are the basic building blocks of MLRun - they will be used to run jobs, deploy models, create pipelines, and more. You can read more about MLRun Functions [here](https://docs.mlrun.org/en/latest/runtimes/functions.html)."
   ]
  },
  {
   "cell_type": "markdown",
   "id": "73e7a5ea",
   "metadata": {},
   "source": [
    "### Common Parameters"
   ]
  },
  {
   "cell_type": "markdown",
   "id": "95823540",
   "metadata": {},
   "source": [
    "The MLRun function is essentially a Python object that knows how to run locally or on a Kubernetes cluster. There are various kinds of MLRun functions with different capabilities, however, there are commonalities across all functions.\n",
    "\n",
    "In general, an MLRun function looks like the following:"
   ]
  },
  {
   "cell_type": "markdown",
   "id": "e83ef718",
   "metadata": {},
   "source": [
    "![MLRun Function](../_static/images/mlrun_function_diagram.png)"
   ]
  },
  {
   "cell_type": "markdown",
   "id": "15c5c935",
   "metadata": {},
   "source": [
    "Additionally, there are various parameters that are common across all functions including:\n",
    "- **Name:** Name of the function (displayed in the UI and Kubernetes pod)\n",
    "- **Tag:** Version of the function (can be manual or automatic)\n",
    "- **Code:** What is actually being run (Python file, Jupyter notebook, Git repo, etc.)\n",
    "- **Runtime:** How the code is being run (Job, Spark, Dask, Nuclio, etc.)\n",
    "- **Image:** Docker image (or list of commands for building a new image)\n",
    "- **Resources:** Memory, CPU, GPU resources. Also scaling/auto-scaling settings for supported runtimes (e.g. Nuclio, Serving, Horovod, etc.)\n",
    "- **With Repo:** Whether the function depends on the MLRun project for additional files (e.g. Git repo, archive file, etc.)"
   ]
  },
  {
   "cell_type": "markdown",
   "id": "0933c707",
   "metadata": {},
   "source": [
    "### Functions and Projects"
   ]
  },
  {
   "cell_type": "markdown",
   "id": "040d4dd1",
   "metadata": {},
   "source": [
    "The recommended way to create and run a function in MLRun is via a project. Once you register a function within a project, you can execute it in your local environment or at scale on a Kubernetes cluster."
   ]
  },
  {
   "cell_type": "markdown",
   "id": "41aeed94",
   "metadata": {},
   "source": [
    "![MLRun Function](../_static/images/mlrun_concepts_architecture.png)"
   ]
  },
  {
   "cell_type": "markdown",
   "id": "aa49c285",
   "metadata": {},
   "source": [
    "An MLRun project object has a method called `set_function` which is a one-size-fits-all way of creating an MLRun function. The `set_function` method accepts a variety of sources including Python files, Jupyter notebooks, Git repos, and more.\n",
    "\n",
    "Additionally, the `set_function` method has a parameter called `with_repo` which denotes whether a function requires additional files or dependencies such as a Git repo or archive file. This Git repo or archive file is specified on a project level which the function will consume.\n",
    "> Note: When using `with_repo`, the contents of the Git repo or archive file will be available in the current working directory of your MLRun function during runtime "
   ]
  },
  {
   "cell_type": "markdown",
   "id": "14800073",
   "metadata": {},
   "source": [
    "## Creating a Function"
   ]
  },
  {
   "cell_type": "markdown",
   "id": "e2311f14",
   "metadata": {},
   "source": [
    "There are 3 main scenarios for creating a function:\n",
    "1. [Single Source File](#single-source-file) - when your code can be contained into a single file\n",
    "2. [Multiple Source Files](#multiple-source-files) - when your code requires additional files or dependencies\n",
    "3. [Import Existing Function](#import-existing-function) - when your function already exists elsewhere and you just want to import it\n",
    "\n",
    "Using the `set_function` method of an MLRun project allows for each of these scenarios in a transparent way. Depending on the source passed in, the project will register the function using some lower level functions.\n",
    "> Note: For specific use cases, you also have access to these lower level functions. These will be discussed in more detail at a later point\n",
    "\n",
    "When creating a new function, consider the following flow:"
   ]
  },
  {
   "cell_type": "markdown",
   "id": "692a2bd9",
   "metadata": {},
   "source": [
    "![Create function flow](../_static/images/mlrun_function_create_flow.png)"
   ]
  },
  {
   "cell_type": "markdown",
   "id": "70030b5f",
   "metadata": {},
   "source": [
    "<a id=\"single-source-file\"></a>\n",
    "### Single Source File (Python/Notebook)"
   ]
  },
  {
   "cell_type": "markdown",
   "id": "1c137d9a",
   "metadata": {},
   "source": [
    "The simplest way to create a function is to use a single file as the source. The code itself will be embeded into the MLRun function object. This makes the function quite portable as it does not depend on any external files. You can use any source file supported by MLRun such as Python or Jupyter notebook.\n",
    "\n",
    "> Note: The return value of `set_function` will be your MLRun function. You can immediately run it or apply additional configuration like resources, scaling, etc."
   ]
  },
  {
   "cell_type": "markdown",
   "id": "2a458f71",
   "metadata": {},
   "source": [
    "```python\n",
    "import mlrun\n",
    "\n",
    "single_source_project = mlrun.new_project(name=\"single-source-project\", context=\"./single_source_project\", overwrite=True)\n",
    "```"
   ]
  },
  {
   "cell_type": "markdown",
   "id": "ea3121db",
   "metadata": {},
   "source": [
    "#### Python"
   ]
  },
  {
   "cell_type": "markdown",
   "id": "472ccd63",
   "metadata": {},
   "source": [
    "This is the simplest way to create a function out of a given piece of code - simply pass in the path to the Python file *relative to your project context directory*"
   ]
  },
  {
   "cell_type": "markdown",
   "id": "f4420b59",
   "metadata": {},
   "source": [
    "```python\n",
    "python_fn = single_source_project.set_function(\n",
    "    name=\"python\",\n",
    "    func=\"job.py\", \n",
    "    kind=\"job\",\n",
    "    image=\"mlrun/mlrun\",\n",
    "    handler=\"handler\"\n",
    ")\n",
    "\n",
    "run = single_source_project.run_function(python_fn)\n",
    "```"
   ]
  },
  {
   "cell_type": "markdown",
   "id": "4ac3bef3",
   "metadata": {},
   "source": [
    "#### Jupyter Notebook"
   ]
  },
  {
   "cell_type": "markdown",
   "id": "e790f68c",
   "metadata": {},
   "source": [
    "This is a great way to create a function out of a Jupyter notebook  - simply pass in the path to the Jupyter notebook  *relative to your project context directory*. You can use [MLRun cell tags](#) to specify which parts of the notebook should be included in the function. \n",
    "> Note: To ensure that the latest changes are included, make sure you save your notebook before creating/updating the function"
   ]
  },
  {
   "cell_type": "markdown",
   "id": "2e988b79",
   "metadata": {},
   "source": [
    "```python\n",
    "notebook_fn = single_source_project.set_function(\n",
    "    name=\"notebook\", \n",
    "    func=\"nb.ipynb\", \n",
    "    kind=\"job\", \n",
    "    image=\"mlrun/mlrun\", \n",
    "    handler=\"handler\"\n",
    ")\n",
    "\n",
    "run = single_source_project.run_function(notebook_fn)\n",
    "```"
   ]
  },
  {
   "cell_type": "markdown",
   "id": "e10decbb",
   "metadata": {},
   "source": [
    "#### Current Notebook"
   ]
  },
  {
   "cell_type": "markdown",
   "id": "e770b254",
   "metadata": {},
   "source": [
    "You can also create an MLRun function out of the current Jupyter notebook you are running in. To do this, simply ommit the `func` parameter in `set_function`. You can use [MLRun cell tags](#) to specify which parts of the notebook should be included in the function. \n",
    "> Note: To ensure that the latest changes are included, make sure you save your notebook before creating/updating the function"
   ]
  },
  {
   "cell_type": "markdown",
   "id": "26f3d35b",
   "metadata": {},
   "source": [
    "```python\n",
    "notebook_fn = single_source_project.set_function(\n",
    "    name=\"notebook\", \n",
    "    kind=\"job\", \n",
    "    image=\"mlrun/mlrun\", \n",
    "    handler=\"handler\"\n",
    ")\n",
    "\n",
    "run = single_source_project.run_function(notebook_fn)\n",
    "```"
   ]
  },
  {
   "cell_type": "markdown",
   "id": "84cf9258",
   "metadata": {},
   "source": [
    "<a id=\"multiple-source-files\"></a>\n",
    "### Multiple Source Files (Git/Archive)"
   ]
  },
  {
   "cell_type": "markdown",
   "id": "773d7bef",
   "metadata": {},
   "source": [
    "If your code requires additional files or external libraries, you will need to use a source that supports multiple files such as Git, an archive (zip/tar/etc.), or V3IO file share. This approach (especially using a Git repo) pairs well with MLRun Projects.\n",
    "\n",
    "With this approach, you must provide `with_repo=True` into `set_function`. This instructs MLRun to load source code from the git repo/archive/file share associated with the project.\n",
    "\n",
    "There are two options to load the code:\n",
    "1. **Static**: The function is built once. *This is the preferred approach for production workloads*\n",
    "> Build the function once via `mlrun.build_function(fn)`\n",
    "2. **Runtime**: The function will pull the source code at runtime. *This is is a simpler approach during development that allows for making code changes without re-building the image each time*\n",
    "> Enable this feature via `project.set_source(source=None, pull_at_runtime=True)`"
   ]
  },
  {
   "cell_type": "markdown",
   "id": "8ac08010",
   "metadata": {},
   "source": [
    "#### Git Repo"
   ]
  },
  {
   "cell_type": "markdown",
   "id": "8c7290be",
   "metadata": {},
   "source": [
    "The Git repo is provided when creating the project like so:"
   ]
  },
  {
   "cell_type": "markdown",
   "id": "21426cf4",
   "metadata": {},
   "source": [
    "```python\n",
    "git_project = mlrun.load_project(\n",
    "    name=\"git-project\",\n",
    "    context=\"./git_project\",\n",
    "    url=\"git://github.com/mlrun/project-archive\",\n",
    "    clone=True\n",
    ")\n",
    "\n",
    "git_project.set_source(source=None, pull_at_runtime=True)\n",
    "```"
   ]
  },
  {
   "cell_type": "markdown",
   "id": "f9f5999c",
   "metadata": {},
   "source": [
    "Then, you can use `set_function` with `with_repo=True` create the function. In this case, there is a Python file called `job_func.py` in the root directory of the git repo:"
   ]
  },
  {
   "cell_type": "markdown",
   "id": "806f2a0b",
   "metadata": {},
   "source": [
    "```python\n",
    "git_fn = git_project.set_function(\n",
    "    name=\"git-function\",\n",
    "    func=\"./job_func.py\",\n",
    "    kind=\"job\",\n",
    "    image=\"mlrun/mlrun\",\n",
    "    handler=\"job_handler\",\n",
    "    with_repo=True\n",
    ")\n",
    "\n",
    "run = git_project.run_function(git_fn)\n",
    "```"
   ]
  },
  {
   "cell_type": "markdown",
   "id": "429b31d7",
   "metadata": {},
   "source": [
    "#### Archive (.zip/.tar)"
   ]
  },
  {
   "cell_type": "markdown",
   "id": "27d64eb7",
   "metadata": {},
   "source": [
    "Similar to the Git based approach, the archive is supplied when creating the project:"
   ]
  },
  {
   "cell_type": "markdown",
   "id": "b6799e72",
   "metadata": {},
   "source": [
    "```python\n",
    "archive_project = mlrun.load_project(\n",
    "    name=\"archive-project\",\n",
    "    context=\"./archive_project\",\n",
    "    url=\"https://s3.us-east-1.wasabisys.com/iguazio/project-archive/project-archive.zip\",\n",
    "    clone=True\n",
    ")\n",
    "\n",
    "archive_project.set_source(source=None, pull_at_runtime=True)\n",
    "```"
   ]
  },
  {
   "cell_type": "markdown",
   "id": "d053a867",
   "metadata": {},
   "source": [
    "Then, you can use `set_function` with `with_repo=True` create the function.\n",
    "> Note: In this case, there is a Python file called `job_func.py` in the root directory of the archive:"
   ]
  },
  {
   "cell_type": "markdown",
   "id": "9fa58f11",
   "metadata": {},
   "source": [
    "```python\n",
    "archive_fn = git_project.set_function(\n",
    "    name=\"archive-function\",\n",
    "    func=\"./job_func.py\",\n",
    "    kind=\"job\",\n",
    "    image=\"mlrun/mlrun\",\n",
    "    handler=\"job_handler\",\n",
    "    with_repo=True\n",
    ")\n",
    "\n",
    "run = archive_project.run_function(archive_fn)\n",
    "```"
   ]
  },
  {
   "cell_type": "markdown",
   "id": "5d59aac4",
   "metadata": {},
   "source": [
    "<a id=\"import-existing-function\"></a>\n",
    "### Import Existing Function (YAML, Function Marketplace, MLRun DB)"
   ]
  },
  {
   "cell_type": "markdown",
   "id": "3c2c7b6e",
   "metadata": {},
   "source": [
    "If you already have an MLRun function that you would like to import, you can do so from multiple locations such as YAML, function marketplace, and MLRun DB."
   ]
  },
  {
   "cell_type": "markdown",
   "id": "c08b6a6a",
   "metadata": {},
   "source": [
    "```python\n",
    "import_project = mlrun.new_project(name=\"import-project\", context=\"./import_project\", overwrite=True)\n",
    "```"
   ]
  },
  {
   "cell_type": "markdown",
   "id": "0cf2b5f2",
   "metadata": {},
   "source": [
    "#### YAML"
   ]
  },
  {
   "cell_type": "markdown",
   "id": "1718a30b",
   "metadata": {},
   "source": [
    "MLRun functions can be exported to YAML files via `fn.export()`. These YAML files can then be imported via the following:"
   ]
  },
  {
   "cell_type": "markdown",
   "id": "185088f9",
   "metadata": {},
   "source": [
    "```python\n",
    "yaml_fn = import_project.set_function(name=\"import\", func=\"function.yaml\")\n",
    "\n",
    "run = import_project.run_function(yaml_fn)\n",
    "```"
   ]
  },
  {
   "cell_type": "markdown",
   "id": "6866ab43",
   "metadata": {},
   "source": [
    "#### Function Marketplace"
   ]
  },
  {
   "cell_type": "markdown",
   "id": "3a51e96d",
   "metadata": {},
   "source": [
    "Functions can also be imported from the [MLRun Function Marketplace](https://www.mlrun.org/marketplace) - simply import via the name of the function and the `hub://` prefix:\n",
    "> Note: By default, the `hub://` prefix will point to the official marketplace, however you can also substitute your own repo to create your own marketplace"
   ]
  },
  {
   "cell_type": "markdown",
   "id": "eab9770d",
   "metadata": {},
   "source": [
    "```python\n",
    "marketplace_fn = import_project.set_function(name=\"describe\", func=\"hub://describe\")\n",
    "\n",
    "run = import_project.run_function(\n",
    "    function=marketplace_fn,\n",
    "    inputs={\n",
    "        \"table\" : \"https://s3.us-east-1.wasabisys.com/iguazio/data/iris/iris_dataset.csv\"\n",
    "    }\n",
    ")\n",
    "```"
   ]
  },
  {
   "cell_type": "markdown",
   "id": "e1823c5d",
   "metadata": {},
   "source": [
    "#### MLRun DB"
   ]
  },
  {
   "cell_type": "markdown",
   "id": "5ea6b66c",
   "metadata": {},
   "source": [
    "Finally, you can also import functions directly from the MLRun DB. These might be functions that have not been pushed to a git repo, archive, or function marketplace. Import via the name of the function and the `db://` prefix:"
   ]
  },
  {
   "cell_type": "markdown",
   "id": "328935ff",
   "metadata": {},
   "source": [
    "```python\n",
    "mlrun_db_fn = import_project.set_function(name=\"db\", func=\"db://import\")\n",
    "\n",
    "run = import_project.run_function(mlrun_db_fn)\n",
    "```"
   ]
  }
 ],
 "metadata": {
  "kernelspec": {
   "display_name": "Python [conda env:root] *",
   "language": "python",
   "name": "conda-root-py"
  },
  "language_info": {
   "codemirror_mode": {
    "name": "ipython",
    "version": 3
   },
   "file_extension": ".py",
   "mimetype": "text/x-python",
   "name": "python",
   "nbconvert_exporter": "python",
   "pygments_lexer": "ipython3",
   "version": "3.7.6"
  }
 },
 "nbformat": 4,
 "nbformat_minor": 5
}
