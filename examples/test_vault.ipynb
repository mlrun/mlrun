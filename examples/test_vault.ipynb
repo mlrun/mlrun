{
 "cells": [
  {
   "cell_type": "markdown",
   "metadata": {},
   "source": [
    "# MLRun secret handling using Vault - Demo\n",
    "\n",
    "This notebook demonstrates secret creation and handling in MLRun.\n"
   ]
  },
  {
   "cell_type": "code",
   "execution_count": null,
   "metadata": {},
   "outputs": [],
   "source": [
    "from mlrun import new_task, get_run_db, new_function, run_local\n",
    "import os\n",
    "from mlrun.utils import add_vault_project_secret, add_vault_user_secret\n",
    "from mlrun import mlconf, code_to_function, new_project"
   ]
  },
  {
   "cell_type": "markdown",
   "metadata": {},
   "source": [
    "## Create a project\n",
    "When a project is created, the `use_vault` parameter can be used to request that the underlying framework is created that will enable Vault secrets to be used with this project.\n",
    "When selected, calling `.store()` on the project will save the project in the MLRun DB and the following will be created for the project (if not already existing):\n",
    "\n",
    "1. A k8s serviceaccount \n",
    "2. A Vault policy that enables access to secrets in the project path (`/secrets/secret/projects/{proj name}`)\n",
    "3. A Vault k8s role that associates the SA's token with the policy\n",
    "\n",
    "These configurations are performed on the MLRun API server side, not from the client."
   ]
  },
  {
   "cell_type": "code",
   "execution_count": null,
   "metadata": {},
   "outputs": [],
   "source": [
    "proj_name = 'vault-mlrun'\n",
    "func_name = 'vault-func'\n",
    "\n",
    "proj = new_project(proj_name, use_vault=True)\n",
    "proj.save(to_db=True, to_file=False)"
   ]
  },
  {
   "cell_type": "markdown",
   "metadata": {},
   "source": [
    "The `create_vault_secrets` utility function allows creating project secrets, and will place them in the project secret path.\n",
    ">Note: This method runs on client-side, which means the computer hosting this notebook must have Vault connectivity (and access Token) for this to work."
   ]
  },
  {
   "cell_type": "code",
   "execution_count": null,
   "metadata": {},
   "outputs": [],
   "source": [
    "proj.create_vault_secrets({'aws_key': '1234567890', 'github_key': 'proj1Key!!!'})\n",
    "proj.get_vault_secret_keys()"
   ]
  },
  {
   "cell_type": "markdown",
   "metadata": {},
   "source": [
    "## Create and deploy a function"
   ]
  },
  {
   "cell_type": "code",
   "execution_count": null,
   "metadata": {},
   "outputs": [],
   "source": [
    "func_path = os.path.abspath(\"vault_function.py\")\n",
    "\n",
    "func = code_to_function(name=func_name,\n",
    "                        filename=func_path,\n",
    "                        handler='vault_func',\n",
    "                        project=proj_name,\n",
    "                        kind='job')\n",
    "\n",
    "func.doc()"
   ]
  },
  {
   "cell_type": "code",
   "execution_count": null,
   "metadata": {},
   "outputs": [],
   "source": [
    "func.spec.image = '.mlrun-vault-image'"
   ]
  },
  {
   "cell_type": "code",
   "execution_count": null,
   "metadata": {
    "jupyter": {
     "source_hidden": true
    },
    "scrolled": true
   },
   "outputs": [],
   "source": [
    "func.spec.build.base_image = 'saarcoiguazio/mlrun:unstable'\n",
    "func.spec.build.image = '.mlrun-vault-image'\n",
    "func.deploy()"
   ]
  },
  {
   "cell_type": "code",
   "execution_count": null,
   "metadata": {
    "jupyter": {
     "source_hidden": true
    }
   },
   "outputs": [],
   "source": [
    "from mlrun import import_function\n",
    "\n",
    "func = import_function(url='db://{}/{}'.format(proj_name,func_name))\n",
    "func.doc()"
   ]
  },
  {
   "cell_type": "markdown",
   "metadata": {},
   "source": [
    "## Initialize function runtime and execute\n",
    "The `.with_secrets` function has a '`vault`' secret kind that will pass the specified Vault project secrets to the function context. The function spec\n",
    "only contains the keys of the secrets ('aws_key' etc.) - the actual secret value is retrieved from Vault and planted in the function \n",
    "context in runtime."
   ]
  },
  {
   "cell_type": "code",
   "execution_count": null,
   "metadata": {},
   "outputs": [],
   "source": [
    "task = new_task(project=proj_name,\n",
    "                name='vault_test_run',\n",
    "                handler='vault_func',\n",
    "                params={'secrets':['password', 'github_key', 'aws_key']})\n",
    "\n",
    "# Add access to project-level secrets\n",
    "# task.with_secrets('vault', [\"aws_key\", \"github_key\"])\n",
    "task.with_secrets('vault', [])\n",
    "\n",
    "# Can also use the following code to add user-level secrets\n",
    "# task.with_secrets('vault', {\"user\": \"admin\", \"secrets\": [\"password\", \"user_id\"]})\n",
    "\n",
    "print(task.to_yaml())"
   ]
  },
  {
   "cell_type": "code",
   "execution_count": null,
   "metadata": {},
   "outputs": [],
   "source": [
    "result = func.run(task)"
   ]
  },
  {
   "cell_type": "markdown",
   "metadata": {},
   "source": [
    "## Run the same function in another project's context\n",
    "We will create a 2nd project, and assign different secret values to it. When the same function is executed in the new project's runtime context, it will get \n",
    "the new project's secrets. When running in this context, the function has no access to other projects' secrets."
   ]
  },
  {
   "cell_type": "code",
   "execution_count": null,
   "metadata": {},
   "outputs": [],
   "source": [
    "proj_name_2 = 'vault-mlrun-2'\n",
    "proj2 = new_project(proj_name_2, use_vault=True)\n",
    "proj2.save(to_db=True, to_file=False)\n",
    "proj2.create_vault_secrets({'aws_key': '0987654321', 'github_key': 'proj2Key???', 'password': 'myPassword'})"
   ]
  },
  {
   "cell_type": "code",
   "execution_count": null,
   "metadata": {},
   "outputs": [],
   "source": [
    "task2 = new_task(project=proj_name_2,\n",
    "                 name='vault_test_run_2',\n",
    "                 handler='vault_func',\n",
    "                 params={'secrets':['password', 'github_key', 'aws_key']})\n",
    "task2.with_secrets('vault', [\"aws_key\", \"github_key\", \"password\"])\n",
    "\n",
    "result = func.run(task2)"
   ]
  },
  {
   "cell_type": "code",
   "execution_count": null,
   "metadata": {
    "collapsed": false,
    "jupyter": {
     "outputs_hidden": false
    },
    "pycharm": {
     "name": "#%%\n"
    }
   },
   "outputs": [],
   "source": [
    "proj2.get_vault_secret_keys()"
   ]
  },
  {
   "cell_type": "code",
   "execution_count": null,
   "metadata": {},
   "outputs": [],
   "source": []
  }
 ],
 "metadata": {
  "kernelspec": {
   "display_name": "Python 3",
   "language": "python",
   "name": "python3"
  },
  "language_info": {
   "codemirror_mode": {
    "name": "ipython",
    "version": 3
   },
   "file_extension": ".py",
   "mimetype": "text/x-python",
   "name": "python",
   "nbconvert_exporter": "python",
   "pygments_lexer": "ipython3",
   "version": "3.8.5"
  }
 },
 "nbformat": 4,
 "nbformat_minor": 4
}