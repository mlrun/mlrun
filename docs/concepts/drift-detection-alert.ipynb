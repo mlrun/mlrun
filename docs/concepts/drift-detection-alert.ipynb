{
 "cells": [
  {
   "cell_type": "markdown",
   "id": "01045d45",
   "metadata": {},
   "source": [
    "# Configure a drift detection alert"
   ]
  },
  {
   "cell_type": "code",
   "execution_count": 19,
   "id": "6ad40d6d-d7f1-4810-9d27-45cbcaf803cb",
   "metadata": {},
   "outputs": [],
   "source": [
    "image = \"mlrun/mlrun\""
   ]
  },
  {
   "cell_type": "markdown",
   "id": "93221836",
   "metadata": {},
   "source": [
    "## Create the drift alert project"
   ]
  },
  {
   "cell_type": "code",
   "execution_count": 20,
   "id": "c548d350-83c5-4886-8f96-401c8c139b7a",
   "metadata": {},
   "outputs": [
    {
     "name": "stdout",
     "output_type": "stream",
     "text": [
      "> 2024-08-04 14:05:03,774 [info] Project loaded successfully: {\"project_name\":\"drift-alert-test-project\"}\n"
     ]
    }
   ],
   "source": [
    "%config Completer.use_jedi = False\n",
    "import os\n",
    "import pandas as pd\n",
    "from sklearn.datasets import load_iris\n",
    "import mlrun\n",
    "import mlrun.common.schemas.alert as alert_objects\n",
    "from mlrun import import_function, get_dataitem, get_or_create_project\n",
    "from mlrun.model_monitoring.helpers import get_result_instance_fqn\n",
    "\n",
    "project_name = \"drift-alert-test-project\"\n",
    "project = get_or_create_project(project_name, context=\"./\")"
   ]
  },
  {
   "cell_type": "markdown",
   "id": "78892e43",
   "metadata": {},
   "source": [
    "## Enable model montoring\n",
    "The default histogram data drift is disabled, since you will use a usr-defined monitorinf app later on."
   ]
  },
  {
   "cell_type": "code",
   "execution_count": 21,
   "id": "ccfbc8e5-2390-48b9-bb45-6994c4309170",
   "metadata": {
    "tags": []
   },
   "outputs": [],
   "source": [
    "project.enable_model_monitoring(base_period=1,image=image,deploy_histogram_data_drift_app=False)"
   ]
  },
  {
   "cell_type": "markdown",
   "id": "cc20eb52",
   "metadata": {},
   "source": [
    "## Download a pre-trained model and load it"
   ]
  },
  {
   "cell_type": "code",
   "execution_count": 22,
   "id": "ee81d857-7c02-4687-bb3d-92f0f3e05c51",
   "metadata": {
    "tags": []
   },
   "outputs": [
    {
     "data": {
      "text/plain": [
       "<mlrun.artifacts.model.ModelArtifact at 0x7fca308edf40>"
      ]
     },
     "execution_count": 22,
     "metadata": {},
     "output_type": "execute_result"
    }
   ],
   "source": [
    "# Download the pre-trained Iris model\n",
    "# get_dataitem(\"https://s3.wasabisys.com/iguazio/models/iris/model.pkl\").download(\"model.pkl\")\n",
    "\n",
    "iris = load_iris()\n",
    "train_set = pd.DataFrame(\n",
    "    iris[\"data\"],\n",
    "    columns=[\"sepal_length_cm\", \"sepal_width_cm\", \"petal_length_cm\", \"petal_width_cm\"],\n",
    ")\n",
    "\n",
    "model_name = \"RandomForestClassifier\"\n",
    "\n",
    "# Log the model through the projects API so that it is available through the feature store API\n",
    "# TODO: log training dataset\n",
    "project.log_model(model_name, model_file=\"model-iris.pkl\", training_set=train_set)"
   ]
  },
  {
   "cell_type": "markdown",
   "id": "1f1993e5-94c8-472d-b026-e1f6e5f89297",
   "metadata": {
    "tags": []
   },
   "source": [
    "## Deploy the serving function"
   ]
  },
  {
   "cell_type": "code",
   "execution_count": 23,
   "id": "c9ea9061-00d8-4914-b4a5-90c0beb23180",
   "metadata": {},
   "outputs": [],
   "source": [
    "def deply_serv(image=None, key=\"my_model\", model_name=\"RandomForestClassifier\"):\n",
    "    # Import the serving function from the function hub\n",
    "    serving_fn = import_function(\n",
    "        \"hub://v2_model_server\", project=project_name, new_name=\"serving\"\n",
    "    )\n",
    "\n",
    "    # Add the model to the serving function's routing spec\n",
    "    serving_fn.add_model(\n",
    "        model_name, model_path=f\"store://models/{project_name}/{model_name}:latest\"\n",
    "    )\n",
    "\n",
    "    serving_fn.set_tracking()\n",
    "    serving_fn.spec.build.image = image\n",
    "    serving_fn.spec.image = image\n",
    "    serving_fn.spec.build.requirements = [\"scikit-learn\"]\n",
    "\n",
    "    # Deploy the function\n",
    "    serving_fn.deploy()\n",
    "    return serving_fn"
   ]
  },
  {
   "cell_type": "code",
   "execution_count": 24,
   "id": "df6a3cfc-e676-45f4-b816-f3293ff46785",
   "metadata": {},
   "outputs": [
    {
     "name": "stdout",
     "output_type": "stream",
     "text": [
      "> 2024-08-04 14:05:17,170 [info] Starting remote function deploy\n",
      "2024-08-04 14:05:17  (info) Deploying function\n",
      "2024-08-04 14:05:17  (info) Building\n",
      "2024-08-04 14:05:17  (info) Staging files and preparing base images\n",
      "2024-08-04 14:05:17  (warn) Using user provided base image, runtime interpreter version is provided by the base image\n",
      "2024-08-04 14:05:17  (info) Building processor image\n",
      "2024-08-04 14:06:22  (info) Build complete\n",
      "2024-08-04 14:06:30  (info) Function deploy complete\n",
      "> 2024-08-04 14:06:38,111 [info] Successfully deployed function: {\"external_invocation_urls\":[\"drift-alert-test-project-serving.default-tenant.app.vmdev94.lab.iguazeng.com/\"],\"internal_invocation_urls\":[\"nuclio-drift-alert-test-project-serving.default-tenant.svc.cluster.local:8080\"]}\n"
     ]
    }
   ],
   "source": [
    "serving_fn = deply_serv(image=image)"
   ]
  },
  {
   "cell_type": "markdown",
   "id": "5781739f",
   "metadata": {},
   "source": [
    "## Configure the notification"
   ]
  },
  {
   "cell_type": "code",
   "execution_count": 25,
   "id": "606db0d5-42b4-4d48-83a3-898583ae55a4",
   "metadata": {},
   "outputs": [
    {
     "data": {
      "text/plain": [
       "<mlrun.alerts.alert.AlertConfig at 0x7fca305f5430>"
      ]
     },
     "execution_count": 25,
     "metadata": {},
     "output_type": "execute_result"
    }
   ],
   "source": [
    "notification = mlrun.model.Notification(\n",
    "            kind=\"slack\",\n",
    "            name=\"slack_notification\",\n",
    "            message=\"A drift was detected\",\n",
    "            severity=\"warning\",\n",
    "            when=[\"now\"],\n",
    "            condition=\"failed\",\n",
    "            secret_params={\n",
    "                \"webhook\": \"https://hooks.slack.com/\",\n",
    "            },\n",
    "        ).to_dict()\n",
    "\n",
    "endpoints = mlrun.get_run_db().list_model_endpoints(project=project_name)\n",
    "endpoint_id = endpoints[0].metadata.uid\n",
    "result_endpoint = get_result_instance_fqn(endpoint_id, \"myappv2\", \"data_drift_test\")\n",
    "notifications = [alert_objects.AlertNotification(notification=notification)]\n",
    "alert_name=\"drift_alert\"\n",
    "alert_summary=\"A drift was detected\"\n",
    "entity_kind = alert_objects.EventEntityKind.MODEL_ENDPOINT_RESULT\n",
    "event_name = alert_objects.EventKind.DATA_DRIFT_DETECTED\n",
    "alert_data = mlrun.alerts.alert.AlertConfig(\n",
    "            project=project_name,\n",
    "            name=alert_name,\n",
    "            summary=alert_summary,\n",
    "            severity=alert_objects.AlertSeverity.LOW,\n",
    "            entities=alert_objects.EventEntities(\n",
    "                kind=entity_kind, project=project_name, ids=[result_endpoint]\n",
    "            ),\n",
    "            trigger=alert_objects.AlertTrigger(events=[event_name]),\n",
    "            criteria=None,\n",
    "            notifications=notifications,\n",
    "        )\n",
    "\n",
    "project.store_alert_config(alert_data)"
   ]
  },
  {
   "cell_type": "markdown",
   "id": "c1386e06-5bd0-4206-84a1-73d88dcf1bbb",
   "metadata": {
    "tags": []
   },
   "source": [
    "## Invoke the model"
   ]
  },
  {
   "cell_type": "code",
   "execution_count": 26,
   "id": "d56d6d94-f40a-43d8-b9bf-9a6a8ca401b2",
   "metadata": {
    "scrolled": true,
    "tags": []
   },
   "outputs": [
    {
     "name": "stdout",
     "output_type": "stream",
     "text": [
      "> 2024-08-04 14:07:40,073 [info] Invoking function: {\"method\":\"POST\",\"path\":\"http://nuclio-drift-alert-test-project-serving.default-tenant.svc.cluster.local:8080/v2/models/RandomForestClassifier/infer\"}\n",
      "> 2024-08-04 14:07:40,316 [info] Invoking function: {\"method\":\"POST\",\"path\":\"http://nuclio-drift-alert-test-project-serving.default-tenant.svc.cluster.local:8080/v2/models/RandomForestClassifier/infer\"}\n",
      "> 2024-08-04 14:07:40,340 [info] Invoking function: {\"method\":\"POST\",\"path\":\"http://nuclio-drift-alert-test-project-serving.default-tenant.svc.cluster.local:8080/v2/models/RandomForestClassifier/infer\"}\n",
      "> 2024-08-04 14:07:40,394 [info] Invoking function: {\"method\":\"POST\",\"path\":\"http://nuclio-drift-alert-test-project-serving.default-tenant.svc.cluster.local:8080/v2/models/RandomForestClassifier/infer\"}\n",
      "> 2024-08-04 14:07:40,419 [info] Invoking function: {\"method\":\"POST\",\"path\":\"http://nuclio-drift-alert-test-project-serving.default-tenant.svc.cluster.local:8080/v2/models/RandomForestClassifier/infer\"}\n",
      "> 2024-08-04 14:07:40,445 [info] Invoking function: {\"method\":\"POST\",\"path\":\"http://nuclio-drift-alert-test-project-serving.default-tenant.svc.cluster.local:8080/v2/models/RandomForestClassifier/infer\"}\n",
      "> 2024-08-04 14:07:40,500 [info] Invoking function: {\"method\":\"POST\",\"path\":\"http://nuclio-drift-alert-test-project-serving.default-tenant.svc.cluster.local:8080/v2/models/RandomForestClassifier/infer\"}\n",
      "> 2024-08-04 14:07:40,525 [info] Invoking function: {\"method\":\"POST\",\"path\":\"http://nuclio-drift-alert-test-project-serving.default-tenant.svc.cluster.local:8080/v2/models/RandomForestClassifier/infer\"}\n",
      "> 2024-08-04 14:07:40,550 [info] Invoking function: {\"method\":\"POST\",\"path\":\"http://nuclio-drift-alert-test-project-serving.default-tenant.svc.cluster.local:8080/v2/models/RandomForestClassifier/infer\"}\n",
      "> 2024-08-04 14:07:40,604 [info] Invoking function: {\"method\":\"POST\",\"path\":\"http://nuclio-drift-alert-test-project-serving.default-tenant.svc.cluster.local:8080/v2/models/RandomForestClassifier/infer\"}\n",
      "> 2024-08-04 14:07:40,628 [info] Invoking function: {\"method\":\"POST\",\"path\":\"http://nuclio-drift-alert-test-project-serving.default-tenant.svc.cluster.local:8080/v2/models/RandomForestClassifier/infer\"}\n",
      "> 2024-08-04 14:07:40,651 [info] Invoking function: {\"method\":\"POST\",\"path\":\"http://nuclio-drift-alert-test-project-serving.default-tenant.svc.cluster.local:8080/v2/models/RandomForestClassifier/infer\"}\n",
      "> 2024-08-04 14:07:40,704 [info] Invoking function: {\"method\":\"POST\",\"path\":\"http://nuclio-drift-alert-test-project-serving.default-tenant.svc.cluster.local:8080/v2/models/RandomForestClassifier/infer\"}\n",
      "> 2024-08-04 14:07:40,727 [info] Invoking function: {\"method\":\"POST\",\"path\":\"http://nuclio-drift-alert-test-project-serving.default-tenant.svc.cluster.local:8080/v2/models/RandomForestClassifier/infer\"}\n",
      "> 2024-08-04 14:07:40,780 [info] Invoking function: {\"method\":\"POST\",\"path\":\"http://nuclio-drift-alert-test-project-serving.default-tenant.svc.cluster.local:8080/v2/models/RandomForestClassifier/infer\"}\n",
      "> 2024-08-04 14:07:40,803 [info] Invoking function: {\"method\":\"POST\",\"path\":\"http://nuclio-drift-alert-test-project-serving.default-tenant.svc.cluster.local:8080/v2/models/RandomForestClassifier/infer\"}\n",
      "> 2024-08-04 14:07:40,857 [info] Invoking function: {\"method\":\"POST\",\"path\":\"http://nuclio-drift-alert-test-project-serving.default-tenant.svc.cluster.local:8080/v2/models/RandomForestClassifier/infer\"}\n",
      "> 2024-08-04 14:07:40,879 [info] Invoking function: {\"method\":\"POST\",\"path\":\"http://nuclio-drift-alert-test-project-serving.default-tenant.svc.cluster.local:8080/v2/models/RandomForestClassifier/infer\"}\n",
      "> 2024-08-04 14:07:40,903 [info] Invoking function: {\"method\":\"POST\",\"path\":\"http://nuclio-drift-alert-test-project-serving.default-tenant.svc.cluster.local:8080/v2/models/RandomForestClassifier/infer\"}\n",
      "> 2024-08-04 14:07:40,955 [info] Invoking function: {\"method\":\"POST\",\"path\":\"http://nuclio-drift-alert-test-project-serving.default-tenant.svc.cluster.local:8080/v2/models/RandomForestClassifier/infer\"}\n",
      "> 2024-08-04 14:07:41,009 [info] Invoking function: {\"method\":\"POST\",\"path\":\"http://nuclio-drift-alert-test-project-serving.default-tenant.svc.cluster.local:8080/v2/models/RandomForestClassifier/infer\"}\n",
      "> 2024-08-04 14:07:41,033 [info] Invoking function: {\"method\":\"POST\",\"path\":\"http://nuclio-drift-alert-test-project-serving.default-tenant.svc.cluster.local:8080/v2/models/RandomForestClassifier/infer\"}\n",
      "> 2024-08-04 14:07:41,058 [info] Invoking function: {\"method\":\"POST\",\"path\":\"http://nuclio-drift-alert-test-project-serving.default-tenant.svc.cluster.local:8080/v2/models/RandomForestClassifier/infer\"}\n",
      "> 2024-08-04 14:07:41,111 [info] Invoking function: {\"method\":\"POST\",\"path\":\"http://nuclio-drift-alert-test-project-serving.default-tenant.svc.cluster.local:8080/v2/models/RandomForestClassifier/infer\"}\n",
      "> 2024-08-04 14:07:41,167 [info] Invoking function: {\"method\":\"POST\",\"path\":\"http://nuclio-drift-alert-test-project-serving.default-tenant.svc.cluster.local:8080/v2/models/RandomForestClassifier/infer\"}\n",
      "> 2024-08-04 14:07:41,191 [info] Invoking function: {\"method\":\"POST\",\"path\":\"http://nuclio-drift-alert-test-project-serving.default-tenant.svc.cluster.local:8080/v2/models/RandomForestClassifier/infer\"}\n",
      "> 2024-08-04 14:07:41,214 [info] Invoking function: {\"method\":\"POST\",\"path\":\"http://nuclio-drift-alert-test-project-serving.default-tenant.svc.cluster.local:8080/v2/models/RandomForestClassifier/infer\"}\n",
      "> 2024-08-04 14:07:41,237 [info] Invoking function: {\"method\":\"POST\",\"path\":\"http://nuclio-drift-alert-test-project-serving.default-tenant.svc.cluster.local:8080/v2/models/RandomForestClassifier/infer\"}\n",
      "> 2024-08-04 14:07:41,259 [info] Invoking function: {\"method\":\"POST\",\"path\":\"http://nuclio-drift-alert-test-project-serving.default-tenant.svc.cluster.local:8080/v2/models/RandomForestClassifier/infer\"}\n",
      "> 2024-08-04 14:07:41,282 [info] Invoking function: {\"method\":\"POST\",\"path\":\"http://nuclio-drift-alert-test-project-serving.default-tenant.svc.cluster.local:8080/v2/models/RandomForestClassifier/infer\"}\n",
      "> 2024-08-04 14:07:41,335 [info] Invoking function: {\"method\":\"POST\",\"path\":\"http://nuclio-drift-alert-test-project-serving.default-tenant.svc.cluster.local:8080/v2/models/RandomForestClassifier/infer\"}\n",
      "> 2024-08-04 14:07:41,358 [info] Invoking function: {\"method\":\"POST\",\"path\":\"http://nuclio-drift-alert-test-project-serving.default-tenant.svc.cluster.local:8080/v2/models/RandomForestClassifier/infer\"}\n",
      "> 2024-08-04 14:07:41,411 [info] Invoking function: {\"method\":\"POST\",\"path\":\"http://nuclio-drift-alert-test-project-serving.default-tenant.svc.cluster.local:8080/v2/models/RandomForestClassifier/infer\"}\n",
      "> 2024-08-04 14:07:41,464 [info] Invoking function: {\"method\":\"POST\",\"path\":\"http://nuclio-drift-alert-test-project-serving.default-tenant.svc.cluster.local:8080/v2/models/RandomForestClassifier/infer\"}\n",
      "> 2024-08-04 14:07:41,489 [info] Invoking function: {\"method\":\"POST\",\"path\":\"http://nuclio-drift-alert-test-project-serving.default-tenant.svc.cluster.local:8080/v2/models/RandomForestClassifier/infer\"}\n",
      "> 2024-08-04 14:07:41,512 [info] Invoking function: {\"method\":\"POST\",\"path\":\"http://nuclio-drift-alert-test-project-serving.default-tenant.svc.cluster.local:8080/v2/models/RandomForestClassifier/infer\"}\n",
      "> 2024-08-04 14:07:41,535 [info] Invoking function: {\"method\":\"POST\",\"path\":\"http://nuclio-drift-alert-test-project-serving.default-tenant.svc.cluster.local:8080/v2/models/RandomForestClassifier/infer\"}\n",
      "> 2024-08-04 14:07:41,560 [info] Invoking function: {\"method\":\"POST\",\"path\":\"http://nuclio-drift-alert-test-project-serving.default-tenant.svc.cluster.local:8080/v2/models/RandomForestClassifier/infer\"}\n",
      "> 2024-08-04 14:07:41,614 [info] Invoking function: {\"method\":\"POST\",\"path\":\"http://nuclio-drift-alert-test-project-serving.default-tenant.svc.cluster.local:8080/v2/models/RandomForestClassifier/infer\"}\n",
      "> 2024-08-04 14:07:41,637 [info] Invoking function: {\"method\":\"POST\",\"path\":\"http://nuclio-drift-alert-test-project-serving.default-tenant.svc.cluster.local:8080/v2/models/RandomForestClassifier/infer\"}\n",
      "> 2024-08-04 14:07:41,690 [info] Invoking function: {\"method\":\"POST\",\"path\":\"http://nuclio-drift-alert-test-project-serving.default-tenant.svc.cluster.local:8080/v2/models/RandomForestClassifier/infer\"}\n",
      "> 2024-08-04 14:07:41,718 [info] Invoking function: {\"method\":\"POST\",\"path\":\"http://nuclio-drift-alert-test-project-serving.default-tenant.svc.cluster.local:8080/v2/models/RandomForestClassifier/infer\"}\n",
      "> 2024-08-04 14:07:41,773 [info] Invoking function: {\"method\":\"POST\",\"path\":\"http://nuclio-drift-alert-test-project-serving.default-tenant.svc.cluster.local:8080/v2/models/RandomForestClassifier/infer\"}\n",
      "> 2024-08-04 14:07:41,797 [info] Invoking function: {\"method\":\"POST\",\"path\":\"http://nuclio-drift-alert-test-project-serving.default-tenant.svc.cluster.local:8080/v2/models/RandomForestClassifier/infer\"}\n",
      "> 2024-08-04 14:07:41,821 [info] Invoking function: {\"method\":\"POST\",\"path\":\"http://nuclio-drift-alert-test-project-serving.default-tenant.svc.cluster.local:8080/v2/models/RandomForestClassifier/infer\"}\n",
      "> 2024-08-04 14:07:41,874 [info] Invoking function: {\"method\":\"POST\",\"path\":\"http://nuclio-drift-alert-test-project-serving.default-tenant.svc.cluster.local:8080/v2/models/RandomForestClassifier/infer\"}\n",
      "> 2024-08-04 14:07:41,899 [info] Invoking function: {\"method\":\"POST\",\"path\":\"http://nuclio-drift-alert-test-project-serving.default-tenant.svc.cluster.local:8080/v2/models/RandomForestClassifier/infer\"}\n",
      "> 2024-08-04 14:07:41,954 [info] Invoking function: {\"method\":\"POST\",\"path\":\"http://nuclio-drift-alert-test-project-serving.default-tenant.svc.cluster.local:8080/v2/models/RandomForestClassifier/infer\"}\n",
      "> 2024-08-04 14:07:42,009 [info] Invoking function: {\"method\":\"POST\",\"path\":\"http://nuclio-drift-alert-test-project-serving.default-tenant.svc.cluster.local:8080/v2/models/RandomForestClassifier/infer\"}\n",
      "> 2024-08-04 14:07:42,062 [info] Invoking function: {\"method\":\"POST\",\"path\":\"http://nuclio-drift-alert-test-project-serving.default-tenant.svc.cluster.local:8080/v2/models/RandomForestClassifier/infer\"}\n",
      "> 2024-08-04 14:07:42,086 [info] Invoking function: {\"method\":\"POST\",\"path\":\"http://nuclio-drift-alert-test-project-serving.default-tenant.svc.cluster.local:8080/v2/models/RandomForestClassifier/infer\"}\n",
      "> 2024-08-04 14:07:42,140 [info] Invoking function: {\"method\":\"POST\",\"path\":\"http://nuclio-drift-alert-test-project-serving.default-tenant.svc.cluster.local:8080/v2/models/RandomForestClassifier/infer\"}\n",
      "> 2024-08-04 14:07:42,165 [info] Invoking function: {\"method\":\"POST\",\"path\":\"http://nuclio-drift-alert-test-project-serving.default-tenant.svc.cluster.local:8080/v2/models/RandomForestClassifier/infer\"}\n",
      "> 2024-08-04 14:07:42,223 [info] Invoking function: {\"method\":\"POST\",\"path\":\"http://nuclio-drift-alert-test-project-serving.default-tenant.svc.cluster.local:8080/v2/models/RandomForestClassifier/infer\"}\n",
      "> 2024-08-04 14:07:42,280 [info] Invoking function: {\"method\":\"POST\",\"path\":\"http://nuclio-drift-alert-test-project-serving.default-tenant.svc.cluster.local:8080/v2/models/RandomForestClassifier/infer\"}\n",
      "> 2024-08-04 14:07:42,310 [info] Invoking function: {\"method\":\"POST\",\"path\":\"http://nuclio-drift-alert-test-project-serving.default-tenant.svc.cluster.local:8080/v2/models/RandomForestClassifier/infer\"}\n",
      "> 2024-08-04 14:07:42,335 [info] Invoking function: {\"method\":\"POST\",\"path\":\"http://nuclio-drift-alert-test-project-serving.default-tenant.svc.cluster.local:8080/v2/models/RandomForestClassifier/infer\"}\n",
      "> 2024-08-04 14:07:42,388 [info] Invoking function: {\"method\":\"POST\",\"path\":\"http://nuclio-drift-alert-test-project-serving.default-tenant.svc.cluster.local:8080/v2/models/RandomForestClassifier/infer\"}\n",
      "> 2024-08-04 14:07:42,413 [info] Invoking function: {\"method\":\"POST\",\"path\":\"http://nuclio-drift-alert-test-project-serving.default-tenant.svc.cluster.local:8080/v2/models/RandomForestClassifier/infer\"}\n",
      "> 2024-08-04 14:07:42,473 [info] Invoking function: {\"method\":\"POST\",\"path\":\"http://nuclio-drift-alert-test-project-serving.default-tenant.svc.cluster.local:8080/v2/models/RandomForestClassifier/infer\"}\n",
      "> 2024-08-04 14:07:42,500 [info] Invoking function: {\"method\":\"POST\",\"path\":\"http://nuclio-drift-alert-test-project-serving.default-tenant.svc.cluster.local:8080/v2/models/RandomForestClassifier/infer\"}\n",
      "> 2024-08-04 14:07:42,530 [info] Invoking function: {\"method\":\"POST\",\"path\":\"http://nuclio-drift-alert-test-project-serving.default-tenant.svc.cluster.local:8080/v2/models/RandomForestClassifier/infer\"}\n",
      "> 2024-08-04 14:07:42,553 [info] Invoking function: {\"method\":\"POST\",\"path\":\"http://nuclio-drift-alert-test-project-serving.default-tenant.svc.cluster.local:8080/v2/models/RandomForestClassifier/infer\"}\n",
      "> 2024-08-04 14:07:42,606 [info] Invoking function: {\"method\":\"POST\",\"path\":\"http://nuclio-drift-alert-test-project-serving.default-tenant.svc.cluster.local:8080/v2/models/RandomForestClassifier/infer\"}\n",
      "> 2024-08-04 14:07:42,660 [info] Invoking function: {\"method\":\"POST\",\"path\":\"http://nuclio-drift-alert-test-project-serving.default-tenant.svc.cluster.local:8080/v2/models/RandomForestClassifier/infer\"}\n",
      "> 2024-08-04 14:07:42,685 [info] Invoking function: {\"method\":\"POST\",\"path\":\"http://nuclio-drift-alert-test-project-serving.default-tenant.svc.cluster.local:8080/v2/models/RandomForestClassifier/infer\"}\n",
      "> 2024-08-04 14:07:42,737 [info] Invoking function: {\"method\":\"POST\",\"path\":\"http://nuclio-drift-alert-test-project-serving.default-tenant.svc.cluster.local:8080/v2/models/RandomForestClassifier/infer\"}\n",
      "> 2024-08-04 14:07:42,765 [info] Invoking function: {\"method\":\"POST\",\"path\":\"http://nuclio-drift-alert-test-project-serving.default-tenant.svc.cluster.local:8080/v2/models/RandomForestClassifier/infer\"}\n",
      "> 2024-08-04 14:07:42,819 [info] Invoking function: {\"method\":\"POST\",\"path\":\"http://nuclio-drift-alert-test-project-serving.default-tenant.svc.cluster.local:8080/v2/models/RandomForestClassifier/infer\"}\n",
      "> 2024-08-04 14:07:42,872 [info] Invoking function: {\"method\":\"POST\",\"path\":\"http://nuclio-drift-alert-test-project-serving.default-tenant.svc.cluster.local:8080/v2/models/RandomForestClassifier/infer\"}\n",
      "> 2024-08-04 14:07:42,926 [info] Invoking function: {\"method\":\"POST\",\"path\":\"http://nuclio-drift-alert-test-project-serving.default-tenant.svc.cluster.local:8080/v2/models/RandomForestClassifier/infer\"}\n",
      "> 2024-08-04 14:07:42,949 [info] Invoking function: {\"method\":\"POST\",\"path\":\"http://nuclio-drift-alert-test-project-serving.default-tenant.svc.cluster.local:8080/v2/models/RandomForestClassifier/infer\"}\n",
      "> 2024-08-04 14:07:42,972 [info] Invoking function: {\"method\":\"POST\",\"path\":\"http://nuclio-drift-alert-test-project-serving.default-tenant.svc.cluster.local:8080/v2/models/RandomForestClassifier/infer\"}\n",
      "> 2024-08-04 14:07:43,025 [info] Invoking function: {\"method\":\"POST\",\"path\":\"http://nuclio-drift-alert-test-project-serving.default-tenant.svc.cluster.local:8080/v2/models/RandomForestClassifier/infer\"}\n",
      "> 2024-08-04 14:07:43,051 [info] Invoking function: {\"method\":\"POST\",\"path\":\"http://nuclio-drift-alert-test-project-serving.default-tenant.svc.cluster.local:8080/v2/models/RandomForestClassifier/infer\"}\n",
      "> 2024-08-04 14:07:43,104 [info] Invoking function: {\"method\":\"POST\",\"path\":\"http://nuclio-drift-alert-test-project-serving.default-tenant.svc.cluster.local:8080/v2/models/RandomForestClassifier/infer\"}\n",
      "> 2024-08-04 14:07:43,157 [info] Invoking function: {\"method\":\"POST\",\"path\":\"http://nuclio-drift-alert-test-project-serving.default-tenant.svc.cluster.local:8080/v2/models/RandomForestClassifier/infer\"}\n",
      "> 2024-08-04 14:07:43,180 [info] Invoking function: {\"method\":\"POST\",\"path\":\"http://nuclio-drift-alert-test-project-serving.default-tenant.svc.cluster.local:8080/v2/models/RandomForestClassifier/infer\"}\n",
      "> 2024-08-04 14:07:43,236 [info] Invoking function: {\"method\":\"POST\",\"path\":\"http://nuclio-drift-alert-test-project-serving.default-tenant.svc.cluster.local:8080/v2/models/RandomForestClassifier/infer\"}\n",
      "> 2024-08-04 14:07:43,265 [info] Invoking function: {\"method\":\"POST\",\"path\":\"http://nuclio-drift-alert-test-project-serving.default-tenant.svc.cluster.local:8080/v2/models/RandomForestClassifier/infer\"}\n",
      "> 2024-08-04 14:07:43,319 [info] Invoking function: {\"method\":\"POST\",\"path\":\"http://nuclio-drift-alert-test-project-serving.default-tenant.svc.cluster.local:8080/v2/models/RandomForestClassifier/infer\"}\n",
      "> 2024-08-04 14:07:43,372 [info] Invoking function: {\"method\":\"POST\",\"path\":\"http://nuclio-drift-alert-test-project-serving.default-tenant.svc.cluster.local:8080/v2/models/RandomForestClassifier/infer\"}\n",
      "> 2024-08-04 14:07:43,425 [info] Invoking function: {\"method\":\"POST\",\"path\":\"http://nuclio-drift-alert-test-project-serving.default-tenant.svc.cluster.local:8080/v2/models/RandomForestClassifier/infer\"}\n",
      "> 2024-08-04 14:07:43,478 [info] Invoking function: {\"method\":\"POST\",\"path\":\"http://nuclio-drift-alert-test-project-serving.default-tenant.svc.cluster.local:8080/v2/models/RandomForestClassifier/infer\"}\n",
      "> 2024-08-04 14:07:43,502 [info] Invoking function: {\"method\":\"POST\",\"path\":\"http://nuclio-drift-alert-test-project-serving.default-tenant.svc.cluster.local:8080/v2/models/RandomForestClassifier/infer\"}\n",
      "> 2024-08-04 14:07:43,525 [info] Invoking function: {\"method\":\"POST\",\"path\":\"http://nuclio-drift-alert-test-project-serving.default-tenant.svc.cluster.local:8080/v2/models/RandomForestClassifier/infer\"}\n",
      "> 2024-08-04 14:07:43,578 [info] Invoking function: {\"method\":\"POST\",\"path\":\"http://nuclio-drift-alert-test-project-serving.default-tenant.svc.cluster.local:8080/v2/models/RandomForestClassifier/infer\"}\n",
      "> 2024-08-04 14:07:43,605 [info] Invoking function: {\"method\":\"POST\",\"path\":\"http://nuclio-drift-alert-test-project-serving.default-tenant.svc.cluster.local:8080/v2/models/RandomForestClassifier/infer\"}\n",
      "> 2024-08-04 14:07:43,629 [info] Invoking function: {\"method\":\"POST\",\"path\":\"http://nuclio-drift-alert-test-project-serving.default-tenant.svc.cluster.local:8080/v2/models/RandomForestClassifier/infer\"}\n",
      "> 2024-08-04 14:07:43,682 [info] Invoking function: {\"method\":\"POST\",\"path\":\"http://nuclio-drift-alert-test-project-serving.default-tenant.svc.cluster.local:8080/v2/models/RandomForestClassifier/infer\"}\n",
      "> 2024-08-04 14:07:43,707 [info] Invoking function: {\"method\":\"POST\",\"path\":\"http://nuclio-drift-alert-test-project-serving.default-tenant.svc.cluster.local:8080/v2/models/RandomForestClassifier/infer\"}\n",
      "> 2024-08-04 14:07:43,730 [info] Invoking function: {\"method\":\"POST\",\"path\":\"http://nuclio-drift-alert-test-project-serving.default-tenant.svc.cluster.local:8080/v2/models/RandomForestClassifier/infer\"}\n",
      "> 2024-08-04 14:07:43,754 [info] Invoking function: {\"method\":\"POST\",\"path\":\"http://nuclio-drift-alert-test-project-serving.default-tenant.svc.cluster.local:8080/v2/models/RandomForestClassifier/infer\"}\n",
      "> 2024-08-04 14:07:43,808 [info] Invoking function: {\"method\":\"POST\",\"path\":\"http://nuclio-drift-alert-test-project-serving.default-tenant.svc.cluster.local:8080/v2/models/RandomForestClassifier/infer\"}\n",
      "> 2024-08-04 14:07:43,833 [info] Invoking function: {\"method\":\"POST\",\"path\":\"http://nuclio-drift-alert-test-project-serving.default-tenant.svc.cluster.local:8080/v2/models/RandomForestClassifier/infer\"}\n",
      "> 2024-08-04 14:07:43,856 [info] Invoking function: {\"method\":\"POST\",\"path\":\"http://nuclio-drift-alert-test-project-serving.default-tenant.svc.cluster.local:8080/v2/models/RandomForestClassifier/infer\"}\n",
      "> 2024-08-04 14:07:43,909 [info] Invoking function: {\"method\":\"POST\",\"path\":\"http://nuclio-drift-alert-test-project-serving.default-tenant.svc.cluster.local:8080/v2/models/RandomForestClassifier/infer\"}\n",
      "> 2024-08-04 14:07:43,963 [info] Invoking function: {\"method\":\"POST\",\"path\":\"http://nuclio-drift-alert-test-project-serving.default-tenant.svc.cluster.local:8080/v2/models/RandomForestClassifier/infer\"}\n",
      "> 2024-08-04 14:07:43,988 [info] Invoking function: {\"method\":\"POST\",\"path\":\"http://nuclio-drift-alert-test-project-serving.default-tenant.svc.cluster.local:8080/v2/models/RandomForestClassifier/infer\"}\n",
      "> 2024-08-04 14:07:44,043 [info] Invoking function: {\"method\":\"POST\",\"path\":\"http://nuclio-drift-alert-test-project-serving.default-tenant.svc.cluster.local:8080/v2/models/RandomForestClassifier/infer\"}\n",
      "> 2024-08-04 14:07:44,098 [info] Invoking function: {\"method\":\"POST\",\"path\":\"http://nuclio-drift-alert-test-project-serving.default-tenant.svc.cluster.local:8080/v2/models/RandomForestClassifier/infer\"}\n",
      "> 2024-08-04 14:07:44,152 [info] Invoking function: {\"method\":\"POST\",\"path\":\"http://nuclio-drift-alert-test-project-serving.default-tenant.svc.cluster.local:8080/v2/models/RandomForestClassifier/infer\"}\n",
      "> 2024-08-04 14:07:44,177 [info] Invoking function: {\"method\":\"POST\",\"path\":\"http://nuclio-drift-alert-test-project-serving.default-tenant.svc.cluster.local:8080/v2/models/RandomForestClassifier/infer\"}\n",
      "> 2024-08-04 14:07:44,231 [info] Invoking function: {\"method\":\"POST\",\"path\":\"http://nuclio-drift-alert-test-project-serving.default-tenant.svc.cluster.local:8080/v2/models/RandomForestClassifier/infer\"}\n",
      "> 2024-08-04 14:07:44,287 [info] Invoking function: {\"method\":\"POST\",\"path\":\"http://nuclio-drift-alert-test-project-serving.default-tenant.svc.cluster.local:8080/v2/models/RandomForestClassifier/infer\"}\n",
      "> 2024-08-04 14:07:44,310 [info] Invoking function: {\"method\":\"POST\",\"path\":\"http://nuclio-drift-alert-test-project-serving.default-tenant.svc.cluster.local:8080/v2/models/RandomForestClassifier/infer\"}\n",
      "> 2024-08-04 14:07:44,368 [info] Invoking function: {\"method\":\"POST\",\"path\":\"http://nuclio-drift-alert-test-project-serving.default-tenant.svc.cluster.local:8080/v2/models/RandomForestClassifier/infer\"}\n",
      "> 2024-08-04 14:07:44,395 [info] Invoking function: {\"method\":\"POST\",\"path\":\"http://nuclio-drift-alert-test-project-serving.default-tenant.svc.cluster.local:8080/v2/models/RandomForestClassifier/infer\"}\n",
      "> 2024-08-04 14:07:44,430 [info] Invoking function: {\"method\":\"POST\",\"path\":\"http://nuclio-drift-alert-test-project-serving.default-tenant.svc.cluster.local:8080/v2/models/RandomForestClassifier/infer\"}\n",
      "> 2024-08-04 14:07:44,487 [info] Invoking function: {\"method\":\"POST\",\"path\":\"http://nuclio-drift-alert-test-project-serving.default-tenant.svc.cluster.local:8080/v2/models/RandomForestClassifier/infer\"}\n",
      "> 2024-08-04 14:07:44,511 [info] Invoking function: {\"method\":\"POST\",\"path\":\"http://nuclio-drift-alert-test-project-serving.default-tenant.svc.cluster.local:8080/v2/models/RandomForestClassifier/infer\"}\n",
      "> 2024-08-04 14:07:44,565 [info] Invoking function: {\"method\":\"POST\",\"path\":\"http://nuclio-drift-alert-test-project-serving.default-tenant.svc.cluster.local:8080/v2/models/RandomForestClassifier/infer\"}\n",
      "> 2024-08-04 14:07:44,620 [info] Invoking function: {\"method\":\"POST\",\"path\":\"http://nuclio-drift-alert-test-project-serving.default-tenant.svc.cluster.local:8080/v2/models/RandomForestClassifier/infer\"}\n",
      "> 2024-08-04 14:07:44,646 [info] Invoking function: {\"method\":\"POST\",\"path\":\"http://nuclio-drift-alert-test-project-serving.default-tenant.svc.cluster.local:8080/v2/models/RandomForestClassifier/infer\"}\n",
      "> 2024-08-04 14:07:44,670 [info] Invoking function: {\"method\":\"POST\",\"path\":\"http://nuclio-drift-alert-test-project-serving.default-tenant.svc.cluster.local:8080/v2/models/RandomForestClassifier/infer\"}\n",
      "> 2024-08-04 14:07:44,698 [info] Invoking function: {\"method\":\"POST\",\"path\":\"http://nuclio-drift-alert-test-project-serving.default-tenant.svc.cluster.local:8080/v2/models/RandomForestClassifier/infer\"}\n",
      "> 2024-08-04 14:07:44,755 [info] Invoking function: {\"method\":\"POST\",\"path\":\"http://nuclio-drift-alert-test-project-serving.default-tenant.svc.cluster.local:8080/v2/models/RandomForestClassifier/infer\"}\n",
      "> 2024-08-04 14:07:44,812 [info] Invoking function: {\"method\":\"POST\",\"path\":\"http://nuclio-drift-alert-test-project-serving.default-tenant.svc.cluster.local:8080/v2/models/RandomForestClassifier/infer\"}\n",
      "> 2024-08-04 14:07:44,876 [info] Invoking function: {\"method\":\"POST\",\"path\":\"http://nuclio-drift-alert-test-project-serving.default-tenant.svc.cluster.local:8080/v2/models/RandomForestClassifier/infer\"}\n",
      "> 2024-08-04 14:07:44,930 [info] Invoking function: {\"method\":\"POST\",\"path\":\"http://nuclio-drift-alert-test-project-serving.default-tenant.svc.cluster.local:8080/v2/models/RandomForestClassifier/infer\"}\n",
      "> 2024-08-04 14:07:44,987 [info] Invoking function: {\"method\":\"POST\",\"path\":\"http://nuclio-drift-alert-test-project-serving.default-tenant.svc.cluster.local:8080/v2/models/RandomForestClassifier/infer\"}\n",
      "> 2024-08-04 14:07:45,042 [info] Invoking function: {\"method\":\"POST\",\"path\":\"http://nuclio-drift-alert-test-project-serving.default-tenant.svc.cluster.local:8080/v2/models/RandomForestClassifier/infer\"}\n",
      "> 2024-08-04 14:07:45,066 [info] Invoking function: {\"method\":\"POST\",\"path\":\"http://nuclio-drift-alert-test-project-serving.default-tenant.svc.cluster.local:8080/v2/models/RandomForestClassifier/infer\"}\n",
      "> 2024-08-04 14:07:45,089 [info] Invoking function: {\"method\":\"POST\",\"path\":\"http://nuclio-drift-alert-test-project-serving.default-tenant.svc.cluster.local:8080/v2/models/RandomForestClassifier/infer\"}\n",
      "> 2024-08-04 14:07:45,142 [info] Invoking function: {\"method\":\"POST\",\"path\":\"http://nuclio-drift-alert-test-project-serving.default-tenant.svc.cluster.local:8080/v2/models/RandomForestClassifier/infer\"}\n",
      "> 2024-08-04 14:07:45,197 [info] Invoking function: {\"method\":\"POST\",\"path\":\"http://nuclio-drift-alert-test-project-serving.default-tenant.svc.cluster.local:8080/v2/models/RandomForestClassifier/infer\"}\n",
      "> 2024-08-04 14:07:45,228 [info] Invoking function: {\"method\":\"POST\",\"path\":\"http://nuclio-drift-alert-test-project-serving.default-tenant.svc.cluster.local:8080/v2/models/RandomForestClassifier/infer\"}\n",
      "> 2024-08-04 14:07:45,283 [info] Invoking function: {\"method\":\"POST\",\"path\":\"http://nuclio-drift-alert-test-project-serving.default-tenant.svc.cluster.local:8080/v2/models/RandomForestClassifier/infer\"}\n",
      "> 2024-08-04 14:07:45,307 [info] Invoking function: {\"method\":\"POST\",\"path\":\"http://nuclio-drift-alert-test-project-serving.default-tenant.svc.cluster.local:8080/v2/models/RandomForestClassifier/infer\"}\n",
      "> 2024-08-04 14:07:45,360 [info] Invoking function: {\"method\":\"POST\",\"path\":\"http://nuclio-drift-alert-test-project-serving.default-tenant.svc.cluster.local:8080/v2/models/RandomForestClassifier/infer\"}\n",
      "> 2024-08-04 14:07:45,413 [info] Invoking function: {\"method\":\"POST\",\"path\":\"http://nuclio-drift-alert-test-project-serving.default-tenant.svc.cluster.local:8080/v2/models/RandomForestClassifier/infer\"}\n",
      "> 2024-08-04 14:07:45,467 [info] Invoking function: {\"method\":\"POST\",\"path\":\"http://nuclio-drift-alert-test-project-serving.default-tenant.svc.cluster.local:8080/v2/models/RandomForestClassifier/infer\"}\n",
      "> 2024-08-04 14:07:45,490 [info] Invoking function: {\"method\":\"POST\",\"path\":\"http://nuclio-drift-alert-test-project-serving.default-tenant.svc.cluster.local:8080/v2/models/RandomForestClassifier/infer\"}\n",
      "> 2024-08-04 14:07:45,513 [info] Invoking function: {\"method\":\"POST\",\"path\":\"http://nuclio-drift-alert-test-project-serving.default-tenant.svc.cluster.local:8080/v2/models/RandomForestClassifier/infer\"}\n",
      "> 2024-08-04 14:07:45,569 [info] Invoking function: {\"method\":\"POST\",\"path\":\"http://nuclio-drift-alert-test-project-serving.default-tenant.svc.cluster.local:8080/v2/models/RandomForestClassifier/infer\"}\n",
      "> 2024-08-04 14:07:45,592 [info] Invoking function: {\"method\":\"POST\",\"path\":\"http://nuclio-drift-alert-test-project-serving.default-tenant.svc.cluster.local:8080/v2/models/RandomForestClassifier/infer\"}\n",
      "> 2024-08-04 14:07:45,645 [info] Invoking function: {\"method\":\"POST\",\"path\":\"http://nuclio-drift-alert-test-project-serving.default-tenant.svc.cluster.local:8080/v2/models/RandomForestClassifier/infer\"}\n",
      "> 2024-08-04 14:07:45,699 [info] Invoking function: {\"method\":\"POST\",\"path\":\"http://nuclio-drift-alert-test-project-serving.default-tenant.svc.cluster.local:8080/v2/models/RandomForestClassifier/infer\"}\n",
      "> 2024-08-04 14:07:45,752 [info] Invoking function: {\"method\":\"POST\",\"path\":\"http://nuclio-drift-alert-test-project-serving.default-tenant.svc.cluster.local:8080/v2/models/RandomForestClassifier/infer\"}\n",
      "> 2024-08-04 14:07:45,805 [info] Invoking function: {\"method\":\"POST\",\"path\":\"http://nuclio-drift-alert-test-project-serving.default-tenant.svc.cluster.local:8080/v2/models/RandomForestClassifier/infer\"}\n",
      "> 2024-08-04 14:07:45,859 [info] Invoking function: {\"method\":\"POST\",\"path\":\"http://nuclio-drift-alert-test-project-serving.default-tenant.svc.cluster.local:8080/v2/models/RandomForestClassifier/infer\"}\n",
      "> 2024-08-04 14:07:45,913 [info] Invoking function: {\"method\":\"POST\",\"path\":\"http://nuclio-drift-alert-test-project-serving.default-tenant.svc.cluster.local:8080/v2/models/RandomForestClassifier/infer\"}\n",
      "> 2024-08-04 14:07:45,973 [info] Invoking function: {\"method\":\"POST\",\"path\":\"http://nuclio-drift-alert-test-project-serving.default-tenant.svc.cluster.local:8080/v2/models/RandomForestClassifier/infer\"}\n",
      "> 2024-08-04 14:07:46,027 [info] Invoking function: {\"method\":\"POST\",\"path\":\"http://nuclio-drift-alert-test-project-serving.default-tenant.svc.cluster.local:8080/v2/models/RandomForestClassifier/infer\"}\n",
      "> 2024-08-04 14:07:46,051 [info] Invoking function: {\"method\":\"POST\",\"path\":\"http://nuclio-drift-alert-test-project-serving.default-tenant.svc.cluster.local:8080/v2/models/RandomForestClassifier/infer\"}\n",
      "> 2024-08-04 14:07:46,074 [info] Invoking function: {\"method\":\"POST\",\"path\":\"http://nuclio-drift-alert-test-project-serving.default-tenant.svc.cluster.local:8080/v2/models/RandomForestClassifier/infer\"}\n",
      "> 2024-08-04 14:07:46,098 [info] Invoking function: {\"method\":\"POST\",\"path\":\"http://nuclio-drift-alert-test-project-serving.default-tenant.svc.cluster.local:8080/v2/models/RandomForestClassifier/infer\"}\n",
      "> 2024-08-04 14:07:46,123 [info] Invoking function: {\"method\":\"POST\",\"path\":\"http://nuclio-drift-alert-test-project-serving.default-tenant.svc.cluster.local:8080/v2/models/RandomForestClassifier/infer\"}\n",
      "> 2024-08-04 14:07:46,146 [info] Invoking function: {\"method\":\"POST\",\"path\":\"http://nuclio-drift-alert-test-project-serving.default-tenant.svc.cluster.local:8080/v2/models/RandomForestClassifier/infer\"}\n",
      "> 2024-08-04 14:07:46,200 [info] Invoking function: {\"method\":\"POST\",\"path\":\"http://nuclio-drift-alert-test-project-serving.default-tenant.svc.cluster.local:8080/v2/models/RandomForestClassifier/infer\"}\n",
      "> 2024-08-04 14:07:46,223 [info] Invoking function: {\"method\":\"POST\",\"path\":\"http://nuclio-drift-alert-test-project-serving.default-tenant.svc.cluster.local:8080/v2/models/RandomForestClassifier/infer\"}\n",
      "> 2024-08-04 14:07:46,276 [info] Invoking function: {\"method\":\"POST\",\"path\":\"http://nuclio-drift-alert-test-project-serving.default-tenant.svc.cluster.local:8080/v2/models/RandomForestClassifier/infer\"}\n",
      "> 2024-08-04 14:07:46,299 [info] Invoking function: {\"method\":\"POST\",\"path\":\"http://nuclio-drift-alert-test-project-serving.default-tenant.svc.cluster.local:8080/v2/models/RandomForestClassifier/infer\"}\n",
      "> 2024-08-04 14:07:46,352 [info] Invoking function: {\"method\":\"POST\",\"path\":\"http://nuclio-drift-alert-test-project-serving.default-tenant.svc.cluster.local:8080/v2/models/RandomForestClassifier/infer\"}\n",
      "> 2024-08-04 14:07:46,406 [info] Invoking function: {\"method\":\"POST\",\"path\":\"http://nuclio-drift-alert-test-project-serving.default-tenant.svc.cluster.local:8080/v2/models/RandomForestClassifier/infer\"}\n",
      "> 2024-08-04 14:07:46,459 [info] Invoking function: {\"method\":\"POST\",\"path\":\"http://nuclio-drift-alert-test-project-serving.default-tenant.svc.cluster.local:8080/v2/models/RandomForestClassifier/infer\"}\n",
      "> 2024-08-04 14:07:46,512 [info] Invoking function: {\"method\":\"POST\",\"path\":\"http://nuclio-drift-alert-test-project-serving.default-tenant.svc.cluster.local:8080/v2/models/RandomForestClassifier/infer\"}\n",
      "> 2024-08-04 14:07:46,567 [info] Invoking function: {\"method\":\"POST\",\"path\":\"http://nuclio-drift-alert-test-project-serving.default-tenant.svc.cluster.local:8080/v2/models/RandomForestClassifier/infer\"}\n",
      "> 2024-08-04 14:07:46,622 [info] Invoking function: {\"method\":\"POST\",\"path\":\"http://nuclio-drift-alert-test-project-serving.default-tenant.svc.cluster.local:8080/v2/models/RandomForestClassifier/infer\"}\n",
      "> 2024-08-04 14:07:46,646 [info] Invoking function: {\"method\":\"POST\",\"path\":\"http://nuclio-drift-alert-test-project-serving.default-tenant.svc.cluster.local:8080/v2/models/RandomForestClassifier/infer\"}\n",
      "> 2024-08-04 14:07:46,700 [info] Invoking function: {\"method\":\"POST\",\"path\":\"http://nuclio-drift-alert-test-project-serving.default-tenant.svc.cluster.local:8080/v2/models/RandomForestClassifier/infer\"}\n",
      "> 2024-08-04 14:07:46,754 [info] Invoking function: {\"method\":\"POST\",\"path\":\"http://nuclio-drift-alert-test-project-serving.default-tenant.svc.cluster.local:8080/v2/models/RandomForestClassifier/infer\"}\n",
      "> 2024-08-04 14:07:46,807 [info] Invoking function: {\"method\":\"POST\",\"path\":\"http://nuclio-drift-alert-test-project-serving.default-tenant.svc.cluster.local:8080/v2/models/RandomForestClassifier/infer\"}\n",
      "> 2024-08-04 14:07:46,830 [info] Invoking function: {\"method\":\"POST\",\"path\":\"http://nuclio-drift-alert-test-project-serving.default-tenant.svc.cluster.local:8080/v2/models/RandomForestClassifier/infer\"}\n",
      "> 2024-08-04 14:07:46,883 [info] Invoking function: {\"method\":\"POST\",\"path\":\"http://nuclio-drift-alert-test-project-serving.default-tenant.svc.cluster.local:8080/v2/models/RandomForestClassifier/infer\"}\n",
      "> 2024-08-04 14:07:46,937 [info] Invoking function: {\"method\":\"POST\",\"path\":\"http://nuclio-drift-alert-test-project-serving.default-tenant.svc.cluster.local:8080/v2/models/RandomForestClassifier/infer\"}\n",
      "> 2024-08-04 14:07:46,961 [info] Invoking function: {\"method\":\"POST\",\"path\":\"http://nuclio-drift-alert-test-project-serving.default-tenant.svc.cluster.local:8080/v2/models/RandomForestClassifier/infer\"}\n",
      "> 2024-08-04 14:07:47,014 [info] Invoking function: {\"method\":\"POST\",\"path\":\"http://nuclio-drift-alert-test-project-serving.default-tenant.svc.cluster.local:8080/v2/models/RandomForestClassifier/infer\"}\n",
      "> 2024-08-04 14:07:47,038 [info] Invoking function: {\"method\":\"POST\",\"path\":\"http://nuclio-drift-alert-test-project-serving.default-tenant.svc.cluster.local:8080/v2/models/RandomForestClassifier/infer\"}\n",
      "> 2024-08-04 14:07:47,092 [info] Invoking function: {\"method\":\"POST\",\"path\":\"http://nuclio-drift-alert-test-project-serving.default-tenant.svc.cluster.local:8080/v2/models/RandomForestClassifier/infer\"}\n",
      "> 2024-08-04 14:07:47,146 [info] Invoking function: {\"method\":\"POST\",\"path\":\"http://nuclio-drift-alert-test-project-serving.default-tenant.svc.cluster.local:8080/v2/models/RandomForestClassifier/infer\"}\n",
      "> 2024-08-04 14:07:47,200 [info] Invoking function: {\"method\":\"POST\",\"path\":\"http://nuclio-drift-alert-test-project-serving.default-tenant.svc.cluster.local:8080/v2/models/RandomForestClassifier/infer\"}\n",
      "> 2024-08-04 14:07:47,223 [info] Invoking function: {\"method\":\"POST\",\"path\":\"http://nuclio-drift-alert-test-project-serving.default-tenant.svc.cluster.local:8080/v2/models/RandomForestClassifier/infer\"}\n",
      "> 2024-08-04 14:07:47,276 [info] Invoking function: {\"method\":\"POST\",\"path\":\"http://nuclio-drift-alert-test-project-serving.default-tenant.svc.cluster.local:8080/v2/models/RandomForestClassifier/infer\"}\n",
      "> 2024-08-04 14:07:47,300 [info] Invoking function: {\"method\":\"POST\",\"path\":\"http://nuclio-drift-alert-test-project-serving.default-tenant.svc.cluster.local:8080/v2/models/RandomForestClassifier/infer\"}\n",
      "> 2024-08-04 14:07:47,324 [info] Invoking function: {\"method\":\"POST\",\"path\":\"http://nuclio-drift-alert-test-project-serving.default-tenant.svc.cluster.local:8080/v2/models/RandomForestClassifier/infer\"}\n",
      "> 2024-08-04 14:07:47,377 [info] Invoking function: {\"method\":\"POST\",\"path\":\"http://nuclio-drift-alert-test-project-serving.default-tenant.svc.cluster.local:8080/v2/models/RandomForestClassifier/infer\"}\n",
      "> 2024-08-04 14:07:47,431 [info] Invoking function: {\"method\":\"POST\",\"path\":\"http://nuclio-drift-alert-test-project-serving.default-tenant.svc.cluster.local:8080/v2/models/RandomForestClassifier/infer\"}\n",
      "> 2024-08-04 14:07:47,484 [info] Invoking function: {\"method\":\"POST\",\"path\":\"http://nuclio-drift-alert-test-project-serving.default-tenant.svc.cluster.local:8080/v2/models/RandomForestClassifier/infer\"}\n",
      "> 2024-08-04 14:07:47,507 [info] Invoking function: {\"method\":\"POST\",\"path\":\"http://nuclio-drift-alert-test-project-serving.default-tenant.svc.cluster.local:8080/v2/models/RandomForestClassifier/infer\"}\n",
      "> 2024-08-04 14:07:47,530 [info] Invoking function: {\"method\":\"POST\",\"path\":\"http://nuclio-drift-alert-test-project-serving.default-tenant.svc.cluster.local:8080/v2/models/RandomForestClassifier/infer\"}\n",
      "> 2024-08-04 14:07:47,554 [info] Invoking function: {\"method\":\"POST\",\"path\":\"http://nuclio-drift-alert-test-project-serving.default-tenant.svc.cluster.local:8080/v2/models/RandomForestClassifier/infer\"}\n",
      "> 2024-08-04 14:07:47,607 [info] Invoking function: {\"method\":\"POST\",\"path\":\"http://nuclio-drift-alert-test-project-serving.default-tenant.svc.cluster.local:8080/v2/models/RandomForestClassifier/infer\"}\n",
      "> 2024-08-04 14:07:47,636 [info] Invoking function: {\"method\":\"POST\",\"path\":\"http://nuclio-drift-alert-test-project-serving.default-tenant.svc.cluster.local:8080/v2/models/RandomForestClassifier/infer\"}\n",
      "> 2024-08-04 14:07:47,659 [info] Invoking function: {\"method\":\"POST\",\"path\":\"http://nuclio-drift-alert-test-project-serving.default-tenant.svc.cluster.local:8080/v2/models/RandomForestClassifier/infer\"}\n",
      "> 2024-08-04 14:07:47,712 [info] Invoking function: {\"method\":\"POST\",\"path\":\"http://nuclio-drift-alert-test-project-serving.default-tenant.svc.cluster.local:8080/v2/models/RandomForestClassifier/infer\"}\n",
      "> 2024-08-04 14:07:47,767 [info] Invoking function: {\"method\":\"POST\",\"path\":\"http://nuclio-drift-alert-test-project-serving.default-tenant.svc.cluster.local:8080/v2/models/RandomForestClassifier/infer\"}\n",
      "> 2024-08-04 14:07:47,820 [info] Invoking function: {\"method\":\"POST\",\"path\":\"http://nuclio-drift-alert-test-project-serving.default-tenant.svc.cluster.local:8080/v2/models/RandomForestClassifier/infer\"}\n",
      "> 2024-08-04 14:07:47,844 [info] Invoking function: {\"method\":\"POST\",\"path\":\"http://nuclio-drift-alert-test-project-serving.default-tenant.svc.cluster.local:8080/v2/models/RandomForestClassifier/infer\"}\n",
      "> 2024-08-04 14:07:47,897 [info] Invoking function: {\"method\":\"POST\",\"path\":\"http://nuclio-drift-alert-test-project-serving.default-tenant.svc.cluster.local:8080/v2/models/RandomForestClassifier/infer\"}\n",
      "> 2024-08-04 14:07:47,951 [info] Invoking function: {\"method\":\"POST\",\"path\":\"http://nuclio-drift-alert-test-project-serving.default-tenant.svc.cluster.local:8080/v2/models/RandomForestClassifier/infer\"}\n",
      "> 2024-08-04 14:07:48,005 [info] Invoking function: {\"method\":\"POST\",\"path\":\"http://nuclio-drift-alert-test-project-serving.default-tenant.svc.cluster.local:8080/v2/models/RandomForestClassifier/infer\"}\n",
      "> 2024-08-04 14:07:48,031 [info] Invoking function: {\"method\":\"POST\",\"path\":\"http://nuclio-drift-alert-test-project-serving.default-tenant.svc.cluster.local:8080/v2/models/RandomForestClassifier/infer\"}\n",
      "> 2024-08-04 14:07:48,084 [info] Invoking function: {\"method\":\"POST\",\"path\":\"http://nuclio-drift-alert-test-project-serving.default-tenant.svc.cluster.local:8080/v2/models/RandomForestClassifier/infer\"}\n",
      "> 2024-08-04 14:07:48,109 [info] Invoking function: {\"method\":\"POST\",\"path\":\"http://nuclio-drift-alert-test-project-serving.default-tenant.svc.cluster.local:8080/v2/models/RandomForestClassifier/infer\"}\n",
      "> 2024-08-04 14:07:48,163 [info] Invoking function: {\"method\":\"POST\",\"path\":\"http://nuclio-drift-alert-test-project-serving.default-tenant.svc.cluster.local:8080/v2/models/RandomForestClassifier/infer\"}\n",
      "> 2024-08-04 14:07:48,221 [info] Invoking function: {\"method\":\"POST\",\"path\":\"http://nuclio-drift-alert-test-project-serving.default-tenant.svc.cluster.local:8080/v2/models/RandomForestClassifier/infer\"}\n",
      "> 2024-08-04 14:07:48,244 [info] Invoking function: {\"method\":\"POST\",\"path\":\"http://nuclio-drift-alert-test-project-serving.default-tenant.svc.cluster.local:8080/v2/models/RandomForestClassifier/infer\"}\n",
      "> 2024-08-04 14:07:48,298 [info] Invoking function: {\"method\":\"POST\",\"path\":\"http://nuclio-drift-alert-test-project-serving.default-tenant.svc.cluster.local:8080/v2/models/RandomForestClassifier/infer\"}\n",
      "> 2024-08-04 14:07:48,351 [info] Invoking function: {\"method\":\"POST\",\"path\":\"http://nuclio-drift-alert-test-project-serving.default-tenant.svc.cluster.local:8080/v2/models/RandomForestClassifier/infer\"}\n"
     ]
    }
   ],
   "source": [
    "import json\n",
    "from time import sleep\n",
    "from random import choice, uniform\n",
    "\n",
    "iris = load_iris()\n",
    "iris_data = iris[\"data\"].tolist()\n",
    "\n",
    "model_name = \"RandomForestClassifier\"\n",
    "serving_1 = project.get_function(\"serving\")\n",
    "for i in range(200):\n",
    "    data_point = choice(iris_data)\n",
    "    # data_point = [0.5,0.5,0.5,0.5]\n",
    "    serving_1.invoke(\n",
    "        f\"v2/models/{model_name}/infer\", json.dumps({\"inputs\": [data_point, data_point]})\n",
    "    )\n",
    "    sleep(choice([0.01, 0.04]))"
   ]
  },
  {
   "cell_type": "markdown",
   "id": "367392df-0760-41ef-8881-b7e3b4bd90c9",
   "metadata": {
    "tags": []
   },
   "source": [
    "## Application registration"
   ]
  },
  {
   "cell_type": "code",
   "execution_count": 27,
   "id": "6c078d0e-34e3-4c50-8e4e-895414fa000e",
   "metadata": {},
   "outputs": [],
   "source": [
    "app = project.set_model_monitoring_function(\n",
    "    application_class=\"MyApp\",\n",
    "    name=\"myAppv2\",\n",
    "    image=image,\n",
    ")"
   ]
  },
  {
   "cell_type": "code",
   "execution_count": 28,
   "id": "513d2462-8341-42fe-94ba-17adc99a5c38",
   "metadata": {},
   "outputs": [
    {
     "name": "stdout",
     "output_type": "stream",
     "text": [
      "> 2024-08-04 14:08:15,299 [info] Starting remote function deploy\n",
      "2024-08-04 14:08:15  (info) Deploying function\n",
      "2024-08-04 14:08:15  (info) Building\n",
      "2024-08-04 14:08:16  (info) Staging files and preparing base images\n",
      "2024-08-04 14:08:16  (warn) Using user provided base image, runtime interpreter version is provided by the base image\n",
      "2024-08-04 14:08:16  (info) Building processor image\n",
      "2024-08-04 14:09:21  (info) Build complete\n",
      "2024-08-04 14:09:39  (info) Function deploy complete\n",
      "> 2024-08-04 14:09:48,342 [info] Successfully deployed function: {\"external_invocation_urls\":[\"drift-alert-test-project-myappv2.default-tenant.app.vmdev94.lab.iguazeng.com/\"],\"internal_invocation_urls\":[\"nuclio-drift-alert-test-project-myappv2.default-tenant.svc.cluster.local:8080\"]}\n"
     ]
    },
    {
     "data": {
      "text/plain": [
       "DeployStatus(state=ready, outputs={'endpoint': 'http://drift-alert-test-project-myappv2.default-tenant.app.vmdev94.lab.iguazeng.com/', 'name': 'drift-alert-test-project-myappv2'})"
      ]
     },
     "execution_count": 28,
     "metadata": {},
     "output_type": "execute_result"
    }
   ],
   "source": [
    "project.deploy_function(app)"
   ]
  },
  {
   "cell_type": "markdown",
   "id": "3073c72f-96cc-455e-89ff-f6f187b9756c",
   "metadata": {
    "tags": []
   },
   "source": [
    "## Start tracking with the user-defined custom model monitoring application"
   ]
  },
  {
   "cell_type": "code",
   "execution_count": 29,
   "id": "181653e7-1a7e-4a05-8c29-ca3d4d12494e",
   "metadata": {},
   "outputs": [],
   "source": [
    "# mlrun: start-code"
   ]
  },
  {
   "cell_type": "code",
   "execution_count": 30,
   "id": "6771fa6a-fcd6-4c3b-8b87-b17a083313c6",
   "metadata": {},
   "outputs": [],
   "source": [
    "import mlrun\n",
    "from mlrun.model_monitoring.application import (\n",
    "    ModelMonitoringApplicationBase,\n",
    "    ModelMonitoringApplicationResult,\n",
    ")\n",
    "from mlrun.datastore.targets import ParquetTarget\n",
    "import typing\n",
    "import pandas as pd\n",
    "import json\n",
    "from mlrun.artifacts import (\n",
    "    Artifact,\n",
    "    DatasetArtifact,\n",
    "    PlotlyArtifact,\n",
    "    TableArtifact,\n",
    "    update_dataset_meta,\n",
    ")\n",
    "import os\n",
    "import random\n",
    "from mlrun.artifacts.manager import ArtifactManager, extend_artifact_path\n",
    "\n",
    "from mlrun.datastore import store_manager\n",
    "\n",
    "\n",
    "class MyApp(ModelMonitoringApplicationBase):\n",
    "    def __init__(self):\n",
    "        self.name = \"a\"\n",
    "\n",
    "    def do_tracking(\n",
    "        self,\n",
    "        application_name: str,\n",
    "        sample_df_stats: pd.DataFrame,\n",
    "        feature_stats: pd.DataFrame,\n",
    "        sample_df: pd.DataFrame,\n",
    "        start_infer_time: pd.Timestamp,\n",
    "        end_infer_time: pd.Timestamp,\n",
    "        latest_request: pd.Timestamp,\n",
    "        endpoint_id: str,\n",
    "        output_stream_uri: str,\n",
    "    ) -> typing.Union[\n",
    "        ModelMonitoringApplicationResult, list[ModelMonitoringApplicationResult]\n",
    "    ]:\n",
    "        self.context.log_artifact(TableArtifact(\"current_stats\", df=pd.DataFrame(sample_df_stats)))\n",
    "        drift_result = 4.5\n",
    "        if drift_result < 0:\n",
    "            status = mlrun.common.schemas.model_monitoring.constants.ResultStatusApp.irrelevant\n",
    "        elif drift_result < 3:\n",
    "            status = mlrun.common.schemas.model_monitoring.constants.ResultStatusApp.no_detection\n",
    "        elif drift_result < 4:\n",
    "            status = mlrun.common.schemas.model_monitoring.constants.ResultStatusApp.potential_detection\n",
    "        else:\n",
    "            status = mlrun.common.schemas.model_monitoring.constants.ResultStatusApp.detected\n",
    "        return ModelMonitoringApplicationResult(\n",
    "            name=\"data_drift_test\",\n",
    "            value=drift_result,\n",
    "            kind=mlrun.common.schemas.model_monitoring.constants.ResultKindApp.data_drift,\n",
    "            status=status,\n",
    "            extra_data={},\n",
    "        )"
   ]
  }
 ],
 "metadata": {
  "kernelspec": {
   "display_name": "Python 3 (ipykernel)",
   "language": "python",
   "name": "python3"
  },
  "language_info": {
   "codemirror_mode": {
    "name": "ipython",
    "version": 3
   },
   "file_extension": ".py",
   "mimetype": "text/x-python",
   "name": "python",
   "nbconvert_exporter": "python",
   "pygments_lexer": "ipython3",
   "version": "3.9.13"
  }
 },
 "nbformat": 4,
 "nbformat_minor": 5
}
