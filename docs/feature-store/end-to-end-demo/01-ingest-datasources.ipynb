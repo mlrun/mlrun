{
 "cells": [
  {
   "cell_type": "markdown",
   "metadata": {},
   "source": [
    "# Part 1: Data Ingestion\n"
   ]
  },
  {
   "cell_type": "markdown",
   "metadata": {},
   "source": [
    "This demo showcases financial fraud prevention and using the MLRun feature store to define complex features that help identify fraud. Fraud prevention specifically is a challenge as it requires processing raw transaction and events in real-time and being able to quickly respond and block transactions before they occur.\n",
    "\n",
    "To address this, we create a development pipeline and a production pipeline. Both pipelines share the same feature engineering and model code, but serve data very differently. Furthermore, we automate the data and model monitoring process, identify drift and trigger retraining in a CI/CD pipeline. This process is described in the diagram below:\n",
    "\n",
    "![Feature store demo diagram - fraud prevention](../../_static/images/feature_store_demo_diagram.png)"
   ]
  },
  {
   "cell_type": "markdown",
   "metadata": {},
   "source": [
    "The raw data is described as follows:\n",
    "\n",
    "| TRANSACTIONS                                                                    || &#x2551; |USER EVENTS                                                                           || \n",
    "|-----------------|----------------------------------------------------------------|----------|-----------------|----------------------------------------------------------------|\n",
    "| **age**         | age group value 0-6. Some values are marked as U for unknown   | &#x2551; | **source**      | The party/entity related to the event                          |\n",
    "| **gender**      | A character to define the age                                  | &#x2551; | **event**       | event, such as login or password change                        |\n",
    "| **zipcodeOri**  | ZIP code of the person originating the transaction             | &#x2551; | **timestamp**   | The date and time of the event                                 |\n",
    "| **zipMerchant** | ZIP code of the merchant receiving the transaction             | &#x2551; |                 |                                                                |\n",
    "| **category**    | category of the transaction (e.g., transportation, food, etc.) | &#x2551; |                 |                                                                |\n",
    "| **amount**      | the total amount of the transaction                            | &#x2551; |                 |                                                                |\n",
    "| **fraud**       | whether the transaction is fraudulent                          | &#x2551; |                 |                                                                |\n",
    "| **timestamp**   | the date and time in which the transaction took place          | &#x2551; |                 |                                                                |\n",
    "| **source**      | the ID of the party/entity performing the transaction          | &#x2551; |                 |                                                                |\n",
    "| **target**      | the ID of the party/entity receiving the transaction           | &#x2551; |                 |                                                                |\n",
    "| **device**      | the device ID used to perform the transaction                  | &#x2551; |                 |                                                                |"
   ]
  },
  {
   "cell_type": "markdown",
   "metadata": {},
   "source": [
    "This notebook introduces how to **Ingest** different data sources to the **Feature Store**.\n",
    "\n",
    "The following FeatureSets will be created:\n",
    "- **Transactions**: Monetary transactions between a source and a target.\n",
    "- **Events**: Account events such as account login or a password change.\n",
    "- **Label**: Fraud label for the data.\n",
    "\n",
    "By the end of this tutorial you’ll learn how to:\n",
    "\n",
    "- Create an ingestion pipeline for each data source.\n",
    "- Define preprocessing, aggregation and validation of the pipeline.\n",
    "- Run the pipeline locally within the notebook.\n",
    "- Launch a real-time function to ingest live data.\n",
    "- Schedule a cron to run the task when needed."
   ]
  },
  {
   "cell_type": "code",
   "execution_count": 1,
   "metadata": {},
   "outputs": [],
   "source": [
    "project_name = 'fraud-demo'"
   ]
  },
  {
   "cell_type": "code",
   "execution_count": 2,
   "metadata": {},
   "outputs": [
    {
     "name": "stdout",
     "output_type": "stream",
     "text": [
      "> 2021-10-28 11:25:47,346 [info] loaded project fraud-demo from MLRun DB\n"
     ]
    }
   ],
   "source": [
    "import mlrun\n",
    "\n",
    "# Initialize the MLRun project object\n",
    "project = mlrun.get_or_create_project(project_name, context=\"./\", user_project=True)"
   ]
  },
  {
   "cell_type": "markdown",
   "metadata": {},
   "source": [
    "## Step 1 - Fetch, Process and Ingest our datasets"
   ]
  },
  {
   "cell_type": "markdown",
   "metadata": {},
   "source": [
    "## 1.1 - Transactions"
   ]
  },
  {
   "cell_type": "markdown",
   "metadata": {},
   "source": [
    "### Transactions"
   ]
  },
  {
   "cell_type": "code",
   "execution_count": 3,
   "metadata": {
    "tags": [
     "hide-cell"
    ]
   },
   "outputs": [],
   "source": [
    "# Helper functions to adjust the timestamps of our data\n",
    "# while keeping the order of the selected events and\n",
    "# the relative distance from one event to the other\n",
    "\n",
    "def date_adjustment(sample, data_max, new_max, old_data_period, new_data_period):\n",
    "    '''\n",
    "        Adjust a specific sample's date according to the original and new time periods\n",
    "    '''\n",
    "    sample_dates_scale = ((data_max - sample) / old_data_period)\n",
    "    sample_delta = new_data_period * sample_dates_scale\n",
    "    new_sample_ts = new_max - sample_delta\n",
    "    return new_sample_ts\n",
    "\n",
    "def adjust_data_timespan(dataframe, timestamp_col='timestamp', new_period='2d', new_max_date_str='now'):\n",
    "    '''\n",
    "        Adjust the dataframe timestamps to the new time period\n",
    "    '''\n",
    "    # Calculate old time period\n",
    "    data_min = dataframe.timestamp.min()\n",
    "    data_max = dataframe.timestamp.max()\n",
    "    old_data_period = data_max-data_min\n",
    "    \n",
    "    # Set new time period\n",
    "    new_time_period = pd.Timedelta(new_period)\n",
    "    new_max = pd.Timestamp(new_max_date_str)\n",
    "    new_min = new_max-new_time_period\n",
    "    new_data_period = new_max-new_min\n",
    "    \n",
    "    # Apply the timestamp change\n",
    "    df = dataframe.copy()\n",
    "    df[timestamp_col] = df[timestamp_col].apply(lambda x: date_adjustment(x, data_max, new_max, old_data_period, new_data_period))\n",
    "    return df"
   ]
  },
  {
   "cell_type": "code",
   "execution_count": 4,
   "metadata": {},
   "outputs": [
    {
     "data": {
      "text/html": [
       "<div>\n",
       "<style scoped>\n",
       "    .dataframe tbody tr th:only-of-type {\n",
       "        vertical-align: middle;\n",
       "    }\n",
       "\n",
       "    .dataframe tbody tr th {\n",
       "        vertical-align: top;\n",
       "    }\n",
       "\n",
       "    .dataframe thead th {\n",
       "        text-align: right;\n",
       "    }\n",
       "</style>\n",
       "<table border=\"1\" class=\"dataframe\">\n",
       "  <thead>\n",
       "    <tr style=\"text-align: right;\">\n",
       "      <th></th>\n",
       "      <th>step</th>\n",
       "      <th>age</th>\n",
       "      <th>gender</th>\n",
       "      <th>zipcodeOri</th>\n",
       "      <th>zipMerchant</th>\n",
       "      <th>category</th>\n",
       "      <th>amount</th>\n",
       "      <th>fraud</th>\n",
       "      <th>timestamp</th>\n",
       "      <th>source</th>\n",
       "      <th>target</th>\n",
       "      <th>device</th>\n",
       "    </tr>\n",
       "  </thead>\n",
       "  <tbody>\n",
       "    <tr>\n",
       "      <th>272598</th>\n",
       "      <td>90</td>\n",
       "      <td>2</td>\n",
       "      <td>F</td>\n",
       "      <td>28007</td>\n",
       "      <td>28007</td>\n",
       "      <td>es_food</td>\n",
       "      <td>25.10</td>\n",
       "      <td>0</td>\n",
       "      <td>2021-10-26 18:44:13.733660936</td>\n",
       "      <td>C1255231772</td>\n",
       "      <td>M85975013</td>\n",
       "      <td>501e9a1d7c324c46bc540106a2e519ac</td>\n",
       "    </tr>\n",
       "    <tr>\n",
       "      <th>298620</th>\n",
       "      <td>98</td>\n",
       "      <td>4</td>\n",
       "      <td>F</td>\n",
       "      <td>28007</td>\n",
       "      <td>28007</td>\n",
       "      <td>es_transportation</td>\n",
       "      <td>13.59</td>\n",
       "      <td>0</td>\n",
       "      <td>2021-10-27 23:56:25.684188565</td>\n",
       "      <td>C1194320883</td>\n",
       "      <td>M1823072687</td>\n",
       "      <td>3867e8da0f934fff87b17efd655150a4</td>\n",
       "    </tr>\n",
       "    <tr>\n",
       "      <th>156749</th>\n",
       "      <td>55</td>\n",
       "      <td>3</td>\n",
       "      <td>M</td>\n",
       "      <td>28007</td>\n",
       "      <td>28007</td>\n",
       "      <td>es_transportation</td>\n",
       "      <td>26.62</td>\n",
       "      <td>0</td>\n",
       "      <td>2021-10-28 01:36:14.157330333</td>\n",
       "      <td>C880299982</td>\n",
       "      <td>M348934600</td>\n",
       "      <td>36c74947bc594eef91bc294135d60db3</td>\n",
       "    </tr>\n",
       "  </tbody>\n",
       "</table>\n",
       "</div>"
      ],
      "text/plain": [
       "        step age gender  zipcodeOri  zipMerchant           category  amount  \\\n",
       "272598    90   2      F       28007        28007            es_food   25.10   \n",
       "298620    98   4      F       28007        28007  es_transportation   13.59   \n",
       "156749    55   3      M       28007        28007  es_transportation   26.62   \n",
       "\n",
       "        fraud                     timestamp       source       target  \\\n",
       "272598      0 2021-10-26 18:44:13.733660936  C1255231772    M85975013   \n",
       "298620      0 2021-10-27 23:56:25.684188565  C1194320883  M1823072687   \n",
       "156749      0 2021-10-28 01:36:14.157330333   C880299982   M348934600   \n",
       "\n",
       "                                  device  \n",
       "272598  501e9a1d7c324c46bc540106a2e519ac  \n",
       "298620  3867e8da0f934fff87b17efd655150a4  \n",
       "156749  36c74947bc594eef91bc294135d60db3  "
      ]
     },
     "execution_count": 4,
     "metadata": {},
     "output_type": "execute_result"
    }
   ],
   "source": [
    "import pandas as pd\n",
    "\n",
    "# Fetch the transactions dataset from the server\n",
    "transactions_data = pd.read_csv('https://s3.wasabisys.com/iguazio/data/fraud-demo-mlrun-fs-docs/data.csv', parse_dates=['timestamp'])\n",
    "\n",
    "# Adjust the samples timestamp for the past 2 days\n",
    "transactions_data = adjust_data_timespan(transactions_data.sample(50000), new_period='2d')\n",
    "\n",
    "# Preview\n",
    "transactions_data.head(3)"
   ]
  },
  {
   "cell_type": "markdown",
   "metadata": {},
   "source": [
    "### Transactions - Create a FeatureSet and Preprocessing Pipeline\n",
    "Create the FeatureSet (data pipeline) definition for the **credit transaction processing** which describes the offline/online data transformations and aggregations.<br>\n",
    "The feature store will automatically add an offline `parquet` target and an online `NoSQL` target by using `set_targets()`.\n",
    "\n",
    "The data pipeline consists of:\n",
    "\n",
    "* **Extracting** the data components (hour, day of week)\n",
    "* **Mapping** the age values\n",
    "* **One hot encoding** for the transaction category and the gender\n",
    "* **Aggregating** the amount (avg, sum, count, max over 2/12/24 hour time windows)\n",
    "* **Aggregating** the transactions per category (over 14 days time windows)\n",
    "* **Writing** the results to **offline** (Parquet) and **online** (NoSQL) targets "
   ]
  },
  {
   "cell_type": "code",
   "execution_count": 5,
   "metadata": {},
   "outputs": [],
   "source": [
    "# Import MLRun's Feature Store\n",
    "import mlrun.feature_store as fstore\n",
    "from mlrun.feature_store.steps import OneHotEncoder, MapValues, DateExtractor"
   ]
  },
  {
   "cell_type": "code",
   "execution_count": 6,
   "metadata": {},
   "outputs": [],
   "source": [
    "# Define the transactions FeatureSet\n",
    "transaction_set = fstore.FeatureSet(\"transactions\", \n",
    "                                 entities=[fstore.Entity(\"source\")], \n",
    "                                 timestamp_key='timestamp', \n",
    "                                 description=\"transactions feature set\")"
   ]
  },
  {
   "cell_type": "code",
   "execution_count": 7,
   "metadata": {},
   "outputs": [
    {
     "data": {
      "image/svg+xml": [
       "<?xml version=\"1.0\" encoding=\"UTF-8\" standalone=\"no\"?>\n",
       "<!DOCTYPE svg PUBLIC \"-//W3C//DTD SVG 1.1//EN\"\n",
       " \"http://www.w3.org/Graphics/SVG/1.1/DTD/svg11.dtd\">\n",
       "<!-- Generated by graphviz version 2.40.1 (20161225.0304)\n",
       " -->\n",
       "<!-- Title: mlrun&#45;flow Pages: 1 -->\n",
       "<svg width=\"911pt\" height=\"98pt\"\n",
       " viewBox=\"0.00 0.00 911.35 98.00\" xmlns=\"http://www.w3.org/2000/svg\" xmlns:xlink=\"http://www.w3.org/1999/xlink\">\n",
       "<g id=\"graph0\" class=\"graph\" transform=\"scale(1 1) rotate(0) translate(4 94)\">\n",
       "<title>mlrun&#45;flow</title>\n",
       "<polygon fill=\"#ffffff\" stroke=\"transparent\" points=\"-4,4 -4,-94 907.3476,-94 907.3476,4 -4,4\"/>\n",
       "<!-- _start -->\n",
       "<g id=\"node1\" class=\"node\">\n",
       "<title>_start</title>\n",
       "<polygon fill=\"#d3d3d3\" stroke=\"#000000\" points=\"38.5476,-27.0493 40.698,-27.1479 42.8263,-27.2953 44.9236,-27.4913 46.9815,-27.7353 48.9917,-28.0266 50.9463,-28.3645 52.8377,-28.7479 54.6587,-29.1759 56.4025,-29.6472 58.0628,-30.1606 59.634,-30.7147 61.1107,-31.308 62.4882,-31.9388 63.7625,-32.6054 64.9302,-33.3059 65.9882,-34.0385 66.9343,-34.8012 67.7669,-35.5918 68.4849,-36.4082 69.0878,-37.2481 69.5758,-38.1093 69.9496,-38.9894 70.2102,-39.886 70.3595,-40.7965 70.3997,-41.7186 70.3334,-42.6497 70.1636,-43.5873 69.8937,-44.5287 69.5276,-45.4713 69.0691,-46.4127 68.5225,-47.3503 67.8923,-48.2814 67.1831,-49.2035 66.3996,-50.114 65.5464,-51.0106 64.6285,-51.8907 63.6504,-52.7519 62.617,-53.5918 61.5329,-54.4082 60.4024,-55.1988 59.2299,-55.9615 58.0197,-56.6941 56.7755,-57.3946 55.5012,-58.0612 54.2002,-58.692 52.8757,-59.2853 51.5309,-59.8394 50.1684,-60.3528 48.7908,-60.8241 47.4003,-61.2521 45.9989,-61.6355 44.5886,-61.9734 43.1708,-62.2647 41.7472,-62.5087 40.3189,-62.7047 38.8872,-62.8521 37.4531,-62.9507 36.0175,-63 34.5815,-63 33.146,-62.9507 31.7119,-62.8521 30.2801,-62.7047 28.8519,-62.5087 27.4282,-62.2647 26.0105,-61.9734 24.6001,-61.6355 23.1988,-61.2521 21.8083,-60.8241 20.4306,-60.3528 19.0681,-59.8394 17.7233,-59.2853 16.3989,-58.692 15.0979,-58.0612 13.8236,-57.3946 12.5794,-56.6941 11.3691,-55.9615 10.1967,-55.1988 9.0662,-54.4082 7.982,-53.5918 6.9486,-52.7519 5.9706,-51.8907 5.0526,-51.0106 4.1995,-50.114 3.4159,-49.2035 2.7067,-48.2814 2.0765,-47.3503 1.53,-46.4127 1.0715,-45.4713 .7053,-44.5287 .4355,-43.5873 .2657,-42.6497 .1993,-41.7186 .2395,-40.7965 .3888,-39.886 .6495,-38.9894 1.0232,-38.1093 1.5112,-37.2481 2.1141,-36.4082 2.8321,-35.5918 3.6647,-34.8012 4.6109,-34.0385 5.6689,-33.3059 6.8365,-32.6054 8.1108,-31.9388 9.4884,-31.308 10.9651,-30.7147 12.5362,-30.1606 14.1966,-29.6472 15.9404,-29.1759 17.7614,-28.7479 19.6528,-28.3645 21.6074,-28.0266 23.6176,-27.7353 25.6755,-27.4913 27.7728,-27.2953 29.901,-27.1479 32.0515,-27.0493 34.2154,-27 36.3837,-27 38.5476,-27.0493\"/>\n",
       "<text text-anchor=\"middle\" x=\"35.2995\" y=\"-41.3\" font-family=\"Times,serif\" font-size=\"14.00\" fill=\"#000000\">start</text>\n",
       "</g>\n",
       "<!-- DateExtractor -->\n",
       "<g id=\"node2\" class=\"node\">\n",
       "<title>DateExtractor</title>\n",
       "<ellipse fill=\"none\" stroke=\"#000000\" cx=\"183.9422\" cy=\"-45\" rx=\"77.1866\" ry=\"18\"/>\n",
       "<text text-anchor=\"middle\" x=\"183.9422\" y=\"-41.3\" font-family=\"Times,serif\" font-size=\"14.00\" fill=\"#000000\">DateExtractor</text>\n",
       "</g>\n",
       "<!-- _start&#45;&gt;DateExtractor -->\n",
       "<g id=\"edge1\" class=\"edge\">\n",
       "<title>_start&#45;&gt;DateExtractor</title>\n",
       "<path fill=\"none\" stroke=\"#000000\" d=\"M69.7748,-45C77.8994,-45 86.9261,-45 96.2428,-45\"/>\n",
       "<polygon fill=\"#000000\" stroke=\"#000000\" points=\"96.4373,-48.5001 106.4373,-45 96.4373,-41.5001 96.4373,-48.5001\"/>\n",
       "</g>\n",
       "<!-- MapValues -->\n",
       "<g id=\"node3\" class=\"node\">\n",
       "<title>MapValues</title>\n",
       "<ellipse fill=\"none\" stroke=\"#000000\" cx=\"359.0298\" cy=\"-45\" rx=\"61.99\" ry=\"18\"/>\n",
       "<text text-anchor=\"middle\" x=\"359.0298\" y=\"-41.3\" font-family=\"Times,serif\" font-size=\"14.00\" fill=\"#000000\">MapValues</text>\n",
       "</g>\n",
       "<!-- DateExtractor&#45;&gt;MapValues -->\n",
       "<g id=\"edge2\" class=\"edge\">\n",
       "<title>DateExtractor&#45;&gt;MapValues</title>\n",
       "<path fill=\"none\" stroke=\"#000000\" d=\"M261.5028,-45C269.9567,-45 278.5363,-45 286.9209,-45\"/>\n",
       "<polygon fill=\"#000000\" stroke=\"#000000\" points=\"287.0301,-48.5001 297.03,-45 287.03,-41.5001 287.0301,-48.5001\"/>\n",
       "</g>\n",
       "<!-- OneHotEncoder -->\n",
       "<g id=\"node4\" class=\"node\">\n",
       "<title>OneHotEncoder</title>\n",
       "<ellipse fill=\"none\" stroke=\"#000000\" cx=\"543.2167\" cy=\"-45\" rx=\"86.3847\" ry=\"18\"/>\n",
       "<text text-anchor=\"middle\" x=\"543.2167\" y=\"-41.3\" font-family=\"Times,serif\" font-size=\"14.00\" fill=\"#000000\">OneHotEncoder</text>\n",
       "</g>\n",
       "<!-- MapValues&#45;&gt;OneHotEncoder -->\n",
       "<g id=\"edge3\" class=\"edge\">\n",
       "<title>MapValues&#45;&gt;OneHotEncoder</title>\n",
       "<path fill=\"none\" stroke=\"#000000\" d=\"M420.8738,-45C429.1365,-45 437.7646,-45 446.4483,-45\"/>\n",
       "<polygon fill=\"#000000\" stroke=\"#000000\" points=\"446.6492,-48.5001 456.6492,-45 446.6492,-41.5001 446.6492,-48.5001\"/>\n",
       "</g>\n",
       "<!-- Aggregates -->\n",
       "<g id=\"node5\" class=\"node\">\n",
       "<title>Aggregates</title>\n",
       "<ellipse fill=\"none\" stroke=\"#000000\" cx=\"730.0033\" cy=\"-45\" rx=\"64.189\" ry=\"18\"/>\n",
       "<text text-anchor=\"middle\" x=\"730.0033\" y=\"-41.3\" font-family=\"Times,serif\" font-size=\"14.00\" fill=\"#000000\">Aggregates</text>\n",
       "</g>\n",
       "<!-- OneHotEncoder&#45;&gt;Aggregates -->\n",
       "<g id=\"edge4\" class=\"edge\">\n",
       "<title>OneHotEncoder&#45;&gt;Aggregates</title>\n",
       "<path fill=\"none\" stroke=\"#000000\" d=\"M629.7751,-45C638.3235,-45 646.9487,-45 655.3621,-45\"/>\n",
       "<polygon fill=\"#000000\" stroke=\"#000000\" points=\"655.5003,-48.5001 665.5003,-45 655.5002,-41.5001 655.5003,-48.5001\"/>\n",
       "</g>\n",
       "<!-- parquet -->\n",
       "<g id=\"node6\" class=\"node\">\n",
       "<title>parquet</title>\n",
       "<path fill=\"none\" stroke=\"#000000\" d=\"M903.3476,-86.7273C903.3476,-88.5331 886.9877,-90 866.8476,-90 846.7075,-90 830.3476,-88.5331 830.3476,-86.7273 830.3476,-86.7273 830.3476,-57.2727 830.3476,-57.2727 830.3476,-55.4669 846.7075,-54 866.8476,-54 886.9877,-54 903.3476,-55.4669 903.3476,-57.2727 903.3476,-57.2727 903.3476,-86.7273 903.3476,-86.7273\"/>\n",
       "<path fill=\"none\" stroke=\"#000000\" d=\"M903.3476,-86.7273C903.3476,-84.9214 886.9877,-83.4545 866.8476,-83.4545 846.7075,-83.4545 830.3476,-84.9214 830.3476,-86.7273\"/>\n",
       "<text text-anchor=\"middle\" x=\"866.8476\" y=\"-68.3\" font-family=\"Times,serif\" font-size=\"14.00\" fill=\"#000000\">parquet</text>\n",
       "</g>\n",
       "<!-- Aggregates&#45;&gt;parquet -->\n",
       "<g id=\"edge5\" class=\"edge\">\n",
       "<title>Aggregates&#45;&gt;parquet</title>\n",
       "<path fill=\"none\" stroke=\"#000000\" d=\"M782.9109,-55.4389C795.2502,-57.8735 808.3001,-60.4483 820.3382,-62.8235\"/>\n",
       "<polygon fill=\"#000000\" stroke=\"#000000\" points=\"819.6861,-66.2622 830.1744,-64.7642 821.0411,-59.3946 819.6861,-66.2622\"/>\n",
       "</g>\n",
       "<!-- nosql -->\n",
       "<g id=\"node7\" class=\"node\">\n",
       "<title>nosql</title>\n",
       "<path fill=\"none\" stroke=\"#000000\" d=\"M894.3476,-32.7273C894.3476,-34.5331 882.0217,-36 866.8476,-36 851.6735,-36 839.3476,-34.5331 839.3476,-32.7273 839.3476,-32.7273 839.3476,-3.2727 839.3476,-3.2727 839.3476,-1.4669 851.6735,0 866.8476,0 882.0217,0 894.3476,-1.4669 894.3476,-3.2727 894.3476,-3.2727 894.3476,-32.7273 894.3476,-32.7273\"/>\n",
       "<path fill=\"none\" stroke=\"#000000\" d=\"M894.3476,-32.7273C894.3476,-30.9214 882.0217,-29.4545 866.8476,-29.4545 851.6735,-29.4545 839.3476,-30.9214 839.3476,-32.7273\"/>\n",
       "<text text-anchor=\"middle\" x=\"866.8476\" y=\"-14.3\" font-family=\"Times,serif\" font-size=\"14.00\" fill=\"#000000\">nosql</text>\n",
       "</g>\n",
       "<!-- Aggregates&#45;&gt;nosql -->\n",
       "<g id=\"edge6\" class=\"edge\">\n",
       "<title>Aggregates&#45;&gt;nosql</title>\n",
       "<path fill=\"none\" stroke=\"#000000\" d=\"M782.9109,-34.5611C798.4043,-31.5042 815.0181,-28.2262 829.3426,-25.3999\"/>\n",
       "<polygon fill=\"#000000\" stroke=\"#000000\" points=\"830.1864,-28.801 839.3197,-23.4314 828.8313,-21.9334 830.1864,-28.801\"/>\n",
       "</g>\n",
       "</g>\n",
       "</svg>\n"
      ],
      "text/plain": [
       "<graphviz.dot.Digraph at 0x7f39c39a4290>"
      ]
     },
     "execution_count": 7,
     "metadata": {},
     "output_type": "execute_result"
    }
   ],
   "source": [
    "# Define and add value mapping\n",
    "main_categories = [\"es_transportation\", \"es_health\", \"es_otherservices\",\n",
    "       \"es_food\", \"es_hotelservices\", \"es_barsandrestaurants\",\n",
    "       \"es_tech\", \"es_sportsandtoys\", \"es_wellnessandbeauty\",\n",
    "       \"es_hyper\", \"es_fashion\", \"es_home\", \"es_contents\",\n",
    "       \"es_travel\", \"es_leisure\"]\n",
    "\n",
    "# One Hot Encode the newly defined mappings\n",
    "one_hot_encoder_mapping = {'category': main_categories,\n",
    "                           'gender': list(transactions_data.gender.unique())}\n",
    "\n",
    "# Define the graph steps\n",
    "transaction_set.graph\\\n",
    "    .to(DateExtractor(parts = ['hour', 'day_of_week'], timestamp_col = 'timestamp'))\\\n",
    "    .to(MapValues(mapping={'age': {'U': '0'}}, with_original_features=True))\\\n",
    "    .to(OneHotEncoder(mapping=one_hot_encoder_mapping))\n",
    "\n",
    "\n",
    "# Add aggregations for 2, 12, and 24 hour time windows\n",
    "transaction_set.add_aggregation(name='amount',\n",
    "                                column='amount',\n",
    "                                operations=['avg','sum', 'count','max'],\n",
    "                                windows=['2h', '12h', '24h'],\n",
    "                                period='1h')\n",
    "\n",
    "\n",
    "# Add the category aggregations over a 14 day window\n",
    "for category in main_categories:\n",
    "    transaction_set.add_aggregation(name=category,column=f'category_{category}',\n",
    "                                    operations=['count'], windows=['14d'], period='1d')\n",
    "\n",
    "# Add default (offline-parquet & online-nosql) targets\n",
    "transaction_set.set_targets()\n",
    "\n",
    "# Plot the pipeline so we can see the different steps\n",
    "transaction_set.plot(rankdir=\"LR\", with_targets=True)"
   ]
  },
  {
   "cell_type": "markdown",
   "metadata": {},
   "source": [
    "### Transactions - Ingestion"
   ]
  },
  {
   "cell_type": "code",
   "execution_count": 8,
   "metadata": {},
   "outputs": [
    {
     "data": {
      "text/html": [
       "<div>\n",
       "<style scoped>\n",
       "    .dataframe tbody tr th:only-of-type {\n",
       "        vertical-align: middle;\n",
       "    }\n",
       "\n",
       "    .dataframe tbody tr th {\n",
       "        vertical-align: top;\n",
       "    }\n",
       "\n",
       "    .dataframe thead th {\n",
       "        text-align: right;\n",
       "    }\n",
       "</style>\n",
       "<table border=\"1\" class=\"dataframe\">\n",
       "  <thead>\n",
       "    <tr style=\"text-align: right;\">\n",
       "      <th></th>\n",
       "      <th>amount_max_2h</th>\n",
       "      <th>amount_max_12h</th>\n",
       "      <th>amount_max_24h</th>\n",
       "      <th>amount_sum_2h</th>\n",
       "      <th>amount_sum_12h</th>\n",
       "      <th>amount_sum_24h</th>\n",
       "      <th>amount_count_2h</th>\n",
       "      <th>amount_count_12h</th>\n",
       "      <th>amount_count_24h</th>\n",
       "      <th>amount_avg_2h</th>\n",
       "      <th>...</th>\n",
       "      <th>category_es_contents</th>\n",
       "      <th>category_es_travel</th>\n",
       "      <th>category_es_leisure</th>\n",
       "      <th>amount</th>\n",
       "      <th>fraud</th>\n",
       "      <th>timestamp</th>\n",
       "      <th>target</th>\n",
       "      <th>device</th>\n",
       "      <th>timestamp_hour</th>\n",
       "      <th>timestamp_day_of_week</th>\n",
       "    </tr>\n",
       "    <tr>\n",
       "      <th>source</th>\n",
       "      <th></th>\n",
       "      <th></th>\n",
       "      <th></th>\n",
       "      <th></th>\n",
       "      <th></th>\n",
       "      <th></th>\n",
       "      <th></th>\n",
       "      <th></th>\n",
       "      <th></th>\n",
       "      <th></th>\n",
       "      <th></th>\n",
       "      <th></th>\n",
       "      <th></th>\n",
       "      <th></th>\n",
       "      <th></th>\n",
       "      <th></th>\n",
       "      <th></th>\n",
       "      <th></th>\n",
       "      <th></th>\n",
       "      <th></th>\n",
       "      <th></th>\n",
       "    </tr>\n",
       "  </thead>\n",
       "  <tbody>\n",
       "    <tr>\n",
       "      <th>C1255231772</th>\n",
       "      <td>25.10</td>\n",
       "      <td>25.10</td>\n",
       "      <td>25.10</td>\n",
       "      <td>25.10</td>\n",
       "      <td>25.10</td>\n",
       "      <td>25.10</td>\n",
       "      <td>1.0</td>\n",
       "      <td>1.0</td>\n",
       "      <td>1.0</td>\n",
       "      <td>25.10</td>\n",
       "      <td>...</td>\n",
       "      <td>0</td>\n",
       "      <td>0</td>\n",
       "      <td>0</td>\n",
       "      <td>25.10</td>\n",
       "      <td>0</td>\n",
       "      <td>2021-10-26 18:44:13.733660936</td>\n",
       "      <td>M85975013</td>\n",
       "      <td>501e9a1d7c324c46bc540106a2e519ac</td>\n",
       "      <td>18</td>\n",
       "      <td>1</td>\n",
       "    </tr>\n",
       "    <tr>\n",
       "      <th>C1194320883</th>\n",
       "      <td>13.59</td>\n",
       "      <td>25.01</td>\n",
       "      <td>52.45</td>\n",
       "      <td>13.59</td>\n",
       "      <td>51.95</td>\n",
       "      <td>178.16</td>\n",
       "      <td>1.0</td>\n",
       "      <td>4.0</td>\n",
       "      <td>7.0</td>\n",
       "      <td>13.59</td>\n",
       "      <td>...</td>\n",
       "      <td>0</td>\n",
       "      <td>0</td>\n",
       "      <td>0</td>\n",
       "      <td>13.59</td>\n",
       "      <td>0</td>\n",
       "      <td>2021-10-27 23:56:25.684188565</td>\n",
       "      <td>M1823072687</td>\n",
       "      <td>3867e8da0f934fff87b17efd655150a4</td>\n",
       "      <td>23</td>\n",
       "      <td>2</td>\n",
       "    </tr>\n",
       "    <tr>\n",
       "      <th>C880299982</th>\n",
       "      <td>32.80</td>\n",
       "      <td>197.96</td>\n",
       "      <td>197.96</td>\n",
       "      <td>59.42</td>\n",
       "      <td>304.40</td>\n",
       "      <td>304.40</td>\n",
       "      <td>2.0</td>\n",
       "      <td>5.0</td>\n",
       "      <td>5.0</td>\n",
       "      <td>29.71</td>\n",
       "      <td>...</td>\n",
       "      <td>0</td>\n",
       "      <td>0</td>\n",
       "      <td>0</td>\n",
       "      <td>26.62</td>\n",
       "      <td>0</td>\n",
       "      <td>2021-10-28 01:36:14.157330333</td>\n",
       "      <td>M348934600</td>\n",
       "      <td>36c74947bc594eef91bc294135d60db3</td>\n",
       "      <td>1</td>\n",
       "      <td>3</td>\n",
       "    </tr>\n",
       "  </tbody>\n",
       "</table>\n",
       "<p>3 rows × 58 columns</p>\n",
       "</div>"
      ],
      "text/plain": [
       "             amount_max_2h  amount_max_12h  amount_max_24h  amount_sum_2h  \\\n",
       "source                                                                      \n",
       "C1255231772          25.10           25.10           25.10          25.10   \n",
       "C1194320883          13.59           25.01           52.45          13.59   \n",
       "C880299982           32.80          197.96          197.96          59.42   \n",
       "\n",
       "             amount_sum_12h  amount_sum_24h  amount_count_2h  \\\n",
       "source                                                         \n",
       "C1255231772           25.10           25.10              1.0   \n",
       "C1194320883           51.95          178.16              1.0   \n",
       "C880299982           304.40          304.40              2.0   \n",
       "\n",
       "             amount_count_12h  amount_count_24h  amount_avg_2h  ...  \\\n",
       "source                                                          ...   \n",
       "C1255231772               1.0               1.0          25.10  ...   \n",
       "C1194320883               4.0               7.0          13.59  ...   \n",
       "C880299982                5.0               5.0          29.71  ...   \n",
       "\n",
       "             category_es_contents  category_es_travel  category_es_leisure  \\\n",
       "source                                                                       \n",
       "C1255231772                     0                   0                    0   \n",
       "C1194320883                     0                   0                    0   \n",
       "C880299982                      0                   0                    0   \n",
       "\n",
       "             amount  fraud                     timestamp       target  \\\n",
       "source                                                                  \n",
       "C1255231772   25.10      0 2021-10-26 18:44:13.733660936    M85975013   \n",
       "C1194320883   13.59      0 2021-10-27 23:56:25.684188565  M1823072687   \n",
       "C880299982    26.62      0 2021-10-28 01:36:14.157330333   M348934600   \n",
       "\n",
       "                                       device  timestamp_hour  \\\n",
       "source                                                          \n",
       "C1255231772  501e9a1d7c324c46bc540106a2e519ac              18   \n",
       "C1194320883  3867e8da0f934fff87b17efd655150a4              23   \n",
       "C880299982   36c74947bc594eef91bc294135d60db3               1   \n",
       "\n",
       "             timestamp_day_of_week  \n",
       "source                              \n",
       "C1255231772                      1  \n",
       "C1194320883                      2  \n",
       "C880299982                       3  \n",
       "\n",
       "[3 rows x 58 columns]"
      ]
     },
     "execution_count": 8,
     "metadata": {},
     "output_type": "execute_result"
    }
   ],
   "source": [
    "# Ingest our transactions dataset through our defined pipeline\n",
    "transactions_df = fstore.ingest(transaction_set, transactions_data, \n",
    "                 infer_options=fstore.InferOptions.default())\n",
    "\n",
    "transactions_df.head(3)"
   ]
  },
  {
   "cell_type": "markdown",
   "metadata": {},
   "source": [
    "## 1.2 - User Events"
   ]
  },
  {
   "cell_type": "markdown",
   "metadata": {},
   "source": [
    "### User Events - Fetching"
   ]
  },
  {
   "cell_type": "code",
   "execution_count": 9,
   "metadata": {},
   "outputs": [
    {
     "data": {
      "text/html": [
       "<div>\n",
       "<style scoped>\n",
       "    .dataframe tbody tr th:only-of-type {\n",
       "        vertical-align: middle;\n",
       "    }\n",
       "\n",
       "    .dataframe tbody tr th {\n",
       "        vertical-align: top;\n",
       "    }\n",
       "\n",
       "    .dataframe thead th {\n",
       "        text-align: right;\n",
       "    }\n",
       "</style>\n",
       "<table border=\"1\" class=\"dataframe\">\n",
       "  <thead>\n",
       "    <tr style=\"text-align: right;\">\n",
       "      <th></th>\n",
       "      <th>source</th>\n",
       "      <th>event</th>\n",
       "      <th>timestamp</th>\n",
       "    </tr>\n",
       "  </thead>\n",
       "  <tbody>\n",
       "    <tr>\n",
       "      <th>0</th>\n",
       "      <td>C1974668487</td>\n",
       "      <td>details_change</td>\n",
       "      <td>2021-10-27 20:35:27.982579086</td>\n",
       "    </tr>\n",
       "    <tr>\n",
       "      <th>1</th>\n",
       "      <td>C1973547259</td>\n",
       "      <td>login</td>\n",
       "      <td>2021-10-27 23:37:02.239719508</td>\n",
       "    </tr>\n",
       "    <tr>\n",
       "      <th>2</th>\n",
       "      <td>C515668508</td>\n",
       "      <td>login</td>\n",
       "      <td>2021-10-27 20:10:08.520896302</td>\n",
       "    </tr>\n",
       "  </tbody>\n",
       "</table>\n",
       "</div>"
      ],
      "text/plain": [
       "        source           event                     timestamp\n",
       "0  C1974668487  details_change 2021-10-27 20:35:27.982579086\n",
       "1  C1973547259           login 2021-10-27 23:37:02.239719508\n",
       "2   C515668508           login 2021-10-27 20:10:08.520896302"
      ]
     },
     "execution_count": 9,
     "metadata": {},
     "output_type": "execute_result"
    }
   ],
   "source": [
    "# Fetch our user_events dataset from the server\n",
    "user_events_data = pd.read_csv('https://s3.wasabisys.com/iguazio/data/fraud-demo-mlrun-fs-docs/events.csv', \n",
    "                               index_col=0, quotechar=\"\\'\", parse_dates=['timestamp'])\n",
    "\n",
    "# Adjust to the last 2 days to see the latest aggregations in our online feature vectors\n",
    "user_events_data = adjust_data_timespan(user_events_data, new_period='2d')\n",
    "\n",
    "# Preview\n",
    "user_events_data.head(3)"
   ]
  },
  {
   "cell_type": "markdown",
   "metadata": {},
   "source": [
    "### User Events - Create a FeatureSet and Preprocessing Pipeline\n",
    "\n",
    "Now we will define the events feature set.\n",
    "This is a pretty straight forward pipeline in which we only one hot encode the event categories and save the data to the default targets."
   ]
  },
  {
   "cell_type": "code",
   "execution_count": 10,
   "metadata": {},
   "outputs": [],
   "source": [
    "user_events_set = fstore.FeatureSet(\"events\",\n",
    "                           entities=[fstore.Entity(\"source\")],\n",
    "                           timestamp_key='timestamp', \n",
    "                           description=\"user events feature set\")"
   ]
  },
  {
   "cell_type": "code",
   "execution_count": 11,
   "metadata": {},
   "outputs": [
    {
     "data": {
      "image/svg+xml": [
       "<?xml version=\"1.0\" encoding=\"UTF-8\" standalone=\"no\"?>\n",
       "<!DOCTYPE svg PUBLIC \"-//W3C//DTD SVG 1.1//EN\"\n",
       " \"http://www.w3.org/Graphics/SVG/1.1/DTD/svg11.dtd\">\n",
       "<!-- Generated by graphviz version 2.40.1 (20161225.0304)\n",
       " -->\n",
       "<!-- Title: mlrun&#45;flow Pages: 1 -->\n",
       "<svg width=\"396pt\" height=\"98pt\"\n",
       " viewBox=\"0.00 0.00 396.48 98.00\" xmlns=\"http://www.w3.org/2000/svg\" xmlns:xlink=\"http://www.w3.org/1999/xlink\">\n",
       "<g id=\"graph0\" class=\"graph\" transform=\"scale(1 1) rotate(0) translate(4 94)\">\n",
       "<title>mlrun&#45;flow</title>\n",
       "<polygon fill=\"#ffffff\" stroke=\"transparent\" points=\"-4,4 -4,-94 392.4837,-94 392.4837,4 -4,4\"/>\n",
       "<!-- _start -->\n",
       "<g id=\"node1\" class=\"node\">\n",
       "<title>_start</title>\n",
       "<polygon fill=\"#d3d3d3\" stroke=\"#000000\" points=\"38.5476,-27.0493 40.698,-27.1479 42.8263,-27.2953 44.9236,-27.4913 46.9815,-27.7353 48.9917,-28.0266 50.9463,-28.3645 52.8377,-28.7479 54.6587,-29.1759 56.4025,-29.6472 58.0628,-30.1606 59.634,-30.7147 61.1107,-31.308 62.4882,-31.9388 63.7625,-32.6054 64.9302,-33.3059 65.9882,-34.0385 66.9343,-34.8012 67.7669,-35.5918 68.4849,-36.4082 69.0878,-37.2481 69.5758,-38.1093 69.9496,-38.9894 70.2102,-39.886 70.3595,-40.7965 70.3997,-41.7186 70.3334,-42.6497 70.1636,-43.5873 69.8937,-44.5287 69.5276,-45.4713 69.0691,-46.4127 68.5225,-47.3503 67.8923,-48.2814 67.1831,-49.2035 66.3996,-50.114 65.5464,-51.0106 64.6285,-51.8907 63.6504,-52.7519 62.617,-53.5918 61.5329,-54.4082 60.4024,-55.1988 59.2299,-55.9615 58.0197,-56.6941 56.7755,-57.3946 55.5012,-58.0612 54.2002,-58.692 52.8757,-59.2853 51.5309,-59.8394 50.1684,-60.3528 48.7908,-60.8241 47.4003,-61.2521 45.9989,-61.6355 44.5886,-61.9734 43.1708,-62.2647 41.7472,-62.5087 40.3189,-62.7047 38.8872,-62.8521 37.4531,-62.9507 36.0175,-63 34.5815,-63 33.146,-62.9507 31.7119,-62.8521 30.2801,-62.7047 28.8519,-62.5087 27.4282,-62.2647 26.0105,-61.9734 24.6001,-61.6355 23.1988,-61.2521 21.8083,-60.8241 20.4306,-60.3528 19.0681,-59.8394 17.7233,-59.2853 16.3989,-58.692 15.0979,-58.0612 13.8236,-57.3946 12.5794,-56.6941 11.3691,-55.9615 10.1967,-55.1988 9.0662,-54.4082 7.982,-53.5918 6.9486,-52.7519 5.9706,-51.8907 5.0526,-51.0106 4.1995,-50.114 3.4159,-49.2035 2.7067,-48.2814 2.0765,-47.3503 1.53,-46.4127 1.0715,-45.4713 .7053,-44.5287 .4355,-43.5873 .2657,-42.6497 .1993,-41.7186 .2395,-40.7965 .3888,-39.886 .6495,-38.9894 1.0232,-38.1093 1.5112,-37.2481 2.1141,-36.4082 2.8321,-35.5918 3.6647,-34.8012 4.6109,-34.0385 5.6689,-33.3059 6.8365,-32.6054 8.1108,-31.9388 9.4884,-31.308 10.9651,-30.7147 12.5362,-30.1606 14.1966,-29.6472 15.9404,-29.1759 17.7614,-28.7479 19.6528,-28.3645 21.6074,-28.0266 23.6176,-27.7353 25.6755,-27.4913 27.7728,-27.2953 29.901,-27.1479 32.0515,-27.0493 34.2154,-27 36.3837,-27 38.5476,-27.0493\"/>\n",
       "<text text-anchor=\"middle\" x=\"35.2995\" y=\"-41.3\" font-family=\"Times,serif\" font-size=\"14.00\" fill=\"#000000\">start</text>\n",
       "</g>\n",
       "<!-- OneHotEncoder -->\n",
       "<g id=\"node2\" class=\"node\">\n",
       "<title>OneHotEncoder</title>\n",
       "<ellipse fill=\"none\" stroke=\"#000000\" cx=\"193.0414\" cy=\"-45\" rx=\"86.3847\" ry=\"18\"/>\n",
       "<text text-anchor=\"middle\" x=\"193.0414\" y=\"-41.3\" font-family=\"Times,serif\" font-size=\"14.00\" fill=\"#000000\">OneHotEncoder</text>\n",
       "</g>\n",
       "<!-- _start&#45;&gt;OneHotEncoder -->\n",
       "<g id=\"edge1\" class=\"edge\">\n",
       "<title>_start&#45;&gt;OneHotEncoder</title>\n",
       "<path fill=\"none\" stroke=\"#000000\" d=\"M69.9166,-45C77.9754,-45 86.9455,-45 96.268,-45\"/>\n",
       "<polygon fill=\"#000000\" stroke=\"#000000\" points=\"96.4956,-48.5001 106.4956,-45 96.4955,-41.5001 96.4956,-48.5001\"/>\n",
       "</g>\n",
       "<!-- parquet -->\n",
       "<g id=\"node3\" class=\"node\">\n",
       "<title>parquet</title>\n",
       "<path fill=\"none\" stroke=\"#000000\" d=\"M388.4837,-86.7273C388.4837,-88.5331 372.1238,-90 351.9837,-90 331.8436,-90 315.4837,-88.5331 315.4837,-86.7273 315.4837,-86.7273 315.4837,-57.2727 315.4837,-57.2727 315.4837,-55.4669 331.8436,-54 351.9837,-54 372.1238,-54 388.4837,-55.4669 388.4837,-57.2727 388.4837,-57.2727 388.4837,-86.7273 388.4837,-86.7273\"/>\n",
       "<path fill=\"none\" stroke=\"#000000\" d=\"M388.4837,-86.7273C388.4837,-84.9214 372.1238,-83.4545 351.9837,-83.4545 331.8436,-83.4545 315.4837,-84.9214 315.4837,-86.7273\"/>\n",
       "<text text-anchor=\"middle\" x=\"351.9837\" y=\"-68.3\" font-family=\"Times,serif\" font-size=\"14.00\" fill=\"#000000\">parquet</text>\n",
       "</g>\n",
       "<!-- OneHotEncoder&#45;&gt;parquet -->\n",
       "<g id=\"edge2\" class=\"edge\">\n",
       "<title>OneHotEncoder&#45;&gt;parquet</title>\n",
       "<path fill=\"none\" stroke=\"#000000\" d=\"M260.4472,-56.4504C275.5618,-59.018 291.2725,-61.6868 305.3234,-64.0737\"/>\n",
       "<polygon fill=\"#000000\" stroke=\"#000000\" points=\"304.7841,-67.5321 315.229,-65.7564 305.9564,-60.631 304.7841,-67.5321\"/>\n",
       "</g>\n",
       "<!-- nosql -->\n",
       "<g id=\"node4\" class=\"node\">\n",
       "<title>nosql</title>\n",
       "<path fill=\"none\" stroke=\"#000000\" d=\"M379.4837,-32.7273C379.4837,-34.5331 367.1578,-36 351.9837,-36 336.8097,-36 324.4837,-34.5331 324.4837,-32.7273 324.4837,-32.7273 324.4837,-3.2727 324.4837,-3.2727 324.4837,-1.4669 336.8097,0 351.9837,0 367.1578,0 379.4837,-1.4669 379.4837,-3.2727 379.4837,-3.2727 379.4837,-32.7273 379.4837,-32.7273\"/>\n",
       "<path fill=\"none\" stroke=\"#000000\" d=\"M379.4837,-32.7273C379.4837,-30.9214 367.1578,-29.4545 351.9837,-29.4545 336.8097,-29.4545 324.4837,-30.9214 324.4837,-32.7273\"/>\n",
       "<text text-anchor=\"middle\" x=\"351.9837\" y=\"-14.3\" font-family=\"Times,serif\" font-size=\"14.00\" fill=\"#000000\">nosql</text>\n",
       "</g>\n",
       "<!-- OneHotEncoder&#45;&gt;nosql -->\n",
       "<g id=\"edge3\" class=\"edge\">\n",
       "<title>OneHotEncoder&#45;&gt;nosql</title>\n",
       "<path fill=\"none\" stroke=\"#000000\" d=\"M260.4472,-33.5496C278.9092,-30.4134 298.2605,-27.1261 314.39,-24.3862\"/>\n",
       "<polygon fill=\"#000000\" stroke=\"#000000\" points=\"315.2098,-27.7971 324.4824,-22.6717 314.0374,-20.896 315.2098,-27.7971\"/>\n",
       "</g>\n",
       "</g>\n",
       "</svg>\n"
      ],
      "text/plain": [
       "<graphviz.dot.Digraph at 0x7f39032f1c50>"
      ]
     },
     "execution_count": 11,
     "metadata": {},
     "output_type": "execute_result"
    }
   ],
   "source": [
    "# Define and add value mapping\n",
    "events_mapping = {'event': list(user_events_data.event.unique())}\n",
    "\n",
    "# One Hot Encode\n",
    "user_events_set.graph.to(OneHotEncoder(mapping=events_mapping))\n",
    "\n",
    "# Add default (offline-parquet & online-nosql) targets\n",
    "user_events_set.set_targets()\n",
    "\n",
    "# Plot the pipeline so we can see the different steps\n",
    "user_events_set.plot(rankdir=\"LR\", with_targets=True)"
   ]
  },
  {
   "cell_type": "markdown",
   "metadata": {},
   "source": [
    "### User Events - Ingestion"
   ]
  },
  {
   "cell_type": "code",
   "execution_count": 12,
   "metadata": {},
   "outputs": [
    {
     "data": {
      "text/html": [
       "<div>\n",
       "<style scoped>\n",
       "    .dataframe tbody tr th:only-of-type {\n",
       "        vertical-align: middle;\n",
       "    }\n",
       "\n",
       "    .dataframe tbody tr th {\n",
       "        vertical-align: top;\n",
       "    }\n",
       "\n",
       "    .dataframe thead th {\n",
       "        text-align: right;\n",
       "    }\n",
       "</style>\n",
       "<table border=\"1\" class=\"dataframe\">\n",
       "  <thead>\n",
       "    <tr style=\"text-align: right;\">\n",
       "      <th></th>\n",
       "      <th>event_details_change</th>\n",
       "      <th>event_login</th>\n",
       "      <th>event_password_change</th>\n",
       "      <th>timestamp</th>\n",
       "    </tr>\n",
       "    <tr>\n",
       "      <th>source</th>\n",
       "      <th></th>\n",
       "      <th></th>\n",
       "      <th></th>\n",
       "      <th></th>\n",
       "    </tr>\n",
       "  </thead>\n",
       "  <tbody>\n",
       "    <tr>\n",
       "      <th>C1974668487</th>\n",
       "      <td>1</td>\n",
       "      <td>0</td>\n",
       "      <td>0</td>\n",
       "      <td>2021-10-27 20:35:27.982579086</td>\n",
       "    </tr>\n",
       "    <tr>\n",
       "      <th>C1973547259</th>\n",
       "      <td>0</td>\n",
       "      <td>1</td>\n",
       "      <td>0</td>\n",
       "      <td>2021-10-27 23:37:02.239719508</td>\n",
       "    </tr>\n",
       "    <tr>\n",
       "      <th>C515668508</th>\n",
       "      <td>0</td>\n",
       "      <td>1</td>\n",
       "      <td>0</td>\n",
       "      <td>2021-10-27 20:10:08.520896302</td>\n",
       "    </tr>\n",
       "  </tbody>\n",
       "</table>\n",
       "</div>"
      ],
      "text/plain": [
       "             event_details_change  event_login  event_password_change  \\\n",
       "source                                                                  \n",
       "C1974668487                     1            0                      0   \n",
       "C1973547259                     0            1                      0   \n",
       "C515668508                      0            1                      0   \n",
       "\n",
       "                                timestamp  \n",
       "source                                     \n",
       "C1974668487 2021-10-27 20:35:27.982579086  \n",
       "C1973547259 2021-10-27 23:37:02.239719508  \n",
       "C515668508  2021-10-27 20:10:08.520896302  "
      ]
     },
     "execution_count": 12,
     "metadata": {},
     "output_type": "execute_result"
    }
   ],
   "source": [
    "# Ingestion of our newly created events feature set\n",
    "events_df = fstore.ingest(user_events_set, user_events_data)\n",
    "events_df.head(3)"
   ]
  },
  {
   "cell_type": "markdown",
   "metadata": {},
   "source": [
    "## Step 2 - Create a labels dataset for model training"
   ]
  },
  {
   "cell_type": "markdown",
   "metadata": {},
   "source": [
    "### Label Set - Create a FeatureSet\n",
    "This feature set contains the label for the fraud demo, it will be ingested directly to the default targets without any changes"
   ]
  },
  {
   "cell_type": "code",
   "execution_count": 13,
   "metadata": {},
   "outputs": [],
   "source": [
    "def create_labels(df):\n",
    "    labels = df[['fraud','source','timestamp']].copy()\n",
    "    labels = labels.rename(columns={\"fraud\": \"label\"})\n",
    "    labels['timestamp'] = labels['timestamp'].astype(\"datetime64[ms]\")\n",
    "    labels['label'] = labels['label'].astype(int)\n",
    "    labels.set_index('source', inplace=True)\n",
    "    return labels"
   ]
  },
  {
   "cell_type": "code",
   "execution_count": 14,
   "metadata": {},
   "outputs": [
    {
     "data": {
      "image/svg+xml": [
       "<?xml version=\"1.0\" encoding=\"UTF-8\" standalone=\"no\"?>\n",
       "<!DOCTYPE svg PUBLIC \"-//W3C//DTD SVG 1.1//EN\"\n",
       " \"http://www.w3.org/Graphics/SVG/1.1/DTD/svg11.dtd\">\n",
       "<!-- Generated by graphviz version 2.40.1 (20161225.0304)\n",
       " -->\n",
       "<!-- Title: mlrun&#45;flow Pages: 1 -->\n",
       "<svg width=\"154pt\" height=\"188pt\"\n",
       " viewBox=\"0.00 0.00 153.59 188.00\" xmlns=\"http://www.w3.org/2000/svg\" xmlns:xlink=\"http://www.w3.org/1999/xlink\">\n",
       "<g id=\"graph0\" class=\"graph\" transform=\"scale(1 1) rotate(0) translate(4 184)\">\n",
       "<title>mlrun&#45;flow</title>\n",
       "<polygon fill=\"#ffffff\" stroke=\"transparent\" points=\"-4,4 -4,-184 149.5871,-184 149.5871,4 -4,4\"/>\n",
       "<!-- _start -->\n",
       "<g id=\"node1\" class=\"node\">\n",
       "<title>_start</title>\n",
       "<polygon fill=\"#d3d3d3\" stroke=\"#000000\" points=\"76.0416,-144.0493 78.1921,-144.1479 80.3203,-144.2953 82.4176,-144.4913 84.4755,-144.7353 86.4857,-145.0266 88.4403,-145.3645 90.3317,-145.7479 92.1527,-146.1759 93.8965,-146.6472 95.5569,-147.1606 97.128,-147.7147 98.6047,-148.308 99.9822,-148.9388 101.2566,-149.6054 102.4242,-150.3059 103.4822,-151.0385 104.4283,-151.8012 105.2609,-152.5918 105.9789,-153.4082 106.5819,-154.2481 107.0699,-155.1093 107.4436,-155.9894 107.7042,-156.886 107.8535,-157.7965 107.8937,-158.7186 107.8274,-159.6497 107.6576,-160.5873 107.3877,-161.5287 107.0216,-162.4713 106.5631,-163.4127 106.0165,-164.3503 105.3864,-165.2814 104.6771,-166.2035 103.8936,-167.114 103.0404,-168.0106 102.1225,-168.8907 101.1445,-169.7519 100.111,-170.5918 99.0269,-171.4082 97.8964,-172.1988 96.724,-172.9615 95.5137,-173.6941 94.2695,-174.3946 92.9952,-175.0612 91.6942,-175.692 90.3698,-176.2853 89.0249,-176.8394 87.6624,-177.3528 86.2848,-177.8241 84.8943,-178.2521 83.4929,-178.6355 82.0826,-178.9734 80.6649,-179.2647 79.2412,-179.5087 77.8129,-179.7047 76.3812,-179.8521 74.9471,-179.9507 73.5115,-180 72.0755,-180 70.64,-179.9507 69.2059,-179.8521 67.7741,-179.7047 66.3459,-179.5087 64.9222,-179.2647 63.5045,-178.9734 62.0941,-178.6355 60.6928,-178.2521 59.3023,-177.8241 57.9246,-177.3528 56.5622,-176.8394 55.2173,-176.2853 53.8929,-175.692 52.5919,-175.0612 51.3176,-174.3946 50.0734,-173.6941 48.8631,-172.9615 47.6907,-172.1988 46.5602,-171.4082 45.476,-170.5918 44.4426,-169.7519 43.4646,-168.8907 42.5466,-168.0106 41.6935,-167.114 40.9099,-166.2035 40.2007,-165.2814 39.5706,-164.3503 39.024,-163.4127 38.5655,-162.4713 38.1993,-161.5287 37.9295,-160.5873 37.7597,-159.6497 37.6934,-158.7186 37.7335,-157.7965 37.8829,-156.886 38.1435,-155.9894 38.5172,-155.1093 39.0052,-154.2481 39.6082,-153.4082 40.3262,-152.5918 41.1588,-151.8012 42.1049,-151.0385 43.1629,-150.3059 44.3305,-149.6054 45.6048,-148.9388 46.9824,-148.308 48.4591,-147.7147 50.0302,-147.1606 51.6906,-146.6472 53.4344,-146.1759 55.2554,-145.7479 57.1468,-145.3645 59.1014,-145.0266 61.1116,-144.7353 63.1695,-144.4913 65.2668,-144.2953 67.395,-144.1479 69.5455,-144.0493 71.7094,-144 73.8777,-144 76.0416,-144.0493\"/>\n",
       "<text text-anchor=\"middle\" x=\"72.7935\" y=\"-158.3\" font-family=\"Times,serif\" font-size=\"14.00\" fill=\"#000000\">start</text>\n",
       "</g>\n",
       "<!-- create_labels -->\n",
       "<g id=\"node2\" class=\"node\">\n",
       "<title>create_labels</title>\n",
       "<ellipse fill=\"none\" stroke=\"#000000\" cx=\"72.7935\" cy=\"-90\" rx=\"72.5877\" ry=\"18\"/>\n",
       "<text text-anchor=\"middle\" x=\"72.7935\" y=\"-86.3\" font-family=\"Times,serif\" font-size=\"14.00\" fill=\"#000000\">create_labels</text>\n",
       "</g>\n",
       "<!-- _start&#45;&gt;create_labels -->\n",
       "<g id=\"edge1\" class=\"edge\">\n",
       "<title>_start&#45;&gt;create_labels</title>\n",
       "<path fill=\"none\" stroke=\"#000000\" d=\"M72.7935,-143.8314C72.7935,-136.131 72.7935,-126.9743 72.7935,-118.4166\"/>\n",
       "<polygon fill=\"#000000\" stroke=\"#000000\" points=\"76.2936,-118.4132 72.7935,-108.4133 69.2936,-118.4133 76.2936,-118.4132\"/>\n",
       "</g>\n",
       "<!-- parquet -->\n",
       "<g id=\"node3\" class=\"node\">\n",
       "<title>parquet</title>\n",
       "<path fill=\"none\" stroke=\"#000000\" d=\"M109.2935,-32.7273C109.2935,-34.5331 92.9337,-36 72.7935,-36 52.6534,-36 36.2935,-34.5331 36.2935,-32.7273 36.2935,-32.7273 36.2935,-3.2727 36.2935,-3.2727 36.2935,-1.4669 52.6534,0 72.7935,0 92.9337,0 109.2935,-1.4669 109.2935,-3.2727 109.2935,-3.2727 109.2935,-32.7273 109.2935,-32.7273\"/>\n",
       "<path fill=\"none\" stroke=\"#000000\" d=\"M109.2935,-32.7273C109.2935,-30.9214 92.9337,-29.4545 72.7935,-29.4545 52.6534,-29.4545 36.2935,-30.9214 36.2935,-32.7273\"/>\n",
       "<text text-anchor=\"middle\" x=\"72.7935\" y=\"-14.3\" font-family=\"Times,serif\" font-size=\"14.00\" fill=\"#000000\">parquet</text>\n",
       "</g>\n",
       "<!-- create_labels&#45;&gt;parquet -->\n",
       "<g id=\"edge2\" class=\"edge\">\n",
       "<title>create_labels&#45;&gt;parquet</title>\n",
       "<path fill=\"none\" stroke=\"#000000\" d=\"M72.7935,-71.8314C72.7935,-64.131 72.7935,-54.9743 72.7935,-46.4166\"/>\n",
       "<polygon fill=\"#000000\" stroke=\"#000000\" points=\"76.2936,-46.4132 72.7935,-36.4133 69.2936,-46.4133 76.2936,-46.4132\"/>\n",
       "</g>\n",
       "</g>\n",
       "</svg>\n"
      ],
      "text/plain": [
       "<graphviz.dot.Digraph at 0x7f39029b56d0>"
      ]
     },
     "execution_count": 14,
     "metadata": {},
     "output_type": "execute_result"
    }
   ],
   "source": [
    "# Define the \"labels\" feature set\n",
    "labels_set = fstore.FeatureSet(\"labels\", \n",
    "                           entities=[fstore.Entity(\"source\")], \n",
    "                           timestamp_key='timestamp',\n",
    "                           description=\"training labels\",\n",
    "                           engine=\"pandas\")\n",
    "\n",
    "labels_set.graph.to(name=\"create_labels\", handler=create_labels)\n",
    "\n",
    "# specify only Parquet (offline) target since its not used for real-time\n",
    "labels_set.set_targets(['parquet'], with_defaults=False)\n",
    "labels_set.plot(with_targets=True)"
   ]
  },
  {
   "cell_type": "markdown",
   "metadata": {},
   "source": [
    "### Label Set - Ingestion"
   ]
  },
  {
   "cell_type": "code",
   "execution_count": 15,
   "metadata": {},
   "outputs": [
    {
     "name": "stdout",
     "output_type": "stream",
     "text": [
      "1000\n",
      "None\n"
     ]
    },
    {
     "data": {
      "text/html": [
       "<div>\n",
       "<style scoped>\n",
       "    .dataframe tbody tr th:only-of-type {\n",
       "        vertical-align: middle;\n",
       "    }\n",
       "\n",
       "    .dataframe tbody tr th {\n",
       "        vertical-align: top;\n",
       "    }\n",
       "\n",
       "    .dataframe thead th {\n",
       "        text-align: right;\n",
       "    }\n",
       "</style>\n",
       "<table border=\"1\" class=\"dataframe\">\n",
       "  <thead>\n",
       "    <tr style=\"text-align: right;\">\n",
       "      <th></th>\n",
       "      <th>label</th>\n",
       "      <th>timestamp</th>\n",
       "    </tr>\n",
       "    <tr>\n",
       "      <th>source</th>\n",
       "      <th></th>\n",
       "      <th></th>\n",
       "    </tr>\n",
       "  </thead>\n",
       "  <tbody>\n",
       "    <tr>\n",
       "      <th>C1255231772</th>\n",
       "      <td>0</td>\n",
       "      <td>2021-10-26 18:44:13.733</td>\n",
       "    </tr>\n",
       "    <tr>\n",
       "      <th>C1194320883</th>\n",
       "      <td>0</td>\n",
       "      <td>2021-10-27 23:56:25.684</td>\n",
       "    </tr>\n",
       "    <tr>\n",
       "      <th>C880299982</th>\n",
       "      <td>0</td>\n",
       "      <td>2021-10-28 01:36:14.157</td>\n",
       "    </tr>\n",
       "  </tbody>\n",
       "</table>\n",
       "</div>"
      ],
      "text/plain": [
       "             label               timestamp\n",
       "source                                    \n",
       "C1255231772      0 2021-10-26 18:44:13.733\n",
       "C1194320883      0 2021-10-27 23:56:25.684\n",
       "C880299982       0 2021-10-28 01:36:14.157"
      ]
     },
     "execution_count": 15,
     "metadata": {},
     "output_type": "execute_result"
    }
   ],
   "source": [
    "# Ingest the labels feature set\n",
    "labels_df = fstore.ingest(labels_set, transactions_data)\n",
    "labels_df.head(3)"
   ]
  },
  {
   "cell_type": "markdown",
   "metadata": {},
   "source": [
    "## Step 3 - Deploy a real-time pipeline\n",
    "\n",
    "When dealing with real-time aggregation, it's important to be able to update these aggregations in real-time.\n",
    "For this purpose, we will create live serving functions that will update the online feature store of the `transactions` FeatureSet and `Events` FeatureSet.\n",
    "\n",
    "Using MLRun's `serving` runtime, craetes a nuclio function loaded with our feature set's computational graph definition\n",
    "and an `HttpSource` to define the HTTP trigger.\n",
    "\n",
    "Notice that the implementation below does not require any rewrite of the pipeline logic."
   ]
  },
  {
   "cell_type": "markdown",
   "metadata": {},
   "source": [
    "## 3.1 - Transactions"
   ]
  },
  {
   "cell_type": "markdown",
   "metadata": {},
   "source": [
    "### Transactions - Deploy our FeatureSet live endpoint"
   ]
  },
  {
   "cell_type": "code",
   "execution_count": 16,
   "metadata": {},
   "outputs": [],
   "source": [
    "# Create iguazio v3io stream and transactions push API endpoint\n",
    "transaction_stream = f'v3io:///projects/{project.name}/streams/transaction'\n",
    "transaction_pusher = mlrun.datastore.get_stream_pusher(transaction_stream)"
   ]
  },
  {
   "cell_type": "code",
   "execution_count": 17,
   "metadata": {},
   "outputs": [],
   "source": [
    "# Define the HTTP Source to_dictable the HTTP trigger on our function and expose the endpoint.\n",
    "# as any other datasource, we will define the `key` and `time` fields here too.\n",
    "http_source = mlrun.datastore.sources.HttpSource(key_field='source', time_field='timestamp')\n",
    "transaction_set.spec.source = http_source\n",
    "\n",
    "# Create a real-time serverless function definition to deploy the ingestion pipeline on.\n",
    "# the serving runtimes enables the deployment of our feature set's computational graph\n",
    "function = (mlrun.new_function('ingest-transactions', kind='serving', image='mlrun/mlrun')).with_code(body=\" \")\n",
    "\n",
    "# Add stream trigger (must first create the stream)\n",
    "function.add_v3io_stream_trigger(transaction_stream)\n",
    "\n",
    "#\n",
    "run_config = fstore.RunConfig(function=function, local=False).apply(mlrun.mount_v3io())"
   ]
  },
  {
   "cell_type": "code",
   "execution_count": 18,
   "metadata": {},
   "outputs": [
    {
     "name": "stdout",
     "output_type": "stream",
     "text": [
      "> 2021-09-19 17:58:50,402 [info] Starting remote function deploy\n",
      "2021-09-19 17:58:50  (info) Deploying function\n",
      "2021-09-19 17:58:50  (info) Building\n",
      "2021-09-19 17:58:50  (info) Staging files and preparing base images\n",
      "2021-09-19 17:58:50  (info) Building processor image\n",
      "2021-09-19 17:58:52  (info) Build complete\n",
      "2021-09-19 17:59:01  (info) Function deploy complete\n",
      "> 2021-09-19 17:59:01,461 [info] successfully deployed function: {'internal_invocation_urls': ['nuclio-fraud-demo-admin-ingest-transactions.default-tenant.svc.cluster.local:8080'], 'external_invocation_urls': ['fraud-demo-admin-ingest-transactions-fraud-demo-admin.default-tenant.app.jnewriujxdig.iguazio-cd1.com/']}\n"
     ]
    }
   ],
   "source": [
    "# Deploy the transactions feature set's ingestion service using the feature set\n",
    "# and all the defined resources above.\n",
    "transaction_set_endpoint = fstore.deploy_ingestion_service(featureset=transaction_set,\n",
    "                                                       run_config=run_config)"
   ]
  },
  {
   "cell_type": "markdown",
   "metadata": {},
   "source": [
    "### Transactions - Test the feature set HTTP endpoint"
   ]
  },
  {
   "cell_type": "markdown",
   "metadata": {},
   "source": [
    "By defining our `transactions` feature set we can now use MLRun and Storey to deploy it as a live endpoint, ready to ingest new data!\n",
    "\n",
    "Using MLRun's `serving` runtime, we will create a nuclio function loaded with our feature set's computational graph definition and an `HttpSource` to define the HTTP trigger."
   ]
  },
  {
   "cell_type": "code",
   "execution_count": 19,
   "metadata": {},
   "outputs": [
    {
     "data": {
      "text/plain": [
       "{'step': 99,\n",
       " 'age': '2',\n",
       " 'gender': 'F',\n",
       " 'zipcodeOri': 28007,\n",
       " 'zipMerchant': 28007,\n",
       " 'category': 'es_transportation',\n",
       " 'amount': 2.62,\n",
       " 'fraud': 0,\n",
       " 'timestamp': '2021-09-19 17:59:01.571694',\n",
       " 'source': 'C1078351181',\n",
       " 'target': 'M1823072687',\n",
       " 'device': '25209f138bd847ce8432c6109d2ac2f4'}"
      ]
     },
     "execution_count": 19,
     "metadata": {},
     "output_type": "execute_result"
    }
   ],
   "source": [
    "import requests\n",
    "import json\n",
    "\n",
    "# Select a sample from the dataset and serialize it to JSON\n",
    "transaction_sample = json.loads(transactions_data.sample(1).to_json(orient='records'))[0]\n",
    "transaction_sample['timestamp'] = str(pd.Timestamp.now())\n",
    "transaction_sample"
   ]
  },
  {
   "cell_type": "code",
   "execution_count": 20,
   "metadata": {},
   "outputs": [
    {
     "data": {
      "text/plain": [
       "'{\"id\": \"c025bd2c-e929-4038-b44b-acbfdadb9006\"}'"
      ]
     },
     "execution_count": 20,
     "metadata": {},
     "output_type": "execute_result"
    }
   ],
   "source": [
    "# Post the sample to the ingestion endpoint\n",
    "requests.post(transaction_set_endpoint, json=transaction_sample).text"
   ]
  },
  {
   "cell_type": "markdown",
   "metadata": {},
   "source": [
    "## 3.2 - User Events"
   ]
  },
  {
   "cell_type": "markdown",
   "metadata": {},
   "source": [
    "### User Events - Deploy our FeatureSet live endpoint\n",
    "Deploy the events feature set's ingestion service using the feature set and all the previously defined resources."
   ]
  },
  {
   "cell_type": "code",
   "execution_count": 21,
   "metadata": {},
   "outputs": [],
   "source": [
    "# Create iguazio v3io stream and transactions push API endpoint\n",
    "events_stream = f'v3io:///projects/{project.name}/streams/events'\n",
    "events_pusher = mlrun.datastore.get_stream_pusher(events_stream)"
   ]
  },
  {
   "cell_type": "code",
   "execution_count": 22,
   "metadata": {},
   "outputs": [],
   "source": [
    "# Create a `serving` \"base function\" to deploy the ingestion function on\n",
    "# the serving runtimes enables the deployment of our feature set's computational graph\n",
    "function = (mlrun.new_function('ingest-events', kind='serving', image='mlrun/mlrun')).with_code(body=\" \")\n",
    "\n",
    "# Add stream trigger\n",
    "function.add_v3io_stream_trigger(events_stream)\n",
    "\n",
    "#\n",
    "run_config = fstore.RunConfig(function=function, local=False).apply(mlrun.mount_v3io())"
   ]
  },
  {
   "cell_type": "code",
   "execution_count": 23,
   "metadata": {},
   "outputs": [
    {
     "name": "stdout",
     "output_type": "stream",
     "text": [
      "> 2021-09-19 17:59:01,795 [info] Starting remote function deploy\n",
      "2021-09-19 17:59:02  (info) Deploying function\n",
      "2021-09-19 17:59:02  (info) Building\n",
      "2021-09-19 17:59:02  (info) Staging files and preparing base images\n",
      "2021-09-19 17:59:02  (info) Building processor image\n",
      "2021-09-19 17:59:03  (info) Build complete\n",
      "> 2021-09-19 17:59:12,356 [info] successfully deployed function: {'internal_invocation_urls': ['nuclio-fraud-demo-admin-ingest-events.default-tenant.svc.cluster.local:8080'], 'external_invocation_urls': ['fraud-demo-admin-ingest-events-fraud-demo-admin.default-tenant.app.jnewriujxdig.iguazio-cd1.com/']}\n"
     ]
    }
   ],
   "source": [
    "# Deploy the transactions feature set's ingestion service using the feature set\n",
    "# and all the defined resources above.\n",
    "events_set_endpoint = fstore.deploy_ingestion_service(name=\"ingest-events\", featureset=user_events_set,\n",
    "                                                  source=http_source, run_config=run_config)"
   ]
  },
  {
   "cell_type": "markdown",
   "metadata": {},
   "source": [
    "### User Events - Test the feature set HTTP endpoint"
   ]
  },
  {
   "cell_type": "code",
   "execution_count": 24,
   "metadata": {},
   "outputs": [
    {
     "data": {
      "text/plain": [
       "{'source': 'C1327677398',\n",
       " 'event': 'login',\n",
       " 'timestamp': '2021-09-19 17:59:12.452910'}"
      ]
     },
     "execution_count": 24,
     "metadata": {},
     "output_type": "execute_result"
    }
   ],
   "source": [
    "# Select a sample from the events dataset and serialize it to JSON\n",
    "user_events_sample = json.loads(user_events_data.sample(1).to_json(orient='records'))[0]\n",
    "user_events_sample['timestamp'] = str(pd.Timestamp.now())\n",
    "user_events_sample"
   ]
  },
  {
   "cell_type": "code",
   "execution_count": 25,
   "metadata": {},
   "outputs": [
    {
     "data": {
      "text/plain": [
       "'{\"id\": \"7e4ce1c3-68ef-4462-89b4-5203d2d01dea\"}'"
      ]
     },
     "execution_count": 25,
     "metadata": {},
     "output_type": "execute_result"
    }
   ],
   "source": [
    "# Post the sample to the ingestion endpoint\n",
    "requests.post(events_set_endpoint, json=user_events_sample).text"
   ]
  },
  {
   "cell_type": "markdown",
   "metadata": {},
   "source": [
    "## Done!\n",
    "\n",
    "You've completed Part 1 of the data-ingestion with the feature store.\n",
    "Proceed to [Part 2](02-create-training-model.ipynb) to learn how to train an ML model using the feature store data."
   ]
  }
 ],
 "metadata": {
  "kernelspec": {
   "display_name": "Python [conda env:root] *",
   "language": "python",
   "name": "conda-root-py"
  },
  "language_info": {
   "codemirror_mode": {
    "name": "ipython",
    "version": 3
   },
   "file_extension": ".py",
   "mimetype": "text/x-python",
   "name": "python",
   "nbconvert_exporter": "python",
   "pygments_lexer": "ipython3",
   "version": "3.7.6"
  },
  "toc-showtags": false
 },
 "nbformat": 4,
 "nbformat_minor": 4
}
