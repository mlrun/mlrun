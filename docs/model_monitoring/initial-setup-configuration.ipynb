{
 "cells": [
  {
   "cell_type": "markdown",
   "metadata": {
    "pycharm": {
     "name": "#%% md\n"
    }
   },
   "source": [
    "# Enable model monitoring (beta)\n",
    "To see tracking results, model monitoring needs to be enabled in each model.\n",
    "\n",
    "To enable model monitoring, include `serving_fn.set_tracking()` in the model server.\n",
    "\n",
    "To utilize drift measurement, supply the train set in the training step.\n",
    "\n",
    "**In this section**\n",
    "- [Model monitoring demo](#model-monitoring-demo)\n",
    "  - [Deploy model servers](#deploy-model-servers)\n",
    "  - [Simulating requests](#simulating-requests)\n",
    "\n",
    "## Model monitoring demo\n",
    "Use the following code blocks to test and explore model monitoring."
   ]
  },
  {
   "cell_type": "code",
   "execution_count": null,
   "metadata": {
    "jupyter": {
     "outputs_hidden": false
    },
    "pycharm": {
     "name": "#%%\n"
    }
   },
   "outputs": [],
   "source": [
    "# Set project name\n",
    "project_name = \"demo-project\""
   ]
  },
  {
   "cell_type": "markdown",
   "metadata": {},
   "source": [
    "### Deploy model servers\n",
    "Use the following code to deploy a model server in the Iguazio instance."
   ]
  },
  {
   "cell_type": "code",
   "execution_count": null,
   "metadata": {
    "jupyter": {
     "outputs_hidden": false
    },
    "pycharm": {
     "name": "#%%\n"
    }
   },
   "outputs": [],
   "source": [
    "import os\n",
    "import pandas as pd\n",
    "from sklearn.datasets import load_iris\n",
    "\n",
    "from mlrun import import_function, get_dataitem, get_or_create_project\n",
    "from mlrun.platforms import auto_mount\n",
    "\n",
    "project = get_or_create_project(project_name, context=\"./\")\n",
    "project.set_model_monitoring_credentials(os.environ.get(\"V3IO_ACCESS_KEY\"))\n",
    "\n",
    "# Download the pre-trained Iris model\n",
    "get_dataitem(\"https://s3.wasabisys.com/iguazio/models/iris/model.pkl\").download(\"model.pkl\")\n",
    "\n",
    "iris = load_iris()\n",
    "train_set = pd.DataFrame(iris['data'],\n",
    "                         columns=['sepal_length_cm', 'sepal_width_cm',\n",
    "                                  'petal_length_cm', 'petal_width_cm'])\n",
    "\n",
    "# Import the serving function from the function hub\n",
    "serving_fn = import_function('hub://v2_model_server', project=project_name).apply(auto_mount())\n",
    "\n",
    "model_name = \"RandomForestClassifier\"\n",
    "\n",
    "# Log the model through the projects API so that it is available through the feature store API\n",
    "project.log_model(model_name, model_file=\"model.pkl\", training_set=train_set)\n",
    "\n",
    "# Add the model to the serving function's routing spec\n",
    "serving_fn.add_model(model_name, model_path=f\"store://models/{project_name}/{model_name}:latest\")\n",
    "\n",
    "# Enable model monitoring\n",
    "serving_fn.set_tracking()\n",
    "\n",
    "# Deploy the function\n",
    "serving_fn.deploy()"
   ]
  },
  {
   "cell_type": "markdown",
   "metadata": {},
   "source": [
    "### Simulating requests\n",
    "Use the following code to simulate production data."
   ]
  },
  {
   "cell_type": "code",
   "execution_count": null,
   "metadata": {
    "jupyter": {
     "outputs_hidden": false
    },
    "pycharm": {
     "name": "#%%\n"
    }
   },
   "outputs": [],
   "source": [
    "import json\n",
    "from time import sleep\n",
    "from random import choice, uniform\n",
    "\n",
    "iris_data = iris['data'].tolist()\n",
    "\n",
    "while True:\n",
    "    data_point = choice(iris_data)\n",
    "    serving_fn.invoke(f'v2/models/{model_name}/infer', json.dumps({'inputs': [data_point]}))\n",
    "    sleep(uniform(0.2, 1.7))\n"
   ]
  }
 ],
 "metadata": {
  "kernelspec": {
   "display_name": "Python 3.8.10 64-bit",
   "language": "python",
   "name": "python3"
  },
  "language_info": {
   "codemirror_mode": {
    "name": "ipython",
    "version": 3
   },
   "file_extension": ".py",
   "mimetype": "text/x-python",
   "name": "python",
   "nbconvert_exporter": "python",
   "pygments_lexer": "ipython3",
   "version": "3.8.10"
  },
  "vscode": {
   "interpreter": {
    "hash": "916dbcbb3f70747c44a77c7bcd40155683ae19c65e1c03b4aa3499c5328201f1"
   }
  }
 },
 "nbformat": 4,
 "nbformat_minor": 4
}
