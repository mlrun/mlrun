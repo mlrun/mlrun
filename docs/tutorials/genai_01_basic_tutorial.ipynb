{
 "cells": [
  {
   "cell_type": "markdown",
   "id": "446ad033",
   "metadata": {},
   "source": [
    "(genai_01_basic_tutorial)=\n",
    "# Deploying an LLM using MLRun\n",
    "This notebook illustrates deploying an LLM using MLRun.\n",
    "\n",
    "Since this tutorial is for illustrative purposes, it uses minimal resources &mdash; CPU and not GPU, and a small amount of data.\n",
    "\n",
    "**In this tutorial:**\n",
    "- [MLRun installation and configuration](#mlrun-installation-and-configuration)\n",
    "- [Set up the vector database in the cluster](#set-up-the-vector-database-in-the-cluster)\n",
    "- [Build the vector DB](#build-the-vector-db)\n",
    "- [Serving the function](#serving-the-function)\n",
    "\n",
    "**See also:**\n",
    "- {ref}`model-monitoring-overview`\n",
    "- {ref}`alerts-notifications`\n",
    "\n",
    "<iframe width=\"560\" height=\"315\" src=\"https://www.youtube.com/embed/aoP__SaAO1M\" title=\"YouTube video player\" frameborder=\"0\" allow=\"accelerometer; autoplay; clipboard-write; encrypted-media; gyroscope; picture-in-picture; web-share\" allowfullscreen></iframe><br><br>\n",
    "\n",
    "## MLRun installation and configuration\n",
    "\n",
    "Before running this notebook make sure the `mlrun` package is installed (`pip install mlrun`) and that you have configured the access to MLRun service. "
   ]
  },
  {
   "cell_type": "code",
   "execution_count": null,
   "id": "da12ecdc",
   "metadata": {},
   "outputs": [],
   "source": [
    "# Install MLRun if not installed, run this only once. Restart the notebook after the install!\n",
    "%pip install mlrun"
   ]
  },
  {
   "cell_type": "code",
   "execution_count": 1,
   "id": "e00e8af1-733e-4806-b994-60693f1b1d44",
   "metadata": {},
   "outputs": [],
   "source": [
    "import json\n",
    "import mlrun"
   ]
  },
  {
   "cell_type": "markdown",
   "id": "09434730",
   "metadata": {},
   "source": [
    "**Get or create a new project**\n",
    "\n",
    "First create, load or use (get) an [MLRun Project](../projects/project.html). The {py:meth}`~mlrun.projects.get_or_create_project` method tries to load the project from the MLRun DB. If the project does not exist, it creates a new one."
   ]
  },
  {
   "cell_type": "code",
   "execution_count": 2,
   "id": "0464f4f9-2861-4cd4-bcf6-26ad81734bc9",
   "metadata": {},
   "outputs": [
    {
     "name": "stdout",
     "output_type": "stream",
     "text": [
      "> 2024-06-17 22:40:49,076 [info] Project loaded successfully: {'project_name': 'genai-tutorial-new'}\n"
     ]
    }
   ],
   "source": [
    "project = mlrun.get_or_create_project(\"genai-tutorial-new\")"
   ]
  },
  {
   "cell_type": "markdown",
   "id": "4c74239f",
   "metadata": {},
   "source": [
    "## Set up the vector database in the cluster \n",
    "These two steps imports a pre-defined dataset and load it into a vector database. Then the vector database is stored in the data layer of the cluster.\n",
    "\n",
    "If you're not using Iguazio's Jupyter, download {download}`fetch-vectordb-data.py <src/fetch-vectordb-data.py>`.\n",
    "\n",
    "\n",
    "The image for this step can be created using the following Dockerfile (contains MLRun and Chroma DB):\n",
    "```\n",
    "FROM mlrun/mlrun:1.6.3\n",
    "RUN pip install chromadb==0.5.0 langchain==0.2.3 langchain-community==0.2.4 langchain-core==0.2.5 langchain-text-splitters==0.2.1 clean-text==0.6.0\n",
    "```"
   ]
  },
  {
   "cell_type": "code",
   "execution_count": 3,
   "id": "ee2262a8-098b-4635-b2cb-03d314bd3050",
   "metadata": {},
   "outputs": [],
   "source": [
    "# The model used is the free open-source PHI 2\n",
    "MODEL_ID = \"microsoft/phi-2\"\n",
    "\n",
    "# Define the dataset for the VectorDB\n",
    "DATA_SET = mlrun.get_sample_path(\"data/genai-tutorial/labelled_newscatcher_dataset.csv\")\n",
    "\n",
    "# The location of the VectorDB files\n",
    "CACHE_DIR = mlrun.mlconf.artifact_path\n",
    "CACHE_DIR = (\n",
    "    CACHE_DIR.replace(\"v3io://\", \"/v3io\").replace(\"{{run.project}}\", project.name)\n",
    "    + \"/cache\"\n",
    ")"
   ]
  },
  {
   "cell_type": "markdown",
   "id": "dc0539b2",
   "metadata": {},
   "source": [
    "Fetch the dataset for the Vector DB and save it in cluster:"
   ]
  },
  {
   "cell_type": "code",
   "execution_count": 4,
   "id": "7ae9d428-9ed3-4e66-9817-97d84d89b5a5",
   "metadata": {},
   "outputs": [],
   "source": [
    "fetch = project.set_function(\n",
    "    name=\"fetch-vectordb-data\",\n",
    "    func=\"src/fetch-vectordb-data.py\",\n",
    "    kind=\"job\",\n",
    "    image=\"gcr.io/iguazio/mlrun-genai/mlrun-llm-demo-data:1.6.3\",\n",
    ")"
   ]
  },
  {
   "cell_type": "code",
   "execution_count": 5,
   "id": "8fc7d394-c965-40fe-acfb-33f132b98630",
   "metadata": {},
   "outputs": [
    {
     "data": {
      "text/plain": [
       "'db://genai-tutorial-new/fetch-vectordb-data:latest'"
      ]
     },
     "execution_count": 5,
     "metadata": {},
     "output_type": "execute_result"
    }
   ],
   "source": [
    "fetch.save()"
   ]
  },
  {
   "cell_type": "code",
   "execution_count": 6,
   "id": "8fa74f4e-e26d-4826-b9e2-6f165b0203ea",
   "metadata": {},
   "outputs": [
    {
     "name": "stdout",
     "output_type": "stream",
     "text": [
      "> 2024-06-17 22:40:51,371 [info] Storing function: {'name': 'fetch-vectordb-data-run', 'uid': 'c02105b2eb754580b1fb629c25158ab6', 'db': 'http://mlrun-api:8080'}\n",
      "> 2024-06-17 22:40:51,626 [info] Job is running in the background, pod: fetch-vectordb-data-run-r8bhx\n",
      "Since the GPL-licensed package `unidecode` is not installed, using Python's `unicodedata` package which yields worse results.\n",
      "WARNING:root:USER_AGENT environment variable not set, consider setting it to identify your requests.\n",
      "Fetching pages: 100%|##########| 80/80 [00:19<00:00,  4.02it/s]\n",
      "> 2024-06-17 22:42:28,297 [info] Dataset dowloaded and logged\n",
      "> 2024-06-17 22:42:28,632 [info] To track results use the CLI: {'info_cmd': 'mlrun get run c02105b2eb754580b1fb629c25158ab6 -p genai-tutorial-new', 'logs_cmd': 'mlrun logs c02105b2eb754580b1fb629c25158ab6 -p genai-tutorial-new'}\n",
      "> 2024-06-17 22:42:28,632 [info] Or click for UI: {'ui_url': 'https://dashboard.default-tenant.app.cst-355.iguazio-cd1.com/mlprojects/genai-tutorial-new/jobs/monitor/c02105b2eb754580b1fb629c25158ab6/overview'}\n",
      "> 2024-06-17 22:42:28,633 [info] Run execution finished: {'status': 'completed', 'name': 'fetch-vectordb-data-run'}\n"
     ]
    },
    {
     "data": {
      "text/html": [
       "<style>\n",
       ".dictlist {\n",
       "  background-color: #4EC64B;\n",
       "  text-align: center;\n",
       "  margin: 4px;\n",
       "  border-radius: 3px; padding: 0px 3px 1px 3px; display: inline-block;}\n",
       ".artifact {\n",
       "  cursor: pointer;\n",
       "  background-color: #4EC64B;\n",
       "  text-align: left;\n",
       "  margin: 4px; border-radius: 3px; padding: 0px 3px 1px 3px; display: inline-block;\n",
       "}\n",
       "div.block.hidden {\n",
       "  display: none;\n",
       "}\n",
       ".clickable {\n",
       "  cursor: pointer;\n",
       "}\n",
       ".ellipsis {\n",
       "  display: inline-block;\n",
       "  max-width: 60px;\n",
       "  white-space: nowrap;\n",
       "  overflow: hidden;\n",
       "  text-overflow: ellipsis;\n",
       "}\n",
       ".master-wrapper {\n",
       "  display: flex;\n",
       "  flex-flow: row nowrap;\n",
       "  justify-content: flex-start;\n",
       "  align-items: stretch;\n",
       "}\n",
       ".master-tbl {\n",
       "  flex: 3\n",
       "}\n",
       ".master-wrapper > div {\n",
       "  margin: 4px;\n",
       "  padding: 10px;\n",
       "}\n",
       "iframe.fileview {\n",
       "  border: 0 none;\n",
       "  height: 100%;\n",
       "  width: 100%;\n",
       "  white-space: pre-wrap;\n",
       "}\n",
       ".pane-header-title {\n",
       "  width: 80%;\n",
       "  font-weight: 500;\n",
       "}\n",
       ".pane-header {\n",
       "  line-height: 1;\n",
       "  background-color: #4EC64B;\n",
       "  padding: 3px;\n",
       "}\n",
       ".pane-header .close {\n",
       "  font-size: 20px;\n",
       "  font-weight: 700;\n",
       "  float: right;\n",
       "  margin-top: -5px;\n",
       "}\n",
       ".master-wrapper .right-pane {\n",
       "  border: 1px inset silver;\n",
       "  width: 40%;\n",
       "  min-height: 300px;\n",
       "  flex: 3\n",
       "  min-width: 500px;\n",
       "}\n",
       ".master-wrapper * {\n",
       "  box-sizing: border-box;\n",
       "}\n",
       "</style><script>\n",
       "function copyToClipboard(fld) {\n",
       "    if (document.queryCommandSupported && document.queryCommandSupported('copy')) {\n",
       "        var textarea = document.createElement('textarea');\n",
       "        textarea.textContent = fld.innerHTML;\n",
       "        textarea.style.position = 'fixed';\n",
       "        document.body.appendChild(textarea);\n",
       "        textarea.select();\n",
       "\n",
       "        try {\n",
       "            return document.execCommand('copy'); // Security exception may be thrown by some browsers.\n",
       "        } catch (ex) {\n",
       "\n",
       "        } finally {\n",
       "            document.body.removeChild(textarea);\n",
       "        }\n",
       "    }\n",
       "}\n",
       "function expandPanel(el) {\n",
       "  const panelName = \"#\" + el.getAttribute('paneName');\n",
       "  console.log(el.title);\n",
       "\n",
       "  document.querySelector(panelName + \"-title\").innerHTML = el.title\n",
       "  iframe = document.querySelector(panelName + \"-body\");\n",
       "\n",
       "  const tblcss = `<style> body { font-family: Arial, Helvetica, sans-serif;}\n",
       "    #csv { margin-bottom: 15px; }\n",
       "    #csv table { border-collapse: collapse;}\n",
       "    #csv table td { padding: 4px 8px; border: 1px solid silver;} </style>`;\n",
       "\n",
       "  function csvToHtmlTable(str) {\n",
       "    return '<div id=\"csv\"><table><tr><td>' +  str.replace(/[\\n\\r]+$/g, '').replace(/[\\n\\r]+/g, '</td></tr><tr><td>')\n",
       "      .replace(/,/g, '</td><td>') + '</td></tr></table></div>';\n",
       "  }\n",
       "\n",
       "  function reqListener () {\n",
       "    if (el.title.endsWith(\".csv\")) {\n",
       "      iframe.setAttribute(\"srcdoc\", tblcss + csvToHtmlTable(this.responseText));\n",
       "    } else {\n",
       "      iframe.setAttribute(\"srcdoc\", this.responseText);\n",
       "    }\n",
       "    console.log(this.responseText);\n",
       "  }\n",
       "\n",
       "  const oReq = new XMLHttpRequest();\n",
       "  oReq.addEventListener(\"load\", reqListener);\n",
       "  oReq.open(\"GET\", el.title);\n",
       "  oReq.send();\n",
       "\n",
       "\n",
       "  //iframe.src = el.title;\n",
       "  const resultPane = document.querySelector(panelName + \"-pane\");\n",
       "  if (resultPane.classList.contains(\"hidden\")) {\n",
       "    resultPane.classList.remove(\"hidden\");\n",
       "  }\n",
       "}\n",
       "function closePanel(el) {\n",
       "  const panelName = \"#\" + el.getAttribute('paneName')\n",
       "  const resultPane = document.querySelector(panelName + \"-pane\");\n",
       "  if (!resultPane.classList.contains(\"hidden\")) {\n",
       "    resultPane.classList.add(\"hidden\");\n",
       "  }\n",
       "}\n",
       "\n",
       "</script>\n",
       "<div class=\"master-wrapper\">\n",
       "  <div class=\"block master-tbl\"><div>\n",
       "<style scoped>\n",
       "    .dataframe tbody tr th:only-of-type {\n",
       "        vertical-align: middle;\n",
       "    }\n",
       "\n",
       "    .dataframe tbody tr th {\n",
       "        vertical-align: top;\n",
       "    }\n",
       "\n",
       "    .dataframe thead th {\n",
       "        text-align: right;\n",
       "    }\n",
       "</style>\n",
       "<table border=\"1\" class=\"dataframe\">\n",
       "  <thead>\n",
       "    <tr style=\"text-align: right;\">\n",
       "      <th>project</th>\n",
       "      <th>uid</th>\n",
       "      <th>iter</th>\n",
       "      <th>start</th>\n",
       "      <th>state</th>\n",
       "      <th>name</th>\n",
       "      <th>labels</th>\n",
       "      <th>inputs</th>\n",
       "      <th>parameters</th>\n",
       "      <th>results</th>\n",
       "      <th>artifacts</th>\n",
       "    </tr>\n",
       "  </thead>\n",
       "  <tbody>\n",
       "    <tr>\n",
       "      <td>genai-tutorial-new</td>\n",
       "      <td><div title=\"c02105b2eb754580b1fb629c25158ab6\"><a href=\"https://dashboard.default-tenant.app.cst-355.iguazio-cd1.com/mlprojects/genai-tutorial-new/jobs/monitor/c02105b2eb754580b1fb629c25158ab6/overview\" target=\"_blank\" >...25158ab6</a></div></td>\n",
       "      <td>0</td>\n",
       "      <td>Jun 17 22:41:58</td>\n",
       "      <td>completed</td>\n",
       "      <td>fetch-vectordb-data-run</td>\n",
       "      <td><div class=\"dictlist\">v3io_user=nick</div><div class=\"dictlist\">kind=job</div><div class=\"dictlist\">owner=nick</div><div class=\"dictlist\">mlrun/client_version=1.6.1</div><div class=\"dictlist\">mlrun/client_python_version=3.9.18</div><div class=\"dictlist\">host=fetch-vectordb-data-run-r8bhx</div></td>\n",
       "      <td></td>\n",
       "      <td><div class=\"dictlist\">data_set=https://s3.wasabisys.com/iguazio/data/genai-tutorial/labelled_newscatcher_dataset.csv</div></td>\n",
       "      <td></td>\n",
       "      <td><div class=\"artifact\" onclick=\"expandPanel(this)\" paneName=\"resultc3de48af\" title=\"files/v3io/projects/genai-tutorial-new/artifacts/fetch-vectordb-data-run/0/vector-db-dataset.csv\">vector-db-dataset</div></td>\n",
       "    </tr>\n",
       "  </tbody>\n",
       "</table>\n",
       "</div></div>\n",
       "  <div id=\"resultc3de48af-pane\" class=\"right-pane block hidden\">\n",
       "    <div class=\"pane-header\">\n",
       "      <span id=\"resultc3de48af-title\" class=\"pane-header-title\">Title</span>\n",
       "      <span onclick=\"closePanel(this)\" paneName=\"resultc3de48af\" class=\"close clickable\">&times;</span>\n",
       "    </div>\n",
       "    <iframe class=\"fileview\" id=\"resultc3de48af-body\"></iframe>\n",
       "  </div>\n",
       "</div>\n"
      ],
      "text/plain": [
       "<IPython.core.display.HTML object>"
      ]
     },
     "metadata": {},
     "output_type": "display_data"
    },
    {
     "name": "stdout",
     "output_type": "stream",
     "text": [
      "\n"
     ]
    },
    {
     "data": {
      "text/html": [
       "<b> > to track results use the .show() or .logs() methods  or <a href=\"https://dashboard.default-tenant.app.cst-355.iguazio-cd1.com/mlprojects/genai-tutorial-new/jobs/monitor/c02105b2eb754580b1fb629c25158ab6/overview\" target=\"_blank\">click here</a> to open in UI</b>"
      ],
      "text/plain": [
       "<IPython.core.display.HTML object>"
      ]
     },
     "metadata": {},
     "output_type": "display_data"
    },
    {
     "name": "stdout",
     "output_type": "stream",
     "text": [
      "> 2024-06-17 22:42:33,114 [info] Run execution finished: {'status': 'completed', 'name': 'fetch-vectordb-data-run'}\n"
     ]
    }
   ],
   "source": [
    "ret = project.run_function(\n",
    "    name=\"fetch-vectordb-data-run\",\n",
    "    function=\"fetch-vectordb-data\",\n",
    "    handler=\"handler\",\n",
    "    params={\"data_set\": DATA_SET},\n",
    ")"
   ]
  },
  {
   "cell_type": "code",
   "execution_count": 7,
   "id": "dcb6f127-b3eb-4b04-aa92-51e74b9518ec",
   "metadata": {},
   "outputs": [
    {
     "data": {
      "text/plain": [
       "{'vector-db-dataset': 'store://artifacts/genai-tutorial-new/fetch-vectordb-data-run_vector-db-dataset@c02105b2eb754580b1fb629c25158ab6'}"
      ]
     },
     "execution_count": 7,
     "metadata": {},
     "output_type": "execute_result"
    }
   ],
   "source": [
    "ret.outputs"
   ]
  },
  {
   "cell_type": "markdown",
   "id": "1110e1b6-b306-4467-94cd-d8f849f251f7",
   "metadata": {
    "tags": []
   },
   "source": [
    "## Build the vector DB\n",
    "\n",
    "Build the vector DB in the data layer and load the data into it.\n",
    "\n",
    "The image for this step can be created using the following Dockerfile (contains MLRun and Chroma DB):\n",
    "```\n",
    "FROM mlrun/mlrun:1.6.3\n",
    "RUN pip install chromadb==0.5.0 langchain==0.2.3 langchain-community==0.2.4 langchain-core==0.2.5 langchain-text-splitters==0.2.1 clean-text==0.6.0\n",
    "```"
   ]
  },
  {
   "cell_type": "markdown",
   "id": "abcf51a8",
   "metadata": {},
   "source": [
    "If you're not using Iguazio's Jupyter, download {download}`the build vector db <./src/build-vector-db.py>`."
   ]
  },
  {
   "cell_type": "code",
   "execution_count": 8,
   "id": "075bef9b-dd57-4d5f-8c44-8e45cb5866d6",
   "metadata": {},
   "outputs": [],
   "source": [
    "# Build the vector DB using the image\n",
    "build_vectordb = project.set_function(\n",
    "    name=\"build-vectordb\",\n",
    "    func=\"src/build-vector-db.py\",\n",
    "    kind=\"job\",\n",
    "    image=\"gcr.io/iguazio/mlrun-genai/mlrun-llm-demo-data:1.6.3\",\n",
    ").apply(mlrun.auto_mount())"
   ]
  },
  {
   "cell_type": "code",
   "execution_count": 9,
   "id": "c94503db-352e-4ad9-9462-aea9da05862e",
   "metadata": {},
   "outputs": [
    {
     "data": {
      "text/plain": [
       "'db://genai-tutorial-new/build-vectordb:latest'"
      ]
     },
     "execution_count": 9,
     "metadata": {},
     "output_type": "execute_result"
    }
   ],
   "source": [
    "build_vectordb.save()"
   ]
  },
  {
   "cell_type": "code",
   "execution_count": 10,
   "id": "607c9d90-bac0-440c-b67a-b020fe6e2f5a",
   "metadata": {},
   "outputs": [
    {
     "name": "stdout",
     "output_type": "stream",
     "text": [
      "> 2024-06-17 22:42:38,642 [info] Storing function: {'name': 'build-vectordb-handler-chroma', 'uid': '27068ddcaca249c482f15b92aced8bbf', 'db': 'http://mlrun-api:8080'}\n",
      "> 2024-06-17 22:42:38,926 [info] Job is running in the background, pod: build-vectordb-handler-chroma-2sp77\n",
      "> 2024-06-17 22:43:15,609 [info] downloading v3io:///projects/genai-tutorial-new/artifacts/fetch-vectordb-data-run/0/vector-db-dataset.csv to local temp file\n",
      "Creating collection: 'my_news'\n",
      "/root/.cache/chroma/onnx_models/all-MiniLM-L6-v2/onnx.tar.gz: 100%|██████████| 79.3M/79.3M [00:01<00:00, 83.1MiB/s]\n",
      "> 2024-06-17 22:45:24,125 [info] Vector DB was created\n",
      "> 2024-06-17 22:45:24,174 [info] To track results use the CLI: {'info_cmd': 'mlrun get run 27068ddcaca249c482f15b92aced8bbf -p genai-tutorial-new', 'logs_cmd': 'mlrun logs 27068ddcaca249c482f15b92aced8bbf -p genai-tutorial-new'}\n",
      "> 2024-06-17 22:45:24,174 [info] Or click for UI: {'ui_url': 'https://dashboard.default-tenant.app.cst-355.iguazio-cd1.com/mlprojects/genai-tutorial-new/jobs/monitor/27068ddcaca249c482f15b92aced8bbf/overview'}\n",
      "> 2024-06-17 22:45:24,175 [info] Run execution finished: {'status': 'completed', 'name': 'build-vectordb-handler-chroma'}\n"
     ]
    },
    {
     "data": {
      "text/html": [
       "<style>\n",
       ".dictlist {\n",
       "  background-color: #4EC64B;\n",
       "  text-align: center;\n",
       "  margin: 4px;\n",
       "  border-radius: 3px; padding: 0px 3px 1px 3px; display: inline-block;}\n",
       ".artifact {\n",
       "  cursor: pointer;\n",
       "  background-color: #4EC64B;\n",
       "  text-align: left;\n",
       "  margin: 4px; border-radius: 3px; padding: 0px 3px 1px 3px; display: inline-block;\n",
       "}\n",
       "div.block.hidden {\n",
       "  display: none;\n",
       "}\n",
       ".clickable {\n",
       "  cursor: pointer;\n",
       "}\n",
       ".ellipsis {\n",
       "  display: inline-block;\n",
       "  max-width: 60px;\n",
       "  white-space: nowrap;\n",
       "  overflow: hidden;\n",
       "  text-overflow: ellipsis;\n",
       "}\n",
       ".master-wrapper {\n",
       "  display: flex;\n",
       "  flex-flow: row nowrap;\n",
       "  justify-content: flex-start;\n",
       "  align-items: stretch;\n",
       "}\n",
       ".master-tbl {\n",
       "  flex: 3\n",
       "}\n",
       ".master-wrapper > div {\n",
       "  margin: 4px;\n",
       "  padding: 10px;\n",
       "}\n",
       "iframe.fileview {\n",
       "  border: 0 none;\n",
       "  height: 100%;\n",
       "  width: 100%;\n",
       "  white-space: pre-wrap;\n",
       "}\n",
       ".pane-header-title {\n",
       "  width: 80%;\n",
       "  font-weight: 500;\n",
       "}\n",
       ".pane-header {\n",
       "  line-height: 1;\n",
       "  background-color: #4EC64B;\n",
       "  padding: 3px;\n",
       "}\n",
       ".pane-header .close {\n",
       "  font-size: 20px;\n",
       "  font-weight: 700;\n",
       "  float: right;\n",
       "  margin-top: -5px;\n",
       "}\n",
       ".master-wrapper .right-pane {\n",
       "  border: 1px inset silver;\n",
       "  width: 40%;\n",
       "  min-height: 300px;\n",
       "  flex: 3\n",
       "  min-width: 500px;\n",
       "}\n",
       ".master-wrapper * {\n",
       "  box-sizing: border-box;\n",
       "}\n",
       "</style><script>\n",
       "function copyToClipboard(fld) {\n",
       "    if (document.queryCommandSupported && document.queryCommandSupported('copy')) {\n",
       "        var textarea = document.createElement('textarea');\n",
       "        textarea.textContent = fld.innerHTML;\n",
       "        textarea.style.position = 'fixed';\n",
       "        document.body.appendChild(textarea);\n",
       "        textarea.select();\n",
       "\n",
       "        try {\n",
       "            return document.execCommand('copy'); // Security exception may be thrown by some browsers.\n",
       "        } catch (ex) {\n",
       "\n",
       "        } finally {\n",
       "            document.body.removeChild(textarea);\n",
       "        }\n",
       "    }\n",
       "}\n",
       "function expandPanel(el) {\n",
       "  const panelName = \"#\" + el.getAttribute('paneName');\n",
       "  console.log(el.title);\n",
       "\n",
       "  document.querySelector(panelName + \"-title\").innerHTML = el.title\n",
       "  iframe = document.querySelector(panelName + \"-body\");\n",
       "\n",
       "  const tblcss = `<style> body { font-family: Arial, Helvetica, sans-serif;}\n",
       "    #csv { margin-bottom: 15px; }\n",
       "    #csv table { border-collapse: collapse;}\n",
       "    #csv table td { padding: 4px 8px; border: 1px solid silver;} </style>`;\n",
       "\n",
       "  function csvToHtmlTable(str) {\n",
       "    return '<div id=\"csv\"><table><tr><td>' +  str.replace(/[\\n\\r]+$/g, '').replace(/[\\n\\r]+/g, '</td></tr><tr><td>')\n",
       "      .replace(/,/g, '</td><td>') + '</td></tr></table></div>';\n",
       "  }\n",
       "\n",
       "  function reqListener () {\n",
       "    if (el.title.endsWith(\".csv\")) {\n",
       "      iframe.setAttribute(\"srcdoc\", tblcss + csvToHtmlTable(this.responseText));\n",
       "    } else {\n",
       "      iframe.setAttribute(\"srcdoc\", this.responseText);\n",
       "    }\n",
       "    console.log(this.responseText);\n",
       "  }\n",
       "\n",
       "  const oReq = new XMLHttpRequest();\n",
       "  oReq.addEventListener(\"load\", reqListener);\n",
       "  oReq.open(\"GET\", el.title);\n",
       "  oReq.send();\n",
       "\n",
       "\n",
       "  //iframe.src = el.title;\n",
       "  const resultPane = document.querySelector(panelName + \"-pane\");\n",
       "  if (resultPane.classList.contains(\"hidden\")) {\n",
       "    resultPane.classList.remove(\"hidden\");\n",
       "  }\n",
       "}\n",
       "function closePanel(el) {\n",
       "  const panelName = \"#\" + el.getAttribute('paneName')\n",
       "  const resultPane = document.querySelector(panelName + \"-pane\");\n",
       "  if (!resultPane.classList.contains(\"hidden\")) {\n",
       "    resultPane.classList.add(\"hidden\");\n",
       "  }\n",
       "}\n",
       "\n",
       "</script>\n",
       "<div class=\"master-wrapper\">\n",
       "  <div class=\"block master-tbl\"><div>\n",
       "<style scoped>\n",
       "    .dataframe tbody tr th:only-of-type {\n",
       "        vertical-align: middle;\n",
       "    }\n",
       "\n",
       "    .dataframe tbody tr th {\n",
       "        vertical-align: top;\n",
       "    }\n",
       "\n",
       "    .dataframe thead th {\n",
       "        text-align: right;\n",
       "    }\n",
       "</style>\n",
       "<table border=\"1\" class=\"dataframe\">\n",
       "  <thead>\n",
       "    <tr style=\"text-align: right;\">\n",
       "      <th>project</th>\n",
       "      <th>uid</th>\n",
       "      <th>iter</th>\n",
       "      <th>start</th>\n",
       "      <th>state</th>\n",
       "      <th>name</th>\n",
       "      <th>labels</th>\n",
       "      <th>inputs</th>\n",
       "      <th>parameters</th>\n",
       "      <th>results</th>\n",
       "      <th>artifacts</th>\n",
       "    </tr>\n",
       "  </thead>\n",
       "  <tbody>\n",
       "    <tr>\n",
       "      <td>genai-tutorial-new</td>\n",
       "      <td><div title=\"27068ddcaca249c482f15b92aced8bbf\"><a href=\"https://dashboard.default-tenant.app.cst-355.iguazio-cd1.com/mlprojects/genai-tutorial-new/jobs/monitor/27068ddcaca249c482f15b92aced8bbf/overview\" target=\"_blank\" >...aced8bbf</a></div></td>\n",
       "      <td>0</td>\n",
       "      <td>Jun 17 22:43:15</td>\n",
       "      <td>completed</td>\n",
       "      <td>build-vectordb-handler-chroma</td>\n",
       "      <td><div class=\"dictlist\">v3io_user=nick</div><div class=\"dictlist\">kind=job</div><div class=\"dictlist\">owner=nick</div><div class=\"dictlist\">mlrun/client_version=1.6.1</div><div class=\"dictlist\">mlrun/client_python_version=3.9.18</div><div class=\"dictlist\">host=build-vectordb-handler-chroma-2sp77</div></td>\n",
       "      <td><div title=\"store://artifacts/genai-tutorial-new/fetch-vectordb-data-run_vector-db-dataset@c02105b2eb754580b1fb629c25158ab6\">df</div></td>\n",
       "      <td><div class=\"dictlist\">cache_dir=/v3io/projects/genai-tutorial-new/artifacts/cache</div></td>\n",
       "      <td></td>\n",
       "      <td></td>\n",
       "    </tr>\n",
       "  </tbody>\n",
       "</table>\n",
       "</div></div>\n",
       "  <div id=\"result399866c2-pane\" class=\"right-pane block hidden\">\n",
       "    <div class=\"pane-header\">\n",
       "      <span id=\"result399866c2-title\" class=\"pane-header-title\">Title</span>\n",
       "      <span onclick=\"closePanel(this)\" paneName=\"result399866c2\" class=\"close clickable\">&times;</span>\n",
       "    </div>\n",
       "    <iframe class=\"fileview\" id=\"result399866c2-body\"></iframe>\n",
       "  </div>\n",
       "</div>\n"
      ],
      "text/plain": [
       "<IPython.core.display.HTML object>"
      ]
     },
     "metadata": {},
     "output_type": "display_data"
    },
    {
     "name": "stdout",
     "output_type": "stream",
     "text": [
      "\n"
     ]
    },
    {
     "data": {
      "text/html": [
       "<b> > to track results use the .show() or .logs() methods  or <a href=\"https://dashboard.default-tenant.app.cst-355.iguazio-cd1.com/mlprojects/genai-tutorial-new/jobs/monitor/27068ddcaca249c482f15b92aced8bbf/overview\" target=\"_blank\">click here</a> to open in UI</b>"
      ],
      "text/plain": [
       "<IPython.core.display.HTML object>"
      ]
     },
     "metadata": {},
     "output_type": "display_data"
    },
    {
     "name": "stdout",
     "output_type": "stream",
     "text": [
      "> 2024-06-17 22:45:30,697 [info] Run execution finished: {'status': 'completed', 'name': 'build-vectordb-handler-chroma'}\n"
     ]
    },
    {
     "data": {
      "text/plain": [
       "<mlrun.model.RunObject at 0x7f373e114fa0>"
      ]
     },
     "execution_count": 10,
     "metadata": {},
     "output_type": "execute_result"
    }
   ],
   "source": [
    "project.run_function(\n",
    "    function=\"build-vectordb\",\n",
    "    inputs={\"df\": ret.outputs[\"vector-db-dataset\"]},\n",
    "    params={\"cache_dir\": CACHE_DIR},\n",
    "    handler=\"handler_chroma\",\n",
    ")"
   ]
  },
  {
   "cell_type": "markdown",
   "id": "6e013855",
   "metadata": {},
   "source": [
    "## Serving the function\n",
    "\n",
    "The image for this step can be created using the following Dockerfile (contains Chroma DB, Transformers, TF and PyTorch):"
   ]
  },
  {
   "cell_type": "markdown",
   "id": "59df6990-690a-4302-85a4-5a59e6bd8274",
   "metadata": {},
   "source": [
    "```\n",
    "FROM mlrun/mlrun:1.6.3\n",
    "RUN pip install chromadb==0.5.0 transformers==4.41.2 tensorflow==2.16.1 torch\n",
    "```"
   ]
  },
  {
   "cell_type": "markdown",
   "id": "0df69152",
   "metadata": {},
   "source": [
    "If you're not using Iguazio's Jupyter, download {download}`serving.py <./src/serving.py>`.\n",
    "Now you can deploy the the Nuclio function that serves the LLM:"
   ]
  },
  {
   "cell_type": "code",
   "execution_count": 15,
   "id": "ad65431f",
   "metadata": {},
   "outputs": [
    {
     "name": "stdout",
     "output_type": "stream",
     "text": [
      "> 2024-06-17 22:51:29,928 [warning] Adding HTTP trigger despite the default HTTP trigger creation being disabled\n"
     ]
    },
    {
     "data": {
      "text/plain": [
       "<mlrun.runtimes.function.RemoteRuntime at 0x7f373e114e20>"
      ]
     },
     "execution_count": 15,
     "metadata": {},
     "output_type": "execute_result"
    }
   ],
   "source": [
    "serve_func = project.set_function(\n",
    "    name=\"serve-llm\",\n",
    "    func=\"src/serving.py\",\n",
    "    image=\"gcr.io/iguazio/mlrun-genai/llmserve:1.6.3\",\n",
    "    kind=\"nuclio\",\n",
    ").apply(mlrun.auto_mount())\n",
    "\n",
    "# Transferring the model and VectorDB path to the serving functions\n",
    "serve_func.set_envs(env_vars={\"MODEL_ID\": MODEL_ID, \"CACHE_DIR\": CACHE_DIR})\n",
    "\n",
    "# Since the model is stored in memory, use only 1 replica and and one worker\n",
    "# Since this is running on CPU only, inference might take ~1 minute (increasing timeout)\n",
    "serve_func.spec.min_replicas = 1\n",
    "serve_func.spec.max_replicas = 1\n",
    "serve_func.with_http(worker_timeout=120, gateway_timeout=150, workers=1)\n",
    "serve_func.set_config(\"spec.readinessTimeoutSeconds\", 300)"
   ]
  },
  {
   "cell_type": "code",
   "execution_count": 16,
   "id": "bc7ceef6-f763-417c-9b0c-d0f2920fe1b1",
   "metadata": {},
   "outputs": [
    {
     "name": "stdout",
     "output_type": "stream",
     "text": [
      "> 2024-06-17 22:51:30,191 [info] Starting remote function deploy\n",
      "2024-06-17 22:51:30  (info) Deploying function\n",
      "2024-06-17 22:51:30  (info) Building\n",
      "2024-06-17 22:51:30  (info) Staging files and preparing base images\n",
      "2024-06-17 22:51:30  (warn) Using user provided base image, runtime interpreter version is provided by the base image\n",
      "2024-06-17 22:51:30  (info) Building processor image\n",
      "2024-06-17 22:56:15  (info) Build complete\n",
      "2024-06-17 22:57:12  (info) Function deploy complete\n",
      "> 2024-06-17 22:57:12,371 [info] Successfully deployed function: {'internal_invocation_urls': ['nuclio-genai-tutorial-new-serve-llm.default-tenant.svc.cluster.local:8080'], 'external_invocation_urls': ['genai-tutorial-new-serve-llm.default-tenant.app.cst-355.iguazio-cd1.com/']}\n"
     ]
    }
   ],
   "source": [
    "serve_func = project.deploy_function(function=\"serve-llm\")"
   ]
  },
  {
   "cell_type": "markdown",
   "id": "ea783442-f32c-406d-aa8e-6ea7b740cd5b",
   "metadata": {},
   "source": [
    "### Test Serving Function"
   ]
  },
  {
   "cell_type": "code",
   "execution_count": 17,
   "id": "b2a14ebc-e25c-4b9a-8d94-a7252962dde2",
   "metadata": {},
   "outputs": [],
   "source": [
    "body = {\n",
    "    \"question\": \"What are some new developments in space travel?\",\n",
    "    \"topic\": \"science\",\n",
    "}"
   ]
  },
  {
   "cell_type": "code",
   "execution_count": 18,
   "id": "fa27def9-3112-4eb4-a445-754d80240145",
   "metadata": {},
   "outputs": [
    {
     "name": "stdout",
     "output_type": "stream",
     "text": [
      "> 2024-06-17 22:57:31,894 [info] Invoking function: {'method': 'POST', 'path': 'http://nuclio-genai-tutorial-new-serve-llm.default-tenant.svc.cluster.local:8080/'}\n"
     ]
    }
   ],
   "source": [
    "resp = serve_func.function.invoke(\"/\", body=json.dumps(body))"
   ]
  },
  {
   "cell_type": "code",
   "execution_count": 20,
   "id": "6d7d62b5-ea4e-4402-bf55-6e558dcfbb47",
   "metadata": {},
   "outputs": [
    {
     "name": "stdout",
     "output_type": "stream",
     "text": [
      "Space travel has seen many new developments in recent years, including the increasing use of reusable rockets by companies like SpaceX. These rockets are designed to be launched multiple times, reducing the amount of debris and space junk that is left behind after each launch. Additionally, there has been a growing interest in exploring the Moon and Mars, with companies like SpaceX working to develop new technologies that will make these missions possible.\n",
      "\n",
      "\n"
     ]
    }
   ],
   "source": [
    "print(resp[\"response\"])"
   ]
  },
  {
   "cell_type": "code",
   "execution_count": 22,
   "id": "51fe96d4-0126-4511-9c05-188121a6f474",
   "metadata": {},
   "outputs": [
    {
     "name": "stdout",
     "output_type": "stream",
     "text": [
      "['https://www.express.co.uk/news/science/1324095/space-news-spacex-rocket-launch-stars-elon-musk-Comet-Neowise-latest']\n"
     ]
    }
   ],
   "source": [
    "print(resp[\"sources\"])"
   ]
  },
  {
   "cell_type": "code",
   "execution_count": 23,
   "id": "bfb12a95-e0b4-4cf2-9023-4bfe67a4ca33",
   "metadata": {},
   "outputs": [
    {
     "name": "stdout",
     "output_type": "stream",
     "text": [
      "Below is an instruction that describes a task. Write a response that appropriately completes the request.\n",
      "\n",
      "### Instruction:\n",
      "User question:\n",
      "What are some new developments in space travel?\n",
      "\n",
      "Context:\n",
      "new designs by the star map company, Under Lucky Stars, have exposed the destructive impacts exploration could cause on future space travel and the environment. Trending The data shows the increasing danger created by the number of objects being sent into space as they leave debris after their launches.For about 70 years, humans have been launching vessels into space to explore the world beyond earth.Over the years the number of space missions have increased as technology continues to\n",
      "\n",
      "that there be as little debris and space junk as possible.\"This comes as SpaceX have been increasing their efforts to send humans to Mars.The space company recently tested a prototype of the next-generation Starship vehicle which could be paving the way to carrying humans to the Moon and Mars.READ MORE:Asteroid bigger than a bus will shoot by closer than Moon THIS WEEKSpace data shows the increasing danger created by the number of objects being sent into space (Image: getty) SUBSCRIBE Invalid\n",
      "\n",
      "Space news: Rocket launches from earth pose threat to space travel | Science | News | Express.co.uk\n",
      "\n",
      "### Response:\n",
      "\n"
     ]
    }
   ],
   "source": [
    "print(resp[\"prompt\"])"
   ]
  },
  {
   "cell_type": "code",
   "execution_count": 24,
   "id": "0f32f25a-df60-4667-9145-a272da8d1cb2",
   "metadata": {},
   "outputs": [
    {
     "data": {
      "text/plain": [
       "<mlrun.projects.project.MlrunProject at 0x7f373e114ee0>"
      ]
     },
     "execution_count": 24,
     "metadata": {},
     "output_type": "execute_result"
    }
   ],
   "source": [
    "project.set_function(f\"db://{project.name}/fetch-vectordb-data\")\n",
    "project.set_function(f\"db://{project.name}/build-vectordb\")\n",
    "project.set_function(f\"db://{project.name}/serve-llm\")\n",
    "project.save()"
   ]
  },
  {
   "cell_type": "markdown",
   "id": "c9775188-439f-4fcc-8616-7f399a0cc869",
   "metadata": {},
   "source": [
    "### Run E2E Workflow"
   ]
  },
  {
   "cell_type": "code",
   "execution_count": 25,
   "id": "a127f20d-dbb6-4e8a-80d4-fac9fc3e2019",
   "metadata": {},
   "outputs": [
    {
     "name": "stdout",
     "output_type": "stream",
     "text": [
      "Writing workflow.py\n"
     ]
    }
   ],
   "source": [
    "%%writefile workflow.py\n",
    "import mlrun\n",
    "from kfp import dsl\n",
    "\n",
    "    \n",
    "@dsl.pipeline(\n",
    "    name=\"GenAI demo\"\n",
    ")\n",
    "\n",
    "def kfpipeline(data_set, cache_dir):\n",
    "    \n",
    "    project = mlrun.get_current_project()\n",
    "    \n",
    "    fetch = project.run_function(\n",
    "        function=\"fetch-vectordb-data\",\n",
    "        name=\"fetch-vectordb-data-run\",\n",
    "        handler=\"handler\",\n",
    "        params = {\"data_set\" : data_set},\n",
    "        outputs=['vector-db-dataset']\n",
    "    )\n",
    "    \n",
    "    \n",
    "    vectordb_build = project.run_function(\n",
    "        function=\"build-vectordb\",\n",
    "        inputs={\"df\" : fetch.outputs[\"vector-db-dataset\"]},\n",
    "        params={\"cache_dir\" : cache_dir},\n",
    "        handler=\"handler_chroma\"\n",
    "    )\n",
    "\n",
    "    deploy = project.deploy_function(\"serve-llm\").after(vectordb_build)"
   ]
  },
  {
   "cell_type": "code",
   "execution_count": 26,
   "id": "4e6bf445-53f7-4b38-9caa-997022da65bc",
   "metadata": {},
   "outputs": [],
   "source": [
    "project.set_workflow(\"main\", \"workflow.py\", embed=True)"
   ]
  },
  {
   "cell_type": "code",
   "execution_count": 27,
   "id": "a3baa431-24ca-4220-a73d-593b95afde28",
   "metadata": {},
   "outputs": [
    {
     "data": {
      "text/plain": [
       "<mlrun.projects.project.MlrunProject at 0x7f373e114ee0>"
      ]
     },
     "execution_count": 27,
     "metadata": {},
     "output_type": "execute_result"
    }
   ],
   "source": [
    "project.save()"
   ]
  },
  {
   "cell_type": "code",
   "execution_count": 28,
   "id": "8834c1d0-076f-4a35-be53-00be8591fc4f",
   "metadata": {},
   "outputs": [
    {
     "data": {
      "text/html": [
       "<div>Pipeline running (id=702859f3-bb9c-4793-a1b6-8f6d90dcdf31), <a href=\"https://dashboard.default-tenant.app.cst-355.iguazio-cd1.com/mlprojects/genai-tutorial-new/jobs/monitor-workflows/workflow/702859f3-bb9c-4793-a1b6-8f6d90dcdf31\" target=\"_blank\"><b>click here</b></a> to view the details in MLRun UI</div>"
      ],
      "text/plain": [
       "<IPython.core.display.HTML object>"
      ]
     },
     "metadata": {},
     "output_type": "display_data"
    },
    {
     "data": {
      "image/svg+xml": [
       "<?xml version=\"1.0\" encoding=\"UTF-8\" standalone=\"no\"?>\n",
       "<!DOCTYPE svg PUBLIC \"-//W3C//DTD SVG 1.1//EN\"\n",
       " \"http://www.w3.org/Graphics/SVG/1.1/DTD/svg11.dtd\">\n",
       "<!-- Generated by graphviz version 2.43.0 (0)\n",
       " -->\n",
       "<!-- Title: kfp Pages: 1 -->\n",
       "<svg width=\"316pt\" height=\"188pt\"\n",
       " viewBox=\"0.00 0.00 316.07 188.00\" xmlns=\"http://www.w3.org/2000/svg\" xmlns:xlink=\"http://www.w3.org/1999/xlink\">\n",
       "<g id=\"graph0\" class=\"graph\" transform=\"scale(1 1) rotate(0) translate(4 184)\">\n",
       "<title>kfp</title>\n",
       "<polygon fill=\"white\" stroke=\"transparent\" points=\"-4,4 -4,-184 312.07,-184 312.07,4 -4,4\"/>\n",
       "<!-- genai&#45;demo&#45;wwh9l&#45;1342868493 -->\n",
       "<g id=\"node1\" class=\"node\">\n",
       "<title>genai&#45;demo&#45;wwh9l&#45;1342868493</title>\n",
       "<ellipse fill=\"green\" stroke=\"black\" cx=\"154.04\" cy=\"-90\" rx=\"154.07\" ry=\"18\"/>\n",
       "<text text-anchor=\"middle\" x=\"154.04\" y=\"-86.3\" font-family=\"Times,serif\" font-size=\"14.00\">build&#45;vectordb&#45;handler&#45;chroma</text>\n",
       "</g>\n",
       "<!-- genai&#45;demo&#45;wwh9l&#45;546601256 -->\n",
       "<g id=\"node2\" class=\"node\">\n",
       "<title>genai&#45;demo&#45;wwh9l&#45;546601256</title>\n",
       "<polygon fill=\"green\" stroke=\"black\" points=\"221.04,-36 91.04,-36 87.04,-32 87.04,0 217.04,0 221.04,-4 221.04,-36\"/>\n",
       "<polyline fill=\"none\" stroke=\"black\" points=\"217.04,-32 87.04,-32 \"/>\n",
       "<polyline fill=\"none\" stroke=\"black\" points=\"217.04,-32 217.04,0 \"/>\n",
       "<polyline fill=\"none\" stroke=\"black\" points=\"217.04,-32 221.04,-36 \"/>\n",
       "<text text-anchor=\"middle\" x=\"154.04\" y=\"-14.3\" font-family=\"Times,serif\" font-size=\"14.00\">deploy&#45;serve&#45;llm</text>\n",
       "</g>\n",
       "<!-- genai&#45;demo&#45;wwh9l&#45;1342868493&#45;&gt;genai&#45;demo&#45;wwh9l&#45;546601256 -->\n",
       "<g id=\"edge1\" class=\"edge\">\n",
       "<title>genai&#45;demo&#45;wwh9l&#45;1342868493&#45;&gt;genai&#45;demo&#45;wwh9l&#45;546601256</title>\n",
       "<path fill=\"none\" stroke=\"black\" d=\"M154.04,-71.7C154.04,-63.98 154.04,-54.71 154.04,-46.11\"/>\n",
       "<polygon fill=\"black\" stroke=\"black\" points=\"157.54,-46.1 154.04,-36.1 150.54,-46.1 157.54,-46.1\"/>\n",
       "</g>\n",
       "<!-- genai&#45;demo&#45;wwh9l&#45;3157734968 -->\n",
       "<g id=\"node3\" class=\"node\">\n",
       "<title>genai&#45;demo&#45;wwh9l&#45;3157734968</title>\n",
       "<ellipse fill=\"green\" stroke=\"black\" cx=\"154.04\" cy=\"-162\" rx=\"120.48\" ry=\"18\"/>\n",
       "<text text-anchor=\"middle\" x=\"154.04\" y=\"-158.3\" font-family=\"Times,serif\" font-size=\"14.00\">fetch&#45;vectordb&#45;data&#45;run</text>\n",
       "</g>\n",
       "<!-- genai&#45;demo&#45;wwh9l&#45;3157734968&#45;&gt;genai&#45;demo&#45;wwh9l&#45;1342868493 -->\n",
       "<g id=\"edge2\" class=\"edge\">\n",
       "<title>genai&#45;demo&#45;wwh9l&#45;3157734968&#45;&gt;genai&#45;demo&#45;wwh9l&#45;1342868493</title>\n",
       "<path fill=\"none\" stroke=\"black\" d=\"M154.04,-143.7C154.04,-135.98 154.04,-126.71 154.04,-118.11\"/>\n",
       "<polygon fill=\"black\" stroke=\"black\" points=\"157.54,-118.1 154.04,-108.1 150.54,-118.1 157.54,-118.1\"/>\n",
       "</g>\n",
       "</g>\n",
       "</svg>\n"
      ],
      "text/plain": [
       "<graphviz.graphs.Digraph at 0x7f37359f3310>"
      ]
     },
     "metadata": {},
     "output_type": "display_data"
    },
    {
     "data": {
      "text/html": [
       "<h2>Run Results</h2><h3>[info] Workflow 702859f3-bb9c-4793-a1b6-8f6d90dcdf31 finished, state=Succeeded</h3><br>click the hyper links below to see detailed results<br><table border=\"1\" class=\"dataframe\">\n",
       "  <thead>\n",
       "    <tr style=\"text-align: right;\">\n",
       "      <th>uid</th>\n",
       "      <th>start</th>\n",
       "      <th>state</th>\n",
       "      <th>name</th>\n",
       "      <th>parameters</th>\n",
       "      <th>results</th>\n",
       "    </tr>\n",
       "  </thead>\n",
       "  <tbody>\n",
       "    <tr>\n",
       "      <td><div title=\"72e76cce4ecb404abc8e73483abbfaf9\"><a href=\"https://dashboard.default-tenant.app.cst-355.iguazio-cd1.com/mlprojects/genai-tutorial-new/jobs/monitor/72e76cce4ecb404abc8e73483abbfaf9/overview\" target=\"_blank\" >...3abbfaf9</a></div></td>\n",
       "      <td>Jun 17 23:03:44</td>\n",
       "      <td>completed</td>\n",
       "      <td>build-vectordb-handler-chroma</td>\n",
       "      <td><div class=\"dictlist\">cache_dir=/v3io/projects/genai-tutorial-new/artifacts/cache</div></td>\n",
       "      <td></td>\n",
       "    </tr>\n",
       "    <tr>\n",
       "      <td><div title=\"ae13c0af5200479393cf5ab8a726980f\"><a href=\"https://dashboard.default-tenant.app.cst-355.iguazio-cd1.com/mlprojects/genai-tutorial-new/jobs/monitor/ae13c0af5200479393cf5ab8a726980f/overview\" target=\"_blank\" >...a726980f</a></div></td>\n",
       "      <td>Jun 17 23:02:17</td>\n",
       "      <td>completed</td>\n",
       "      <td>fetch-vectordb-data-run</td>\n",
       "      <td><div class=\"dictlist\">data_set=https://s3.wasabisys.com/iguazio/data/genai-tutorial/labelled_newscatcher_dataset.csv</div></td>\n",
       "      <td></td>\n",
       "    </tr>\n",
       "  </tbody>\n",
       "</table>"
      ],
      "text/plain": [
       "<IPython.core.display.HTML object>"
      ]
     },
     "metadata": {},
     "output_type": "display_data"
    }
   ],
   "source": [
    "run_id = project.run(\n",
    "    \"main\", arguments={\"cache_dir\": CACHE_DIR, \"data_set\": DATA_SET}, watch=True\n",
    ")"
   ]
  },
  {
   "cell_type": "code",
   "execution_count": null,
   "id": "1e68bb3e-edaa-4016-8eb4-48d1687ea98b",
   "metadata": {},
   "outputs": [],
   "source": []
  }
 ],
 "metadata": {
  "kernelspec": {
   "display_name": "Python 3 (ipykernel)",
   "language": "python",
   "name": "python3"
  },
  "language_info": {
   "codemirror_mode": {
    "name": "ipython",
    "version": 3
   },
   "file_extension": ".py",
   "mimetype": "text/x-python",
   "name": "python",
   "nbconvert_exporter": "python",
   "pygments_lexer": "ipython3",
   "version": "3.9.13"
  }
 },
 "nbformat": 4,
 "nbformat_minor": 5
}
