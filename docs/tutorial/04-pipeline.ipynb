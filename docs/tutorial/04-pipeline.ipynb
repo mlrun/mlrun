{
 "cells": [
  {
   "cell_type": "markdown",
   "metadata": {},
   "source": [
    "# Part 4: Creating an Automated ML Pipeline\n",
    "\n",
    "This part of the MLRun getting-started tutorial walks you through the steps for creating an automated pipeline for our project.\n",
    "The pipeline is created using [Kubeflow Pipelines](https://www.kubeflow.org/docs/pipelines/pipelines-quickstart/).\n",
    "\n",
    "The integration of MLRun with Kubeflow Pipelines enables you to take the functions in your project and build a pipeline that contains these functions.\n",
    "\n",
    "> **Note**: The Iguazio Data Science Platform has a default (pre-deployed) shared Kubeflow Pipelines service (`pipelines`).\n",
    "\n",
    "An ML Engineer can gather the different functions created by the Data Engineer and Data Scientist and create this automated pipeline.\n",
    "\n",
    "The tutorial consists of the following steps:\n",
    "\n",
    "1. [Setup and Configuration](#gs-tutorial-4-step-setup)\n",
    "2. [Setting up Your Project](#gs-tutorial-4-step-setting-up-project)\n",
    "3. [Importing Functions](#gs-tutorial-4-step-import-functions)\n",
    "4. [Defining and Saving a Pipeline Workflow](#gs-tutorial-4-step-pipeline-workflow-define-n-save)\n",
    "5. [Registering the Workflow](#gs-tutorial-4-step-register-workflow)\n",
    "6. [Saving Your Project](#gs-tutorial-4-step-save-project)\n",
    "7. [Viewing the Pipeline on the Dashboard (UI)](#gs-tutorial-4-step-ui-pipeline-view)\n",
    "8. [Invoking the Model](#gs-tutoria-4-step-invoke-model)\n",
    "\n",
    "By the end of this tutorial you'll learn how to\n",
    "\n",
    "- Create an operational pipeline using previously defined functions.\n",
    "- Run the pipeline and track the pipeline results."
   ]
  },
  {
   "cell_type": "markdown",
   "metadata": {},
   "source": [
    "<a id=\"gs-tutorial-4-prerequisites\"></a>"
   ]
  },
  {
   "cell_type": "markdown",
   "metadata": {},
   "source": [
    "## Prerequisites"
   ]
  },
  {
   "cell_type": "markdown",
   "metadata": {},
   "source": [
    "The following steps are a continuation of the previous parts of this getting-started tutorial and rely on the generated outputs.\n",
    "Therefore, make sure to first run parts 1&mdash;[3](03-model-serving.ipynb) of the tutorial."
   ]
  },
  {
   "cell_type": "markdown",
   "metadata": {},
   "source": [
    "<a id=\"gs-tutorial-4-step-setup\"></a>"
   ]
  },
  {
   "cell_type": "markdown",
   "metadata": {},
   "source": [
    "## Step 1: Setup and Configuration"
   ]
  },
  {
   "cell_type": "markdown",
   "metadata": {},
   "source": [
    "<a id=\"gs-tutorial-4-import-libraries\"></a>"
   ]
  },
  {
   "cell_type": "markdown",
   "metadata": {},
   "source": [
    "### Importing Libraries\n",
    "\n",
    "Run the following code to import required libraries:"
   ]
  },
  {
   "cell_type": "code",
   "execution_count": 1,
   "metadata": {},
   "outputs": [],
   "source": [
    "from os import path\n",
    "import mlrun"
   ]
  },
  {
   "cell_type": "markdown",
   "metadata": {},
   "source": [
    "<a id=\"gs-tutorial-4-step-setting-up-project\"></a>"
   ]
  },
  {
   "cell_type": "markdown",
   "metadata": {},
   "source": [
    "## Step 2: Setting Up Your Project\n",
    "\n",
    "To run a pipeline, you first need to create a Python project object and import the required functions for its execution.\n",
    "\n",
    "Create a project by using the `new_project` MLRun method, which receives the following parameters:\n",
    "\n",
    "- **`name`** (Required) &mdash; the project name.\n",
    "- **`context`** &mdash; the path to a local project directory (the project's context directory).\n",
    "  The project directory contains a project-configuration file (default: **project.yaml**), which defines the project, and additional generated Python code.\n",
    "  The project file is created when you save your project (using the `save` MLRun project method or when saving your first function within the project).\n",
    "- **`functions`** &mdash; a list of functions objects or links to function code or objects.\n",
    "- **`init_git`** &mdash; set to `True` to perform Git initialization of the project directory (`context`).\n",
    "  > **Note:** It's customary to store project code and definitions in a Git repository.\n",
    "\n",
    "The following code creates a user project named \"getting-started-tutorial-&lt;username&gt;\".\n",
    "\n",
    "> **Note:** Platform projects are currently shared among all users of the parent tenant, to facilitate collaboration. Therefore,\n",
    ">\n",
    "> - Set `user_project` to `True` if you wish to create a project unique to your user.\n",
    ">   You can easily change the default project name for this tutorial by changing the definition of the `project_name_base` variable in the following code.\n",
    "> - Don't include in your project proprietary information that you don't want to expose to other users.\n",
    ">   Note that while projects are a useful tool, you can easily develop and run code in the platform without using projects."
   ]
  },
  {
   "cell_type": "code",
   "execution_count": 2,
   "metadata": {},
   "outputs": [
    {
     "name": "stdout",
     "output_type": "stream",
     "text": [
      "Project path: /User/demos/getting-started-tutorial/conf\n",
      "Project name: getting-started-tutorial-iguazio\n"
     ]
    }
   ],
   "source": [
    "project_name_base = 'getting-started-tutorial'\n",
    "project_path = path.abspath('conf')\n",
    "project = mlrun.new_project(project_name_base,\n",
    "                            context=project_path,\n",
    "                            init_git=True,\n",
    "                            user_project=True)\n",
    "\n",
    "print(f'Project path: {project_path}\\nProject name: {project.name}')"
   ]
  },
  {
   "cell_type": "markdown",
   "metadata": {},
   "source": [
    "<a id=\"gs-tutorial-4-step-import-functions\"></a>"
   ]
  },
  {
   "cell_type": "markdown",
   "metadata": {},
   "source": [
    "## Step 3: Importing Functions"
   ]
  },
  {
   "cell_type": "markdown",
   "metadata": {},
   "source": [
    "<a id=\"gs-tutorial-4-view-project-functions\"></a>"
   ]
  },
  {
   "cell_type": "markdown",
   "metadata": {},
   "source": [
    "### Viewing all Existing Functions in Your Project\n",
    "\n",
    "Run `get_run_db.list_functions` to get the list of the functions for this project.\n",
    "Use the `latest` tag, and filter out any function that has an empty `kind` (which means it's local).\n",
    "In the getting-started tutorial project you should expect to have the following functions:\n",
    "\n",
    "- `prep-data` &mdash; the first function, which ingests the Iris data set\n",
    "- `describe` &mdash; generates statistics on the data set\n",
    "- `train-iris` &mdash; the model-training function\n",
    "- `test-classifier` &mdash; the model-testing function\n",
    "- `mlrun-model` &mdash; the model-serving function"
   ]
  },
  {
   "cell_type": "code",
   "execution_count": 3,
   "metadata": {},
   "outputs": [
    {
     "name": "stdout",
     "output_type": "stream",
     "text": [
      "['describe', 'serving', 'prep-data', 'train-iris', 'test-classifier']\n"
     ]
    }
   ],
   "source": [
    "names = [func.get('metadata').get('name')\n",
    "         for func in mlrun.get_run_db().list_functions(project={project.name}, tag='latest')\n",
    "         if func.get('kind') != '']\n",
    "print(names)"
   ]
  },
  {
   "cell_type": "markdown",
   "metadata": {},
   "source": [
    "<a id=\"gs-tutorial-4-import-functions-to-project\"></a>"
   ]
  },
  {
   "cell_type": "markdown",
   "metadata": {},
   "source": [
    "### Importing Functions to Your Project\n",
    "\n",
    "You can easily add the previously defined functions by using the `set_function` method and provide it a `db://` schema, followed by the project name, `/`, and the function name.\n",
    "\n",
    "You can gather various functions from different sources and combine them into a pipeline.\n",
    "For example, you can import functions not only from the project, but also from the MLRun marketplace (using the `hub://` schema).\n",
    "For example, to implement drift detection, you can chain together a drift-detection function and a notification function as part of production monitoring.\n",
    "You can also import functions directly from Python files (**\\*.py**) or from other notebook files (**\\*.ipynb**).\n",
    "For more information and examples, see the MLRun documentation and other demos that showcase such capabilities."
   ]
  },
  {
   "cell_type": "code",
   "execution_count": 4,
   "metadata": {},
   "outputs": [
    {
     "data": {
      "text/plain": [
       "<mlrun.runtimes.serving.ServingRuntime at 0x7f17c9be1590>"
      ]
     },
     "execution_count": 4,
     "metadata": {},
     "output_type": "execute_result"
    }
   ],
   "source": [
    "project.set_function(f'db://{project.name}/prep-data')\n",
    "project.set_function(f'db://{project.name}/describe')\n",
    "project.set_function(f'db://{project.name}/train-iris', 'train')\n",
    "project.set_function(f'db://{project.name}/test-classifier', 'test')\n",
    "project.set_function(f'db://{project.name}/serving')"
   ]
  },
  {
   "cell_type": "code",
   "execution_count": 5,
   "metadata": {},
   "outputs": [
    {
     "data": {
      "text/plain": [
       "[{'url': 'db://getting-started-tutorial-iguazio/prep-data',\n",
       "  'name': 'prep-data'},\n",
       " {'url': 'db://getting-started-tutorial-iguazio/describe', 'name': 'describe'},\n",
       " {'url': 'db://getting-started-tutorial-iguazio/train-iris', 'name': 'train'},\n",
       " {'url': 'db://getting-started-tutorial-iguazio/test-classifier',\n",
       "  'name': 'test'},\n",
       " {'url': 'db://getting-started-tutorial-iguazio/serving', 'name': 'serving'}]"
      ]
     },
     "execution_count": 5,
     "metadata": {},
     "output_type": "execute_result"
    }
   ],
   "source": [
    "project.functions"
   ]
  },
  {
   "cell_type": "markdown",
   "metadata": {},
   "source": [
    "<a id=\"gs-tutorial-4-kubeflow-pipelines\"></a>"
   ]
  },
  {
   "cell_type": "markdown",
   "metadata": {},
   "source": [
    "### Using Kubeflow Pipelines\n",
    "\n",
    "You're now ready to create a full ML pipeline.\n",
    "This is done by using [Kubeflow Pipelines](https://www.kubeflow.org/docs/pipelines/overview/pipelines-overview/) &mdash;\n",
    "an open-source framework for building and deploying portable, scalable machine-learning workflows based on Docker containers.\n",
    "MLRun leverages this framework to take your existing code and deploy it as steps in the pipeline.\n",
    "\n",
    "> **Note:** When using the Iguazio Data Science Platform, Kubeflow Pipelines is available as a default (pre-deployed) shared platform service."
   ]
  },
  {
   "cell_type": "markdown",
   "metadata": {},
   "source": [
    "<a id=\"gs-tutorial-4-step-pipeline-workflow-define-n-save\"></a>"
   ]
  },
  {
   "cell_type": "markdown",
   "metadata": {},
   "source": [
    "## Step 4: Defining and Saving a Pipeline Workflow\n",
    "\n",
    "A pipeline is created by running an MLRun **\"workflow\"**.\n",
    "The following code defines a workflow and writes it to a file in your project's **conf** directory;\n",
    "(the file name is **workflow.py**).\n",
    "The workflow describes a directed acyclic graph (DAG) for execution using Kubeflow Pipelines, and depicts the connections between the functions and the data as part of an end-to-end pipeline.\n",
    "The workflow file has two parts &mdash; initialization of the function objects, and definition of a pipeline DSL (domain-specific language) for connecting the function inputs and outputs.\n",
    "Examine the code to see how functions objects are initialized and used (by name) within the workflow.\n",
    "\n",
    "The defined pipeline includes the following steps:\n",
    "\n",
    "- Ingest the Iris flower data set (`ingest`).\n",
    "- Train and the model (`train`).\n",
    "- Test the model with its test data set.\n",
    "- Deploy the model as a real-time serverless function (`deploy`).\n",
    "\n",
    "> **Note**: A pipeline can also include continuous build integration and deployment (CI/CD) steps, such as building container images and deploying models."
   ]
  },
  {
   "cell_type": "code",
   "execution_count": 6,
   "metadata": {},
   "outputs": [
    {
     "name": "stdout",
     "output_type": "stream",
     "text": [
      "Overwriting /User/demos/getting-started-tutorial/conf/workflow.py\n"
     ]
    }
   ],
   "source": [
    "%%writefile {path.join(project_path, 'workflow.py')}\n",
    "\n",
    "from kfp import dsl\n",
    "import mlrun\n",
    "from mlrun.platforms import auto_mount\n",
    "\n",
    "\n",
    "funcs = {}\n",
    "DATASET = 'cleaned_data'\n",
    "LABELS = \"label\"\n",
    "\n",
    "# Configure function resources and local settings\n",
    "def init_functions(functions: dict, project=None, secrets=None):\n",
    "    for f in functions.values():\n",
    "        f.apply(auto_mount())\n",
    "\n",
    "# Create a Kubeflow Pipelines pipeline\n",
    "@dsl.pipeline(\n",
    "    name=\"Getting-started-tutorial\",\n",
    "    description=\"This tutorial is designed to demonstrate some of the main \"\n",
    "                \"capabilities of the Iguazio Data Science Platform.\\n\"\n",
    "                \"The tutorial uses the Iris flower data set.\"\n",
    ")\n",
    "def kfpipeline(source_url='https://s3.wasabisys.com/iguazio/data/iris/iris_dataset.csv'):\n",
    "\n",
    "    # Ingest the data set\n",
    "    ingest = funcs['prep-data'].as_step(\n",
    "        name=\"prep-data\",\n",
    "        handler='prep_data',\n",
    "        inputs={'source_url': source_url},\n",
    "        params={'label_column': LABELS},\n",
    "        outputs=[DATASET])\n",
    "    \n",
    "    # Train a model   \n",
    "    train = funcs[\"train\"].as_step(\n",
    "        name=\"train\",\n",
    "        params={\"label_column\": LABELS},\n",
    "        inputs={\"dataset\": ingest.outputs[DATASET]},\n",
    "        outputs=['model', 'test_set'])\n",
    "    \n",
    "    # Test and visualize the model\n",
    "    test = funcs[\"test\"].as_step(\n",
    "        name=\"test\",\n",
    "        params={\"label_column\": LABELS},\n",
    "        inputs={\"models_path\": train.outputs['model'],\n",
    "                \"test_set\": train.outputs['test_set']})\n",
    "    \n",
    "    # Deploy the model as a serverless function\n",
    "    deploy = funcs[\"serving\"].deploy_step(\n",
    "        models={f\"{DATASET}_v1\": train.outputs['model']})"
   ]
  },
  {
   "cell_type": "markdown",
   "metadata": {},
   "source": [
    "<a id=\"gs-tutorial-4-step-register-workflow\"></a>"
   ]
  },
  {
   "cell_type": "markdown",
   "metadata": {},
   "source": [
    "## Step 5: Registering the Workflow\n",
    "\n",
    "Use the `set_workflow` MLRun project method to register your workflow with MLRun.\n",
    "The following code sets the `name` parameter to the selected workflow name (\"main\") and the `code` parameter to the name of the workflow file that is found in your project directory (**workflow.py**)."
   ]
  },
  {
   "cell_type": "code",
   "execution_count": 7,
   "metadata": {},
   "outputs": [],
   "source": [
    "# Register the workflow file as \"main\"\n",
    "project.set_workflow('main', 'workflow.py')"
   ]
  },
  {
   "cell_type": "markdown",
   "metadata": {},
   "source": [
    "<a id=\"gs-tutorial-4-step-save-project\"></a>"
   ]
  },
  {
   "cell_type": "markdown",
   "metadata": {},
   "source": [
    "## Step 6: Saving Your Project\n",
    "\n",
    "Run the following code to save your project:"
   ]
  },
  {
   "cell_type": "code",
   "execution_count": 8,
   "metadata": {},
   "outputs": [],
   "source": [
    "project.save()"
   ]
  },
  {
   "cell_type": "markdown",
   "metadata": {},
   "source": [
    "Use the `run` MLRun project method to execute your workflow pipeline with Kubeflow Pipelines.\n",
    "The tutorial code sets the following method parameters; (for the full parameters list, see the MLRun documentation or embedded help):\n",
    "\n",
    "- **`name`** &mdash; the workflow name (in this case, \"main\" &mdash; see the previous step).\n",
    "- **`arguments`** &mdash; A dictionary of Kubeflow Pipelines arguments (parameters).\n",
    "  The tutorial code sets this parameter to an empty arguments list (`{}`), but you can edit the code to add arguments.\n",
    "- **`artifact_path`** &mdash; a path or URL that identifies a location for storing the workflow artifacts.\n",
    "  You can use `{{workflow.uid}}` in the path to signify the ID of the current workflow run iteration.\n",
    "  The tutorial code sets the artifacts path to a **&lt;worker ID&gt;** directory (`{{workflow.uid}}`) in a **pipeline** directory under the projects container (**/v3io/projects/getting-started-tutorial-project name/pipeline/&lt;worker ID&gt;**).\n",
    "- **`dirty`** &mdash; set to `True` to allow running the workflow also when the project's Git repository is dirty (i.e., contains uncommitted changes).\n",
    "  (When the notebook that contains the execution code is in the same Git directory as the executed workflow, the directory will always be dirty during the execution.)\n",
    "\n",
    "The `run` method returns the ID of the executed workflow, which the code stores in a `run_id` variable.\n",
    "You can use this ID to track the progress or your workflow, as demonstrated in the following sections.\n",
    "\n",
    "> **Note**: You can also run the workflow from a command-line shell by using the `mlrun` CLI.\n",
    "> The following CLI command defines a similar execution logic as that of the `run` call in the tutorial:\n",
    "> ```\n",
    "> mlrun project /User/getting-started-tutorial/conf -r main -p \"$V3IO_HOME_URL/getting-started-tutorial/pipeline/{{workflow.uid}}/\"\n",
    "> ```"
   ]
  },
  {
   "cell_type": "code",
   "execution_count": 9,
   "metadata": {},
   "outputs": [],
   "source": [
    "import os \n",
    "from os import environ, path\n",
    "from mlrun import mlconf"
   ]
  },
  {
   "cell_type": "code",
   "execution_count": 10,
   "metadata": {},
   "outputs": [
    {
     "name": "stdout",
     "output_type": "stream",
     "text": [
      "> 2021-01-25 12:59:33,106 [info] using in-cluster config.\n"
     ]
    },
    {
     "data": {
      "text/html": [
       "Experiment link <a href=\"https://dashboard.default-tenant.app.aefccdjffbit.iguazio-cd0.com/pipelines/#/experiments/details/55947f85-7b52-437e-b027-42f3f17ae1c5\" target=\"_blank\" >here</a>"
      ],
      "text/plain": [
       "<IPython.core.display.HTML object>"
      ]
     },
     "metadata": {},
     "output_type": "display_data"
    },
    {
     "data": {
      "text/html": [
       "Run link <a href=\"https://dashboard.default-tenant.app.aefccdjffbit.iguazio-cd0.com/pipelines/#/runs/details/342b653e-a696-4e89-a390-34d42ae1a555\" target=\"_blank\" >here</a>"
      ],
      "text/plain": [
       "<IPython.core.display.HTML object>"
      ]
     },
     "metadata": {},
     "output_type": "display_data"
    },
    {
     "name": "stdout",
     "output_type": "stream",
     "text": [
      "> 2021-01-25 12:59:33,434 [info] Pipeline run id=342b653e-a696-4e89-a390-34d42ae1a555, check UI or DB for progress\n",
      "> 2021-01-25 12:59:33,435 [info] waiting for pipeline run completion\n"
     ]
    },
    {
     "data": {
      "text/html": [
       "<h2>Run Results</h2>Workflow 342b653e-a696-4e89-a390-34d42ae1a555 finished, status=Succeeded<br>click the hyper links below to see detailed results<br><table border=\"1\" class=\"dataframe\">\n",
       "  <thead>\n",
       "    <tr style=\"text-align: right;\">\n",
       "      <th>uid</th>\n",
       "      <th>start</th>\n",
       "      <th>state</th>\n",
       "      <th>name</th>\n",
       "      <th>results</th>\n",
       "      <th>artifacts</th>\n",
       "    </tr>\n",
       "  </thead>\n",
       "  <tbody>\n",
       "    <tr>\n",
       "      <td><div title=\"180b61c214504f8ea37cd556ded3443c\"><a href=\"https://mlrun-ui.default-tenant.app.aefccdjffbit.iguazio-cd0.com/projects/getting-started-tutorial-iguazio/jobs/monitor/180b61c214504f8ea37cd556ded3443c/info\" target=\"_blank\" >...ded3443c</a></div></td>\n",
       "      <td>Jan 25 13:00:03</td>\n",
       "      <td>completed</td>\n",
       "      <td>test</td>\n",
       "      <td><div class=\"dictlist\">accuracy=1.0</div><div class=\"dictlist\">test-error=0.0</div><div class=\"dictlist\">auc-micro=1.0</div><div class=\"dictlist\">auc-weighted=1.0</div><div class=\"dictlist\">f1-score=1.0</div><div class=\"dictlist\">precision_score=1.0</div><div class=\"dictlist\">recall_score=1.0</div></td>\n",
       "      <td><div title=\"/v3io/projects/getting-started-tutorial-iguazio/artifacts/pipeline/342b653e-a696-4e89-a390-34d42ae1a555/plots/confusion-matrix.html\">confusion-matrix</div><div title=\"/v3io/projects/getting-started-tutorial-iguazio/artifacts/pipeline/342b653e-a696-4e89-a390-34d42ae1a555/plots/precision-recall-multiclass.html\">precision-recall-multiclass</div><div title=\"/v3io/projects/getting-started-tutorial-iguazio/artifacts/pipeline/342b653e-a696-4e89-a390-34d42ae1a555/plots/roc-multiclass.html\">roc-multiclass</div><div title=\"/v3io/projects/getting-started-tutorial-iguazio/artifacts/pipeline/342b653e-a696-4e89-a390-34d42ae1a555/test_set_preds.parquet\">test_set_preds</div></td>\n",
       "    </tr>\n",
       "    <tr>\n",
       "      <td><div title=\"5c35cdb345ba49359f04a3463db2183a\"><a href=\"https://mlrun-ui.default-tenant.app.aefccdjffbit.iguazio-cd0.com/projects/getting-started-tutorial-iguazio/jobs/monitor/5c35cdb345ba49359f04a3463db2183a/info\" target=\"_blank\" >...3db2183a</a></div></td>\n",
       "      <td>Jan 25 12:59:51</td>\n",
       "      <td>completed</td>\n",
       "      <td>train</td>\n",
       "      <td><div class=\"dictlist\">accuracy=1.0</div><div class=\"dictlist\">test-error=0.0</div><div class=\"dictlist\">auc-micro=1.0</div><div class=\"dictlist\">auc-weighted=1.0</div><div class=\"dictlist\">f1-score=1.0</div><div class=\"dictlist\">precision_score=1.0</div><div class=\"dictlist\">recall_score=1.0</div></td>\n",
       "      <td><div title=\"/v3io/projects/getting-started-tutorial-iguazio/artifacts/pipeline/342b653e-a696-4e89-a390-34d42ae1a555/data/train_set.csv\">train_set</div><div title=\"/v3io/projects/getting-started-tutorial-iguazio/artifacts/pipeline/342b653e-a696-4e89-a390-34d42ae1a555/data/test_set.csv\">test_set</div><div title=\"/v3io/projects/getting-started-tutorial-iguazio/artifacts/pipeline/342b653e-a696-4e89-a390-34d42ae1a555/plots/confusion-matrix.html\">confusion-matrix</div><div title=\"/v3io/projects/getting-started-tutorial-iguazio/artifacts/pipeline/342b653e-a696-4e89-a390-34d42ae1a555/plots/precision-recall-multiclass.html\">precision-recall-multiclass</div><div title=\"/v3io/projects/getting-started-tutorial-iguazio/artifacts/pipeline/342b653e-a696-4e89-a390-34d42ae1a555/plots/roc-multiclass.html\">roc-multiclass</div><div title=\"/v3io/projects/getting-started-tutorial-iguazio/artifacts/pipeline/342b653e-a696-4e89-a390-34d42ae1a555/models\">model</div></td>\n",
       "    </tr>\n",
       "    <tr>\n",
       "      <td><div title=\"b8f308910c59408b802d8663be44f50e\"><a href=\"https://mlrun-ui.default-tenant.app.aefccdjffbit.iguazio-cd0.com/projects/getting-started-tutorial-iguazio/jobs/monitor/b8f308910c59408b802d8663be44f50e/info\" target=\"_blank\" >...be44f50e</a></div></td>\n",
       "      <td>Jan 25 12:59:39</td>\n",
       "      <td>completed</td>\n",
       "      <td>prep-data</td>\n",
       "      <td><div class=\"dictlist\">num_rows=150</div></td>\n",
       "      <td><div title=\"/v3io/projects/getting-started-tutorial-iguazio/artifacts/pipeline/342b653e-a696-4e89-a390-34d42ae1a555/cleaned_data.csv\">cleaned_data</div></td>\n",
       "    </tr>\n",
       "  </tbody>\n",
       "</table>"
      ],
      "text/plain": [
       "<IPython.core.display.HTML object>"
      ]
     },
     "metadata": {},
     "output_type": "display_data"
    }
   ],
   "source": [
    "pipeline_path = mlconf.artifact_path\n",
    "\n",
    "run_id = project.run(\n",
    "    'main',\n",
    "    arguments={}, \n",
    "    artifact_path=os.path.join(pipeline_path, \"pipeline\", '{{workflow.uid}}'),\n",
    "    dirty=True,\n",
    "    watch=True)"
   ]
  },
  {
   "cell_type": "markdown",
   "metadata": {},
   "source": [
    "<a id=\"gs-tutorial-4-step-ui-pipeline-view\"></a>"
   ]
  },
  {
   "cell_type": "markdown",
   "metadata": {},
   "source": [
    "## Step 7: Viewing the Pipeline on the Dashboard (UI)\n",
    "\n",
    "Navigate to the **Pipelines** page on the dashboard (UI).\n",
    "After the pipelines execution completes, you should be able to view the pipeline and see its functions: \n",
    "\n",
    "- `prep-data`\n",
    "- `train`\n",
    "- `test`\n",
    "- `deploy-serving`"
   ]
  },
  {
   "cell_type": "markdown",
   "metadata": {},
   "source": [
    "<img src=\"../_static/images/kubeflow-pipeline.png\" alt=\"pipeline\" width=\"600\"/>"
   ]
  },
  {
   "cell_type": "markdown",
   "metadata": {},
   "source": [
    "<a id=\"gs-tutorial-4-step-invoke-model\"></a>"
   ]
  },
  {
   "cell_type": "markdown",
   "metadata": {},
   "source": [
    "## Step 8: Invoking the Model\n",
    "\n",
    "Now that your model is deployed using the pipeline, you can invoke it as usual:"
   ]
  },
  {
   "cell_type": "code",
   "execution_count": 11,
   "metadata": {},
   "outputs": [
    {
     "data": {
      "text/plain": [
       "{'id': '0bb41173-1a86-4484-9220-c7b72ea0ab0e',\n",
       " 'model_name': 'my_model',\n",
       " 'outputs': [0, 2]}"
      ]
     },
     "execution_count": 11,
     "metadata": {},
     "output_type": "execute_result"
    }
   ],
   "source": [
    "serving_func = project.func('serving')\n",
    "my_data = {'inputs': [[5.1, 3.5, 1.4, 0.2],[7.7, 3.8, 6.7, 2.2]]}\n",
    "serving_func.invoke('/v2/models/my_model/infer', my_data)"
   ]
  },
  {
   "cell_type": "markdown",
   "metadata": {},
   "source": [
    "You can also make an HTTP call directly:"
   ]
  },
  {
   "cell_type": "code",
   "execution_count": 12,
   "metadata": {},
   "outputs": [
    {
     "name": "stdout",
     "output_type": "stream",
     "text": [
      "{'id': '36798e6e-37b7-4f05-9ae2-ec67c2217d22', 'model_name': 'my_model', 'outputs': [0, 2]}\n"
     ]
    }
   ],
   "source": [
    "import requests\n",
    "import json\n",
    "predict_url = f'http://{serving_func.status.address}/v2/models/my_model/predict'\n",
    "resp = requests.put(predict_url, json=json.dumps(my_data))\n",
    "print(resp.json())"
   ]
  },
  {
   "cell_type": "markdown",
   "metadata": {},
   "source": [
    "<a id=\"gs-tutorial-4-done\"></a>"
   ]
  },
  {
   "cell_type": "markdown",
   "metadata": {},
   "source": [
    "## Done!\n",
    "\n",
    "Congratulation! You've completed the getting started tutorial.\n",
    "\n",
    "You might also want to explore the following demos:\n",
    "\n",
    "- For an example of distributed training of an image-classification pipeline using TensorFlow (versions 1 or 2), Keras, and Horovod, see the [**image-classification with distributed training demo**](https://github.com/mlrun/demos/tree/release/v0.6.x-latest/image-classification-with-distributed-training).\n",
    "- To learn more about deploying live endpoints and concept drift, see the [**network-operations (NetOps) demo**](https://github.com/mlrun/demos/tree/release/v0.6.x-latest/network-operations).\n",
    "- To learn how to deploy your model with streaming information, see the [**model-deployment pipeline demo**](https://github.com/mlrun/demos/tree/release/v0.6.x-latest/model-deployment-pipeline).\n",
    "\n",
    "For additional information and guidelines, see the MLRun [**How-To Guides and Demos**](../howto/index.md)."
   ]
  }
 ],
 "metadata": {
  "kernelspec": {
   "display_name": "Python 3",
   "language": "python",
   "name": "python3"
  },
  "language_info": {
   "codemirror_mode": {
    "name": "ipython",
    "version": 3
   },
   "file_extension": ".py",
   "mimetype": "text/x-python",
   "name": "python",
   "nbconvert_exporter": "python",
   "pygments_lexer": "ipython3",
   "version": "3.7.6"
  }
 },
 "nbformat": 4,
 "nbformat_minor": 4
}
