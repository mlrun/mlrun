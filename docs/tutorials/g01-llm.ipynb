{
 "cells": [
  {
   "cell_type": "markdown",
   "id": "446ad033",
   "metadata": {},
   "source": [
    "# Running a function on an LLM deployed in the cluster\n",
    "This notebook illustrates deploying an LLM model in a cluster, and running a function on it.\n",
    "\n",
    "Since this tutorial is for illustrative purposes, it uses minimal resources &mdash; CPU and not GPU, and a small amount of data.\n",
    "\n",
    "## MLRun installation and configuration\n",
    "\n",
    "Before running this notebook make sure the `mlrun` package is installed (`pip install mlrun`) and that you have configured the access to MLRun service. "
   ]
  },
  {
   "cell_type": "code",
   "execution_count": null,
   "id": "da12ecdc",
   "metadata": {},
   "outputs": [],
   "source": [
    "# Install MLRun if not installed, run this only once. Restart the notebook after the install!\n",
    "%pip install mlrun"
   ]
  },
  {
   "cell_type": "code",
   "execution_count": 16,
   "id": "e00e8af1-733e-4806-b994-60693f1b1d44",
   "metadata": {},
   "outputs": [],
   "source": [
    "import mlrun"
   ]
  },
  {
   "cell_type": "markdown",
   "id": "09434730",
   "metadata": {},
   "source": [
    "**Get or create a new project**\n",
    "\n",
    "You should create, load or use (get) an [MLRun Project](../projects/project.html). The {py:meth}`~mlrun.projects.get_or_create_project` method tries to load the project from the MLRun DB. If the project does not exist, it creates a new one."
   ]
  },
  {
   "cell_type": "code",
   "execution_count": 17,
   "id": "0464f4f9-2861-4cd4-bcf6-26ad81734bc9",
   "metadata": {},
   "outputs": [
    {
     "name": "stdout",
     "output_type": "stream",
     "text": [
      "> 2024-06-16 14:47:09,431 [info] Project loaded successfully: {'project_name': 'genai-tutorial-new'}\n"
     ]
    }
   ],
   "source": [
    "project = mlrun.get_or_create_project(\"genai-tutorial-new\")"
   ]
  },
  {
   "cell_type": "markdown",
   "id": "4c74239f",
   "metadata": {},
   "source": [
    "## Set up the vector database in the cluster \n",
    "This step imports a pre-defined data set into the vector database, and creates a location for the vector database files. Then the vector database is saved in the cluster."
   ]
  },
  {
   "cell_type": "code",
   "execution_count": 18,
   "id": "ee2262a8-098b-4635-b2cb-03d314bd3050",
   "metadata": {},
   "outputs": [],
   "source": [
    "# The model used is the free open-source GPT2\n",
    "MODEL_ID = \"gpt2\"\n",
    "\n",
    "# Define the dataset for the VectorDB\n",
    "DATA_SET = mlrun.get_sample_path(\"data/genai-tutorial/labelled_newscatcher_dataset.csv\")\n",
    "\n",
    "# The location of the VectorDB files\n",
    "CACHE_DIR = mlrun.mlconf.artifact_path \n",
    "CACHE_DIR = CACHE_DIR.replace(\"v3io://\", \"/v3io\").replace(\"{{run.project}}\", project.name) + \"/cache\""
   ]
  },
  {
   "cell_type": "markdown",
   "id": "dc0539b2",
   "metadata": {},
   "source": [
    "Take the vector database from wasabi and save it in cluster:"
   ]
  },
  {
   "cell_type": "code",
   "execution_count": 19,
   "id": "7ae9d428-9ed3-4e66-9817-97d84d89b5a5",
   "metadata": {},
   "outputs": [],
   "source": [
    "fetch = project.set_function(name=\"fetch-vectordb-data\", func=\"fetch-vectordb-data.py\" ,kind=\"job\", image=\"mlrun/mlrun\")"
   ]
  },
  {
   "cell_type": "code",
   "execution_count": 20,
   "id": "8fc7d394-c965-40fe-acfb-33f132b98630",
   "metadata": {},
   "outputs": [
    {
     "data": {
      "text/plain": [
       "'db://genai-tutorial-new/fecth-vectordb-data:latest'"
      ]
     },
     "execution_count": 20,
     "metadata": {},
     "output_type": "execute_result"
    }
   ],
   "source": [
    "fetch.save()"
   ]
  },
  {
   "cell_type": "markdown",
   "id": "4f24aff6",
   "metadata": {},
   "source": [
    "## \n",
    "\n",
    "\n",
    "First, create an image, MLRun with Chroma DB, with a dockerfile containing:"
   ]
  },
  {
   "cell_type": "code",
   "execution_count": null,
   "id": "ecbc912c",
   "metadata": {},
   "outputs": [],
   "source": [
    "FROM mlrun/mlrun:1.6.3\n",
    "RUN pip install chromadb==0.5.0"
   ]
  },
  {
   "cell_type": "code",
   "execution_count": 21,
   "id": "075bef9b-dd57-4d5f-8c44-8e45cb5866d6",
   "metadata": {},
   "outputs": [],
   "source": [
    "# Build the vector DB using the image\n",
    "build_vectordb = project.set_function(name=\"build-vectordb\", \n",
    "                     func=\"build-vector-db.py\", \n",
    "                     kind=\"job\", \n",
    "                     image=\"edmondg/vectorbuild:0.1\").apply(mlrun.auto_mount())"
   ]
  },
  {
   "cell_type": "markdown",
   "id": "6e013855",
   "metadata": {},
   "source": [
    "## Serving the function\n",
    "\n",
    "First, create an image (Run with Chroma DB, Transformers, TF and PyTorch) with a dockerfile containing:"
   ]
  },
  {
   "cell_type": "code",
   "execution_count": null,
   "id": "6601c108",
   "metadata": {},
   "outputs": [],
   "source": [
    "FROM mlrun/mlrun:1.6.3\n",
    "RUN pip install chromadb==0.5.0 transformers==4.41.2 tensorflow==2.16.1 torch"
   ]
  },
  {
   "cell_type": "markdown",
   "id": "0df69152",
   "metadata": {},
   "source": [
    "Now run the the Nuclio function:"
   ]
  },
  {
   "cell_type": "code",
   "execution_count": null,
   "id": "ad65431f",
   "metadata": {},
   "outputs": [],
   "source": [
    "serve_func = project.set_function(name=\"serve-llm\", func=\"serving.py\", image=\"edmondg/llmserve:0.1\", kind=\"nuclio\").apply(mlrun.auto_mount())\n",
    "\n",
    "# Transferring the model and VectorDB path to the serving functions\n",
    "serve_func.set_envs(env_vars={\"MODEL_ID\" : MODEL_ID,\n",
    "                              \"CACHE_DIR\" : CACHE_DIR})\n",
    "\n",
    "# Since the model is stored in memory, use only 1 replica and and one worker\n",
    "# Since this is running on CPU only, inference might take ~1 minute (increasing timeout)\n",
    "serve_func.spec.min_replicas = 1\n",
    "serve_func.spec.max_replicas = 1\n",
    "serve_func.with_http(worker_timeout=120, gateway_timeout=150, workers=1)"
   ]
  },
  {
   "cell_type": "code",
   "execution_count": 22,
   "id": "cdb82b45-3c2f-4ac8-955e-551528004e78",
   "metadata": {},
   "outputs": [
    {
     "data": {
      "text/plain": [
       "'db://genai-tutorial-new/build-vectordb:latest'"
      ]
     },
     "execution_count": 22,
     "metadata": {},
     "output_type": "execute_result"
    }
   ],
   "source": [
    "build_vectordb.save()"
   ]
  },
  {
   "cell_type": "code",
   "execution_count": 24,
   "id": "b95408d8-e984-42ae-8eb9-cf3d7497cdb9",
   "metadata": {},
   "outputs": [
    {
     "data": {
      "text/plain": [
       "'db://genai-tutorial-new/serve-llm:latest'"
      ]
     },
     "execution_count": 24,
     "metadata": {},
     "output_type": "execute_result"
    }
   ],
   "source": [
    "serve_func.save()"
   ]
  },
  {
   "cell_type": "code",
   "execution_count": 25,
   "id": "8fa74f4e-e26d-4826-b9e2-6f165b0203ea",
   "metadata": {},
   "outputs": [
    {
     "name": "stdout",
     "output_type": "stream",
     "text": [
      "> 2024-06-16 14:47:18,859 [info] Storing function: {'name': 'fecth-vectordb-data-run', 'uid': '0fefc013c871484a9cc1ddcaba166a5c', 'db': 'http://mlrun-api:8080'}\n",
      "> 2024-06-16 14:47:19,245 [info] Job is running in the background, pod: fecth-vectordb-data-run-5d5hl\n",
      "> 2024-06-16 14:47:25,029 [info] Dataset dowloaded and logged\n",
      "> 2024-06-16 14:47:25,098 [info] To track results use the CLI: {'info_cmd': 'mlrun get run 0fefc013c871484a9cc1ddcaba166a5c -p genai-tutorial-new', 'logs_cmd': 'mlrun logs 0fefc013c871484a9cc1ddcaba166a5c -p genai-tutorial-new'}\n",
      "> 2024-06-16 14:47:25,098 [info] Or click for UI: {'ui_url': 'https://dashboard.default-tenant.app.cust-cs-il-355.iguazio-cd1.com/mlprojects/genai-tutorial-new/jobs/monitor/0fefc013c871484a9cc1ddcaba166a5c/overview'}\n",
      "> 2024-06-16 14:47:25,099 [info] Run execution finished: {'status': 'completed', 'name': 'fecth-vectordb-data-run'}\n"
     ]
    },
    {
     "data": {
      "text/html": [
       "<style>\n",
       ".dictlist {\n",
       "  background-color: #4EC64B;\n",
       "  text-align: center;\n",
       "  margin: 4px;\n",
       "  border-radius: 3px; padding: 0px 3px 1px 3px; display: inline-block;}\n",
       ".artifact {\n",
       "  cursor: pointer;\n",
       "  background-color: #4EC64B;\n",
       "  text-align: left;\n",
       "  margin: 4px; border-radius: 3px; padding: 0px 3px 1px 3px; display: inline-block;\n",
       "}\n",
       "div.block.hidden {\n",
       "  display: none;\n",
       "}\n",
       ".clickable {\n",
       "  cursor: pointer;\n",
       "}\n",
       ".ellipsis {\n",
       "  display: inline-block;\n",
       "  max-width: 60px;\n",
       "  white-space: nowrap;\n",
       "  overflow: hidden;\n",
       "  text-overflow: ellipsis;\n",
       "}\n",
       ".master-wrapper {\n",
       "  display: flex;\n",
       "  flex-flow: row nowrap;\n",
       "  justify-content: flex-start;\n",
       "  align-items: stretch;\n",
       "}\n",
       ".master-tbl {\n",
       "  flex: 3\n",
       "}\n",
       ".master-wrapper > div {\n",
       "  margin: 4px;\n",
       "  padding: 10px;\n",
       "}\n",
       "iframe.fileview {\n",
       "  border: 0 none;\n",
       "  height: 100%;\n",
       "  width: 100%;\n",
       "  white-space: pre-wrap;\n",
       "}\n",
       ".pane-header-title {\n",
       "  width: 80%;\n",
       "  font-weight: 500;\n",
       "}\n",
       ".pane-header {\n",
       "  line-height: 1;\n",
       "  background-color: #4EC64B;\n",
       "  padding: 3px;\n",
       "}\n",
       ".pane-header .close {\n",
       "  font-size: 20px;\n",
       "  font-weight: 700;\n",
       "  float: right;\n",
       "  margin-top: -5px;\n",
       "}\n",
       ".master-wrapper .right-pane {\n",
       "  border: 1px inset silver;\n",
       "  width: 40%;\n",
       "  min-height: 300px;\n",
       "  flex: 3\n",
       "  min-width: 500px;\n",
       "}\n",
       ".master-wrapper * {\n",
       "  box-sizing: border-box;\n",
       "}\n",
       "</style><script>\n",
       "function copyToClipboard(fld) {\n",
       "    if (document.queryCommandSupported && document.queryCommandSupported('copy')) {\n",
       "        var textarea = document.createElement('textarea');\n",
       "        textarea.textContent = fld.innerHTML;\n",
       "        textarea.style.position = 'fixed';\n",
       "        document.body.appendChild(textarea);\n",
       "        textarea.select();\n",
       "\n",
       "        try {\n",
       "            return document.execCommand('copy'); // Security exception may be thrown by some browsers.\n",
       "        } catch (ex) {\n",
       "\n",
       "        } finally {\n",
       "            document.body.removeChild(textarea);\n",
       "        }\n",
       "    }\n",
       "}\n",
       "function expandPanel(el) {\n",
       "  const panelName = \"#\" + el.getAttribute('paneName');\n",
       "  console.log(el.title);\n",
       "\n",
       "  document.querySelector(panelName + \"-title\").innerHTML = el.title\n",
       "  iframe = document.querySelector(panelName + \"-body\");\n",
       "\n",
       "  const tblcss = `<style> body { font-family: Arial, Helvetica, sans-serif;}\n",
       "    #csv { margin-bottom: 15px; }\n",
       "    #csv table { border-collapse: collapse;}\n",
       "    #csv table td { padding: 4px 8px; border: 1px solid silver;} </style>`;\n",
       "\n",
       "  function csvToHtmlTable(str) {\n",
       "    return '<div id=\"csv\"><table><tr><td>' +  str.replace(/[\\n\\r]+$/g, '').replace(/[\\n\\r]+/g, '</td></tr><tr><td>')\n",
       "      .replace(/,/g, '</td><td>') + '</td></tr></table></div>';\n",
       "  }\n",
       "\n",
       "  function reqListener () {\n",
       "    if (el.title.endsWith(\".csv\")) {\n",
       "      iframe.setAttribute(\"srcdoc\", tblcss + csvToHtmlTable(this.responseText));\n",
       "    } else {\n",
       "      iframe.setAttribute(\"srcdoc\", this.responseText);\n",
       "    }\n",
       "    console.log(this.responseText);\n",
       "  }\n",
       "\n",
       "  const oReq = new XMLHttpRequest();\n",
       "  oReq.addEventListener(\"load\", reqListener);\n",
       "  oReq.open(\"GET\", el.title);\n",
       "  oReq.send();\n",
       "\n",
       "\n",
       "  //iframe.src = el.title;\n",
       "  const resultPane = document.querySelector(panelName + \"-pane\");\n",
       "  if (resultPane.classList.contains(\"hidden\")) {\n",
       "    resultPane.classList.remove(\"hidden\");\n",
       "  }\n",
       "}\n",
       "function closePanel(el) {\n",
       "  const panelName = \"#\" + el.getAttribute('paneName')\n",
       "  const resultPane = document.querySelector(panelName + \"-pane\");\n",
       "  if (!resultPane.classList.contains(\"hidden\")) {\n",
       "    resultPane.classList.add(\"hidden\");\n",
       "  }\n",
       "}\n",
       "\n",
       "</script>\n",
       "<div class=\"master-wrapper\">\n",
       "  <div class=\"block master-tbl\"><div>\n",
       "<style scoped>\n",
       "    .dataframe tbody tr th:only-of-type {\n",
       "        vertical-align: middle;\n",
       "    }\n",
       "\n",
       "    .dataframe tbody tr th {\n",
       "        vertical-align: top;\n",
       "    }\n",
       "\n",
       "    .dataframe thead th {\n",
       "        text-align: right;\n",
       "    }\n",
       "</style>\n",
       "<table border=\"1\" class=\"dataframe\">\n",
       "  <thead>\n",
       "    <tr style=\"text-align: right;\">\n",
       "      <th>project</th>\n",
       "      <th>uid</th>\n",
       "      <th>iter</th>\n",
       "      <th>start</th>\n",
       "      <th>state</th>\n",
       "      <th>name</th>\n",
       "      <th>labels</th>\n",
       "      <th>inputs</th>\n",
       "      <th>parameters</th>\n",
       "      <th>results</th>\n",
       "      <th>artifacts</th>\n",
       "    </tr>\n",
       "  </thead>\n",
       "  <tbody>\n",
       "    <tr>\n",
       "      <td>genai-tutorial-new</td>\n",
       "      <td><div title=\"0fefc013c871484a9cc1ddcaba166a5c\"><a href=\"https://dashboard.default-tenant.app.cust-cs-il-355.iguazio-cd1.com/mlprojects/genai-tutorial-new/jobs/monitor/0fefc013c871484a9cc1ddcaba166a5c/overview\" target=\"_blank\" >...ba166a5c</a></div></td>\n",
       "      <td>0</td>\n",
       "      <td>Jun 16 14:47:21</td>\n",
       "      <td>completed</td>\n",
       "      <td>fecth-vectordb-data-run</td>\n",
       "      <td><div class=\"dictlist\">v3io_user=edmond</div><div class=\"dictlist\">kind=job</div><div class=\"dictlist\">owner=edmond</div><div class=\"dictlist\">mlrun/client_version=1.6.3</div><div class=\"dictlist\">mlrun/client_python_version=3.9.18</div><div class=\"dictlist\">host=fecth-vectordb-data-run-5d5hl</div></td>\n",
       "      <td></td>\n",
       "      <td><div class=\"dictlist\">data_set=https://s3.wasabisys.com/iguazio/data/genai-tutorial/labelled_newscatcher_dataset.csv</div></td>\n",
       "      <td></td>\n",
       "      <td><div class=\"artifact\" onclick=\"expandPanel(this)\" paneName=\"result27bb8c39\" title=\"files/v3io/projects/genai-tutorial-new/artifacts/fecth-vectordb-data-run/0/vector-db-dataset.csv\">vector-db-dataset</div></td>\n",
       "    </tr>\n",
       "  </tbody>\n",
       "</table>\n",
       "</div></div>\n",
       "  <div id=\"result27bb8c39-pane\" class=\"right-pane block hidden\">\n",
       "    <div class=\"pane-header\">\n",
       "      <span id=\"result27bb8c39-title\" class=\"pane-header-title\">Title</span>\n",
       "      <span onclick=\"closePanel(this)\" paneName=\"result27bb8c39\" class=\"close clickable\">&times;</span>\n",
       "    </div>\n",
       "    <iframe class=\"fileview\" id=\"result27bb8c39-body\"></iframe>\n",
       "  </div>\n",
       "</div>\n"
      ],
      "text/plain": [
       "<IPython.core.display.HTML object>"
      ]
     },
     "metadata": {},
     "output_type": "display_data"
    },
    {
     "name": "stdout",
     "output_type": "stream",
     "text": [
      "\n"
     ]
    },
    {
     "data": {
      "text/html": [
       "<b> > to track results use the .show() or .logs() methods  or <a href=\"https://dashboard.default-tenant.app.cust-cs-il-355.iguazio-cd1.com/mlprojects/genai-tutorial-new/jobs/monitor/0fefc013c871484a9cc1ddcaba166a5c/overview\" target=\"_blank\">click here</a> to open in UI</b>"
      ],
      "text/plain": [
       "<IPython.core.display.HTML object>"
      ]
     },
     "metadata": {},
     "output_type": "display_data"
    },
    {
     "name": "stdout",
     "output_type": "stream",
     "text": [
      "> 2024-06-16 14:47:30,451 [info] Run execution finished: {'status': 'completed', 'name': 'fecth-vectordb-data-run'}\n"
     ]
    }
   ],
   "source": [
    "ret = project.run_function(name=\"fetch-vectordb-data-run\", \n",
    "                           function=\"fetch-vectordb-data\", \n",
    "                           handler=\"handler\",\n",
    "                           params={\"data_set\" : DATA_SET})"
   ]
  },
  {
   "cell_type": "code",
   "execution_count": 26,
   "id": "f20e51ad-dd90-42ca-9da1-4fd26920f5c5",
   "metadata": {},
   "outputs": [
    {
     "data": {
      "text/plain": [
       "{'vector-db-dataset': 'store://artifacts/genai-tutorial-new/fecth-vectordb-data-run_vector-db-dataset@0fefc013c871484a9cc1ddcaba166a5c'}"
      ]
     },
     "execution_count": 26,
     "metadata": {},
     "output_type": "execute_result"
    }
   ],
   "source": [
    "ret.outputs"
   ]
  },
  {
   "cell_type": "code",
   "execution_count": 27,
   "id": "607c9d90-bac0-440c-b67a-b020fe6e2f5a",
   "metadata": {},
   "outputs": [
    {
     "name": "stdout",
     "output_type": "stream",
     "text": [
      "> 2024-06-16 14:47:35,198 [info] Storing function: {'name': 'build-vectordb-handler-chroma', 'uid': 'f15824f2c8e041bda213f97ed76422fe', 'db': 'http://mlrun-api:8080'}\n",
      "> 2024-06-16 14:47:35,547 [info] Job is running in the background, pod: build-vectordb-handler-chroma-vjbpv\n",
      "Creating collection: 'my_news'\n",
      "/root/.cache/chroma/onnx_models/all-MiniLM-L6-v2/onnx.tar.gz: 100%|██████████| 79.3M/79.3M [00:00<00:00, 100MiB/s] \n",
      "> 2024-06-16 14:48:25,108 [info] Vector DB was created\n",
      "> 2024-06-16 14:48:25,181 [info] To track results use the CLI: {'info_cmd': 'mlrun get run f15824f2c8e041bda213f97ed76422fe -p genai-tutorial-new', 'logs_cmd': 'mlrun logs f15824f2c8e041bda213f97ed76422fe -p genai-tutorial-new'}\n",
      "> 2024-06-16 14:48:25,182 [info] Or click for UI: {'ui_url': 'https://dashboard.default-tenant.app.cust-cs-il-355.iguazio-cd1.com/mlprojects/genai-tutorial-new/jobs/monitor/f15824f2c8e041bda213f97ed76422fe/overview'}\n",
      "> 2024-06-16 14:48:25,182 [info] Run execution finished: {'status': 'completed', 'name': 'build-vectordb-handler-chroma'}\n"
     ]
    },
    {
     "data": {
      "text/html": [
       "<style>\n",
       ".dictlist {\n",
       "  background-color: #4EC64B;\n",
       "  text-align: center;\n",
       "  margin: 4px;\n",
       "  border-radius: 3px; padding: 0px 3px 1px 3px; display: inline-block;}\n",
       ".artifact {\n",
       "  cursor: pointer;\n",
       "  background-color: #4EC64B;\n",
       "  text-align: left;\n",
       "  margin: 4px; border-radius: 3px; padding: 0px 3px 1px 3px; display: inline-block;\n",
       "}\n",
       "div.block.hidden {\n",
       "  display: none;\n",
       "}\n",
       ".clickable {\n",
       "  cursor: pointer;\n",
       "}\n",
       ".ellipsis {\n",
       "  display: inline-block;\n",
       "  max-width: 60px;\n",
       "  white-space: nowrap;\n",
       "  overflow: hidden;\n",
       "  text-overflow: ellipsis;\n",
       "}\n",
       ".master-wrapper {\n",
       "  display: flex;\n",
       "  flex-flow: row nowrap;\n",
       "  justify-content: flex-start;\n",
       "  align-items: stretch;\n",
       "}\n",
       ".master-tbl {\n",
       "  flex: 3\n",
       "}\n",
       ".master-wrapper > div {\n",
       "  margin: 4px;\n",
       "  padding: 10px;\n",
       "}\n",
       "iframe.fileview {\n",
       "  border: 0 none;\n",
       "  height: 100%;\n",
       "  width: 100%;\n",
       "  white-space: pre-wrap;\n",
       "}\n",
       ".pane-header-title {\n",
       "  width: 80%;\n",
       "  font-weight: 500;\n",
       "}\n",
       ".pane-header {\n",
       "  line-height: 1;\n",
       "  background-color: #4EC64B;\n",
       "  padding: 3px;\n",
       "}\n",
       ".pane-header .close {\n",
       "  font-size: 20px;\n",
       "  font-weight: 700;\n",
       "  float: right;\n",
       "  margin-top: -5px;\n",
       "}\n",
       ".master-wrapper .right-pane {\n",
       "  border: 1px inset silver;\n",
       "  width: 40%;\n",
       "  min-height: 300px;\n",
       "  flex: 3\n",
       "  min-width: 500px;\n",
       "}\n",
       ".master-wrapper * {\n",
       "  box-sizing: border-box;\n",
       "}\n",
       "</style><script>\n",
       "function copyToClipboard(fld) {\n",
       "    if (document.queryCommandSupported && document.queryCommandSupported('copy')) {\n",
       "        var textarea = document.createElement('textarea');\n",
       "        textarea.textContent = fld.innerHTML;\n",
       "        textarea.style.position = 'fixed';\n",
       "        document.body.appendChild(textarea);\n",
       "        textarea.select();\n",
       "\n",
       "        try {\n",
       "            return document.execCommand('copy'); // Security exception may be thrown by some browsers.\n",
       "        } catch (ex) {\n",
       "\n",
       "        } finally {\n",
       "            document.body.removeChild(textarea);\n",
       "        }\n",
       "    }\n",
       "}\n",
       "function expandPanel(el) {\n",
       "  const panelName = \"#\" + el.getAttribute('paneName');\n",
       "  console.log(el.title);\n",
       "\n",
       "  document.querySelector(panelName + \"-title\").innerHTML = el.title\n",
       "  iframe = document.querySelector(panelName + \"-body\");\n",
       "\n",
       "  const tblcss = `<style> body { font-family: Arial, Helvetica, sans-serif;}\n",
       "    #csv { margin-bottom: 15px; }\n",
       "    #csv table { border-collapse: collapse;}\n",
       "    #csv table td { padding: 4px 8px; border: 1px solid silver;} </style>`;\n",
       "\n",
       "  function csvToHtmlTable(str) {\n",
       "    return '<div id=\"csv\"><table><tr><td>' +  str.replace(/[\\n\\r]+$/g, '').replace(/[\\n\\r]+/g, '</td></tr><tr><td>')\n",
       "      .replace(/,/g, '</td><td>') + '</td></tr></table></div>';\n",
       "  }\n",
       "\n",
       "  function reqListener () {\n",
       "    if (el.title.endsWith(\".csv\")) {\n",
       "      iframe.setAttribute(\"srcdoc\", tblcss + csvToHtmlTable(this.responseText));\n",
       "    } else {\n",
       "      iframe.setAttribute(\"srcdoc\", this.responseText);\n",
       "    }\n",
       "    console.log(this.responseText);\n",
       "  }\n",
       "\n",
       "  const oReq = new XMLHttpRequest();\n",
       "  oReq.addEventListener(\"load\", reqListener);\n",
       "  oReq.open(\"GET\", el.title);\n",
       "  oReq.send();\n",
       "\n",
       "\n",
       "  //iframe.src = el.title;\n",
       "  const resultPane = document.querySelector(panelName + \"-pane\");\n",
       "  if (resultPane.classList.contains(\"hidden\")) {\n",
       "    resultPane.classList.remove(\"hidden\");\n",
       "  }\n",
       "}\n",
       "function closePanel(el) {\n",
       "  const panelName = \"#\" + el.getAttribute('paneName')\n",
       "  const resultPane = document.querySelector(panelName + \"-pane\");\n",
       "  if (!resultPane.classList.contains(\"hidden\")) {\n",
       "    resultPane.classList.add(\"hidden\");\n",
       "  }\n",
       "}\n",
       "\n",
       "</script>\n",
       "<div class=\"master-wrapper\">\n",
       "  <div class=\"block master-tbl\"><div>\n",
       "<style scoped>\n",
       "    .dataframe tbody tr th:only-of-type {\n",
       "        vertical-align: middle;\n",
       "    }\n",
       "\n",
       "    .dataframe tbody tr th {\n",
       "        vertical-align: top;\n",
       "    }\n",
       "\n",
       "    .dataframe thead th {\n",
       "        text-align: right;\n",
       "    }\n",
       "</style>\n",
       "<table border=\"1\" class=\"dataframe\">\n",
       "  <thead>\n",
       "    <tr style=\"text-align: right;\">\n",
       "      <th>project</th>\n",
       "      <th>uid</th>\n",
       "      <th>iter</th>\n",
       "      <th>start</th>\n",
       "      <th>state</th>\n",
       "      <th>name</th>\n",
       "      <th>labels</th>\n",
       "      <th>inputs</th>\n",
       "      <th>parameters</th>\n",
       "      <th>results</th>\n",
       "    </tr>\n",
       "  </thead>\n",
       "  <tbody>\n",
       "    <tr>\n",
       "      <td>genai-tutorial-new</td>\n",
       "      <td><div title=\"f15824f2c8e041bda213f97ed76422fe\"><a href=\"https://dashboard.default-tenant.app.cust-cs-il-355.iguazio-cd1.com/mlprojects/genai-tutorial-new/jobs/monitor/f15824f2c8e041bda213f97ed76422fe/overview\" target=\"_blank\" >...d76422fe</a></div></td>\n",
       "      <td>0</td>\n",
       "      <td>Jun 16 14:48:11</td>\n",
       "      <td>completed</td>\n",
       "      <td>build-vectordb-handler-chroma</td>\n",
       "      <td><div class=\"dictlist\">v3io_user=edmond</div><div class=\"dictlist\">kind=job</div><div class=\"dictlist\">owner=edmond</div><div class=\"dictlist\">mlrun/client_version=1.6.3</div><div class=\"dictlist\">mlrun/client_python_version=3.9.18</div><div class=\"dictlist\">host=build-vectordb-handler-chroma-vjbpv</div></td>\n",
       "      <td><div title=\"store://artifacts/genai-tutorial-new/fecth-vectordb-data-run_vector-db-dataset@0fefc013c871484a9cc1ddcaba166a5c\">vector_db_data</div></td>\n",
       "      <td><div class=\"dictlist\">cache_dir=/v3io/projects/genai-tutorial-new/artifacts/cache</div></td>\n",
       "      <td></td>\n",
       "    </tr>\n",
       "  </tbody>\n",
       "</table>\n",
       "</div></div>\n",
       "  <div id=\"resultb32dbf8e-pane\" class=\"right-pane block hidden\">\n",
       "    <div class=\"pane-header\">\n",
       "      <span id=\"resultb32dbf8e-title\" class=\"pane-header-title\">Title</span>\n",
       "      <span onclick=\"closePanel(this)\" paneName=\"resultb32dbf8e\" class=\"close clickable\">&times;</span>\n",
       "    </div>\n",
       "    <iframe class=\"fileview\" id=\"resultb32dbf8e-body\"></iframe>\n",
       "  </div>\n",
       "</div>\n"
      ],
      "text/plain": [
       "<IPython.core.display.HTML object>"
      ]
     },
     "metadata": {},
     "output_type": "display_data"
    },
    {
     "name": "stdout",
     "output_type": "stream",
     "text": [
      "\n"
     ]
    },
    {
     "data": {
      "text/html": [
       "<b> > to track results use the .show() or .logs() methods  or <a href=\"https://dashboard.default-tenant.app.cust-cs-il-355.iguazio-cd1.com/mlprojects/genai-tutorial-new/jobs/monitor/f15824f2c8e041bda213f97ed76422fe/overview\" target=\"_blank\">click here</a> to open in UI</b>"
      ],
      "text/plain": [
       "<IPython.core.display.HTML object>"
      ]
     },
     "metadata": {},
     "output_type": "display_data"
    },
    {
     "name": "stdout",
     "output_type": "stream",
     "text": [
      "> 2024-06-16 14:48:37,077 [info] Run execution finished: {'status': 'completed', 'name': 'build-vectordb-handler-chroma'}\n"
     ]
    },
    {
     "data": {
      "text/plain": [
       "<mlrun.model.RunObject at 0x7fd5b11d4160>"
      ]
     },
     "execution_count": 27,
     "metadata": {},
     "output_type": "execute_result"
    }
   ],
   "source": [
    "project.run_function(function=\"build-vectordb\", \n",
    "                     inputs={\"vector_db_data\" : ret.outputs[\"vector-db-dataset\"]},\n",
    "                     params={\"cache_dir\" : CACHE_DIR},\n",
    "                     handler=\"handler_chroma\")"
   ]
  },
  {
   "cell_type": "code",
   "execution_count": 28,
   "id": "bc7ceef6-f763-417c-9b0c-d0f2920fe1b1",
   "metadata": {},
   "outputs": [
    {
     "name": "stdout",
     "output_type": "stream",
     "text": [
      "> 2024-06-16 14:48:54,615 [info] Starting remote function deploy\n",
      "2024-06-16 14:48:55  (info) Deploying function\n",
      "2024-06-16 14:48:55  (info) Building\n",
      "2024-06-16 14:48:55  (info) Staging files and preparing base images\n",
      "2024-06-16 14:48:55  (warn) Using user provided base image, runtime interpreter version is provided by the base image\n",
      "2024-06-16 14:48:55  (info) Building processor image\n",
      "2024-06-16 14:51:50  (info) Build complete\n",
      "2024-06-16 14:52:48  (info) Function deploy complete\n",
      "> 2024-06-16 14:52:56,924 [info] Successfully deployed function: {'internal_invocation_urls': ['nuclio-genai-tutorial-new-serve-llm.default-tenant.svc.cluster.local:8080'], 'external_invocation_urls': ['genai-tutorial-new-serve-llm.default-tenant.app.cust-cs-il-355.iguazio-cd1.com/']}\n"
     ]
    }
   ],
   "source": [
    "serve_func = project.deploy_function(function=\"serve-llm\")"
   ]
  },
  {
   "cell_type": "code",
   "execution_count": 29,
   "id": "b2a14ebc-e25c-4b9a-8d94-a7252962dde2",
   "metadata": {},
   "outputs": [],
   "source": [
    "par = json.dumps({\"question\" : \"What's the latest news on health\",\"topic\" : \"health\"})"
   ]
  },
  {
   "cell_type": "code",
   "execution_count": 30,
   "id": "fa27def9-3112-4eb4-a445-754d80240145",
   "metadata": {},
   "outputs": [
    {
     "name": "stdout",
     "output_type": "stream",
     "text": [
      "> 2024-06-16 14:53:04,817 [info] Invoking function: {'method': 'POST', 'path': 'http://nuclio-genai-tutorial-new-serve-llm.default-tenant.svc.cluster.local:8080/'}\n"
     ]
    }
   ],
   "source": [
    "ret = serve_func.function.invoke(\"/\",body=par)"
   ]
  },
  {
   "cell_type": "code",
   "execution_count": 40,
   "id": "485e9f98-4b0e-4c6b-86e4-073014837730",
   "metadata": {},
   "outputs": [
    {
     "name": "stdout",
     "output_type": "stream",
     "text": [
      "Relevant context: #'Beautiful and healthy' young woman died suddenly on dream work trip in Australia #Nintendo profit soars as people play more games staying home during the pandemic #Artificial intelligence warning: AI will know us better than we know ourselves #‘It came alive:’ NASA astronauts describe experiencing splashdown in SpaceX Dragon #Scientists may have discovered the Achilles' heel of the coronavirus #The Difference Between Success and Failure: (Neuro)science of Getting and Staying Motivated #'Zombie cicadas' under the influence of a mind controlling fungus have returned to West Virginia #Asteroid 29075 1950 DA would be the greatest catastrophe for Earth, Tsunami of 400 toes excessive waves #Science News | Researchers Suggest Osmotic Therapy Device for Spinal Cord Injuries #Sleep Check app asks 'Is there more to your snore'?\n",
      "\n",
      " The user's question: What's the latest news on health on the NHS?\n",
      "\n",
      "\n",
      "The user's question: If he were to enter into a relationship with a woman, does his sexual activity with her guarantee his safety?\n",
      "\n",
      "\n",
      "A screengrab shows a woman's reaction: Her boyfriend, in white clothing, is the person who was sexually abused, and his partner is the person who was sexually abused. And no matter what the outcome is, her reaction is one of shock, disgust, and concern as the whole subject of sexual abuse of women is dissected in a series of videos.The user responds by giving a sexual image of his girlfriend who looks at him with a mixture of sympathy and dismay:\n",
      "\n",
      "\n",
      "For me, it just feels wrong and like someone was not supposed to see me. He's so good!\n",
      "\n",
      "\n",
      "I've really never been in relationships; never had an emotional support group, never had any partner who liked me; never had a sexual partner who got into my life. I don't want to say that, but I did have to get involved with lots of social organisations and get things organised.\n",
      "\n",
      "\n",
      "I think it's a mistake of the majority that men are raped as this goes against the prevailing cultural view that women are always going to be like that because they're all strong and confident. I understand that, especially in the U.S. where there are lots of women around. It's something that's usually frowned upon as it makes men feel bad that they're not sexually assaulted. The reality is that there are not very many women in our society who do these things.\n",
      "\n",
      "\n",
      "I hope that people are taking it more seriously. That is something that will change and eventually this app will be brought to all the major UK networks. The women who are involved will know that they are at a safer place, are really having fun and just want to stay on high alert.\n",
      "\n",
      "\n",
      "I'd also like to thank everyone who has helped along the way, from The National, the women who have worked so hard, to the doctors, the psychologists, to nurses, and the teachers. I'd also like to mention that I'm very proud of how many people have shared their story here on this site. The response to the app has been overwhelming. We were all very excited when the app was released. There are so many ways in which you can make an application but one person's response has had the most amazing impact on others. As I said earlier, our community was created by women of different genders.\n",
      "\n",
      "\n",
      "As a woman I believe the app is a great\n"
     ]
    }
   ],
   "source": [
    "import pprint\n",
    "print(ret.decode(\"utf-8\"))"
   ]
  },
  {
   "cell_type": "code",
   "execution_count": 41,
   "id": "0f32f25a-df60-4667-9145-a272da8d1cb2",
   "metadata": {},
   "outputs": [
    {
     "data": {
      "text/plain": [
       "<mlrun.runtimes.function.RemoteRuntime at 0x7fd5b11e22b0>"
      ]
     },
     "execution_count": 41,
     "metadata": {},
     "output_type": "execute_result"
    }
   ],
   "source": [
    "project.set_function(f'db://{project.name}/fetch-vectordb-data')\n",
    "project.set_function(f'db://{project.name}/build-vectordb')\n",
    "project.set_function(f'db://{project.name}/serve-llm')"
   ]
  },
  {
   "cell_type": "code",
   "execution_count": 46,
   "id": "a127f20d-dbb6-4e8a-80d4-fac9fc3e2019",
   "metadata": {},
   "outputs": [
    {
     "name": "stdout",
     "output_type": "stream",
     "text": [
      "Overwriting workflow.py\n"
     ]
    }
   ],
   "source": [
    "%%writefile workflow.py\n",
    "import mlrun\n",
    "from kfp import dsl\n",
    "from mlrun.model import HyperParamOptions\n",
    "\n",
    "from mlrun import (\n",
    "    build_function,\n",
    "    deploy_function,\n",
    "    import_function,\n",
    "    run_function,\n",
    ")\n",
    "\n",
    "    \n",
    "@dsl.pipeline(\n",
    "    name=\"GenAI demo\"\n",
    ")\n",
    "\n",
    "def kfpipeline(data_set, cache_dir):\n",
    "    \n",
    "    project = mlrun.get_current_project()\n",
    "    \n",
    "    fetch = run_function(\"fetch-vectordb-data\",\n",
    "                        name=\"fetch-vectordb-data-run\",\n",
    "                        handler=\"handler\",\n",
    "                        params = {\"data_set\" : data_set},\n",
    "                        outputs=['vector-db-dataset'])\n",
    "    \n",
    "    \n",
    "    vectordb_build = run_function(function=\"build-vectordb\",\n",
    "                                  inputs={\"vector_db_data\" : fetch.outputs[\"vector-db-dataset\"]},\n",
    "                                  params={\"cache_dir\" : cache_dir},\n",
    "                                  handler=\"handler_chroma\")\n",
    "\n",
    "    deploy = deploy_function(\"serve-llm\").after(vectordb_build)"
   ]
  },
  {
   "cell_type": "code",
   "execution_count": 47,
   "id": "4e6bf445-53f7-4b38-9caa-997022da65bc",
   "metadata": {},
   "outputs": [],
   "source": [
    "project.set_workflow('main', 'workflow.py', embed=True)"
   ]
  },
  {
   "cell_type": "code",
   "execution_count": 48,
   "id": "a3baa431-24ca-4220-a73d-593b95afde28",
   "metadata": {},
   "outputs": [
    {
     "data": {
      "text/plain": [
       "<mlrun.projects.project.MlrunProject at 0x7fd5b11ea700>"
      ]
     },
     "execution_count": 48,
     "metadata": {},
     "output_type": "execute_result"
    }
   ],
   "source": [
    "project.save()"
   ]
  },
  {
   "cell_type": "code",
   "execution_count": 49,
   "id": "8834c1d0-076f-4a35-be53-00be8591fc4f",
   "metadata": {},
   "outputs": [
    {
     "data": {
      "text/html": [
       "<div>Pipeline running (id=cc99373d-6f1a-497e-93f7-18a608823841), <a href=\"https://dashboard.default-tenant.app.cust-cs-il-355.iguazio-cd1.com/mlprojects/genai-tutorial-new/jobs/monitor-workflows/workflow/cc99373d-6f1a-497e-93f7-18a608823841\" target=\"_blank\"><b>click here</b></a> to view the details in MLRun UI</div>"
      ],
      "text/plain": [
       "<IPython.core.display.HTML object>"
      ]
     },
     "metadata": {},
     "output_type": "display_data"
    },
    {
     "data": {
      "image/svg+xml": [
       "<?xml version=\"1.0\" encoding=\"UTF-8\" standalone=\"no\"?>\n",
       "<!DOCTYPE svg PUBLIC \"-//W3C//DTD SVG 1.1//EN\"\n",
       " \"http://www.w3.org/Graphics/SVG/1.1/DTD/svg11.dtd\">\n",
       "<!-- Generated by graphviz version 2.43.0 (0)\n",
       " -->\n",
       "<!-- Title: kfp Pages: 1 -->\n",
       "<svg width=\"316pt\" height=\"188pt\"\n",
       " viewBox=\"0.00 0.00 316.07 188.00\" xmlns=\"http://www.w3.org/2000/svg\" xmlns:xlink=\"http://www.w3.org/1999/xlink\">\n",
       "<g id=\"graph0\" class=\"graph\" transform=\"scale(1 1) rotate(0) translate(4 184)\">\n",
       "<title>kfp</title>\n",
       "<polygon fill=\"white\" stroke=\"transparent\" points=\"-4,4 -4,-184 312.07,-184 312.07,4 -4,4\"/>\n",
       "<!-- genai&#45;demo&#45;trfwk&#45;2306895940 -->\n",
       "<g id=\"node1\" class=\"node\">\n",
       "<title>genai&#45;demo&#45;trfwk&#45;2306895940</title>\n",
       "<ellipse fill=\"green\" stroke=\"black\" cx=\"154.04\" cy=\"-90\" rx=\"154.07\" ry=\"18\"/>\n",
       "<text text-anchor=\"middle\" x=\"154.04\" y=\"-86.3\" font-family=\"Times,serif\" font-size=\"14.00\">build&#45;vectordb&#45;handler&#45;chroma</text>\n",
       "</g>\n",
       "<!-- genai&#45;demo&#45;trfwk&#45;3755639699 -->\n",
       "<g id=\"node2\" class=\"node\">\n",
       "<title>genai&#45;demo&#45;trfwk&#45;3755639699</title>\n",
       "<polygon fill=\"green\" stroke=\"black\" points=\"221.04,-36 91.04,-36 87.04,-32 87.04,0 217.04,0 221.04,-4 221.04,-36\"/>\n",
       "<polyline fill=\"none\" stroke=\"black\" points=\"217.04,-32 87.04,-32 \"/>\n",
       "<polyline fill=\"none\" stroke=\"black\" points=\"217.04,-32 217.04,0 \"/>\n",
       "<polyline fill=\"none\" stroke=\"black\" points=\"217.04,-32 221.04,-36 \"/>\n",
       "<text text-anchor=\"middle\" x=\"154.04\" y=\"-14.3\" font-family=\"Times,serif\" font-size=\"14.00\">deploy&#45;serve&#45;llm</text>\n",
       "</g>\n",
       "<!-- genai&#45;demo&#45;trfwk&#45;2306895940&#45;&gt;genai&#45;demo&#45;trfwk&#45;3755639699 -->\n",
       "<g id=\"edge1\" class=\"edge\">\n",
       "<title>genai&#45;demo&#45;trfwk&#45;2306895940&#45;&gt;genai&#45;demo&#45;trfwk&#45;3755639699</title>\n",
       "<path fill=\"none\" stroke=\"black\" d=\"M154.04,-71.7C154.04,-63.98 154.04,-54.71 154.04,-46.11\"/>\n",
       "<polygon fill=\"black\" stroke=\"black\" points=\"157.54,-46.1 154.04,-36.1 150.54,-46.1 157.54,-46.1\"/>\n",
       "</g>\n",
       "<!-- genai&#45;demo&#45;trfwk&#45;887464503 -->\n",
       "<g id=\"node3\" class=\"node\">\n",
       "<title>genai&#45;demo&#45;trfwk&#45;887464503</title>\n",
       "<ellipse fill=\"green\" stroke=\"black\" cx=\"154.04\" cy=\"-162\" rx=\"120.48\" ry=\"18\"/>\n",
       "<text text-anchor=\"middle\" x=\"154.04\" y=\"-158.3\" font-family=\"Times,serif\" font-size=\"14.00\">fecth&#45;vectordb&#45;data&#45;run</text>\n",
       "</g>\n",
       "<!-- genai&#45;demo&#45;trfwk&#45;887464503&#45;&gt;genai&#45;demo&#45;trfwk&#45;2306895940 -->\n",
       "<g id=\"edge2\" class=\"edge\">\n",
       "<title>genai&#45;demo&#45;trfwk&#45;887464503&#45;&gt;genai&#45;demo&#45;trfwk&#45;2306895940</title>\n",
       "<path fill=\"none\" stroke=\"black\" d=\"M154.04,-143.7C154.04,-135.98 154.04,-126.71 154.04,-118.11\"/>\n",
       "<polygon fill=\"black\" stroke=\"black\" points=\"157.54,-118.1 154.04,-108.1 150.54,-118.1 157.54,-118.1\"/>\n",
       "</g>\n",
       "</g>\n",
       "</svg>\n"
      ],
      "text/plain": [
       "<graphviz.graphs.Digraph at 0x7fd5ac225a90>"
      ]
     },
     "metadata": {},
     "output_type": "display_data"
    },
    {
     "data": {
      "text/html": [
       "<h2>Run Results</h2><h3>[info] Workflow cc99373d-6f1a-497e-93f7-18a608823841 finished, state=Succeeded</h3><br>click the hyper links below to see detailed results<br><table border=\"1\" class=\"dataframe\">\n",
       "  <thead>\n",
       "    <tr style=\"text-align: right;\">\n",
       "      <th>uid</th>\n",
       "      <th>start</th>\n",
       "      <th>state</th>\n",
       "      <th>name</th>\n",
       "      <th>parameters</th>\n",
       "      <th>results</th>\n",
       "    </tr>\n",
       "  </thead>\n",
       "  <tbody>\n",
       "    <tr>\n",
       "      <td><div title=\"ad41256394cd4222a3902d74231aacee\"><a href=\"https://dashboard.default-tenant.app.cust-cs-il-355.iguazio-cd1.com/mlprojects/genai-tutorial-new/jobs/monitor/ad41256394cd4222a3902d74231aacee/overview\" target=\"_blank\" >...231aacee</a></div></td>\n",
       "      <td>Jun 16 15:01:34</td>\n",
       "      <td>completed</td>\n",
       "      <td>build-vectordb-handler-chroma</td>\n",
       "      <td><div class=\"dictlist\">cache_dir=/v3io/projects/genai-tutorial-new/artifacts/cache</div></td>\n",
       "      <td></td>\n",
       "    </tr>\n",
       "    <tr>\n",
       "      <td><div title=\"6c9d79b5e0fc4a369d33f8b6d0648e01\"><a href=\"https://dashboard.default-tenant.app.cust-cs-il-355.iguazio-cd1.com/mlprojects/genai-tutorial-new/jobs/monitor/6c9d79b5e0fc4a369d33f8b6d0648e01/overview\" target=\"_blank\" >...d0648e01</a></div></td>\n",
       "      <td>Jun 16 15:00:35</td>\n",
       "      <td>completed</td>\n",
       "      <td>fecth-vectordb-data-run</td>\n",
       "      <td><div class=\"dictlist\">data_set=https://s3.wasabisys.com/iguazio/data/genai-tutorial/labelled_newscatcher_dataset.csv</div></td>\n",
       "      <td></td>\n",
       "    </tr>\n",
       "  </tbody>\n",
       "</table>"
      ],
      "text/plain": [
       "<IPython.core.display.HTML object>"
      ]
     },
     "metadata": {},
     "output_type": "display_data"
    }
   ],
   "source": [
    "run_id = project.run(\n",
    "    'main',\n",
    "    arguments={\"cache_dir\" : CACHE_DIR,\n",
    "               \"data_set\" : DATA_SET},\n",
    "    watch=True)"
   ]
  }
 ],
 "metadata": {
  "kernelspec": {
   "display_name": "Python 3 (ipykernel)",
   "language": "python",
   "name": "python3"
  },
  "language_info": {
   "codemirror_mode": {
    "name": "ipython",
    "version": 3
   },
   "file_extension": ".py",
   "mimetype": "text/x-python",
   "name": "python",
   "nbconvert_exporter": "python",
   "pygments_lexer": "ipython3",
   "version": "3.9.13"
  }
 },
 "nbformat": 4,
 "nbformat_minor": 5
}
