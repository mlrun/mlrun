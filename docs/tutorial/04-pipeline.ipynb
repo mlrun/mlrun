{
 "cells": [
  {
   "cell_type": "code",
   "execution_count": null,
   "metadata": {},
   "outputs": [],
   "source": []
  },
  {
   "cell_type": "markdown",
   "metadata": {},
   "source": [
    "# Part 4: Projects and Automated ML Pipeline\n",
    "\n",
    "This part of the MLRun getting-started tutorial walks you through the steps for working with projects, source control (git), and automating the ML pipeline.\n",
    "\n",
    "MLRun Project is a container for all your work on a particular activity: all the associated code, functions, \n",
    "jobs/workflows and artifacts. Projects can be mapped to `git` repositories to enable versioning, collaboration, and CI/CD.\n",
    "\n",
    "You can create project definitions using the SDK or a yaml file and store those in MLRun DB, file, or archive.\n",
    "Once the project is loaded you can run jobs/workflows which refer to any project element by name, allowing separation between configuration and code. See the [Projects, Automation & CI/CD](../projects/overview.md) section for details.\n",
    "\n",
    "Projects contain `workflows` that execute the registered functions in a sequence/graph (DAG), and which can reference project parameters, secrets and artifacts by name. MLRun currently supports two workflow engines, `local` (for simple tasks) and [Kubeflow Pipelines](https://www.kubeflow.org/docs/pipelines/pipelines-quickstart/) (for more complex/advanced tasks). MLRun also supports a real-time workflow engine (see [MLRun serving graphs](../serving/serving-graph.md)). \n",
    "\n",
    "> **Note**: The Iguazio Data Science Platform has a default (pre-deployed) shared Kubeflow Pipelines service (`pipelines`).\n",
    "\n",
    "An ML Engineer can gather the different functions created by the Data Engineer and Data Scientist and create this automated pipeline.\n",
    "\n",
    "The tutorial consists of the following steps:\n",
    "\n",
    "1. [Setting up Your Project](#gs-tutorial-4-step-setting-up-project)\n",
    "2. [Updating Project and Function Definitions](#gs-tutorial-4-step-import-functions)\n",
    "3. [Defining and Saving a Pipeline Workflow](#gs-tutorial-4-step-pipeline-workflow-define-n-save)\n",
    "4. [Registering the Workflow](#gs-tutorial-4-step-register-workflow)\n",
    "5. [Running A Pipeline](#gs-tutorial-4-step-run-pipeline)\n",
    "6. [Viewing the Pipeline on the Dashboard (UI)](#gs-tutorial-4-step-ui-pipeline-view)\n",
    "7. [Invoking the Model](#gs-tutorial-4-step-invoke-model)\n",
    "\n",
    "By the end of this tutorial you'll learn how to:\n",
    "\n",
    "- Create an operational pipeline using previously defined functions.\n",
    "- Run the pipeline and track the pipeline results."
   ]
  },
  {
   "cell_type": "markdown",
   "metadata": {},
   "source": [
    "<a id=\"gs-tutorial-4-prerequisites\"></a>"
   ]
  },
  {
   "cell_type": "markdown",
   "metadata": {},
   "source": [
    "## Prerequisites"
   ]
  },
  {
   "cell_type": "markdown",
   "metadata": {},
   "source": [
    "The following steps are a continuation of the previous parts of this getting-started tutorial and rely on the generated outputs.\n",
    "Therefore, make sure to first run parts [1](01-mlrun-basics.ipynb)&mdash;[3](03-model-serving.ipynb) of the tutorial."
   ]
  },
  {
   "cell_type": "markdown",
   "metadata": {},
   "source": [
    "<a id=\"gs-tutorial-4-step-setting-up-project\"></a>"
   ]
  },
  {
   "cell_type": "markdown",
   "metadata": {},
   "source": [
    "## Step 1: Setting Up Your Project\n",
    "\n",
    "To run a pipeline, you first need to create a Python project object and import the required functions for its execution.\n",
    "\n",
    "Create a project by using one of:\n",
    "\n",
    "- the `new_project` MLRun method\n",
    "- the `get_or_create_project`method: loads a project from the MLRun DB or the archive/context if it exists, or creates a new project if it doesn't exist.\n",
    "\n",
    "Both methods have the following parameters:\n",
    "\n",
    "- **`name`** (required) &mdash; the project name.\n",
    "- **`context`** &mdash; the path to a local project directory (the project's context directory).\n",
    "  The project directory contains a project-configuration file (default: **project.yaml**) that defines the project, and additional generated Python code.\n",
    "  The project file is created when you save your project (using the `save` MLRun project method or when saving your first function within the project).\n",
    "- **`init_git`** &mdash; set to `True` to perform Git initialization of the project directory (`context`) in case its not initialized.\n",
    "  > **Note:** It's customary to store project code and definitions in a Git repository.\n",
    "\n",
    "The following code gets or creates a user project named \"getting-started-&lt;username&gt;\".\n",
    "\n",
    "> **Note:** Platform projects are currently shared among all users of the parent tenant, to facilitate collaboration. Therefore:\n",
    ">\n",
    "> - Set `user_project` to `True` if you want to create a project unique to your user.\n",
    ">   You can easily change the default project name for this tutorial by changing the definition of the `project_name_base` variable in the following code.\n",
    "> - Don't include in your project proprietary information that you don't want to expose to other users.\n",
    ">   Note that while projects are a useful tool, you can easily develop and run code in the platform without using projects."
   ]
  },
  {
   "cell_type": "code",
   "execution_count": 1,
   "metadata": {},
   "outputs": [
    {
     "name": "stdout",
     "output_type": "stream",
     "text": [
      "> 2021-11-15 15:07:16,695 [info] loaded project getting-started from MLRun DB\n",
      "Project name: getting-started-admin\n"
     ]
    }
   ],
   "source": [
    "import mlrun\n",
    "\n",
    "# Set the base project name\n",
    "project_name_base = 'getting-started'\n",
    "\n",
    "# Initialize the MLRun project object\n",
    "project = mlrun.get_or_create_project(project_name_base, context=\"./\", user_project=True, init_git=True)\n",
    "\n",
    "print(f'Project name: {project.metadata.name}')"
   ]
  },
  {
   "cell_type": "markdown",
   "metadata": {},
   "source": [
    "<a id=\"gs-tutorial-4-step-import-functions\"></a>"
   ]
  },
  {
   "cell_type": "markdown",
   "metadata": {},
   "source": [
    "## Step 2: Updating Project and Function Definitions\n",
    "\n",
    "You must save the definitions for the functions used in the project so that you can automatically convert code to functions, import external functions when you load new versions of MLRun code, or run automated CI/CD workflows. In addition, you might want to set other project attributes such as global parameters, secrets, and data.\n",
    "\n",
    "The code can be stored in Python files, notebooks, external repositories, packaged containers, etc. Use the `project.set_function()` method to register the code in the project. The definitions are saved to the project object as well as in a YAML file in the root of the project.\n",
    "Functions can also be imported from MLRun marketplace (using the `hub://` schema).\n",
    "\n",
    "This tutorial uses the functions:\n",
    "- `prep-data` &mdash; the first function, which ingests the Iris data set (in Notebook 01)\n",
    "- `describe` &mdash; generates statistics on the data set (from the marketplace)\n",
    "- `train-iris` &mdash; the model-training function (in Notebook 02)\n",
    "- `test-classifier` &mdash; the model-testing function (from the marketplace)\n",
    "- `mlrun-model` &mdash; the model-serving function (in Notebook 03)\n",
    "\n",
    "> Note: `set_function` uses the `code_to_function` and `import_function` methods under the hood (used in the previous notebooks), but in addition it saves the function configurations in the project spec for use in automated workflows and CI/CD. \n",
    "\n",
    "Add the function definitions to the project along with parameters and data artifacts, and save the project."
   ]
  },
  {
   "cell_type": "markdown",
   "metadata": {},
   "source": [
    "<a id=\"gs-tutorial-4-view-project-functions\"></a>"
   ]
  },
  {
   "cell_type": "code",
   "execution_count": 2,
   "metadata": {},
   "outputs": [],
   "source": [
    "project.set_function('01-mlrun-basics.ipynb', 'prep-data', kind='job', image='mlrun/mlrun')\n",
    "project.set_function('02-model-training.ipynb', 'train', kind='job', image='mlrun/mlrun', handler='train_iris')\n",
    "project.set_function('hub://describe', 'describe')\n",
    "project.set_function('hub://test_classifier', 'test')\n",
    "project.set_function('hub://v2_model_server', 'serving')\n",
    "\n",
    "# set project level parameters and save\n",
    "project.spec.params = {'label_column': 'label'}\n",
    "project.save()"
   ]
  },
  {
   "cell_type": "markdown",
   "metadata": {},
   "source": [
    "<br>When you save the project it stores the project definitions in the `project.yaml`. This means that you can load the project from the source control (GIT) and run it with a single command or API call.\n",
    "\n",
    "The project YAML for this project can be printed using:"
   ]
  },
  {
   "cell_type": "code",
   "execution_count": 3,
   "metadata": {},
   "outputs": [
    {
     "name": "stdout",
     "output_type": "stream",
     "text": [
      "kind: project\n",
      "metadata:\n",
      "  name: getting-started-admin\n",
      "  created: '2021-09-23T10:43:14.830481'\n",
      "spec:\n",
      "  params:\n",
      "    label_column: label\n",
      "  functions:\n",
      "  - url: 01-mlrun-basics.ipynb\n",
      "    name: prep-data\n",
      "    kind: job\n",
      "    image: mlrun/mlrun\n",
      "  - url: 02-model-training.ipynb\n",
      "    name: train\n",
      "    kind: job\n",
      "    image: mlrun/mlrun\n",
      "    handler: train_iris\n",
      "  - url: hub://describe\n",
      "    name: describe\n",
      "  - url: hub://test_classifier\n",
      "    name: test\n",
      "  - url: hub://v2_model_server\n",
      "    name: serving\n",
      "  workflows:\n",
      "  - name: main\n",
      "    path: workflow.py\n",
      "    engine: null\n",
      "  artifacts: []\n",
      "  source: ''\n",
      "  subpath: ''\n",
      "  origin_url: ''\n",
      "  desired_state: online\n",
      "  disable_auto_mount: false\n",
      "status:\n",
      "  state: online\n",
      "\n"
     ]
    }
   ],
   "source": [
    "print(project.to_yaml())"
   ]
  },
  {
   "cell_type": "markdown",
   "metadata": {},
   "source": [
    "### Saving and Loading Projects from GIT\n",
    "\n",
    "After you save the project and its elements (functions, workflows, artifacts, etc.) you can commit all the changes to a GIT repository. Use the standard GIT tools or use the MLRun `project` methods such as `pull`, `push`, `remote`, which call the Git API for you.\n",
    "\n",
    "Projects can then be loaded from Git using the MLRun `load_project` method, for example: \n",
    "\n",
    "    project = mlrun.load_project(\"./myproj\", \"git://github.com/mlrun/project-demo.git\", name=project_name)\n",
    "    \n",
    "or using MLRun CLI:\n",
    "\n",
    "    mlrun project -n myproj -u \"git://github.com/mlrun/project-demo.git\" ./myproj\n",
    "    \n",
    "Read the [Projects, Automation & CI/CD](../projects/overview.md) section for more details"
   ]
  },
  {
   "cell_type": "markdown",
   "metadata": {},
   "source": [
    "<a id=\"gs-tutorial-4-kubeflow-pipelines\"></a>"
   ]
  },
  {
   "cell_type": "markdown",
   "metadata": {},
   "source": [
    "### Using Kubeflow Pipelines\n",
    "\n",
    "You're now ready to create a full ML pipeline.\n",
    "This is done by using [Kubeflow Pipelines](https://www.kubeflow.org/docs/pipelines/overview/pipelines-overview/) &mdash;\n",
    "an open-source framework for building and deploying portable, scalable machine-learning workflows based on Docker containers.\n",
    "MLRun leverages this framework to take your existing code and deploy it as steps in the pipeline.\n",
    "\n",
    "> **Note:** When using the Iguazio Data Science Platform, Kubeflow Pipelines is available as a default (pre-deployed) shared platform service."
   ]
  },
  {
   "cell_type": "markdown",
   "metadata": {},
   "source": [
    "<a id=\"gs-tutorial-4-step-pipeline-workflow-define-n-save\"></a>"
   ]
  },
  {
   "cell_type": "markdown",
   "metadata": {},
   "source": [
    "## Step 3: Defining and Saving a Pipeline Workflow\n",
    "\n",
    "A pipeline is created by running an MLRun **\"workflow\"**.\n",
    "The following code defines a workflow and writes it to a file in your local directory, with the file name **workflow.py**.\n",
    "The workflow describes a directed acyclic graph (DAG) for execution using Kubeflow Pipelines, and depicts the connections between the functions and the data as part of an end-to-end pipeline.\n",
    "The workflow file has two parts: initialization of the function objects, and definition of a pipeline DSL (domain-specific language) for connecting the function inputs and outputs.\n",
    "Examine the code to see how function objects are initialized and used (by name) within the workflow.\n",
    "\n",
    "The defined pipeline includes the following steps:\n",
    "\n",
    "- Ingest the Iris flower data set (`ingest`).\n",
    "- Train and the model (`train`).\n",
    "- Test the model with its test data set.\n",
    "- Deploy the model as a real-time serverless function (`deploy`).\n",
    "\n",
    "> **Note**: A pipeline can also include continuous build integration and deployment (CI/CD) steps, such as building container images and deploying models."
   ]
  },
  {
   "cell_type": "code",
   "execution_count": 4,
   "metadata": {},
   "outputs": [
    {
     "name": "stdout",
     "output_type": "stream",
     "text": [
      "Writing ./workflow.py\n"
     ]
    }
   ],
   "source": [
    "%%writefile './workflow.py'\n",
    "\n",
    "from kfp import dsl\n",
    "from mlrun import run_function, deploy_function\n",
    "\n",
    "\n",
    "DATASET = 'cleaned_data'\n",
    "MODEL = 'iris'\n",
    "LABELS = \"label\"\n",
    "\n",
    "# Create a Kubeflow Pipelines pipeline\n",
    "@dsl.pipeline(\n",
    "    name=\"Getting-started-tutorial\",\n",
    "    description=\"This tutorial is designed to demonstrate some of the main \"\n",
    "                \"capabilities of the Iguazio Data Science Platform.\\n\"\n",
    "                \"The tutorial uses the Iris flower data set.\"\n",
    ")\n",
    "def kfpipeline(source_url):\n",
    "\n",
    "    # Ingest the data set\n",
    "    ingest = run_function(\n",
    "        'prep-data',\n",
    "        handler='prep_data',\n",
    "        inputs={'source_url': source_url},\n",
    "        params={'label_column': LABELS},\n",
    "        outputs=[DATASET])\n",
    "    \n",
    "    # Train a model   \n",
    "    train = run_function(\n",
    "        \"train\",\n",
    "        params={\"label_column\": LABELS},\n",
    "        inputs={\"dataset\": ingest.outputs[DATASET]},\n",
    "        outputs=['my_model', 'test_set'])\n",
    "    \n",
    "    # Test and visualize the model\n",
    "    test = run_function(\n",
    "        \"test\",\n",
    "        params={\"label_column\": LABELS},\n",
    "        inputs={\"models_path\": train.outputs['my_model'],\n",
    "                \"test_set\": train.outputs['test_set']})\n",
    "    \n",
    "    # Deploy the model as a serverless function\n",
    "    deploy = deploy_function(\"serving\", models={f\"{MODEL}_v1\": train.outputs['my_model']})"
   ]
  },
  {
   "cell_type": "markdown",
   "metadata": {},
   "source": [
    "<a id=\"gs-tutorial-4-step-register-workflow\"></a>"
   ]
  },
  {
   "cell_type": "markdown",
   "metadata": {},
   "source": [
    "## Step 4: Registering the Workflow\n",
    "\n",
    "Use the `set_workflow` MLRun project method to register your workflow with MLRun.\n",
    "The following code sets the `name` parameter to the selected workflow name (\"main\") and the `code` parameter to the name of the workflow file that is found in your project directory (**workflow.py**)."
   ]
  },
  {
   "cell_type": "code",
   "execution_count": 5,
   "metadata": {},
   "outputs": [],
   "source": [
    "# Register the workflow file as \"main\"\n",
    "project.set_workflow('main', 'workflow.py')"
   ]
  },
  {
   "cell_type": "markdown",
   "metadata": {},
   "source": [
    "<a id=\"gs-tutorial-4-step-run-pipeline\"></a>"
   ]
  },
  {
   "cell_type": "markdown",
   "metadata": {},
   "source": [
    "## Step 5: Running A Pipeline\n",
    "\n",
    "First run the following code to save your project:"
   ]
  },
  {
   "cell_type": "code",
   "execution_count": 6,
   "metadata": {},
   "outputs": [],
   "source": [
    "project.save()"
   ]
  },
  {
   "cell_type": "markdown",
   "metadata": {},
   "source": [
    "Use the `run` MLRun project method to execute your workflow pipeline with Kubeflow Pipelines.\n",
    "The tutorial code sets the following method parameters; (for the full parameters list, see the [MLRun documentation](../api/mlrun.run.html#mlrun.run.run_pipeline) or embedded help):\n",
    "\n",
    "- **`name`** &mdash; the workflow name (in this case, \"main\" &mdash; see the previous step).\n",
    "- **`arguments`** &mdash; A dictionary of Kubeflow Pipelines arguments (parameters).\n",
    "  The tutorial code sets this parameter to an empty arguments list (`{}`), but you can edit the code to add arguments.\n",
    "- **`artifact_path`** &mdash; a path or URL that identifies a location for storing the workflow artifacts.\n",
    "  You can use `{{workflow.uid}}` in the path to signify the ID of the current workflow run iteration.\n",
    "  The tutorial code sets the artifacts path to a **&lt;worker ID&gt;** directory (`{{workflow.uid}}`) in a **pipeline** directory under the projects container (**/v3io/projects/getting-started-tutorial-project name/pipeline/&lt;worker ID&gt;**).\n",
    "- **`dirty`** &mdash; set to `True` to allow running the workflow also when the project's Git repository is dirty (i.e., contains uncommitted changes).\n",
    "  (When the notebook that contains the execution code is in the same Git directory as the executed workflow, the directory will always be dirty during the execution.)\n",
    "- **`watch`** &mdash; set to `True` to wait for the pipeline to complete and output the execution graph as it updates.\n",
    "\n",
    "The `run` method returns the ID of the executed workflow, which the code stores in a `run_id` variable.\n",
    "You can use this ID to track the progress or your workflow, as demonstrated in the following sections.\n",
    "\n",
    "> **Note**: You can also run the workflow from a command-line shell by using the `mlrun` CLI.\n",
    "> The following CLI command defines a similar execution logic as that of the `run` call in the tutorial:\n",
    "> ```\n",
    "> mlrun project /User/getting-started-tutorial/conf -r main -p \"$V3IO_HOME_URL/getting-started-tutorial/pipeline/{{workflow.uid}}/\"\n",
    "> ```"
   ]
  },
  {
   "cell_type": "code",
   "execution_count": 7,
   "metadata": {},
   "outputs": [],
   "source": [
    "source_url = mlrun.get_sample_path(\"data/iris/iris.data.raw.csv\")"
   ]
  },
  {
   "cell_type": "code",
   "execution_count": 9,
   "metadata": {},
   "outputs": [
    {
     "data": {
      "image/svg+xml": [
       "<?xml version=\"1.0\" encoding=\"UTF-8\" standalone=\"no\"?>\n",
       "<!DOCTYPE svg PUBLIC \"-//W3C//DTD SVG 1.1//EN\"\n",
       " \"http://www.w3.org/Graphics/SVG/1.1/DTD/svg11.dtd\">\n",
       "<!-- Generated by graphviz version 2.40.1 (20161225.0304)\n",
       " -->\n",
       "<!-- Title: kfp Pages: 1 -->\n",
       "<svg width=\"358pt\" height=\"188pt\"\n",
       " viewBox=\"0.00 0.00 358.09 188.00\" xmlns=\"http://www.w3.org/2000/svg\" xmlns:xlink=\"http://www.w3.org/1999/xlink\">\n",
       "<g id=\"graph0\" class=\"graph\" transform=\"scale(1 1) rotate(0) translate(4 184)\">\n",
       "<title>kfp</title>\n",
       "<polygon fill=\"#ffffff\" stroke=\"transparent\" points=\"-4,4 -4,-184 354.0934,-184 354.0934,4 -4,4\"/>\n",
       "<!-- getting&#45;started&#45;tutorial&#45;7nhds&#45;16097732 -->\n",
       "<g id=\"node1\" class=\"node\">\n",
       "<title>getting&#45;started&#45;tutorial&#45;7nhds&#45;16097732</title>\n",
       "<ellipse fill=\"#00ff00\" stroke=\"#000000\" cx=\"184\" cy=\"-162\" rx=\"103.1819\" ry=\"18\"/>\n",
       "<text text-anchor=\"middle\" x=\"184\" y=\"-158.3\" font-family=\"Times,serif\" font-size=\"14.00\" fill=\"#000000\">prep&#45;data&#45;prep&#45;data</text>\n",
       "</g>\n",
       "<!-- getting&#45;started&#45;tutorial&#45;7nhds&#45;300626547 -->\n",
       "<g id=\"node2\" class=\"node\">\n",
       "<title>getting&#45;started&#45;tutorial&#45;7nhds&#45;300626547</title>\n",
       "<ellipse fill=\"#00ff00\" stroke=\"#000000\" cx=\"184\" cy=\"-90\" rx=\"33.2948\" ry=\"18\"/>\n",
       "<text text-anchor=\"middle\" x=\"184\" y=\"-86.3\" font-family=\"Times,serif\" font-size=\"14.00\" fill=\"#000000\">train</text>\n",
       "</g>\n",
       "<!-- getting&#45;started&#45;tutorial&#45;7nhds&#45;16097732&#45;&gt;getting&#45;started&#45;tutorial&#45;7nhds&#45;300626547 -->\n",
       "<g id=\"edge1\" class=\"edge\">\n",
       "<title>getting&#45;started&#45;tutorial&#45;7nhds&#45;16097732&#45;&gt;getting&#45;started&#45;tutorial&#45;7nhds&#45;300626547</title>\n",
       "<path fill=\"none\" stroke=\"#000000\" d=\"M184,-143.8314C184,-136.131 184,-126.9743 184,-118.4166\"/>\n",
       "<polygon fill=\"#000000\" stroke=\"#000000\" points=\"187.5001,-118.4132 184,-108.4133 180.5001,-118.4133 187.5001,-118.4132\"/>\n",
       "</g>\n",
       "<!-- getting&#45;started&#45;tutorial&#45;7nhds&#45;1803003649 -->\n",
       "<g id=\"node3\" class=\"node\">\n",
       "<title>getting&#45;started&#45;tutorial&#45;7nhds&#45;1803003649</title>\n",
       "<polygon fill=\"#00ff00\" stroke=\"#000000\" points=\"184,-36 4,-36 0,-32 0,0 180,0 184,-4 184,-36\"/>\n",
       "<polyline fill=\"none\" stroke=\"#000000\" points=\"180,-32 0,-32 \"/>\n",
       "<polyline fill=\"none\" stroke=\"#000000\" points=\"180,-32 180,0 \"/>\n",
       "<polyline fill=\"none\" stroke=\"#000000\" points=\"180,-32 184,-36 \"/>\n",
       "<text text-anchor=\"middle\" x=\"92\" y=\"-14.3\" font-family=\"Times,serif\" font-size=\"14.00\" fill=\"#000000\">deploy&#45;v2&#45;model&#45;server</text>\n",
       "</g>\n",
       "<!-- getting&#45;started&#45;tutorial&#45;7nhds&#45;300626547&#45;&gt;getting&#45;started&#45;tutorial&#45;7nhds&#45;1803003649 -->\n",
       "<g id=\"edge2\" class=\"edge\">\n",
       "<title>getting&#45;started&#45;tutorial&#45;7nhds&#45;300626547&#45;&gt;getting&#45;started&#45;tutorial&#45;7nhds&#45;1803003649</title>\n",
       "<path fill=\"none\" stroke=\"#000000\" d=\"M164.9375,-75.0816C152.8824,-65.6471 137.0163,-53.2302 123.1616,-42.3873\"/>\n",
       "<polygon fill=\"#000000\" stroke=\"#000000\" points=\"125.3127,-39.6264 115.2805,-36.2195 120.9985,-45.1389 125.3127,-39.6264\"/>\n",
       "</g>\n",
       "<!-- getting&#45;started&#45;tutorial&#45;7nhds&#45;3189300855 -->\n",
       "<g id=\"node4\" class=\"node\">\n",
       "<title>getting&#45;started&#45;tutorial&#45;7nhds&#45;3189300855</title>\n",
       "<ellipse fill=\"#00ff00\" stroke=\"#000000\" cx=\"276\" cy=\"-18\" rx=\"74.187\" ry=\"18\"/>\n",
       "<text text-anchor=\"middle\" x=\"276\" y=\"-14.3\" font-family=\"Times,serif\" font-size=\"14.00\" fill=\"#000000\">test&#45;classifier</text>\n",
       "</g>\n",
       "<!-- getting&#45;started&#45;tutorial&#45;7nhds&#45;300626547&#45;&gt;getting&#45;started&#45;tutorial&#45;7nhds&#45;3189300855 -->\n",
       "<g id=\"edge3\" class=\"edge\">\n",
       "<title>getting&#45;started&#45;tutorial&#45;7nhds&#45;300626547&#45;&gt;getting&#45;started&#45;tutorial&#45;7nhds&#45;3189300855</title>\n",
       "<path fill=\"none\" stroke=\"#000000\" d=\"M203.0625,-75.0816C215.3815,-65.4405 231.6804,-52.6849 245.7457,-41.6773\"/>\n",
       "<polygon fill=\"#000000\" stroke=\"#000000\" points=\"248.0041,-44.3543 253.722,-35.4349 243.6899,-38.8418 248.0041,-44.3543\"/>\n",
       "</g>\n",
       "</g>\n",
       "</svg>\n"
      ],
      "text/plain": [
       "<graphviz.dot.Digraph at 0x7fa0efcf2710>"
      ]
     },
     "metadata": {},
     "output_type": "display_data"
    },
    {
     "data": {
      "text/html": [
       "<h2>Run Results</h2>Workflow c408a83a-9bfb-4d15-adbc-3a82bc79de5f finished, state=Succeeded<br>click the hyper links below to see detailed results<br><table border=\"1\" class=\"dataframe\">\n",
       "  <thead>\n",
       "    <tr style=\"text-align: right;\">\n",
       "      <th>uid</th>\n",
       "      <th>start</th>\n",
       "      <th>state</th>\n",
       "      <th>name</th>\n",
       "      <th>results</th>\n",
       "      <th>artifacts</th>\n",
       "    </tr>\n",
       "  </thead>\n",
       "  <tbody>\n",
       "    <tr>\n",
       "      <td><div title=\"824fe5fda8ca47d3ab7bf28f64b8bfcd\"><a href=\"https://dashboard.default-tenant.app.yh38.iguazio-cd2.com/mlprojects/getting-started-admin/jobs/monitor/824fe5fda8ca47d3ab7bf28f64b8bfcd/overview\" target=\"_blank\" >...64b8bfcd</a></div></td>\n",
       "      <td>Nov 15 15:09:23</td>\n",
       "      <td>completed</td>\n",
       "      <td>test-classifier</td>\n",
       "      <td><div class=\"dictlist\">accuracy=1.0</div><div class=\"dictlist\">test-error=0.0</div><div class=\"dictlist\">auc-micro=1.0</div><div class=\"dictlist\">auc-weighted=1.0</div><div class=\"dictlist\">f1-score=1.0</div><div class=\"dictlist\">precision_score=1.0</div><div class=\"dictlist\">recall_score=1.0</div></td>\n",
       "      <td><div class=\"artifact\" onclick=\"expandPanel(this)\" paneName=\"result\" title=\"files/v3io/projects/getting-started-admin/artifacts/pipeline/c408a83a-9bfb-4d15-adbc-3a82bc79de5f/plots/confusion-matrix.html\">confusion-matrix</div><div class=\"artifact\" onclick=\"expandPanel(this)\" paneName=\"result\" title=\"files/v3io/projects/getting-started-admin/artifacts/pipeline/c408a83a-9bfb-4d15-adbc-3a82bc79de5f/plots/feature-importances.html\">feature-importances</div><div class=\"artifact\" onclick=\"expandPanel(this)\" paneName=\"result\" title=\"files/v3io/projects/getting-started-admin/artifacts/pipeline/c408a83a-9bfb-4d15-adbc-3a82bc79de5f/plots/precision-recall-multiclass.html\">precision-recall-multiclass</div><div class=\"artifact\" onclick=\"expandPanel(this)\" paneName=\"result\" title=\"files/v3io/projects/getting-started-admin/artifacts/pipeline/c408a83a-9bfb-4d15-adbc-3a82bc79de5f/plots/roc-multiclass.html\">roc-multiclass</div><div title=\"v3io:///projects/getting-started-admin/artifacts/pipeline/c408a83a-9bfb-4d15-adbc-3a82bc79de5f/test_set_preds.parquet\">test_set_preds</div></td>\n",
       "    </tr>\n",
       "    <tr>\n",
       "      <td><div title=\"b034bcb60518430d87f2447f0df30448\"><a href=\"https://dashboard.default-tenant.app.yh38.iguazio-cd2.com/mlprojects/getting-started-admin/jobs/monitor/b034bcb60518430d87f2447f0df30448/overview\" target=\"_blank\" >...0df30448</a></div></td>\n",
       "      <td>Nov 15 15:09:06</td>\n",
       "      <td>completed</td>\n",
       "      <td>train</td>\n",
       "      <td><div class=\"dictlist\">accuracy=1.0</div><div class=\"dictlist\">test-error=0.0</div><div class=\"dictlist\">auc-micro=1.0</div><div class=\"dictlist\">auc-weighted=1.0</div><div class=\"dictlist\">f1-score=1.0</div><div class=\"dictlist\">precision_score=1.0</div><div class=\"dictlist\">recall_score=1.0</div></td>\n",
       "      <td><div class=\"artifact\" onclick=\"expandPanel(this)\" paneName=\"result\" title=\"files/v3io/projects/getting-started-admin/artifacts/pipeline/c408a83a-9bfb-4d15-adbc-3a82bc79de5f/plots/confusion-matrix.html\">confusion-matrix</div><div class=\"artifact\" onclick=\"expandPanel(this)\" paneName=\"result\" title=\"files/v3io/projects/getting-started-admin/artifacts/pipeline/c408a83a-9bfb-4d15-adbc-3a82bc79de5f/plots/feature-importances.html\">feature-importances</div><div class=\"artifact\" onclick=\"expandPanel(this)\" paneName=\"result\" title=\"files/v3io/projects/getting-started-admin/artifacts/pipeline/c408a83a-9bfb-4d15-adbc-3a82bc79de5f/plots/precision-recall-multiclass.html\">precision-recall-multiclass</div><div class=\"artifact\" onclick=\"expandPanel(this)\" paneName=\"result\" title=\"files/v3io/projects/getting-started-admin/artifacts/pipeline/c408a83a-9bfb-4d15-adbc-3a82bc79de5f/plots/roc-multiclass.html\">roc-multiclass</div><div title=\"v3io:///projects/getting-started-admin/artifacts/pipeline/c408a83a-9bfb-4d15-adbc-3a82bc79de5f/data/test_set.parquet\">test_set</div><div title=\"v3io:///projects/getting-started-admin/artifacts/pipeline/c408a83a-9bfb-4d15-adbc-3a82bc79de5f/models/\">my_model</div></td>\n",
       "    </tr>\n",
       "    <tr>\n",
       "      <td><div title=\"c51ad583927146c9acda2e5b6780c83b\"><a href=\"https://dashboard.default-tenant.app.yh38.iguazio-cd2.com/mlprojects/getting-started-admin/jobs/monitor/c51ad583927146c9acda2e5b6780c83b/overview\" target=\"_blank\" >...6780c83b</a></div></td>\n",
       "      <td>Nov 15 15:08:52</td>\n",
       "      <td>completed</td>\n",
       "      <td>prep-data-prep_data</td>\n",
       "      <td><div class=\"dictlist\">num_rows=150</div></td>\n",
       "      <td><div class=\"artifact\" onclick=\"expandPanel(this)\" paneName=\"result\" title=\"files/v3io/projects/getting-started-admin/artifacts/pipeline/c408a83a-9bfb-4d15-adbc-3a82bc79de5f/cleaned_data.csv\">cleaned_data</div></td>\n",
       "    </tr>\n",
       "  </tbody>\n",
       "</table>"
      ],
      "text/plain": [
       "<IPython.core.display.HTML object>"
      ]
     },
     "metadata": {},
     "output_type": "display_data"
    }
   ],
   "source": [
    "import os\n",
    "pipeline_path = mlrun.mlconf.artifact_path\n",
    "\n",
    "run_id = project.run(\n",
    "    'main',\n",
    "    arguments={'source_url' : source_url}, \n",
    "    artifact_path=os.path.join(pipeline_path, \"pipeline\", '{{workflow.uid}}'),\n",
    "    dirty=True,\n",
    "    watch=True)"
   ]
  },
  {
   "cell_type": "markdown",
   "metadata": {},
   "source": [
    "<a id=\"gs-tutorial-4-step-ui-pipeline-view\"></a>"
   ]
  },
  {
   "cell_type": "markdown",
   "metadata": {},
   "source": [
    "## Step 6: Viewing the Pipeline on the Dashboard (UI)\n",
    "\n",
    "In the **Projects > Jobs and Workflows > Monitor Workflows** tab, press the workflow name to view a graph of the workflow. Press any step to open another pane with full details of the step: either the job's overview, inputs, artifacts, etc.; or the deploy / build function's overview, code, and log. \n",
    "\n",
    "\n",
    "After the pipelines execution completes, you should be able to view the pipeline and see its functions: \n",
    "\n",
    "- `prep-data`\n",
    "- `train`\n",
    "- `test`\n",
    "- `deploy-serving`\n",
    "\n",
    "The graph is refreshed while the pipeline is running."
   ]
  },
  {
   "cell_type": "markdown",
   "metadata": {},
   "source": [
    "<img src=\"../_static/images/job_pipeline.png\" alt=\"pipeline\" width=\"700\"/>"
   ]
  },
  {
   "cell_type": "markdown",
   "metadata": {},
   "source": [
    "<a id=\"gs-tutorial-4-step-invoke-model\"></a>"
   ]
  },
  {
   "cell_type": "markdown",
   "metadata": {},
   "source": [
    "## Step 7: Invoking the Model\n",
    "\n",
    "Now that your model is deployed using the pipeline, you can invoke it as usual:"
   ]
  },
  {
   "cell_type": "code",
   "execution_count": 10,
   "metadata": {},
   "outputs": [
    {
     "name": "stdout",
     "output_type": "stream",
     "text": [
      "> 2021-11-15 15:09:51,721 [info] invoking function: {'method': 'POST', 'path': 'http://nuclio-getting-started-admin-v2-model-server.default-tenant.svc.cluster.local:8080/v2/models/iris_v1/infer'}\n"
     ]
    },
    {
     "data": {
      "text/plain": [
       "{'id': '4f62b8f2-df01-47a6-9c21-11d9c4c0b568',\n",
       " 'model_name': 'iris_v1',\n",
       " 'outputs': [0, 2]}"
      ]
     },
     "execution_count": 10,
     "metadata": {},
     "output_type": "execute_result"
    }
   ],
   "source": [
    "serving_func = project.func('serving')\n",
    "my_data = {'inputs': [[5.1, 3.5, 1.4, 0.2],[7.7, 3.8, 6.7, 2.2]]}\n",
    "serving_func.invoke('/v2/models/iris_v1/infer', my_data)"
   ]
  },
  {
   "cell_type": "markdown",
   "metadata": {},
   "source": [
    "You can also make an HTTP call directly:"
   ]
  },
  {
   "cell_type": "code",
   "execution_count": 11,
   "metadata": {},
   "outputs": [
    {
     "name": "stdout",
     "output_type": "stream",
     "text": [
      "{'id': '2f050b24-0b61-4697-9260-859f16afe094', 'model_name': 'iris_v1', 'outputs': [0, 2]}\n"
     ]
    }
   ],
   "source": [
    "import requests\n",
    "import json\n",
    "predict_url = f'http://{serving_func.status.address}/v2/models/iris_v1/predict'\n",
    "resp = requests.put(predict_url, json=json.dumps(my_data))\n",
    "print(resp.json())"
   ]
  },
  {
   "cell_type": "markdown",
   "metadata": {},
   "source": [
    "<a id=\"gs-tutorial-4-done\"></a>"
   ]
  },
  {
   "cell_type": "markdown",
   "metadata": {},
   "source": [
    "## Done!\n",
    "\n",
    "Congratulations! You've completed the getting started tutorial.\n",
    "\n",
    "You might also want to explore the following demos:\n",
    "\n",
    "- For an example of distributed training of an image-classification pipeline using TensorFlow (versions 1 or 2), Keras, and Horovod, see the [**image-classification with distributed training demo**](https://github.com/mlrun/demos/tree/release/v0.6.x-latest/image-classification-with-distributed-training).\n",
    "- To learn more about deploying live endpoints and concept drift, see the [**network-operations (NetOps) demo**](https://github.com/mlrun/demos/tree/release/v0.6.x-latest/network-operations).\n",
    "- To learn how to deploy your model with streaming information, see the [**model-deployment pipeline demo**](https://github.com/mlrun/demos/tree/release/v0.6.x-latest/model-deployment-pipeline).\n",
    "\n",
    "For additional information and guidelines, see the MLRun [**How-To Guides and Demos**](../howto/index.md)."
   ]
  }
 ],
 "metadata": {
  "kernelspec": {
   "display_name": "Python 3 (ipykernel)",
   "language": "python",
   "name": "python3"
  },
  "language_info": {
   "codemirror_mode": {
    "name": "ipython",
    "version": 3
   },
   "file_extension": ".py",
   "mimetype": "text/x-python",
   "name": "python",
   "nbconvert_exporter": "python",
   "pygments_lexer": "ipython3",
   "version": "3.7.7"
  }
 },
 "nbformat": 4,
 "nbformat_minor": 4
}
