{
 "cells": [
  {
   "cell_type": "markdown",
   "metadata": {},
   "source": [
    "# Deploy Nuclio functions with external python files"
   ]
  },
  {
   "cell_type": "markdown",
   "metadata": {},
   "source": [
    "This notebook demonstrates how to deploy a nuclio function with mlrun working with external python file"
   ]
  },
  {
   "cell_type": "code",
   "execution_count": null,
   "metadata": {},
   "outputs": [],
   "source": [
    "# mlrun server and client should be identical\n",
    "!pip install nuclio-jupyter mlrun==0.5.3"
   ]
  },
  {
   "cell_type": "markdown",
   "metadata": {},
   "source": [
    "### Setting configuration"
   ]
  },
  {
   "cell_type": "code",
   "execution_count": 2,
   "metadata": {},
   "outputs": [],
   "source": [
    "# nuclio: ignore\n",
    "# if the nuclio-jupyter package is not installed run !pip install nuclio-jupyter\n",
    "import nuclio"
   ]
  },
  {
   "cell_type": "code",
   "execution_count": 3,
   "metadata": {},
   "outputs": [
    {
     "name": "stdout",
     "output_type": "stream",
     "text": [
      "Requirement already satisfied: textblob in /User/.pythonlibs/jupyter-test/lib/python3.7/site-packages (0.15.3)\n",
      "Requirement already satisfied: nltk>=3.1 in /User/.pythonlibs/jupyter-test/lib/python3.7/site-packages (from textblob) (3.5)\n",
      "Requirement already satisfied: click in /conda/lib/python3.7/site-packages (from nltk>=3.1->textblob) (7.0)\n",
      "Requirement already satisfied: tqdm in /conda/lib/python3.7/site-packages (from nltk>=3.1->textblob) (4.48.2)\n",
      "Requirement already satisfied: regex in /User/.pythonlibs/jupyter-test/lib/python3.7/site-packages (from nltk>=3.1->textblob) (2020.10.28)\n",
      "Requirement already satisfied: joblib in /conda/lib/python3.7/site-packages (from nltk>=3.1->textblob) (0.16.0)\n",
      "%nuclio: setting 'TO_LANG' environment variable\n",
      "%nuclio: setting 'CODE_CONTAINER' environment variable\n",
      "%nuclio: setting 'CODE_PATH' environment variable\n",
      "%nuclio: setting 'MOUNT_CODE_PATH' environment variable\n"
     ]
    }
   ],
   "source": [
    "%nuclio cmd pip install textblob\n",
    "%nuclio env TO_LANG=fr\n",
    "%nuclio env CODE_CONTAINER=users\n",
    "%nuclio env CODE_PATH=/nuclio/subdir\n",
    "%nuclio env MOUNT_CODE_PATH=/code"
   ]
  },
  {
   "cell_type": "markdown",
   "metadata": {},
   "source": [
    "Setting the path for the external function code for running localy from Jupyter or from a nuclio function "
   ]
  },
  {
   "cell_type": "code",
   "execution_count": 4,
   "metadata": {},
   "outputs": [],
   "source": [
    "import os\n",
    "import sys\n",
    "\n",
    "# The Python path will be determined by the run environment (local Jupyter or a Nuclio function)\n",
    "hostname = os.environ[\"HOSTNAME\"]\n",
    "if 'jupyter' in hostname:\n",
    "    \n",
    "    # Local run in Jupyetr\n",
    "    CODE_SYS_PATH = f'/v3io/{os.environ[\"CODE_CONTAINER\"]}/{os.environ[\"V3IO_USERNAME\"]}{os.environ[\"CODE_PATH\"]}'\n",
    "    \n",
    "else:\n",
    "    \n",
    "    # Run in nuclio\n",
    "    CODE_SYS_PATH = os.environ[\"MOUNT_CODE_PATH\"]\n",
    "        "
   ]
  },
  {
   "cell_type": "code",
   "execution_count": 15,
   "metadata": {},
   "outputs": [
    {
     "data": {
      "text/plain": [
       "'/v3io/users/edmond/subdir'"
      ]
     },
     "execution_count": 15,
     "metadata": {},
     "output_type": "execute_result"
    }
   ],
   "source": [
    "CODE_SYS_PATH"
   ]
  },
  {
   "cell_type": "markdown",
   "metadata": {},
   "source": [
    "### NLP function example"
   ]
  },
  {
   "cell_type": "markdown",
   "metadata": {},
   "source": [
    "This function is a simple nlp code that receive a string , translate it to another language and send the results back <br>\n",
    "In the function there is an example of using an external function: val = ext.func()"
   ]
  },
  {
   "cell_type": "code",
   "execution_count": 14,
   "metadata": {},
   "outputs": [],
   "source": [
    "sys.path.append(CODE_SYS_PATH)\n",
    "import ext\n",
    "\n",
    "from textblob import TextBlob\n",
    "\n",
    "def handler(context, event):\n",
    "    context.logger.info('This is an NLP example! ')\n",
    "\n",
    "    # Get value from external function\n",
    "    val = ext.func()\n",
    "    context.logger.info_with(\"Value is \", value=str(val))\n",
    "    \n",
    "    # process and correct the text\n",
    "    blob = TextBlob(str(event.body.decode('utf-8')))\n",
    "    corrected = blob.correct()\n",
    "\n",
    "    # debug print the text before and after correction\n",
    "    context.logger.info_with(\"Corrected text\", corrected=str(corrected), orig=str(blob))\n",
    "\n",
    "    # calculate sentiments\n",
    "    context.logger.info_with(\"Sentiment\",\n",
    "                             polarity=str(corrected.sentiment.polarity),\n",
    "                             subjectivity=str(corrected.sentiment.subjectivity))\n",
    "\n",
    "    # read target language from environment and return translated text\n",
    "    lang = os.getenv('TO_LANG','fr')\n",
    "    return str(corrected.translate(to=lang))"
   ]
  },
  {
   "cell_type": "code",
   "execution_count": 7,
   "metadata": {},
   "outputs": [
    {
     "data": {
      "text/plain": [
       "'/v3io/users/test/nuclio/subdir'"
      ]
     },
     "execution_count": 7,
     "metadata": {},
     "output_type": "execute_result"
    }
   ],
   "source": [
    "# nuclio: ignore\n",
    "CODE_SYS_PATH"
   ]
  },
  {
   "cell_type": "code",
   "execution_count": 8,
   "metadata": {},
   "outputs": [],
   "source": [
    "# nuclio: end-code"
   ]
  },
  {
   "cell_type": "markdown",
   "metadata": {},
   "source": [
    "### Local Test"
   ]
  },
  {
   "cell_type": "code",
   "execution_count": 9,
   "metadata": {},
   "outputs": [
    {
     "name": "stdout",
     "output_type": "stream",
     "text": [
      "Python> 2020-11-17 09:48:51,917 [info] This is an NLP example! \n",
      "Python> 2020-11-17 09:48:51,918 [info] Value is : {'value': '5'}\n",
      "Python> 2020-11-17 09:48:51,983 [info] Corrected text: {'corrected': 'good morning', 'orig': 'good morninng'}\n",
      "Python> 2020-11-17 09:48:52,030 [info] Sentiment: {'polarity': '0.7', 'subjectivity': '0.6000000000000001'}\n"
     ]
    },
    {
     "data": {
      "text/plain": [
       "'Bonjour'"
      ]
     },
     "execution_count": 9,
     "metadata": {},
     "output_type": "execute_result"
    }
   ],
   "source": [
    "# nuclio: ignore\n",
    "event = nuclio.Event(body=b'good morninng')\n",
    "handler(context, event)"
   ]
  },
  {
   "cell_type": "markdown",
   "metadata": {},
   "source": [
    "### Deploy with MLRun"
   ]
  },
  {
   "cell_type": "code",
   "execution_count": 10,
   "metadata": {},
   "outputs": [],
   "source": [
    "from mlrun import code_to_function, mount_v3io"
   ]
  },
  {
   "cell_type": "code",
   "execution_count": 11,
   "metadata": {},
   "outputs": [],
   "source": [
    "fn = code_to_function('nlp-example-new', handler='handler', kind='nuclio')"
   ]
  },
  {
   "cell_type": "markdown",
   "metadata": {},
   "source": [
    "In order to access the external function we need to mount it to the path where the code resides"
   ]
  },
  {
   "cell_type": "code",
   "execution_count": 12,
   "metadata": {},
   "outputs": [
    {
     "data": {
      "text/plain": [
       "<mlrun.runtimes.function.RemoteRuntime at 0x7f64e8fe94d0>"
      ]
     },
     "execution_count": 12,
     "metadata": {},
     "output_type": "execute_result"
    }
   ],
   "source": [
    "fn.apply(mount_v3io(remote=f'{os.environ[\"CODE_CONTAINER\"]}/{os.environ[\"V3IO_USERNAME\"]}{os.environ[\"CODE_PATH\"]}', mount_path=os.environ['MOUNT_CODE_PATH']))"
   ]
  },
  {
   "cell_type": "code",
   "execution_count": 13,
   "metadata": {},
   "outputs": [],
   "source": [
    "fn.spec.build.image"
   ]
  },
  {
   "cell_type": "code",
   "execution_count": 14,
   "metadata": {},
   "outputs": [
    {
     "name": "stdout",
     "output_type": "stream",
     "text": [
      "> 2020-11-17 09:49:04,286 [info] deploy started\n",
      "[nuclio] 2020-11-17 09:49:06,415 (info) Build complete\n",
      "[nuclio] 2020-11-17 09:49:13,533 done updating default-nlp-example-new, function address: 192.168.224.70:31312\n",
      "> 2020-11-17 09:49:13,550 [warning] warning!, server (0.5.3-rc1) and client (0.5.3) ver dont match\n"
     ]
    },
    {
     "data": {
      "text/plain": [
       "'http://192.168.224.70:31312'"
      ]
     },
     "execution_count": 14,
     "metadata": {},
     "output_type": "execute_result"
    }
   ],
   "source": [
    "fn.deploy()"
   ]
  },
  {
   "cell_type": "code",
   "execution_count": 15,
   "metadata": {},
   "outputs": [
    {
     "data": {
      "text/plain": [
       "b'Bonjour'"
      ]
     },
     "execution_count": 15,
     "metadata": {},
     "output_type": "execute_result"
    }
   ],
   "source": [
    "text = 'good morning'\n",
    "fn.invoke('', text)"
   ]
  }
 ],
 "metadata": {
  "kernelspec": {
   "display_name": "Python [conda env:edmond2]",
   "language": "python",
   "name": "conda-env-edmond2-py"
  },
  "language_info": {
   "codemirror_mode": {
    "name": "ipython",
    "version": 3
   },
   "file_extension": ".py",
   "mimetype": "text/x-python",
   "name": "python",
   "nbconvert_exporter": "python",
   "pygments_lexer": "ipython3",
   "version": "3.6.8"
  }
 },
 "nbformat": 4,
 "nbformat_minor": 4
}
