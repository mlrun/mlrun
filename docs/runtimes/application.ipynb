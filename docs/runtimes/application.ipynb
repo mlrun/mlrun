{
 "cells": [
  {
   "cell_type": "markdown",
   "metadata": {},
   "source": [
    "(application)=\n",
    "# Application runtime\n",
    "\n",
    "You can use the {py:meth}`~mlrun.runtimes.ApplicationRuntime` to provide an image that runs on top of your deployed model. \n",
    "\n",
    "The application runtime deploys a user container image (for example, a web application), a port, and a command to run the HTTP server. The runtime is based on top of Nuclio, and adds the application as a side-car to a Nuclio function while the actual function is a reverse proxy to that application. The application runtime can both build the side-car image or use a pre-built image. You can specify the source code, and pull at build-time. An API Gateway, by default, is in front of the application to provide an authentication mechanism; you can disable it to allow free access without authentication.\n",
    "\n",
    "Typical use cases are:\n",
    "- Deploy a [Vizro](https://github.com/mckinsey/vizro) dashboard that communicates with an external source (for example, a serving model) to display graphs, data, and inference.\n",
    "- Deploy a model and a UI &mdash; the model serving is the backend and the UI is the side car.\n",
    "- Deploy a fastapi web-server with an MLRun model. In this case, the Nuclio function is a reverse proxy and the user web-app is the side car.\n",
    "\n",
    "\n",
    "## Usage examples\n",
    "\n",
    "Deploy a Vizro dashboard from a pre-built image:"
   ]
  },
  {
   "cell_type": "code",
   "execution_count": null,
   "metadata": {},
   "outputs": [],
   "source": [
    "# Create an application runtime (with pre-built image)\n",
    "application = project.set_function(\n",
    "    name=\"my-vizro-dashboard\", kind=\"application\", image=\"repo/my-wabapp:latest\"\n",
    ")\n",
    "# Set the port that the side-car listens on\n",
    "application.set_internal_application_port(port=8080)\n",
    "# Deploy\n",
    "application.deploy()"
   ]
  },
  {
   "cell_type": "markdown",
   "metadata": {},
   "source": [
    "Deploy a Vizro dashboard from a source archive or git:"
   ]
  },
  {
   "cell_type": "code",
   "execution_count": null,
   "metadata": {},
   "outputs": [],
   "source": [
    "# Specify the source to be loaded at build-time or run-time\n",
    "application = project.set_function(\n",
    "    name=\"my-vizro-dashboard\", kind=\"application\", requirements=[\"vizro\"]\n",
    ")\n",
    "application.set_internal_application_port(add - your - port)\n",
    "application.spec.command(add - command - string)\n",
    "application.spec.args(add - command - args - list - of - strings)\n",
    "# Provide code artifacts\n",
    "application.with_source_archive(\n",
    "    \"git://github.com/org/repo#my-branch\", pull_at_runtime=True\n",
    ")\n",
    "# Build the application image via MLRun and deploy the Nuclio function\n",
    "# Optionally add mlrun and/or a base image\n",
    "application.deploy(with_mlrun=False)"
   ]
  }
 ],
 "metadata": {
  "kernelspec": {
   "display_name": "Python 3 (ipykernel)",
   "language": "python",
   "name": "python3"
  },
  "language_info": {
   "codemirror_mode": {
    "name": "ipython",
    "version": 3
   },
   "file_extension": ".py",
   "mimetype": "text/x-python",
   "name": "python",
   "nbconvert_exporter": "python",
   "pygments_lexer": "ipython3",
   "version": "3.9.13"
  }
 },
 "nbformat": 4,
 "nbformat_minor": 4
}
