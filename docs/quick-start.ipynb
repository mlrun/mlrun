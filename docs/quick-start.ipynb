{
 "cells": [
  {
   "cell_type": "markdown",
   "metadata": {},
   "source": [
    "# Quick-Start Guide"
   ]
  },
  {
   "cell_type": "markdown",
   "metadata": {},
   "source": [
    "**MLRun** is an end-to-end [open-source](https://github.com/mlrun/mlrun) MLOps solution to manage and automate your\n",
    "analytics and machine learning lifecycle, from data ingestion, through model development and full pipeline/model deployment, to model monitoring.\n",
    "Its primary goal is to ease the development of machine learning pipeline at scale and help organizations build a\n",
    "robust process for moving from the research phase to fully operational production deployments.\n",
    "\n",
    "MLRun is automating the process of moving code to production by implementing a **serverless** approach, where different tasks or services are executed over elastic **serverless functions** (read more about [MLRun functions](./runtimes/functions.md)), in this quick start guide we will use existing (marketplace) functions, see the [**tutorial**](./tutorial/index.md) with more detailed example of how to create and use functions. "
   ]
  },
  {
   "cell_type": "markdown",
   "metadata": {},
   "source": [
    "**Table of Contents**"
   ]
  },
  {
   "cell_type": "markdown",
   "metadata": {},
   "source": [
    "* [Working with MLRun](#working-with-mlrun)\n",
    "* [Train a Model](#train-a-model)\n",
    "* [Test the Model](#test-the-model)\n",
    "* [Serve the Model](#serve-the-model)"
   ]
  },
  {
   "cell_type": "markdown",
   "metadata": {},
   "source": [
    "## Working with MLRun\n",
    "<a name=\"working-with-mlrun\"></a>"
   ]
  },
  {
   "cell_type": "markdown",
   "metadata": {},
   "source": [
    "If you need to install MLRun, refer to the [Installation Guide](install.md).\n",
    ">**Note**: If you are using the [Iguazio Data Science Platform](https://www.iguazio.com/), MLRun already comes\n",
    ">preinstalled and integrated in your system.\n",
    "\n",
    "If you are not viewing this quick-start guide from a Jupyter Lab instance, open it on your cluster, create a\n",
    "new notebook, and copy the sections below to the notebook to run them."
   ]
  },
  {
   "cell_type": "markdown",
   "metadata": {},
   "source": [
    "### Set Environment"
   ]
  },
  {
   "cell_type": "markdown",
   "metadata": {},
   "source": [
    "Before you begin, initialize MLRun by calling `set_environment` and provide it the project name, all the work will be saved and tracked under that project"
   ]
  },
  {
   "cell_type": "code",
   "execution_count": 1,
   "metadata": {},
   "outputs": [
    {
     "name": "stdout",
     "output_type": "stream",
     "text": [
      "> 2021-11-15 22:56:00,358 [info] loaded project quick-start-admin from MLRun DB\n"
     ]
    },
    {
     "data": {
      "text/plain": [
       "('quick-start-admin', 'v3io:///projects/{{run.project}}/artifacts')"
      ]
     },
     "execution_count": 1,
     "metadata": {},
     "output_type": "execute_result"
    }
   ],
   "source": [
    "import mlrun\n",
    "\n",
    "project_name = 'quick-start'\n",
    "mlrun.set_environment(project=project_name, user_project=True)"
   ]
  },
  {
   "cell_type": "markdown",
   "metadata": {},
   "source": [
    "## Train a Model\n",
    "<a name=\"train-a-model\"></a>"
   ]
  },
  {
   "cell_type": "markdown",
   "metadata": {},
   "source": [
    "MLRun introduces the concept of [functions](./runtimes/functions.md). You can run your own code in functions, or use\n",
    "functions from the [function marketplace](https://www.mlrun.org/marketplace/), functions can run locally or over elastic **\"serverless\"** engines (as containers over [kubernetes](https://kubernetes.io/)).\n",
    "\n",
    "In the example below, we'll use the [`sklearn_classifier`](https://github.com/mlrun/functions/tree/master/sklearn_classifier)\n",
    "from MLRun [function marketplace](https://www.mlrun.org/marketplace/) to train a model and use a sample dataset\n",
    "(CSV file) as the input, can read more on how to [**use data items**](./store/datastore.md) from different data sources\n",
    "or from the [**Feature Store**](./feature-store/feature-store.md)."
   ]
  },
  {
   "cell_type": "code",
   "execution_count": 2,
   "metadata": {},
   "outputs": [
    {
     "name": "stdout",
     "output_type": "stream",
     "text": [
      "> 2021-11-15 22:56:01,887 [info] starting run train uid=da2cba1514ee4308b0a84a0372ddabc9 DB=http://mlrun-api:8080\n",
      "> 2021-11-15 22:56:02,096 [info] Job is running in the background, pod: train-nt8bv\n",
      "> 2021-11-15 22:56:09,420 [info] run executed, status=completed\n",
      "final state: completed\n"
     ]
    },
    {
     "data": {
      "text/html": [
       "<style>\n",
       ".dictlist {\n",
       "  background-color: #4EC64B;\n",
       "  text-align: center;\n",
       "  margin: 4px;\n",
       "  border-radius: 3px; padding: 0px 3px 1px 3px; display: inline-block;}\n",
       ".artifact {\n",
       "  cursor: pointer;\n",
       "  background-color: #4EC64B;\n",
       "  text-align: left;\n",
       "  margin: 4px; border-radius: 3px; padding: 0px 3px 1px 3px; display: inline-block;\n",
       "}\n",
       "div.block.hidden {\n",
       "  display: none;\n",
       "}\n",
       ".clickable {\n",
       "  cursor: pointer;\n",
       "}\n",
       ".ellipsis {\n",
       "  display: inline-block;\n",
       "  max-width: 60px;\n",
       "  white-space: nowrap;\n",
       "  overflow: hidden;\n",
       "  text-overflow: ellipsis;\n",
       "}\n",
       ".master-wrapper {\n",
       "  display: flex;\n",
       "  flex-flow: row nowrap;\n",
       "  justify-content: flex-start;\n",
       "  align-items: stretch;\n",
       "}\n",
       ".master-tbl {\n",
       "  flex: 3\n",
       "}\n",
       ".master-wrapper > div {\n",
       "  margin: 4px;\n",
       "  padding: 10px;\n",
       "}\n",
       "iframe.fileview {\n",
       "  border: 0 none;\n",
       "  height: 100%;\n",
       "  width: 100%;\n",
       "  white-space: pre-wrap;\n",
       "}\n",
       ".pane-header-title {\n",
       "  width: 80%;\n",
       "  font-weight: 500;\n",
       "}\n",
       ".pane-header {\n",
       "  line-height: 1;\n",
       "  background-color: #4EC64B;\n",
       "  padding: 3px;\n",
       "}\n",
       ".pane-header .close {\n",
       "  font-size: 20px;\n",
       "  font-weight: 700;\n",
       "  float: right;\n",
       "  margin-top: -5px;\n",
       "}\n",
       ".master-wrapper .right-pane {\n",
       "  border: 1px inset silver;\n",
       "  width: 40%;\n",
       "  min-height: 300px;\n",
       "  flex: 3\n",
       "  min-width: 500px;\n",
       "}\n",
       ".master-wrapper * {\n",
       "  box-sizing: border-box;\n",
       "}\n",
       "</style><script>\n",
       "function copyToClipboard(fld) {\n",
       "    if (document.queryCommandSupported && document.queryCommandSupported('copy')) {\n",
       "        var textarea = document.createElement('textarea');\n",
       "        textarea.textContent = fld.innerHTML;\n",
       "        textarea.style.position = 'fixed';\n",
       "        document.body.appendChild(textarea);\n",
       "        textarea.select();\n",
       "\n",
       "        try {\n",
       "            return document.execCommand('copy'); // Security exception may be thrown by some browsers.\n",
       "        } catch (ex) {\n",
       "\n",
       "        } finally {\n",
       "            document.body.removeChild(textarea);\n",
       "        }\n",
       "    }\n",
       "}\n",
       "function expandPanel(el) {\n",
       "  const panelName = \"#\" + el.getAttribute('paneName');\n",
       "  console.log(el.title);\n",
       "\n",
       "  document.querySelector(panelName + \"-title\").innerHTML = el.title\n",
       "  iframe = document.querySelector(panelName + \"-body\");\n",
       "\n",
       "  const tblcss = `<style> body { font-family: Arial, Helvetica, sans-serif;}\n",
       "    #csv { margin-bottom: 15px; }\n",
       "    #csv table { border-collapse: collapse;}\n",
       "    #csv table td { padding: 4px 8px; border: 1px solid silver;} </style>`;\n",
       "\n",
       "  function csvToHtmlTable(str) {\n",
       "    return '<div id=\"csv\"><table><tr><td>' +  str.replace(/[\\n\\r]+$/g, '').replace(/[\\n\\r]+/g, '</td></tr><tr><td>')\n",
       "      .replace(/,/g, '</td><td>') + '</td></tr></table></div>';\n",
       "  }\n",
       "\n",
       "  function reqListener () {\n",
       "    if (el.title.endsWith(\".csv\")) {\n",
       "      iframe.setAttribute(\"srcdoc\", tblcss + csvToHtmlTable(this.responseText));\n",
       "    } else {\n",
       "      iframe.setAttribute(\"srcdoc\", this.responseText);\n",
       "    }\n",
       "    console.log(this.responseText);\n",
       "  }\n",
       "\n",
       "  const oReq = new XMLHttpRequest();\n",
       "  oReq.addEventListener(\"load\", reqListener);\n",
       "  oReq.open(\"GET\", el.title);\n",
       "  oReq.send();\n",
       "\n",
       "\n",
       "  //iframe.src = el.title;\n",
       "  const resultPane = document.querySelector(panelName + \"-pane\");\n",
       "  if (resultPane.classList.contains(\"hidden\")) {\n",
       "    resultPane.classList.remove(\"hidden\");\n",
       "  }\n",
       "}\n",
       "function closePanel(el) {\n",
       "  const panelName = \"#\" + el.getAttribute('paneName')\n",
       "  const resultPane = document.querySelector(panelName + \"-pane\");\n",
       "  if (!resultPane.classList.contains(\"hidden\")) {\n",
       "    resultPane.classList.add(\"hidden\");\n",
       "  }\n",
       "}\n",
       "\n",
       "</script>\n",
       "<div class=\"master-wrapper\">\n",
       "  <div class=\"block master-tbl\"><div>\n",
       "<style scoped>\n",
       "    .dataframe tbody tr th:only-of-type {\n",
       "        vertical-align: middle;\n",
       "    }\n",
       "\n",
       "    .dataframe tbody tr th {\n",
       "        vertical-align: top;\n",
       "    }\n",
       "\n",
       "    .dataframe thead th {\n",
       "        text-align: right;\n",
       "    }\n",
       "</style>\n",
       "<table border=\"1\" class=\"dataframe\">\n",
       "  <thead>\n",
       "    <tr style=\"text-align: right;\">\n",
       "      <th>project</th>\n",
       "      <th>uid</th>\n",
       "      <th>iter</th>\n",
       "      <th>start</th>\n",
       "      <th>state</th>\n",
       "      <th>name</th>\n",
       "      <th>labels</th>\n",
       "      <th>inputs</th>\n",
       "      <th>parameters</th>\n",
       "      <th>results</th>\n",
       "      <th>artifacts</th>\n",
       "    </tr>\n",
       "  </thead>\n",
       "  <tbody>\n",
       "    <tr>\n",
       "      <td>quick-start-admin</td>\n",
       "      <td><div title=\"da2cba1514ee4308b0a84a0372ddabc9\"><a href=\"https://dashboard.default-tenant.app.yh38.iguazio-cd2.com/mlprojects/quick-start-admin/jobs/monitor/da2cba1514ee4308b0a84a0372ddabc9/overview\" target=\"_blank\" >...72ddabc9</a></div></td>\n",
       "      <td>0</td>\n",
       "      <td>Nov 15 22:56:07</td>\n",
       "      <td>completed</td>\n",
       "      <td>train</td>\n",
       "      <td><div class=\"dictlist\">v3io_user=admin</div><div class=\"dictlist\">kind=job</div><div class=\"dictlist\">owner=admin</div><div class=\"dictlist\">host=train-nt8bv</div><div class=\"dictlist\">class=sklearn.linear_model.LogisticRegression</div></td>\n",
       "      <td><div title=\"https://s3.wasabisys.com/iguazio/data/iris/iris_dataset.csv\">dataset</div></td>\n",
       "      <td><div class=\"dictlist\">model_pkg_class=sklearn.linear_model.LogisticRegression</div><div class=\"dictlist\">label_column=label</div></td>\n",
       "      <td><div class=\"dictlist\">accuracy=0.9375</div><div class=\"dictlist\">test-error=0.0625</div><div class=\"dictlist\">auc-micro=0.9921875</div><div class=\"dictlist\">auc-weighted=1.0</div><div class=\"dictlist\">f1-score=0.9206349206349206</div><div class=\"dictlist\">precision_score=0.9047619047619048</div><div class=\"dictlist\">recall_score=0.9555555555555556</div></td>\n",
       "      <td><div title=\"v3io:///projects/quick-start-admin/artifacts/data/test_set.parquet\">test_set</div><div class=\"artifact\" onclick=\"expandPanel(this)\" paneName=\"result21e46283\" title=\"files/v3io/projects/quick-start-admin/artifacts/model/plots/confusion-matrix.html\">confusion-matrix</div><div class=\"artifact\" onclick=\"expandPanel(this)\" paneName=\"result21e46283\" title=\"files/v3io/projects/quick-start-admin/artifacts/model/plots/precision-recall-multiclass.html\">precision-recall-multiclass</div><div class=\"artifact\" onclick=\"expandPanel(this)\" paneName=\"result21e46283\" title=\"files/v3io/projects/quick-start-admin/artifacts/model/plots/roc-multiclass.html\">roc-multiclass</div><div title=\"v3io:///projects/quick-start-admin/artifacts/model/\">model</div></td>\n",
       "    </tr>\n",
       "  </tbody>\n",
       "</table>\n",
       "</div></div>\n",
       "  <div id=\"result21e46283-pane\" class=\"right-pane block hidden\">\n",
       "    <div class=\"pane-header\">\n",
       "      <span id=\"result21e46283-title\" class=\"pane-header-title\">Title</span>\n",
       "      <span onclick=\"closePanel(this)\" paneName=\"result21e46283\" class=\"close clickable\">&times;</span>\n",
       "    </div>\n",
       "    <iframe class=\"fileview\" id=\"result21e46283-body\"></iframe>\n",
       "  </div>\n",
       "</div>\n"
      ],
      "text/plain": [
       "<IPython.core.display.HTML object>"
      ]
     },
     "metadata": {},
     "output_type": "display_data"
    },
    {
     "name": "stdout",
     "output_type": "stream",
     "text": [
      "\n"
     ]
    },
    {
     "data": {
      "text/html": [
       "<b> > to track results use the .show() or .logs() methods  or <a href=\"https://dashboard.default-tenant.app.yh38.iguazio-cd2.com/mlprojects/quick-start-admin/jobs/monitor/da2cba1514ee4308b0a84a0372ddabc9/overview\" target=\"_blank\">click here</a> to open in UI</b>"
      ],
      "text/plain": [
       "<IPython.core.display.HTML object>"
      ]
     },
     "metadata": {},
     "output_type": "display_data"
    },
    {
     "name": "stdout",
     "output_type": "stream",
     "text": [
      "> 2021-11-15 22:56:11,537 [info] run executed, status=completed\n"
     ]
    }
   ],
   "source": [
    "# import the training function from the marketplace (hub://)\n",
    "train = mlrun.import_function('hub://sklearn_classifier')\n",
    "\n",
    "# Get a sample dataset path (points to MLRun data samples repository)\n",
    "source_url = mlrun.get_sample_path(\"data/iris/iris_dataset.csv\")\n",
    "\n",
    "# run the function and specify input dataset path and some parameters (algorithm and label column name)\n",
    "train_run = train.run(name='train',\n",
    "                      inputs={'dataset': source_url},\n",
    "                      params={'model_pkg_class': 'sklearn.linear_model.LogisticRegression',\n",
    "                              'label_column': 'label'})"
   ]
  },
  {
   "cell_type": "markdown",
   "metadata": {},
   "source": [
    "The run output above contains a link to the MLRun UI. Click it to inspect the various aspects of the jobs you run:\n",
    "\n",
    "<img src=\"./_static/images/mlrun-quick-start/train-info.png\" alt=\"ui-info\" width=\"800\"/>"
   ]
  },
  {
   "cell_type": "markdown",
   "metadata": {},
   "source": [
    "As well as their artifacts:\n",
    "\n",
    "<img src=\"./_static/images/mlrun-quick-start/train-artifacts.png\" alt=\"ui-artifacts\" width=\"800\"/>"
   ]
  },
  {
   "cell_type": "markdown",
   "metadata": {},
   "source": [
    "When running the function in a Jupyter notebook, the output cell for your function execution will contain a table with\n",
    "run information &mdash; including the state of the execution, all inputs and parameters, and the execution results and artifacts.\n",
    "\n",
    "![MLRun quick start train output](./_static/images/mlrun-quick-start/train-output.png)"
   ]
  },
  {
   "cell_type": "markdown",
   "metadata": {},
   "source": [
    "## Test the Model\n",
    "<a name=\"test-the-model\"></a>"
   ]
  },
  {
   "cell_type": "markdown",
   "metadata": {},
   "source": [
    "Now that you have a trained model, you can test it: run a task that uses the [test_classifier](https://github.com/mlrun/functions/tree/master/test_classifier)\n",
    "function from the function marketplace to run the selected trained model against the test dataset. The test dataset\n",
    "was returned from the training task (`train_run`) in the previous step."
   ]
  },
  {
   "cell_type": "code",
   "execution_count": 3,
   "metadata": {},
   "outputs": [],
   "source": [
    "test = mlrun.import_function('hub://test_classifier')"
   ]
  },
  {
   "cell_type": "markdown",
   "metadata": {},
   "source": [
    "You can then run the function as part of your project, just as any other function that you have written yourself.\n",
    "To view the function documentation, call the `doc` method:"
   ]
  },
  {
   "cell_type": "code",
   "execution_count": 4,
   "metadata": {},
   "outputs": [
    {
     "name": "stdout",
     "output_type": "stream",
     "text": [
      "function: test-classifier\n",
      "test a classifier using held-out or new data\n",
      "default handler: test_classifier\n",
      "entry points:\n",
      "  test_classifier: Test one or more classifier models against held-out dataset\n",
      "\n",
      "Using held-out test features, evaluates the peformance of the estimated model\n",
      "\n",
      "Can be part of a kubeflow pipeline as a test step that is run post EDA and\n",
      "training/validation cycles\n",
      "    context  - the function context, default=\n",
      "    models_path(DataItem)  - artifact models representing a file or a folder, default=\n",
      "    test_set(DataItem)  - test features and labels, default=\n",
      "    label_column(str)  - column name for ground truth labels, default=\n",
      "    score_method(str)  - for multiclass classification, default=micro\n",
      "    plots_dest(str)  - dir for test plots, default=\n",
      "    model_evaluator  - NOT IMPLEMENTED: specific method to generate eval, passed in as string or available in this folder, default=None\n",
      "    default_model(str)  - , default=model.pkl\n",
      "    predictions_column(str)  - column name for the predictions column on the resulted artifact, default=yscore\n",
      "    model_update  - (True) update model, when running as stand alone no need in update, default=True\n"
     ]
    }
   ],
   "source": [
    "test.doc()"
   ]
  },
  {
   "cell_type": "markdown",
   "metadata": {},
   "source": [
    "Configure parameters for the test function (`params`), and provide the selected trained model from the train task as an input artifact (`inputs`)"
   ]
  },
  {
   "cell_type": "code",
   "execution_count": 5,
   "metadata": {},
   "outputs": [
    {
     "name": "stdout",
     "output_type": "stream",
     "text": [
      "> 2021-11-15 22:56:28,306 [info] starting run test uid=b365d3a00cef4773aa7d6aadfd751cad DB=http://mlrun-api:8080\n",
      "> 2021-11-15 22:56:28,510 [info] Job is running in the background, pod: test-z5qrv\n",
      "> 2021-11-15 22:56:33,848 [info] run executed, status=completed\n",
      "final state: completed\n"
     ]
    },
    {
     "data": {
      "text/html": [
       "<style>\n",
       ".dictlist {\n",
       "  background-color: #4EC64B;\n",
       "  text-align: center;\n",
       "  margin: 4px;\n",
       "  border-radius: 3px; padding: 0px 3px 1px 3px; display: inline-block;}\n",
       ".artifact {\n",
       "  cursor: pointer;\n",
       "  background-color: #4EC64B;\n",
       "  text-align: left;\n",
       "  margin: 4px; border-radius: 3px; padding: 0px 3px 1px 3px; display: inline-block;\n",
       "}\n",
       "div.block.hidden {\n",
       "  display: none;\n",
       "}\n",
       ".clickable {\n",
       "  cursor: pointer;\n",
       "}\n",
       ".ellipsis {\n",
       "  display: inline-block;\n",
       "  max-width: 60px;\n",
       "  white-space: nowrap;\n",
       "  overflow: hidden;\n",
       "  text-overflow: ellipsis;\n",
       "}\n",
       ".master-wrapper {\n",
       "  display: flex;\n",
       "  flex-flow: row nowrap;\n",
       "  justify-content: flex-start;\n",
       "  align-items: stretch;\n",
       "}\n",
       ".master-tbl {\n",
       "  flex: 3\n",
       "}\n",
       ".master-wrapper > div {\n",
       "  margin: 4px;\n",
       "  padding: 10px;\n",
       "}\n",
       "iframe.fileview {\n",
       "  border: 0 none;\n",
       "  height: 100%;\n",
       "  width: 100%;\n",
       "  white-space: pre-wrap;\n",
       "}\n",
       ".pane-header-title {\n",
       "  width: 80%;\n",
       "  font-weight: 500;\n",
       "}\n",
       ".pane-header {\n",
       "  line-height: 1;\n",
       "  background-color: #4EC64B;\n",
       "  padding: 3px;\n",
       "}\n",
       ".pane-header .close {\n",
       "  font-size: 20px;\n",
       "  font-weight: 700;\n",
       "  float: right;\n",
       "  margin-top: -5px;\n",
       "}\n",
       ".master-wrapper .right-pane {\n",
       "  border: 1px inset silver;\n",
       "  width: 40%;\n",
       "  min-height: 300px;\n",
       "  flex: 3\n",
       "  min-width: 500px;\n",
       "}\n",
       ".master-wrapper * {\n",
       "  box-sizing: border-box;\n",
       "}\n",
       "</style><script>\n",
       "function copyToClipboard(fld) {\n",
       "    if (document.queryCommandSupported && document.queryCommandSupported('copy')) {\n",
       "        var textarea = document.createElement('textarea');\n",
       "        textarea.textContent = fld.innerHTML;\n",
       "        textarea.style.position = 'fixed';\n",
       "        document.body.appendChild(textarea);\n",
       "        textarea.select();\n",
       "\n",
       "        try {\n",
       "            return document.execCommand('copy'); // Security exception may be thrown by some browsers.\n",
       "        } catch (ex) {\n",
       "\n",
       "        } finally {\n",
       "            document.body.removeChild(textarea);\n",
       "        }\n",
       "    }\n",
       "}\n",
       "function expandPanel(el) {\n",
       "  const panelName = \"#\" + el.getAttribute('paneName');\n",
       "  console.log(el.title);\n",
       "\n",
       "  document.querySelector(panelName + \"-title\").innerHTML = el.title\n",
       "  iframe = document.querySelector(panelName + \"-body\");\n",
       "\n",
       "  const tblcss = `<style> body { font-family: Arial, Helvetica, sans-serif;}\n",
       "    #csv { margin-bottom: 15px; }\n",
       "    #csv table { border-collapse: collapse;}\n",
       "    #csv table td { padding: 4px 8px; border: 1px solid silver;} </style>`;\n",
       "\n",
       "  function csvToHtmlTable(str) {\n",
       "    return '<div id=\"csv\"><table><tr><td>' +  str.replace(/[\\n\\r]+$/g, '').replace(/[\\n\\r]+/g, '</td></tr><tr><td>')\n",
       "      .replace(/,/g, '</td><td>') + '</td></tr></table></div>';\n",
       "  }\n",
       "\n",
       "  function reqListener () {\n",
       "    if (el.title.endsWith(\".csv\")) {\n",
       "      iframe.setAttribute(\"srcdoc\", tblcss + csvToHtmlTable(this.responseText));\n",
       "    } else {\n",
       "      iframe.setAttribute(\"srcdoc\", this.responseText);\n",
       "    }\n",
       "    console.log(this.responseText);\n",
       "  }\n",
       "\n",
       "  const oReq = new XMLHttpRequest();\n",
       "  oReq.addEventListener(\"load\", reqListener);\n",
       "  oReq.open(\"GET\", el.title);\n",
       "  oReq.send();\n",
       "\n",
       "\n",
       "  //iframe.src = el.title;\n",
       "  const resultPane = document.querySelector(panelName + \"-pane\");\n",
       "  if (resultPane.classList.contains(\"hidden\")) {\n",
       "    resultPane.classList.remove(\"hidden\");\n",
       "  }\n",
       "}\n",
       "function closePanel(el) {\n",
       "  const panelName = \"#\" + el.getAttribute('paneName')\n",
       "  const resultPane = document.querySelector(panelName + \"-pane\");\n",
       "  if (!resultPane.classList.contains(\"hidden\")) {\n",
       "    resultPane.classList.add(\"hidden\");\n",
       "  }\n",
       "}\n",
       "\n",
       "</script>\n",
       "<div class=\"master-wrapper\">\n",
       "  <div class=\"block master-tbl\"><div>\n",
       "<style scoped>\n",
       "    .dataframe tbody tr th:only-of-type {\n",
       "        vertical-align: middle;\n",
       "    }\n",
       "\n",
       "    .dataframe tbody tr th {\n",
       "        vertical-align: top;\n",
       "    }\n",
       "\n",
       "    .dataframe thead th {\n",
       "        text-align: right;\n",
       "    }\n",
       "</style>\n",
       "<table border=\"1\" class=\"dataframe\">\n",
       "  <thead>\n",
       "    <tr style=\"text-align: right;\">\n",
       "      <th>project</th>\n",
       "      <th>uid</th>\n",
       "      <th>iter</th>\n",
       "      <th>start</th>\n",
       "      <th>state</th>\n",
       "      <th>name</th>\n",
       "      <th>labels</th>\n",
       "      <th>inputs</th>\n",
       "      <th>parameters</th>\n",
       "      <th>results</th>\n",
       "      <th>artifacts</th>\n",
       "    </tr>\n",
       "  </thead>\n",
       "  <tbody>\n",
       "    <tr>\n",
       "      <td>quick-start-admin</td>\n",
       "      <td><div title=\"b365d3a00cef4773aa7d6aadfd751cad\"><a href=\"https://dashboard.default-tenant.app.yh38.iguazio-cd2.com/mlprojects/quick-start-admin/jobs/monitor/b365d3a00cef4773aa7d6aadfd751cad/overview\" target=\"_blank\" >...fd751cad</a></div></td>\n",
       "      <td>0</td>\n",
       "      <td>Nov 15 22:56:32</td>\n",
       "      <td>completed</td>\n",
       "      <td>test</td>\n",
       "      <td><div class=\"dictlist\">v3io_user=admin</div><div class=\"dictlist\">kind=job</div><div class=\"dictlist\">owner=admin</div><div class=\"dictlist\">host=test-z5qrv</div></td>\n",
       "      <td><div title=\"store://artifacts/quick-start-admin/train_model:da2cba1514ee4308b0a84a0372ddabc9\">models_path</div><div title=\"store://artifacts/quick-start-admin/train_test_set:da2cba1514ee4308b0a84a0372ddabc9\">test_set</div></td>\n",
       "      <td><div class=\"dictlist\">label_column=label</div></td>\n",
       "      <td><div class=\"dictlist\">accuracy=0.9777777777777777</div><div class=\"dictlist\">test-error=0.022222222222222223</div><div class=\"dictlist\">auc-micro=0.9985185185185185</div><div class=\"dictlist\">auc-weighted=0.9985392720306513</div><div class=\"dictlist\">f1-score=0.9769016328156113</div><div class=\"dictlist\">precision_score=0.9761904761904763</div><div class=\"dictlist\">recall_score=0.9791666666666666</div></td>\n",
       "      <td><div class=\"artifact\" onclick=\"expandPanel(this)\" paneName=\"resultb11d4135\" title=\"files/v3io/projects/quick-start-admin/artifacts/plots/confusion-matrix.html\">confusion-matrix</div><div class=\"artifact\" onclick=\"expandPanel(this)\" paneName=\"resultb11d4135\" title=\"files/v3io/projects/quick-start-admin/artifacts/plots/precision-recall-multiclass.html\">precision-recall-multiclass</div><div class=\"artifact\" onclick=\"expandPanel(this)\" paneName=\"resultb11d4135\" title=\"files/v3io/projects/quick-start-admin/artifacts/plots/roc-multiclass.html\">roc-multiclass</div><div title=\"v3io:///projects/quick-start-admin/artifacts/test_set_preds.parquet\">test_set_preds</div></td>\n",
       "    </tr>\n",
       "  </tbody>\n",
       "</table>\n",
       "</div></div>\n",
       "  <div id=\"resultb11d4135-pane\" class=\"right-pane block hidden\">\n",
       "    <div class=\"pane-header\">\n",
       "      <span id=\"resultb11d4135-title\" class=\"pane-header-title\">Title</span>\n",
       "      <span onclick=\"closePanel(this)\" paneName=\"resultb11d4135\" class=\"close clickable\">&times;</span>\n",
       "    </div>\n",
       "    <iframe class=\"fileview\" id=\"resultb11d4135-body\"></iframe>\n",
       "  </div>\n",
       "</div>\n"
      ],
      "text/plain": [
       "<IPython.core.display.HTML object>"
      ]
     },
     "metadata": {},
     "output_type": "display_data"
    },
    {
     "name": "stdout",
     "output_type": "stream",
     "text": [
      "\n"
     ]
    },
    {
     "data": {
      "text/html": [
       "<b> > to track results use the .show() or .logs() methods  or <a href=\"https://dashboard.default-tenant.app.yh38.iguazio-cd2.com/mlprojects/quick-start-admin/jobs/monitor/b365d3a00cef4773aa7d6aadfd751cad/overview\" target=\"_blank\">click here</a> to open in UI</b>"
      ],
      "text/plain": [
       "<IPython.core.display.HTML object>"
      ]
     },
     "metadata": {},
     "output_type": "display_data"
    },
    {
     "name": "stdout",
     "output_type": "stream",
     "text": [
      "> 2021-11-15 22:56:34,652 [info] run executed, status=completed\n"
     ]
    }
   ],
   "source": [
    "test_run = test.run(name=\"test\",\n",
    "                    params={\"label_column\": \"label\"},\n",
    "                    inputs={\"models_path\": train_run.outputs['model'],\n",
    "                            \"test_set\": train_run.outputs['test_set']})"
   ]
  },
  {
   "cell_type": "markdown",
   "metadata": {},
   "source": [
    "## Serve the Model\n",
    "<a name=\"serve-the-model\"></a>"
   ]
  },
  {
   "cell_type": "markdown",
   "metadata": {},
   "source": [
    "MLRun serving can take MLRun models or standard model files and produce managed, real-time, serverless functions using\n",
    "the [Nuclio real-time serverless framework](https://www.iguazio.com/open-source/nuclio/).\n",
    "Nuclio is built around data, I/O, and compute intensive workloads and is focused on performance and flexibility.\n",
    "Nuclio is also deeply integrated into the MLRun framework.\n",
    "See [MLRun Serving documentation](./serving/serving-graph.md) to learn more about the rich serving capabilities\n",
    "MLRun has to offer.\n",
    "\n",
    "\n",
    "To deploy your model using the [v2_model_server function](https://github.com/mlrun/functions/tree/master/v2_model_server),\n",
    "run the following code:"
   ]
  },
  {
   "cell_type": "code",
   "execution_count": 7,
   "metadata": {},
   "outputs": [
    {
     "name": "stdout",
     "output_type": "stream",
     "text": [
      "> 2021-11-15 22:57:00,042 [info] Starting remote function deploy\n",
      "2021-11-15 22:57:00  (info) Deploying function\n",
      "2021-11-15 22:57:00  (info) Building\n",
      "2021-11-15 22:57:00  (info) Staging files and preparing base images\n",
      "2021-11-15 22:57:00  (info) Building processor image\n",
      "2021-11-15 22:57:01  (info) Build complete\n",
      "2021-11-15 22:57:07  (info) Function deploy complete\n",
      "> 2021-11-15 22:57:07,998 [info] successfully deployed function: {'internal_invocation_urls': ['nuclio-quick-start-admin-v2-model-server.default-tenant.svc.cluster.local:8080'], 'external_invocation_urls': ['default-tenant.app.yh38.iguazio-cd2.com:32503']}\n"
     ]
    }
   ],
   "source": [
    "serve = mlrun.import_function('hub://v2_model_server')\n",
    "model_name='iris'\n",
    "serve.add_model(model_name, model_path=train_run.outputs['model'])\n",
    "addr = serve.deploy()"
   ]
  },
  {
   "cell_type": "markdown",
   "metadata": {},
   "source": [
    "The `invoke` method enables to programmatically test the function."
   ]
  },
  {
   "cell_type": "code",
   "execution_count": 8,
   "metadata": {},
   "outputs": [
    {
     "name": "stdout",
     "output_type": "stream",
     "text": [
      "> 2021-11-15 22:57:12,675 [info] invoking function: {'method': 'POST', 'path': 'http://nuclio-quick-start-admin-v2-model-server.default-tenant.svc.cluster.local:8080/v2/models/iris/infer'}\n"
     ]
    },
    {
     "data": {
      "text/plain": [
       "{'id': '057372bd-518d-4e88-987a-cfb64dd0498a',\n",
       " 'model_name': 'iris',\n",
       " 'outputs': [0, 2]}"
      ]
     },
     "execution_count": 8,
     "metadata": {},
     "output_type": "execute_result"
    }
   ],
   "source": [
    "import json\n",
    "\n",
    "inputs = [[5.1, 3.5, 1.4, 0.2],\n",
    "          [7.7, 3.8, 6.7, 2.2]]\n",
    "my_data = json.dumps({'inputs': inputs})\n",
    "serve.invoke(f'v2/models/{model_name}/infer', my_data)"
   ]
  },
  {
   "cell_type": "markdown",
   "metadata": {
    "pycharm": {
     "name": "#%% md\n"
    }
   },
   "source": [
    "Open the Nuclio UI to view the function and test it."
   ]
  },
  {
   "cell_type": "markdown",
   "metadata": {},
   "source": [
    "![Nuclio Functions UI](./_static/images/mlrun-quick-start/serve.png)"
   ]
  },
  {
   "cell_type": "markdown",
   "metadata": {},
   "source": [
    "For a more detailed walk-through, refer to the [getting-started tutorial](tutorial/index.md)."
   ]
  }
 ],
 "metadata": {
  "kernelspec": {
   "display_name": "Python 3",
   "language": "python",
   "name": "python3"
  },
  "language_info": {
   "codemirror_mode": {
    "name": "ipython",
    "version": 3
   },
   "file_extension": ".py",
   "mimetype": "text/x-python",
   "name": "python",
   "nbconvert_exporter": "python",
   "pygments_lexer": "ipython3",
   "version": "3.7.6"
  }
 },
 "nbformat": 4,
 "nbformat_minor": 4
}