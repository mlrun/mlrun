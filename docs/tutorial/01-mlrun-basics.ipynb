{
 "cells": [
  {
   "cell_type": "markdown",
   "metadata": {},
   "source": [
    " # Part 1: MLRun Basics\n",
    "\n",
    " Part 1 of the getting-started tutorial introduces you to the basics of working with functions by using the MLRun open-source MLOps orchestration framework.\n",
    " \n",
    " The tutorial takes you through the following steps:\n",
    "\n",
    " 1. [Installation and Setup](#gs-tutorial-1-step-setup)\n",
    " 2. [Creating a basic function and running it locally](#gs-tutorial-1-step-create-basic-function)\n",
    " 3. [Running the function on the cluster](#gs-tutorial-1-run-function-on-cluster)\n",
    " 4. [Viewing jobs on the dashboard (UI)](#gs-tutorial-1-step-ui-jobs-view)\n",
    " 5. [Scheduling jobs](#gs-tutorial-1-step-schedule-jobs)\n",
    "\n",
    "By the end of this tutorial you'll learn how to\n",
    "\n",
    "- Create a basic data preparation MLRun function\n",
    "- Store data artifacts to be used and managed in a central database.\n",
    "- Run your code on a distributed Kubernetes cluster without any DevOps overhead\n",
    "- Schedule jobs to run on the cluster."
   ]
  },
  {
   "source": [
    "```{admonition} Using MLRun Remotely\n",
    "This tutorial is aimed at running your project from a local Jupyter Notebook service in the same environment in which MLRun is installed and running.\n",
    "However, as a developer you might want to develop your project from a remote location using your own IDE (such as a local Jupyter Notebook or PyCharm), and connect to the MLRun environment remotely.\n",
    "To learn how to use MLRun from a remote IDE, see [Setting a Remote Environment](../howto/remote.md).\n",
    "```"
   ],
   "cell_type": "markdown",
   "metadata": {}
  },
  {
   "cell_type": "markdown",
   "metadata": {},
   "source": [
    "<a id=\"gs-tutorial-1-mlrun-intro\"></a>"
   ]
  },
  {
   "cell_type": "markdown",
   "metadata": {},
   "source": [
    "## Introduction to MLRun\n",
    "\n",
    "[MLRun](https://github.com/mlrun/mlrun) is an open-source MLOps framework that offers an integrative approach to managing your machine-learning pipelines from early development through model development to full pipeline deployment in production.\n",
    "MLRun offers a convenient abstraction layer to a wide variety of technology stacks while empowering data engineers and data scientists to define the feature and models.\n",
    "\n",
    "MLRun provides the following key benefits:\n",
    "\n",
    "- **Rapid deployment** of code to production pipelines\n",
    "- **Elastic scaling** of batch and real-time workloads\n",
    "- **Feature management** &mdash; ingestion, preparation, and monitoring\n",
    "- **Works anywhere** &mdash; your local IDE, multi-cloud, or on-prem\n",
    "\n",
    "MLRun can be installed over Kubernetes or is available as a managed service in the [Iguazio Data Science Platform](https://www.iguazio.com/).\n",
    "\n",
    "&#x25B6; For more information about MLRun, see the [**MLRun Architecture and Vision Page**](../architecture.md).\n"
   ]
  },
  {
   "cell_type": "markdown",
   "metadata": {},
   "source": [
    "<a id=\"gs-tutorial-1-step-setup\"></a>"
   ]
  },
  {
   "cell_type": "markdown",
   "metadata": {},
   "source": [
    "## Step 1: Installation and Setup\n",
    "\n",
    "For information on how to install and configure MLRun over Kubernetes, see the [Installation Guide](../install.md).\n",
    "To install the MLRun package, run `pip install mlrun` with the MLRun version that matches your MLRun service.\n",
    "\n",
    "```{admonition} For Iguazio Platform Users\n",
    "If your are using Iguazio, MLRun is available as a default (pre-deployed) shared service.<br>\n",
    "you can `!/User/align_mlrun.sh` to install the MLRun package or upgrade the version of an installed package.\n",
    "By default, the script attempts to download the latest version of the MLRun Python package that matches the version of the running MLRun service.\n",
    "```\n",
    "\n",
    "**After installing or updating the MLRun package, restart the notebook kernel in your environment !**"
   ]
  },
  {
   "cell_type": "markdown",
   "metadata": {},
   "source": [
    "<a id=\"gs-tutorial-1-mlrun-envr-init\"></a>"
   ]
  },
  {
   "cell_type": "markdown",
   "metadata": {},
   "source": [
    "### Initializing Your MLRun Environment"
   ]
  },
  {
   "cell_type": "markdown",
   "metadata": {},
   "source": [
    "MLRun projects are used for packaging multiple runs, functions, workflows, and artifacts.\n",
    "\n",
    "Projects are created when you run a task or save an object (such as a function or artifact) to a specific project.\n",
    "For more information about MLRun project, see the [MLRun documentation](../projects.md).\n",
    "\n",
    "Use the `set_environment` MLRun method to configure the working environment and default configuration. \n",
    "This method returns a tuple with the current project name and artifacts path.\n",
    "\n",
    "Set the method's `project` parameter to your selected project name.\n",
    "You can also optionally set the `user_project` parameter to `True` to automatically append the username of the running\n",
    "user to the project name specified in the `project` parameter, resulting in a `<project>-<username>` project name;\n",
    "this is useful for avoiding project-name conflicts among different users.\n",
    "\n",
    "You can optionally pass additional parameters to `set_environment`, as detailed in the MLRun API reference.\n",
    "For example:\n",
    "- You can set the `artifact_path` parameter to override the default path for storing project artifacts, as explained\n",
    "  in the [Artifact Documentation](../store/artifacts.md).\n",
    "- When using a remote MLRun or Kubernetes cluster, you can set the `api_path` parameter to the URL of your remote\n",
    "  environment, and set the `access_key` parameter to an authentication key for this environment."
   ]
  },
  {
   "cell_type": "markdown",
   "metadata": {},
   "source": [
    "Run the following code to initialize your MLRun environment to use a \"getting-started-tutorial-&lt;username&gt;\"\n",
    "project and store the project artifacts in the default artifacts path:"
   ]
  },
  {
   "cell_type": "code",
   "execution_count": 4,
   "metadata": {},
   "outputs": [
    {
     "name": "stdout",
     "output_type": "stream",
     "text": [
      "Project name: getting-started-tutorial-iguazio\n",
      "Artifacts path: /v3io/projects/{{run.project}}/artifacts\n"
     ]
    }
   ],
   "source": [
    "from os import path\n",
    "import mlrun\n",
    "\n",
    "# Set the base project name\n",
    "project_name_base = 'getting-started-tutorial'\n",
    "# Initialize the MLRun environment and save the project name and artifacts path\n",
    "project_name, artifact_path = mlrun.set_environment(project=project_name_base,\n",
    "                                                    user_project=True)\n",
    "                                                    \n",
    "# Display the current project name and artifacts path\n",
    "print(f'Project name: {project_name}')\n",
    "print(f'Artifacts path: {artifact_path}')"
   ]
  },
  {
   "cell_type": "markdown",
   "metadata": {},
   "source": [
    "<a id=\"gs-tutorial-1-step-create-basic-function\"></a>"
   ]
  },
  {
   "cell_type": "markdown",
   "metadata": {},
   "source": [
    "## Step 2: Creating a Basic Function\n",
    "\n",
    "This step introduces you to MLRun functions and artifacts and walks you through the process of converting a local function to an MLRun function."
   ]
  },
  {
   "cell_type": "markdown",
   "metadata": {},
   "source": [
    "<a id=\"gs-tutorial-1-define-local-func\"></a>"
   ]
  },
  {
   "cell_type": "markdown",
   "metadata": {},
   "source": [
    "### Defining a Local Function\n",
    "\n",
    "The following example code defines a data-preparation function (`prep_data`) that reads (ingests)\n",
    "a CSV file from the provided source URL into a pandas DataFrame; prepares (\"cleans\") the data by changing\n",
    "the type of the categorical data in the specified label column; and returns the DataFrame and its length.\n",
    "In the next sub-section you'll redefine this function and convert it to an MLRun function that leverages MLRun to perform the following tasks:\n",
    "\n",
    "- Reading the data\n",
    "- Logging the data to the MLRun database"
   ]
  },
  {
   "cell_type": "code",
   "execution_count": 5,
   "metadata": {},
   "outputs": [],
   "source": [
    "import pandas as pd\n",
    "\n",
    "# Ingest a data set\n",
    "def prep_data(source_url, label_column):\n",
    "\n",
    "    df = pd.read_csv(source_url)\n",
    "    df[label_column] = df[label_column].astype('category').cat.codes    \n",
    "    return df, df.shape[0]"
   ]
  },
  {
   "cell_type": "markdown",
   "metadata": {},
   "source": [
    "<a id=\"gs-tutorial-1-create-and-run-an-mlrun-function\"></a>"
   ]
  },
  {
   "cell_type": "markdown",
   "metadata": {},
   "source": [
    "### Creating and Running Your First MLRun Function \n"
   ]
  },
  {
   "cell_type": "markdown",
   "metadata": {},
   "source": [
    "#### MLRun Functions\n",
    "\n",
    "MLRun jobs and pipelines run over Serverless Functions, the functions allow specifying code and\n",
    "all the operational aspects (image, required packages, cpu/mem/gpu resources, storage, environment, etc.),\n",
    "the different serverless runtime engines take care of automatically transforming the code and spec to fully\n",
    "managed and elastic services over Kubernetes.\n",
    "Functions are versioned and can be generated from code, notebooks or loaded from a marketplace."
   ]
  },
  {
   "source": [
    "To work with functions you need to be familiar with the following function components:\n",
    "\n",
    "- **Context** &mdash; the code can be set up to get parameters, secrets and inputs from the context, as well as log run outputs, artifacts, tags, and metrics in the context.\n",
    "- **Parameters** &mdash; the parameters (arguments) that are passed to the functions.\n",
    "- **Inputs** &mdash; MLRun functions have a special `inputs` parameter for passing data objects (such as data sets, models, or files) as input to a function.\n",
    "    Use this parameter to pass data items to a function. An MLRun **data item** (`DataItem`) represents either a single data item or a collection of data times (such as files, directories, and tables) for any type of data that is produced or consumed by functions or jobs. MLRun **artifacts** are versioned, and contains metadata which describes one or more data items.\n",
    "\n",
    "For more information see: \n",
    "- [Functions, Runs, and Context](../runtimes/functions.md)\n",
    "- [Data Items](../store/datastore.md)\n",
    "- [Artifacts](../store/artifacts.md)"
   ],
   "cell_type": "markdown",
   "metadata": {}
  },
  {
   "source": [
    "#### MLRun Function Code\n",
    "\n",
    "The following code demonstrates how to redefine your local data-preparation function to make it compatible with MLRun,\n",
    "and then convert the local notebook code into an MLRun function."
   ],
   "cell_type": "markdown",
   "metadata": {}
  },
  {
   "cell_type": "code",
   "execution_count": 6,
   "metadata": {},
   "outputs": [],
   "source": [
    "# nuclio: start-code"
   ]
  },
  {
   "cell_type": "code",
   "execution_count": 7,
   "metadata": {},
   "outputs": [],
   "source": [
    "import mlrun\n",
    "def prep_data(context, source_url: mlrun.DataItem, label_column='label'):\n",
    "\n",
    "    # Convert the DataItem to a pandas DataFrame\n",
    "    df = source_url.as_df()\n",
    "    df[label_column] = df[label_column].astype('category').cat.codes    \n",
    "    \n",
    "    # Record the DataFrane length after the run\n",
    "    context.log_result('num_rows', df.shape[0])\n",
    "\n",
    "    # Store the data set in your artifacts database\n",
    "    context.log_dataset('cleaned_data', df=df, index=False, format='csv')"
   ]
  },
  {
   "cell_type": "code",
   "execution_count": 8,
   "metadata": {},
   "outputs": [],
   "source": [
    "# nuclio: end-code"
   ]
  },
  {
   "source": [
    "Function parameters:\n",
    "\n",
    "- To effectively run your code in MLRun, you need to add a `context` parameter to your function\n",
    "(or alternatively get the context using {py:func}`~mlrun.run.get_or_create_ctx`).\n",
    "    This allows you to log and retrieve information related to the function's execution.\n",
    "- The tutorial example sets the `source_url` parameter to `mlrun.DataItem` type in order to send a data item as\n",
    "  input when the function is called (using the `inputs` parameter).\n",
    "\n",
    "The tutorial example code works as follows:\n",
    "\n",
    "- Obtain a pandas DataFrame from the The source_url `DataItem`, by calling the `as_df` method.\n",
    "- Prepare (clean) the data, as done in the local-function implementation in the previous step\n",
    "- Record the data length (number of rows) using the `log_result` method. `log_result` records (logs) the values of standard function variables (int, float, string, list, etc.)\n",
    "- Log the data-set artifact using the `log_dataset` method. `log_dataset` saves and logs function data items and related metadata (i.e., logs function artifacts)."
   ],
   "cell_type": "markdown",
   "metadata": {}
  },
  {
   "cell_type": "markdown",
   "metadata": {},
   "source": [
    "#### Converting the Notebook Code to a Function\n",
    "\n",
    "To identify the code that needs to be converted into an MLRun function using the `nuclio-jupyter` parser, we placed the code in `# nuclio: ...` comment annotations at the beginning of relevant code cells.\n",
    "These annotations provide non-intrusive hints as to how you want to convert the notebook into a full function and function specification.\n",
    "\n",
    "- The `# nuclio: ignore` annotation identifies code that shouldn't be included in the MLRun function (such as prints, plots, tests, and debug code).\n",
    "- The `# nuclio: start-code` and `# nuclio: end-code` annotations identify code to be converted to an MLRun function: everything before the `start-code` annotation and after the `end-code` annotation is ignored, and only code between these two annotations is converted.\n",
    "    These annotations are used in the tutorial notebook instead of adding the `ignore` annotation to all cells that shouldn't be converted.    \n",
    "    > **Note:** You can use the `nuclio: start-code` and `nuclio: end-code` annotations only once in a notebook.\n",
    "    > If there are multiple uses, only the first use will be selected.\n",
    "\n",
    "For more information about using the annotations and magic commands, see the [`nuclio-jupyter` documentation](https://github.com/nuclio/nuclio-jupyter#controlling-function-code-and-configuration).\n",
    "\n",
    "```{note}\n",
    "Don't confuse the `# nuclio ` annotations with the Nuclio serverless runtime,\n",
    "MLRun leverages Nuclio jupyter notebook parser across all the runtimes.\n",
    "```\n",
    "\n",
    "The following code uses the `code_to_function` MLRun method to convert your local `prep_data` function code to a `data_prep_func` MLRun function.\n",
    "\n",
    "The `kind` parameter of the `code_to_function` method determines the engine for running the code.\n",
    "MLRun allows running function code using different engines &mdash; such as Python, Spark, MPI, Nuclio, and Dask.\n",
    "The following example sets the `kind` parameter to `job` to run the code as a Python process (\"job\")."
   ]
  },
  {
   "cell_type": "code",
   "execution_count": 9,
   "metadata": {},
   "outputs": [],
   "source": [
    "# Convert the local prep_data function to an MLRun project function\n",
    "data_prep_func = mlrun.code_to_function(name='prep_data', kind='job', image='mlrun/ml-models')"
   ]
  },
  {
   "cell_type": "markdown",
   "metadata": {},
   "source": [
    "<a id=\"gs-tutorial-1-run-mlrun-function-locally\"></a>"
   ]
  },
  {
   "cell_type": "markdown",
   "metadata": {},
   "source": [
    "#### Running the MLRun Function Locally\n",
    "\n",
    "Now you're ready to run your MLRun function (`data_prep_func`).\n",
    "The following example uses the `run` MLRun method and sets its `local` parameter to `True` to run the function code locally within your Jupyter pod, meaning that the function uses the environment variables, volumes, and image that are running in this pod.\n",
    "> **Note:** When running a function locally, the function code is saved only in a temporary local directory and not in your project's ML functions code repository.\n",
    "> In the next step of this tutorial you'll run the function on a cluster, which automatically saves the function object in the project.\n",
    "\n",
    "The execution results are stored in the MLRun database.\n",
    "The tutorial example sets the following function parameters:\n",
    "\n",
    "- `name` &mdash; the job name\n",
    "- `handler` &mdash; the name of the function handler\n",
    "- `input` &mdash; the data-set URL"
   ]
  },
  {
   "cell_type": "markdown",
   "metadata": {},
   "source": [
    "As input, use a CSV file from a cloud object-store service named wasabisys:\n",
    "\n",
    "> **Note:** You can also use the function to ingest data in other formats than CSV, such as Parquet, without modifying the code."
   ]
  },
  {
   "cell_type": "code",
   "execution_count": 10,
   "metadata": {},
   "outputs": [],
   "source": [
    "# Set the source-data URL\n",
    "source_url = 'https://s3.wasabisys.com/iguazio/data/iris/iris.data.raw.csv'"
   ]
  },
  {
   "cell_type": "code",
   "execution_count": 11,
   "metadata": {},
   "outputs": [
    {
     "name": "stdout",
     "output_type": "stream",
     "text": [
      "> 2021-01-25 08:29:50,130 [info] starting run prep_data uid=7bb634808a4141b58610bf0c5b7c6c70 DB=http://mlrun-api:8080\n"
     ]
    },
    {
     "data": {
      "text/html": [
       "<style>\n",
       ".dictlist {\n",
       "  background-color: #4EC64B;\n",
       "  text-align: center;\n",
       "  margin: 4px;\n",
       "  border-radius: 3px; padding: 0px 3px 1px 3px; display: inline-block;}\n",
       ".artifact {\n",
       "  cursor: pointer;\n",
       "  background-color: #4EC64B;\n",
       "  text-align: left;\n",
       "  margin: 4px; border-radius: 3px; padding: 0px 3px 1px 3px; display: inline-block;\n",
       "}\n",
       "div.block.hidden {\n",
       "  display: none;\n",
       "}\n",
       ".clickable {\n",
       "  cursor: pointer;\n",
       "}\n",
       ".ellipsis {\n",
       "  display: inline-block;\n",
       "  max-width: 60px;\n",
       "  white-space: nowrap;\n",
       "  overflow: hidden;\n",
       "  text-overflow: ellipsis;\n",
       "}\n",
       ".master-wrapper {\n",
       "  display: flex;\n",
       "  flex-flow: row nowrap;\n",
       "  justify-content: flex-start;\n",
       "  align-items: stretch;\n",
       "}\n",
       ".master-tbl {\n",
       "  flex: 3\n",
       "}\n",
       ".master-wrapper > div {\n",
       "  margin: 4px;\n",
       "  padding: 10px;\n",
       "}\n",
       "iframe.fileview {\n",
       "  border: 0 none;\n",
       "  height: 100%;\n",
       "  width: 100%;\n",
       "  white-space: pre-wrap;\n",
       "}\n",
       ".pane-header-title {\n",
       "  width: 80%;\n",
       "  font-weight: 500;\n",
       "}\n",
       ".pane-header {\n",
       "  line-height: 1;\n",
       "  background-color: #4EC64B;\n",
       "  padding: 3px;\n",
       "}\n",
       ".pane-header .close {\n",
       "  font-size: 20px;\n",
       "  font-weight: 700;\n",
       "  float: right;\n",
       "  margin-top: -5px;\n",
       "}\n",
       ".master-wrapper .right-pane {\n",
       "  border: 1px inset silver;\n",
       "  width: 40%;\n",
       "  min-height: 300px;\n",
       "  flex: 3\n",
       "  min-width: 500px;\n",
       "}\n",
       ".master-wrapper * {\n",
       "  box-sizing: border-box;\n",
       "}\n",
       "</style><script>\n",
       "function copyToClipboard(fld) {\n",
       "    if (document.queryCommandSupported && document.queryCommandSupported('copy')) {\n",
       "        var textarea = document.createElement('textarea');\n",
       "        textarea.textContent = fld.innerHTML;\n",
       "        textarea.style.position = 'fixed';\n",
       "        document.body.appendChild(textarea);\n",
       "        textarea.select();\n",
       "\n",
       "        try {\n",
       "            return document.execCommand('copy'); // Security exception may be thrown by some browsers.\n",
       "        } catch (ex) {\n",
       "\n",
       "        } finally {\n",
       "            document.body.removeChild(textarea);\n",
       "        }\n",
       "    }\n",
       "}\n",
       "function expandPanel(el) {\n",
       "  const panelName = \"#\" + el.getAttribute('paneName');\n",
       "  console.log(el.title);\n",
       "\n",
       "  document.querySelector(panelName + \"-title\").innerHTML = el.title\n",
       "  iframe = document.querySelector(panelName + \"-body\");\n",
       "\n",
       "  const tblcss = `<style> body { font-family: Arial, Helvetica, sans-serif;}\n",
       "    #csv { margin-bottom: 15px; }\n",
       "    #csv table { border-collapse: collapse;}\n",
       "    #csv table td { padding: 4px 8px; border: 1px solid silver;} </style>`;\n",
       "\n",
       "  function csvToHtmlTable(str) {\n",
       "    return '<div id=\"csv\"><table><tr><td>' +  str.replace(/[\\n\\r]+$/g, '').replace(/[\\n\\r]+/g, '</td></tr><tr><td>')\n",
       "      .replace(/,/g, '</td><td>') + '</td></tr></table></div>';\n",
       "  }\n",
       "\n",
       "  function reqListener () {\n",
       "    if (el.title.endsWith(\".csv\")) {\n",
       "      iframe.setAttribute(\"srcdoc\", tblcss + csvToHtmlTable(this.responseText));\n",
       "    } else {\n",
       "      iframe.setAttribute(\"srcdoc\", this.responseText);\n",
       "    }\n",
       "    console.log(this.responseText);\n",
       "  }\n",
       "\n",
       "  const oReq = new XMLHttpRequest();\n",
       "  oReq.addEventListener(\"load\", reqListener);\n",
       "  oReq.open(\"GET\", el.title);\n",
       "  oReq.send();\n",
       "\n",
       "\n",
       "  //iframe.src = el.title;\n",
       "  const resultPane = document.querySelector(panelName + \"-pane\");\n",
       "  if (resultPane.classList.contains(\"hidden\")) {\n",
       "    resultPane.classList.remove(\"hidden\");\n",
       "  }\n",
       "}\n",
       "function closePanel(el) {\n",
       "  const panelName = \"#\" + el.getAttribute('paneName')\n",
       "  const resultPane = document.querySelector(panelName + \"-pane\");\n",
       "  if (!resultPane.classList.contains(\"hidden\")) {\n",
       "    resultPane.classList.add(\"hidden\");\n",
       "  }\n",
       "}\n",
       "\n",
       "</script>\n",
       "<div class=\"master-wrapper\">\n",
       "  <div class=\"block master-tbl\"><div>\n",
       "<style scoped>\n",
       "    .dataframe tbody tr th:only-of-type {\n",
       "        vertical-align: middle;\n",
       "    }\n",
       "\n",
       "    .dataframe tbody tr th {\n",
       "        vertical-align: top;\n",
       "    }\n",
       "\n",
       "    .dataframe thead th {\n",
       "        text-align: right;\n",
       "    }\n",
       "</style>\n",
       "<table border=\"1\" class=\"dataframe\">\n",
       "  <thead>\n",
       "    <tr style=\"text-align: right;\">\n",
       "      <th>project</th>\n",
       "      <th>uid</th>\n",
       "      <th>iter</th>\n",
       "      <th>start</th>\n",
       "      <th>state</th>\n",
       "      <th>name</th>\n",
       "      <th>labels</th>\n",
       "      <th>inputs</th>\n",
       "      <th>parameters</th>\n",
       "      <th>results</th>\n",
       "      <th>artifacts</th>\n",
       "    </tr>\n",
       "  </thead>\n",
       "  <tbody>\n",
       "    <tr>\n",
       "      <td>getting-started-tutorial-iguazio</td>\n",
       "      <td><div title=\"7bb634808a4141b58610bf0c5b7c6c70\"><a href=\"https://mlrun-ui.default-tenant.app.aefccdjffbit.iguazio-cd0.com/projects/getting-started-tutorial-iguazio/jobs/monitor/7bb634808a4141b58610bf0c5b7c6c70/info\" target=\"_blank\" >...5b7c6c70</a></div></td>\n",
       "      <td>0</td>\n",
       "      <td>Jan 25 08:29:50</td>\n",
       "      <td>completed</td>\n",
       "      <td>prep_data</td>\n",
       "      <td><div class=\"dictlist\">v3io_user=iguazio</div><div class=\"dictlist\">kind=</div><div class=\"dictlist\">owner=iguazio</div><div class=\"dictlist\">host=jupyter-iguazio-d676cf5f-f6g2k</div></td>\n",
       "      <td><div title=\"https://s3.wasabisys.com/iguazio/data/iris/iris.data.raw.csv\">source_url</div></td>\n",
       "      <td></td>\n",
       "      <td><div class=\"dictlist\">num_rows=150</div></td>\n",
       "      <td><div title=\"/v3io/projects/getting-started-tutorial-iguazio/artifacts/cleaned_data.csv\">cleaned_data</div></td>\n",
       "    </tr>\n",
       "  </tbody>\n",
       "</table>\n",
       "</div></div>\n",
       "  <div id=\"resultff90566a-pane\" class=\"right-pane block hidden\">\n",
       "    <div class=\"pane-header\">\n",
       "      <span id=\"resultff90566a-title\" class=\"pane-header-title\">Title</span>\n",
       "      <span onclick=\"closePanel(this)\" paneName=\"resultff90566a\" class=\"close clickable\">&times;</span>\n",
       "    </div>\n",
       "    <iframe class=\"fileview\" id=\"resultff90566a-body\"></iframe>\n",
       "  </div>\n",
       "</div>\n"
      ],
      "text/plain": [
       "<IPython.core.display.HTML object>"
      ]
     },
     "metadata": {},
     "output_type": "display_data"
    },
    {
     "name": "stdout",
     "output_type": "stream",
     "text": [
      "to track results use .show() or .logs() or in CLI: \n",
      "!mlrun get run 7bb634808a4141b58610bf0c5b7c6c70 --project getting-started-tutorial-iguazio , !mlrun logs 7bb634808a4141b58610bf0c5b7c6c70 --project getting-started-tutorial-iguazio\n",
      "> 2021-01-25 08:29:50,657 [info] run executed, status=completed\n"
     ]
    }
   ],
   "source": [
    "# Run the `data_prep_func` MLRun function locally\n",
    "prep_data_run = data_prep_func.run(name='prep_data',\n",
    "                                   handler=prep_data,\n",
    "                                   inputs={'source_url': source_url},\n",
    "                                   local=True)"
   ]
  },
  {
   "cell_type": "markdown",
   "metadata": {},
   "source": [
    "<a id=\"gs-tutorial-1-get-run-object-info\"></a>"
   ]
  },
  {
   "cell_type": "markdown",
   "metadata": {},
   "source": [
    "### Getting Information About the Run Object\n",
    "\n",
    "Every run object that's returned by the MLRun `run` method has the following methods:\n",
    "\n",
    "- `uid` &mdash; returns the unique ID.\n",
    "- `state` &mdash; returns the last known state.\n",
    "- `show` &mdash; shows the latest job state and data in a visual widget (with hyperlinks and hints).\n",
    "- `outputs` &mdash; returns a dictionary of the run results and artifact paths.\n",
    "- `logs` &mdash; returns the latest logs.\n",
    "    Use `Watch=False` to disable the interactive mode in running jobs.\n",
    "- `artifact` &mdash; returns full artifact details for the provided key.\n",
    "- `output` &mdash; returns a specific result or an artifact path for the provided key.\n",
    "- `to_dict`, `to_yaml`, `to_json` &mdash; converts the run object to a dictionary, YAML, or JSON format (respectively)."
   ]
  },
  {
   "cell_type": "code",
   "execution_count": 12,
   "metadata": {},
   "outputs": [
    {
     "data": {
      "text/plain": [
       "'completed'"
      ]
     },
     "execution_count": 12,
     "metadata": {},
     "output_type": "execute_result"
    }
   ],
   "source": [
    "# example\n",
    "prep_data_run.state()"
   ]
  },
  {
   "cell_type": "code",
   "execution_count": 13,
   "metadata": {},
   "outputs": [
    {
     "data": {
      "text/plain": [
       "'store://artifacts/getting-started-tutorial-iguazio/prep_data_cleaned_data:7bb634808a4141b58610bf0c5b7c6c70'"
      ]
     },
     "execution_count": 13,
     "metadata": {},
     "output_type": "execute_result"
    }
   ],
   "source": [
    "prep_data_run.outputs['cleaned_data']"
   ]
  },
  {
   "cell_type": "markdown",
   "metadata": {},
   "source": [
    "<a id=\"gs-tutorial-1-read-output\"></a>"
   ]
  },
  {
   "cell_type": "markdown",
   "metadata": {},
   "source": [
    "### Reading the Output\n",
    "\n",
    "The data-set location is returned in the `outputs` field.\n",
    "Therefore, you can get the location by calling `prep_data_run.outputs['cleaned_data']` and using `run.get_dataitem` to get the data set itself."
   ]
  },
  {
   "cell_type": "code",
   "execution_count": 14,
   "metadata": {},
   "outputs": [],
   "source": [
    "dataset = mlrun.run.get_dataitem(prep_data_run.outputs['cleaned_data'])"
   ]
  },
  {
   "cell_type": "markdown",
   "metadata": {},
   "source": [
    "You can also get the data as a pandas DataFrame by calling the `dataset.as_df` method:"
   ]
  },
  {
   "cell_type": "code",
   "execution_count": 15,
   "metadata": {},
   "outputs": [
    {
     "data": {
      "text/html": [
       "<div>\n",
       "<style scoped>\n",
       "    .dataframe tbody tr th:only-of-type {\n",
       "        vertical-align: middle;\n",
       "    }\n",
       "\n",
       "    .dataframe tbody tr th {\n",
       "        vertical-align: top;\n",
       "    }\n",
       "\n",
       "    .dataframe thead th {\n",
       "        text-align: right;\n",
       "    }\n",
       "</style>\n",
       "<table border=\"1\" class=\"dataframe\">\n",
       "  <thead>\n",
       "    <tr style=\"text-align: right;\">\n",
       "      <th></th>\n",
       "      <th>sepal length (cm)</th>\n",
       "      <th>sepal width (cm)</th>\n",
       "      <th>petal length (cm)</th>\n",
       "      <th>petal width (cm)</th>\n",
       "      <th>label</th>\n",
       "    </tr>\n",
       "  </thead>\n",
       "  <tbody>\n",
       "    <tr>\n",
       "      <th>0</th>\n",
       "      <td>5.1</td>\n",
       "      <td>3.5</td>\n",
       "      <td>1.4</td>\n",
       "      <td>0.2</td>\n",
       "      <td>0</td>\n",
       "    </tr>\n",
       "    <tr>\n",
       "      <th>1</th>\n",
       "      <td>4.9</td>\n",
       "      <td>3.0</td>\n",
       "      <td>1.4</td>\n",
       "      <td>0.2</td>\n",
       "      <td>0</td>\n",
       "    </tr>\n",
       "    <tr>\n",
       "      <th>2</th>\n",
       "      <td>4.7</td>\n",
       "      <td>3.2</td>\n",
       "      <td>1.3</td>\n",
       "      <td>0.2</td>\n",
       "      <td>0</td>\n",
       "    </tr>\n",
       "    <tr>\n",
       "      <th>3</th>\n",
       "      <td>4.6</td>\n",
       "      <td>3.1</td>\n",
       "      <td>1.5</td>\n",
       "      <td>0.2</td>\n",
       "      <td>0</td>\n",
       "    </tr>\n",
       "    <tr>\n",
       "      <th>4</th>\n",
       "      <td>5.0</td>\n",
       "      <td>3.6</td>\n",
       "      <td>1.4</td>\n",
       "      <td>0.2</td>\n",
       "      <td>0</td>\n",
       "    </tr>\n",
       "    <tr>\n",
       "      <th>...</th>\n",
       "      <td>...</td>\n",
       "      <td>...</td>\n",
       "      <td>...</td>\n",
       "      <td>...</td>\n",
       "      <td>...</td>\n",
       "    </tr>\n",
       "    <tr>\n",
       "      <th>145</th>\n",
       "      <td>6.7</td>\n",
       "      <td>3.0</td>\n",
       "      <td>5.2</td>\n",
       "      <td>2.3</td>\n",
       "      <td>2</td>\n",
       "    </tr>\n",
       "    <tr>\n",
       "      <th>146</th>\n",
       "      <td>6.3</td>\n",
       "      <td>2.5</td>\n",
       "      <td>5.0</td>\n",
       "      <td>1.9</td>\n",
       "      <td>2</td>\n",
       "    </tr>\n",
       "    <tr>\n",
       "      <th>147</th>\n",
       "      <td>6.5</td>\n",
       "      <td>3.0</td>\n",
       "      <td>5.2</td>\n",
       "      <td>2.0</td>\n",
       "      <td>2</td>\n",
       "    </tr>\n",
       "    <tr>\n",
       "      <th>148</th>\n",
       "      <td>6.2</td>\n",
       "      <td>3.4</td>\n",
       "      <td>5.4</td>\n",
       "      <td>2.3</td>\n",
       "      <td>2</td>\n",
       "    </tr>\n",
       "    <tr>\n",
       "      <th>149</th>\n",
       "      <td>5.9</td>\n",
       "      <td>3.0</td>\n",
       "      <td>5.1</td>\n",
       "      <td>1.8</td>\n",
       "      <td>2</td>\n",
       "    </tr>\n",
       "  </tbody>\n",
       "</table>\n",
       "<p>150 rows × 5 columns</p>\n",
       "</div>"
      ],
      "text/plain": [
       "     sepal length (cm)  sepal width (cm)  petal length (cm)  petal width (cm)  \\\n",
       "0                  5.1               3.5                1.4               0.2   \n",
       "1                  4.9               3.0                1.4               0.2   \n",
       "2                  4.7               3.2                1.3               0.2   \n",
       "3                  4.6               3.1                1.5               0.2   \n",
       "4                  5.0               3.6                1.4               0.2   \n",
       "..                 ...               ...                ...               ...   \n",
       "145                6.7               3.0                5.2               2.3   \n",
       "146                6.3               2.5                5.0               1.9   \n",
       "147                6.5               3.0                5.2               2.0   \n",
       "148                6.2               3.4                5.4               2.3   \n",
       "149                5.9               3.0                5.1               1.8   \n",
       "\n",
       "     label  \n",
       "0        0  \n",
       "1        0  \n",
       "2        0  \n",
       "3        0  \n",
       "4        0  \n",
       "..     ...  \n",
       "145      2  \n",
       "146      2  \n",
       "147      2  \n",
       "148      2  \n",
       "149      2  \n",
       "\n",
       "[150 rows x 5 columns]"
      ]
     },
     "execution_count": 15,
     "metadata": {},
     "output_type": "execute_result"
    }
   ],
   "source": [
    "dataset.as_df()"
   ]
  },
  {
   "cell_type": "markdown",
   "metadata": {},
   "source": [
    "<a id=\"gs-tutorial-1-save-artifcats-in-run-specific-paths\"></a>"
   ]
  },
  {
   "cell_type": "markdown",
   "metadata": {},
   "source": [
    "### Saving the Artifacts in Run-Specific Paths\n",
    "\n",
    "In the previous steps, each time the function was executed its artifacts were saved to the same directory, overwriting the existing artifacts in this directory.\n",
    "But you can also select to save the run results (source-data file) to a different directory for each job execution.\n",
    "This is done by setting the artifacts path and using the unique run-ID parameter (`{{run.uid}}`) in the path.\n",
    "Now, under the artifact path you should be able to see the source-data file in a new directory whose name is derived from the unique run ID."
   ]
  },
  {
   "cell_type": "code",
   "execution_count": 16,
   "metadata": {},
   "outputs": [
    {
     "name": "stdout",
     "output_type": "stream",
     "text": [
      "> 2021-01-25 08:29:50,739 [info] starting run prep_data uid=e545e9989ab641fdb1da6f10a308f2a9 DB=http://mlrun-api:8080\n"
     ]
    },
    {
     "data": {
      "text/html": [
       "<style>\n",
       ".dictlist {\n",
       "  background-color: #4EC64B;\n",
       "  text-align: center;\n",
       "  margin: 4px;\n",
       "  border-radius: 3px; padding: 0px 3px 1px 3px; display: inline-block;}\n",
       ".artifact {\n",
       "  cursor: pointer;\n",
       "  background-color: #4EC64B;\n",
       "  text-align: left;\n",
       "  margin: 4px; border-radius: 3px; padding: 0px 3px 1px 3px; display: inline-block;\n",
       "}\n",
       "div.block.hidden {\n",
       "  display: none;\n",
       "}\n",
       ".clickable {\n",
       "  cursor: pointer;\n",
       "}\n",
       ".ellipsis {\n",
       "  display: inline-block;\n",
       "  max-width: 60px;\n",
       "  white-space: nowrap;\n",
       "  overflow: hidden;\n",
       "  text-overflow: ellipsis;\n",
       "}\n",
       ".master-wrapper {\n",
       "  display: flex;\n",
       "  flex-flow: row nowrap;\n",
       "  justify-content: flex-start;\n",
       "  align-items: stretch;\n",
       "}\n",
       ".master-tbl {\n",
       "  flex: 3\n",
       "}\n",
       ".master-wrapper > div {\n",
       "  margin: 4px;\n",
       "  padding: 10px;\n",
       "}\n",
       "iframe.fileview {\n",
       "  border: 0 none;\n",
       "  height: 100%;\n",
       "  width: 100%;\n",
       "  white-space: pre-wrap;\n",
       "}\n",
       ".pane-header-title {\n",
       "  width: 80%;\n",
       "  font-weight: 500;\n",
       "}\n",
       ".pane-header {\n",
       "  line-height: 1;\n",
       "  background-color: #4EC64B;\n",
       "  padding: 3px;\n",
       "}\n",
       ".pane-header .close {\n",
       "  font-size: 20px;\n",
       "  font-weight: 700;\n",
       "  float: right;\n",
       "  margin-top: -5px;\n",
       "}\n",
       ".master-wrapper .right-pane {\n",
       "  border: 1px inset silver;\n",
       "  width: 40%;\n",
       "  min-height: 300px;\n",
       "  flex: 3\n",
       "  min-width: 500px;\n",
       "}\n",
       ".master-wrapper * {\n",
       "  box-sizing: border-box;\n",
       "}\n",
       "</style><script>\n",
       "function copyToClipboard(fld) {\n",
       "    if (document.queryCommandSupported && document.queryCommandSupported('copy')) {\n",
       "        var textarea = document.createElement('textarea');\n",
       "        textarea.textContent = fld.innerHTML;\n",
       "        textarea.style.position = 'fixed';\n",
       "        document.body.appendChild(textarea);\n",
       "        textarea.select();\n",
       "\n",
       "        try {\n",
       "            return document.execCommand('copy'); // Security exception may be thrown by some browsers.\n",
       "        } catch (ex) {\n",
       "\n",
       "        } finally {\n",
       "            document.body.removeChild(textarea);\n",
       "        }\n",
       "    }\n",
       "}\n",
       "function expandPanel(el) {\n",
       "  const panelName = \"#\" + el.getAttribute('paneName');\n",
       "  console.log(el.title);\n",
       "\n",
       "  document.querySelector(panelName + \"-title\").innerHTML = el.title\n",
       "  iframe = document.querySelector(panelName + \"-body\");\n",
       "\n",
       "  const tblcss = `<style> body { font-family: Arial, Helvetica, sans-serif;}\n",
       "    #csv { margin-bottom: 15px; }\n",
       "    #csv table { border-collapse: collapse;}\n",
       "    #csv table td { padding: 4px 8px; border: 1px solid silver;} </style>`;\n",
       "\n",
       "  function csvToHtmlTable(str) {\n",
       "    return '<div id=\"csv\"><table><tr><td>' +  str.replace(/[\\n\\r]+$/g, '').replace(/[\\n\\r]+/g, '</td></tr><tr><td>')\n",
       "      .replace(/,/g, '</td><td>') + '</td></tr></table></div>';\n",
       "  }\n",
       "\n",
       "  function reqListener () {\n",
       "    if (el.title.endsWith(\".csv\")) {\n",
       "      iframe.setAttribute(\"srcdoc\", tblcss + csvToHtmlTable(this.responseText));\n",
       "    } else {\n",
       "      iframe.setAttribute(\"srcdoc\", this.responseText);\n",
       "    }\n",
       "    console.log(this.responseText);\n",
       "  }\n",
       "\n",
       "  const oReq = new XMLHttpRequest();\n",
       "  oReq.addEventListener(\"load\", reqListener);\n",
       "  oReq.open(\"GET\", el.title);\n",
       "  oReq.send();\n",
       "\n",
       "\n",
       "  //iframe.src = el.title;\n",
       "  const resultPane = document.querySelector(panelName + \"-pane\");\n",
       "  if (resultPane.classList.contains(\"hidden\")) {\n",
       "    resultPane.classList.remove(\"hidden\");\n",
       "  }\n",
       "}\n",
       "function closePanel(el) {\n",
       "  const panelName = \"#\" + el.getAttribute('paneName')\n",
       "  const resultPane = document.querySelector(panelName + \"-pane\");\n",
       "  if (!resultPane.classList.contains(\"hidden\")) {\n",
       "    resultPane.classList.add(\"hidden\");\n",
       "  }\n",
       "}\n",
       "\n",
       "</script>\n",
       "<div class=\"master-wrapper\">\n",
       "  <div class=\"block master-tbl\"><div>\n",
       "<style scoped>\n",
       "    .dataframe tbody tr th:only-of-type {\n",
       "        vertical-align: middle;\n",
       "    }\n",
       "\n",
       "    .dataframe tbody tr th {\n",
       "        vertical-align: top;\n",
       "    }\n",
       "\n",
       "    .dataframe thead th {\n",
       "        text-align: right;\n",
       "    }\n",
       "</style>\n",
       "<table border=\"1\" class=\"dataframe\">\n",
       "  <thead>\n",
       "    <tr style=\"text-align: right;\">\n",
       "      <th>project</th>\n",
       "      <th>uid</th>\n",
       "      <th>iter</th>\n",
       "      <th>start</th>\n",
       "      <th>state</th>\n",
       "      <th>name</th>\n",
       "      <th>labels</th>\n",
       "      <th>inputs</th>\n",
       "      <th>parameters</th>\n",
       "      <th>results</th>\n",
       "      <th>artifacts</th>\n",
       "    </tr>\n",
       "  </thead>\n",
       "  <tbody>\n",
       "    <tr>\n",
       "      <td>getting-started-tutorial-iguazio</td>\n",
       "      <td><div title=\"e545e9989ab641fdb1da6f10a308f2a9\"><a href=\"https://mlrun-ui.default-tenant.app.aefccdjffbit.iguazio-cd0.com/projects/getting-started-tutorial-iguazio/jobs/monitor/e545e9989ab641fdb1da6f10a308f2a9/info\" target=\"_blank\" >...a308f2a9</a></div></td>\n",
       "      <td>0</td>\n",
       "      <td>Jan 25 08:29:50</td>\n",
       "      <td>completed</td>\n",
       "      <td>prep_data</td>\n",
       "      <td><div class=\"dictlist\">v3io_user=iguazio</div><div class=\"dictlist\">kind=</div><div class=\"dictlist\">owner=iguazio</div><div class=\"dictlist\">host=jupyter-iguazio-d676cf5f-f6g2k</div></td>\n",
       "      <td><div title=\"https://s3.wasabisys.com/iguazio/data/iris/iris.data.raw.csv\">source_url</div></td>\n",
       "      <td></td>\n",
       "      <td><div class=\"dictlist\">num_rows=150</div></td>\n",
       "      <td><div title=\"/v3io/projects/getting-started-tutorial-iguazio/artifacts/e545e9989ab641fdb1da6f10a308f2a9/cleaned_data.csv\">cleaned_data</div></td>\n",
       "    </tr>\n",
       "  </tbody>\n",
       "</table>\n",
       "</div></div>\n",
       "  <div id=\"result450eda42-pane\" class=\"right-pane block hidden\">\n",
       "    <div class=\"pane-header\">\n",
       "      <span id=\"result450eda42-title\" class=\"pane-header-title\">Title</span>\n",
       "      <span onclick=\"closePanel(this)\" paneName=\"result450eda42\" class=\"close clickable\">&times;</span>\n",
       "    </div>\n",
       "    <iframe class=\"fileview\" id=\"result450eda42-body\"></iframe>\n",
       "  </div>\n",
       "</div>\n"
      ],
      "text/plain": [
       "<IPython.core.display.HTML object>"
      ]
     },
     "metadata": {},
     "output_type": "display_data"
    },
    {
     "name": "stdout",
     "output_type": "stream",
     "text": [
      "to track results use .show() or .logs() or in CLI: \n",
      "!mlrun get run e545e9989ab641fdb1da6f10a308f2a9 --project getting-started-tutorial-iguazio , !mlrun logs e545e9989ab641fdb1da6f10a308f2a9 --project getting-started-tutorial-iguazio\n",
      "> 2021-01-25 08:29:51,054 [info] run executed, status=completed\n"
     ]
    }
   ],
   "source": [
    "out = artifact_path \n",
    "\n",
    "prep_data_run = data_prep_func.run(name='prep_data',\n",
    "                         handler=prep_data,\n",
    "                         inputs={'source_url': source_url},\n",
    "                         local=True,\n",
    "                         artifact_path=path.join(out, '{{run.uid}}'))"
   ]
  },
  {
   "cell_type": "markdown",
   "metadata": {},
   "source": [
    "<a id=\"gs-tutorial-1-step-run-func-on-cluster\"></a>"
   ]
  },
  {
   "cell_type": "markdown",
   "metadata": {},
   "source": [
    "## Step 3: Running the Function on a Cluster\n",
    "\n",
    "You can also run MLRun functions on the cluster itself, as opposed to running them locally in the Jupyter pod, as done in the previous steps.\n",
    "Running a function on the cluster allows you to leverage the cluster's resources and run a more resource-intensive workloads.\n",
    "MLRun helps you to easily run your code without the hassle of creating configuration files and build images.\n",
    "To run an MLRun function on a cluster, just change the value of the `local` flag in the call to the `run` method to `False`."
   ]
  },
  {
   "cell_type": "code",
   "execution_count": 17,
   "metadata": {},
   "outputs": [],
   "source": [
    "from mlrun.platforms import auto_mount"
   ]
  },
  {
   "cell_type": "code",
   "execution_count": 18,
   "metadata": {},
   "outputs": [
    {
     "name": "stdout",
     "output_type": "stream",
     "text": [
      "> 2021-01-25 08:29:51,071 [info] starting run prep_data uid=1e6ebd36a3344230bd288224fe77e3dc DB=http://mlrun-api:8080\n",
      "> 2021-01-25 08:29:51,223 [info] Job is running in the background, pod: prep-data-p7crp\n",
      "> 2021-01-25 08:29:54,947 [info] run executed, status=completed\n",
      "final state: completed\n"
     ]
    },
    {
     "data": {
      "text/html": [
       "<style>\n",
       ".dictlist {\n",
       "  background-color: #4EC64B;\n",
       "  text-align: center;\n",
       "  margin: 4px;\n",
       "  border-radius: 3px; padding: 0px 3px 1px 3px; display: inline-block;}\n",
       ".artifact {\n",
       "  cursor: pointer;\n",
       "  background-color: #4EC64B;\n",
       "  text-align: left;\n",
       "  margin: 4px; border-radius: 3px; padding: 0px 3px 1px 3px; display: inline-block;\n",
       "}\n",
       "div.block.hidden {\n",
       "  display: none;\n",
       "}\n",
       ".clickable {\n",
       "  cursor: pointer;\n",
       "}\n",
       ".ellipsis {\n",
       "  display: inline-block;\n",
       "  max-width: 60px;\n",
       "  white-space: nowrap;\n",
       "  overflow: hidden;\n",
       "  text-overflow: ellipsis;\n",
       "}\n",
       ".master-wrapper {\n",
       "  display: flex;\n",
       "  flex-flow: row nowrap;\n",
       "  justify-content: flex-start;\n",
       "  align-items: stretch;\n",
       "}\n",
       ".master-tbl {\n",
       "  flex: 3\n",
       "}\n",
       ".master-wrapper > div {\n",
       "  margin: 4px;\n",
       "  padding: 10px;\n",
       "}\n",
       "iframe.fileview {\n",
       "  border: 0 none;\n",
       "  height: 100%;\n",
       "  width: 100%;\n",
       "  white-space: pre-wrap;\n",
       "}\n",
       ".pane-header-title {\n",
       "  width: 80%;\n",
       "  font-weight: 500;\n",
       "}\n",
       ".pane-header {\n",
       "  line-height: 1;\n",
       "  background-color: #4EC64B;\n",
       "  padding: 3px;\n",
       "}\n",
       ".pane-header .close {\n",
       "  font-size: 20px;\n",
       "  font-weight: 700;\n",
       "  float: right;\n",
       "  margin-top: -5px;\n",
       "}\n",
       ".master-wrapper .right-pane {\n",
       "  border: 1px inset silver;\n",
       "  width: 40%;\n",
       "  min-height: 300px;\n",
       "  flex: 3\n",
       "  min-width: 500px;\n",
       "}\n",
       ".master-wrapper * {\n",
       "  box-sizing: border-box;\n",
       "}\n",
       "</style><script>\n",
       "function copyToClipboard(fld) {\n",
       "    if (document.queryCommandSupported && document.queryCommandSupported('copy')) {\n",
       "        var textarea = document.createElement('textarea');\n",
       "        textarea.textContent = fld.innerHTML;\n",
       "        textarea.style.position = 'fixed';\n",
       "        document.body.appendChild(textarea);\n",
       "        textarea.select();\n",
       "\n",
       "        try {\n",
       "            return document.execCommand('copy'); // Security exception may be thrown by some browsers.\n",
       "        } catch (ex) {\n",
       "\n",
       "        } finally {\n",
       "            document.body.removeChild(textarea);\n",
       "        }\n",
       "    }\n",
       "}\n",
       "function expandPanel(el) {\n",
       "  const panelName = \"#\" + el.getAttribute('paneName');\n",
       "  console.log(el.title);\n",
       "\n",
       "  document.querySelector(panelName + \"-title\").innerHTML = el.title\n",
       "  iframe = document.querySelector(panelName + \"-body\");\n",
       "\n",
       "  const tblcss = `<style> body { font-family: Arial, Helvetica, sans-serif;}\n",
       "    #csv { margin-bottom: 15px; }\n",
       "    #csv table { border-collapse: collapse;}\n",
       "    #csv table td { padding: 4px 8px; border: 1px solid silver;} </style>`;\n",
       "\n",
       "  function csvToHtmlTable(str) {\n",
       "    return '<div id=\"csv\"><table><tr><td>' +  str.replace(/[\\n\\r]+$/g, '').replace(/[\\n\\r]+/g, '</td></tr><tr><td>')\n",
       "      .replace(/,/g, '</td><td>') + '</td></tr></table></div>';\n",
       "  }\n",
       "\n",
       "  function reqListener () {\n",
       "    if (el.title.endsWith(\".csv\")) {\n",
       "      iframe.setAttribute(\"srcdoc\", tblcss + csvToHtmlTable(this.responseText));\n",
       "    } else {\n",
       "      iframe.setAttribute(\"srcdoc\", this.responseText);\n",
       "    }\n",
       "    console.log(this.responseText);\n",
       "  }\n",
       "\n",
       "  const oReq = new XMLHttpRequest();\n",
       "  oReq.addEventListener(\"load\", reqListener);\n",
       "  oReq.open(\"GET\", el.title);\n",
       "  oReq.send();\n",
       "\n",
       "\n",
       "  //iframe.src = el.title;\n",
       "  const resultPane = document.querySelector(panelName + \"-pane\");\n",
       "  if (resultPane.classList.contains(\"hidden\")) {\n",
       "    resultPane.classList.remove(\"hidden\");\n",
       "  }\n",
       "}\n",
       "function closePanel(el) {\n",
       "  const panelName = \"#\" + el.getAttribute('paneName')\n",
       "  const resultPane = document.querySelector(panelName + \"-pane\");\n",
       "  if (!resultPane.classList.contains(\"hidden\")) {\n",
       "    resultPane.classList.add(\"hidden\");\n",
       "  }\n",
       "}\n",
       "\n",
       "</script>\n",
       "<div class=\"master-wrapper\">\n",
       "  <div class=\"block master-tbl\"><div>\n",
       "<style scoped>\n",
       "    .dataframe tbody tr th:only-of-type {\n",
       "        vertical-align: middle;\n",
       "    }\n",
       "\n",
       "    .dataframe tbody tr th {\n",
       "        vertical-align: top;\n",
       "    }\n",
       "\n",
       "    .dataframe thead th {\n",
       "        text-align: right;\n",
       "    }\n",
       "</style>\n",
       "<table border=\"1\" class=\"dataframe\">\n",
       "  <thead>\n",
       "    <tr style=\"text-align: right;\">\n",
       "      <th>project</th>\n",
       "      <th>uid</th>\n",
       "      <th>iter</th>\n",
       "      <th>start</th>\n",
       "      <th>state</th>\n",
       "      <th>name</th>\n",
       "      <th>labels</th>\n",
       "      <th>inputs</th>\n",
       "      <th>parameters</th>\n",
       "      <th>results</th>\n",
       "      <th>artifacts</th>\n",
       "    </tr>\n",
       "  </thead>\n",
       "  <tbody>\n",
       "    <tr>\n",
       "      <td>getting-started-tutorial-iguazio</td>\n",
       "      <td><div title=\"1e6ebd36a3344230bd288224fe77e3dc\"><a href=\"https://mlrun-ui.default-tenant.app.aefccdjffbit.iguazio-cd0.com/projects/getting-started-tutorial-iguazio/jobs/monitor/1e6ebd36a3344230bd288224fe77e3dc/info\" target=\"_blank\" >...fe77e3dc</a></div></td>\n",
       "      <td>0</td>\n",
       "      <td>Jan 25 08:29:54</td>\n",
       "      <td>completed</td>\n",
       "      <td>prep_data</td>\n",
       "      <td><div class=\"dictlist\">v3io_user=iguazio</div><div class=\"dictlist\">kind=job</div><div class=\"dictlist\">owner=iguazio</div><div class=\"dictlist\">host=prep-data-p7crp</div></td>\n",
       "      <td><div title=\"https://s3.wasabisys.com/iguazio/data/iris/iris.data.raw.csv\">source_url</div></td>\n",
       "      <td></td>\n",
       "      <td><div class=\"dictlist\">num_rows=150</div></td>\n",
       "      <td><div title=\"/v3io/projects/getting-started-tutorial-iguazio/artifacts/cleaned_data.csv\">cleaned_data</div></td>\n",
       "    </tr>\n",
       "  </tbody>\n",
       "</table>\n",
       "</div></div>\n",
       "  <div id=\"resulta5f88074-pane\" class=\"right-pane block hidden\">\n",
       "    <div class=\"pane-header\">\n",
       "      <span id=\"resulta5f88074-title\" class=\"pane-header-title\">Title</span>\n",
       "      <span onclick=\"closePanel(this)\" paneName=\"resulta5f88074\" class=\"close clickable\">&times;</span>\n",
       "    </div>\n",
       "    <iframe class=\"fileview\" id=\"resulta5f88074-body\"></iframe>\n",
       "  </div>\n",
       "</div>\n"
      ],
      "text/plain": [
       "<IPython.core.display.HTML object>"
      ]
     },
     "metadata": {},
     "output_type": "display_data"
    },
    {
     "name": "stdout",
     "output_type": "stream",
     "text": [
      "to track results use .show() or .logs() or in CLI: \n",
      "!mlrun get run 1e6ebd36a3344230bd288224fe77e3dc --project getting-started-tutorial-iguazio , !mlrun logs 1e6ebd36a3344230bd288224fe77e3dc --project getting-started-tutorial-iguazio\n",
      "> 2021-01-25 08:29:57,337 [info] run executed, status=completed\n"
     ]
    }
   ],
   "source": [
    "data_prep_func.apply(auto_mount())\n",
    "prep_data_run = data_prep_func.run(name='prep_data',\n",
    "                                   handler='prep_data',\n",
    "                                   inputs={'source_url': source_url},\n",
    "                                   local=False)"
   ]
  },
  {
   "cell_type": "code",
   "execution_count": 19,
   "metadata": {},
   "outputs": [
    {
     "name": "stdout",
     "output_type": "stream",
     "text": [
      "{'num_rows': 150, 'cleaned_data': 'store://artifacts/getting-started-tutorial-iguazio/prep_data_cleaned_data:1e6ebd36a3344230bd288224fe77e3dc'}\n"
     ]
    }
   ],
   "source": [
    "print(prep_data_run.outputs)"
   ]
  },
  {
   "cell_type": "markdown",
   "metadata": {},
   "source": [
    "<a id=\"gs-tutorial-1-step-ui-jobs-view\"></a>"
   ]
  },
  {
   "cell_type": "markdown",
   "metadata": {},
   "source": [
    "## Step 4: Viewing Jobs on the Dashboard (UI)\n",
    "\n",
    "On the **Projects** dashboard page, select your project and then navigate to the project's jobs and workflow page by selecting the relevant link.\n",
    "For this tutorial, after running the `prep_data` method twice, you should see three records with types local (**&lt;&gt;**) and job.\n",
    "In this view you can track all jobs running in your project and view detailed job information.\n",
    "Select a job name to display tabs with additional information such as an input data set, artifacts that were generated by the job, and execution results and logs. "
   ]
  },
  {
   "cell_type": "markdown",
   "metadata": {},
   "source": [
    "<img src=\"../_static/images/jobs.png\" alt=\"Jobs\" width=\"800\"/>"
   ]
  },
  {
   "cell_type": "markdown",
   "metadata": {},
   "source": [
    "<a id=\"gs-tutorial-1-step-schedule-jobs\"></a>"
   ]
  },
  {
   "cell_type": "markdown",
   "metadata": {},
   "source": [
    "## Step 5: Scheduling Jobs\n",
    "\n",
    "To schedule a job, you can set the `schedule` parameter of the `run` method.\n",
    "The scheduling is done by using a crontab format.\n",
    "\n",
    "You can also schedule jobs from the dashboard: on the jobs and monitoring project page, you can create a new job using the **New Job** wizard.\n",
    "At the end of the wizard flow you can set the job scheduling.\n",
    "In the following example, the job is set to run every 30 minutes."
   ]
  },
  {
   "cell_type": "code",
   "execution_count": 20,
   "metadata": {},
   "outputs": [
    {
     "name": "stdout",
     "output_type": "stream",
     "text": [
      "> 2021-01-25 08:29:57,352 [info] starting run prep_data uid=925f50a6c2694955a48eb8be3aca1b61 DB=http://mlrun-api:8080\n",
      "> 2021-01-25 08:29:57,438 [info] task scheduled, {'schedule': '*/30 * * * *', 'project': 'getting-started-tutorial-iguazio', 'name': 'prep_data'}\n"
     ]
    }
   ],
   "source": [
    "data_prep_func.apply(auto_mount())\n",
    "prep_data_run = data_prep_func.run(name='prep_data',\n",
    "                                   handler='prep_data',\n",
    "                                   inputs={'source_url': source_url},\n",
    "                                   local=False,\n",
    "                                   schedule='*/30 * * * *')"
   ]
  },
  {
   "cell_type": "markdown",
   "metadata": {},
   "source": [
    "<a id=\"gs-tutorial-1-scheduled-jobs-list\"></a>"
   ]
  },
  {
   "cell_type": "markdown",
   "metadata": {},
   "source": [
    "### List Scheduled Jobs\n",
    "\n",
    "Use the `get_run_db.list_schedules` MLRun method to list your project's scheduled jobs, and display the results."
   ]
  },
  {
   "cell_type": "code",
   "execution_count": 21,
   "metadata": {},
   "outputs": [
    {
     "name": "stdout",
     "output_type": "stream",
     "text": [
      "schedules=[ScheduleOutput(name='prep_data', kind=<ScheduleKinds.job: 'job'>, scheduled_object={'task': {'spec': {'inputs': {'source_url': 'https://s3.wasabisys.com/iguazio/data/iris/iris.data.raw.csv'}, 'output_path': '/v3io/projects/getting-started-tutorial-iguazio/artifacts', 'function': 'getting-started-tutorial-iguazio/prep-data@2d36aae0c7d6af2d40b7dc33f1e9de89222ed8c5', 'secret_sources': [], 'scrape_metrics': False, 'handler': 'prep_data'}, 'metadata': {'uid': '925f50a6c2694955a48eb8be3aca1b61', 'name': 'prep_data', 'project': 'getting-started-tutorial-iguazio', 'labels': {'v3io_user': 'iguazio', 'kind': 'job', 'owner': 'iguazio'}, 'iteration': 0}, 'status': {'state': 'created'}}, 'schedule': '*/30 * * * *'}, cron_trigger=ScheduleCronTrigger(year=None, month='*', day='*', week=None, day_of_week='*', hour='*', minute='*/30', second=None, start_date=None, end_date=None, timezone=None, jitter=None), desired_state=None, labels={'v3io_user': 'iguazio', 'kind': 'job', 'owner': 'iguazio'}, creation_time=datetime.datetime(2021, 1, 25, 8, 29, 57, 424175, tzinfo=datetime.timezone.utc), project='getting-started-tutorial-iguazio', last_run_uri=None, state=None, next_run_time=datetime.datetime(2021, 1, 25, 8, 30, tzinfo=datetime.timezone.utc), last_run=None)]\n"
     ]
    }
   ],
   "source": [
    "print(mlrun.get_run_db().list_schedules(project_name))"
   ]
  },
  {
   "cell_type": "markdown",
   "metadata": {},
   "source": [
    "<a id=\"gs-tutorial-1-scheduled-jobs-get\"></a>"
   ]
  },
  {
   "cell_type": "markdown",
   "metadata": {},
   "source": [
    "### Get Scheduled Jobs\n",
    "\n",
    "Use the `get_run_db.get_schedule` MLRun method to get the job schedule for a scheduled job."
   ]
  },
  {
   "cell_type": "code",
   "execution_count": 22,
   "metadata": {},
   "outputs": [
    {
     "data": {
      "text/plain": [
       "ScheduleOutput(name='prep_data', kind=<ScheduleKinds.job: 'job'>, scheduled_object={'task': {'spec': {'inputs': {'source_url': 'https://s3.wasabisys.com/iguazio/data/iris/iris.data.raw.csv'}, 'output_path': '/v3io/projects/getting-started-tutorial-iguazio/artifacts', 'function': 'getting-started-tutorial-iguazio/prep-data@2d36aae0c7d6af2d40b7dc33f1e9de89222ed8c5', 'secret_sources': [], 'scrape_metrics': False, 'handler': 'prep_data'}, 'metadata': {'uid': '925f50a6c2694955a48eb8be3aca1b61', 'name': 'prep_data', 'project': 'getting-started-tutorial-iguazio', 'labels': {'v3io_user': 'iguazio', 'kind': 'job', 'owner': 'iguazio'}, 'iteration': 0}, 'status': {'state': 'created'}}, 'schedule': '*/30 * * * *'}, cron_trigger=ScheduleCronTrigger(year=None, month='*', day='*', week=None, day_of_week='*', hour='*', minute='*/30', second=None, start_date=None, end_date=None, timezone=None, jitter=None), desired_state=None, labels={'v3io_user': 'iguazio', 'kind': 'job', 'owner': 'iguazio'}, creation_time=datetime.datetime(2021, 1, 25, 8, 29, 57, 424175, tzinfo=datetime.timezone.utc), project='getting-started-tutorial-iguazio', last_run_uri=None, state=None, next_run_time=datetime.datetime(2021, 1, 25, 8, 30, tzinfo=datetime.timezone.utc), last_run=None)"
      ]
     },
     "execution_count": 22,
     "metadata": {},
     "output_type": "execute_result"
    }
   ],
   "source": [
    "mlrun.get_run_db().get_schedule(project_name, 'prep_data')"
   ]
  },
  {
   "cell_type": "markdown",
   "metadata": {},
   "source": [
    "<a id=\"gs-tutorial-1-scheduled-jobs-ui-view\"></a>"
   ]
  },
  {
   "cell_type": "markdown",
   "metadata": {},
   "source": [
    "### View Scheduled Jobs on the Dashboard (UI)\n",
    "\n",
    "You can also see your scheduled jobs on your project's **Jobs | Schedule** dashboard page. "
   ]
  },
  {
   "cell_type": "markdown",
   "metadata": {},
   "source": [
    "<img src=\"../_static/images/func-schedule.jpg\" alt=\"scheduled-jobs\" width=\"1400\"/>"
   ]
  },
  {
   "cell_type": "markdown",
   "metadata": {},
   "source": [
    "<a id=\"gs-tutorial-1-scheduled-jobs-delete\"></a>"
   ]
  },
  {
   "cell_type": "markdown",
   "metadata": {},
   "source": [
    "### Deleting Scheduled Jobs\n",
    "\n",
    "When you no longer need to run the scheduled jobs, remove them by using the `get_run_db().delete_schedule` MLRun method to delete the job-schedule objects that you created."
   ]
  },
  {
   "cell_type": "code",
   "execution_count": 23,
   "metadata": {},
   "outputs": [],
   "source": [
    "mlrun.get_run_db().delete_schedule(project_name, 'prep_data')"
   ]
  },
  {
   "cell_type": "markdown",
   "metadata": {},
   "source": [
    "You can verify that a scheduled job has been deleted by calling `get_schedule` to get the job schedule.\n",
    "If the delete operation was successful, this call should fail."
   ]
  },
  {
   "cell_type": "code",
   "execution_count": 24,
   "metadata": {},
   "outputs": [],
   "source": [
    "#mlrun.get_run_db().get_schedule(project_name,'prep_data')"
   ]
  },
  {
   "cell_type": "markdown",
   "metadata": {},
   "source": [
    "## Done!\n",
    "\n",
    "Congratulation! You've completed Part 1 of the MLRun getting-started tutorial.\n",
    "Proceed to [Part 2](02-model-training.ipynb) to learn how to train an ML model."
   ]
  }
 ],
 "metadata": {
  "kernelspec": {
   "display_name": "Python 3",
   "language": "python",
   "name": "python3"
  },
  "language_info": {
   "codemirror_mode": {
    "name": "ipython",
    "version": 3
   },
   "file_extension": ".py",
   "mimetype": "text/x-python",
   "name": "python",
   "nbconvert_exporter": "python",
   "pygments_lexer": "ipython3",
   "version": "3.7.6"
  }
 },
 "nbformat": 4,
 "nbformat_minor": 4
}