{
 "cells": [
  {
   "cell_type": "markdown",
   "metadata": {},
   "source": [
    "# Model Monitoring & Drift Detection\n",
    "\n",
    "In this tutorial, we will be leveraging the model monitoring capabilities of MLRun to deploy a model to a live endpoint and calculate data drift.\n",
    "\n",
    "Make sure you have reviewed the basics in MLRun [**Quick Start Tutorial**](../01-mlrun-basics.html)."
   ]
  },
  {
   "cell_type": "markdown",
   "metadata": {},
   "source": [
    "Tutorial steps:\n",
    "- [**Create an MLRun project**](#setup-project)\n",
    "- [**Log a Model with a given framework and training set**](#log-model)\n",
    "- [**Import and Deploy Serving Function**](#import-deploy)\n",
    "- [**Simulate Production Traffic**](#simulate-traffic)\n",
    "- [**View Drift Calculations and Status**](#view-drift)\n",
    "- [**View Detailed Drift Dashboards**](#view-dashboards)"
   ]
  },
  {
   "cell_type": "markdown",
   "metadata": {},
   "source": [
    "## MLRun Installation and Configuration\n",
    "\n",
    "Before running this notebook make sure `mlrun` is installed and that you have configured the access to the MLRun service. "
   ]
  },
  {
   "cell_type": "code",
   "execution_count": null,
   "metadata": {},
   "outputs": [],
   "source": [
    "# install MLRun if not installed, run this only once (restart the notebook after the install !!!)\n",
    "%pip install mlrun"
   ]
  },
  {
   "cell_type": "markdown",
   "metadata": {},
   "source": [
    "<a id=\"setup-project\"></a>\n",
    "## Setup Project\n",
    "\n",
    "First, we will import the dependencies and create an [MLRun project](https://docs.mlrun.org/en/latest/projects/project.html). This will contain all of our models, functions, datasets, etc:"
   ]
  },
  {
   "cell_type": "code",
   "execution_count": null,
   "metadata": {},
   "outputs": [],
   "source": [
    "import os\n",
    "\n",
    "import mlrun\n",
    "import pandas as pd"
   ]
  },
  {
   "cell_type": "code",
   "execution_count": 2,
   "metadata": {},
   "outputs": [
    {
     "name": "stdout",
     "output_type": "stream",
     "text": [
      "> 2022-09-21 08:58:03,005 [info] loaded project tutorial from MLRun DB\n"
     ]
    }
   ],
   "source": [
    "project = mlrun.get_or_create_project(name=\"tutorial\", context=\"./\", user_project=True)"
   ]
  },
  {
   "cell_type": "markdown",
   "metadata": {},
   "source": [
    "> Note: This tutorial will not focus on training a model, but rather will start from the point of already having a trained model with a corresponding training dataset.\n",
    "\n",
    "We will be logging the following model file and dataset to deploy and calculate data drift. The model is a [AdaBoostClassifier](https://scikit-learn.org/stable/modules/generated/sklearn.ensemble.AdaBoostClassifier.html) from sklearn and the dataset is in `csv` format."
   ]
  },
  {
   "cell_type": "code",
   "execution_count": 3,
   "metadata": {},
   "outputs": [],
   "source": [
    "model_path = mlrun.get_sample_path('models/model-monitoring/model.pkl')\n",
    "training_set_path = mlrun.get_sample_path('data/model-monitoring/iris_dataset.csv')"
   ]
  },
  {
   "cell_type": "markdown",
   "metadata": {},
   "source": [
    "<a id=\"log-model\"></a>\n",
    "## Log Model with Training Data\n",
    "\n",
    "Next, we will log the model using MLRun experiment tracking. This is usually done in a training pipeline, but you can also bring in your pre-trained models from other sources. See [Working with data and model artifacts](https://docs.mlrun.org/en/latest/training/working-with-data-and-model-artifacts.html) and [Automated experiment tracking](https://docs.mlrun.org/en/latest/concepts/auto-logging-mlops.html) for more information."
   ]
  },
  {
   "cell_type": "code",
   "execution_count": 4,
   "metadata": {},
   "outputs": [],
   "source": [
    "model_name = \"RandomForestClassifier\""
   ]
  },
  {
   "cell_type": "code",
   "execution_count": 5,
   "metadata": {},
   "outputs": [],
   "source": [
    "model_artifact = project.log_model(\n",
    "    key=model_name,\n",
    "    model_file=model_path,\n",
    "    framework=\"sklearn\",\n",
    "    training_set=pd.read_csv(training_set_path),\n",
    "    label_column=\"label\"\n",
    ")"
   ]
  },
  {
   "cell_type": "code",
   "execution_count": 6,
   "metadata": {},
   "outputs": [
    {
     "data": {
      "text/plain": [
       "'store://models/tutorial-nick/RandomForestClassifier#0:latest'"
      ]
     },
     "execution_count": 6,
     "metadata": {},
     "output_type": "execute_result"
    }
   ],
   "source": [
    "# the model artifact unique URI\n",
    "model_artifact.uri"
   ]
  },
  {
   "cell_type": "markdown",
   "metadata": {},
   "source": [
    "<a id=\"import-deploy\"></a>\n",
    "## Import and Deploy Serving Function\n",
    "\n",
    "Then, we will import the [model server](https://github.com/mlrun/functions/tree/master/v2_model_server) function from the [MLRun Function Marketplace](https://www.mlrun.org/marketplace/). Additionally, we will mount the filesytem, add our model that was logged via experiment tracking, and enable drift detection.\n",
    "\n",
    "The core line here is `serving_fn.set_tracking()` which will create the required infrastructure behind the scenes to perform drift detection. See the [Model monitoring overview](https://docs.mlrun.org/en/latest/model_monitoring/model-monitoring-deployment.html) for more info on what is deployed."
   ]
  },
  {
   "cell_type": "code",
   "execution_count": 7,
   "metadata": {
    "collapsed": false,
    "jupyter": {
     "outputs_hidden": false
    },
    "pycharm": {
     "name": "#%%\n"
    }
   },
   "outputs": [],
   "source": [
    "# Import the serving function from the function hub and mount filesystem\n",
    "serving_fn = mlrun.import_function('hub://v2_model_server', new_name=\"serving\")\n",
    "\n",
    "# Add the model to the serving function's routing spec\n",
    "serving_fn.add_model(model_name, model_path=model_artifact.uri)\n",
    "\n",
    "# Enable model monitoring\n",
    "serving_fn.set_tracking()"
   ]
  },
  {
   "cell_type": "markdown",
   "metadata": {},
   "source": [
    "### Deploy Serving Function with Drift Detection\n",
    "\n",
    "Finally, we can deploy our serving function with drift detection enabled with a single line of code:"
   ]
  },
  {
   "cell_type": "code",
   "execution_count": 8,
   "metadata": {
    "collapsed": false,
    "jupyter": {
     "outputs_hidden": false
    },
    "pycharm": {
     "name": "#%%\n"
    }
   },
   "outputs": [
    {
     "name": "stdout",
     "output_type": "stream",
     "text": [
      "> 2022-09-21 08:58:08,053 [info] Starting remote function deploy\n",
      "2022-09-21 08:58:09  (info) Deploying function\n",
      "2022-09-21 08:58:09  (info) Building\n",
      "2022-09-21 08:58:10  (info) Staging files and preparing base images\n",
      "2022-09-21 08:58:10  (info) Building processor image\n",
      "2022-09-21 08:58:55  (info) Build complete\n",
      "2022-09-21 08:59:03  (info) Function deploy complete\n",
      "> 2022-09-21 08:59:04,232 [info] successfully deployed function: {'internal_invocation_urls': ['nuclio-tutorial-nick-serving.default-tenant.svc.cluster.local:8080'], 'external_invocation_urls': ['tutorial-nick-serving-tutorial-nick.default-tenant.app.us-sales-350.iguazio-cd1.com/']}\n"
     ]
    },
    {
     "data": {
      "text/plain": [
       "DeployStatus(state=ready, outputs={'endpoint': 'http://tutorial-nick-serving-tutorial-nick.default-tenant.app.us-sales-350.iguazio-cd1.com/', 'name': 'tutorial-nick-serving'})"
      ]
     },
     "execution_count": 8,
     "metadata": {},
     "output_type": "execute_result"
    }
   ],
   "source": [
    "mlrun.deploy_function(serving_fn)"
   ]
  },
  {
   "cell_type": "markdown",
   "metadata": {},
   "source": [
    "## View Deployed Resources"
   ]
  },
  {
   "cell_type": "markdown",
   "metadata": {},
   "source": [
    "At this point, you should see the newly deployed model server as well as a `model-monitoring-stream` and a scheduled job (in yellow). The `model-monitoring-stream` will collect, process, and save the incoming requests to the model server. The scheduled job will do the actual calculation (by default every hour).\n",
    "\n",
    "> Note: You will not see `model-monitoring-batch` jobs listed until they actually run (by default every hour)"
   ]
  },
  {
   "cell_type": "markdown",
   "metadata": {},
   "source": [
    "![drift_table_plot](../_static/images/tutorial/project_dashboard.png)"
   ]
  },
  {
   "cell_type": "markdown",
   "metadata": {},
   "source": [
    "<a id=\"simulate-traffic\"></a>\n",
    "## Simulate Production Traffic\n",
    "\n",
    "Next, we will use following code to simulate incoming production data using elements from the training set. Because the data is coming from the same training set we logged, we are not expecting any data drift.\n",
    "\n",
    "> *Note: By default, the drift calculation will start via the scheduled hourly batch job after receiving 10,000 incoming requests*"
   ]
  },
  {
   "cell_type": "code",
   "execution_count": 9,
   "metadata": {
    "collapsed": false,
    "jupyter": {
     "outputs_hidden": false
    },
    "pycharm": {
     "name": "#%%\n"
    }
   },
   "outputs": [
    {
     "name": "stderr",
     "output_type": "stream",
     "text": [
      "100%|██████████| 12000/12000 [06:45<00:00, 29.63it/s]\n"
     ]
    }
   ],
   "source": [
    "import json\n",
    "import logging\n",
    "from random import choice, uniform\n",
    "from time import sleep\n",
    "\n",
    "from tqdm import tqdm\n",
    "\n",
    "# Suppress print messages\n",
    "logging.getLogger(name=\"mlrun\").setLevel(logging.WARNING)\n",
    "\n",
    "# Get training set as list\n",
    "iris_data = pd.read_csv(training_set_path).drop(\"label\", axis=1).to_dict(orient=\"split\")[\"data\"]\n",
    "\n",
    "# Simulate traffic using random elements from training set\n",
    "for i in tqdm(range(12_000)):\n",
    "    data_point = choice(iris_data)\n",
    "    serving_fn.invoke(f'v2/models/{model_name}/infer', json.dumps({'inputs': [data_point]}))\n",
    "    \n",
    "# Resume normal logging\n",
    "logging.getLogger(name=\"mlrun\").setLevel(logging.INFO)"
   ]
  },
  {
   "cell_type": "markdown",
   "metadata": {},
   "source": [
    "<a id=\"view-drift\"></a>\n",
    "## View Drift Calculations and Status"
   ]
  },
  {
   "cell_type": "markdown",
   "metadata": {},
   "source": [
    "Once data drift has been calculated, you can view it in the MLRun UI. This includes a high level overview of the model status:"
   ]
  },
  {
   "cell_type": "markdown",
   "metadata": {},
   "source": [
    "![model_endpoint_1](../_static/images/tutorial/model_endpoint_1.png)"
   ]
  },
  {
   "cell_type": "markdown",
   "metadata": {},
   "source": [
    "A more detailed view on model information and overall drift metrics:"
   ]
  },
  {
   "cell_type": "markdown",
   "metadata": {},
   "source": [
    "![model_endpoint_2](../_static/images/tutorial/model_endpoint_2.png)"
   ]
  },
  {
   "cell_type": "markdown",
   "metadata": {},
   "source": [
    "As well as a view for feature-level distributions and drift metrics:"
   ]
  },
  {
   "cell_type": "markdown",
   "metadata": {},
   "source": [
    "![model_endpoint_3](../_static/images/tutorial/model_endpoint_3.png)"
   ]
  },
  {
   "cell_type": "markdown",
   "metadata": {},
   "source": [
    "<a id=\"view-dashboards\"></a>\n",
    "## View Detailed Drift Dashboards"
   ]
  },
  {
   "cell_type": "markdown",
   "metadata": {},
   "source": [
    "Finally, there are also more detailed Grafana dashboards that show additional information on each model in the project:\n",
    "\n",
    "> For more information on accessing these dashboards, see [Model monitoring using Grafana dashboards](https://docs.mlrun.org/en/latest/model_monitoring/model-monitoring-deployment.html#model-monitoring-using-grafana-dashboards)."
   ]
  },
  {
   "cell_type": "markdown",
   "metadata": {},
   "source": [
    "![grafana_dashboard_1](../_static/images/tutorial/grafana_dashboard_1.png)"
   ]
  },
  {
   "cell_type": "markdown",
   "metadata": {},
   "source": [
    "Graphs of individual features over time:"
   ]
  },
  {
   "cell_type": "markdown",
   "metadata": {},
   "source": [
    "![grafana_dashboard_2](../_static/images/tutorial/grafana_dashboard_2.png)"
   ]
  },
  {
   "cell_type": "markdown",
   "metadata": {},
   "source": [
    "As well as drift and operational metrics over time:"
   ]
  },
  {
   "cell_type": "markdown",
   "metadata": {},
   "source": [
    "![grafana_dashboard_3](../_static/images/tutorial/grafana_dashboard_3.png)"
   ]
  }
 ],
 "metadata": {
  "kernelspec": {
   "display_name": "Python 3",
   "language": "python",
   "name": "python3"
  },
  "language_info": {
   "codemirror_mode": {
    "name": "ipython",
    "version": 3
   },
   "file_extension": ".py",
   "mimetype": "text/x-python",
   "name": "python",
   "nbconvert_exporter": "python",
   "pygments_lexer": "ipython3",
   "version": "3.8.8"
  }
 },
 "nbformat": 4,
 "nbformat_minor": 4
}