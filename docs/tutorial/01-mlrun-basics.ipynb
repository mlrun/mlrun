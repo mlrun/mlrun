{
 "cells": [
  {
   "cell_type": "markdown",
   "metadata": {},
   "source": [
    " # Part 1: MLRun Basics\n",
    "\n",
    " Part 1 of the getting-started tutorial introduces you to the basics of working with functions by using the MLRun open-source MLOps orchestration framework.\n",
    " \n",
    " The tutorial takes you through the following steps:\n",
    "\n",
    " 1. [Installation and Setup](#gs-tutorial-1-step-setup)\n",
    " 2. [Creating a basic function and running it locally](#gs-tutorial-1-step-create-basic-function)\n",
    " 3. [Running the function on the cluster](#gs-tutorial-1-run-function-on-cluster)\n",
    " 4. [Viewing jobs on the dashboard (UI)](#gs-tutorial-1-step-ui-jobs-view)\n",
    " 5. [Scheduling jobs](#gs-tutorial-1-step-schedule-jobs)\n",
    "\n",
    "By the end of this tutorial you'll learn how to\n",
    "\n",
    "- Create a basic data-preparation MLRun function.\n",
    "- Store data artifacts to be used and managed in a central database.\n",
    "- Run your code on a distributed Kubernetes cluster without any DevOps overhead.\n",
    "- Schedule jobs to run on the cluster."
   ]
  },
  {
   "cell_type": "markdown",
   "metadata": {},
   "source": [
    "<a id=\"gs-tutorial-1-setup-remote-env\"></a>\n",
    "```{admonition} Using MLRun Remotely\n",
    "This tutorial is aimed at running your project from a local Jupyter Notebook service in the same environment in which MLRun is installed and running.\n",
    "However, as a developer you might want to develop your project from a remote location using your own IDE (such as a local Jupyter Notebook or PyCharm), and connect to the MLRun environment remotely.\n",
    "To learn how to use MLRun from a remote IDE, see [Setting a Remote Environment](../howto/remote.md).\n",
    "```"
   ]
  },
  {
   "cell_type": "markdown",
   "metadata": {},
   "source": [
    "<a id=\"gs-tutorial-1-mlrun-intro\"></a>"
   ]
  },
  {
   "cell_type": "markdown",
   "metadata": {},
   "source": [
    "## Introduction to MLRun\n",
    "\n",
    "[MLRun](https://github.com/mlrun/mlrun) is an open-source MLOps framework that enable faster development of production ready ML applications from data ingestion/preparation, model development to deployment of operational and real-time production pipelines.\n",
    "\n",
    "MLRun offers a convenient abstraction layer and automation on top of a powerful serverless technologies for feature engineering, machine learning, and deep learning.\n",
    "MLRun provides the following key benefits:\n",
    "\n",
    "\n",
    "- **Rapid deployment** of code to production pipelines\n",
    "- **Elastic scaling** of batch and real-time workloads\n",
    "- **Feature management** &mdash; ingestion, preparation, and monitoring\n",
    "- **Works anywhere** &mdash; your local IDE, multi-cloud, or on-prem\n",
    "\n",
    "MLRun can be installed over Kubernetes or is available as a managed service in the [Iguazio Data Science Platform](https://www.iguazio.com/).\n",
    "\n",
    "&#x25B6; For more detailed information, see the MLRun [Serverless Functions & Job Submission](../runtimes/functions.md) documentation."
   ]
  },
  {
   "cell_type": "markdown",
   "metadata": {},
   "source": [
    "<a id=\"gs-tutorial-1-step-setup\"></a>"
   ]
  },
  {
   "cell_type": "markdown",
   "metadata": {},
   "source": [
    "## Step 1: Installation and Setup\n",
    "\n",
    "For information on how to install and configure MLRun over Kubernetes, see the MLRun [installation guide](../install.md).\n",
    "To install the MLRun package, run `pip install mlrun` with the MLRun version that matches your MLRun service.\n",
    "\n",
    "```{admonition} For Iguazio Data Science Platform Users\n",
    "If your are using the Iguazio Data Science Platform, MLRun is available as a default (pre-deployed) shared service.<br>\n",
    "You can run `!/User/align_mlrun.sh` to install the MLRun package or upgrade the version of an installed package.\n",
    "By default, the script attempts to download the latest version of the MLRun Python package that matches the version of the running MLRun service.\n",
    "```\n",
    "\n",
    "```{admonition} Kernel Restart\n",
    "After installing or updating the MLRun package, restart the notebook kernel in your environment!\n",
    "```"
   ]
  },
  {
   "cell_type": "markdown",
   "metadata": {},
   "source": [
    "<a id=\"gs-tutorial-1-mlrun-envr-init\"></a>"
   ]
  },
  {
   "cell_type": "markdown",
   "metadata": {},
   "source": [
    "### Initializing Your MLRun Environment"
   ]
  },
  {
   "cell_type": "markdown",
   "metadata": {},
   "source": [
    "MLRun objects (runs, functions, workflows, features, artifacts, models, etc.) are associated with a `project` namespace.\n",
    "Projects can be stored or loaded from `git` repositories and can be created via API/UI.\n",
    "\n",
    "For more information about MLRun projects, see the MLRun [projects documentation](../projects/overview.md).\n",
    "\n",
    "Use the `get_or_create_project` MLRun method to create a new project or fetch it from the DB/repository if it already exists.\n",
    "This method returns an MLRun project object.\n",
    "\n",
    "Set the method's `name` parameter to your selected project name and set the `context` to the directory path hosting project files/code (example: `./`).\n",
    "You can also optionally set the `user_project` parameter to `True` to automatically append the username of the running user to the project name specified in the `project` parameter, resulting in a `<project>-<username>` project name;\n",
    "this is useful for avoiding project-name conflicts among different users.\n",
    "\n",
    "You can optionally pass additional parameters to `get_or_create_project`, as detailed in the MLRun API reference.\n",
    "For example uou can set the `url` parameter to specify a remote `git` url (hosting the project code). In the 4th notebook in this tutorial we will see how project objects enable packaging, pipeline composition, and simple integration with `git` and CI/CD frameworks "
   ]
  },
  {
   "cell_type": "markdown",
   "metadata": {},
   "source": [
    "Run the following code to initialize your MLRun environment to use a \"getting-started-tutorial-&lt;username&gt;\"\n",
    "project and store the project artifacts in the default artifacts path:"
   ]
  },
  {
   "cell_type": "code",
   "execution_count": 1,
   "metadata": {},
   "outputs": [
    {
     "name": "stdout",
     "output_type": "stream",
     "text": [
      "> 2021-09-09 03:29:23,387 [info] loaded project getting-started from MLRun DB\n",
      "Project name: getting-started-iguazio\n"
     ]
    }
   ],
   "source": [
    "from os import path\n",
    "import mlrun\n",
    "\n",
    "# Set the base project name\n",
    "project_name_base = 'getting-started'\n",
    "\n",
    "# Initialize the MLRun project object\n",
    "project = mlrun.get_or_create_project(project_name_base, context=\"./\", user_project=True)\n",
    "\n",
    "# Display the current project name\n",
    "project_name = project.metadata.name\n",
    "print(f'Project name: {project_name}')"
   ]
  },
  {
   "cell_type": "markdown",
   "metadata": {},
   "source": [
    "<a id=\"gs-tutorial-1-step-create-basic-function\"></a>"
   ]
  },
  {
   "cell_type": "markdown",
   "metadata": {},
   "source": [
    "## Step 2: Creating a Basic Function\n",
    "\n",
    "This step introduces you to MLRun functions and artifacts and walks you through the process of converting a local function to an MLRun function."
   ]
  },
  {
   "cell_type": "markdown",
   "metadata": {},
   "source": [
    "<a id=\"gs-tutorial-1-define-local-func\"></a>"
   ]
  },
  {
   "cell_type": "markdown",
   "metadata": {},
   "source": [
    "### Defining a Local Function\n",
    "\n",
    "The following example code defines a data-preparation function (`prep_data`) that reads (ingests) a CSV file from the provided source URL into a pandas DataFrame;\n",
    "prepares (\"cleans\") the data by changing the type of the categorical data in the specified label column;\n",
    "and returns the DataFrame and it's length.\n",
    "In the next sub-step you'll redefine this function and convert it to an MLRun function that leverages MLRun to perform the following tasks:\n",
    "\n",
    "- Reading the data\n",
    "- Logging the data to the MLRun database"
   ]
  },
  {
   "cell_type": "code",
   "execution_count": 2,
   "metadata": {},
   "outputs": [],
   "source": [
    "import pandas as pd\n",
    "\n",
    "# Fetch and clean a dataset through ingestion\n",
    "def prep_data(source_url, label_column):\n",
    "    df = pd.read_csv(source_url)\n",
    "    df[label_column] = df[label_column].astype('category').cat.codes    \n",
    "    return df, df.shape[0]"
   ]
  },
  {
   "cell_type": "markdown",
   "metadata": {},
   "source": [
    "<a id=\"gs-tutorial-1-create-and-run-an-mlrun-function\"></a>"
   ]
  },
  {
   "cell_type": "markdown",
   "metadata": {},
   "source": [
    "### Creating and Running Your First MLRun Function"
   ]
  },
  {
   "cell_type": "markdown",
   "metadata": {},
   "source": [
    "#### MLRun Functions\n",
    "\n",
    "MLRun jobs and pipelines run over serverless functions.\n",
    "These functions can include the function code and specification (\"spec\").\n",
    "The spec contains metadata for configuring related operational aspects, such as the image, required packages, CPU/memory/GPU resources, storage, and the environment.\n",
    "The different serverless runtime engines automatically transform the function code and spec into fully managed and elastic services that run over Kubernetes.\n",
    "Functions are versioned and can be generated from code or notebooks, or loaded from a marketplace.\n",
    "\n",
    "MLRun supports batch functions (for data processing, training, etc.) or real-time functions (for serving, APIs, and stream processing).<br>\n",
    "\n",
    "To work with functions you need to be familiar with the following function components:\n",
    "\n",
    "- **Context** &mdash; Functions can be built from standard code files or function handlers, to gain the maximum value we use the job `context` object inside our code, this will allow us to access parameters, data, secrets, etc. as well as log text, files, artifacts, and labels.\n",
    "    - If we specify `context` as the first parameter in our function signature, MLRun will inject the current job context into it\n",
    "    - If we don’t want to change our function we can also obtain the context object using MLRun `get_or_create_ctx()` method.\n",
    "- **Parameters and inputs** &mdash; We can pass `parameters` (arguments) or data `inputs` (such as datasets, feature-vectors, models, or files) to our functions through the `run` method.\n",
    "    - Inside our function we can access the parameters/inputs by simply adding them as parameters to the function or we can get them from the context object (using `get_param()` and ` get_input()`).\n",
    "    - We can use MLRun [Iterative Hyper-Param jobs](../hyper-params.ipynb) to run functions with different parameter and input combinations.\n",
    "    - Various data objects (files, tables, models, etc.) are passed to the function as [`DataItem` objects](../store/datastore.md), data items objects abstract away the data backend implementation, provide a set of convenience methods (`.as_df`, `.get`, `.show`, ..) and enable auto logging/versioning of data and metadata. \n",
    "\n",
    "For more information see the following MLRun documentation:\n",
    "\n",
    "- [Functions, Runs/Jobs, and Context](../runtimes/functions.md)\n",
    "- [Data Items](../store/datastore.md)\n",
    "- [Artifacts](../store/artifacts.md)\n",
    "- [Hyper-Param and Iterative jobs](../hyper-params.ipynb)"
   ]
  },
  {
   "cell_type": "markdown",
   "metadata": {},
   "source": [
    "#### MLRun Function Code\n",
    "\n",
    "The following code demonstrates how to redefine your local data-preparation function to make it compatible with MLRun, and then convert the local notebook code into an MLRun function.\n",
    "\n",
    "The MLRun function has the following parameter changes compared to the original local function:\n",
    "\n",
    "- To effectively run your code in MLRun, you need to add a `context` parameter to your function (or alternatively, get the context by using {py:func}`~mlrun.run.get_or_create_ctx`).\n",
    "    This allows you to log and retrieve information related to the function's execution.\n",
    "- The tutorial example sets the `source_url` parameter to `mlrun.DataItem` to send a data item as input when the function is called (using the `inputs` parameter)."
   ]
  },
  {
   "cell_type": "code",
   "execution_count": 3,
   "metadata": {},
   "outputs": [],
   "source": [
    "# mlrun: start-code"
   ]
  },
  {
   "cell_type": "code",
   "execution_count": 4,
   "metadata": {},
   "outputs": [],
   "source": [
    "import mlrun\n",
    "def prep_data(context, source_url: mlrun.DataItem, label_column='label'):\n",
    "\n",
    "    # Convert the DataItem to a pandas DataFrame\n",
    "    df = source_url.as_df()\n",
    "    df[label_column] = df[label_column].astype('category').cat.codes    \n",
    "    \n",
    "    # Log the DataFrame size after the run\n",
    "    context.log_result('num_rows', df.shape[0])\n",
    "\n",
    "    # Store the dataset in your artifacts database\n",
    "    context.log_dataset('cleaned_data', df=df, index=False, format='csv')"
   ]
  },
  {
   "cell_type": "code",
   "execution_count": 5,
   "metadata": {},
   "outputs": [],
   "source": [
    "# mlrun: end-code"
   ]
  },
  {
   "cell_type": "markdown",
   "metadata": {},
   "source": [
    "The example tutorial function code works as follows:\n",
    "\n",
    "- Obtain a pandas DataFrame from the `source_url` data item, by calling the `as_df` method.\n",
    "- Prepare (clean) the data, as done in the local-function implementation in the previous step.\n",
    "- Record the data length (number of rows) using the `log_result` method. \n",
    "    This method records (logs) the values of standard function variables (such as int, float, string, and list).\n",
    "- Log the data-set artifact using the `log_dataset` method.\n",
    "    This method saves and logs function data items and related metadata (i.e., logs function artifacts)."
   ]
  },
  {
   "cell_type": "markdown",
   "metadata": {},
   "source": [
    "#### Converting the Notebook Code to a Function\n",
    "\n",
    "Use the `# mlrun: ...` comment annotations to identify the code that needs to be converted into an MLRun function.\n",
    "These annotations provide non-intrusive hints as to how you want to convert the notebook into a full function and function specification:\n",
    "\n",
    "- The `# mlrun: ignore` annotation identifies code that shouldn't be included in the MLRun function (such as prints, plots, tests, and debug code).\n",
    "- The `# mlrun: start-code` and `# mlrun: end-code` annotations identify code to be converted to an MLRun function:\n",
    "    everything before the `start-code` annotation and after the `end-code` annotation is ignored, and only code between these two annotations is converted.\n",
    "    These annotations are used in the tutorial notebook instead of adding the `ignore` annotation to all cells that shouldn't be converted.\n",
    "    > **Note:** You can use the `mlrun: start-code` and `mlrun: end-code` annotations only once in a notebook.\n",
    "    > If there are multiple uses, only the first use will be selected.\n",
    "\n",
    "The following code uses the `code_to_function` MLRun method to convert your local `prep_data` function code to a `data_prep_func` MLRun function.\n",
    "When the `filename` parameter is not specified it will search the code in the current notebook, alternatively you can specify a path to a `.py` or `.ipynb` file by setting the `filename` parameter.\n",
    "\n",
    "The `kind` parameter of the `code_to_function` method determines the engine for running the code.\n",
    "MLRun allows running function code using different engines &mdash; such as Python, Spark, MPI, Nuclio, and Dask.\n",
    "The following example sets the `kind` parameter to `job` to run the code as a Python process (\"job\")."
   ]
  },
  {
   "cell_type": "code",
   "execution_count": 6,
   "metadata": {},
   "outputs": [],
   "source": [
    "# Convert the local prep_data function to an MLRun project function\n",
    "data_prep_func = mlrun.code_to_function(name='prep_data', kind='job', image='mlrun/mlrun')"
   ]
  },
  {
   "cell_type": "markdown",
   "metadata": {},
   "source": [
    "<a id=\"gs-tutorial-1-run-mlrun-function-locally\"></a>"
   ]
  },
  {
   "cell_type": "markdown",
   "metadata": {},
   "source": [
    "#### Running the MLRun Function Locally\n",
    "\n",
    "Now you're ready to run your MLRun function (`data_prep_func`).\n",
    "The following example uses the `run` MLRun method and sets its `local` parameter to `True` to run the function code locally within your Jupyter pod, meaning that the function uses the environment variables, volumes, and image that are running in this pod.\n",
    "\n",
    "> **Note:** When running a function locally, the function code is saved only in a temporary local directory and not in your project's ML functions code repository.\n",
    "> In the next step of this tutorial you'll run the function on a cluster, which automatically saves the function object in the project.\n",
    "\n",
    "The execution results are stored in the MLRun database.\n",
    "The tutorial example sets the following function parameters:\n",
    "\n",
    "- `name` &mdash; the job name\n",
    "- `handler` &mdash; the name of the function handler\n",
    "- `inputs` &mdash; the data-set URL\n",
    "\n",
    "As input for the function, the example uses a CSV file from a cloud object-store service named wasabisys.\n",
    "> **Note:** You can also use the function to ingest data in other formats than CSV, such as Parquet, without modifying the code."
   ]
  },
  {
   "cell_type": "code",
   "execution_count": 7,
   "metadata": {},
   "outputs": [],
   "source": [
    "# Set the source-data URL\n",
    "source_url = 'https://s3.wasabisys.com/iguazio/data/iris/iris.data.raw.csv'"
   ]
  },
  {
   "cell_type": "code",
   "execution_count": 8,
   "metadata": {},
   "outputs": [
    {
     "name": "stdout",
     "output_type": "stream",
     "text": [
      "> 2021-09-09 03:29:32,303 [info] starting run prep_data uid=641c839096e54c7982db874dc4c78db6 DB=http://mlrun-api:8080\n"
     ]
    },
    {
     "data": {
      "text/html": [
       "<style>\n",
       ".dictlist {\n",
       "  background-color: #4EC64B;\n",
       "  text-align: center;\n",
       "  margin: 4px;\n",
       "  border-radius: 3px; padding: 0px 3px 1px 3px; display: inline-block;}\n",
       ".artifact {\n",
       "  cursor: pointer;\n",
       "  background-color: #4EC64B;\n",
       "  text-align: left;\n",
       "  margin: 4px; border-radius: 3px; padding: 0px 3px 1px 3px; display: inline-block;\n",
       "}\n",
       "div.block.hidden {\n",
       "  display: none;\n",
       "}\n",
       ".clickable {\n",
       "  cursor: pointer;\n",
       "}\n",
       ".ellipsis {\n",
       "  display: inline-block;\n",
       "  max-width: 60px;\n",
       "  white-space: nowrap;\n",
       "  overflow: hidden;\n",
       "  text-overflow: ellipsis;\n",
       "}\n",
       ".master-wrapper {\n",
       "  display: flex;\n",
       "  flex-flow: row nowrap;\n",
       "  justify-content: flex-start;\n",
       "  align-items: stretch;\n",
       "}\n",
       ".master-tbl {\n",
       "  flex: 3\n",
       "}\n",
       ".master-wrapper > div {\n",
       "  margin: 4px;\n",
       "  padding: 10px;\n",
       "}\n",
       "iframe.fileview {\n",
       "  border: 0 none;\n",
       "  height: 100%;\n",
       "  width: 100%;\n",
       "  white-space: pre-wrap;\n",
       "}\n",
       ".pane-header-title {\n",
       "  width: 80%;\n",
       "  font-weight: 500;\n",
       "}\n",
       ".pane-header {\n",
       "  line-height: 1;\n",
       "  background-color: #4EC64B;\n",
       "  padding: 3px;\n",
       "}\n",
       ".pane-header .close {\n",
       "  font-size: 20px;\n",
       "  font-weight: 700;\n",
       "  float: right;\n",
       "  margin-top: -5px;\n",
       "}\n",
       ".master-wrapper .right-pane {\n",
       "  border: 1px inset silver;\n",
       "  width: 40%;\n",
       "  min-height: 300px;\n",
       "  flex: 3\n",
       "  min-width: 500px;\n",
       "}\n",
       ".master-wrapper * {\n",
       "  box-sizing: border-box;\n",
       "}\n",
       "</style><script>\n",
       "function copyToClipboard(fld) {\n",
       "    if (document.queryCommandSupported && document.queryCommandSupported('copy')) {\n",
       "        var textarea = document.createElement('textarea');\n",
       "        textarea.textContent = fld.innerHTML;\n",
       "        textarea.style.position = 'fixed';\n",
       "        document.body.appendChild(textarea);\n",
       "        textarea.select();\n",
       "\n",
       "        try {\n",
       "            return document.execCommand('copy'); // Security exception may be thrown by some browsers.\n",
       "        } catch (ex) {\n",
       "\n",
       "        } finally {\n",
       "            document.body.removeChild(textarea);\n",
       "        }\n",
       "    }\n",
       "}\n",
       "function expandPanel(el) {\n",
       "  const panelName = \"#\" + el.getAttribute('paneName');\n",
       "  console.log(el.title);\n",
       "\n",
       "  document.querySelector(panelName + \"-title\").innerHTML = el.title\n",
       "  iframe = document.querySelector(panelName + \"-body\");\n",
       "\n",
       "  const tblcss = `<style> body { font-family: Arial, Helvetica, sans-serif;}\n",
       "    #csv { margin-bottom: 15px; }\n",
       "    #csv table { border-collapse: collapse;}\n",
       "    #csv table td { padding: 4px 8px; border: 1px solid silver;} </style>`;\n",
       "\n",
       "  function csvToHtmlTable(str) {\n",
       "    return '<div id=\"csv\"><table><tr><td>' +  str.replace(/[\\n\\r]+$/g, '').replace(/[\\n\\r]+/g, '</td></tr><tr><td>')\n",
       "      .replace(/,/g, '</td><td>') + '</td></tr></table></div>';\n",
       "  }\n",
       "\n",
       "  function reqListener () {\n",
       "    if (el.title.endsWith(\".csv\")) {\n",
       "      iframe.setAttribute(\"srcdoc\", tblcss + csvToHtmlTable(this.responseText));\n",
       "    } else {\n",
       "      iframe.setAttribute(\"srcdoc\", this.responseText);\n",
       "    }\n",
       "    console.log(this.responseText);\n",
       "  }\n",
       "\n",
       "  const oReq = new XMLHttpRequest();\n",
       "  oReq.addEventListener(\"load\", reqListener);\n",
       "  oReq.open(\"GET\", el.title);\n",
       "  oReq.send();\n",
       "\n",
       "\n",
       "  //iframe.src = el.title;\n",
       "  const resultPane = document.querySelector(panelName + \"-pane\");\n",
       "  if (resultPane.classList.contains(\"hidden\")) {\n",
       "    resultPane.classList.remove(\"hidden\");\n",
       "  }\n",
       "}\n",
       "function closePanel(el) {\n",
       "  const panelName = \"#\" + el.getAttribute('paneName')\n",
       "  const resultPane = document.querySelector(panelName + \"-pane\");\n",
       "  if (!resultPane.classList.contains(\"hidden\")) {\n",
       "    resultPane.classList.add(\"hidden\");\n",
       "  }\n",
       "}\n",
       "\n",
       "</script>\n",
       "<div class=\"master-wrapper\">\n",
       "  <div class=\"block master-tbl\"><div>\n",
       "<style scoped>\n",
       "    .dataframe tbody tr th:only-of-type {\n",
       "        vertical-align: middle;\n",
       "    }\n",
       "\n",
       "    .dataframe tbody tr th {\n",
       "        vertical-align: top;\n",
       "    }\n",
       "\n",
       "    .dataframe thead th {\n",
       "        text-align: right;\n",
       "    }\n",
       "</style>\n",
       "<table border=\"1\" class=\"dataframe\">\n",
       "  <thead>\n",
       "    <tr style=\"text-align: right;\">\n",
       "      <th>project</th>\n",
       "      <th>uid</th>\n",
       "      <th>iter</th>\n",
       "      <th>start</th>\n",
       "      <th>state</th>\n",
       "      <th>name</th>\n",
       "      <th>labels</th>\n",
       "      <th>inputs</th>\n",
       "      <th>parameters</th>\n",
       "      <th>results</th>\n",
       "      <th>artifacts</th>\n",
       "    </tr>\n",
       "  </thead>\n",
       "  <tbody>\n",
       "    <tr>\n",
       "      <td>getting-started-iguazio</td>\n",
       "      <td><div title=\"641c839096e54c7982db874dc4c78db6\"><a href=\"https://dashboard.default-tenant.app.jnewriujxdig.iguazio-cd1.com/mlprojects/getting-started-iguazio/jobs/monitor/641c839096e54c7982db874dc4c78db6/overview\" target=\"_blank\" >...c4c78db6</a></div></td>\n",
       "      <td>0</td>\n",
       "      <td>Sep 09 03:29:32</td>\n",
       "      <td>completed</td>\n",
       "      <td>prep_data</td>\n",
       "      <td><div class=\"dictlist\">v3io_user=iguazio</div><div class=\"dictlist\">kind=</div><div class=\"dictlist\">owner=iguazio</div><div class=\"dictlist\">host=jupyter-7d576855f5-ngqd5</div></td>\n",
       "      <td><div title=\"https://s3.wasabisys.com/iguazio/data/iris/iris.data.raw.csv\">source_url</div></td>\n",
       "      <td></td>\n",
       "      <td><div class=\"dictlist\">num_rows=150</div></td>\n",
       "      <td><div class=\"artifact\" onclick=\"expandPanel(this)\" paneName=\"result5be39acd\" title=\"files/v3io/projects/getting-started-iguazio/artifacts/cleaned_data.csv\">cleaned_data</div></td>\n",
       "    </tr>\n",
       "  </tbody>\n",
       "</table>\n",
       "</div></div>\n",
       "  <div id=\"result5be39acd-pane\" class=\"right-pane block hidden\">\n",
       "    <div class=\"pane-header\">\n",
       "      <span id=\"result5be39acd-title\" class=\"pane-header-title\">Title</span>\n",
       "      <span onclick=\"closePanel(this)\" paneName=\"result5be39acd\" class=\"close clickable\">&times;</span>\n",
       "    </div>\n",
       "    <iframe class=\"fileview\" id=\"result5be39acd-body\"></iframe>\n",
       "  </div>\n",
       "</div>\n"
      ],
      "text/plain": [
       "<IPython.core.display.HTML object>"
      ]
     },
     "metadata": {},
     "output_type": "display_data"
    },
    {
     "name": "stdout",
     "output_type": "stream",
     "text": [
      "\n"
     ]
    },
    {
     "data": {
      "text/html": [
       "<b> > to track results use the .show() or .logs() methods  or <a href=\"https://dashboard.default-tenant.app.jnewriujxdig.iguazio-cd1.com/mlprojects/getting-started-iguazio/jobs/monitor/641c839096e54c7982db874dc4c78db6/overview\" target=\"_blank\">click here</a> to open in UI</b>"
      ],
      "text/plain": [
       "<IPython.core.display.HTML object>"
      ]
     },
     "metadata": {},
     "output_type": "display_data"
    },
    {
     "name": "stdout",
     "output_type": "stream",
     "text": [
      "> 2021-09-09 03:29:33,025 [info] run executed, status=completed\n"
     ]
    }
   ],
   "source": [
    "# Run the `data_prep_func` MLRun function locally\n",
    "prep_data_run = data_prep_func.run(name='prep_data',\n",
    "                                   handler=prep_data,\n",
    "                                   inputs={'source_url': source_url},\n",
    "                                   local=True)"
   ]
  },
  {
   "cell_type": "markdown",
   "metadata": {},
   "source": [
    "<a id=\"gs-tutorial-1-get-run-object-info\"></a>"
   ]
  },
  {
   "cell_type": "markdown",
   "metadata": {},
   "source": [
    "### Getting Information About the Run Object\n",
    "\n",
    "Every run object that's returned by the MLRun `run` method has the following methods:\n",
    "\n",
    "- `uid` &mdash; returns the unique ID.\n",
    "- `state` &mdash; returns the last known state.\n",
    "- `show` &mdash; shows the latest job state and data in a visual widget (with hyperlinks and hints).\n",
    "- `outputs` &mdash; returns a dictionary of the run results and artifact paths.\n",
    "- `logs` &mdash; returns the latest logs.\n",
    "    Use `Watch=False` to disable the interactive mode in running jobs.\n",
    "- `artifact` &mdash; returns full artifact details for the provided key.\n",
    "- `output` &mdash; returns a specific result or an artifact path for the provided key.\n",
    "- `to_dict`, `to_yaml`, `to_json` &mdash; converts the run object to a dictionary, YAML, or JSON format (respectively)."
   ]
  },
  {
   "cell_type": "code",
   "execution_count": 9,
   "metadata": {},
   "outputs": [
    {
     "data": {
      "text/plain": [
       "'completed'"
      ]
     },
     "execution_count": 9,
     "metadata": {},
     "output_type": "execute_result"
    }
   ],
   "source": [
    "# example\n",
    "prep_data_run.state()"
   ]
  },
  {
   "cell_type": "code",
   "execution_count": 10,
   "metadata": {},
   "outputs": [
    {
     "data": {
      "text/plain": [
       "'store://artifacts/getting-started-iguazio/prep_data_cleaned_data:641c839096e54c7982db874dc4c78db6'"
      ]
     },
     "execution_count": 10,
     "metadata": {},
     "output_type": "execute_result"
    }
   ],
   "source": [
    "# example\n",
    "prep_data_run.outputs['cleaned_data']"
   ]
  },
  {
   "cell_type": "markdown",
   "metadata": {},
   "source": [
    "<a id=\"gs-tutorial-1-read-output\"></a>"
   ]
  },
  {
   "cell_type": "markdown",
   "metadata": {},
   "source": [
    "### Reading the Output\n",
    "\n",
    "The data-set location is returned in the `outputs` field.\n",
    "Therefore, you can get the location by calling `prep_data_run.outputs['cleaned_data']` and using `run.get_dataitem` to get the data set itself."
   ]
  },
  {
   "cell_type": "code",
   "execution_count": 11,
   "metadata": {},
   "outputs": [],
   "source": [
    "dataset = prep_data_run.artifact('cleaned_data').as_df()"
   ]
  },
  {
   "cell_type": "code",
   "execution_count": 12,
   "metadata": {},
   "outputs": [
    {
     "data": {
      "text/html": [
       "<div>\n",
       "<style scoped>\n",
       "    .dataframe tbody tr th:only-of-type {\n",
       "        vertical-align: middle;\n",
       "    }\n",
       "\n",
       "    .dataframe tbody tr th {\n",
       "        vertical-align: top;\n",
       "    }\n",
       "\n",
       "    .dataframe thead th {\n",
       "        text-align: right;\n",
       "    }\n",
       "</style>\n",
       "<table border=\"1\" class=\"dataframe\">\n",
       "  <thead>\n",
       "    <tr style=\"text-align: right;\">\n",
       "      <th></th>\n",
       "      <th>sepal length (cm)</th>\n",
       "      <th>sepal width (cm)</th>\n",
       "      <th>petal length (cm)</th>\n",
       "      <th>petal width (cm)</th>\n",
       "      <th>label</th>\n",
       "    </tr>\n",
       "  </thead>\n",
       "  <tbody>\n",
       "    <tr>\n",
       "      <th>0</th>\n",
       "      <td>5.1</td>\n",
       "      <td>3.5</td>\n",
       "      <td>1.4</td>\n",
       "      <td>0.2</td>\n",
       "      <td>0</td>\n",
       "    </tr>\n",
       "    <tr>\n",
       "      <th>1</th>\n",
       "      <td>4.9</td>\n",
       "      <td>3.0</td>\n",
       "      <td>1.4</td>\n",
       "      <td>0.2</td>\n",
       "      <td>0</td>\n",
       "    </tr>\n",
       "    <tr>\n",
       "      <th>2</th>\n",
       "      <td>4.7</td>\n",
       "      <td>3.2</td>\n",
       "      <td>1.3</td>\n",
       "      <td>0.2</td>\n",
       "      <td>0</td>\n",
       "    </tr>\n",
       "    <tr>\n",
       "      <th>3</th>\n",
       "      <td>4.6</td>\n",
       "      <td>3.1</td>\n",
       "      <td>1.5</td>\n",
       "      <td>0.2</td>\n",
       "      <td>0</td>\n",
       "    </tr>\n",
       "    <tr>\n",
       "      <th>4</th>\n",
       "      <td>5.0</td>\n",
       "      <td>3.6</td>\n",
       "      <td>1.4</td>\n",
       "      <td>0.2</td>\n",
       "      <td>0</td>\n",
       "    </tr>\n",
       "  </tbody>\n",
       "</table>\n",
       "</div>"
      ],
      "text/plain": [
       "   sepal length (cm)  sepal width (cm)  petal length (cm)  petal width (cm)  \\\n",
       "0                5.1               3.5                1.4               0.2   \n",
       "1                4.9               3.0                1.4               0.2   \n",
       "2                4.7               3.2                1.3               0.2   \n",
       "3                4.6               3.1                1.5               0.2   \n",
       "4                5.0               3.6                1.4               0.2   \n",
       "\n",
       "   label  \n",
       "0      0  \n",
       "1      0  \n",
       "2      0  \n",
       "3      0  \n",
       "4      0  "
      ]
     },
     "execution_count": 12,
     "metadata": {},
     "output_type": "execute_result"
    }
   ],
   "source": [
    "dataset.head()"
   ]
  },
  {
   "cell_type": "markdown",
   "metadata": {},
   "source": [
    "<a id=\"gs-tutorial-1-save-artifacts-in-run-specific-paths\"></a>"
   ]
  },
  {
   "cell_type": "markdown",
   "metadata": {},
   "source": [
    "### Saving the Artifacts in Run-Specific Paths\n",
    "\n",
    "In the previous steps, each time the function was executed its artifacts were saved to the same directory, overwriting the existing artifacts in this directory.\n",
    "But you can also select to save the run results (source-data file) to a different directory for each job execution.\n",
    "This is done by setting the artifact path and using the unique run-ID parameter (`{{run.uid}}`) in the path.\n",
    "Now, under the artifact path you should be able to see the source-data file in a new directory whose name is derived from the unique run ID."
   ]
  },
  {
   "cell_type": "code",
   "execution_count": 13,
   "metadata": {},
   "outputs": [
    {
     "name": "stdout",
     "output_type": "stream",
     "text": [
      "> 2021-09-09 03:29:33,122 [info] starting run prep_data uid=981d59bc42824d438bdee190e76cd116 DB=http://mlrun-api:8080\n"
     ]
    },
    {
     "data": {
      "text/html": [
       "<style>\n",
       ".dictlist {\n",
       "  background-color: #4EC64B;\n",
       "  text-align: center;\n",
       "  margin: 4px;\n",
       "  border-radius: 3px; padding: 0px 3px 1px 3px; display: inline-block;}\n",
       ".artifact {\n",
       "  cursor: pointer;\n",
       "  background-color: #4EC64B;\n",
       "  text-align: left;\n",
       "  margin: 4px; border-radius: 3px; padding: 0px 3px 1px 3px; display: inline-block;\n",
       "}\n",
       "div.block.hidden {\n",
       "  display: none;\n",
       "}\n",
       ".clickable {\n",
       "  cursor: pointer;\n",
       "}\n",
       ".ellipsis {\n",
       "  display: inline-block;\n",
       "  max-width: 60px;\n",
       "  white-space: nowrap;\n",
       "  overflow: hidden;\n",
       "  text-overflow: ellipsis;\n",
       "}\n",
       ".master-wrapper {\n",
       "  display: flex;\n",
       "  flex-flow: row nowrap;\n",
       "  justify-content: flex-start;\n",
       "  align-items: stretch;\n",
       "}\n",
       ".master-tbl {\n",
       "  flex: 3\n",
       "}\n",
       ".master-wrapper > div {\n",
       "  margin: 4px;\n",
       "  padding: 10px;\n",
       "}\n",
       "iframe.fileview {\n",
       "  border: 0 none;\n",
       "  height: 100%;\n",
       "  width: 100%;\n",
       "  white-space: pre-wrap;\n",
       "}\n",
       ".pane-header-title {\n",
       "  width: 80%;\n",
       "  font-weight: 500;\n",
       "}\n",
       ".pane-header {\n",
       "  line-height: 1;\n",
       "  background-color: #4EC64B;\n",
       "  padding: 3px;\n",
       "}\n",
       ".pane-header .close {\n",
       "  font-size: 20px;\n",
       "  font-weight: 700;\n",
       "  float: right;\n",
       "  margin-top: -5px;\n",
       "}\n",
       ".master-wrapper .right-pane {\n",
       "  border: 1px inset silver;\n",
       "  width: 40%;\n",
       "  min-height: 300px;\n",
       "  flex: 3\n",
       "  min-width: 500px;\n",
       "}\n",
       ".master-wrapper * {\n",
       "  box-sizing: border-box;\n",
       "}\n",
       "</style><script>\n",
       "function copyToClipboard(fld) {\n",
       "    if (document.queryCommandSupported && document.queryCommandSupported('copy')) {\n",
       "        var textarea = document.createElement('textarea');\n",
       "        textarea.textContent = fld.innerHTML;\n",
       "        textarea.style.position = 'fixed';\n",
       "        document.body.appendChild(textarea);\n",
       "        textarea.select();\n",
       "\n",
       "        try {\n",
       "            return document.execCommand('copy'); // Security exception may be thrown by some browsers.\n",
       "        } catch (ex) {\n",
       "\n",
       "        } finally {\n",
       "            document.body.removeChild(textarea);\n",
       "        }\n",
       "    }\n",
       "}\n",
       "function expandPanel(el) {\n",
       "  const panelName = \"#\" + el.getAttribute('paneName');\n",
       "  console.log(el.title);\n",
       "\n",
       "  document.querySelector(panelName + \"-title\").innerHTML = el.title\n",
       "  iframe = document.querySelector(panelName + \"-body\");\n",
       "\n",
       "  const tblcss = `<style> body { font-family: Arial, Helvetica, sans-serif;}\n",
       "    #csv { margin-bottom: 15px; }\n",
       "    #csv table { border-collapse: collapse;}\n",
       "    #csv table td { padding: 4px 8px; border: 1px solid silver;} </style>`;\n",
       "\n",
       "  function csvToHtmlTable(str) {\n",
       "    return '<div id=\"csv\"><table><tr><td>' +  str.replace(/[\\n\\r]+$/g, '').replace(/[\\n\\r]+/g, '</td></tr><tr><td>')\n",
       "      .replace(/,/g, '</td><td>') + '</td></tr></table></div>';\n",
       "  }\n",
       "\n",
       "  function reqListener () {\n",
       "    if (el.title.endsWith(\".csv\")) {\n",
       "      iframe.setAttribute(\"srcdoc\", tblcss + csvToHtmlTable(this.responseText));\n",
       "    } else {\n",
       "      iframe.setAttribute(\"srcdoc\", this.responseText);\n",
       "    }\n",
       "    console.log(this.responseText);\n",
       "  }\n",
       "\n",
       "  const oReq = new XMLHttpRequest();\n",
       "  oReq.addEventListener(\"load\", reqListener);\n",
       "  oReq.open(\"GET\", el.title);\n",
       "  oReq.send();\n",
       "\n",
       "\n",
       "  //iframe.src = el.title;\n",
       "  const resultPane = document.querySelector(panelName + \"-pane\");\n",
       "  if (resultPane.classList.contains(\"hidden\")) {\n",
       "    resultPane.classList.remove(\"hidden\");\n",
       "  }\n",
       "}\n",
       "function closePanel(el) {\n",
       "  const panelName = \"#\" + el.getAttribute('paneName')\n",
       "  const resultPane = document.querySelector(panelName + \"-pane\");\n",
       "  if (!resultPane.classList.contains(\"hidden\")) {\n",
       "    resultPane.classList.add(\"hidden\");\n",
       "  }\n",
       "}\n",
       "\n",
       "</script>\n",
       "<div class=\"master-wrapper\">\n",
       "  <div class=\"block master-tbl\"><div>\n",
       "<style scoped>\n",
       "    .dataframe tbody tr th:only-of-type {\n",
       "        vertical-align: middle;\n",
       "    }\n",
       "\n",
       "    .dataframe tbody tr th {\n",
       "        vertical-align: top;\n",
       "    }\n",
       "\n",
       "    .dataframe thead th {\n",
       "        text-align: right;\n",
       "    }\n",
       "</style>\n",
       "<table border=\"1\" class=\"dataframe\">\n",
       "  <thead>\n",
       "    <tr style=\"text-align: right;\">\n",
       "      <th>project</th>\n",
       "      <th>uid</th>\n",
       "      <th>iter</th>\n",
       "      <th>start</th>\n",
       "      <th>state</th>\n",
       "      <th>name</th>\n",
       "      <th>labels</th>\n",
       "      <th>inputs</th>\n",
       "      <th>parameters</th>\n",
       "      <th>results</th>\n",
       "      <th>artifacts</th>\n",
       "    </tr>\n",
       "  </thead>\n",
       "  <tbody>\n",
       "    <tr>\n",
       "      <td>getting-started-iguazio</td>\n",
       "      <td><div title=\"981d59bc42824d438bdee190e76cd116\"><a href=\"https://dashboard.default-tenant.app.jnewriujxdig.iguazio-cd1.com/mlprojects/getting-started-iguazio/jobs/monitor/981d59bc42824d438bdee190e76cd116/overview\" target=\"_blank\" >...e76cd116</a></div></td>\n",
       "      <td>0</td>\n",
       "      <td>Sep 09 03:29:33</td>\n",
       "      <td>completed</td>\n",
       "      <td>prep_data</td>\n",
       "      <td><div class=\"dictlist\">v3io_user=iguazio</div><div class=\"dictlist\">kind=</div><div class=\"dictlist\">owner=iguazio</div><div class=\"dictlist\">host=jupyter-7d576855f5-ngqd5</div></td>\n",
       "      <td><div title=\"https://s3.wasabisys.com/iguazio/data/iris/iris.data.raw.csv\">source_url</div></td>\n",
       "      <td></td>\n",
       "      <td><div class=\"dictlist\">num_rows=150</div></td>\n",
       "      <td><div class=\"artifact\" onclick=\"expandPanel(this)\" paneName=\"resultc65a6690\" title=\"files/v3io/projects/getting-started-iguazio/artifacts/981d59bc42824d438bdee190e76cd116/cleaned_data.csv\">cleaned_data</div></td>\n",
       "    </tr>\n",
       "  </tbody>\n",
       "</table>\n",
       "</div></div>\n",
       "  <div id=\"resultc65a6690-pane\" class=\"right-pane block hidden\">\n",
       "    <div class=\"pane-header\">\n",
       "      <span id=\"resultc65a6690-title\" class=\"pane-header-title\">Title</span>\n",
       "      <span onclick=\"closePanel(this)\" paneName=\"resultc65a6690\" class=\"close clickable\">&times;</span>\n",
       "    </div>\n",
       "    <iframe class=\"fileview\" id=\"resultc65a6690-body\"></iframe>\n",
       "  </div>\n",
       "</div>\n"
      ],
      "text/plain": [
       "<IPython.core.display.HTML object>"
      ]
     },
     "metadata": {},
     "output_type": "display_data"
    },
    {
     "name": "stdout",
     "output_type": "stream",
     "text": [
      "\n"
     ]
    },
    {
     "data": {
      "text/html": [
       "<b> > to track results use the .show() or .logs() methods  or <a href=\"https://dashboard.default-tenant.app.jnewriujxdig.iguazio-cd1.com/mlprojects/getting-started-iguazio/jobs/monitor/981d59bc42824d438bdee190e76cd116/overview\" target=\"_blank\">click here</a> to open in UI</b>"
      ],
      "text/plain": [
       "<IPython.core.display.HTML object>"
      ]
     },
     "metadata": {},
     "output_type": "display_data"
    },
    {
     "name": "stdout",
     "output_type": "stream",
     "text": [
      "> 2021-09-09 03:29:33,854 [info] run executed, status=completed\n"
     ]
    }
   ],
   "source": [
    "prep_data_run = data_prep_func.run(name='prep_data',\n",
    "                         handler=prep_data,\n",
    "                         inputs={'source_url': source_url},\n",
    "                         local=True,\n",
    "                         artifact_path=path.join(mlrun.mlconf.artifact_path, '{{run.uid}}'))"
   ]
  },
  {
   "cell_type": "markdown",
   "metadata": {},
   "source": [
    "<a id=\"gs-tutorial-1-step-run-func-on-cluster\"></a>"
   ]
  },
  {
   "cell_type": "markdown",
   "metadata": {},
   "source": [
    "## Step 3: Running the Function on a Cluster\n",
    "\n",
    "You can also run MLRun functions on the cluster itself, as opposed to running them locally, as done in the previous steps.\n",
    "Running a function on the cluster allows you to leverage the cluster's resources and run a more resource-intensive workloads.\n",
    "MLRun helps you to easily run your code without the hassle of creating configuration files and build images.\n",
    "To run an MLRun function on a cluster, just change the value of the `local` flag in the call to the `run` method to `False`."
   ]
  },
  {
   "cell_type": "code",
   "execution_count": 14,
   "metadata": {},
   "outputs": [
    {
     "name": "stdout",
     "output_type": "stream",
     "text": [
      "> 2021-09-09 03:29:33,860 [info] starting run prep_data uid=03ad8f31e27d418884b288e46d15b9cf DB=http://mlrun-api:8080\n",
      "> 2021-09-09 03:29:34,076 [info] Job is running in the background, pod: prep-data-bxvml\n",
      "> 2021-09-09 03:29:40,012 [info] run executed, status=completed\n",
      "final state: completed\n"
     ]
    },
    {
     "data": {
      "text/html": [
       "<style>\n",
       ".dictlist {\n",
       "  background-color: #4EC64B;\n",
       "  text-align: center;\n",
       "  margin: 4px;\n",
       "  border-radius: 3px; padding: 0px 3px 1px 3px; display: inline-block;}\n",
       ".artifact {\n",
       "  cursor: pointer;\n",
       "  background-color: #4EC64B;\n",
       "  text-align: left;\n",
       "  margin: 4px; border-radius: 3px; padding: 0px 3px 1px 3px; display: inline-block;\n",
       "}\n",
       "div.block.hidden {\n",
       "  display: none;\n",
       "}\n",
       ".clickable {\n",
       "  cursor: pointer;\n",
       "}\n",
       ".ellipsis {\n",
       "  display: inline-block;\n",
       "  max-width: 60px;\n",
       "  white-space: nowrap;\n",
       "  overflow: hidden;\n",
       "  text-overflow: ellipsis;\n",
       "}\n",
       ".master-wrapper {\n",
       "  display: flex;\n",
       "  flex-flow: row nowrap;\n",
       "  justify-content: flex-start;\n",
       "  align-items: stretch;\n",
       "}\n",
       ".master-tbl {\n",
       "  flex: 3\n",
       "}\n",
       ".master-wrapper > div {\n",
       "  margin: 4px;\n",
       "  padding: 10px;\n",
       "}\n",
       "iframe.fileview {\n",
       "  border: 0 none;\n",
       "  height: 100%;\n",
       "  width: 100%;\n",
       "  white-space: pre-wrap;\n",
       "}\n",
       ".pane-header-title {\n",
       "  width: 80%;\n",
       "  font-weight: 500;\n",
       "}\n",
       ".pane-header {\n",
       "  line-height: 1;\n",
       "  background-color: #4EC64B;\n",
       "  padding: 3px;\n",
       "}\n",
       ".pane-header .close {\n",
       "  font-size: 20px;\n",
       "  font-weight: 700;\n",
       "  float: right;\n",
       "  margin-top: -5px;\n",
       "}\n",
       ".master-wrapper .right-pane {\n",
       "  border: 1px inset silver;\n",
       "  width: 40%;\n",
       "  min-height: 300px;\n",
       "  flex: 3\n",
       "  min-width: 500px;\n",
       "}\n",
       ".master-wrapper * {\n",
       "  box-sizing: border-box;\n",
       "}\n",
       "</style><script>\n",
       "function copyToClipboard(fld) {\n",
       "    if (document.queryCommandSupported && document.queryCommandSupported('copy')) {\n",
       "        var textarea = document.createElement('textarea');\n",
       "        textarea.textContent = fld.innerHTML;\n",
       "        textarea.style.position = 'fixed';\n",
       "        document.body.appendChild(textarea);\n",
       "        textarea.select();\n",
       "\n",
       "        try {\n",
       "            return document.execCommand('copy'); // Security exception may be thrown by some browsers.\n",
       "        } catch (ex) {\n",
       "\n",
       "        } finally {\n",
       "            document.body.removeChild(textarea);\n",
       "        }\n",
       "    }\n",
       "}\n",
       "function expandPanel(el) {\n",
       "  const panelName = \"#\" + el.getAttribute('paneName');\n",
       "  console.log(el.title);\n",
       "\n",
       "  document.querySelector(panelName + \"-title\").innerHTML = el.title\n",
       "  iframe = document.querySelector(panelName + \"-body\");\n",
       "\n",
       "  const tblcss = `<style> body { font-family: Arial, Helvetica, sans-serif;}\n",
       "    #csv { margin-bottom: 15px; }\n",
       "    #csv table { border-collapse: collapse;}\n",
       "    #csv table td { padding: 4px 8px; border: 1px solid silver;} </style>`;\n",
       "\n",
       "  function csvToHtmlTable(str) {\n",
       "    return '<div id=\"csv\"><table><tr><td>' +  str.replace(/[\\n\\r]+$/g, '').replace(/[\\n\\r]+/g, '</td></tr><tr><td>')\n",
       "      .replace(/,/g, '</td><td>') + '</td></tr></table></div>';\n",
       "  }\n",
       "\n",
       "  function reqListener () {\n",
       "    if (el.title.endsWith(\".csv\")) {\n",
       "      iframe.setAttribute(\"srcdoc\", tblcss + csvToHtmlTable(this.responseText));\n",
       "    } else {\n",
       "      iframe.setAttribute(\"srcdoc\", this.responseText);\n",
       "    }\n",
       "    console.log(this.responseText);\n",
       "  }\n",
       "\n",
       "  const oReq = new XMLHttpRequest();\n",
       "  oReq.addEventListener(\"load\", reqListener);\n",
       "  oReq.open(\"GET\", el.title);\n",
       "  oReq.send();\n",
       "\n",
       "\n",
       "  //iframe.src = el.title;\n",
       "  const resultPane = document.querySelector(panelName + \"-pane\");\n",
       "  if (resultPane.classList.contains(\"hidden\")) {\n",
       "    resultPane.classList.remove(\"hidden\");\n",
       "  }\n",
       "}\n",
       "function closePanel(el) {\n",
       "  const panelName = \"#\" + el.getAttribute('paneName')\n",
       "  const resultPane = document.querySelector(panelName + \"-pane\");\n",
       "  if (!resultPane.classList.contains(\"hidden\")) {\n",
       "    resultPane.classList.add(\"hidden\");\n",
       "  }\n",
       "}\n",
       "\n",
       "</script>\n",
       "<div class=\"master-wrapper\">\n",
       "  <div class=\"block master-tbl\"><div>\n",
       "<style scoped>\n",
       "    .dataframe tbody tr th:only-of-type {\n",
       "        vertical-align: middle;\n",
       "    }\n",
       "\n",
       "    .dataframe tbody tr th {\n",
       "        vertical-align: top;\n",
       "    }\n",
       "\n",
       "    .dataframe thead th {\n",
       "        text-align: right;\n",
       "    }\n",
       "</style>\n",
       "<table border=\"1\" class=\"dataframe\">\n",
       "  <thead>\n",
       "    <tr style=\"text-align: right;\">\n",
       "      <th>project</th>\n",
       "      <th>uid</th>\n",
       "      <th>iter</th>\n",
       "      <th>start</th>\n",
       "      <th>state</th>\n",
       "      <th>name</th>\n",
       "      <th>labels</th>\n",
       "      <th>inputs</th>\n",
       "      <th>parameters</th>\n",
       "      <th>results</th>\n",
       "      <th>artifacts</th>\n",
       "    </tr>\n",
       "  </thead>\n",
       "  <tbody>\n",
       "    <tr>\n",
       "      <td>getting-started-iguazio</td>\n",
       "      <td><div title=\"03ad8f31e27d418884b288e46d15b9cf\"><a href=\"https://dashboard.default-tenant.app.jnewriujxdig.iguazio-cd1.com/mlprojects/getting-started-iguazio/jobs/monitor/03ad8f31e27d418884b288e46d15b9cf/overview\" target=\"_blank\" >...6d15b9cf</a></div></td>\n",
       "      <td>0</td>\n",
       "      <td>Sep 09 03:29:39</td>\n",
       "      <td>completed</td>\n",
       "      <td>prep_data</td>\n",
       "      <td><div class=\"dictlist\">v3io_user=iguazio</div><div class=\"dictlist\">kind=job</div><div class=\"dictlist\">owner=iguazio</div><div class=\"dictlist\">host=prep-data-bxvml</div></td>\n",
       "      <td><div title=\"https://s3.wasabisys.com/iguazio/data/iris/iris.data.raw.csv\">source_url</div></td>\n",
       "      <td></td>\n",
       "      <td><div class=\"dictlist\">num_rows=150</div></td>\n",
       "      <td><div class=\"artifact\" onclick=\"expandPanel(this)\" paneName=\"resulte894dd6b\" title=\"files/v3io/projects/getting-started-iguazio/artifacts/cleaned_data.csv\">cleaned_data</div></td>\n",
       "    </tr>\n",
       "  </tbody>\n",
       "</table>\n",
       "</div></div>\n",
       "  <div id=\"resulte894dd6b-pane\" class=\"right-pane block hidden\">\n",
       "    <div class=\"pane-header\">\n",
       "      <span id=\"resulte894dd6b-title\" class=\"pane-header-title\">Title</span>\n",
       "      <span onclick=\"closePanel(this)\" paneName=\"resulte894dd6b\" class=\"close clickable\">&times;</span>\n",
       "    </div>\n",
       "    <iframe class=\"fileview\" id=\"resulte894dd6b-body\"></iframe>\n",
       "  </div>\n",
       "</div>\n"
      ],
      "text/plain": [
       "<IPython.core.display.HTML object>"
      ]
     },
     "metadata": {},
     "output_type": "display_data"
    },
    {
     "name": "stdout",
     "output_type": "stream",
     "text": [
      "\n"
     ]
    },
    {
     "data": {
      "text/html": [
       "<b> > to track results use the .show() or .logs() methods  or <a href=\"https://dashboard.default-tenant.app.jnewriujxdig.iguazio-cd1.com/mlprojects/getting-started-iguazio/jobs/monitor/03ad8f31e27d418884b288e46d15b9cf/overview\" target=\"_blank\">click here</a> to open in UI</b>"
      ],
      "text/plain": [
       "<IPython.core.display.HTML object>"
      ]
     },
     "metadata": {},
     "output_type": "display_data"
    },
    {
     "name": "stdout",
     "output_type": "stream",
     "text": [
      "> 2021-09-09 03:29:40,335 [info] run executed, status=completed\n"
     ]
    }
   ],
   "source": [
    "prep_data_run = data_prep_func.run(name='prep_data',\n",
    "                                   handler='prep_data',\n",
    "                                   inputs={'source_url': source_url},\n",
    "                                   local=False)"
   ]
  },
  {
   "cell_type": "markdown",
   "metadata": {},
   "source": [
    "<a id=\"gs-tutorial-1-step-ui-jobs-view\"></a>"
   ]
  },
  {
   "cell_type": "markdown",
   "metadata": {},
   "source": [
    "## Step 4: Viewing Jobs on the Dashboard (UI)\n",
    "\n",
    "On the **Projects** dashboard page, select your project and then navigate to the project's jobs and workflow page by selecting the relevant link.\n",
    "For this tutorial, after running the `prep_data` method twice, you should see three records with types local (**&lt;&gt;**) and job.\n",
    "In this view you can track all jobs running in your project and view detailed job information.\n",
    "Select a job name to display tabs with additional information such as an input data set, artifacts that were generated by the job, and execution results and logs. "
   ]
  },
  {
   "cell_type": "markdown",
   "metadata": {},
   "source": [
    "<img src=\"./_static/images/jobs.png\" alt=\"Jobs\" width=\"800\"/>"
   ]
  },
  {
   "cell_type": "markdown",
   "metadata": {},
   "source": [
    "<a id=\"gs-tutorial-1-step-schedule-jobs\"></a>"
   ]
  },
  {
   "cell_type": "markdown",
   "metadata": {},
   "source": [
    "## Step 5: Scheduling Jobs\n",
    "\n",
    "To schedule a job, you can set the `schedule` parameter of the `run` method.\n",
    "The scheduling is done by using a crontab format.\n",
    "\n",
    "You can also schedule jobs from the dashboard: on the jobs and monitoring project page, you can create a new job using the **New Job** wizard.\n",
    "At the end of the wizard flow you can set the job scheduling.\n",
    "In the following example, the job is set to run every 30 minutes."
   ]
  },
  {
   "cell_type": "code",
   "execution_count": 15,
   "metadata": {},
   "outputs": [
    {
     "name": "stdout",
     "output_type": "stream",
     "text": [
      "> 2021-09-09 03:29:40,341 [info] starting run prep_data uid=ead40d37a7954816a06f7b1fd929d5d5 DB=http://mlrun-api:8080\n",
      "> 2021-09-09 03:29:40,534 [info] task scheduled, {'schedule': '*/30 * * * *', 'project': 'getting-started-iguazio', 'name': 'prep_data'}\n"
     ]
    }
   ],
   "source": [
    "data_prep_func\n",
    "prep_data_run = data_prep_func.run(name='prep_data',\n",
    "                                   handler='prep_data',\n",
    "                                   inputs={'source_url': source_url},\n",
    "                                   local=False,\n",
    "                                   schedule='*/30 * * * *')"
   ]
  },
  {
   "cell_type": "markdown",
   "metadata": {},
   "source": [
    "<a id=\"gs-tutorial-1-scheduled-jobs-ui-view\"></a>"
   ]
  },
  {
   "cell_type": "markdown",
   "metadata": {},
   "source": [
    "### View Scheduled Jobs on the Dashboard (UI)\n",
    "\n",
    "You can also see your scheduled jobs on your project's **Jobs | Schedule** dashboard page. "
   ]
  },
  {
   "cell_type": "markdown",
   "metadata": {},
   "source": [
    "<img src=\"./_static/images/func-schedule.jpg\" alt=\"scheduled-jobs\" width=\"1400\"/>"
   ]
  },
  {
   "cell_type": "markdown",
   "metadata": {},
   "source": [
    "<a id=\"gs-tutorial-1-scheduled-jobs-delete\"></a>"
   ]
  },
  {
   "cell_type": "markdown",
   "metadata": {},
   "source": [
    "### Deleting Scheduled Jobs\n",
    "\n",
    "When you no longer need to run the scheduled jobs, remove them in the UI or by using the `get_run_db().delete_schedule` MLRun method to delete the job-schedule objects that you created."
   ]
  },
  {
   "cell_type": "code",
   "execution_count": 16,
   "metadata": {},
   "outputs": [],
   "source": [
    "mlrun.get_run_db().delete_schedule(project_name, 'prep_data')"
   ]
  },
  {
   "cell_type": "markdown",
   "metadata": {},
   "source": [
    "<a id=\"gs-tutorial-1-done\"></a>"
   ]
  },
  {
   "cell_type": "markdown",
   "metadata": {},
   "source": [
    "## Done!\n",
    "\n",
    "Congratulation! You've completed Part 1 of the MLRun getting-started tutorial.\n",
    "Proceed to [Part 2](02-model-training.ipynb) to learn how to train an ML model."
   ]
  }
 ],
 "metadata": {
  "kernelspec": {
   "display_name": "Python 3",
   "language": "python",
   "name": "python3"
  },
  "language_info": {
   "codemirror_mode": {
    "name": "ipython",
    "version": 3
   },
   "file_extension": ".py",
   "mimetype": "text/x-python",
   "name": "python",
   "nbconvert_exporter": "python",
   "pygments_lexer": "ipython3",
   "version": "3.7.6"
  }
 },
 "nbformat": 4,
 "nbformat_minor": 4
}
