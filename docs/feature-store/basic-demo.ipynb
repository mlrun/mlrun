{
 "cells": [
  {
   "cell_type": "markdown",
   "metadata": {},
   "source": [
    "# Feature Store Example (Stocks)\n",
    "\n",
    "This notebook demonstrates the following:\n",
    "- Generate features and feature-sets\n",
    "- Build complex transformations and ingest to offline and real-time data stores\n",
    "- Fetch feature vectors for training\n",
    "- Save feature vectors for re-use in real-time pipelines\n",
    "- Access features and their statistics in real-time\n",
    "\n",
    "Install the latest MLRun package and restart the notebook\n",
    "\n",
    "Setting up the environment and project"
   ]
  },
  {
   "cell_type": "code",
   "execution_count": null,
   "metadata": {},
   "outputs": [],
   "source": [
    "import mlrun\n",
    "mlrun.set_environment(project=\"stocks\")"
   ]
  },
  {
   "cell_type": "markdown",
   "metadata": {},
   "source": [
    "## Create Sample Data For Demo"
   ]
  },
  {
   "cell_type": "code",
   "execution_count": null,
   "metadata": {
    "tags": [
     "hide-cell"
    ]
   },
   "outputs": [],
   "source": [
    "import pandas as pd\n",
    "quotes = pd.DataFrame(\n",
    "    {\n",
    "        \"time\": [\n",
    "            pd.Timestamp(\"2016-05-25 13:30:00.023\"),\n",
    "            pd.Timestamp(\"2016-05-25 13:30:00.023\"),\n",
    "            pd.Timestamp(\"2016-05-25 13:30:00.030\"),\n",
    "            pd.Timestamp(\"2016-05-25 13:30:00.041\"),\n",
    "            pd.Timestamp(\"2016-05-25 13:30:00.048\"),\n",
    "            pd.Timestamp(\"2016-05-25 13:30:00.049\"),\n",
    "            pd.Timestamp(\"2016-05-25 13:30:00.072\"),\n",
    "            pd.Timestamp(\"2016-05-25 13:30:00.075\")\n",
    "        ],\n",
    "        \"ticker\": [\n",
    "               \"GOOG\",\n",
    "               \"MSFT\",\n",
    "               \"MSFT\",\n",
    "               \"MSFT\",\n",
    "               \"GOOG\",\n",
    "               \"AAPL\",\n",
    "               \"GOOG\",\n",
    "               \"MSFT\"\n",
    "           ],\n",
    "           \"bid\": [720.50, 51.95, 51.97, 51.99, 720.50, 97.99, 720.50, 52.01],\n",
    "           \"ask\": [720.93, 51.96, 51.98, 52.00, 720.93, 98.01, 720.88, 52.03]\n",
    "    }\n",
    ")\n",
    "\n",
    "trades = pd.DataFrame(\n",
    "       {\n",
    "           \"time\": [\n",
    "               pd.Timestamp(\"2016-05-25 13:30:00.023\"),\n",
    "               pd.Timestamp(\"2016-05-25 13:30:00.038\"),\n",
    "               pd.Timestamp(\"2016-05-25 13:30:00.048\"),\n",
    "               pd.Timestamp(\"2016-05-25 13:30:00.048\"),\n",
    "               pd.Timestamp(\"2016-05-25 13:30:00.048\")\n",
    "           ],\n",
    "           \"ticker\": [\"MSFT\", \"MSFT\", \"GOOG\", \"GOOG\", \"AAPL\"],\n",
    "           \"price\": [51.95, 51.95, 720.77, 720.92, 98.0],\n",
    "           \"quantity\": [75, 155, 100, 100, 100]\n",
    "       }\n",
    ")\n",
    "\n",
    "\n",
    "stocks = pd.DataFrame(\n",
    "       {\n",
    "           \"ticker\": [\"MSFT\", \"GOOG\", \"AAPL\"],\n",
    "           \"name\": [\"Microsoft Corporation\", \"Alphabet Inc\", \"Apple Inc\"],\n",
    "           \"exchange\": [\"NASDAQ\", \"NASDAQ\", \"NASDAQ\"]\n",
    "       }\n",
    ")\n",
    "\n",
    "import datetime\n",
    "def move_date(df, col):\n",
    "    max_date = df[col].max()\n",
    "    now_date = datetime.datetime.now()\n",
    "    delta = now_date - max_date \n",
    "    df[col] = df[col] + delta \n",
    "    return df\n",
    "\n",
    "quotes = move_date(quotes, \"time\")\n",
    "trades = move_date(trades, \"time\")"
   ]
  },
  {
   "cell_type": "markdown",
   "metadata": {},
   "source": [
    "### View Demo Data"
   ]
  },
  {
   "cell_type": "code",
   "execution_count": null,
   "metadata": {
    "tags": [
     "hide-output"
    ]
   },
   "outputs": [],
   "source": [
    "quotes"
   ]
  },
  {
   "cell_type": "code",
   "execution_count": null,
   "metadata": {
    "tags": [
     "hide-output"
    ]
   },
   "outputs": [],
   "source": [
    "trades"
   ]
  },
  {
   "cell_type": "code",
   "execution_count": null,
   "metadata": {
    "tags": [
     "hide-output"
    ]
   },
   "outputs": [],
   "source": [
    "stocks"
   ]
  },
  {
   "cell_type": "markdown",
   "metadata": {},
   "source": [
    "## Define, Infer and Ingest Feature Sets"
   ]
  },
  {
   "cell_type": "code",
   "execution_count": null,
   "metadata": {},
   "outputs": [],
   "source": [
    "import mlrun.feature_store as fstore\n",
    "from mlrun.feature_store.steps import *\n",
    "from mlrun.features import MinMaxValidator"
   ]
  },
  {
   "cell_type": "markdown",
   "metadata": {},
   "source": [
    "### Build & Ingest Simple Feature Set (stocks)"
   ]
  },
  {
   "cell_type": "code",
   "execution_count": null,
   "metadata": {},
   "outputs": [],
   "source": [
    "# add feature set without time column (stock ticker metadata) \n",
    "stocks_set = fstore.FeatureSet(\"stocks\", entities=[fstore.Entity(\"ticker\")])\n",
    "fstore.ingest(stocks_set, stocks, infer_options=fstore.InferOptions.default())"
   ]
  },
  {
   "cell_type": "markdown",
   "metadata": {},
   "source": [
    "### Build Advanced feature set - with feature engineering pipeline\n",
    "Define a feature set with custom data processing and time aggregation functions "
   ]
  },
  {
   "cell_type": "code",
   "execution_count": null,
   "metadata": {},
   "outputs": [],
   "source": [
    "# create a new feature set\n",
    "quotes_set = fstore.FeatureSet(\"stock-quotes\", entities=[fstore.Entity(\"ticker\")])"
   ]
  },
  {
   "cell_type": "markdown",
   "metadata": {},
   "source": [
    "**define a custom pipeline step (python class)**"
   ]
  },
  {
   "cell_type": "code",
   "execution_count": null,
   "metadata": {},
   "outputs": [],
   "source": [
    "class MyMap(MapClass):\n",
    "    def __init__(self, multiplier=1, **kwargs):\n",
    "        super().__init__(**kwargs)\n",
    "        self._multiplier = multiplier\n",
    "\n",
    "    def do(self, event):\n",
    "        event[\"multi\"] = event[\"bid\"] * self._multiplier\n",
    "        return event"
   ]
  },
  {
   "cell_type": "markdown",
   "metadata": {},
   "source": [
    "**build and show the transformatiom pipeline**\n",
    "\n",
    "Use `storey` stream processing classes along with library and custom classes"
   ]
  },
  {
   "cell_type": "code",
   "execution_count": null,
   "metadata": {},
   "outputs": [],
   "source": [
    "quotes_set.graph.to(\"MyMap\", multiplier=3)\\\n",
    "                .to(\"storey.Extend\", _fn=\"({'extra': event['bid'] * 77})\")\\\n",
    "                .to(\"storey.Filter\", \"filter\", _fn=\"(event['bid'] > 51.92)\")\\\n",
    "                .to(FeaturesetValidator())\n",
    "\n",
    "quotes_set.add_feature_aggregation(\"ask\", [\"sum\", \"max\"], \"1h\", \"10m\", name=\"asks1\")\n",
    "quotes_set.add_feature_aggregation(\"ask\", [\"sum\", \"max\"], \"5h\", \"10m\", name=\"asks5\")\n",
    "quotes_set.add_feature_aggregation(\"bid\", [\"min\", \"max\"], \"1h\", \"10m\")\n",
    "\n",
    "# add feature validation policy\n",
    "quotes_set[\"bid\"] = fstore.Feature(validator=MinMaxValidator(min=52, severity=\"info\"))\n",
    "\n",
    "# add default target definitions and plot\n",
    "quotes_set.set_targets()\n",
    "quotes_set.plot(rankdir=\"LR\", with_targets=True)"
   ]
  },
  {
   "cell_type": "markdown",
   "metadata": {},
   "source": [
    "**test and show the pipeline results locally (allow to quickly develop and debug)**"
   ]
  },
  {
   "cell_type": "code",
   "execution_count": null,
   "metadata": {},
   "outputs": [],
   "source": [
    "fstore.preview(\n",
    "    quotes_set,\n",
    "    quotes,\n",
    "    entity_columns=[\"ticker\"],\n",
    "    timestamp_key=\"time\",\n",
    "    options=fstore.InferOptions.default(),\n",
    ")"
   ]
  },
  {
   "cell_type": "code",
   "execution_count": null,
   "metadata": {
    "tags": [
     "hide-output"
    ]
   },
   "outputs": [],
   "source": [
    "# print the feature set object\n",
    "print(quotes_set.to_yaml())"
   ]
  },
  {
   "cell_type": "markdown",
   "metadata": {},
   "source": [
    "### ingest data into offline and online stores\n",
    "This will write to both targets (Parquet and NoSQL)"
   ]
  },
  {
   "cell_type": "code",
   "execution_count": null,
   "metadata": {},
   "outputs": [],
   "source": [
    "# save ingest data and print the FeatureSet spec\n",
    "df = fstore.ingest(quotes_set, quotes)"
   ]
  },
  {
   "cell_type": "markdown",
   "metadata": {},
   "source": [
    "## Get an Offline Feature Vector for Training\n",
    "Example of combining features from 3 sources with time travel join of 3 tables with **time travel**\n",
    "\n",
    "Specify a set of features and request the feature vector offline result as a dataframe"
   ]
  },
  {
   "cell_type": "code",
   "execution_count": null,
   "metadata": {},
   "outputs": [],
   "source": [
    "features = [\n",
    "    \"stock-quotes.multi\",\n",
    "    \"stock-quotes.asks5_sum_5h as total_ask\",\n",
    "    \"stock-quotes.bid_min_1h\",\n",
    "    \"stock-quotes.bid_max_1h\",\n",
    "    \"stocks.*\",\n",
    "]\n",
    "\n",
    "vector = fstore.FeatureVector(\"stocks-vec\", features, description=\"stocks demo feature vector\")\n",
    "vector.save()"
   ]
  },
  {
   "cell_type": "code",
   "execution_count": null,
   "metadata": {},
   "outputs": [],
   "source": [
    "resp = fstore.get_offline_features(vector, entity_rows=trades, entity_timestamp_column=\"time\")\n",
    "resp.to_dataframe()"
   ]
  },
  {
   "cell_type": "markdown",
   "metadata": {},
   "source": [
    "## Initialize an online feature service and use it for real-time inference"
   ]
  },
  {
   "cell_type": "code",
   "execution_count": null,
   "metadata": {},
   "outputs": [],
   "source": [
    "service = fstore.get_online_feature_service(\"stocks-vec\")"
   ]
  },
  {
   "cell_type": "markdown",
   "metadata": {},
   "source": [
    "**Request feature vector statistics, can be used for imputing or validation**"
   ]
  },
  {
   "cell_type": "code",
   "execution_count": null,
   "metadata": {},
   "outputs": [],
   "source": [
    "service.vector.get_stats_table()"
   ]
  },
  {
   "cell_type": "markdown",
   "metadata": {},
   "source": [
    "**Real-time feature vector request**"
   ]
  },
  {
   "cell_type": "code",
   "execution_count": null,
   "metadata": {},
   "outputs": [],
   "source": [
    "service.get([{\"ticker\": \"GOOG\"}, {\"ticker\": \"MSFT\"}])"
   ]
  },
  {
   "cell_type": "code",
   "execution_count": null,
   "metadata": {},
   "outputs": [],
   "source": [
    "service.get([{\"ticker\": \"AAPL\"}])"
   ]
  },
  {
   "cell_type": "code",
   "execution_count": null,
   "metadata": {},
   "outputs": [],
   "source": [
    "service.close()"
   ]
  },
  {
   "cell_type": "code",
   "execution_count": null,
   "metadata": {},
   "outputs": [],
   "source": []
  }
 ],
 "metadata": {
  "kernelspec": {
   "display_name": "Python 3",
   "language": "python",
   "name": "python3"
  },
  "language_info": {
   "codemirror_mode": {
    "name": "ipython",
    "version": 3
   },
   "file_extension": ".py",
   "mimetype": "text/x-python",
   "name": "python",
   "nbconvert_exporter": "python",
   "pygments_lexer": "ipython3",
   "version": "3.7.6"
  }
 },
 "nbformat": 4,
 "nbformat_minor": 4
}
