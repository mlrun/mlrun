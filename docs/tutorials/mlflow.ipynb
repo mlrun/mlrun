{
 "cells": [
  {
   "cell_type": "markdown",
   "id": "c478ebb2",
   "metadata": {},
   "source": [
    "# MLflow tracker\n",
    "\n",
    "This tutorial demonstrates how to seamlessly integrate and transfer logs from MLflow to MLRun, </br>\n",
    "creating a unified and powerful platform for your machine learning experiments.\n",
    "\n",
    "You can combine MLflow and MLRun for a comprehensive solution for managing, tracking, and deploying machine learning models. \n",
    "\n",
    "This notebook guides you through the process of:\n",
    "\n",
    "1. Setting up the integration between MLflow and MLRun.\n",
    "2. Extracting data, metrics, and artifacts from MLflow experiments.\n",
    "3. Creating MLRun artifacts and projects to organize and manage the transferred data.\n",
    "4. Leveraging MLRun's capabilities for model deployment and data processing.\n",
    "\n",
    "By the end of this tutorial, you will have a understanding of how to establish a smooth flow of data between MLflow and MLRun.\n",
    "\n",
    "## MLRun installation and configuration\n",
    "Before running this notebook make sure the mlrun package is installed (pip install mlrun) and that you have configured the access to MLRun service."
   ]
  },
  {
   "cell_type": "code",
   "execution_count": null,
   "id": "ab49e1f1",
   "metadata": {},
   "outputs": [],
   "source": [
    "# Install MLRun and scikit-learn if not already installed. Run this only once. Restart the notebook after the install!\n",
    "%pip install mlrun scikit-learn~=1.4.0 xgboost~=2.0.3"
   ]
  },
  {
   "cell_type": "markdown",
   "id": "9a8db175-51f4-4218-afd1-752cc0e65216",
   "metadata": {
    "tags": []
   },
   "source": [
    "## Create an MLflow Xgboost function\n",
    "\n",
    " The `training.py` contains just mlflow code, and does not have any dependence on MLRun."
   ]
  },
  {
   "cell_type": "code",
   "execution_count": 6,
   "id": "44a1e133-954d-47a3-9b0f-6e181fe12ea7",
   "metadata": {},
   "outputs": [
    {
     "name": "stdout",
     "output_type": "stream",
     "text": [
      "Overwriting training.py\n"
     ]
    }
   ],
   "source": [
    "%%writefile training.py\n",
    "\n",
    "import mlflow\n",
    "import mlflow.xgboost\n",
    "import xgboost as xgb\n",
    "from mlflow import log_metric\n",
    "from sklearn import datasets\n",
    "from sklearn.metrics import accuracy_score, log_loss\n",
    "from sklearn.model_selection import train_test_split\n",
    "\n",
    "def example_xgb_run():\n",
    "    # Prepare, train, and test data\n",
    "    iris = datasets.load_iris()\n",
    "    X = iris.data\n",
    "    y = iris.target\n",
    "    X_train, X_test, y_train, y_test = train_test_split(\n",
    "        X, y, test_size=0.2, random_state=42\n",
    "    )\n",
    "\n",
    "    # Enable auto logging\n",
    "    mlflow.xgboost.autolog()\n",
    "\n",
    "    dtrain = xgb.DMatrix(X_train, label=y_train)\n",
    "    dtest = xgb.DMatrix(X_test, label=y_test)\n",
    "\n",
    "    with mlflow.start_run():\n",
    "        # Train model\n",
    "        params = {\n",
    "            \"objective\": \"multi:softprob\",\n",
    "            \"num_class\": 3,\n",
    "            \"learning_rate\": 0.3,\n",
    "            \"eval_metric\": \"mlogloss\",\n",
    "            \"colsample_bytree\": 1.0,\n",
    "            \"subsample\": 1.0,\n",
    "            \"seed\": 42,\n",
    "        }\n",
    "        model = xgb.train(params, dtrain, evals=[(dtrain, \"train\")])\n",
    "        \n",
    "        # Evaluate model\n",
    "        y_proba = model.predict(dtest)\n",
    "        y_pred = y_proba.argmax(axis=1)\n",
    "        loss = log_loss(y_test, y_proba)\n",
    "        acc = accuracy_score(y_test, y_pred)\n",
    "        \n",
    "        # Log metrics by hand\n",
    "        mlflow.log_metrics({\"log_loss\": loss, \"accuracy\": acc})"
   ]
  },
  {
   "cell_type": "markdown",
   "id": "1cf984c9-78a9-443f-9465-111263101dcd",
   "metadata": {},
   "source": [
    "## Log the data from MLflow in MLRun "
   ]
  },
  {
   "cell_type": "markdown",
   "id": "365e4b39-9f39-40ae-aac4-7c4f42bce9bd",
   "metadata": {},
   "source": [
    "### Change the MLRun configuration to use the tracker"
   ]
  },
  {
   "cell_type": "code",
   "execution_count": 3,
   "id": "0b194d04-e08f-4161-a65b-4f18d10fdbf0",
   "metadata": {},
   "outputs": [],
   "source": [
    "import mlrun\n",
    "\n",
    "mlrun.mlconf.external_platform_tracking.enabled = True"
   ]
  },
  {
   "cell_type": "markdown",
   "id": "b16bb4db-8a2a-4453-a42e-0e8e74ab8f53",
   "metadata": {},
   "source": [
    "To run the tracking, set:\n",
    "`mlrun.mlconf.external_platform_tracking.mlflow.match_experiment_to_runtime` to True.<br>\n",
    "This makes the MLRun run-id the same as the MLFlow experiment ID.\n"
   ]
  },
  {
   "cell_type": "markdown",
   "id": "8b7bc72a-bd1b-408a-afa8-e474d91c4a20",
   "metadata": {},
   "source": [
    "### Create the project and function"
   ]
  },
  {
   "cell_type": "code",
   "execution_count": 4,
   "id": "3382b909-a8dc-41a3-afb1-b64df9bb7318",
   "metadata": {},
   "outputs": [
    {
     "name": "stdout",
     "output_type": "stream",
     "text": [
      "> 2023-12-06 09:01:32,156 [info] Project loaded successfully: {'project_name': 'mlflow-tracking-example'}\n",
      "> 2023-12-06 09:01:32,164 [warning] Failed to add git metadata, ignore if path is not part of a git repo.: {'path': './', 'error': '/User/mlflow'}\n"
     ]
    }
   ],
   "source": [
    "# Set the tracking\n",
    "mlrun.mlconf.external_platform_tracking.mlflow.match_experiment_to_runtime = True\n",
    "\n",
    "# Create a project for this demo:\n",
    "project = mlrun.get_or_create_project(name=\"mlflow-tracking-example\", context=\"./\")\n",
    "\n",
    "# Create a MLRun function using the example train file (all the functions must be located in it):\n",
    "training_func = project.set_function(\n",
    "    func=\"training.py\",\n",
    "    name=\"example-xgb-run\",\n",
    "    kind=\"job\",\n",
    "    image=\"mlrun/mlrun\",\n",
    ")"
   ]
  },
  {
   "cell_type": "markdown",
   "id": "91597f57-364d-4d2a-b926-97b9d8afc81b",
   "metadata": {},
   "source": [
    "### Run the function\n",
    "\n",
    "After running the function, you can look at the UI and see that all metrics and parameters are logged in MLRun."
   ]
  },
  {
   "cell_type": "code",
   "execution_count": 7,
   "id": "8ba452dd-1756-4bfb-af64-d741e234dba3",
   "metadata": {},
   "outputs": [
    {
     "name": "stdout",
     "output_type": "stream",
     "text": [
      "> 2023-12-06 09:02:10,520 [info] Storing function: {'name': 'example-xgb-run-example-xgb-run', 'uid': '4185accc906648a9a56f73d97829c1d0', 'db': 'http://mlrun-api:8080'}\n",
      "> 2023-12-06 09:02:10,626 [warning] `mlconf.external_platform_tracking.mlflow.match_experiment_to_runtime` is set to True but the MLFlow experiment name environment variable ('MLFLOW_EXPERIMENT_NAME') is set for using the name: 'example-xgb-run-example-xgb-run'. This name will be overriden with MLRun's runtime name as set in the MLRun configuration: 'example-xgb-run-example-xgb-run'.\n",
      "[0]\ttrain-mlogloss:0.74723\n",
      "[1]\ttrain-mlogloss:0.54060\n",
      "[2]\ttrain-mlogloss:0.40276\n",
      "[3]\ttrain-mlogloss:0.30789\n",
      "[4]\ttrain-mlogloss:0.24051\n",
      "[5]\ttrain-mlogloss:0.19086\n",
      "[6]\ttrain-mlogloss:0.15471\n",
      "[7]\ttrain-mlogloss:0.12807\n",
      "[8]\ttrain-mlogloss:0.10722\n",
      "[9]\ttrain-mlogloss:0.09053\n"
     ]
    },
    {
     "data": {
      "text/html": [
       "<style>\n",
       ".dictlist {\n",
       "  background-color: #4EC64B;\n",
       "  text-align: center;\n",
       "  margin: 4px;\n",
       "  border-radius: 3px; padding: 0px 3px 1px 3px; display: inline-block;}\n",
       ".artifact {\n",
       "  cursor: pointer;\n",
       "  background-color: #4EC64B;\n",
       "  text-align: left;\n",
       "  margin: 4px; border-radius: 3px; padding: 0px 3px 1px 3px; display: inline-block;\n",
       "}\n",
       "div.block.hidden {\n",
       "  display: none;\n",
       "}\n",
       ".clickable {\n",
       "  cursor: pointer;\n",
       "}\n",
       ".ellipsis {\n",
       "  display: inline-block;\n",
       "  max-width: 60px;\n",
       "  white-space: nowrap;\n",
       "  overflow: hidden;\n",
       "  text-overflow: ellipsis;\n",
       "}\n",
       ".master-wrapper {\n",
       "  display: flex;\n",
       "  flex-flow: row nowrap;\n",
       "  justify-content: flex-start;\n",
       "  align-items: stretch;\n",
       "}\n",
       ".master-tbl {\n",
       "  flex: 3\n",
       "}\n",
       ".master-wrapper > div {\n",
       "  margin: 4px;\n",
       "  padding: 10px;\n",
       "}\n",
       "iframe.fileview {\n",
       "  border: 0 none;\n",
       "  height: 100%;\n",
       "  width: 100%;\n",
       "  white-space: pre-wrap;\n",
       "}\n",
       ".pane-header-title {\n",
       "  width: 80%;\n",
       "  font-weight: 500;\n",
       "}\n",
       ".pane-header {\n",
       "  line-height: 1;\n",
       "  background-color: #4EC64B;\n",
       "  padding: 3px;\n",
       "}\n",
       ".pane-header .close {\n",
       "  font-size: 20px;\n",
       "  font-weight: 700;\n",
       "  float: right;\n",
       "  margin-top: -5px;\n",
       "}\n",
       ".master-wrapper .right-pane {\n",
       "  border: 1px inset silver;\n",
       "  width: 40%;\n",
       "  min-height: 300px;\n",
       "  flex: 3\n",
       "  min-width: 500px;\n",
       "}\n",
       ".master-wrapper * {\n",
       "  box-sizing: border-box;\n",
       "}\n",
       "</style><script>\n",
       "function copyToClipboard(fld) {\n",
       "    if (document.queryCommandSupported && document.queryCommandSupported('copy')) {\n",
       "        var textarea = document.createElement('textarea');\n",
       "        textarea.textContent = fld.innerHTML;\n",
       "        textarea.style.position = 'fixed';\n",
       "        document.body.appendChild(textarea);\n",
       "        textarea.select();\n",
       "\n",
       "        try {\n",
       "            return document.execCommand('copy'); // Security exception may be thrown by some browsers.\n",
       "        } catch (ex) {\n",
       "\n",
       "        } finally {\n",
       "            document.body.removeChild(textarea);\n",
       "        }\n",
       "    }\n",
       "}\n",
       "function expandPanel(el) {\n",
       "  const panelName = \"#\" + el.getAttribute('paneName');\n",
       "  console.log(el.title);\n",
       "\n",
       "  document.querySelector(panelName + \"-title\").innerHTML = el.title\n",
       "  iframe = document.querySelector(panelName + \"-body\");\n",
       "\n",
       "  const tblcss = `<style> body { font-family: Arial, Helvetica, sans-serif;}\n",
       "    #csv { margin-bottom: 15px; }\n",
       "    #csv table { border-collapse: collapse;}\n",
       "    #csv table td { padding: 4px 8px; border: 1px solid silver;} </style>`;\n",
       "\n",
       "  function csvToHtmlTable(str) {\n",
       "    return '<div id=\"csv\"><table><tr><td>' +  str.replace(/[\\n\\r]+$/g, '').replace(/[\\n\\r]+/g, '</td></tr><tr><td>')\n",
       "      .replace(/,/g, '</td><td>') + '</td></tr></table></div>';\n",
       "  }\n",
       "\n",
       "  function reqListener () {\n",
       "    if (el.title.endsWith(\".csv\")) {\n",
       "      iframe.setAttribute(\"srcdoc\", tblcss + csvToHtmlTable(this.responseText));\n",
       "    } else {\n",
       "      iframe.setAttribute(\"srcdoc\", this.responseText);\n",
       "    }\n",
       "    console.log(this.responseText);\n",
       "  }\n",
       "\n",
       "  const oReq = new XMLHttpRequest();\n",
       "  oReq.addEventListener(\"load\", reqListener);\n",
       "  oReq.open(\"GET\", el.title);\n",
       "  oReq.send();\n",
       "\n",
       "\n",
       "  //iframe.src = el.title;\n",
       "  const resultPane = document.querySelector(panelName + \"-pane\");\n",
       "  if (resultPane.classList.contains(\"hidden\")) {\n",
       "    resultPane.classList.remove(\"hidden\");\n",
       "  }\n",
       "}\n",
       "function closePanel(el) {\n",
       "  const panelName = \"#\" + el.getAttribute('paneName')\n",
       "  const resultPane = document.querySelector(panelName + \"-pane\");\n",
       "  if (!resultPane.classList.contains(\"hidden\")) {\n",
       "    resultPane.classList.add(\"hidden\");\n",
       "  }\n",
       "}\n",
       "\n",
       "</script>\n",
       "<div class=\"master-wrapper\">\n",
       "  <div class=\"block master-tbl\"><div>\n",
       "<style scoped>\n",
       "    .dataframe tbody tr th:only-of-type {\n",
       "        vertical-align: middle;\n",
       "    }\n",
       "\n",
       "    .dataframe tbody tr th {\n",
       "        vertical-align: top;\n",
       "    }\n",
       "\n",
       "    .dataframe thead th {\n",
       "        text-align: right;\n",
       "    }\n",
       "</style>\n",
       "<table border=\"1\" class=\"dataframe\">\n",
       "  <thead>\n",
       "    <tr style=\"text-align: right;\">\n",
       "      <th>project</th>\n",
       "      <th>uid</th>\n",
       "      <th>iter</th>\n",
       "      <th>start</th>\n",
       "      <th>state</th>\n",
       "      <th>name</th>\n",
       "      <th>labels</th>\n",
       "      <th>inputs</th>\n",
       "      <th>parameters</th>\n",
       "      <th>results</th>\n",
       "      <th>artifacts</th>\n",
       "    </tr>\n",
       "  </thead>\n",
       "  <tbody>\n",
       "    <tr>\n",
       "      <td>mlflow-tracking-example</td>\n",
       "      <td><div title=\"4185accc906648a9a56f73d97829c1d0\"><a href=\"https://dashboard.default-tenant.app.llm2.iguazio-cd0.com/mlprojects/mlflow-tracking-example/jobs/monitor/4185accc906648a9a56f73d97829c1d0/overview\" target=\"_blank\" >...7829c1d0</a></div></td>\n",
       "      <td>0</td>\n",
       "      <td>Dec 06 09:02:10</td>\n",
       "      <td>completed</td>\n",
       "      <td>example-xgb-run-example-xgb-run</td>\n",
       "      <td><div class=\"dictlist\">v3io_user=zeevr</div><div class=\"dictlist\">kind=local</div><div class=\"dictlist\">owner=zeevr</div><div class=\"dictlist\">host=jupyter-zeev-8c4f96bdf-6j652</div><div class=\"dictlist\">mlflow-user=iguazio</div><div class=\"dictlist\">mlflow-run-name=adaptable-perch-39</div><div class=\"dictlist\">mlflow-run-id=3290451d92f24ea5988f8debd9d51670</div><div class=\"dictlist\">mlflow-experiment-id=175092470379844344</div></td>\n",
       "      <td></td>\n",
       "      <td><div class=\"dictlist\">colsample_bytree=1.0</div><div class=\"dictlist\">custom_metric=None</div><div class=\"dictlist\">early_stopping_rounds=None</div><div class=\"dictlist\">eval_metric=mlogloss</div><div class=\"dictlist\">learning_rate=0.3</div><div class=\"dictlist\">maximize=None</div><div class=\"dictlist\">num_boost_round=10</div><div class=\"dictlist\">num_class=3</div><div class=\"dictlist\">objective=multi:softprob</div><div class=\"dictlist\">seed=42</div><div class=\"dictlist\">subsample=1.0</div><div class=\"dictlist\">verbose_eval=True</div></td>\n",
       "      <td><div class=\"dictlist\">accuracy=1.0</div><div class=\"dictlist\">log_loss=0.06621863381213823</div><div class=\"dictlist\">train-mlogloss=0.09053360810503364</div></td>\n",
       "      <td><div class=\"artifact\" onclick=\"expandPanel(this)\" paneName=\"resultcf1d12c3\" title=\"files/v3io/projects/mlflow-tracking-example/artifacts/example-xgb-run-example-xgb-run/0/feature_importance_weight_json.json\">feature_importance_weight_json</div><div class=\"artifact\" onclick=\"expandPanel(this)\" paneName=\"resultcf1d12c3\" title=\"files/v3io/projects/mlflow-tracking-example/artifacts/example-xgb-run-example-xgb-run/0/feature_importance_weight_png.png\">feature_importance_weight_png</div><div title=\"v3io:///projects/mlflow-tracking-example/artifacts/example-xgb-run-example-xgb-run/0/model/\">model</div></td>\n",
       "    </tr>\n",
       "  </tbody>\n",
       "</table>\n",
       "</div></div>\n",
       "  <div id=\"resultcf1d12c3-pane\" class=\"right-pane block hidden\">\n",
       "    <div class=\"pane-header\">\n",
       "      <span id=\"resultcf1d12c3-title\" class=\"pane-header-title\">Title</span>\n",
       "      <span onclick=\"closePanel(this)\" paneName=\"resultcf1d12c3\" class=\"close clickable\">&times;</span>\n",
       "    </div>\n",
       "    <iframe class=\"fileview\" id=\"resultcf1d12c3-body\"></iframe>\n",
       "  </div>\n",
       "</div>\n"
      ],
      "text/plain": [
       "<IPython.core.display.HTML object>"
      ]
     },
     "metadata": {},
     "output_type": "display_data"
    },
    {
     "name": "stdout",
     "output_type": "stream",
     "text": [
      "\n"
     ]
    },
    {
     "data": {
      "text/html": [
       "<b> > to track results use the .show() or .logs() methods  or click here</a> to open in UI</b>"
      ],
      "text/plain": [
       "<IPython.core.display.HTML object>"
      ]
     },
     "metadata": {},
     "output_type": "display_data"
    },
    {
     "name": "stdout",
     "output_type": "stream",
     "text": [
      "> 2023-12-06 09:02:19,281 [info] Run execution finished: {'status': 'completed', 'name': 'example-xgb-run-example-xgb-run'}\n"
     ]
    }
   ],
   "source": [
    "# Run the example code using mlrun\n",
    "train_run = training_func.run(\n",
    "    local=True,\n",
    "    handler=\"example_xgb_run\",\n",
    ")"
   ]
  },
  {
   "cell_type": "markdown",
   "id": "655d5c46-2c0a-46f2-bbec-a58853260476",
   "metadata": {},
   "source": [
    "### Examine the results\n"
   ]
  },
  {
   "cell_type": "code",
   "execution_count": 5,
   "id": "d23beb02-e455-48dc-9d9f-9e3d4549ec71",
   "metadata": {},
   "outputs": [
    {
     "data": {
      "text/plain": [
       "{'accuracy': 1.0,\n",
       " 'log_loss': 0.06621863381213823,\n",
       " 'train-mlogloss': 0.09053360810503364,\n",
       " 'feature_importance_weight_json': 'store://artifacts/mlflow-tracking-example/example-xgb-run-example-xgb-run_feature_importance_weight_json:ad1fec0b0df04083b034e3839460b623',\n",
       " 'feature_importance_weight_png': 'store://artifacts/mlflow-tracking-example/example-xgb-run-example-xgb-run_feature_importance_weight_png:ad1fec0b0df04083b034e3839460b623',\n",
       " 'model': 'store://artifacts/mlflow-tracking-example/example-xgb-run-example-xgb-run_model:ad1fec0b0df04083b034e3839460b623'}"
      ]
     },
     "execution_count": 5,
     "metadata": {},
     "output_type": "execute_result"
    }
   ],
   "source": [
    "train_run.outputs"
   ]
  },
  {
   "cell_type": "code",
   "execution_count": 6,
   "id": "b05f4c2a-5f2d-4d7c-9c21-39c0a949cfc3",
   "metadata": {},
   "outputs": [
    {
     "data": {
      "text/plain": [
       "{'accuracy': 1.0,\n",
       " 'log_loss': 0.06621863381213823,\n",
       " 'train-mlogloss': 0.09053360810503364}"
      ]
     },
     "execution_count": 6,
     "metadata": {},
     "output_type": "execute_result"
    }
   ],
   "source": [
    "train_run.status.results"
   ]
  },
  {
   "cell_type": "code",
   "execution_count": 7,
   "id": "925b3445-18b4-4497-9783-52b4cd069401",
   "metadata": {},
   "outputs": [
    {
     "data": {
      "image/png": "[encoded data removed]",
      "text/plain": [
       "<IPython.core.display.Image object>"
      ]
     },
     "metadata": {},
     "output_type": "display_data"
    }
   ],
   "source": [
    "train_run.artifact(\"feature_importance_weight_png\").show()"
   ]
  },
  {
   "cell_type": "markdown",
   "id": "227c4358-4c34-4d1c-acb4-e37ca110b8bf",
   "metadata": {},
   "source": [
    "### You can also examine the results using the UI"
   ]
  },
  {
   "cell_type": "markdown",
   "id": "dde00fd1-a1f0-4c56-80c2-c5d36a9062a1",
   "metadata": {},
   "source": [
    "Look at collected artifacts: "
   ]
  },
  {
   "cell_type": "markdown",
   "id": "8cda6c13-7fee-4284-aacf-81a506a426da",
   "metadata": {},
   "source": [
    "<img src=\"./_static/images/mlflow-artifacts.png\" width=\"1200\" >\n"
   ]
  },
  {
   "cell_type": "markdown",
   "id": "e1525230-e10c-4f48-b951-bc73642bb3e4",
   "metadata": {},
   "source": [
    "And at results:"
   ]
  },
  {
   "cell_type": "markdown",
   "id": "217279f8-6af1-4209-b0ec-3d3d829ceed9",
   "metadata": {},
   "source": [
    "<img src=\"./_static/images/mlflow-results.png\" width=\"1200\" >"
   ]
  },
  {
   "cell_type": "markdown",
   "id": "844edc05-0b6a-4e84-9213-1d3cbf6f833e",
   "metadata": {},
   "source": [
    "## Use the function for model serving"
   ]
  },
  {
   "cell_type": "markdown",
   "id": "af6489cb-35e2-4b0d-8a0d-e8954a44534a",
   "metadata": {},
   "source": [
    "### Implement the load and predict functions"
   ]
  },
  {
   "cell_type": "code",
   "execution_count": 8,
   "id": "381bb171-5111-4cc1-b81c-fdb813a6208f",
   "metadata": {},
   "outputs": [
    {
     "name": "stdout",
     "output_type": "stream",
     "text": [
      "Overwriting serving.py\n"
     ]
    }
   ],
   "source": [
    "%%writefile serving.py\n",
    "\n",
    "import zipfile\n",
    "from typing import Any, Dict, List, Union\n",
    "\n",
    "import mlflow\n",
    "import numpy as np\n",
    "import os\n",
    "import mlrun\n",
    "from mlrun.serving.v2_serving import V2ModelServer\n",
    "import xgboost as xgb\n",
    "import pandas as pd\n",
    "\n",
    "class MLFlowModelServer(V2ModelServer):\n",
    "    \"\"\"\n",
    "    The MLFlow tracker Model serving class  inherits the V2ModelServer class, resulting in automatic \n",
    "    initialization by the model server. It can run locally as part of a nuclio serverless function,\n",
    "    or as part of a real-time pipeline.\n",
    "    \"\"\"\n",
    "\n",
    "    def load(self):\n",
    "        \"\"\"\n",
    "        loads a model that was logged by the MLFlow tracker model\n",
    "        \"\"\"\n",
    "        # Unzip the model dir and then use mlflow's load function\n",
    "        model_file, _ = self.get_model(\".zip\")\n",
    "        model_path_unzip = model_file.replace(\".zip\", \"\")\n",
    "\n",
    "        with zipfile.ZipFile(model_file, \"r\") as zip_ref:\n",
    "            zip_ref.extractall(model_path_unzip)\n",
    "            \n",
    "        self.model = mlflow.pyfunc.load_model(model_path_unzip)\n",
    "\n",
    "    def predict(self, request: Dict[str, Any]) -> list:\n",
    "        \"\"\"\n",
    "        Infer the inputs through the model. The inferred data\n",
    "        is read from the \"inputs\" key of the request.\n",
    "\n",
    "        :param request: The request to the model using xgboost's predict. \n",
    "                The input to the model is read from the \"inputs\" key.\n",
    "\n",
    "        :return: The model's prediction on the given input.\n",
    "        \"\"\"\n",
    "        \n",
    "        # Get the inputs and set to accepted type:\n",
    "        inputs = pd.DataFrame(request[\"inputs\"])\n",
    "\n",
    "        # Predict using the model's predict function:\n",
    "        predictions = self.model.predict(inputs)\n",
    "\n",
    "        # Return as list:\n",
    "        return predictions.tolist()\n"
   ]
  },
  {
   "cell_type": "markdown",
   "id": "40182a6f-fc46-4a33-a7f5-7ee8ee171966",
   "metadata": {},
   "source": [
    "### Create the server and serving function"
   ]
  },
  {
   "cell_type": "code",
   "execution_count": 9,
   "id": "f5fe910b-e177-4af7-84de-41a571d1774c",
   "metadata": {},
   "outputs": [
    {
     "name": "stdout",
     "output_type": "stream",
     "text": [
      "> 2023-11-07 13:21:19,690 [warning] Failed to add git metadata, ignore if path is not part of a git repo.: {'path': './', 'error': '/User'}\n"
     ]
    }
   ],
   "source": [
    "serving_func = project.set_function(\n",
    "    func=\"serving.py\",\n",
    "    name=\"example-xgb-server\",\n",
    "    kind=\"serving\",\n",
    "    image=\"mlrun/mlrun\",\n",
    ")"
   ]
  },
  {
   "cell_type": "code",
   "execution_count": 10,
   "id": "ddbfd48f-a90e-4fe6-9caa-ddffeacf63d1",
   "metadata": {},
   "outputs": [
    {
     "data": {
      "text/plain": [
       "<mlrun.serving.states.TaskStep at 0x7f8450794d60>"
      ]
     },
     "execution_count": 10,
     "metadata": {},
     "output_type": "execute_result"
    }
   ],
   "source": [
    "# Add the model\n",
    "serving_func.add_model(\n",
    "    \"mlflow_xgb_model\",\n",
    "    class_name=\"MLFlowModelServer\",\n",
    "    model_path=train_run.outputs[\"model\"],\n",
    ")"
   ]
  },
  {
   "cell_type": "code",
   "execution_count": 11,
   "id": "2298d111-2f53-4b84-be9e-e4e8a228dcc4",
   "metadata": {},
   "outputs": [
    {
     "name": "stdout",
     "output_type": "stream",
     "text": [
      "> 2023-11-07 13:21:19,833 [info] model mlflow_xgb_model was loaded\n",
      "> 2023-11-07 13:21:19,834 [info] Loaded ['mlflow_xgb_model']\n"
     ]
    }
   ],
   "source": [
    "# Create a mock server\n",
    "server = serving_func.to_mock_server()"
   ]
  },
  {
   "cell_type": "markdown",
   "id": "f54d7c06-4972-4881-9bc9-fba7db0adbe4",
   "metadata": {},
   "source": [
    "### Test the model "
   ]
  },
  {
   "cell_type": "code",
   "execution_count": 12,
   "id": "4f256490-f225-4bd6-ac8a-5fc12a0f335d",
   "metadata": {},
   "outputs": [],
   "source": [
    "# An example taken randomly from the dataset that the model was trained on, each\n",
    "x = [[5.1, 3.5, 1.4, 0.2]]\n",
    "result = server.test(\"/v2/models/mlflow_xgb_model/predict\", {\"inputs\": x})"
   ]
  },
  {
   "cell_type": "code",
   "execution_count": 13,
   "id": "47839f4b-bb2d-4341-99c5-e34fa31270c9",
   "metadata": {},
   "outputs": [
    {
     "data": {
      "text/plain": [
       "{'id': '4188f3585d9d42b7b184324f713c9c26',\n",
       " 'model_name': 'mlflow_xgb_model',\n",
       " 'outputs': [[0.9505813121795654, 0.025876399129629135, 0.02354232780635357]]}"
      ]
     },
     "execution_count": 13,
     "metadata": {},
     "output_type": "execute_result"
    }
   ],
   "source": [
    "# Look at the result, it shows the probability of the given example to be each of the\n",
    "# irises featured in the dataset\n",
    "result"
   ]
  }
 ],
 "metadata": {
  "kernelspec": {
   "display_name": "Python 3 (ipykernel)",
   "language": "python",
   "name": "python3"
  },
  "language_info": {
   "codemirror_mode": {
    "name": "ipython",
    "version": 3
   },
   "file_extension": ".py",
   "mimetype": "text/x-python",
   "name": "python",
   "nbconvert_exporter": "python",
   "pygments_lexer": "ipython3",
   "version": "3.9.13"
  }
 },
 "nbformat": 4,
 "nbformat_minor": 5
}
