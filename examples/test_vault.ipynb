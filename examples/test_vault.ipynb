{
 "cells": [
  {
   "cell_type": "code",
   "execution_count": null,
   "metadata": {},
   "outputs": [],
   "source": [
    "from mlrun import NewTask, get_run_db, new_function, run_local\n",
    "import os\n",
    "from mlrun.utils import add_vault_project_secret, add_vault_user_secret\n",
    "from mlrun import mlconf, code_to_function, new_project"
   ]
  },
  {
   "cell_type": "code",
   "execution_count": null,
   "metadata": {},
   "outputs": [],
   "source": [
    "proj_name = 'vault-mlrun'\n",
    "\n",
    "proj = new_project(proj_name, init_vault=True)\n",
    "proj.create_vault_secrets({'aws_key': '1234567890', 'github_key': 'proj1Key!!!'})"
   ]
  },
  {
   "cell_type": "code",
   "execution_count": null,
   "metadata": {},
   "outputs": [],
   "source": [
    "func_path = os.path.abspath(\"vault_function.py\")\n",
    "\n",
    "func = code_to_function(filename=func_path,\n",
    "                        handler='vault_func',\n",
    "                        project=proj,\n",
    "                        kind='job')"
   ]
  },
  {
   "cell_type": "code",
   "execution_count": null,
   "metadata": {},
   "outputs": [],
   "source": [
    "func.spec.build.base_image = 'saarcoiguazio/mlrun:unstable'\n",
    "func.spec.build.image = '.secret-image'\n",
    "func.deploy()"
   ]
  },
  {
   "cell_type": "code",
   "execution_count": null,
   "metadata": {},
   "outputs": [],
   "source": [
    "task = NewTask(project=proj_name,\n",
    "               name='vault_test_run',\n",
    "               handler='vault_func',\n",
    "               params={'secrets':['password', 'path', 'github_key', 'aws_key']})\n",
    "task.with_secrets('vault', {\"project\": proj_name, \"secrets\": [\"aws_key\", \"github_key\"]})\n"
   ]
  },
  {
   "cell_type": "code",
   "execution_count": null,
   "metadata": {},
   "outputs": [],
   "source": [
    "result = func.run(task)"
   ]
  },
  {
   "cell_type": "code",
   "execution_count": null,
   "metadata": {},
   "outputs": [],
   "source": []
  }
 ],
 "metadata": {
  "kernelspec": {
   "display_name": "Python 3",
   "language": "python",
   "name": "python3"
  },
  "language_info": {
   "codemirror_mode": {
    "name": "ipython",
    "version": 3
   },
   "file_extension": ".py",
   "mimetype": "text/x-python",
   "name": "python",
   "nbconvert_exporter": "python",
   "pygments_lexer": "ipython3",
   "version": "3.8.5"
  }
 },
 "nbformat": 4,
 "nbformat_minor": 4
}