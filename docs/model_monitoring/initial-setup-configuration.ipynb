{
 "cells": [
  {
   "cell_type": "markdown",
   "metadata": {
    "collapsed": true,
    "pycharm": {
     "name": "#%% md\n"
    }
   },
   "source": [
    "# Enable Model Monitoring\n",
    "Model Monitoring needs to be enabled in each model in order to see tracking results.\n",
    "\n",
    "To enable Model Monitoring in any model, make sure that the `serving_fn.set_tracking()` function is included in the Model Server.\n",
    "\n",
    "To utilize Drift measurement, make sure you supply the train set when logging the model in the\n",
    "training step."
   ]
  },
  {
   "cell_type": "markdown",
   "source": [
    "## Model Monitoring Demo\n",
    "The following is a demo that you can use to test and explore the Model Monitoring feature."
   ],
   "metadata": {
    "collapsed": false
   }
  },
  {
   "cell_type": "code",
   "execution_count": null,
   "outputs": [],
   "source": [
    "# Set project name\n",
    "project = \"\""
   ],
   "metadata": {
    "collapsed": false,
    "pycharm": {
     "name": "#%%\n"
    }
   }
  },
  {
   "cell_type": "markdown",
   "source": [
    "### Deploy Model Servers"
   ],
   "metadata": {
    "collapsed": false
   }
  },
  {
   "cell_type": "code",
   "execution_count": null,
   "outputs": [],
   "source": [
    "import pandas as pd\n",
    "from sklearn.datasets import load_iris\n",
    "\n",
    "from mlrun import import_function, get_dataitem\n",
    "from mlrun import projects\n",
    "from mlrun.platforms import auto_mount\n",
    "\n",
    "proj = projects.new_project(project)\n",
    "\n",
    "get_dataitem(\"https://s3.wasabisys.com/iguazio/models/iris/model.pkl\").download(\n",
    "    \"model.pkl\")\n",
    "\n",
    "iris = load_iris()\n",
    "train_set = pd.DataFrame(iris['data'],\n",
    "                         columns=['sepal_length_cm', 'sepal_width_cm',\n",
    "                                  'petal_length_cm', 'petal_width_cm'])\n",
    "\n",
    "model_names = [\n",
    "    \"sklearn_ensemble_RandomForestClassifier\",\n",
    "    \"sklearn_linear_model_LogisticRegression\",\n",
    "    \"sklearn_ensemble_AdaBoostClassifier\"\n",
    "]\n",
    "\n",
    "serving_fn = import_function('hub://v2_model_server').apply(auto_mount())\n",
    "\n",
    "for name in model_names:\n",
    "    proj.log_model(name, model_file=\"model.pkl\", training_set=train_set)\n",
    "    serving_fn.add_model(name,\n",
    "                         model_path=f\"store://models/{project}/{name}:latest\")\n",
    "\n",
    "serving_fn.metadata.project = project\n",
    "serving_fn.set_tracking()\n",
    "serving_fn.deploy()"
   ],
   "metadata": {
    "collapsed": false,
    "pycharm": {
     "name": "#%%\n"
    }
   }
  },
  {
   "cell_type": "markdown",
   "source": [
    "### Deploy Stream Processing"
   ],
   "metadata": {
    "collapsed": false
   }
  },
  {
   "cell_type": "code",
   "execution_count": null,
   "outputs": [],
   "source": [
    "import os\n",
    "\n",
    "from mlrun import import_function\n",
    "from mlrun.platforms import mount_v3io\n",
    "from mlrun.runtimes import RemoteRuntime\n",
    "import json\n",
    "\n",
    "fn: RemoteRuntime = import_function(\"hub://model_monitoring_stream\")\n",
    "\n",
    "fn.add_v3io_stream_trigger(\n",
    "    stream_path=f\"projects/{project}/model-endpoints/stream\",\n",
    "    name=\"monitoring_stream_trigger\",\n",
    ")\n",
    "\n",
    "fn.set_env(\"MODEL_MONITORING_PARAMETERS\", json.dumps(\n",
    "    {\"project\": project, \"v3io_framesd\": os.environ.get(\"V3IO_FRAMESD\")}))\n",
    "\n",
    "fn.metadata.project = project\n",
    "fn.apply(mount_v3io())\n",
    "fn.deploy()"
   ],
   "metadata": {
    "collapsed": false,
    "pycharm": {
     "name": "#%%\n"
    }
   }
  },
  {
   "cell_type": "markdown",
   "source": [
    "### Deploy Batch Processing"
   ],
   "metadata": {
    "collapsed": false
   }
  },
  {
   "cell_type": "code",
   "execution_count": null,
   "outputs": [],
   "source": [
    "from mlrun import import_function\n",
    "from mlrun.platforms import mount_v3io\n",
    "from mlrun.runtimes import KubejobRuntime\n",
    "\n",
    "fn: KubejobRuntime = import_function(\"hub://model_monitoring_batch\")\n",
    "fn.metadata.project = project\n",
    "fn.apply(mount_v3io())\n",
    "fn.run(name='model-monitoring-batch', schedule=\"0 */1 * * *\",\n",
    "       params={\"project\": project})"
   ],
   "metadata": {
    "collapsed": false,
    "pycharm": {
     "name": "#%%\n"
    }
   }
  },
  {
   "cell_type": "markdown",
   "source": [
    "### Simulating Requests"
   ],
   "metadata": {
    "collapsed": false
   }
  },
  {
   "cell_type": "code",
   "execution_count": null,
   "outputs": [],
   "source": [
    "import json\n",
    "from time import sleep\n",
    "from random import choice, uniform\n",
    "from sklearn.datasets import load_iris\n",
    "\n",
    "iris = load_iris()\n",
    "iris_data = iris['data'].tolist()\n",
    "\n",
    "while True:\n",
    "    for name in model_names:\n",
    "        data_point = choice(iris_data)\n",
    "        serving_fn.invoke(f'v2/models/{name}/infer',\n",
    "                          json.dumps({'inputs': [data_point]}))\n",
    "        sleep(uniform(0.1, 0.4))\n",
    "    sleep(uniform(0.2, 1.7))\n"
   ],
   "metadata": {
    "collapsed": false,
    "pycharm": {
     "name": "#%%\n"
    }
   }
  }
 ],
 "metadata": {
  "kernelspec": {
   "display_name": "Python 3",
   "language": "python",
   "name": "python3"
  },
  "language_info": {
   "codemirror_mode": {
    "name": "ipython",
    "version": 2
   },
   "file_extension": ".py",
   "mimetype": "text/x-python",
   "name": "python",
   "nbconvert_exporter": "python",
   "pygments_lexer": "ipython2",
   "version": "2.7.6"
  }
 },
 "nbformat": 4,
 "nbformat_minor": 0
}