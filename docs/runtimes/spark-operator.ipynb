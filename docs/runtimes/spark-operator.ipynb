{
 "cells": [
  {
   "cell_type": "markdown",
   "metadata": {},
   "source": [
    "(spark-operator)=\n",
    "# Spark Operator runtime\n",
    "\n",
    "\n",
    "```{admonition} Note\n",
    "The Spark runtimes spark and remote-spark do not support dbfs, http, or memory data stores.\n",
    "```\n",
    "\n",
    "The `spark-on-k8s-operator` allows Spark applications to be defined in a declarative manner and supports one-time Spark \n",
    "applications with `SparkApplication` and cron-scheduled applications with `ScheduledSparkApplication`. <br>\n",
    "\n",
    "When sending a request with MLRun to the Spark operator, the request contains your full application configuration including the \n",
    "code and dependencies to run (packaged as a docker image or specified via URIs), the infrastructure parameters, (e.g. the \n",
    "memory, CPU, and storage volume specs to allocate to each Spark executor), and the Spark configuration.\n",
    "\n",
    "Kubernetes takes this request and starts the Spark driver in a Kubernetes pod (a k8s abstraction, just a docker container \n",
    "in this case). The Spark driver then communicates directly with the Kubernetes master to request executor pods, scaling them \n",
    "up and down at runtime according to the load if dynamic allocation is enabled. Kubernetes takes care of the bin-packing of \n",
    "the pods onto Kubernetes nodes (the physical VMs), and dynamically scales the various node pools to meet the requirements.\n",
    "\n",
    "When using the Spark operator the resources are allocated per task, meaning that it scales down to zero when the task is done.\n",
    "\n",
    "**Memory limit**\n",
    "\n",
    "The Spark memory limit is calculated inside Spark based on the requests and memory overhead, and uses the \n",
    "`spark.kubernetes.memoryOverheadFactor`, which is set, by default, to 0.4. (See [Running Spark on Kubernetes](https://spark.apache.org/docs/latest/running-on-kubernetes.html).) This results in higher memory than\n",
    "what you configure. To control the memory overhead, use:\n",
    "```\n",
    "func.spec.spark_conf[\"spark.driver.memoryOverhead\"] = 0\n",
    "func.spec.spark_conf[\"spark.executor.memoryOverhead\"] = 0\n",
    "```\n",
    "where: 0 means no additional memory (in addition to what you configure); 100 means 100MiB of additional memory; \"1g\" means 1GiB of additional memory.\n",
    "\n",
    "**V3IO access**\n",
    "\n",
    "If your runtime should access V3IO, use {py:meth}`~mlrun.runtimes.Spark3Runtime.with_igz_spark`. When calling `func.with_igz_spark()` the default spec and dependencies are defined.\n",
    "\n",
    "\n",
    "```{admonition} WARNING\n",
    "To avoid unexpected behavior, do not override these defaults.\n",
    "```\n",
    "\n",
    "\n",
    "The default spec is:\n",
    " ```\n",
    "sj.spec.spark_conf\n",
    "{'spark.eventLog.enabled': 'true',\n",
    " 'spark.eventLog.dir': 'file:///v3io/users/spark_history_server_logs'} #only added if there is a spark history server configured\n",
    " ```\n",
    " And the default dependencies are:\n",
    " ```sj.spec.deps\n",
    "{'jars': ['local:///spark/v3io-libs/v3io-hcfs_2.12.jar',\n",
    "  'local:///spark/v3io-libs/v3io-spark3-streaming_2.12.jar',\n",
    "  'local:///spark/v3io-libs/v3io-spark3-object-dataframe_2.12.jar',\n",
    "  'local:///igz/java/libs/scala-library-2.12.14.jar',\n",
    "  'local:///spark/jars/jmx_prometheus_javaagent-0.16.1.jar'],\n",
    " 'files': ['local:///igz/java/libs/v3io-pyspark.zip']}\n",
    " ```\n",
    " \n",
    " ## Example of Spark function with Spark operator"
   ]
  },
  {
   "cell_type": "code",
   "execution_count": null,
   "metadata": {},
   "outputs": [],
   "source": [
    "import mlrun\n",
    "import os\n",
    "\n",
    "# set up new spark function with spark operator\n",
    "# command will use our spark code which needs to be located on our file system\n",
    "# the name param can have only non capital letters (k8s convention)\n",
    "read_csv_filepath = os.path.join(os.path.abspath(\".\"), \"spark_read_csv.py\")\n",
    "sj = mlrun.new_function(kind=\"spark\", command=read_csv_filepath, name=\"sparkreadcsv\")\n",
    "\n",
    "# set spark driver config (gpu_type & gpus=<number_of_gpus>  supported too)\n",
    "sj.with_driver_limits(cpu=\"1300m\")\n",
    "sj.with_driver_requests(cpu=1, mem=\"512m\")\n",
    "\n",
    "# set spark executor config (gpu_type & gpus=<number_of_gpus> are supported too)\n",
    "sj.with_executor_limits(cpu=\"1400m\")\n",
    "sj.with_executor_requests(cpu=1, mem=\"512m\")\n",
    "\n",
    "# adds fuse, daemon & iguazio's jars support\n",
    "sj.with_igz_spark()\n",
    "\n",
    "# Alternately, move volume_mounts to driver and executor-specific fields and leave\n",
    "# v3io mounts out of executor mounts if mount_v3io_to_executor=False\n",
    "# sj.with_igz_spark(mount_v3io_to_executor=False)\n",
    "\n",
    "# set spark driver volume mount\n",
    "# sj.function.with_driver_host_path_volume(\"/host/path\", \"/mount/path\")\n",
    "\n",
    "# set spark executor volume mount\n",
    "# sj.function.with_executor_host_path_volume(\"/host/path\", \"/mount/path\")\n",
    "\n",
    "# add python module\n",
    "sj.with_requirements([\"matplotlib\"])\n",
    "\n",
    "# Number of executors\n",
    "sj.spec.replicas = 2"
   ]
  },
  {
   "cell_type": "code",
   "execution_count": null,
   "metadata": {},
   "outputs": [],
   "source": [
    "# Rebuilds the image with MLRun - needed in order to support logging artifacts etc.\n",
    "sj.deploy()"
   ]
  },
  {
   "cell_type": "code",
   "execution_count": null,
   "metadata": {},
   "outputs": [],
   "source": [
    "# Run task while setting the artifact path on which the run artifact (in any) will be saved\n",
    "sj.run(artifact_path=\"/User\")"
   ]
  },
  {
   "cell_type": "markdown",
   "metadata": {
    "pycharm": {
     "name": "#%% md\n"
    }
   },
   "source": [
    "## Spark Code (spark_read_csv.py)\n",
    "\n",
    "```python\n",
    "from pyspark.sql import SparkSession\n",
    "from mlrun import get_or_create_ctx\n",
    "\n",
    "context = get_or_create_ctx(\"spark-function\")\n",
    "\n",
    "# build spark session\n",
    "spark = SparkSession.builder.appName(\"Spark job\").getOrCreate()\n",
    "\n",
    "# read csv\n",
    "df = spark.read.load('iris.csv', format=\"csv\",\n",
    "                     sep=\",\", header=\"true\")\n",
    "\n",
    "# sample for logging\n",
    "df_to_log = df.describe().toPandas()\n",
    "\n",
    "# log final report\n",
    "context.log_dataset(\"df_sample\",\n",
    "                     df=df_to_log,\n",
    "                     format=\"csv\")\n",
    "spark.stop()\n",
    "```"
   ]
  }
 ],
 "metadata": {
  "kernelspec": {
   "display_name": "Python 3 (ipykernel)",
   "language": "python",
   "name": "python3"
  },
  "language_info": {
   "codemirror_mode": {
    "name": "ipython",
    "version": 3
   },
   "file_extension": ".py",
   "mimetype": "text/x-python",
   "name": "python",
   "nbconvert_exporter": "python",
   "pygments_lexer": "ipython3",
   "version": "3.9.13"
  }
 },
 "nbformat": 4,
 "nbformat_minor": 4
}
