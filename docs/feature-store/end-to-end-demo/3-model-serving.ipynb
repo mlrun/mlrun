{
 "cells": [
  {
   "cell_type": "markdown",
   "metadata": {},
   "source": [
    "# Part 3: Serving\n",
    "\n",
    "In this part we will user MLRun's **serving runtime** to deploy our trained models from the previous stage a `Voting Ensemble` using **max vote** logic.  \n",
    "We will also use MLRun's **Feature store** to receive the latest tag of the online **Feature Vector** we defined in the preveious stage.\n",
    "\n",
    "By the end of this tutorial you’ll learn how to:\n",
    "- Define a model class to load our models, run preprocessing and predict on the data\n",
    "- Define Voting Ensemble function on top of our models\n",
    "- Test the serving function locally using our `mock server`\n",
    "- Deploy the function to the cluster and test it live"
   ]
  },
  {
   "cell_type": "markdown",
   "metadata": {},
   "source": [
    "## Environment Setup\n",
    "\n",
    "Since our work is done in a this project scope, we will first want to define the project itself for all our MLRun work in this notebook."
   ]
  },
  {
   "cell_type": "code",
   "execution_count": 1,
   "metadata": {},
   "outputs": [
    {
     "name": "stdout",
     "output_type": "stream",
     "text": [
      "> 2021-08-26 10:18:57,829 [info] loaded project fraud-demo-admin from MLRun DB\n"
     ]
    }
   ],
   "source": [
    "import mlrun\n",
    "project_name, _ = mlrun.set_environment(project='fraud-demo', \n",
    "                                        user_project=True)"
   ]
  },
  {
   "cell_type": "markdown",
   "metadata": {},
   "source": [
    "## Define Model Class\n",
    "- Load models\n",
    "- Predict from the FS Online service via the `source` key"
   ]
  },
  {
   "cell_type": "code",
   "execution_count": 2,
   "metadata": {},
   "outputs": [],
   "source": [
    "# mlrun: start-code"
   ]
  },
  {
   "cell_type": "code",
   "execution_count": 3,
   "metadata": {},
   "outputs": [],
   "source": [
    "import os\n",
    "from typing import Optional\n",
    "\n",
    "import numpy as np\n",
    "import pandas as pd\n",
    "from cloudpickle import load\n",
    "import json\n",
    "\n",
    "import mlrun\n",
    "from mlrun.feature_store import OnlineVectorService, get_online_feature_service\n",
    "from mlrun.serving.routers import VotingEnsemble\n",
    "from mlrun.serving.v2_serving import V2ModelServer\n",
    "\n",
    "\n",
    "class ClassifierModel(V2ModelServer):\n",
    "    \n",
    "    def load(self):\n",
    "        \"\"\"load and initialize the model and/or other elements\"\"\"\n",
    "        model_file, extra_data = self.get_model('.pkl')\n",
    "        self.model = load(open(model_file, 'rb'))\n",
    "        \n",
    "    def predict(self, body: dict) -> list:\n",
    "        \"\"\"Generate model predictions from sample\"\"\"\n",
    "        feats = np.asarray(body['inputs'])\n",
    "        result: np.ndarray = self.model.predict(feats)\n",
    "        return result.tolist()\n",
    "    \n",
    "    \n",
    "class EnrichmentVotingEnsemble(VotingEnsemble):\n",
    "    def __init__(\n",
    "        self,\n",
    "        context,\n",
    "        name,\n",
    "        routes=None,\n",
    "        protocol=None,\n",
    "        url_prefix=None,\n",
    "        health_prefix=None,\n",
    "        vote_type=None,\n",
    "        executor_type=None,\n",
    "        prediction_col_name=None,\n",
    "        feature_vector_uri: str = \"\",\n",
    "        **kwargs,\n",
    "    ):\n",
    "        super().__init__(\n",
    "            context,\n",
    "            name,\n",
    "            routes,\n",
    "            protocol,\n",
    "            url_prefix,\n",
    "            health_prefix,\n",
    "            vote_type,\n",
    "            executor_type,\n",
    "            prediction_col_name,\n",
    "            **kwargs,\n",
    "        )\n",
    "\n",
    "        self.feature_vector_uri = feature_vector_uri\n",
    "        self.feature_service: Optional[OnlineVectorService] = None\n",
    "        self.feature_stats: Optional[pd.DataFrame] = None\n",
    "        self.default_category = 0\n",
    "\n",
    "    def post_init(self, mode=\"sync\"):\n",
    "        super().post_init(mode)\n",
    "        \n",
    "        self.feature_service: OnlineVectorService = get_online_feature_service(\n",
    "            feature_vector=self.feature_vector_uri\n",
    "        )\n",
    "        self.feature_stats = self.feature_service.vector.get_stats_table()\n",
    "\n",
    "    def preprocess(self, event):\n",
    "        \n",
    "        if isinstance(event.body,str) or isinstance(event.body,bytes):\n",
    "            event.body = json.loads(event.body)\n",
    "\n",
    "        \"\"\"Turn an entity identifier (source) to a Feature Vector\"\"\"\n",
    "        # Get patient feature vector\"\n",
    "        # from the patient_id given in the request\n",
    "        print(\"event body:\", event.body)\n",
    "        inputs = event.body['inputs']\n",
    "        \n",
    "        sources = [{\"source\": source} for source in inputs]\n",
    "        print(\"sources:\", sources)\n",
    "            \n",
    "        print(type(sources))\n",
    "        print(sources)\n",
    "        # here it is not serializing, error:\n",
    "        vectors = self.feature_service.get(sources)\n",
    "        print(\"vectors:\", vectors)\n",
    "        \n",
    "        # Impute inf's in the data to the feature's mean value\n",
    "        # using the collected statistics from the Feature store\n",
    "        feature_vectors = []\n",
    "        for fv in vectors:\n",
    "            if fv is None:\n",
    "                continue\n",
    "            new_vector = []\n",
    "            for f, v in fv.items():\n",
    "                if type(v) == float:\n",
    "                    if np.isinf(v) or np.isnan(v):\n",
    "                        new_vector.append(self.feature_stats.loc[f, \"mean\"])\n",
    "                    else:\n",
    "                        new_vector.append(v)\n",
    "                    continue\n",
    "                v = v if v is not None else self.default_category\n",
    "                new_vector.append(v)\n",
    "            feature_vectors.append(new_vector)\n",
    "\n",
    "        # Set the final feature vector as our inputs\n",
    "        # to pass to the predict function\n",
    "        event.body[\"inputs\"] = feature_vectors\n",
    "        \n",
    "        return event"
   ]
  },
  {
   "cell_type": "code",
   "execution_count": 4,
   "metadata": {},
   "outputs": [],
   "source": [
    "# mlrun: end-code"
   ]
  },
  {
   "cell_type": "markdown",
   "metadata": {},
   "source": [
    "## Define Serving Function\n",
    "- Gather ClassifierModel code from this notebook\n",
    "- Define `VotingEnsemble` - Max-Vote based ensemble\n",
    "- Add downloaded models to the ensemble"
   ]
  },
  {
   "cell_type": "code",
   "execution_count": 5,
   "metadata": {},
   "outputs": [],
   "source": [
    "feature_service: OnlineVectorService = get_online_feature_service(\n",
    "    feature_vector=\"transactions-fraud-short\"\n",
    ")"
   ]
  },
  {
   "cell_type": "code",
   "execution_count": 6,
   "metadata": {},
   "outputs": [
    {
     "data": {
      "text/plain": [
       "[{'amount_max_2h': -inf,\n",
       "  'amount_max_12h': 47.42,\n",
       "  'amount_sum_2h': 0.0,\n",
       "  'amount_count_2h': 0.0,\n",
       "  'amount_avg_2h': nan}]"
      ]
     },
     "execution_count": 6,
     "metadata": {},
     "output_type": "execute_result"
    }
   ],
   "source": [
    "feature_service.get([{\"source\": \"C1000148617\"}])"
   ]
  },
  {
   "cell_type": "code",
   "execution_count": 7,
   "metadata": {},
   "outputs": [],
   "source": [
    "MODEL_MONITORING_ACCESS_KEY = os.getenv('V3IO_ACCESS_KEY')"
   ]
  },
  {
   "cell_type": "code",
   "execution_count": 8,
   "metadata": {},
   "outputs": [
    {
     "data": {
      "image/svg+xml": [
       "<?xml version=\"1.0\" encoding=\"UTF-8\" standalone=\"no\"?>\n",
       "<!DOCTYPE svg PUBLIC \"-//W3C//DTD SVG 1.1//EN\"\n",
       " \"http://www.w3.org/Graphics/SVG/1.1/DTD/svg11.dtd\">\n",
       "<!-- Generated by graphviz version 2.40.1 (20161225.0304)\n",
       " -->\n",
       "<!-- Title: mlrun&#45;flow Pages: 1 -->\n",
       "<svg width=\"763pt\" height=\"196pt\"\n",
       " viewBox=\"0.00 0.00 763.28 196.00\" xmlns=\"http://www.w3.org/2000/svg\" xmlns:xlink=\"http://www.w3.org/1999/xlink\">\n",
       "<g id=\"graph0\" class=\"graph\" transform=\"scale(1 1) rotate(0) translate(4 192)\">\n",
       "<title>mlrun&#45;flow</title>\n",
       "<polygon fill=\"#ffffff\" stroke=\"transparent\" points=\"-4,4 -4,-192 759.2803,-192 759.2803,4 -4,4\"/>\n",
       "<!-- _start -->\n",
       "<g id=\"node1\" class=\"node\">\n",
       "<title>_start</title>\n",
       "<polygon fill=\"#d3d3d3\" stroke=\"#000000\" points=\"404.0871,-152.0493 406.2376,-152.1479 408.3659,-152.2953 410.4632,-152.4913 412.5211,-152.7353 414.5313,-153.0266 416.4859,-153.3645 418.3773,-153.7479 420.1982,-154.1759 421.942,-154.6472 423.6024,-155.1606 425.1736,-155.7147 426.6502,-156.308 428.0278,-156.9388 429.3021,-157.6054 430.4697,-158.3059 431.5277,-159.0385 432.4739,-159.8012 433.3065,-160.5918 434.0245,-161.4082 434.6274,-162.2481 435.1154,-163.1093 435.4891,-163.9894 435.7498,-164.886 435.8991,-165.7965 435.9393,-166.7186 435.873,-167.6497 435.7032,-168.5873 435.4333,-169.5287 435.0671,-170.4713 434.6086,-171.4127 434.0621,-172.3503 433.4319,-173.2814 432.7227,-174.2035 431.9391,-175.114 431.086,-176.0106 430.168,-176.8907 429.19,-177.7519 428.1566,-178.5918 427.0724,-179.4082 425.942,-180.1988 424.7695,-180.9615 423.5592,-181.6941 422.3151,-182.3946 421.0407,-183.0612 419.7397,-183.692 418.4153,-184.2853 417.0705,-184.8394 415.708,-185.3528 414.3304,-185.8241 412.9398,-186.2521 411.5385,-186.6355 410.1281,-186.9734 408.7104,-187.2647 407.2868,-187.5087 405.8585,-187.7047 404.4268,-187.8521 402.9926,-187.9507 401.5571,-188 400.1211,-188 398.6856,-187.9507 397.2514,-187.8521 395.8197,-187.7047 394.3914,-187.5087 392.9678,-187.2647 391.5501,-186.9734 390.1397,-186.6355 388.7384,-186.2521 387.3478,-185.8241 385.9702,-185.3528 384.6077,-184.8394 383.2629,-184.2853 381.9385,-183.692 380.6375,-183.0612 379.3631,-182.3946 378.119,-181.6941 376.9087,-180.9615 375.7362,-180.1988 374.6058,-179.4082 373.5216,-178.5918 372.4882,-177.7519 371.5102,-176.8907 370.5922,-176.0106 369.7391,-175.114 368.9555,-174.2035 368.2463,-173.2814 367.6161,-172.3503 367.0696,-171.4127 366.6111,-170.4713 366.2449,-169.5287 365.975,-168.5873 365.8052,-167.6497 365.7389,-166.7186 365.7791,-165.7965 365.9284,-164.886 366.1891,-163.9894 366.5628,-163.1093 367.0508,-162.2481 367.6537,-161.4082 368.3717,-160.5918 369.2043,-159.8012 370.1505,-159.0385 371.2085,-158.3059 372.3761,-157.6054 373.6504,-156.9388 375.028,-156.308 376.5046,-155.7147 378.0758,-155.1606 379.7362,-154.6472 381.48,-154.1759 383.3009,-153.7479 385.1923,-153.3645 387.1469,-153.0266 389.1571,-152.7353 391.215,-152.4913 393.3123,-152.2953 395.4406,-152.1479 397.5911,-152.0493 399.7549,-152 401.9233,-152 404.0871,-152.0493\"/>\n",
       "<text text-anchor=\"middle\" x=\"400.8391\" y=\"-166.3\" font-family=\"Times,serif\" font-size=\"14.00\" fill=\"#000000\">start</text>\n",
       "</g>\n",
       "<g id=\"node2\" class=\"node\">\n",
       "<title></title>\n",
       "<polygon fill=\"none\" stroke=\"#000000\" points=\"427.8391,-86.5442 427.8391,-101.4558 412.0229,-112 389.6553,-112 373.8391,-101.4558 373.8391,-86.5442 389.6553,-76 412.0229,-76 427.8391,-86.5442\"/>\n",
       "<polygon fill=\"none\" stroke=\"#000000\" points=\"431.8391,-84.4034 431.8391,-103.5966 413.234,-116 388.4442,-116 369.8391,-103.5966 369.8391,-84.4034 388.4442,-72 413.234,-72 431.8391,-84.4034\"/>\n",
       "</g>\n",
       "<!-- _start&#45;&gt; -->\n",
       "<g id=\"edge1\" class=\"edge\">\n",
       "<title>_start&#45;&gt;</title>\n",
       "<path fill=\"none\" stroke=\"#000000\" d=\"M400.8391,-151.9891C400.8391,-144.291 400.8391,-135.0629 400.8391,-126.2561\"/>\n",
       "<polygon fill=\"#000000\" stroke=\"#000000\" points=\"404.3392,-126.2282 400.8391,-116.2282 397.3392,-126.2282 404.3392,-126.2282\"/>\n",
       "</g>\n",
       "<!-- RandomForestClassifier -->\n",
       "<g id=\"node3\" class=\"node\">\n",
       "<title>RandomForestClassifier</title>\n",
       "<ellipse fill=\"none\" stroke=\"#000000\" cx=\"122.8391\" cy=\"-18\" rx=\"122.6784\" ry=\"18\"/>\n",
       "<text text-anchor=\"middle\" x=\"122.8391\" y=\"-14.3\" font-family=\"Times,serif\" font-size=\"14.00\" fill=\"#000000\">RandomForestClassifier</text>\n",
       "</g>\n",
       "<!-- &#45;&gt;RandomForestClassifier -->\n",
       "<g id=\"edge2\" class=\"edge\">\n",
       "<title>&#45;&gt;RandomForestClassifier</title>\n",
       "<path fill=\"none\" stroke=\"#000000\" d=\"M369.7582,-85.5031C326.6973,-73.731 247.7558,-52.1499 190.7028,-36.5527\"/>\n",
       "<polygon fill=\"#000000\" stroke=\"#000000\" points=\"191.6011,-33.1699 181.032,-33.9089 189.7551,-39.9221 191.6011,-33.1699\"/>\n",
       "</g>\n",
       "<!-- GradientBoostingClassifier -->\n",
       "<g id=\"node4\" class=\"node\">\n",
       "<title>GradientBoostingClassifier</title>\n",
       "<ellipse fill=\"none\" stroke=\"#000000\" cx=\"400.8391\" cy=\"-18\" rx=\"137.2758\" ry=\"18\"/>\n",
       "<text text-anchor=\"middle\" x=\"400.8391\" y=\"-14.3\" font-family=\"Times,serif\" font-size=\"14.00\" fill=\"#000000\">GradientBoostingClassifier</text>\n",
       "</g>\n",
       "<!-- &#45;&gt;GradientBoostingClassifier -->\n",
       "<g id=\"edge3\" class=\"edge\">\n",
       "<title>&#45;&gt;GradientBoostingClassifier</title>\n",
       "<path fill=\"none\" stroke=\"#000000\" d=\"M400.8391,-71.6086C400.8391,-63.7272 400.8391,-54.7616 400.8391,-46.4482\"/>\n",
       "<polygon fill=\"#000000\" stroke=\"#000000\" points=\"404.3392,-46.3974 400.8391,-36.3975 397.3392,-46.3975 404.3392,-46.3974\"/>\n",
       "</g>\n",
       "<!-- AdaBoostClassifier -->\n",
       "<g id=\"node5\" class=\"node\">\n",
       "<title>AdaBoostClassifier</title>\n",
       "<ellipse fill=\"none\" stroke=\"#000000\" cx=\"655.8391\" cy=\"-18\" rx=\"99.3824\" ry=\"18\"/>\n",
       "<text text-anchor=\"middle\" x=\"655.8391\" y=\"-14.3\" font-family=\"Times,serif\" font-size=\"14.00\" fill=\"#000000\">AdaBoostClassifier</text>\n",
       "</g>\n",
       "<!-- &#45;&gt;AdaBoostClassifier -->\n",
       "<g id=\"edge4\" class=\"edge\">\n",
       "<title>&#45;&gt;AdaBoostClassifier</title>\n",
       "<path fill=\"none\" stroke=\"#000000\" d=\"M431.8522,-84.7569C472.0036,-72.7902 542.8987,-51.6607 594.1931,-36.3729\"/>\n",
       "<polygon fill=\"#000000\" stroke=\"#000000\" points=\"595.2692,-39.7044 603.853,-33.4939 593.2698,-32.996 595.2692,-39.7044\"/>\n",
       "</g>\n",
       "</g>\n",
       "</svg>\n"
      ],
      "text/plain": [
       "<graphviz.dot.Digraph at 0x7f2d36dbc050>"
      ]
     },
     "execution_count": 8,
     "metadata": {},
     "output_type": "execute_result"
    }
   ],
   "source": [
    "from mlrun import mount_v3io\n",
    "\n",
    "db = mlrun.get_run_db()\n",
    "\n",
    "db.create_project_secrets(\n",
    "    project_name,\n",
    "    provider=mlrun.api.schemas.SecretProviderName.kubernetes,\n",
    "    secrets={\"MODEL_MONITORING_ACCESS_KEY\": MODEL_MONITORING_ACCESS_KEY}\n",
    ")\n",
    "\n",
    "# Create the serving function from our code above\n",
    "# namespace/image_name:tag\n",
    "fn = mlrun.code_to_function('transaction-fraud', kind='serving', image=\"mlrun/mlrun\")\n",
    "\n",
    "# Model-monitoring\n",
    "fn.set_tracking()\n",
    "fn.metadata.project = project_name\n",
    "\n",
    "# \n",
    "fn.set_topology('router', 'EnrichmentVotingEnsemble', name='VotingEnsemble',\n",
    "                feature_vector_uri=\"transactions-fraud-short\")\n",
    "\n",
    "# Apply a mount so we can load the model files directly from the v3io fs\n",
    "fn.apply(mount_v3io())\n",
    "\n",
    "model_names = [\n",
    "'RandomForestClassifier',\n",
    "'GradientBoostingClassifier',\n",
    "'AdaBoostClassifier'\n",
    "]\n",
    "\n",
    "models_dir = os.path.abspath('models')\n",
    "\n",
    "for i, name in enumerate(model_names, start=1):\n",
    "    fn.add_model(name, class_name=\"ClassifierModel\", model_path=f\"store://models/{project_name}/training_model#{i}:latest\")\n",
    "\n",
    "# Plot the ensemble configuration\n",
    "fn.spec.graph.plot()"
   ]
  },
  {
   "cell_type": "markdown",
   "metadata": {},
   "source": [
    "## Test the server locally"
   ]
  },
  {
   "cell_type": "markdown",
   "metadata": {},
   "source": [
    "### View a sample of the online features"
   ]
  },
  {
   "cell_type": "code",
   "execution_count": 9,
   "metadata": {},
   "outputs": [
    {
     "data": {
      "text/plain": [
       "[{'amount_max_2h': -inf,\n",
       "  'amount_max_12h': 25.83,\n",
       "  'amount_sum_2h': 0.0,\n",
       "  'amount_count_2h': 0.0,\n",
       "  'amount_avg_2h': nan}]"
      ]
     },
     "execution_count": 9,
     "metadata": {},
     "output_type": "execute_result"
    }
   ],
   "source": [
    "import mlrun.feature_store as fs\n",
    "\n",
    "# Create the online feature service\n",
    "svc = fs.get_online_feature_service(f'{project_name}/transactions-fraud-short:latest')\n",
    "\n",
    "# Get sample feature vector\n",
    "sample_id = 'C76780537'\n",
    "sample_fv = svc.get([{'source': sample_id}])\n",
    "sample_fv"
   ]
  },
  {
   "cell_type": "code",
   "execution_count": 10,
   "metadata": {},
   "outputs": [],
   "source": [
    "import json\n",
    "\n",
    "# Send a sample ID for predcition\n",
    "test_path = f'/v2/models/VotingEnsemble/infer'\n",
    "test_sample = json.dumps({'inputs': [sample_id]})"
   ]
  },
  {
   "cell_type": "code",
   "execution_count": 11,
   "metadata": {},
   "outputs": [],
   "source": [
    "# server.test(path=test_path,\n",
    "#             body=test_sample)"
   ]
  },
  {
   "cell_type": "code",
   "execution_count": 12,
   "metadata": {},
   "outputs": [
    {
     "data": {
      "text/plain": [
       "'{\"inputs\": [\"C76780537\"]}'"
      ]
     },
     "execution_count": 12,
     "metadata": {},
     "output_type": "execute_result"
    }
   ],
   "source": [
    "test_sample"
   ]
  },
  {
   "cell_type": "markdown",
   "metadata": {},
   "source": [
    "### Test the function on the kubernetes cluster"
   ]
  },
  {
   "cell_type": "markdown",
   "metadata": {},
   "source": [
    "#### Deploy"
   ]
  },
  {
   "cell_type": "code",
   "execution_count": 13,
   "metadata": {},
   "outputs": [
    {
     "name": "stdout",
     "output_type": "stream",
     "text": [
      "> 2021-08-26 10:19:13,494 [info] Starting remote function deploy\n",
      "2021-08-26 10:19:14  (info) Deploying function\n",
      "2021-08-26 10:19:14  (info) Building\n",
      "2021-08-26 10:19:15  (info) Staging files and preparing base images\n",
      "2021-08-26 10:19:15  (info) Building processor image\n",
      "2021-08-26 10:19:16  (info) Build complete\n",
      "2021-08-26 10:19:22  (info) Function deploy complete\n",
      "> 2021-08-26 10:19:23,149 [info] successfully deployed function: {'internal_invocation_urls': ['nuclio-fraud-demo-admin-transaction-fraud.default-tenant.svc.cluster.local:8080'], 'external_invocation_urls': ['default-tenant.app.hwwrtxdzgakc.iguazio-cd0.com:30033']}\n"
     ]
    }
   ],
   "source": [
    "addr = fn.deploy()"
   ]
  },
  {
   "cell_type": "code",
   "execution_count": 14,
   "metadata": {},
   "outputs": [],
   "source": [
    "import pandas as pd\n",
    "from random import choice\n",
    "\n",
    "# Load the dataset\n",
    "data = pd.read_csv('https://s3.wasabisys.com/iguazio/data/fraud-demo-mlrun-fs-docs/data.csv', parse_dates=['timestamp'])\n",
    "\n",
    "# Sample 50k lines\n",
    "data = data.sample(50000)\n",
    "\n",
    "sample_ids = data['source'].to_list()"
   ]
  },
  {
   "cell_type": "code",
   "execution_count": 15,
   "metadata": {},
   "outputs": [
    {
     "name": "stdout",
     "output_type": "stream",
     "text": [
      "> 2021-08-26 10:19:31,012 [info] invoking function: {'method': 'POST', 'path': 'http://nuclio-fraud-demo-admin-transaction-fraud.default-tenant.svc.cluster.local:8080/v2/models/VotingEnsemble/infer'}\n",
      "> 2021-08-26 10:19:31,620 [info] invoking function: {'method': 'POST', 'path': 'http://nuclio-fraud-demo-admin-transaction-fraud.default-tenant.svc.cluster.local:8080/v2/models/VotingEnsemble/infer'}\n",
      "> 2021-08-26 10:19:31,930 [info] invoking function: {'method': 'POST', 'path': 'http://nuclio-fraud-demo-admin-transaction-fraud.default-tenant.svc.cluster.local:8080/v2/models/VotingEnsemble/infer'}\n",
      "> 2021-08-26 10:19:32,333 [info] invoking function: {'method': 'POST', 'path': 'http://nuclio-fraud-demo-admin-transaction-fraud.default-tenant.svc.cluster.local:8080/v2/models/VotingEnsemble/infer'}\n",
      "> 2021-08-26 10:19:32,602 [info] invoking function: {'method': 'POST', 'path': 'http://nuclio-fraud-demo-admin-transaction-fraud.default-tenant.svc.cluster.local:8080/v2/models/VotingEnsemble/infer'}\n",
      "> 2021-08-26 10:19:33,111 [info] invoking function: {'method': 'POST', 'path': 'http://nuclio-fraud-demo-admin-transaction-fraud.default-tenant.svc.cluster.local:8080/v2/models/VotingEnsemble/infer'}\n",
      "> 2021-08-26 10:19:34,523 [info] invoking function: {'method': 'POST', 'path': 'http://nuclio-fraud-demo-admin-transaction-fraud.default-tenant.svc.cluster.local:8080/v2/models/VotingEnsemble/infer'}\n",
      "> 2021-08-26 10:19:36,173 [info] invoking function: {'method': 'POST', 'path': 'http://nuclio-fraud-demo-admin-transaction-fraud.default-tenant.svc.cluster.local:8080/v2/models/VotingEnsemble/infer'}\n",
      "> 2021-08-26 10:19:37,691 [info] invoking function: {'method': 'POST', 'path': 'http://nuclio-fraud-demo-admin-transaction-fraud.default-tenant.svc.cluster.local:8080/v2/models/VotingEnsemble/infer'}\n",
      "> 2021-08-26 10:19:38,460 [info] invoking function: {'method': 'POST', 'path': 'http://nuclio-fraud-demo-admin-transaction-fraud.default-tenant.svc.cluster.local:8080/v2/models/VotingEnsemble/infer'}\n",
      "> 2021-08-26 10:19:39,989 [info] invoking function: {'method': 'POST', 'path': 'http://nuclio-fraud-demo-admin-transaction-fraud.default-tenant.svc.cluster.local:8080/v2/models/VotingEnsemble/infer'}\n",
      "> 2021-08-26 10:19:40,733 [info] invoking function: {'method': 'POST', 'path': 'http://nuclio-fraud-demo-admin-transaction-fraud.default-tenant.svc.cluster.local:8080/v2/models/VotingEnsemble/infer'}\n",
      "> 2021-08-26 10:19:41,029 [info] invoking function: {'method': 'POST', 'path': 'http://nuclio-fraud-demo-admin-transaction-fraud.default-tenant.svc.cluster.local:8080/v2/models/VotingEnsemble/infer'}\n",
      "> 2021-08-26 10:19:42,327 [info] invoking function: {'method': 'POST', 'path': 'http://nuclio-fraud-demo-admin-transaction-fraud.default-tenant.svc.cluster.local:8080/v2/models/VotingEnsemble/infer'}\n",
      "> 2021-08-26 10:19:43,534 [info] invoking function: {'method': 'POST', 'path': 'http://nuclio-fraud-demo-admin-transaction-fraud.default-tenant.svc.cluster.local:8080/v2/models/VotingEnsemble/infer'}\n",
      "> 2021-08-26 10:19:43,777 [info] invoking function: {'method': 'POST', 'path': 'http://nuclio-fraud-demo-admin-transaction-fraud.default-tenant.svc.cluster.local:8080/v2/models/VotingEnsemble/infer'}\n",
      "> 2021-08-26 10:19:44,099 [info] invoking function: {'method': 'POST', 'path': 'http://nuclio-fraud-demo-admin-transaction-fraud.default-tenant.svc.cluster.local:8080/v2/models/VotingEnsemble/infer'}\n",
      "> 2021-08-26 10:19:45,283 [info] invoking function: {'method': 'POST', 'path': 'http://nuclio-fraud-demo-admin-transaction-fraud.default-tenant.svc.cluster.local:8080/v2/models/VotingEnsemble/infer'}\n",
      "> 2021-08-26 10:19:46,627 [info] invoking function: {'method': 'POST', 'path': 'http://nuclio-fraud-demo-admin-transaction-fraud.default-tenant.svc.cluster.local:8080/v2/models/VotingEnsemble/infer'}\n",
      "> 2021-08-26 10:19:47,366 [info] invoking function: {'method': 'POST', 'path': 'http://nuclio-fraud-demo-admin-transaction-fraud.default-tenant.svc.cluster.local:8080/v2/models/VotingEnsemble/infer'}\n",
      "> 2021-08-26 10:19:47,752 [info] invoking function: {'method': 'POST', 'path': 'http://nuclio-fraud-demo-admin-transaction-fraud.default-tenant.svc.cluster.local:8080/v2/models/VotingEnsemble/infer'}\n",
      "> 2021-08-26 10:19:48,430 [info] invoking function: {'method': 'POST', 'path': 'http://nuclio-fraud-demo-admin-transaction-fraud.default-tenant.svc.cluster.local:8080/v2/models/VotingEnsemble/infer'}\n",
      "> 2021-08-26 10:19:50,016 [info] invoking function: {'method': 'POST', 'path': 'http://nuclio-fraud-demo-admin-transaction-fraud.default-tenant.svc.cluster.local:8080/v2/models/VotingEnsemble/infer'}\n",
      "> 2021-08-26 10:19:51,328 [info] invoking function: {'method': 'POST', 'path': 'http://nuclio-fraud-demo-admin-transaction-fraud.default-tenant.svc.cluster.local:8080/v2/models/VotingEnsemble/infer'}\n",
      "> 2021-08-26 10:19:51,579 [info] invoking function: {'method': 'POST', 'path': 'http://nuclio-fraud-demo-admin-transaction-fraud.default-tenant.svc.cluster.local:8080/v2/models/VotingEnsemble/infer'}\n",
      "> 2021-08-26 10:19:53,043 [info] invoking function: {'method': 'POST', 'path': 'http://nuclio-fraud-demo-admin-transaction-fraud.default-tenant.svc.cluster.local:8080/v2/models/VotingEnsemble/infer'}\n",
      "> 2021-08-26 10:19:53,853 [info] invoking function: {'method': 'POST', 'path': 'http://nuclio-fraud-demo-admin-transaction-fraud.default-tenant.svc.cluster.local:8080/v2/models/VotingEnsemble/infer'}\n",
      "> 2021-08-26 10:19:54,510 [info] invoking function: {'method': 'POST', 'path': 'http://nuclio-fraud-demo-admin-transaction-fraud.default-tenant.svc.cluster.local:8080/v2/models/VotingEnsemble/infer'}\n",
      "> 2021-08-26 10:19:55,441 [info] invoking function: {'method': 'POST', 'path': 'http://nuclio-fraud-demo-admin-transaction-fraud.default-tenant.svc.cluster.local:8080/v2/models/VotingEnsemble/infer'}\n",
      "> 2021-08-26 10:19:55,865 [info] invoking function: {'method': 'POST', 'path': 'http://nuclio-fraud-demo-admin-transaction-fraud.default-tenant.svc.cluster.local:8080/v2/models/VotingEnsemble/infer'}\n",
      "> 2021-08-26 10:19:56,689 [info] invoking function: {'method': 'POST', 'path': 'http://nuclio-fraud-demo-admin-transaction-fraud.default-tenant.svc.cluster.local:8080/v2/models/VotingEnsemble/infer'}\n",
      "> 2021-08-26 10:19:57,184 [info] invoking function: {'method': 'POST', 'path': 'http://nuclio-fraud-demo-admin-transaction-fraud.default-tenant.svc.cluster.local:8080/v2/models/VotingEnsemble/infer'}\n",
      "> 2021-08-26 10:19:58,302 [info] invoking function: {'method': 'POST', 'path': 'http://nuclio-fraud-demo-admin-transaction-fraud.default-tenant.svc.cluster.local:8080/v2/models/VotingEnsemble/infer'}\n",
      "> 2021-08-26 10:19:59,849 [info] invoking function: {'method': 'POST', 'path': 'http://nuclio-fraud-demo-admin-transaction-fraud.default-tenant.svc.cluster.local:8080/v2/models/VotingEnsemble/infer'}\n",
      "> 2021-08-26 10:20:01,141 [info] invoking function: {'method': 'POST', 'path': 'http://nuclio-fraud-demo-admin-transaction-fraud.default-tenant.svc.cluster.local:8080/v2/models/VotingEnsemble/infer'}\n",
      "> 2021-08-26 10:20:02,316 [info] invoking function: {'method': 'POST', 'path': 'http://nuclio-fraud-demo-admin-transaction-fraud.default-tenant.svc.cluster.local:8080/v2/models/VotingEnsemble/infer'}\n",
      "> 2021-08-26 10:20:03,411 [info] invoking function: {'method': 'POST', 'path': 'http://nuclio-fraud-demo-admin-transaction-fraud.default-tenant.svc.cluster.local:8080/v2/models/VotingEnsemble/infer'}\n",
      "> 2021-08-26 10:20:04,934 [info] invoking function: {'method': 'POST', 'path': 'http://nuclio-fraud-demo-admin-transaction-fraud.default-tenant.svc.cluster.local:8080/v2/models/VotingEnsemble/infer'}\n",
      "> 2021-08-26 10:20:06,022 [info] invoking function: {'method': 'POST', 'path': 'http://nuclio-fraud-demo-admin-transaction-fraud.default-tenant.svc.cluster.local:8080/v2/models/VotingEnsemble/infer'}\n",
      "> 2021-08-26 10:20:06,367 [info] invoking function: {'method': 'POST', 'path': 'http://nuclio-fraud-demo-admin-transaction-fraud.default-tenant.svc.cluster.local:8080/v2/models/VotingEnsemble/infer'}\n",
      "> 2021-08-26 10:20:07,627 [info] invoking function: {'method': 'POST', 'path': 'http://nuclio-fraud-demo-admin-transaction-fraud.default-tenant.svc.cluster.local:8080/v2/models/VotingEnsemble/infer'}\n",
      "> 2021-08-26 10:20:08,726 [info] invoking function: {'method': 'POST', 'path': 'http://nuclio-fraud-demo-admin-transaction-fraud.default-tenant.svc.cluster.local:8080/v2/models/VotingEnsemble/infer'}\n",
      "> 2021-08-26 10:20:09,913 [info] invoking function: {'method': 'POST', 'path': 'http://nuclio-fraud-demo-admin-transaction-fraud.default-tenant.svc.cluster.local:8080/v2/models/VotingEnsemble/infer'}\n",
      "> 2021-08-26 10:20:10,977 [info] invoking function: {'method': 'POST', 'path': 'http://nuclio-fraud-demo-admin-transaction-fraud.default-tenant.svc.cluster.local:8080/v2/models/VotingEnsemble/infer'}\n",
      "> 2021-08-26 10:20:11,625 [info] invoking function: {'method': 'POST', 'path': 'http://nuclio-fraud-demo-admin-transaction-fraud.default-tenant.svc.cluster.local:8080/v2/models/VotingEnsemble/infer'}\n",
      "> 2021-08-26 10:20:12,008 [info] invoking function: {'method': 'POST', 'path': 'http://nuclio-fraud-demo-admin-transaction-fraud.default-tenant.svc.cluster.local:8080/v2/models/VotingEnsemble/infer'}\n",
      "> 2021-08-26 10:20:12,514 [info] invoking function: {'method': 'POST', 'path': 'http://nuclio-fraud-demo-admin-transaction-fraud.default-tenant.svc.cluster.local:8080/v2/models/VotingEnsemble/infer'}\n",
      "> 2021-08-26 10:20:14,003 [info] invoking function: {'method': 'POST', 'path': 'http://nuclio-fraud-demo-admin-transaction-fraud.default-tenant.svc.cluster.local:8080/v2/models/VotingEnsemble/infer'}\n",
      "> 2021-08-26 10:20:15,449 [info] invoking function: {'method': 'POST', 'path': 'http://nuclio-fraud-demo-admin-transaction-fraud.default-tenant.svc.cluster.local:8080/v2/models/VotingEnsemble/infer'}\n",
      "> 2021-08-26 10:20:16,531 [info] invoking function: {'method': 'POST', 'path': 'http://nuclio-fraud-demo-admin-transaction-fraud.default-tenant.svc.cluster.local:8080/v2/models/VotingEnsemble/infer'}\n",
      "> 2021-08-26 10:20:18,114 [info] invoking function: {'method': 'POST', 'path': 'http://nuclio-fraud-demo-admin-transaction-fraud.default-tenant.svc.cluster.local:8080/v2/models/VotingEnsemble/infer'}\n",
      "> 2021-08-26 10:20:19,591 [info] invoking function: {'method': 'POST', 'path': 'http://nuclio-fraud-demo-admin-transaction-fraud.default-tenant.svc.cluster.local:8080/v2/models/VotingEnsemble/infer'}\n",
      "> 2021-08-26 10:20:19,853 [info] invoking function: {'method': 'POST', 'path': 'http://nuclio-fraud-demo-admin-transaction-fraud.default-tenant.svc.cluster.local:8080/v2/models/VotingEnsemble/infer'}\n",
      "> 2021-08-26 10:20:20,840 [info] invoking function: {'method': 'POST', 'path': 'http://nuclio-fraud-demo-admin-transaction-fraud.default-tenant.svc.cluster.local:8080/v2/models/VotingEnsemble/infer'}\n",
      "> 2021-08-26 10:20:21,934 [info] invoking function: {'method': 'POST', 'path': 'http://nuclio-fraud-demo-admin-transaction-fraud.default-tenant.svc.cluster.local:8080/v2/models/VotingEnsemble/infer'}\n",
      "> 2021-08-26 10:20:23,086 [info] invoking function: {'method': 'POST', 'path': 'http://nuclio-fraud-demo-admin-transaction-fraud.default-tenant.svc.cluster.local:8080/v2/models/VotingEnsemble/infer'}\n",
      "> 2021-08-26 10:20:24,516 [info] invoking function: {'method': 'POST', 'path': 'http://nuclio-fraud-demo-admin-transaction-fraud.default-tenant.svc.cluster.local:8080/v2/models/VotingEnsemble/infer'}\n",
      "> 2021-08-26 10:20:25,267 [info] invoking function: {'method': 'POST', 'path': 'http://nuclio-fraud-demo-admin-transaction-fraud.default-tenant.svc.cluster.local:8080/v2/models/VotingEnsemble/infer'}\n",
      "> 2021-08-26 10:20:26,431 [info] invoking function: {'method': 'POST', 'path': 'http://nuclio-fraud-demo-admin-transaction-fraud.default-tenant.svc.cluster.local:8080/v2/models/VotingEnsemble/infer'}\n",
      "> 2021-08-26 10:20:26,918 [info] invoking function: {'method': 'POST', 'path': 'http://nuclio-fraud-demo-admin-transaction-fraud.default-tenant.svc.cluster.local:8080/v2/models/VotingEnsemble/infer'}\n",
      "> 2021-08-26 10:20:27,752 [info] invoking function: {'method': 'POST', 'path': 'http://nuclio-fraud-demo-admin-transaction-fraud.default-tenant.svc.cluster.local:8080/v2/models/VotingEnsemble/infer'}\n",
      "> 2021-08-26 10:20:29,203 [info] invoking function: {'method': 'POST', 'path': 'http://nuclio-fraud-demo-admin-transaction-fraud.default-tenant.svc.cluster.local:8080/v2/models/VotingEnsemble/infer'}\n",
      "> 2021-08-26 10:20:29,667 [info] invoking function: {'method': 'POST', 'path': 'http://nuclio-fraud-demo-admin-transaction-fraud.default-tenant.svc.cluster.local:8080/v2/models/VotingEnsemble/infer'}\n",
      "> 2021-08-26 10:20:30,754 [info] invoking function: {'method': 'POST', 'path': 'http://nuclio-fraud-demo-admin-transaction-fraud.default-tenant.svc.cluster.local:8080/v2/models/VotingEnsemble/infer'}\n",
      "> 2021-08-26 10:20:31,357 [info] invoking function: {'method': 'POST', 'path': 'http://nuclio-fraud-demo-admin-transaction-fraud.default-tenant.svc.cluster.local:8080/v2/models/VotingEnsemble/infer'}\n",
      "> 2021-08-26 10:20:32,684 [info] invoking function: {'method': 'POST', 'path': 'http://nuclio-fraud-demo-admin-transaction-fraud.default-tenant.svc.cluster.local:8080/v2/models/VotingEnsemble/infer'}\n",
      "> 2021-08-26 10:20:34,248 [info] invoking function: {'method': 'POST', 'path': 'http://nuclio-fraud-demo-admin-transaction-fraud.default-tenant.svc.cluster.local:8080/v2/models/VotingEnsemble/infer'}\n",
      "> 2021-08-26 10:20:35,656 [info] invoking function: {'method': 'POST', 'path': 'http://nuclio-fraud-demo-admin-transaction-fraud.default-tenant.svc.cluster.local:8080/v2/models/VotingEnsemble/infer'}\n",
      "> 2021-08-26 10:20:36,798 [info] invoking function: {'method': 'POST', 'path': 'http://nuclio-fraud-demo-admin-transaction-fraud.default-tenant.svc.cluster.local:8080/v2/models/VotingEnsemble/infer'}\n",
      "> 2021-08-26 10:20:38,142 [info] invoking function: {'method': 'POST', 'path': 'http://nuclio-fraud-demo-admin-transaction-fraud.default-tenant.svc.cluster.local:8080/v2/models/VotingEnsemble/infer'}\n",
      "> 2021-08-26 10:20:38,783 [info] invoking function: {'method': 'POST', 'path': 'http://nuclio-fraud-demo-admin-transaction-fraud.default-tenant.svc.cluster.local:8080/v2/models/VotingEnsemble/infer'}\n",
      "> 2021-08-26 10:20:39,116 [info] invoking function: {'method': 'POST', 'path': 'http://nuclio-fraud-demo-admin-transaction-fraud.default-tenant.svc.cluster.local:8080/v2/models/VotingEnsemble/infer'}\n",
      "> 2021-08-26 10:20:40,497 [info] invoking function: {'method': 'POST', 'path': 'http://nuclio-fraud-demo-admin-transaction-fraud.default-tenant.svc.cluster.local:8080/v2/models/VotingEnsemble/infer'}\n",
      "> 2021-08-26 10:20:41,970 [info] invoking function: {'method': 'POST', 'path': 'http://nuclio-fraud-demo-admin-transaction-fraud.default-tenant.svc.cluster.local:8080/v2/models/VotingEnsemble/infer'}\n",
      "> 2021-08-26 10:20:43,452 [info] invoking function: {'method': 'POST', 'path': 'http://nuclio-fraud-demo-admin-transaction-fraud.default-tenant.svc.cluster.local:8080/v2/models/VotingEnsemble/infer'}\n",
      "> 2021-08-26 10:20:44,296 [info] invoking function: {'method': 'POST', 'path': 'http://nuclio-fraud-demo-admin-transaction-fraud.default-tenant.svc.cluster.local:8080/v2/models/VotingEnsemble/infer'}\n",
      "> 2021-08-26 10:20:44,698 [info] invoking function: {'method': 'POST', 'path': 'http://nuclio-fraud-demo-admin-transaction-fraud.default-tenant.svc.cluster.local:8080/v2/models/VotingEnsemble/infer'}\n",
      "> 2021-08-26 10:20:46,009 [info] invoking function: {'method': 'POST', 'path': 'http://nuclio-fraud-demo-admin-transaction-fraud.default-tenant.svc.cluster.local:8080/v2/models/VotingEnsemble/infer'}\n",
      "> 2021-08-26 10:20:46,830 [info] invoking function: {'method': 'POST', 'path': 'http://nuclio-fraud-demo-admin-transaction-fraud.default-tenant.svc.cluster.local:8080/v2/models/VotingEnsemble/infer'}\n",
      "> 2021-08-26 10:20:47,336 [info] invoking function: {'method': 'POST', 'path': 'http://nuclio-fraud-demo-admin-transaction-fraud.default-tenant.svc.cluster.local:8080/v2/models/VotingEnsemble/infer'}\n",
      "> 2021-08-26 10:20:47,974 [info] invoking function: {'method': 'POST', 'path': 'http://nuclio-fraud-demo-admin-transaction-fraud.default-tenant.svc.cluster.local:8080/v2/models/VotingEnsemble/infer'}\n",
      "> 2021-08-26 10:20:49,133 [info] invoking function: {'method': 'POST', 'path': 'http://nuclio-fraud-demo-admin-transaction-fraud.default-tenant.svc.cluster.local:8080/v2/models/VotingEnsemble/infer'}\n",
      "> 2021-08-26 10:20:50,458 [info] invoking function: {'method': 'POST', 'path': 'http://nuclio-fraud-demo-admin-transaction-fraud.default-tenant.svc.cluster.local:8080/v2/models/VotingEnsemble/infer'}\n",
      "> 2021-08-26 10:20:51,588 [info] invoking function: {'method': 'POST', 'path': 'http://nuclio-fraud-demo-admin-transaction-fraud.default-tenant.svc.cluster.local:8080/v2/models/VotingEnsemble/infer'}\n",
      "> 2021-08-26 10:20:52,144 [info] invoking function: {'method': 'POST', 'path': 'http://nuclio-fraud-demo-admin-transaction-fraud.default-tenant.svc.cluster.local:8080/v2/models/VotingEnsemble/infer'}\n",
      "> 2021-08-26 10:20:53,507 [info] invoking function: {'method': 'POST', 'path': 'http://nuclio-fraud-demo-admin-transaction-fraud.default-tenant.svc.cluster.local:8080/v2/models/VotingEnsemble/infer'}\n",
      "> 2021-08-26 10:20:53,839 [info] invoking function: {'method': 'POST', 'path': 'http://nuclio-fraud-demo-admin-transaction-fraud.default-tenant.svc.cluster.local:8080/v2/models/VotingEnsemble/infer'}\n",
      "> 2021-08-26 10:20:54,646 [info] invoking function: {'method': 'POST', 'path': 'http://nuclio-fraud-demo-admin-transaction-fraud.default-tenant.svc.cluster.local:8080/v2/models/VotingEnsemble/infer'}\n",
      "> 2021-08-26 10:20:55,109 [info] invoking function: {'method': 'POST', 'path': 'http://nuclio-fraud-demo-admin-transaction-fraud.default-tenant.svc.cluster.local:8080/v2/models/VotingEnsemble/infer'}\n",
      "> 2021-08-26 10:20:56,279 [info] invoking function: {'method': 'POST', 'path': 'http://nuclio-fraud-demo-admin-transaction-fraud.default-tenant.svc.cluster.local:8080/v2/models/VotingEnsemble/infer'}\n",
      "> 2021-08-26 10:20:57,606 [info] invoking function: {'method': 'POST', 'path': 'http://nuclio-fraud-demo-admin-transaction-fraud.default-tenant.svc.cluster.local:8080/v2/models/VotingEnsemble/infer'}\n",
      "> 2021-08-26 10:20:59,209 [info] invoking function: {'method': 'POST', 'path': 'http://nuclio-fraud-demo-admin-transaction-fraud.default-tenant.svc.cluster.local:8080/v2/models/VotingEnsemble/infer'}\n",
      "> 2021-08-26 10:21:00,701 [info] invoking function: {'method': 'POST', 'path': 'http://nuclio-fraud-demo-admin-transaction-fraud.default-tenant.svc.cluster.local:8080/v2/models/VotingEnsemble/infer'}\n",
      "> 2021-08-26 10:21:02,316 [info] invoking function: {'method': 'POST', 'path': 'http://nuclio-fraud-demo-admin-transaction-fraud.default-tenant.svc.cluster.local:8080/v2/models/VotingEnsemble/infer'}\n",
      "> 2021-08-26 10:21:02,862 [info] invoking function: {'method': 'POST', 'path': 'http://nuclio-fraud-demo-admin-transaction-fraud.default-tenant.svc.cluster.local:8080/v2/models/VotingEnsemble/infer'}\n",
      "> 2021-08-26 10:21:04,209 [info] invoking function: {'method': 'POST', 'path': 'http://nuclio-fraud-demo-admin-transaction-fraud.default-tenant.svc.cluster.local:8080/v2/models/VotingEnsemble/infer'}\n",
      "> 2021-08-26 10:21:04,635 [info] invoking function: {'method': 'POST', 'path': 'http://nuclio-fraud-demo-admin-transaction-fraud.default-tenant.svc.cluster.local:8080/v2/models/VotingEnsemble/infer'}\n",
      "> 2021-08-26 10:21:05,659 [info] invoking function: {'method': 'POST', 'path': 'http://nuclio-fraud-demo-admin-transaction-fraud.default-tenant.svc.cluster.local:8080/v2/models/VotingEnsemble/infer'}\n",
      "> 2021-08-26 10:21:07,245 [info] invoking function: {'method': 'POST', 'path': 'http://nuclio-fraud-demo-admin-transaction-fraud.default-tenant.svc.cluster.local:8080/v2/models/VotingEnsemble/infer'}\n",
      "> 2021-08-26 10:21:08,155 [info] invoking function: {'method': 'POST', 'path': 'http://nuclio-fraud-demo-admin-transaction-fraud.default-tenant.svc.cluster.local:8080/v2/models/VotingEnsemble/infer'}\n",
      "> 2021-08-26 10:21:08,557 [info] invoking function: {'method': 'POST', 'path': 'http://nuclio-fraud-demo-admin-transaction-fraud.default-tenant.svc.cluster.local:8080/v2/models/VotingEnsemble/infer'}\n",
      "> 2021-08-26 10:21:08,865 [info] invoking function: {'method': 'POST', 'path': 'http://nuclio-fraud-demo-admin-transaction-fraud.default-tenant.svc.cluster.local:8080/v2/models/VotingEnsemble/infer'}\n",
      "> 2021-08-26 10:21:10,018 [info] invoking function: {'method': 'POST', 'path': 'http://nuclio-fraud-demo-admin-transaction-fraud.default-tenant.svc.cluster.local:8080/v2/models/VotingEnsemble/infer'}\n",
      "> 2021-08-26 10:21:10,906 [info] invoking function: {'method': 'POST', 'path': 'http://nuclio-fraud-demo-admin-transaction-fraud.default-tenant.svc.cluster.local:8080/v2/models/VotingEnsemble/infer'}\n",
      "> 2021-08-26 10:21:12,197 [info] invoking function: {'method': 'POST', 'path': 'http://nuclio-fraud-demo-admin-transaction-fraud.default-tenant.svc.cluster.local:8080/v2/models/VotingEnsemble/infer'}\n",
      "> 2021-08-26 10:21:12,605 [info] invoking function: {'method': 'POST', 'path': 'http://nuclio-fraud-demo-admin-transaction-fraud.default-tenant.svc.cluster.local:8080/v2/models/VotingEnsemble/infer'}\n",
      "> 2021-08-26 10:21:14,261 [info] invoking function: {'method': 'POST', 'path': 'http://nuclio-fraud-demo-admin-transaction-fraud.default-tenant.svc.cluster.local:8080/v2/models/VotingEnsemble/infer'}\n",
      "> 2021-08-26 10:21:15,679 [info] invoking function: {'method': 'POST', 'path': 'http://nuclio-fraud-demo-admin-transaction-fraud.default-tenant.svc.cluster.local:8080/v2/models/VotingEnsemble/infer'}\n",
      "> 2021-08-26 10:21:16,914 [info] invoking function: {'method': 'POST', 'path': 'http://nuclio-fraud-demo-admin-transaction-fraud.default-tenant.svc.cluster.local:8080/v2/models/VotingEnsemble/infer'}\n",
      "> 2021-08-26 10:21:18,079 [info] invoking function: {'method': 'POST', 'path': 'http://nuclio-fraud-demo-admin-transaction-fraud.default-tenant.svc.cluster.local:8080/v2/models/VotingEnsemble/infer'}\n",
      "> 2021-08-26 10:21:19,570 [info] invoking function: {'method': 'POST', 'path': 'http://nuclio-fraud-demo-admin-transaction-fraud.default-tenant.svc.cluster.local:8080/v2/models/VotingEnsemble/infer'}\n",
      "> 2021-08-26 10:21:20,750 [info] invoking function: {'method': 'POST', 'path': 'http://nuclio-fraud-demo-admin-transaction-fraud.default-tenant.svc.cluster.local:8080/v2/models/VotingEnsemble/infer'}\n",
      "> 2021-08-26 10:21:21,252 [info] invoking function: {'method': 'POST', 'path': 'http://nuclio-fraud-demo-admin-transaction-fraud.default-tenant.svc.cluster.local:8080/v2/models/VotingEnsemble/infer'}\n",
      "> 2021-08-26 10:21:21,648 [info] invoking function: {'method': 'POST', 'path': 'http://nuclio-fraud-demo-admin-transaction-fraud.default-tenant.svc.cluster.local:8080/v2/models/VotingEnsemble/infer'}\n",
      "> 2021-08-26 10:21:22,129 [info] invoking function: {'method': 'POST', 'path': 'http://nuclio-fraud-demo-admin-transaction-fraud.default-tenant.svc.cluster.local:8080/v2/models/VotingEnsemble/infer'}\n",
      "> 2021-08-26 10:21:23,126 [info] invoking function: {'method': 'POST', 'path': 'http://nuclio-fraud-demo-admin-transaction-fraud.default-tenant.svc.cluster.local:8080/v2/models/VotingEnsemble/infer'}\n",
      "> 2021-08-26 10:21:23,802 [info] invoking function: {'method': 'POST', 'path': 'http://nuclio-fraud-demo-admin-transaction-fraud.default-tenant.svc.cluster.local:8080/v2/models/VotingEnsemble/infer'}\n",
      "> 2021-08-26 10:21:24,182 [info] invoking function: {'method': 'POST', 'path': 'http://nuclio-fraud-demo-admin-transaction-fraud.default-tenant.svc.cluster.local:8080/v2/models/VotingEnsemble/infer'}\n",
      "> 2021-08-26 10:21:25,283 [info] invoking function: {'method': 'POST', 'path': 'http://nuclio-fraud-demo-admin-transaction-fraud.default-tenant.svc.cluster.local:8080/v2/models/VotingEnsemble/infer'}\n",
      "> 2021-08-26 10:21:25,525 [info] invoking function: {'method': 'POST', 'path': 'http://nuclio-fraud-demo-admin-transaction-fraud.default-tenant.svc.cluster.local:8080/v2/models/VotingEnsemble/infer'}\n",
      "> 2021-08-26 10:21:27,048 [info] invoking function: {'method': 'POST', 'path': 'http://nuclio-fraud-demo-admin-transaction-fraud.default-tenant.svc.cluster.local:8080/v2/models/VotingEnsemble/infer'}\n",
      "> 2021-08-26 10:21:27,482 [info] invoking function: {'method': 'POST', 'path': 'http://nuclio-fraud-demo-admin-transaction-fraud.default-tenant.svc.cluster.local:8080/v2/models/VotingEnsemble/infer'}\n",
      "> 2021-08-26 10:21:29,131 [info] invoking function: {'method': 'POST', 'path': 'http://nuclio-fraud-demo-admin-transaction-fraud.default-tenant.svc.cluster.local:8080/v2/models/VotingEnsemble/infer'}\n",
      "> 2021-08-26 10:21:30,568 [info] invoking function: {'method': 'POST', 'path': 'http://nuclio-fraud-demo-admin-transaction-fraud.default-tenant.svc.cluster.local:8080/v2/models/VotingEnsemble/infer'}\n",
      "> 2021-08-26 10:21:32,117 [info] invoking function: {'method': 'POST', 'path': 'http://nuclio-fraud-demo-admin-transaction-fraud.default-tenant.svc.cluster.local:8080/v2/models/VotingEnsemble/infer'}\n",
      "> 2021-08-26 10:21:32,786 [info] invoking function: {'method': 'POST', 'path': 'http://nuclio-fraud-demo-admin-transaction-fraud.default-tenant.svc.cluster.local:8080/v2/models/VotingEnsemble/infer'}\n",
      "> 2021-08-26 10:21:34,075 [info] invoking function: {'method': 'POST', 'path': 'http://nuclio-fraud-demo-admin-transaction-fraud.default-tenant.svc.cluster.local:8080/v2/models/VotingEnsemble/infer'}\n",
      "> 2021-08-26 10:21:35,622 [info] invoking function: {'method': 'POST', 'path': 'http://nuclio-fraud-demo-admin-transaction-fraud.default-tenant.svc.cluster.local:8080/v2/models/VotingEnsemble/infer'}\n",
      "> 2021-08-26 10:21:36,347 [info] invoking function: {'method': 'POST', 'path': 'http://nuclio-fraud-demo-admin-transaction-fraud.default-tenant.svc.cluster.local:8080/v2/models/VotingEnsemble/infer'}\n",
      "> 2021-08-26 10:21:37,719 [info] invoking function: {'method': 'POST', 'path': 'http://nuclio-fraud-demo-admin-transaction-fraud.default-tenant.svc.cluster.local:8080/v2/models/VotingEnsemble/infer'}\n",
      "> 2021-08-26 10:21:39,201 [info] invoking function: {'method': 'POST', 'path': 'http://nuclio-fraud-demo-admin-transaction-fraud.default-tenant.svc.cluster.local:8080/v2/models/VotingEnsemble/infer'}\n",
      "> 2021-08-26 10:21:40,397 [info] invoking function: {'method': 'POST', 'path': 'http://nuclio-fraud-demo-admin-transaction-fraud.default-tenant.svc.cluster.local:8080/v2/models/VotingEnsemble/infer'}\n",
      "> 2021-08-26 10:21:40,633 [info] invoking function: {'method': 'POST', 'path': 'http://nuclio-fraud-demo-admin-transaction-fraud.default-tenant.svc.cluster.local:8080/v2/models/VotingEnsemble/infer'}\n",
      "> 2021-08-26 10:21:41,969 [info] invoking function: {'method': 'POST', 'path': 'http://nuclio-fraud-demo-admin-transaction-fraud.default-tenant.svc.cluster.local:8080/v2/models/VotingEnsemble/infer'}\n",
      "> 2021-08-26 10:21:42,959 [info] invoking function: {'method': 'POST', 'path': 'http://nuclio-fraud-demo-admin-transaction-fraud.default-tenant.svc.cluster.local:8080/v2/models/VotingEnsemble/infer'}\n",
      "> 2021-08-26 10:21:43,304 [info] invoking function: {'method': 'POST', 'path': 'http://nuclio-fraud-demo-admin-transaction-fraud.default-tenant.svc.cluster.local:8080/v2/models/VotingEnsemble/infer'}\n",
      "> 2021-08-26 10:21:44,123 [info] invoking function: {'method': 'POST', 'path': 'http://nuclio-fraud-demo-admin-transaction-fraud.default-tenant.svc.cluster.local:8080/v2/models/VotingEnsemble/infer'}\n",
      "> 2021-08-26 10:21:44,472 [info] invoking function: {'method': 'POST', 'path': 'http://nuclio-fraud-demo-admin-transaction-fraud.default-tenant.svc.cluster.local:8080/v2/models/VotingEnsemble/infer'}\n",
      "> 2021-08-26 10:21:45,299 [info] invoking function: {'method': 'POST', 'path': 'http://nuclio-fraud-demo-admin-transaction-fraud.default-tenant.svc.cluster.local:8080/v2/models/VotingEnsemble/infer'}\n",
      "> 2021-08-26 10:21:46,625 [info] invoking function: {'method': 'POST', 'path': 'http://nuclio-fraud-demo-admin-transaction-fraud.default-tenant.svc.cluster.local:8080/v2/models/VotingEnsemble/infer'}\n",
      "> 2021-08-26 10:21:47,750 [info] invoking function: {'method': 'POST', 'path': 'http://nuclio-fraud-demo-admin-transaction-fraud.default-tenant.svc.cluster.local:8080/v2/models/VotingEnsemble/infer'}\n",
      "> 2021-08-26 10:21:48,853 [info] invoking function: {'method': 'POST', 'path': 'http://nuclio-fraud-demo-admin-transaction-fraud.default-tenant.svc.cluster.local:8080/v2/models/VotingEnsemble/infer'}\n",
      "> 2021-08-26 10:21:49,107 [info] invoking function: {'method': 'POST', 'path': 'http://nuclio-fraud-demo-admin-transaction-fraud.default-tenant.svc.cluster.local:8080/v2/models/VotingEnsemble/infer'}\n",
      "> 2021-08-26 10:21:49,632 [info] invoking function: {'method': 'POST', 'path': 'http://nuclio-fraud-demo-admin-transaction-fraud.default-tenant.svc.cluster.local:8080/v2/models/VotingEnsemble/infer'}\n",
      "> 2021-08-26 10:21:49,863 [info] invoking function: {'method': 'POST', 'path': 'http://nuclio-fraud-demo-admin-transaction-fraud.default-tenant.svc.cluster.local:8080/v2/models/VotingEnsemble/infer'}\n",
      "> 2021-08-26 10:21:51,103 [info] invoking function: {'method': 'POST', 'path': 'http://nuclio-fraud-demo-admin-transaction-fraud.default-tenant.svc.cluster.local:8080/v2/models/VotingEnsemble/infer'}\n",
      "> 2021-08-26 10:21:51,622 [info] invoking function: {'method': 'POST', 'path': 'http://nuclio-fraud-demo-admin-transaction-fraud.default-tenant.svc.cluster.local:8080/v2/models/VotingEnsemble/infer'}\n",
      "> 2021-08-26 10:21:53,191 [info] invoking function: {'method': 'POST', 'path': 'http://nuclio-fraud-demo-admin-transaction-fraud.default-tenant.svc.cluster.local:8080/v2/models/VotingEnsemble/infer'}\n",
      "> 2021-08-26 10:21:53,698 [info] invoking function: {'method': 'POST', 'path': 'http://nuclio-fraud-demo-admin-transaction-fraud.default-tenant.svc.cluster.local:8080/v2/models/VotingEnsemble/infer'}\n",
      "> 2021-08-26 10:21:55,027 [info] invoking function: {'method': 'POST', 'path': 'http://nuclio-fraud-demo-admin-transaction-fraud.default-tenant.svc.cluster.local:8080/v2/models/VotingEnsemble/infer'}\n",
      "> 2021-08-26 10:21:55,929 [info] invoking function: {'method': 'POST', 'path': 'http://nuclio-fraud-demo-admin-transaction-fraud.default-tenant.svc.cluster.local:8080/v2/models/VotingEnsemble/infer'}\n",
      "> 2021-08-26 10:21:56,881 [info] invoking function: {'method': 'POST', 'path': 'http://nuclio-fraud-demo-admin-transaction-fraud.default-tenant.svc.cluster.local:8080/v2/models/VotingEnsemble/infer'}\n",
      "> 2021-08-26 10:21:57,989 [info] invoking function: {'method': 'POST', 'path': 'http://nuclio-fraud-demo-admin-transaction-fraud.default-tenant.svc.cluster.local:8080/v2/models/VotingEnsemble/infer'}\n",
      "> 2021-08-26 10:21:58,495 [info] invoking function: {'method': 'POST', 'path': 'http://nuclio-fraud-demo-admin-transaction-fraud.default-tenant.svc.cluster.local:8080/v2/models/VotingEnsemble/infer'}\n",
      "> 2021-08-26 10:21:59,455 [info] invoking function: {'method': 'POST', 'path': 'http://nuclio-fraud-demo-admin-transaction-fraud.default-tenant.svc.cluster.local:8080/v2/models/VotingEnsemble/infer'}\n",
      "> 2021-08-26 10:22:00,630 [info] invoking function: {'method': 'POST', 'path': 'http://nuclio-fraud-demo-admin-transaction-fraud.default-tenant.svc.cluster.local:8080/v2/models/VotingEnsemble/infer'}\n",
      "> 2021-08-26 10:22:01,358 [info] invoking function: {'method': 'POST', 'path': 'http://nuclio-fraud-demo-admin-transaction-fraud.default-tenant.svc.cluster.local:8080/v2/models/VotingEnsemble/infer'}\n",
      "> 2021-08-26 10:22:02,754 [info] invoking function: {'method': 'POST', 'path': 'http://nuclio-fraud-demo-admin-transaction-fraud.default-tenant.svc.cluster.local:8080/v2/models/VotingEnsemble/infer'}\n",
      "> 2021-08-26 10:22:03,471 [info] invoking function: {'method': 'POST', 'path': 'http://nuclio-fraud-demo-admin-transaction-fraud.default-tenant.svc.cluster.local:8080/v2/models/VotingEnsemble/infer'}\n",
      "> 2021-08-26 10:22:04,475 [info] invoking function: {'method': 'POST', 'path': 'http://nuclio-fraud-demo-admin-transaction-fraud.default-tenant.svc.cluster.local:8080/v2/models/VotingEnsemble/infer'}\n",
      "> 2021-08-26 10:22:06,066 [info] invoking function: {'method': 'POST', 'path': 'http://nuclio-fraud-demo-admin-transaction-fraud.default-tenant.svc.cluster.local:8080/v2/models/VotingEnsemble/infer'}\n",
      "> 2021-08-26 10:22:07,178 [info] invoking function: {'method': 'POST', 'path': 'http://nuclio-fraud-demo-admin-transaction-fraud.default-tenant.svc.cluster.local:8080/v2/models/VotingEnsemble/infer'}\n",
      "> 2021-08-26 10:22:08,763 [info] invoking function: {'method': 'POST', 'path': 'http://nuclio-fraud-demo-admin-transaction-fraud.default-tenant.svc.cluster.local:8080/v2/models/VotingEnsemble/infer'}\n",
      "> 2021-08-26 10:22:10,051 [info] invoking function: {'method': 'POST', 'path': 'http://nuclio-fraud-demo-admin-transaction-fraud.default-tenant.svc.cluster.local:8080/v2/models/VotingEnsemble/infer'}\n",
      "> 2021-08-26 10:22:10,932 [info] invoking function: {'method': 'POST', 'path': 'http://nuclio-fraud-demo-admin-transaction-fraud.default-tenant.svc.cluster.local:8080/v2/models/VotingEnsemble/infer'}\n",
      "> 2021-08-26 10:22:11,963 [info] invoking function: {'method': 'POST', 'path': 'http://nuclio-fraud-demo-admin-transaction-fraud.default-tenant.svc.cluster.local:8080/v2/models/VotingEnsemble/infer'}\n",
      "> 2021-08-26 10:22:12,964 [info] invoking function: {'method': 'POST', 'path': 'http://nuclio-fraud-demo-admin-transaction-fraud.default-tenant.svc.cluster.local:8080/v2/models/VotingEnsemble/infer'}\n",
      "> 2021-08-26 10:22:13,756 [info] invoking function: {'method': 'POST', 'path': 'http://nuclio-fraud-demo-admin-transaction-fraud.default-tenant.svc.cluster.local:8080/v2/models/VotingEnsemble/infer'}\n",
      "> 2021-08-26 10:22:14,068 [info] invoking function: {'method': 'POST', 'path': 'http://nuclio-fraud-demo-admin-transaction-fraud.default-tenant.svc.cluster.local:8080/v2/models/VotingEnsemble/infer'}\n",
      "> 2021-08-26 10:22:14,466 [info] invoking function: {'method': 'POST', 'path': 'http://nuclio-fraud-demo-admin-transaction-fraud.default-tenant.svc.cluster.local:8080/v2/models/VotingEnsemble/infer'}\n",
      "> 2021-08-26 10:22:16,058 [info] invoking function: {'method': 'POST', 'path': 'http://nuclio-fraud-demo-admin-transaction-fraud.default-tenant.svc.cluster.local:8080/v2/models/VotingEnsemble/infer'}\n",
      "> 2021-08-26 10:22:17,077 [info] invoking function: {'method': 'POST', 'path': 'http://nuclio-fraud-demo-admin-transaction-fraud.default-tenant.svc.cluster.local:8080/v2/models/VotingEnsemble/infer'}\n",
      "> 2021-08-26 10:22:17,807 [info] invoking function: {'method': 'POST', 'path': 'http://nuclio-fraud-demo-admin-transaction-fraud.default-tenant.svc.cluster.local:8080/v2/models/VotingEnsemble/infer'}\n"
     ]
    },
    {
     "ename": "KeyboardInterrupt",
     "evalue": "",
     "output_type": "error",
     "traceback": [
      "\u001b[0;31m---------------------------------------------------------------------------\u001b[0m",
      "\u001b[0;31mKeyboardInterrupt\u001b[0m                         Traceback (most recent call last)",
      "\u001b[0;32m<ipython-input-15-5d39d4c09cf3>\u001b[0m in \u001b[0;36m<module>\u001b[0;34m\u001b[0m\n\u001b[1;32m      7\u001b[0m     \u001b[0;32mtry\u001b[0m\u001b[0;34m:\u001b[0m\u001b[0;34m\u001b[0m\u001b[0;34m\u001b[0m\u001b[0m\n\u001b[1;32m      8\u001b[0m         \u001b[0mfn\u001b[0m\u001b[0;34m.\u001b[0m\u001b[0minvoke\u001b[0m\u001b[0;34m(\u001b[0m\u001b[0mpath\u001b[0m\u001b[0;34m=\u001b[0m\u001b[0mtest_path\u001b[0m\u001b[0;34m,\u001b[0m \u001b[0mbody\u001b[0m\u001b[0;34m=\u001b[0m\u001b[0mjson\u001b[0m\u001b[0;34m.\u001b[0m\u001b[0mdumps\u001b[0m\u001b[0;34m(\u001b[0m\u001b[0;34m{\u001b[0m\u001b[0;34m'inputs'\u001b[0m\u001b[0;34m:\u001b[0m \u001b[0;34m[\u001b[0m\u001b[0mdata_point\u001b[0m\u001b[0;34m]\u001b[0m\u001b[0;34m}\u001b[0m\u001b[0;34m)\u001b[0m\u001b[0;34m)\u001b[0m\u001b[0;34m\u001b[0m\u001b[0;34m\u001b[0m\u001b[0m\n\u001b[0;32m----> 9\u001b[0;31m         \u001b[0msleep\u001b[0m\u001b[0;34m(\u001b[0m\u001b[0muniform\u001b[0m\u001b[0;34m(\u001b[0m\u001b[0;36m0.2\u001b[0m\u001b[0;34m,\u001b[0m \u001b[0;36m1.7\u001b[0m\u001b[0;34m)\u001b[0m\u001b[0;34m)\u001b[0m\u001b[0;34m\u001b[0m\u001b[0;34m\u001b[0m\u001b[0m\n\u001b[0m\u001b[1;32m     10\u001b[0m     \u001b[0;32mexcept\u001b[0m \u001b[0mOSError\u001b[0m\u001b[0;34m:\u001b[0m\u001b[0;34m\u001b[0m\u001b[0;34m\u001b[0m\u001b[0m\n\u001b[1;32m     11\u001b[0m         \u001b[0;32mpass\u001b[0m\u001b[0;34m\u001b[0m\u001b[0;34m\u001b[0m\u001b[0m\n",
      "\u001b[0;31mKeyboardInterrupt\u001b[0m: "
     ]
    }
   ],
   "source": [
    "from random import choice, uniform\n",
    "from time import sleep\n",
    "\n",
    "# Sending random requests\n",
    "for _ in range(4000):\n",
    "    data_point = choice(sample_ids)\n",
    "    try:\n",
    "        fn.invoke(path=test_path, body=json.dumps({'inputs': [data_point]}))\n",
    "        sleep(uniform(0.2, 1.7))\n",
    "    except OSError:\n",
    "        pass"
   ]
  },
  {
   "cell_type": "markdown",
   "metadata": {},
   "source": [
    "# Stream Testing!"
   ]
  },
  {
   "cell_type": "code",
   "execution_count": null,
   "metadata": {},
   "outputs": [],
   "source": [
    "import v3io\n",
    "import nuclio\n",
    "\n",
    "# create stream\n",
    "prediction_stream = f'v3io:///projects/{project_name}/streams/transaction_fraud_stream'\n",
    "client = v3io.dataplane.Client()"
   ]
  },
  {
   "cell_type": "code",
   "execution_count": null,
   "metadata": {},
   "outputs": [],
   "source": [
    "client.stream.create(container='projects',\n",
    "                 stream_path=f'{project_name}/streams/transaction_fraud_stream',\n",
    "                 shard_count=2, raise_for_status=v3io.dataplane.transport.RaiseForStatus.never)"
   ]
  },
  {
   "cell_type": "code",
   "execution_count": null,
   "metadata": {},
   "outputs": [],
   "source": [
    "data = {'operation': 'infer',\n",
    "        'model': 'VotingEnsemble',\n",
    "        'inputs': [sample_id]}\n",
    "\n",
    "rec = client.stream.put_records(container='projects',\n",
    "                                stream_path=f'{project_name}/streams/transaction_fraud_stream',\n",
    "                                records=[{'data': json.dumps(data)}])"
   ]
  },
  {
   "cell_type": "code",
   "execution_count": null,
   "metadata": {},
   "outputs": [],
   "source": [
    "rec.headers"
   ]
  },
  {
   "cell_type": "code",
   "execution_count": null,
   "metadata": {},
   "outputs": [],
   "source": [
    "stream_trigger = nuclio.triggers.V3IOStreamTrigger()\n",
    "fn.add_v3io_stream_trigger(f'v3io:///projects/{project_name}/streams/transaction_fraud_stream')\n",
    "fn.deploy()"
   ]
  }
 ],
 "metadata": {
  "kernelspec": {
   "display_name": "Python [conda env:root] *",
   "language": "python",
   "name": "conda-root-py"
  },
  "language_info": {
   "codemirror_mode": {
    "name": "ipython",
    "version": 3
   },
   "file_extension": ".py",
   "mimetype": "text/x-python",
   "name": "python",
   "nbconvert_exporter": "python",
   "pygments_lexer": "ipython3",
   "version": "3.7.6"
  }
 },
 "nbformat": 4,
 "nbformat_minor": 4
}
