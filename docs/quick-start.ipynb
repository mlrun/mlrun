{
 "cells": [
  {
   "cell_type": "markdown",
   "metadata": {},
   "source": [
    "# Quick-Start Guide"
   ]
  },
  {
   "cell_type": "markdown",
   "metadata": {},
   "source": [
    "**MLRun** is an end-to-end [open-source](https://github.com/mlrun/mlrun) MLOps solution to manage and automate your\n",
    "entire analytics and machine learning lifecycle, from data ingestion, through model development to full pipeline deployment.\n",
    "MLRun is running as a built-in service in Iguazio and is integrated well with other services in the platform.\n",
    "Its primary goal is to ease the development of machine learning pipeline at scale and help organizations build a\n",
    "robust process for moving from the research phase to fully operational production deployments."
   ]
  },
  {
   "cell_type": "markdown",
   "metadata": {},
   "source": [
    "**Table of Contents**"
   ]
  },
  {
   "cell_type": "markdown",
   "metadata": {},
   "source": [
    "- [Working with MLRun](#working-with-mlrun)\n",
    "  - [Train a Model](#train-a-model)\n",
    "  - [Test the Model](#test-the-model)\n",
    "  - [Serve the Model](#serve-the-model)"
   ]
  },
  {
   "cell_type": "markdown",
   "metadata": {},
   "source": [
    "## Working with MLRun\n",
    "<a name=\"working-with-mlrun\"></a>"
   ]
  },
  {
   "cell_type": "markdown",
   "metadata": {},
   "source": [
    "If you need to install MLRun, refer to the [Installation Guide](install.md).\n",
    ">**Note**: If you are using the [Iguazio Data Science Platform](https://www.iguazio.com/), MLRun already comes\n",
    ">preinstalled and integrated in your system.\n",
    "\n",
    "If you are not viewing this quick-start guide from a Jupyter Lab instance, open it on your cluster, create a\n",
    "new notebook, and copy the sections below to the notebook to run them."
   ]
  },
  {
   "cell_type": "markdown",
   "metadata": {},
   "source": [
    "### Set Environment"
   ]
  },
  {
   "cell_type": "markdown",
   "metadata": {},
   "source": [
    "Before you begin, initialize MLRun by calling `set_environment` and provide it the project name"
   ]
  },
  {
   "cell_type": "code",
   "execution_count": 1,
   "metadata": {},
   "outputs": [],
   "source": [
    "from mlrun import set_environment\n",
    "\n",
    "project_name = 'quick-start'\n",
    "_, artifact_path = set_environment(project=project_name, user_project=True)"
   ]
  },
  {
   "cell_type": "markdown",
   "metadata": {},
   "source": [
    "## Train a Model\n",
    "<a name=\"train-a-model\"></a>"
   ]
  },
  {
   "cell_type": "markdown",
   "metadata": {},
   "source": [
    "MLRun introduces the concept of [functions](./runtimes/functions.md). You can run your own code as functions, or use\n",
    "functions from the function marketplace.\n",
    "In the example below, we'll use the [`sklearn_classifier`](https://github.com/mlrun/functions/tree/master/sklearn_classifier)\n",
    "from the function marketplace to train a model."
   ]
  },
  {
   "cell_type": "code",
   "execution_count": 2,
   "metadata": {},
   "outputs": [
    {
     "name": "stdout",
     "output_type": "stream",
     "text": [
      "> 2021-05-27 10:40:34,250 [info] starting run train uid=6995ba20ebe04b03b88120af3673a22c DB=http://mlrun-api:8080\n",
      "> 2021-05-27 10:40:34,468 [info] Job is running in the background, pod: train-xhmp2\n",
      "> 2021-05-27 10:42:16,454 [info] run executed, status=completed\n",
      "final state: completed\n"
     ]
    },
    {
     "data": {
      "text/html": [
       "<style>\n",
       ".dictlist {\n",
       "  background-color: #4EC64B;\n",
       "  text-align: center;\n",
       "  margin: 4px;\n",
       "  border-radius: 3px; padding: 0px 3px 1px 3px; display: inline-block;}\n",
       ".artifact {\n",
       "  cursor: pointer;\n",
       "  background-color: #4EC64B;\n",
       "  text-align: left;\n",
       "  margin: 4px; border-radius: 3px; padding: 0px 3px 1px 3px; display: inline-block;\n",
       "}\n",
       "div.block.hidden {\n",
       "  display: none;\n",
       "}\n",
       ".clickable {\n",
       "  cursor: pointer;\n",
       "}\n",
       ".ellipsis {\n",
       "  display: inline-block;\n",
       "  max-width: 60px;\n",
       "  white-space: nowrap;\n",
       "  overflow: hidden;\n",
       "  text-overflow: ellipsis;\n",
       "}\n",
       ".master-wrapper {\n",
       "  display: flex;\n",
       "  flex-flow: row nowrap;\n",
       "  justify-content: flex-start;\n",
       "  align-items: stretch;\n",
       "}\n",
       ".master-tbl {\n",
       "  flex: 3\n",
       "}\n",
       ".master-wrapper > div {\n",
       "  margin: 4px;\n",
       "  padding: 10px;\n",
       "}\n",
       "iframe.fileview {\n",
       "  border: 0 none;\n",
       "  height: 100%;\n",
       "  width: 100%;\n",
       "  white-space: pre-wrap;\n",
       "}\n",
       ".pane-header-title {\n",
       "  width: 80%;\n",
       "  font-weight: 500;\n",
       "}\n",
       ".pane-header {\n",
       "  line-height: 1;\n",
       "  background-color: #4EC64B;\n",
       "  padding: 3px;\n",
       "}\n",
       ".pane-header .close {\n",
       "  font-size: 20px;\n",
       "  font-weight: 700;\n",
       "  float: right;\n",
       "  margin-top: -5px;\n",
       "}\n",
       ".master-wrapper .right-pane {\n",
       "  border: 1px inset silver;\n",
       "  width: 40%;\n",
       "  min-height: 300px;\n",
       "  flex: 3\n",
       "  min-width: 500px;\n",
       "}\n",
       ".master-wrapper * {\n",
       "  box-sizing: border-box;\n",
       "}\n",
       "</style><script>\n",
       "function copyToClipboard(fld) {\n",
       "    if (document.queryCommandSupported && document.queryCommandSupported('copy')) {\n",
       "        var textarea = document.createElement('textarea');\n",
       "        textarea.textContent = fld.innerHTML;\n",
       "        textarea.style.position = 'fixed';\n",
       "        document.body.appendChild(textarea);\n",
       "        textarea.select();\n",
       "\n",
       "        try {\n",
       "            return document.execCommand('copy'); // Security exception may be thrown by some browsers.\n",
       "        } catch (ex) {\n",
       "\n",
       "        } finally {\n",
       "            document.body.removeChild(textarea);\n",
       "        }\n",
       "    }\n",
       "}\n",
       "function expandPanel(el) {\n",
       "  const panelName = \"#\" + el.getAttribute('paneName');\n",
       "  console.log(el.title);\n",
       "\n",
       "  document.querySelector(panelName + \"-title\").innerHTML = el.title\n",
       "  iframe = document.querySelector(panelName + \"-body\");\n",
       "\n",
       "  const tblcss = `<style> body { font-family: Arial, Helvetica, sans-serif;}\n",
       "    #csv { margin-bottom: 15px; }\n",
       "    #csv table { border-collapse: collapse;}\n",
       "    #csv table td { padding: 4px 8px; border: 1px solid silver;} </style>`;\n",
       "\n",
       "  function csvToHtmlTable(str) {\n",
       "    return '<div id=\"csv\"><table><tr><td>' +  str.replace(/[\\n\\r]+$/g, '').replace(/[\\n\\r]+/g, '</td></tr><tr><td>')\n",
       "      .replace(/,/g, '</td><td>') + '</td></tr></table></div>';\n",
       "  }\n",
       "\n",
       "  function reqListener () {\n",
       "    if (el.title.endsWith(\".csv\")) {\n",
       "      iframe.setAttribute(\"srcdoc\", tblcss + csvToHtmlTable(this.responseText));\n",
       "    } else {\n",
       "      iframe.setAttribute(\"srcdoc\", this.responseText);\n",
       "    }\n",
       "    console.log(this.responseText);\n",
       "  }\n",
       "\n",
       "  const oReq = new XMLHttpRequest();\n",
       "  oReq.addEventListener(\"load\", reqListener);\n",
       "  oReq.open(\"GET\", el.title);\n",
       "  oReq.send();\n",
       "\n",
       "\n",
       "  //iframe.src = el.title;\n",
       "  const resultPane = document.querySelector(panelName + \"-pane\");\n",
       "  if (resultPane.classList.contains(\"hidden\")) {\n",
       "    resultPane.classList.remove(\"hidden\");\n",
       "  }\n",
       "}\n",
       "function closePanel(el) {\n",
       "  const panelName = \"#\" + el.getAttribute('paneName')\n",
       "  const resultPane = document.querySelector(panelName + \"-pane\");\n",
       "  if (!resultPane.classList.contains(\"hidden\")) {\n",
       "    resultPane.classList.add(\"hidden\");\n",
       "  }\n",
       "}\n",
       "\n",
       "</script>\n",
       "<div class=\"master-wrapper\">\n",
       "  <div class=\"block master-tbl\"><div>\n",
       "<style scoped>\n",
       "    .dataframe tbody tr th:only-of-type {\n",
       "        vertical-align: middle;\n",
       "    }\n",
       "\n",
       "    .dataframe tbody tr th {\n",
       "        vertical-align: top;\n",
       "    }\n",
       "\n",
       "    .dataframe thead th {\n",
       "        text-align: right;\n",
       "    }\n",
       "</style>\n",
       "<table border=\"1\" class=\"dataframe\">\n",
       "  <thead>\n",
       "    <tr style=\"text-align: right;\">\n",
       "      <th>project</th>\n",
       "      <th>uid</th>\n",
       "      <th>iter</th>\n",
       "      <th>start</th>\n",
       "      <th>state</th>\n",
       "      <th>name</th>\n",
       "      <th>labels</th>\n",
       "      <th>inputs</th>\n",
       "      <th>parameters</th>\n",
       "      <th>results</th>\n",
       "      <th>artifacts</th>\n",
       "    </tr>\n",
       "  </thead>\n",
       "  <tbody>\n",
       "    <tr>\n",
       "      <td>quick-start-test</td>\n",
       "      <td><div title=\"6995ba20ebe04b03b88120af3673a22c\"><a href=\"https://dashboard.default-tenant.app.jfiehlfgdotc.iguazio-cd2.com/mlprojects/quick-start-test/jobs/monitor/6995ba20ebe04b03b88120af3673a22c/overview\" target=\"_blank\" >...3673a22c</a></div></td>\n",
       "      <td>0</td>\n",
       "      <td>May 27 10:42:15</td>\n",
       "      <td>completed</td>\n",
       "      <td>train</td>\n",
       "      <td><div class=\"dictlist\">v3io_user=test</div><div class=\"dictlist\">kind=job</div><div class=\"dictlist\">owner=test</div><div class=\"dictlist\">host=train-xhmp2</div><div class=\"dictlist\">class=sklearn.linear_model.LogisticRegression</div></td>\n",
       "      <td><div title=\"https://s3.wasabisys.com/iguazio/data/iris/iris_dataset.csv\">dataset</div></td>\n",
       "      <td><div class=\"dictlist\">model_pkg_class=sklearn.linear_model.LogisticRegression</div><div class=\"dictlist\">label_column=label</div></td>\n",
       "      <td><div class=\"dictlist\">accuracy=0.9375</div><div class=\"dictlist\">test-error=0.0625</div><div class=\"dictlist\">auc-micro=0.9921875</div><div class=\"dictlist\">auc-weighted=1.0</div><div class=\"dictlist\">f1-score=0.9206349206349206</div><div class=\"dictlist\">precision_score=0.9047619047619048</div><div class=\"dictlist\">recall_score=0.9555555555555556</div></td>\n",
       "      <td><div title=\"v3io:///projects/quick-start-test/artifacts/data/test_set.parquet\">test_set</div><div class=\"artifact\" onclick=\"expandPanel(this)\" paneName=\"resultd97f1df5\" title=\"files/v3io/projects/quick-start-test/artifacts/model/plots/confusion-matrix.html\">confusion-matrix</div><div class=\"artifact\" onclick=\"expandPanel(this)\" paneName=\"resultd97f1df5\" title=\"files/v3io/projects/quick-start-test/artifacts/model/plots/precision-recall-multiclass.html\">precision-recall-multiclass</div><div class=\"artifact\" onclick=\"expandPanel(this)\" paneName=\"resultd97f1df5\" title=\"files/v3io/projects/quick-start-test/artifacts/model/plots/roc-multiclass.html\">roc-multiclass</div><div title=\"v3io:///projects/quick-start-test/artifacts/model/\">model</div></td>\n",
       "    </tr>\n",
       "  </tbody>\n",
       "</table>\n",
       "</div></div>\n",
       "  <div id=\"resultd97f1df5-pane\" class=\"right-pane block hidden\">\n",
       "    <div class=\"pane-header\">\n",
       "      <span id=\"resultd97f1df5-title\" class=\"pane-header-title\">Title</span>\n",
       "      <span onclick=\"closePanel(this)\" paneName=\"resultd97f1df5\" class=\"close clickable\">&times;</span>\n",
       "    </div>\n",
       "    <iframe class=\"fileview\" id=\"resultd97f1df5-body\"></iframe>\n",
       "  </div>\n",
       "</div>\n"
      ],
      "text/plain": [
       "<IPython.core.display.HTML object>"
      ]
     },
     "metadata": {},
     "output_type": "display_data"
    },
    {
     "name": "stdout",
     "output_type": "stream",
     "text": [
      "to track results use .show() or .logs() or in CLI: \n",
      "!mlrun get run 6995ba20ebe04b03b88120af3673a22c --project quick-start-test , !mlrun logs 6995ba20ebe04b03b88120af3673a22c --project quick-start-test\n",
      "> 2021-05-27 10:42:24,081 [info] run executed, status=completed\n"
     ]
    }
   ],
   "source": [
    "from mlrun import import_function\n",
    "from mlrun.platforms import auto_mount\n",
    "\n",
    "train = import_function('hub://sklearn_classifier').apply(auto_mount())\n",
    "\n",
    "train_run = train.run(name='train',\n",
    "                      inputs={'dataset': 'https://s3.wasabisys.com/iguazio/data/iris/iris_dataset.csv'},\n",
    "                      params={'model_pkg_class': 'sklearn.linear_model.LogisticRegression',\n",
    "                              'label_column': 'label'})"
   ]
  },
  {
   "cell_type": "markdown",
   "metadata": {},
   "source": [
    "The run output above contains a link to the MLRun UI. Click it to inspect the various aspects of the jobs you run:\n",
    "\n",
    "<img src=\"./_static/images/mlrun-quick-start/train-info.png\" alt=\"ui-info\" width=\"800\"/>"
   ]
  },
  {
   "cell_type": "markdown",
   "metadata": {},
   "source": [
    "As well as their artifacts:\n",
    "\n",
    "<img src=\"./_static/images/mlrun-quick-start/train-artifacts.png\" alt=\"ui-artifacts\" width=\"800\"/>"
   ]
  },
  {
   "cell_type": "markdown",
   "metadata": {},
   "source": [
    "When running the function in a Jupyter notebook, the output cell for your function execution will contain a table with\n",
    "run information &mdash; including the state of the execution, all inputs and parameters, and the execution results and artifacts.\n",
    "\n",
    "![MLRun quick start train output](./_static/images/mlrun-quick-start/train-output.png)"
   ]
  },
  {
   "cell_type": "markdown",
   "metadata": {},
   "source": [
    "## Test the Model\n",
    "<a name=\"test-the-model\"></a>"
   ]
  },
  {
   "cell_type": "markdown",
   "metadata": {},
   "source": [
    "Now that you have a trained model, you can test it: run a task that uses the [test_classifier](https://github.com/mlrun/functions/tree/master/test_classifier)\n",
    "function from the function marketplace to run the selected trained model against the test dataset. The test dataset\n",
    "was returned from the training task (`train_run`) in the previous step."
   ]
  },
  {
   "cell_type": "code",
   "execution_count": 3,
   "metadata": {},
   "outputs": [],
   "source": [
    "test = import_function('hub://test_classifier').apply(auto_mount())"
   ]
  },
  {
   "cell_type": "markdown",
   "metadata": {},
   "source": [
    "You can then run the function as part of your project, just as any other function that you have written yourself.\n",
    "To view the function documentation, call the `doc` method:"
   ]
  },
  {
   "cell_type": "code",
   "execution_count": 4,
   "metadata": {},
   "outputs": [
    {
     "name": "stdout",
     "output_type": "stream",
     "text": [
      "function: test-classifier\n",
      "test a classifier using held-out or new data\n",
      "default handler: test_classifier\n",
      "entry points:\n",
      "  test_classifier: Test one or more classifier models against held-out dataset\n",
      "\n",
      "Using held-out test features, evaluates the peformance of the estimated model\n",
      "\n",
      "Can be part of a kubeflow pipeline as a test step that is run post EDA and \n",
      "training/validation cycles\n",
      "    context  - the function context, default=\n",
      "    models_path(DataItem)  - artifact models representing a file or a folder, default=\n",
      "    test_set(DataItem)  - test features and labels, default=\n",
      "    label_column(str)  - column name for ground truth labels, default=\n",
      "    score_method(str)  - for multiclass classification, default=micro\n",
      "    plots_dest(str)  - dir for test plots, default=\n",
      "    model_evaluator  - NOT IMPLEMENTED: specific method to generate eval, passed in as string or available in this folder, default=None\n",
      "    default_model(str)  - , default=model.pkl\n",
      "    predictions_column(str)  - column name for the predictions column on the resulted artifact, default=yscore\n",
      "    model_update  - (True) update model, when running as stand alone no need in update, default=True\n"
     ]
    }
   ],
   "source": [
    "test.doc()"
   ]
  },
  {
   "cell_type": "markdown",
   "metadata": {},
   "source": [
    "Configure parameters for the test function (`params`), and provide the selected trained model from the train task as an input artifact (`inputs`)"
   ]
  },
  {
   "cell_type": "code",
   "execution_count": 5,
   "metadata": {},
   "outputs": [
    {
     "name": "stdout",
     "output_type": "stream",
     "text": [
      "> 2021-05-27 10:42:24,252 [info] starting run test uid=e4839cc44e14440b8f6e1eaac9ba3cef DB=http://mlrun-api:8080\n",
      "> 2021-05-27 10:42:24,473 [info] Job is running in the background, pod: test-r8zp7\n",
      "> 2021-05-27 10:42:31,010 [info] run executed, status=completed\n",
      "final state: completed\n"
     ]
    },
    {
     "data": {
      "text/html": [
       "<style>\n",
       ".dictlist {\n",
       "  background-color: #4EC64B;\n",
       "  text-align: center;\n",
       "  margin: 4px;\n",
       "  border-radius: 3px; padding: 0px 3px 1px 3px; display: inline-block;}\n",
       ".artifact {\n",
       "  cursor: pointer;\n",
       "  background-color: #4EC64B;\n",
       "  text-align: left;\n",
       "  margin: 4px; border-radius: 3px; padding: 0px 3px 1px 3px; display: inline-block;\n",
       "}\n",
       "div.block.hidden {\n",
       "  display: none;\n",
       "}\n",
       ".clickable {\n",
       "  cursor: pointer;\n",
       "}\n",
       ".ellipsis {\n",
       "  display: inline-block;\n",
       "  max-width: 60px;\n",
       "  white-space: nowrap;\n",
       "  overflow: hidden;\n",
       "  text-overflow: ellipsis;\n",
       "}\n",
       ".master-wrapper {\n",
       "  display: flex;\n",
       "  flex-flow: row nowrap;\n",
       "  justify-content: flex-start;\n",
       "  align-items: stretch;\n",
       "}\n",
       ".master-tbl {\n",
       "  flex: 3\n",
       "}\n",
       ".master-wrapper > div {\n",
       "  margin: 4px;\n",
       "  padding: 10px;\n",
       "}\n",
       "iframe.fileview {\n",
       "  border: 0 none;\n",
       "  height: 100%;\n",
       "  width: 100%;\n",
       "  white-space: pre-wrap;\n",
       "}\n",
       ".pane-header-title {\n",
       "  width: 80%;\n",
       "  font-weight: 500;\n",
       "}\n",
       ".pane-header {\n",
       "  line-height: 1;\n",
       "  background-color: #4EC64B;\n",
       "  padding: 3px;\n",
       "}\n",
       ".pane-header .close {\n",
       "  font-size: 20px;\n",
       "  font-weight: 700;\n",
       "  float: right;\n",
       "  margin-top: -5px;\n",
       "}\n",
       ".master-wrapper .right-pane {\n",
       "  border: 1px inset silver;\n",
       "  width: 40%;\n",
       "  min-height: 300px;\n",
       "  flex: 3\n",
       "  min-width: 500px;\n",
       "}\n",
       ".master-wrapper * {\n",
       "  box-sizing: border-box;\n",
       "}\n",
       "</style><script>\n",
       "function copyToClipboard(fld) {\n",
       "    if (document.queryCommandSupported && document.queryCommandSupported('copy')) {\n",
       "        var textarea = document.createElement('textarea');\n",
       "        textarea.textContent = fld.innerHTML;\n",
       "        textarea.style.position = 'fixed';\n",
       "        document.body.appendChild(textarea);\n",
       "        textarea.select();\n",
       "\n",
       "        try {\n",
       "            return document.execCommand('copy'); // Security exception may be thrown by some browsers.\n",
       "        } catch (ex) {\n",
       "\n",
       "        } finally {\n",
       "            document.body.removeChild(textarea);\n",
       "        }\n",
       "    }\n",
       "}\n",
       "function expandPanel(el) {\n",
       "  const panelName = \"#\" + el.getAttribute('paneName');\n",
       "  console.log(el.title);\n",
       "\n",
       "  document.querySelector(panelName + \"-title\").innerHTML = el.title\n",
       "  iframe = document.querySelector(panelName + \"-body\");\n",
       "\n",
       "  const tblcss = `<style> body { font-family: Arial, Helvetica, sans-serif;}\n",
       "    #csv { margin-bottom: 15px; }\n",
       "    #csv table { border-collapse: collapse;}\n",
       "    #csv table td { padding: 4px 8px; border: 1px solid silver;} </style>`;\n",
       "\n",
       "  function csvToHtmlTable(str) {\n",
       "    return '<div id=\"csv\"><table><tr><td>' +  str.replace(/[\\n\\r]+$/g, '').replace(/[\\n\\r]+/g, '</td></tr><tr><td>')\n",
       "      .replace(/,/g, '</td><td>') + '</td></tr></table></div>';\n",
       "  }\n",
       "\n",
       "  function reqListener () {\n",
       "    if (el.title.endsWith(\".csv\")) {\n",
       "      iframe.setAttribute(\"srcdoc\", tblcss + csvToHtmlTable(this.responseText));\n",
       "    } else {\n",
       "      iframe.setAttribute(\"srcdoc\", this.responseText);\n",
       "    }\n",
       "    console.log(this.responseText);\n",
       "  }\n",
       "\n",
       "  const oReq = new XMLHttpRequest();\n",
       "  oReq.addEventListener(\"load\", reqListener);\n",
       "  oReq.open(\"GET\", el.title);\n",
       "  oReq.send();\n",
       "\n",
       "\n",
       "  //iframe.src = el.title;\n",
       "  const resultPane = document.querySelector(panelName + \"-pane\");\n",
       "  if (resultPane.classList.contains(\"hidden\")) {\n",
       "    resultPane.classList.remove(\"hidden\");\n",
       "  }\n",
       "}\n",
       "function closePanel(el) {\n",
       "  const panelName = \"#\" + el.getAttribute('paneName')\n",
       "  const resultPane = document.querySelector(panelName + \"-pane\");\n",
       "  if (!resultPane.classList.contains(\"hidden\")) {\n",
       "    resultPane.classList.add(\"hidden\");\n",
       "  }\n",
       "}\n",
       "\n",
       "</script>\n",
       "<div class=\"master-wrapper\">\n",
       "  <div class=\"block master-tbl\"><div>\n",
       "<style scoped>\n",
       "    .dataframe tbody tr th:only-of-type {\n",
       "        vertical-align: middle;\n",
       "    }\n",
       "\n",
       "    .dataframe tbody tr th {\n",
       "        vertical-align: top;\n",
       "    }\n",
       "\n",
       "    .dataframe thead th {\n",
       "        text-align: right;\n",
       "    }\n",
       "</style>\n",
       "<table border=\"1\" class=\"dataframe\">\n",
       "  <thead>\n",
       "    <tr style=\"text-align: right;\">\n",
       "      <th>project</th>\n",
       "      <th>uid</th>\n",
       "      <th>iter</th>\n",
       "      <th>start</th>\n",
       "      <th>state</th>\n",
       "      <th>name</th>\n",
       "      <th>labels</th>\n",
       "      <th>inputs</th>\n",
       "      <th>parameters</th>\n",
       "      <th>results</th>\n",
       "      <th>artifacts</th>\n",
       "    </tr>\n",
       "  </thead>\n",
       "  <tbody>\n",
       "    <tr>\n",
       "      <td>quick-start-test</td>\n",
       "      <td><div title=\"e4839cc44e14440b8f6e1eaac9ba3cef\"><a href=\"https://dashboard.default-tenant.app.jfiehlfgdotc.iguazio-cd2.com/mlprojects/quick-start-test/jobs/monitor/e4839cc44e14440b8f6e1eaac9ba3cef/overview\" target=\"_blank\" >...c9ba3cef</a></div></td>\n",
       "      <td>0</td>\n",
       "      <td>May 27 10:42:30</td>\n",
       "      <td>completed</td>\n",
       "      <td>test</td>\n",
       "      <td><div class=\"dictlist\">v3io_user=test</div><div class=\"dictlist\">kind=job</div><div class=\"dictlist\">owner=test</div><div class=\"dictlist\">host=test-r8zp7</div></td>\n",
       "      <td><div title=\"store://artifacts/quick-start-test/train_model:6995ba20ebe04b03b88120af3673a22c\">models_path</div><div title=\"store://artifacts/quick-start-test/train_test_set:6995ba20ebe04b03b88120af3673a22c\">test_set</div></td>\n",
       "      <td><div class=\"dictlist\">label_column=label</div></td>\n",
       "      <td><div class=\"dictlist\">accuracy=0.9777777777777777</div><div class=\"dictlist\">test-error=0.022222222222222223</div><div class=\"dictlist\">auc-micro=0.9985185185185185</div><div class=\"dictlist\">auc-weighted=0.9985392720306513</div><div class=\"dictlist\">f1-score=0.9769016328156113</div><div class=\"dictlist\">precision_score=0.9761904761904763</div><div class=\"dictlist\">recall_score=0.9791666666666666</div></td>\n",
       "      <td><div class=\"artifact\" onclick=\"expandPanel(this)\" paneName=\"result7b9abeea\" title=\"files/v3io/projects/quick-start-test/artifacts/plots/confusion-matrix.html\">confusion-matrix</div><div class=\"artifact\" onclick=\"expandPanel(this)\" paneName=\"result7b9abeea\" title=\"files/v3io/projects/quick-start-test/artifacts/plots/precision-recall-multiclass.html\">precision-recall-multiclass</div><div class=\"artifact\" onclick=\"expandPanel(this)\" paneName=\"result7b9abeea\" title=\"files/v3io/projects/quick-start-test/artifacts/plots/roc-multiclass.html\">roc-multiclass</div><div title=\"v3io:///projects/quick-start-test/artifacts/test_set_preds.parquet\">test_set_preds</div></td>\n",
       "    </tr>\n",
       "  </tbody>\n",
       "</table>\n",
       "</div></div>\n",
       "  <div id=\"result7b9abeea-pane\" class=\"right-pane block hidden\">\n",
       "    <div class=\"pane-header\">\n",
       "      <span id=\"result7b9abeea-title\" class=\"pane-header-title\">Title</span>\n",
       "      <span onclick=\"closePanel(this)\" paneName=\"result7b9abeea\" class=\"close clickable\">&times;</span>\n",
       "    </div>\n",
       "    <iframe class=\"fileview\" id=\"result7b9abeea-body\"></iframe>\n",
       "  </div>\n",
       "</div>\n"
      ],
      "text/plain": [
       "<IPython.core.display.HTML object>"
      ]
     },
     "metadata": {},
     "output_type": "display_data"
    },
    {
     "name": "stdout",
     "output_type": "stream",
     "text": [
      "to track results use .show() or .logs() or in CLI: \n",
      "!mlrun get run e4839cc44e14440b8f6e1eaac9ba3cef --project quick-start-test , !mlrun logs e4839cc44e14440b8f6e1eaac9ba3cef --project quick-start-test\n",
      "> 2021-05-27 10:42:33,670 [info] run executed, status=completed\n"
     ]
    }
   ],
   "source": [
    "test_run = test.run(name=\"test\",\n",
    "                    params={\"label_column\": \"label\"},\n",
    "                    inputs={\"models_path\": train_run.outputs['model'],\n",
    "                            \"test_set\": train_run.outputs['test_set']})"
   ]
  },
  {
   "cell_type": "markdown",
   "metadata": {},
   "source": [
    "## Serve the Model\n",
    "<a name=\"serve-the-model\"></a>"
   ]
  },
  {
   "cell_type": "markdown",
   "metadata": {},
   "source": [
    "MLRun serving can take MLRun models or standard model files and produce managed, real-time, serverless functions using\n",
    "the [Nuclio real-time serverless framework](https://www.iguazio.com/open-source/nuclio/).\n",
    "Nuclio is built around data, I/O, and compute intensive workloads and is focused on performance and flexibility.\n",
    "Nuclio is also deeply integrated into the MLRun framework.\n",
    "See [MLRun Serving documentation](./serving/serving-graph.md) to learn more about the rich serving capabilities\n",
    "MLRun has to offer.\n",
    "\n",
    "\n",
    "To deploy your model using the [v2_model_server function](https://github.com/mlrun/functions/tree/master/v2_model_server),\n",
    "run the following code:"
   ]
  },
  {
   "cell_type": "code",
   "execution_count": 6,
   "metadata": {},
   "outputs": [
    {
     "name": "stdout",
     "output_type": "stream",
     "text": [
      "> 2021-05-27 10:42:33,823 [info] Starting remote function deploy\n",
      "2021-05-27 10:42:33  (info) Deploying function\n",
      "2021-05-27 10:42:33  (info) Building\n",
      "2021-05-27 10:42:33  (info) Staging files and preparing base images\n",
      "2021-05-27 10:42:33  (info) Building processor image\n",
      "2021-05-27 10:42:35  (info) Build complete\n",
      "> 2021-05-27 10:42:43,753 [info] function deployed, address=default-tenant.app.jfiehlfgdotc.iguazio-cd2.com:32645\n"
     ]
    }
   ],
   "source": [
    "serve = import_function('hub://v2_model_server').apply(auto_mount())\n",
    "model_name='iris'\n",
    "serve.add_model(model_name, model_path=train_run.outputs['model'])\n",
    "addr = serve.deploy()"
   ]
  },
  {
   "cell_type": "markdown",
   "metadata": {},
   "source": [
    "The `invoke` method enables to programmatically test the function."
   ]
  },
  {
   "cell_type": "code",
   "execution_count": 7,
   "metadata": {},
   "outputs": [
    {
     "data": {
      "text/plain": [
       "{'id': '7ebdf355-72f5-4646-9652-f1cbd70d0001',\n",
       " 'model_name': 'iris',\n",
       " 'outputs': [0, 2]}"
      ]
     },
     "execution_count": 7,
     "metadata": {},
     "output_type": "execute_result"
    }
   ],
   "source": [
    "import json\n",
    "\n",
    "inputs = [[5.1, 3.5, 1.4, 0.2],\n",
    "          [7.7, 3.8, 6.7, 2.2]]\n",
    "my_data = json.dumps({'inputs': inputs})\n",
    "serve.invoke(f'v2/models/{model_name}/infer', my_data)"
   ]
  },
  {
   "cell_type": "markdown",
   "metadata": {
    "pycharm": {
     "name": "#%% md\n"
    }
   },
   "source": [
    "Open the Nuclio UI to view the function and test it."
   ]
  },
  {
   "cell_type": "markdown",
   "metadata": {},
   "source": [
    "![Nuclio Functions UI](./_static/images/mlrun-quick-start/serve.png)"
   ]
  },
  {
   "cell_type": "markdown",
   "metadata": {},
   "source": [
    "For a more detailed walk-through, refer to the [getting-started tutorial](tutorial/index.md)."
   ]
  }
 ],
 "metadata": {
  "kernelspec": {
   "display_name": "Python 3",
   "language": "python",
   "name": "python3"
  },
  "language_info": {
   "codemirror_mode": {
    "name": "ipython",
    "version": 3
   },
   "file_extension": ".py",
   "mimetype": "text/x-python",
   "name": "python",
   "nbconvert_exporter": "python",
   "pygments_lexer": "ipython3",
   "version": "3.7.6"
  }
 },
 "nbformat": 4,
 "nbformat_minor": 4
}
