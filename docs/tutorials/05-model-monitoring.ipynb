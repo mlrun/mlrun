{
 "cells": [
  {
   "cell_type": "markdown",
   "id": "ea8f6c9f",
   "metadata": {},
   "source": [
    "(realtime-monitor-drift-tutor)=\n",
    "# Realtime monitoring and drift detection\n",
    "\n",
    "This tutorial illustrates the basic model monitoring capabilities of MLRun: deploying a model to a live endpoint and \n",
    "calculating data drift.\n",
    "\n",
    "See the overview to model monitoring in {ref}`model-monitoring-des`, and \n",
    "make sure you have reviewed the basics in MLRun [**Quick Start Tutorial**](../01-mlrun-basics.html)."
   ]
  },
  {
   "cell_type": "markdown",
   "id": "699c9e94",
   "metadata": {},
   "source": [
    "## MLRun installation and configuration\n",
    "\n",
    "Before running this notebook make sure `mlrun` is installed and that you have configured the access to the MLRun service. "
   ]
  },
  {
   "cell_type": "markdown",
   "id": "2ccd4c68",
   "metadata": {},
   "source": [
    "## Set up the project\n",
    "\n",
    "First, import the dependencies and create an [MLRun project](https://docs.mlrun.org/en/latest/projects/project.html). This  contains all of the models, functions, datasets, etc."
   ]
  },
  {
   "cell_type": "code",
   "execution_count": 2,
   "id": "c548d350-83c5-4886-8f96-401c8c139b7a",
   "metadata": {},
   "outputs": [
    {
     "name": "stdout",
     "output_type": "stream",
     "text": [
      "> 2024-05-21 19:58:56,161 [info] Project loaded successfully: {'project_name': 'mm-app-project'}\n"
     ]
    }
   ],
   "source": [
    "%config Completer.use_jedi = False\n",
    "import os\n",
    "import pandas as pd\n",
    "from sklearn.datasets import load_iris\n",
    "import mlrun\n",
    "from mlrun import import_function, get_dataitem, get_or_create_project\n",
    "import uuid\n",
    "\n",
    "project_name = \"mm-app-project\"\n",
    "project = get_or_create_project(project_name, context=\"./\")"
   ]
  },
  {
   "cell_type": "markdown",
   "id": "9c8944e0-565a-4bc2-9515-e9a8f9724fb8",
   "metadata": {},
   "source": [
    "```{admonition} Note\n",
    "This tutorial does not focus on training a model. Instead, it starts with a trained model and its corresponding training dataset.\n",
    "```\n",
    "\n",
    "## Enable model monitoring\n",
    "\n",
    "Model monitoring is enabled per project. {py:meth}`~mlrun.projects.MlrunProject.enable_model_monitoring` brings up the controller and schedules it according to the `base_period`, and deploys the writer.\n",
    "\n",
    "The controller runs, by default, every 10 minutes, which is also the minimum interval. You can modify the frequency with the parameter `base_period`. To change the `base_period`, first run {py:meth}`~mlrun.projects.MlrunProject.disable_model_monitoring`, then run `enable_model_monitoring` with the new `base_period` value. "
   ]
  },
  {
   "cell_type": "code",
   "execution_count": 3,
   "id": "db1bcc3d-77d4-45ad-9048-7586c65ab346",
   "metadata": {},
   "outputs": [
    {
     "data": {
      "text/plain": [
       "{'kind': 'job',\n",
       " 'metadata': {'name': 'model-monitoring-controller',\n",
       "  'tag': 'latest',\n",
       "  'hash': 'b2a49d5dcc32e715d708d0859ea13efc1dd1369d',\n",
       "  'project': 'mm-app-project',\n",
       "  'categories': [],\n",
       "  'updated': '2024-05-21T19:58:00.032834+00:00',\n",
       "  'credentials': {'access_key': '$ref:mlrun-auth-secrets.f74b03408698823c96b9a2c456fe27f0192177bdb8a2416d16bfbf21'}},\n",
       " 'spec': {'command': '',\n",
       "  'args': [],\n",
       "  'image': 'mlrun/mlrun',\n",
       "  'build': {'functionSourceCode': 'IyBDb3B5cmlnaHQgMjAyMyBJZ3VhemlvCiMKIyBMaWNlbnNlZCB1bmRlciB0aGUgQXBhY2hlIExpY2Vuc2UsIFZlcnNpb24gMi4wICh0aGUgIkxpY2Vuc2UiKTsKIyB5b3UgbWF5IG5vdCB1c2UgdGhpcyBmaWxlIGV4Y2VwdCBpbiBjb21wbGlhbmNlIHdpdGggdGhlIExpY2Vuc2UuCiMgWW91IG1heSBvYnRhaW4gYSBjb3B5IG9mIHRoZSBMaWNlbnNlIGF0CiMKIyAgIGh0dHA6Ly93d3cuYXBhY2hlLm9yZy9saWNlbnNlcy9MSUNFTlNFLTIuMAojCiMgVW5sZXNzIHJlcXVpcmVkIGJ5IGFwcGxpY2FibGUgbGF3IG9yIGFncmVlZCB0byBpbiB3cml0aW5nLCBzb2Z0d2FyZQojIGRpc3RyaWJ1dGVkIHVuZGVyIHRoZSBMaWNlbnNlIGlzIGRpc3RyaWJ1dGVkIG9uIGFuICJBUyBJUyIgQkFTSVMsCiMgV0lUSE9VVCBXQVJSQU5USUVTIE9SIENPTkRJVElPTlMgT0YgQU5ZIEtJTkQsIGVpdGhlciBleHByZXNzIG9yIGltcGxpZWQuCiMgU2VlIHRoZSBMaWNlbnNlIGZvciB0aGUgc3BlY2lmaWMgbGFuZ3VhZ2UgZ292ZXJuaW5nIHBlcm1pc3Npb25zIGFuZAojIGxpbWl0YXRpb25zIHVuZGVyIHRoZSBMaWNlbnNlLgoKaW1wb3J0IG1scnVuCmZyb20gbWxydW4ubW9kZWxfbW9uaXRvcmluZy5jb250cm9sbGVyIGltcG9ydCBNb25pdG9yaW5nQXBwbGljYXRpb25Db250cm9sbGVyCgoKZGVmIGhhbmRsZXIoY29udGV4dDogbWxydW4ucnVuLk1MQ2xpZW50Q3R4KSAtPiBOb25lOgogICAgIiIiCiAgICBSdW4gbW9kZWwgbW9uaXRvcmluZyBhcHBsaWNhdGlvbiBwcm9jZXNzb3IKCiAgICA6cGFyYW0gY29udGV4dDogdGhlIE1MUnVuIGNvbnRleHQKICAgICIiIgogICAgbW9uaXRvcl9hcHBfY29udHJvbGxlciA9IE1vbml0b3JpbmdBcHBsaWNhdGlvbkNvbnRyb2xsZXIoCiAgICAgICAgY29udGV4dD1jb250ZXh0LAogICAgICAgIHByb2plY3Q9Y29udGV4dC5wcm9qZWN0LAogICAgKQogICAgbW9uaXRvcl9hcHBfY29udHJvbGxlci5ydW4oKQo=',\n",
       "   'commands': [],\n",
       "   'code_origin': '/mlrun/mlrun/model_monitoring/controller_handler.py',\n",
       "   'origin_filename': '/mlrun/mlrun/model_monitoring/controller_handler.py',\n",
       "   'requirements': []},\n",
       "  'entry_points': {'handler': {'name': 'handler',\n",
       "    'doc': 'Run model monitoring application processor',\n",
       "    'parameters': [{'name': 'context',\n",
       "      'type': 'mlrun.run.MLClientCtx',\n",
       "      'doc': 'the MLRun context'}],\n",
       "    'outputs': [{'type': 'None'}],\n",
       "    'lineno': 19,\n",
       "    'has_varargs': False,\n",
       "    'has_kwargs': False}},\n",
       "  'description': '',\n",
       "  'default_handler': 'handler',\n",
       "  'disable_auto_mount': True,\n",
       "  'volumes': [],\n",
       "  'volume_mounts': [],\n",
       "  'env': [{'name': 'MODEL_MONITORING_ACCESS_KEY',\n",
       "    'valueFrom': {'secretKeyRef': {'key': 'mlrun.model-monitoring.MODEL_MONITORING_ACCESS_KEY',\n",
       "      'name': 'mlrun-project-secrets-mm-app-project'}}},\n",
       "   {'name': 'V3IO_API', 'value': 'http://v3io-webapi:8081'},\n",
       "   {'name': 'V3IO_USERNAME', 'value': 'pipelines'},\n",
       "   {'name': 'V3IO_ACCESS_KEY',\n",
       "    'valueFrom': {'secretKeyRef': {'key': 'accessKey',\n",
       "      'name': 'mlrun-auth-secrets.8ccbe9615ecd005bf03eccc855e7d970c514b5ba685d21dc302a0790'}}},\n",
       "   {'name': 'V3IO_FRAMESD', 'value': 'http://framesd:8080'},\n",
       "   {'name': 'MLRUN_AUTH_SESSION',\n",
       "    'valueFrom': {'secretKeyRef': {'key': 'accessKey',\n",
       "      'name': 'mlrun-auth-secrets.f74b03408698823c96b9a2c456fe27f0192177bdb8a2416d16bfbf21'}}}],\n",
       "  'resources': {'requests': {'memory': '1Mi', 'cpu': '25m'},\n",
       "   'limits': {'memory': '20Gi', 'cpu': '2'}},\n",
       "  'priority_class_name': 'igz-workload-medium',\n",
       "  'preemption_mode': 'prevent',\n",
       "  'state_thresholds': {'pending_scheduled': '1h',\n",
       "   'pending_not_scheduled': '-1',\n",
       "   'image_pull_backoff': '1h',\n",
       "   'executing': '24h'},\n",
       "  'affinity': None,\n",
       "  'tolerations': None,\n",
       "  'security_context': {}},\n",
       " 'verbose': False,\n",
       " 'status': {}}"
      ]
     },
     "execution_count": 3,
     "metadata": {},
     "output_type": "execute_result"
    }
   ],
   "source": [
    "project.set_model_monitoring_credentials(None, \"v3io\", \"v3io\", \"v3io\")\n",
    "project.enable_model_monitoring(base_period=1)"
   ]
  },
  {
   "cell_type": "markdown",
   "id": "6f1de530",
   "metadata": {},
   "source": [
    "## Log the model artifacts\n",
    "\n",
    "See full parameter details in {py:meth}`~mlrun.projects.MlrunProject.log_model`.\n",
    "\n",
    "First download {download}`the pickle file <./src/model.pkl>`."
   ]
  },
  {
   "cell_type": "code",
   "execution_count": 4,
   "id": "ee81d857-7c02-4687-bb3d-92f0f3e05c51",
   "metadata": {
    "tags": []
   },
   "outputs": [
    {
     "data": {
      "text/plain": [
       "<mlrun.artifacts.model.ModelArtifact at 0x7faa31ee1850>"
      ]
     },
     "execution_count": 4,
     "metadata": {},
     "output_type": "execute_result"
    }
   ],
   "source": [
    "iris = load_iris()\n",
    "train_set = pd.DataFrame(\n",
    "    iris[\"data\"],\n",
    "    columns=[\"sepal_length_cm\", \"sepal_width_cm\", \"petal_length_cm\", \"petal_width_cm\"],\n",
    ")\n",
    "\n",
    "model_name = \"RandomForestClassifier\"\n",
    "project.log_model(\n",
    "    model_name,\n",
    "    model_file=\"src/model.pkl\",\n",
    "    training_set=train_set,\n",
    "    framework=\"sklearn\",\n",
    ")"
   ]
  },
  {
   "cell_type": "markdown",
   "id": "1f1993e5-94c8-472d-b026-e1f6e5f89297",
   "metadata": {
    "tags": []
   },
   "source": [
    "## Import, enable monitoring, and deploy the serving function\n",
    "\n",
    "Import the [model server function](https://www.mlrun.org/hub/functions/master/v2-model-server/latest/example/)  from the MLRun Function Hub, add the model that was logged via experiment tracking, and enable drift detection.\n",
    "\n",
    "The model monitoring infrastructure was already enabled in [Enable model monitoring](#enable-model-monitoring). Now, you enable monitoring on this specific function and its related models with `set_tracking`. This activates all inferences and predictions, which is used for drift detection.\n",
    "\n",
    "Then you deploy the serving function with drift detection enabled with a single line of code.\n",
    "\n",
    "The result of this step is that the model-monitoring stream pod writes data to Parquet, by model endpoint. Every base period, the controller checks for new data. Each time it finds new data, it sends it to the relevant app."
   ]
  },
  {
   "cell_type": "code",
   "execution_count": 5,
   "id": "c9ea9061-00d8-4914-b4a5-90c0beb23180",
   "metadata": {
    "scrolled": true
   },
   "outputs": [
    {
     "name": "stdout",
     "output_type": "stream",
     "text": [
      "> 2024-05-21 19:58:56,822 [info] Starting remote function deploy\n",
      "2024-05-21 19:58:57  (info) Deploying function\n",
      "2024-05-21 19:58:57  (info) Building\n",
      "2024-05-21 19:58:57  (info) Staging files and preparing base images\n",
      "2024-05-21 19:58:58  (warn) Using user provided base image, runtime interpreter version is provided by the base image\n",
      "2024-05-21 19:58:58  (info) Building processor image\n",
      "2024-05-21 20:00:03  (info) Build complete\n",
      "2024-05-21 20:00:11  (info) Function deploy complete\n",
      "> 2024-05-21 20:00:18,995 [info] Successfully deployed function: {'internal_invocation_urls': ['nuclio-mm-app-project-serving.default-tenant.svc.cluster.local:8080'], 'external_invocation_urls': ['mm-app-project-serving.default-tenant.app.dev19.lab.iguazeng.com/']}\n"
     ]
    },
    {
     "data": {
      "text/plain": [
       "DeployStatus(state=ready, outputs={'endpoint': 'http://mm-app-project-serving.default-tenant.app.dev19.lab.iguazeng.com/', 'name': 'mm-app-project-serving'})"
      ]
     },
     "execution_count": 5,
     "metadata": {},
     "output_type": "execute_result"
    }
   ],
   "source": [
    "# Import the serving function\n",
    "serving_fn = import_function(\n",
    "    \"hub://v2_model_server\", project=project_name, new_name=\"serving\"\n",
    ")\n",
    "\n",
    "# Add the model to the serving function's routing spec\n",
    "serving_fn.add_model(\n",
    "    model_name, model_path=f\"store://models/{project_name}/{model_name}:latest\"\n",
    ")\n",
    "\n",
    "# Enable monitoring on this serving function\n",
    "serving_fn.set_tracking()\n",
    "\n",
    "serving_fn.spec.build.requirements = [\"scikit-learn\"]\n",
    "\n",
    "# Deploy the serving function\n",
    "project.deploy_function(serving_fn)"
   ]
  },
  {
   "cell_type": "markdown",
   "id": "c1386e06-5bd0-4206-84a1-73d88dcf1bbb",
   "metadata": {
    "tags": []
   },
   "source": [
    "## View deployed resources\n",
    "\n",
    "At this point, you should see the controller and the model-monitoring-batch jobs in the UI under **Projects | Jobs and Workflows**.\n",
    "\n",
    "## Invoke the model\n",
    "\n",
    "See full parameter details in {py:meth}`~mlrun.runtimes.RemoteRuntime.invoke`."
   ]
  },
  {
   "cell_type": "code",
   "execution_count": 6,
   "id": "d56d6d94-f40a-43d8-b9bf-9a6a8ca401b2",
   "metadata": {
    "scrolled": true,
    "tags": []
   },
   "outputs": [
    {
     "name": "stdout",
     "output_type": "stream",
     "text": [
      "> 2024-05-21 20:00:19,087 [info] Invoking function: {'method': 'POST', 'path': 'http://nuclio-mm-app-project-serving.default-tenant.svc.cluster.local:8080/v2/models/RandomForestClassifier/infer'}\n",
      "> 2024-05-21 20:00:19,406 [info] Invoking function: {'method': 'POST', 'path': 'http://nuclio-mm-app-project-serving.default-tenant.svc.cluster.local:8080/v2/models/RandomForestClassifier/infer'}\n",
      "> 2024-05-21 20:00:19,433 [info] Invoking function: {'method': 'POST', 'path': 'http://nuclio-mm-app-project-serving.default-tenant.svc.cluster.local:8080/v2/models/RandomForestClassifier/infer'}\n",
      "> 2024-05-21 20:00:19,460 [info] Invoking function: {'method': 'POST', 'path': 'http://nuclio-mm-app-project-serving.default-tenant.svc.cluster.local:8080/v2/models/RandomForestClassifier/infer'}\n",
      "> 2024-05-21 20:00:19,518 [info] Invoking function: {'method': 'POST', 'path': 'http://nuclio-mm-app-project-serving.default-tenant.svc.cluster.local:8080/v2/models/RandomForestClassifier/infer'}\n",
      "> 2024-05-21 20:00:19,576 [info] Invoking function: {'method': 'POST', 'path': 'http://nuclio-mm-app-project-serving.default-tenant.svc.cluster.local:8080/v2/models/RandomForestClassifier/infer'}\n",
      "> 2024-05-21 20:00:19,632 [info] Invoking function: {'method': 'POST', 'path': 'http://nuclio-mm-app-project-serving.default-tenant.svc.cluster.local:8080/v2/models/RandomForestClassifier/infer'}\n",
      "> 2024-05-21 20:00:19,687 [info] Invoking function: {'method': 'POST', 'path': 'http://nuclio-mm-app-project-serving.default-tenant.svc.cluster.local:8080/v2/models/RandomForestClassifier/infer'}\n",
      "> 2024-05-21 20:00:19,718 [info] Invoking function: {'method': 'POST', 'path': 'http://nuclio-mm-app-project-serving.default-tenant.svc.cluster.local:8080/v2/models/RandomForestClassifier/infer'}\n",
      "> 2024-05-21 20:00:19,745 [info] Invoking function: {'method': 'POST', 'path': 'http://nuclio-mm-app-project-serving.default-tenant.svc.cluster.local:8080/v2/models/RandomForestClassifier/infer'}\n",
      "> 2024-05-21 20:00:19,801 [info] Invoking function: {'method': 'POST', 'path': 'http://nuclio-mm-app-project-serving.default-tenant.svc.cluster.local:8080/v2/models/RandomForestClassifier/infer'}\n",
      "> 2024-05-21 20:00:19,824 [info] Invoking function: {'method': 'POST', 'path': 'http://nuclio-mm-app-project-serving.default-tenant.svc.cluster.local:8080/v2/models/RandomForestClassifier/infer'}\n",
      "> 2024-05-21 20:00:19,852 [info] Invoking function: {'method': 'POST', 'path': 'http://nuclio-mm-app-project-serving.default-tenant.svc.cluster.local:8080/v2/models/RandomForestClassifier/infer'}\n",
      "> 2024-05-21 20:00:19,879 [info] Invoking function: {'method': 'POST', 'path': 'http://nuclio-mm-app-project-serving.default-tenant.svc.cluster.local:8080/v2/models/RandomForestClassifier/infer'}\n",
      "> 2024-05-21 20:00:19,905 [info] Invoking function: {'method': 'POST', 'path': 'http://nuclio-mm-app-project-serving.default-tenant.svc.cluster.local:8080/v2/models/RandomForestClassifier/infer'}\n",
      "> 2024-05-21 20:00:19,964 [info] Invoking function: {'method': 'POST', 'path': 'http://nuclio-mm-app-project-serving.default-tenant.svc.cluster.local:8080/v2/models/RandomForestClassifier/infer'}\n",
      "> 2024-05-21 20:00:19,986 [info] Invoking function: {'method': 'POST', 'path': 'http://nuclio-mm-app-project-serving.default-tenant.svc.cluster.local:8080/v2/models/RandomForestClassifier/infer'}\n",
      "> 2024-05-21 20:00:20,043 [info] Invoking function: {'method': 'POST', 'path': 'http://nuclio-mm-app-project-serving.default-tenant.svc.cluster.local:8080/v2/models/RandomForestClassifier/infer'}\n",
      "> 2024-05-21 20:00:20,099 [info] Invoking function: {'method': 'POST', 'path': 'http://nuclio-mm-app-project-serving.default-tenant.svc.cluster.local:8080/v2/models/RandomForestClassifier/infer'}\n",
      "> 2024-05-21 20:00:20,155 [info] Invoking function: {'method': 'POST', 'path': 'http://nuclio-mm-app-project-serving.default-tenant.svc.cluster.local:8080/v2/models/RandomForestClassifier/infer'}\n",
      "> 2024-05-21 20:00:20,211 [info] Invoking function: {'method': 'POST', 'path': 'http://nuclio-mm-app-project-serving.default-tenant.svc.cluster.local:8080/v2/models/RandomForestClassifier/infer'}\n",
      "> 2024-05-21 20:00:20,233 [info] Invoking function: {'method': 'POST', 'path': 'http://nuclio-mm-app-project-serving.default-tenant.svc.cluster.local:8080/v2/models/RandomForestClassifier/infer'}\n",
      "> 2024-05-21 20:00:20,255 [info] Invoking function: {'method': 'POST', 'path': 'http://nuclio-mm-app-project-serving.default-tenant.svc.cluster.local:8080/v2/models/RandomForestClassifier/infer'}\n",
      "> 2024-05-21 20:00:20,281 [info] Invoking function: {'method': 'POST', 'path': 'http://nuclio-mm-app-project-serving.default-tenant.svc.cluster.local:8080/v2/models/RandomForestClassifier/infer'}\n",
      "> 2024-05-21 20:00:20,307 [info] Invoking function: {'method': 'POST', 'path': 'http://nuclio-mm-app-project-serving.default-tenant.svc.cluster.local:8080/v2/models/RandomForestClassifier/infer'}\n",
      "> 2024-05-21 20:00:20,334 [info] Invoking function: {'method': 'POST', 'path': 'http://nuclio-mm-app-project-serving.default-tenant.svc.cluster.local:8080/v2/models/RandomForestClassifier/infer'}\n",
      "> 2024-05-21 20:00:20,386 [info] Invoking function: {'method': 'POST', 'path': 'http://nuclio-mm-app-project-serving.default-tenant.svc.cluster.local:8080/v2/models/RandomForestClassifier/infer'}\n",
      "> 2024-05-21 20:00:20,410 [info] Invoking function: {'method': 'POST', 'path': 'http://nuclio-mm-app-project-serving.default-tenant.svc.cluster.local:8080/v2/models/RandomForestClassifier/infer'}\n",
      "> 2024-05-21 20:00:20,432 [info] Invoking function: {'method': 'POST', 'path': 'http://nuclio-mm-app-project-serving.default-tenant.svc.cluster.local:8080/v2/models/RandomForestClassifier/infer'}\n",
      "> 2024-05-21 20:00:20,457 [info] Invoking function: {'method': 'POST', 'path': 'http://nuclio-mm-app-project-serving.default-tenant.svc.cluster.local:8080/v2/models/RandomForestClassifier/infer'}\n",
      "> 2024-05-21 20:00:20,514 [info] Invoking function: {'method': 'POST', 'path': 'http://nuclio-mm-app-project-serving.default-tenant.svc.cluster.local:8080/v2/models/RandomForestClassifier/infer'}\n",
      "> 2024-05-21 20:00:20,568 [info] Invoking function: {'method': 'POST', 'path': 'http://nuclio-mm-app-project-serving.default-tenant.svc.cluster.local:8080/v2/models/RandomForestClassifier/infer'}\n",
      "> 2024-05-21 20:00:20,625 [info] Invoking function: {'method': 'POST', 'path': 'http://nuclio-mm-app-project-serving.default-tenant.svc.cluster.local:8080/v2/models/RandomForestClassifier/infer'}\n",
      "> 2024-05-21 20:00:20,656 [info] Invoking function: {'method': 'POST', 'path': 'http://nuclio-mm-app-project-serving.default-tenant.svc.cluster.local:8080/v2/models/RandomForestClassifier/infer'}\n",
      "> 2024-05-21 20:00:20,713 [info] Invoking function: {'method': 'POST', 'path': 'http://nuclio-mm-app-project-serving.default-tenant.svc.cluster.local:8080/v2/models/RandomForestClassifier/infer'}\n",
      "> 2024-05-21 20:00:20,768 [info] Invoking function: {'method': 'POST', 'path': 'http://nuclio-mm-app-project-serving.default-tenant.svc.cluster.local:8080/v2/models/RandomForestClassifier/infer'}\n",
      "> 2024-05-21 20:00:20,827 [info] Invoking function: {'method': 'POST', 'path': 'http://nuclio-mm-app-project-serving.default-tenant.svc.cluster.local:8080/v2/models/RandomForestClassifier/infer'}\n",
      "> 2024-05-21 20:00:20,880 [info] Invoking function: {'method': 'POST', 'path': 'http://nuclio-mm-app-project-serving.default-tenant.svc.cluster.local:8080/v2/models/RandomForestClassifier/infer'}\n",
      "> 2024-05-21 20:00:20,933 [info] Invoking function: {'method': 'POST', 'path': 'http://nuclio-mm-app-project-serving.default-tenant.svc.cluster.local:8080/v2/models/RandomForestClassifier/infer'}\n",
      "> 2024-05-21 20:00:20,967 [info] Invoking function: {'method': 'POST', 'path': 'http://nuclio-mm-app-project-serving.default-tenant.svc.cluster.local:8080/v2/models/RandomForestClassifier/infer'}\n",
      "> 2024-05-21 20:00:21,030 [info] Invoking function: {'method': 'POST', 'path': 'http://nuclio-mm-app-project-serving.default-tenant.svc.cluster.local:8080/v2/models/RandomForestClassifier/infer'}\n",
      "> 2024-05-21 20:00:21,054 [info] Invoking function: {'method': 'POST', 'path': 'http://nuclio-mm-app-project-serving.default-tenant.svc.cluster.local:8080/v2/models/RandomForestClassifier/infer'}\n",
      "> 2024-05-21 20:00:21,078 [info] Invoking function: {'method': 'POST', 'path': 'http://nuclio-mm-app-project-serving.default-tenant.svc.cluster.local:8080/v2/models/RandomForestClassifier/infer'}\n",
      "> 2024-05-21 20:00:21,106 [info] Invoking function: {'method': 'POST', 'path': 'http://nuclio-mm-app-project-serving.default-tenant.svc.cluster.local:8080/v2/models/RandomForestClassifier/infer'}\n",
      "> 2024-05-21 20:00:21,171 [info] Invoking function: {'method': 'POST', 'path': 'http://nuclio-mm-app-project-serving.default-tenant.svc.cluster.local:8080/v2/models/RandomForestClassifier/infer'}\n",
      "> 2024-05-21 20:00:21,228 [info] Invoking function: {'method': 'POST', 'path': 'http://nuclio-mm-app-project-serving.default-tenant.svc.cluster.local:8080/v2/models/RandomForestClassifier/infer'}\n",
      "> 2024-05-21 20:00:21,284 [info] Invoking function: {'method': 'POST', 'path': 'http://nuclio-mm-app-project-serving.default-tenant.svc.cluster.local:8080/v2/models/RandomForestClassifier/infer'}\n",
      "> 2024-05-21 20:00:21,311 [info] Invoking function: {'method': 'POST', 'path': 'http://nuclio-mm-app-project-serving.default-tenant.svc.cluster.local:8080/v2/models/RandomForestClassifier/infer'}\n",
      "> 2024-05-21 20:00:21,362 [info] Invoking function: {'method': 'POST', 'path': 'http://nuclio-mm-app-project-serving.default-tenant.svc.cluster.local:8080/v2/models/RandomForestClassifier/infer'}\n",
      "> 2024-05-21 20:00:21,384 [info] Invoking function: {'method': 'POST', 'path': 'http://nuclio-mm-app-project-serving.default-tenant.svc.cluster.local:8080/v2/models/RandomForestClassifier/infer'}\n",
      "> 2024-05-21 20:00:21,408 [info] Invoking function: {'method': 'POST', 'path': 'http://nuclio-mm-app-project-serving.default-tenant.svc.cluster.local:8080/v2/models/RandomForestClassifier/infer'}\n",
      "> 2024-05-21 20:00:21,437 [info] Invoking function: {'method': 'POST', 'path': 'http://nuclio-mm-app-project-serving.default-tenant.svc.cluster.local:8080/v2/models/RandomForestClassifier/infer'}\n",
      "> 2024-05-21 20:00:21,495 [info] Invoking function: {'method': 'POST', 'path': 'http://nuclio-mm-app-project-serving.default-tenant.svc.cluster.local:8080/v2/models/RandomForestClassifier/infer'}\n",
      "> 2024-05-21 20:00:21,520 [info] Invoking function: {'method': 'POST', 'path': 'http://nuclio-mm-app-project-serving.default-tenant.svc.cluster.local:8080/v2/models/RandomForestClassifier/infer'}\n",
      "> 2024-05-21 20:00:21,542 [info] Invoking function: {'method': 'POST', 'path': 'http://nuclio-mm-app-project-serving.default-tenant.svc.cluster.local:8080/v2/models/RandomForestClassifier/infer'}\n",
      "> 2024-05-21 20:00:21,568 [info] Invoking function: {'method': 'POST', 'path': 'http://nuclio-mm-app-project-serving.default-tenant.svc.cluster.local:8080/v2/models/RandomForestClassifier/infer'}\n",
      "> 2024-05-21 20:00:21,620 [info] Invoking function: {'method': 'POST', 'path': 'http://nuclio-mm-app-project-serving.default-tenant.svc.cluster.local:8080/v2/models/RandomForestClassifier/infer'}\n",
      "> 2024-05-21 20:00:21,646 [info] Invoking function: {'method': 'POST', 'path': 'http://nuclio-mm-app-project-serving.default-tenant.svc.cluster.local:8080/v2/models/RandomForestClassifier/infer'}\n",
      "> 2024-05-21 20:00:21,698 [info] Invoking function: {'method': 'POST', 'path': 'http://nuclio-mm-app-project-serving.default-tenant.svc.cluster.local:8080/v2/models/RandomForestClassifier/infer'}\n",
      "> 2024-05-21 20:00:21,750 [info] Invoking function: {'method': 'POST', 'path': 'http://nuclio-mm-app-project-serving.default-tenant.svc.cluster.local:8080/v2/models/RandomForestClassifier/infer'}\n",
      "> 2024-05-21 20:00:21,775 [info] Invoking function: {'method': 'POST', 'path': 'http://nuclio-mm-app-project-serving.default-tenant.svc.cluster.local:8080/v2/models/RandomForestClassifier/infer'}\n",
      "> 2024-05-21 20:00:21,833 [info] Invoking function: {'method': 'POST', 'path': 'http://nuclio-mm-app-project-serving.default-tenant.svc.cluster.local:8080/v2/models/RandomForestClassifier/infer'}\n",
      "> 2024-05-21 20:00:21,887 [info] Invoking function: {'method': 'POST', 'path': 'http://nuclio-mm-app-project-serving.default-tenant.svc.cluster.local:8080/v2/models/RandomForestClassifier/infer'}\n",
      "> 2024-05-21 20:00:21,912 [info] Invoking function: {'method': 'POST', 'path': 'http://nuclio-mm-app-project-serving.default-tenant.svc.cluster.local:8080/v2/models/RandomForestClassifier/infer'}\n",
      "> 2024-05-21 20:00:21,970 [info] Invoking function: {'method': 'POST', 'path': 'http://nuclio-mm-app-project-serving.default-tenant.svc.cluster.local:8080/v2/models/RandomForestClassifier/infer'}\n",
      "> 2024-05-21 20:00:21,996 [info] Invoking function: {'method': 'POST', 'path': 'http://nuclio-mm-app-project-serving.default-tenant.svc.cluster.local:8080/v2/models/RandomForestClassifier/infer'}\n",
      "> 2024-05-21 20:00:22,023 [info] Invoking function: {'method': 'POST', 'path': 'http://nuclio-mm-app-project-serving.default-tenant.svc.cluster.local:8080/v2/models/RandomForestClassifier/infer'}\n",
      "> 2024-05-21 20:00:22,046 [info] Invoking function: {'method': 'POST', 'path': 'http://nuclio-mm-app-project-serving.default-tenant.svc.cluster.local:8080/v2/models/RandomForestClassifier/infer'}\n",
      "> 2024-05-21 20:00:22,068 [info] Invoking function: {'method': 'POST', 'path': 'http://nuclio-mm-app-project-serving.default-tenant.svc.cluster.local:8080/v2/models/RandomForestClassifier/infer'}\n",
      "> 2024-05-21 20:00:22,153 [info] Invoking function: {'method': 'POST', 'path': 'http://nuclio-mm-app-project-serving.default-tenant.svc.cluster.local:8080/v2/models/RandomForestClassifier/infer'}\n",
      "> 2024-05-21 20:00:22,176 [info] Invoking function: {'method': 'POST', 'path': 'http://nuclio-mm-app-project-serving.default-tenant.svc.cluster.local:8080/v2/models/RandomForestClassifier/infer'}\n",
      "> 2024-05-21 20:00:22,229 [info] Invoking function: {'method': 'POST', 'path': 'http://nuclio-mm-app-project-serving.default-tenant.svc.cluster.local:8080/v2/models/RandomForestClassifier/infer'}\n",
      "> 2024-05-21 20:00:22,281 [info] Invoking function: {'method': 'POST', 'path': 'http://nuclio-mm-app-project-serving.default-tenant.svc.cluster.local:8080/v2/models/RandomForestClassifier/infer'}\n",
      "> 2024-05-21 20:00:22,337 [info] Invoking function: {'method': 'POST', 'path': 'http://nuclio-mm-app-project-serving.default-tenant.svc.cluster.local:8080/v2/models/RandomForestClassifier/infer'}\n",
      "> 2024-05-21 20:00:22,374 [info] Invoking function: {'method': 'POST', 'path': 'http://nuclio-mm-app-project-serving.default-tenant.svc.cluster.local:8080/v2/models/RandomForestClassifier/infer'}\n",
      "> 2024-05-21 20:00:22,397 [info] Invoking function: {'method': 'POST', 'path': 'http://nuclio-mm-app-project-serving.default-tenant.svc.cluster.local:8080/v2/models/RandomForestClassifier/infer'}\n",
      "> 2024-05-21 20:00:22,449 [info] Invoking function: {'method': 'POST', 'path': 'http://nuclio-mm-app-project-serving.default-tenant.svc.cluster.local:8080/v2/models/RandomForestClassifier/infer'}\n",
      "> 2024-05-21 20:00:22,504 [info] Invoking function: {'method': 'POST', 'path': 'http://nuclio-mm-app-project-serving.default-tenant.svc.cluster.local:8080/v2/models/RandomForestClassifier/infer'}\n",
      "> 2024-05-21 20:00:22,556 [info] Invoking function: {'method': 'POST', 'path': 'http://nuclio-mm-app-project-serving.default-tenant.svc.cluster.local:8080/v2/models/RandomForestClassifier/infer'}\n",
      "> 2024-05-21 20:00:22,581 [info] Invoking function: {'method': 'POST', 'path': 'http://nuclio-mm-app-project-serving.default-tenant.svc.cluster.local:8080/v2/models/RandomForestClassifier/infer'}\n",
      "> 2024-05-21 20:00:22,637 [info] Invoking function: {'method': 'POST', 'path': 'http://nuclio-mm-app-project-serving.default-tenant.svc.cluster.local:8080/v2/models/RandomForestClassifier/infer'}\n",
      "> 2024-05-21 20:00:22,662 [info] Invoking function: {'method': 'POST', 'path': 'http://nuclio-mm-app-project-serving.default-tenant.svc.cluster.local:8080/v2/models/RandomForestClassifier/infer'}\n",
      "> 2024-05-21 20:00:22,690 [info] Invoking function: {'method': 'POST', 'path': 'http://nuclio-mm-app-project-serving.default-tenant.svc.cluster.local:8080/v2/models/RandomForestClassifier/infer'}\n",
      "> 2024-05-21 20:00:22,747 [info] Invoking function: {'method': 'POST', 'path': 'http://nuclio-mm-app-project-serving.default-tenant.svc.cluster.local:8080/v2/models/RandomForestClassifier/infer'}\n",
      "> 2024-05-21 20:00:22,801 [info] Invoking function: {'method': 'POST', 'path': 'http://nuclio-mm-app-project-serving.default-tenant.svc.cluster.local:8080/v2/models/RandomForestClassifier/infer'}\n",
      "> 2024-05-21 20:00:22,825 [info] Invoking function: {'method': 'POST', 'path': 'http://nuclio-mm-app-project-serving.default-tenant.svc.cluster.local:8080/v2/models/RandomForestClassifier/infer'}\n",
      "> 2024-05-21 20:00:22,882 [info] Invoking function: {'method': 'POST', 'path': 'http://nuclio-mm-app-project-serving.default-tenant.svc.cluster.local:8080/v2/models/RandomForestClassifier/infer'}\n",
      "> 2024-05-21 20:00:22,905 [info] Invoking function: {'method': 'POST', 'path': 'http://nuclio-mm-app-project-serving.default-tenant.svc.cluster.local:8080/v2/models/RandomForestClassifier/infer'}\n",
      "> 2024-05-21 20:00:22,932 [info] Invoking function: {'method': 'POST', 'path': 'http://nuclio-mm-app-project-serving.default-tenant.svc.cluster.local:8080/v2/models/RandomForestClassifier/infer'}\n",
      "> 2024-05-21 20:00:22,984 [info] Invoking function: {'method': 'POST', 'path': 'http://nuclio-mm-app-project-serving.default-tenant.svc.cluster.local:8080/v2/models/RandomForestClassifier/infer'}\n",
      "> 2024-05-21 20:00:23,006 [info] Invoking function: {'method': 'POST', 'path': 'http://nuclio-mm-app-project-serving.default-tenant.svc.cluster.local:8080/v2/models/RandomForestClassifier/infer'}\n",
      "> 2024-05-21 20:00:23,057 [info] Invoking function: {'method': 'POST', 'path': 'http://nuclio-mm-app-project-serving.default-tenant.svc.cluster.local:8080/v2/models/RandomForestClassifier/infer'}\n",
      "> 2024-05-21 20:00:23,109 [info] Invoking function: {'method': 'POST', 'path': 'http://nuclio-mm-app-project-serving.default-tenant.svc.cluster.local:8080/v2/models/RandomForestClassifier/infer'}\n",
      "> 2024-05-21 20:00:23,132 [info] Invoking function: {'method': 'POST', 'path': 'http://nuclio-mm-app-project-serving.default-tenant.svc.cluster.local:8080/v2/models/RandomForestClassifier/infer'}\n",
      "> 2024-05-21 20:00:23,159 [info] Invoking function: {'method': 'POST', 'path': 'http://nuclio-mm-app-project-serving.default-tenant.svc.cluster.local:8080/v2/models/RandomForestClassifier/infer'}\n",
      "> 2024-05-21 20:00:23,216 [info] Invoking function: {'method': 'POST', 'path': 'http://nuclio-mm-app-project-serving.default-tenant.svc.cluster.local:8080/v2/models/RandomForestClassifier/infer'}\n",
      "> 2024-05-21 20:00:23,241 [info] Invoking function: {'method': 'POST', 'path': 'http://nuclio-mm-app-project-serving.default-tenant.svc.cluster.local:8080/v2/models/RandomForestClassifier/infer'}\n",
      "> 2024-05-21 20:00:23,267 [info] Invoking function: {'method': 'POST', 'path': 'http://nuclio-mm-app-project-serving.default-tenant.svc.cluster.local:8080/v2/models/RandomForestClassifier/infer'}\n",
      "> 2024-05-21 20:00:23,319 [info] Invoking function: {'method': 'POST', 'path': 'http://nuclio-mm-app-project-serving.default-tenant.svc.cluster.local:8080/v2/models/RandomForestClassifier/infer'}\n",
      "> 2024-05-21 20:00:23,340 [info] Invoking function: {'method': 'POST', 'path': 'http://nuclio-mm-app-project-serving.default-tenant.svc.cluster.local:8080/v2/models/RandomForestClassifier/infer'}\n",
      "> 2024-05-21 20:00:23,392 [info] Invoking function: {'method': 'POST', 'path': 'http://nuclio-mm-app-project-serving.default-tenant.svc.cluster.local:8080/v2/models/RandomForestClassifier/infer'}\n",
      "> 2024-05-21 20:00:23,415 [info] Invoking function: {'method': 'POST', 'path': 'http://nuclio-mm-app-project-serving.default-tenant.svc.cluster.local:8080/v2/models/RandomForestClassifier/infer'}\n",
      "> 2024-05-21 20:00:23,436 [info] Invoking function: {'method': 'POST', 'path': 'http://nuclio-mm-app-project-serving.default-tenant.svc.cluster.local:8080/v2/models/RandomForestClassifier/infer'}\n",
      "> 2024-05-21 20:00:23,488 [info] Invoking function: {'method': 'POST', 'path': 'http://nuclio-mm-app-project-serving.default-tenant.svc.cluster.local:8080/v2/models/RandomForestClassifier/infer'}\n",
      "> 2024-05-21 20:00:23,545 [info] Invoking function: {'method': 'POST', 'path': 'http://nuclio-mm-app-project-serving.default-tenant.svc.cluster.local:8080/v2/models/RandomForestClassifier/infer'}\n",
      "> 2024-05-21 20:00:23,598 [info] Invoking function: {'method': 'POST', 'path': 'http://nuclio-mm-app-project-serving.default-tenant.svc.cluster.local:8080/v2/models/RandomForestClassifier/infer'}\n",
      "> 2024-05-21 20:00:23,668 [info] Invoking function: {'method': 'POST', 'path': 'http://nuclio-mm-app-project-serving.default-tenant.svc.cluster.local:8080/v2/models/RandomForestClassifier/infer'}\n",
      "> 2024-05-21 20:00:23,721 [info] Invoking function: {'method': 'POST', 'path': 'http://nuclio-mm-app-project-serving.default-tenant.svc.cluster.local:8080/v2/models/RandomForestClassifier/infer'}\n",
      "> 2024-05-21 20:00:23,774 [info] Invoking function: {'method': 'POST', 'path': 'http://nuclio-mm-app-project-serving.default-tenant.svc.cluster.local:8080/v2/models/RandomForestClassifier/infer'}\n",
      "> 2024-05-21 20:00:23,796 [info] Invoking function: {'method': 'POST', 'path': 'http://nuclio-mm-app-project-serving.default-tenant.svc.cluster.local:8080/v2/models/RandomForestClassifier/infer'}\n",
      "> 2024-05-21 20:00:23,848 [info] Invoking function: {'method': 'POST', 'path': 'http://nuclio-mm-app-project-serving.default-tenant.svc.cluster.local:8080/v2/models/RandomForestClassifier/infer'}\n",
      "> 2024-05-21 20:00:23,870 [info] Invoking function: {'method': 'POST', 'path': 'http://nuclio-mm-app-project-serving.default-tenant.svc.cluster.local:8080/v2/models/RandomForestClassifier/infer'}\n",
      "> 2024-05-21 20:00:23,891 [info] Invoking function: {'method': 'POST', 'path': 'http://nuclio-mm-app-project-serving.default-tenant.svc.cluster.local:8080/v2/models/RandomForestClassifier/infer'}\n",
      "> 2024-05-21 20:00:23,943 [info] Invoking function: {'method': 'POST', 'path': 'http://nuclio-mm-app-project-serving.default-tenant.svc.cluster.local:8080/v2/models/RandomForestClassifier/infer'}\n",
      "> 2024-05-21 20:00:24,002 [info] Invoking function: {'method': 'POST', 'path': 'http://nuclio-mm-app-project-serving.default-tenant.svc.cluster.local:8080/v2/models/RandomForestClassifier/infer'}\n",
      "> 2024-05-21 20:00:24,024 [info] Invoking function: {'method': 'POST', 'path': 'http://nuclio-mm-app-project-serving.default-tenant.svc.cluster.local:8080/v2/models/RandomForestClassifier/infer'}\n",
      "> 2024-05-21 20:00:24,075 [info] Invoking function: {'method': 'POST', 'path': 'http://nuclio-mm-app-project-serving.default-tenant.svc.cluster.local:8080/v2/models/RandomForestClassifier/infer'}\n",
      "> 2024-05-21 20:00:24,131 [info] Invoking function: {'method': 'POST', 'path': 'http://nuclio-mm-app-project-serving.default-tenant.svc.cluster.local:8080/v2/models/RandomForestClassifier/infer'}\n",
      "> 2024-05-21 20:00:24,154 [info] Invoking function: {'method': 'POST', 'path': 'http://nuclio-mm-app-project-serving.default-tenant.svc.cluster.local:8080/v2/models/RandomForestClassifier/infer'}\n",
      "> 2024-05-21 20:00:24,175 [info] Invoking function: {'method': 'POST', 'path': 'http://nuclio-mm-app-project-serving.default-tenant.svc.cluster.local:8080/v2/models/RandomForestClassifier/infer'}\n",
      "> 2024-05-21 20:00:24,197 [info] Invoking function: {'method': 'POST', 'path': 'http://nuclio-mm-app-project-serving.default-tenant.svc.cluster.local:8080/v2/models/RandomForestClassifier/infer'}\n",
      "> 2024-05-21 20:00:24,219 [info] Invoking function: {'method': 'POST', 'path': 'http://nuclio-mm-app-project-serving.default-tenant.svc.cluster.local:8080/v2/models/RandomForestClassifier/infer'}\n",
      "> 2024-05-21 20:00:24,241 [info] Invoking function: {'method': 'POST', 'path': 'http://nuclio-mm-app-project-serving.default-tenant.svc.cluster.local:8080/v2/models/RandomForestClassifier/infer'}\n",
      "> 2024-05-21 20:00:24,293 [info] Invoking function: {'method': 'POST', 'path': 'http://nuclio-mm-app-project-serving.default-tenant.svc.cluster.local:8080/v2/models/RandomForestClassifier/infer'}\n",
      "> 2024-05-21 20:00:24,345 [info] Invoking function: {'method': 'POST', 'path': 'http://nuclio-mm-app-project-serving.default-tenant.svc.cluster.local:8080/v2/models/RandomForestClassifier/infer'}\n",
      "> 2024-05-21 20:00:24,367 [info] Invoking function: {'method': 'POST', 'path': 'http://nuclio-mm-app-project-serving.default-tenant.svc.cluster.local:8080/v2/models/RandomForestClassifier/infer'}\n",
      "> 2024-05-21 20:00:24,419 [info] Invoking function: {'method': 'POST', 'path': 'http://nuclio-mm-app-project-serving.default-tenant.svc.cluster.local:8080/v2/models/RandomForestClassifier/infer'}\n",
      "> 2024-05-21 20:00:24,442 [info] Invoking function: {'method': 'POST', 'path': 'http://nuclio-mm-app-project-serving.default-tenant.svc.cluster.local:8080/v2/models/RandomForestClassifier/infer'}\n",
      "> 2024-05-21 20:00:24,464 [info] Invoking function: {'method': 'POST', 'path': 'http://nuclio-mm-app-project-serving.default-tenant.svc.cluster.local:8080/v2/models/RandomForestClassifier/infer'}\n",
      "> 2024-05-21 20:00:24,538 [info] Invoking function: {'method': 'POST', 'path': 'http://nuclio-mm-app-project-serving.default-tenant.svc.cluster.local:8080/v2/models/RandomForestClassifier/infer'}\n",
      "> 2024-05-21 20:00:24,566 [info] Invoking function: {'method': 'POST', 'path': 'http://nuclio-mm-app-project-serving.default-tenant.svc.cluster.local:8080/v2/models/RandomForestClassifier/infer'}\n",
      "> 2024-05-21 20:00:24,619 [info] Invoking function: {'method': 'POST', 'path': 'http://nuclio-mm-app-project-serving.default-tenant.svc.cluster.local:8080/v2/models/RandomForestClassifier/infer'}\n",
      "> 2024-05-21 20:00:24,641 [info] Invoking function: {'method': 'POST', 'path': 'http://nuclio-mm-app-project-serving.default-tenant.svc.cluster.local:8080/v2/models/RandomForestClassifier/infer'}\n",
      "> 2024-05-21 20:00:24,693 [info] Invoking function: {'method': 'POST', 'path': 'http://nuclio-mm-app-project-serving.default-tenant.svc.cluster.local:8080/v2/models/RandomForestClassifier/infer'}\n",
      "> 2024-05-21 20:00:24,745 [info] Invoking function: {'method': 'POST', 'path': 'http://nuclio-mm-app-project-serving.default-tenant.svc.cluster.local:8080/v2/models/RandomForestClassifier/infer'}\n",
      "> 2024-05-21 20:00:24,767 [info] Invoking function: {'method': 'POST', 'path': 'http://nuclio-mm-app-project-serving.default-tenant.svc.cluster.local:8080/v2/models/RandomForestClassifier/infer'}\n",
      "> 2024-05-21 20:00:24,789 [info] Invoking function: {'method': 'POST', 'path': 'http://nuclio-mm-app-project-serving.default-tenant.svc.cluster.local:8080/v2/models/RandomForestClassifier/infer'}\n",
      "> 2024-05-21 20:00:24,841 [info] Invoking function: {'method': 'POST', 'path': 'http://nuclio-mm-app-project-serving.default-tenant.svc.cluster.local:8080/v2/models/RandomForestClassifier/infer'}\n",
      "> 2024-05-21 20:00:24,863 [info] Invoking function: {'method': 'POST', 'path': 'http://nuclio-mm-app-project-serving.default-tenant.svc.cluster.local:8080/v2/models/RandomForestClassifier/infer'}\n",
      "> 2024-05-21 20:00:24,885 [info] Invoking function: {'method': 'POST', 'path': 'http://nuclio-mm-app-project-serving.default-tenant.svc.cluster.local:8080/v2/models/RandomForestClassifier/infer'}\n",
      "> 2024-05-21 20:00:24,910 [info] Invoking function: {'method': 'POST', 'path': 'http://nuclio-mm-app-project-serving.default-tenant.svc.cluster.local:8080/v2/models/RandomForestClassifier/infer'}\n",
      "> 2024-05-21 20:00:24,932 [info] Invoking function: {'method': 'POST', 'path': 'http://nuclio-mm-app-project-serving.default-tenant.svc.cluster.local:8080/v2/models/RandomForestClassifier/infer'}\n",
      "> 2024-05-21 20:00:24,984 [info] Invoking function: {'method': 'POST', 'path': 'http://nuclio-mm-app-project-serving.default-tenant.svc.cluster.local:8080/v2/models/RandomForestClassifier/infer'}\n",
      "> 2024-05-21 20:00:25,006 [info] Invoking function: {'method': 'POST', 'path': 'http://nuclio-mm-app-project-serving.default-tenant.svc.cluster.local:8080/v2/models/RandomForestClassifier/infer'}\n",
      "> 2024-05-21 20:00:25,028 [info] Invoking function: {'method': 'POST', 'path': 'http://nuclio-mm-app-project-serving.default-tenant.svc.cluster.local:8080/v2/models/RandomForestClassifier/infer'}\n",
      "> 2024-05-21 20:00:25,080 [info] Invoking function: {'method': 'POST', 'path': 'http://nuclio-mm-app-project-serving.default-tenant.svc.cluster.local:8080/v2/models/RandomForestClassifier/infer'}\n",
      "> 2024-05-21 20:00:25,103 [info] Invoking function: {'method': 'POST', 'path': 'http://nuclio-mm-app-project-serving.default-tenant.svc.cluster.local:8080/v2/models/RandomForestClassifier/infer'}\n",
      "> 2024-05-21 20:00:25,124 [info] Invoking function: {'method': 'POST', 'path': 'http://nuclio-mm-app-project-serving.default-tenant.svc.cluster.local:8080/v2/models/RandomForestClassifier/infer'}\n",
      "> 2024-05-21 20:00:25,146 [info] Invoking function: {'method': 'POST', 'path': 'http://nuclio-mm-app-project-serving.default-tenant.svc.cluster.local:8080/v2/models/RandomForestClassifier/infer'}\n",
      "> 2024-05-21 20:00:25,168 [info] Invoking function: {'method': 'POST', 'path': 'http://nuclio-mm-app-project-serving.default-tenant.svc.cluster.local:8080/v2/models/RandomForestClassifier/infer'}\n"
     ]
    }
   ],
   "source": [
    "import json\n",
    "from time import sleep\n",
    "from random import choice, uniform\n",
    "\n",
    "iris = load_iris()\n",
    "iris_data = iris[\"data\"].tolist()\n",
    "\n",
    "model_name = \"RandomForestClassifier\"\n",
    "serving_1 = project.get_function(\"serving\")\n",
    "0\n",
    "for i in range(150):\n",
    "    # data_point = choice(iris_data)\n",
    "    data_point = [0.5, 0.5, 0.5, 0.5]\n",
    "    serving_1.invoke(\n",
    "        f\"v2/models/{model_name}/infer\", json.dumps({\"inputs\": [data_point]})\n",
    "    )\n",
    "    sleep(choice([0.01, 0.04]))"
   ]
  },
  {
   "cell_type": "markdown",
   "id": "367392df-0760-41ef-8881-b7e3b4bd90c9",
   "metadata": {
    "tags": []
   },
   "source": [
    "At this stage you can see the model endpoints and minimal meta data (for example, last prediction and average latency) in the **Models | Model Endpoints** page. \n",
    "\n",
    "<img src=\"./_static/images/model_endpoint_1.png\" width=\"1000\" >\n",
    "\n",
    "You can also see the basic statistics in Grafana.\n",
    "\n",
    "## Register and deploy the model-monitoring apps\n",
    "\n",
    "The next step is to deploy the model-monitoring app to generate the full meta data. Add the monitoring app to the project using {py:meth}`~mlrun.projects.MlrunProject.set_model_monitoring_function`. \n",
    "Then, deploy the app using {py:meth}`~mlrun.projects.MlrunProject.deploy_function`.\n",
    "\n",
    "This example illustrates two monitoring aps:\n",
    "- The first is the default [batch monitoring job](https://www.mlrun.org/hub/functions/master/model-monitoring-batch/).\n",
    "- The second integrates [Evidently](https://github.com/evidentlyai/evidently) as an MLRun function to create MLRun artifacts.\n",
    "\n",
    "After deploying the jobs they show in the UI under Real-time functions (Nuclio).\n",
    "\n",
    "### Batch monitoring app\n",
    "\n",
    "First download the {download}`demo_app <./src/demo_app.py>`."
   ]
  },
  {
   "cell_type": "code",
   "execution_count": 8,
   "id": "6c078d0e-34e3-4c50-8e4e-895414fa000e",
   "metadata": {},
   "outputs": [
    {
     "name": "stdout",
     "output_type": "stream",
     "text": [
      "> 2024-05-21 20:01:43,222 [info] Starting remote function deploy\n",
      "2024-05-21 20:01:43  (info) Deploying function\n",
      "2024-05-21 20:01:43  (info) Building\n",
      "2024-05-21 20:01:43  (info) Staging files and preparing base images\n",
      "2024-05-21 20:01:43  (warn) Using user provided base image, runtime interpreter version is provided by the base image\n",
      "2024-05-21 20:01:43  (info) Building processor image\n",
      "2024-05-21 20:03:28  (info) Build complete\n",
      "2024-05-21 20:04:25  (info) Function deploy complete\n",
      "> 2024-05-21 20:04:25,080 [info] Successfully deployed function: {'internal_invocation_urls': ['nuclio-mm-app-project-myapp.default-tenant.svc.cluster.local:8080'], 'external_invocation_urls': ['mm-app-project-myapp.default-tenant.app.dev19.lab.iguazeng.com/']}\n"
     ]
    },
    {
     "data": {
      "text/plain": [
       "DeployStatus(state=ready, outputs={'endpoint': 'http://mm-app-project-myapp.default-tenant.app.dev19.lab.iguazeng.com/', 'name': 'mm-app-project-myapp'})"
      ]
     },
     "execution_count": 8,
     "metadata": {},
     "output_type": "execute_result"
    }
   ],
   "source": [
    "# register the first app named \"demo_app\"\n",
    "my_app = project.set_model_monitoring_function(\n",
    "    func=\"src/demo_app.py\",\n",
    "    application_class=\"DemoMonitoringApp\",\n",
    "    name=\"myApp\",\n",
    ")\n",
    "\n",
    "project.deploy_function(my_app)"
   ]
  },
  {
   "cell_type": "markdown",
   "id": "878a4ff9",
   "metadata": {},
   "source": [
    "### Evidently app\n",
    "\n",
    "First download {download}`evidently_app <./src/evidently_app>`."
   ]
  },
  {
   "cell_type": "code",
   "execution_count": 13,
   "id": "bea6e8fb-c6d5-44f6-a46e-7c8a01e295ca",
   "metadata": {
    "tags": []
   },
   "outputs": [
    {
     "name": "stdout",
     "output_type": "stream",
     "text": [
      "> 2024-05-22 09:59:53,566 [info] Starting remote function deploy\n",
      "2024-05-22 09:59:53  (info) Deploying function\n",
      "2024-05-22 09:59:53  (info) Building\n",
      "2024-05-22 09:59:53  (info) Staging files and preparing base images\n",
      "2024-05-22 09:59:53  (warn) Using user provided base image, runtime interpreter version is provided by the base image\n",
      "2024-05-22 09:59:53  (info) Building processor image\n",
      "2024-05-22 10:02:09  (info) Build complete\n",
      "2024-05-22 10:02:33  (info) Function deploy complete\n",
      "> 2024-05-22 10:02:35,710 [info] Successfully deployed function: {'internal_invocation_urls': ['nuclio-mm-app-project-myevidentlyapp.default-tenant.svc.cluster.local:8080'], 'external_invocation_urls': ['mm-app-project-myevidentlyapp.default-tenant.app.dev19.lab.iguazeng.com/']}\n"
     ]
    },
    {
     "data": {
      "text/plain": [
       "DeployStatus(state=ready, outputs={'endpoint': 'http://mm-app-project-myevidentlyapp.default-tenant.app.dev19.lab.iguazeng.com/', 'name': 'mm-app-project-myevidentlyapp'})"
      ]
     },
     "execution_count": 13,
     "metadata": {},
     "output_type": "execute_result"
    }
   ],
   "source": [
    "# register the second app named \"evidently_app\"\n",
    "my_evidently_app = project.set_model_monitoring_function(\n",
    "    func=\"src/evidently_app.py\",\n",
    "    image=\"mlrun/mlrun\",\n",
    "    requirements=[\n",
    "        \"evidently~=0.4.3\",\n",
    "    ],\n",
    "    name=\"MyEvidentlyApp\",\n",
    "    application_class=\"DemoEvidentlyMonitoringApp\",\n",
    "    evidently_workspace_path=os.path.abspath(\n",
    "        f\"/v3io/projects/{project_name}/artifacts/evidently_workspace\"\n",
    "    ),\n",
    "    evidently_project_id=str(uuid.uuid4()),\n",
    ")\n",
    "\n",
    "project.deploy_function(my_evidently_app)"
   ]
  },
  {
   "cell_type": "markdown",
   "id": "9e6f414b-dccd-45b1-9dc8-ada2c82b85cd",
   "metadata": {
    "tags": []
   },
   "source": [
    "## Invoke the model again\n",
    "The controller checks for new datasets every `base_period` to send to the app. Invoking the model a second time ensures that the previous window closed and therefore the data contains the full monitoring window. From this point on, the applications are triggered by the controller. The controller checks the Parquet DB every 10 minutes (or non-default \n",
    "`base_period`) and streams any new data to the app."
   ]
  },
  {
   "cell_type": "code",
   "execution_count": 14,
   "id": "906174a1-d300-4860-ae41-1284fe9b544a",
   "metadata": {
    "scrolled": true,
    "tags": []
   },
   "outputs": [
    {
     "name": "stdout",
     "output_type": "stream",
     "text": [
      "> 2024-05-22 10:02:57,822 [info] Invoking function: {'method': 'POST', 'path': 'http://nuclio-mm-app-project-serving.default-tenant.svc.cluster.local:8080/v2/models/RandomForestClassifier/infer'}\n",
      "> 2024-05-22 10:02:58,287 [info] Invoking function: {'method': 'POST', 'path': 'http://nuclio-mm-app-project-serving.default-tenant.svc.cluster.local:8080/v2/models/RandomForestClassifier/infer'}\n",
      "> 2024-05-22 10:02:58,343 [info] Invoking function: {'method': 'POST', 'path': 'http://nuclio-mm-app-project-serving.default-tenant.svc.cluster.local:8080/v2/models/RandomForestClassifier/infer'}\n",
      "> 2024-05-22 10:02:58,399 [info] Invoking function: {'method': 'POST', 'path': 'http://nuclio-mm-app-project-serving.default-tenant.svc.cluster.local:8080/v2/models/RandomForestClassifier/infer'}\n",
      "> 2024-05-22 10:02:58,423 [info] Invoking function: {'method': 'POST', 'path': 'http://nuclio-mm-app-project-serving.default-tenant.svc.cluster.local:8080/v2/models/RandomForestClassifier/infer'}\n",
      "> 2024-05-22 10:02:58,447 [info] Invoking function: {'method': 'POST', 'path': 'http://nuclio-mm-app-project-serving.default-tenant.svc.cluster.local:8080/v2/models/RandomForestClassifier/infer'}\n",
      "> 2024-05-22 10:02:58,502 [info] Invoking function: {'method': 'POST', 'path': 'http://nuclio-mm-app-project-serving.default-tenant.svc.cluster.local:8080/v2/models/RandomForestClassifier/infer'}\n",
      "> 2024-05-22 10:02:58,527 [info] Invoking function: {'method': 'POST', 'path': 'http://nuclio-mm-app-project-serving.default-tenant.svc.cluster.local:8080/v2/models/RandomForestClassifier/infer'}\n",
      "> 2024-05-22 10:02:58,582 [info] Invoking function: {'method': 'POST', 'path': 'http://nuclio-mm-app-project-serving.default-tenant.svc.cluster.local:8080/v2/models/RandomForestClassifier/infer'}\n",
      "> 2024-05-22 10:02:58,638 [info] Invoking function: {'method': 'POST', 'path': 'http://nuclio-mm-app-project-serving.default-tenant.svc.cluster.local:8080/v2/models/RandomForestClassifier/infer'}\n",
      "> 2024-05-22 10:02:58,692 [info] Invoking function: {'method': 'POST', 'path': 'http://nuclio-mm-app-project-serving.default-tenant.svc.cluster.local:8080/v2/models/RandomForestClassifier/infer'}\n",
      "> 2024-05-22 10:02:58,748 [info] Invoking function: {'method': 'POST', 'path': 'http://nuclio-mm-app-project-serving.default-tenant.svc.cluster.local:8080/v2/models/RandomForestClassifier/infer'}\n",
      "> 2024-05-22 10:02:58,771 [info] Invoking function: {'method': 'POST', 'path': 'http://nuclio-mm-app-project-serving.default-tenant.svc.cluster.local:8080/v2/models/RandomForestClassifier/infer'}\n",
      "> 2024-05-22 10:02:58,825 [info] Invoking function: {'method': 'POST', 'path': 'http://nuclio-mm-app-project-serving.default-tenant.svc.cluster.local:8080/v2/models/RandomForestClassifier/infer'}\n",
      "> 2024-05-22 10:02:58,849 [info] Invoking function: {'method': 'POST', 'path': 'http://nuclio-mm-app-project-serving.default-tenant.svc.cluster.local:8080/v2/models/RandomForestClassifier/infer'}\n",
      "> 2024-05-22 10:02:58,901 [info] Invoking function: {'method': 'POST', 'path': 'http://nuclio-mm-app-project-serving.default-tenant.svc.cluster.local:8080/v2/models/RandomForestClassifier/infer'}\n",
      "> 2024-05-22 10:02:58,924 [info] Invoking function: {'method': 'POST', 'path': 'http://nuclio-mm-app-project-serving.default-tenant.svc.cluster.local:8080/v2/models/RandomForestClassifier/infer'}\n",
      "> 2024-05-22 10:02:58,947 [info] Invoking function: {'method': 'POST', 'path': 'http://nuclio-mm-app-project-serving.default-tenant.svc.cluster.local:8080/v2/models/RandomForestClassifier/infer'}\n",
      "> 2024-05-22 10:02:58,999 [info] Invoking function: {'method': 'POST', 'path': 'http://nuclio-mm-app-project-serving.default-tenant.svc.cluster.local:8080/v2/models/RandomForestClassifier/infer'}\n",
      "> 2024-05-22 10:02:59,023 [info] Invoking function: {'method': 'POST', 'path': 'http://nuclio-mm-app-project-serving.default-tenant.svc.cluster.local:8080/v2/models/RandomForestClassifier/infer'}\n",
      "> 2024-05-22 10:02:59,075 [info] Invoking function: {'method': 'POST', 'path': 'http://nuclio-mm-app-project-serving.default-tenant.svc.cluster.local:8080/v2/models/RandomForestClassifier/infer'}\n",
      "> 2024-05-22 10:02:59,129 [info] Invoking function: {'method': 'POST', 'path': 'http://nuclio-mm-app-project-serving.default-tenant.svc.cluster.local:8080/v2/models/RandomForestClassifier/infer'}\n",
      "> 2024-05-22 10:02:59,183 [info] Invoking function: {'method': 'POST', 'path': 'http://nuclio-mm-app-project-serving.default-tenant.svc.cluster.local:8080/v2/models/RandomForestClassifier/infer'}\n",
      "> 2024-05-22 10:02:59,206 [info] Invoking function: {'method': 'POST', 'path': 'http://nuclio-mm-app-project-serving.default-tenant.svc.cluster.local:8080/v2/models/RandomForestClassifier/infer'}\n",
      "> 2024-05-22 10:02:59,258 [info] Invoking function: {'method': 'POST', 'path': 'http://nuclio-mm-app-project-serving.default-tenant.svc.cluster.local:8080/v2/models/RandomForestClassifier/infer'}\n",
      "> 2024-05-22 10:02:59,312 [info] Invoking function: {'method': 'POST', 'path': 'http://nuclio-mm-app-project-serving.default-tenant.svc.cluster.local:8080/v2/models/RandomForestClassifier/infer'}\n",
      "> 2024-05-22 10:02:59,334 [info] Invoking function: {'method': 'POST', 'path': 'http://nuclio-mm-app-project-serving.default-tenant.svc.cluster.local:8080/v2/models/RandomForestClassifier/infer'}\n",
      "> 2024-05-22 10:02:59,386 [info] Invoking function: {'method': 'POST', 'path': 'http://nuclio-mm-app-project-serving.default-tenant.svc.cluster.local:8080/v2/models/RandomForestClassifier/infer'}\n",
      "> 2024-05-22 10:02:59,409 [info] Invoking function: {'method': 'POST', 'path': 'http://nuclio-mm-app-project-serving.default-tenant.svc.cluster.local:8080/v2/models/RandomForestClassifier/infer'}\n",
      "> 2024-05-22 10:02:59,461 [info] Invoking function: {'method': 'POST', 'path': 'http://nuclio-mm-app-project-serving.default-tenant.svc.cluster.local:8080/v2/models/RandomForestClassifier/infer'}\n",
      "> 2024-05-22 10:02:59,514 [info] Invoking function: {'method': 'POST', 'path': 'http://nuclio-mm-app-project-serving.default-tenant.svc.cluster.local:8080/v2/models/RandomForestClassifier/infer'}\n",
      "> 2024-05-22 10:02:59,541 [info] Invoking function: {'method': 'POST', 'path': 'http://nuclio-mm-app-project-serving.default-tenant.svc.cluster.local:8080/v2/models/RandomForestClassifier/infer'}\n",
      "> 2024-05-22 10:02:59,566 [info] Invoking function: {'method': 'POST', 'path': 'http://nuclio-mm-app-project-serving.default-tenant.svc.cluster.local:8080/v2/models/RandomForestClassifier/infer'}\n",
      "> 2024-05-22 10:02:59,620 [info] Invoking function: {'method': 'POST', 'path': 'http://nuclio-mm-app-project-serving.default-tenant.svc.cluster.local:8080/v2/models/RandomForestClassifier/infer'}\n",
      "> 2024-05-22 10:02:59,644 [info] Invoking function: {'method': 'POST', 'path': 'http://nuclio-mm-app-project-serving.default-tenant.svc.cluster.local:8080/v2/models/RandomForestClassifier/infer'}\n",
      "> 2024-05-22 10:02:59,698 [info] Invoking function: {'method': 'POST', 'path': 'http://nuclio-mm-app-project-serving.default-tenant.svc.cluster.local:8080/v2/models/RandomForestClassifier/infer'}\n",
      "> 2024-05-22 10:02:59,751 [info] Invoking function: {'method': 'POST', 'path': 'http://nuclio-mm-app-project-serving.default-tenant.svc.cluster.local:8080/v2/models/RandomForestClassifier/infer'}\n",
      "> 2024-05-22 10:02:59,804 [info] Invoking function: {'method': 'POST', 'path': 'http://nuclio-mm-app-project-serving.default-tenant.svc.cluster.local:8080/v2/models/RandomForestClassifier/infer'}\n",
      "> 2024-05-22 10:02:59,828 [info] Invoking function: {'method': 'POST', 'path': 'http://nuclio-mm-app-project-serving.default-tenant.svc.cluster.local:8080/v2/models/RandomForestClassifier/infer'}\n",
      "> 2024-05-22 10:02:59,880 [info] Invoking function: {'method': 'POST', 'path': 'http://nuclio-mm-app-project-serving.default-tenant.svc.cluster.local:8080/v2/models/RandomForestClassifier/infer'}\n",
      "> 2024-05-22 10:02:59,936 [info] Invoking function: {'method': 'POST', 'path': 'http://nuclio-mm-app-project-serving.default-tenant.svc.cluster.local:8080/v2/models/RandomForestClassifier/infer'}\n",
      "> 2024-05-22 10:02:59,991 [info] Invoking function: {'method': 'POST', 'path': 'http://nuclio-mm-app-project-serving.default-tenant.svc.cluster.local:8080/v2/models/RandomForestClassifier/infer'}\n",
      "> 2024-05-22 10:03:00,044 [info] Invoking function: {'method': 'POST', 'path': 'http://nuclio-mm-app-project-serving.default-tenant.svc.cluster.local:8080/v2/models/RandomForestClassifier/infer'}\n",
      "> 2024-05-22 10:03:00,092 [info] Invoking function: {'method': 'POST', 'path': 'http://nuclio-mm-app-project-serving.default-tenant.svc.cluster.local:8080/v2/models/RandomForestClassifier/infer'}\n",
      "> 2024-05-22 10:03:00,116 [info] Invoking function: {'method': 'POST', 'path': 'http://nuclio-mm-app-project-serving.default-tenant.svc.cluster.local:8080/v2/models/RandomForestClassifier/infer'}\n",
      "> 2024-05-22 10:03:00,169 [info] Invoking function: {'method': 'POST', 'path': 'http://nuclio-mm-app-project-serving.default-tenant.svc.cluster.local:8080/v2/models/RandomForestClassifier/infer'}\n",
      "> 2024-05-22 10:03:00,222 [info] Invoking function: {'method': 'POST', 'path': 'http://nuclio-mm-app-project-serving.default-tenant.svc.cluster.local:8080/v2/models/RandomForestClassifier/infer'}\n",
      "> 2024-05-22 10:03:00,276 [info] Invoking function: {'method': 'POST', 'path': 'http://nuclio-mm-app-project-serving.default-tenant.svc.cluster.local:8080/v2/models/RandomForestClassifier/infer'}\n",
      "> 2024-05-22 10:03:00,329 [info] Invoking function: {'method': 'POST', 'path': 'http://nuclio-mm-app-project-serving.default-tenant.svc.cluster.local:8080/v2/models/RandomForestClassifier/infer'}\n",
      "> 2024-05-22 10:03:00,353 [info] Invoking function: {'method': 'POST', 'path': 'http://nuclio-mm-app-project-serving.default-tenant.svc.cluster.local:8080/v2/models/RandomForestClassifier/infer'}\n",
      "> 2024-05-22 10:03:00,414 [info] Invoking function: {'method': 'POST', 'path': 'http://nuclio-mm-app-project-serving.default-tenant.svc.cluster.local:8080/v2/models/RandomForestClassifier/infer'}\n",
      "> 2024-05-22 10:03:00,438 [info] Invoking function: {'method': 'POST', 'path': 'http://nuclio-mm-app-project-serving.default-tenant.svc.cluster.local:8080/v2/models/RandomForestClassifier/infer'}\n",
      "> 2024-05-22 10:03:00,491 [info] Invoking function: {'method': 'POST', 'path': 'http://nuclio-mm-app-project-serving.default-tenant.svc.cluster.local:8080/v2/models/RandomForestClassifier/infer'}\n",
      "> 2024-05-22 10:03:00,546 [info] Invoking function: {'method': 'POST', 'path': 'http://nuclio-mm-app-project-serving.default-tenant.svc.cluster.local:8080/v2/models/RandomForestClassifier/infer'}\n",
      "> 2024-05-22 10:03:00,599 [info] Invoking function: {'method': 'POST', 'path': 'http://nuclio-mm-app-project-serving.default-tenant.svc.cluster.local:8080/v2/models/RandomForestClassifier/infer'}\n",
      "> 2024-05-22 10:03:00,625 [info] Invoking function: {'method': 'POST', 'path': 'http://nuclio-mm-app-project-serving.default-tenant.svc.cluster.local:8080/v2/models/RandomForestClassifier/infer'}\n",
      "> 2024-05-22 10:03:00,649 [info] Invoking function: {'method': 'POST', 'path': 'http://nuclio-mm-app-project-serving.default-tenant.svc.cluster.local:8080/v2/models/RandomForestClassifier/infer'}\n",
      "> 2024-05-22 10:03:00,672 [info] Invoking function: {'method': 'POST', 'path': 'http://nuclio-mm-app-project-serving.default-tenant.svc.cluster.local:8080/v2/models/RandomForestClassifier/infer'}\n",
      "> 2024-05-22 10:03:00,695 [info] Invoking function: {'method': 'POST', 'path': 'http://nuclio-mm-app-project-serving.default-tenant.svc.cluster.local:8080/v2/models/RandomForestClassifier/infer'}\n",
      "> 2024-05-22 10:03:00,748 [info] Invoking function: {'method': 'POST', 'path': 'http://nuclio-mm-app-project-serving.default-tenant.svc.cluster.local:8080/v2/models/RandomForestClassifier/infer'}\n",
      "> 2024-05-22 10:03:00,802 [info] Invoking function: {'method': 'POST', 'path': 'http://nuclio-mm-app-project-serving.default-tenant.svc.cluster.local:8080/v2/models/RandomForestClassifier/infer'}\n",
      "> 2024-05-22 10:03:00,856 [info] Invoking function: {'method': 'POST', 'path': 'http://nuclio-mm-app-project-serving.default-tenant.svc.cluster.local:8080/v2/models/RandomForestClassifier/infer'}\n",
      "> 2024-05-22 10:03:00,910 [info] Invoking function: {'method': 'POST', 'path': 'http://nuclio-mm-app-project-serving.default-tenant.svc.cluster.local:8080/v2/models/RandomForestClassifier/infer'}\n",
      "> 2024-05-22 10:03:00,933 [info] Invoking function: {'method': 'POST', 'path': 'http://nuclio-mm-app-project-serving.default-tenant.svc.cluster.local:8080/v2/models/RandomForestClassifier/infer'}\n",
      "> 2024-05-22 10:03:00,956 [info] Invoking function: {'method': 'POST', 'path': 'http://nuclio-mm-app-project-serving.default-tenant.svc.cluster.local:8080/v2/models/RandomForestClassifier/infer'}\n",
      "> 2024-05-22 10:03:00,978 [info] Invoking function: {'method': 'POST', 'path': 'http://nuclio-mm-app-project-serving.default-tenant.svc.cluster.local:8080/v2/models/RandomForestClassifier/infer'}\n",
      "> 2024-05-22 10:03:01,002 [info] Invoking function: {'method': 'POST', 'path': 'http://nuclio-mm-app-project-serving.default-tenant.svc.cluster.local:8080/v2/models/RandomForestClassifier/infer'}\n",
      "> 2024-05-22 10:03:01,057 [info] Invoking function: {'method': 'POST', 'path': 'http://nuclio-mm-app-project-serving.default-tenant.svc.cluster.local:8080/v2/models/RandomForestClassifier/infer'}\n",
      "> 2024-05-22 10:03:01,087 [info] Invoking function: {'method': 'POST', 'path': 'http://nuclio-mm-app-project-serving.default-tenant.svc.cluster.local:8080/v2/models/RandomForestClassifier/infer'}\n",
      "> 2024-05-22 10:03:01,139 [info] Invoking function: {'method': 'POST', 'path': 'http://nuclio-mm-app-project-serving.default-tenant.svc.cluster.local:8080/v2/models/RandomForestClassifier/infer'}\n",
      "> 2024-05-22 10:03:01,163 [info] Invoking function: {'method': 'POST', 'path': 'http://nuclio-mm-app-project-serving.default-tenant.svc.cluster.local:8080/v2/models/RandomForestClassifier/infer'}\n",
      "> 2024-05-22 10:03:01,185 [info] Invoking function: {'method': 'POST', 'path': 'http://nuclio-mm-app-project-serving.default-tenant.svc.cluster.local:8080/v2/models/RandomForestClassifier/infer'}\n",
      "> 2024-05-22 10:03:01,207 [info] Invoking function: {'method': 'POST', 'path': 'http://nuclio-mm-app-project-serving.default-tenant.svc.cluster.local:8080/v2/models/RandomForestClassifier/infer'}\n",
      "> 2024-05-22 10:03:01,260 [info] Invoking function: {'method': 'POST', 'path': 'http://nuclio-mm-app-project-serving.default-tenant.svc.cluster.local:8080/v2/models/RandomForestClassifier/infer'}\n",
      "> 2024-05-22 10:03:01,320 [info] Invoking function: {'method': 'POST', 'path': 'http://nuclio-mm-app-project-serving.default-tenant.svc.cluster.local:8080/v2/models/RandomForestClassifier/infer'}\n",
      "> 2024-05-22 10:03:01,347 [info] Invoking function: {'method': 'POST', 'path': 'http://nuclio-mm-app-project-serving.default-tenant.svc.cluster.local:8080/v2/models/RandomForestClassifier/infer'}\n",
      "> 2024-05-22 10:03:01,374 [info] Invoking function: {'method': 'POST', 'path': 'http://nuclio-mm-app-project-serving.default-tenant.svc.cluster.local:8080/v2/models/RandomForestClassifier/infer'}\n",
      "> 2024-05-22 10:03:01,396 [info] Invoking function: {'method': 'POST', 'path': 'http://nuclio-mm-app-project-serving.default-tenant.svc.cluster.local:8080/v2/models/RandomForestClassifier/infer'}\n",
      "> 2024-05-22 10:03:01,449 [info] Invoking function: {'method': 'POST', 'path': 'http://nuclio-mm-app-project-serving.default-tenant.svc.cluster.local:8080/v2/models/RandomForestClassifier/infer'}\n",
      "> 2024-05-22 10:03:01,505 [info] Invoking function: {'method': 'POST', 'path': 'http://nuclio-mm-app-project-serving.default-tenant.svc.cluster.local:8080/v2/models/RandomForestClassifier/infer'}\n",
      "> 2024-05-22 10:03:01,529 [info] Invoking function: {'method': 'POST', 'path': 'http://nuclio-mm-app-project-serving.default-tenant.svc.cluster.local:8080/v2/models/RandomForestClassifier/infer'}\n",
      "> 2024-05-22 10:03:01,551 [info] Invoking function: {'method': 'POST', 'path': 'http://nuclio-mm-app-project-serving.default-tenant.svc.cluster.local:8080/v2/models/RandomForestClassifier/infer'}\n",
      "> 2024-05-22 10:03:01,572 [info] Invoking function: {'method': 'POST', 'path': 'http://nuclio-mm-app-project-serving.default-tenant.svc.cluster.local:8080/v2/models/RandomForestClassifier/infer'}\n",
      "> 2024-05-22 10:03:01,597 [info] Invoking function: {'method': 'POST', 'path': 'http://nuclio-mm-app-project-serving.default-tenant.svc.cluster.local:8080/v2/models/RandomForestClassifier/infer'}\n",
      "> 2024-05-22 10:03:01,620 [info] Invoking function: {'method': 'POST', 'path': 'http://nuclio-mm-app-project-serving.default-tenant.svc.cluster.local:8080/v2/models/RandomForestClassifier/infer'}\n",
      "> 2024-05-22 10:03:01,673 [info] Invoking function: {'method': 'POST', 'path': 'http://nuclio-mm-app-project-serving.default-tenant.svc.cluster.local:8080/v2/models/RandomForestClassifier/infer'}\n",
      "> 2024-05-22 10:03:01,727 [info] Invoking function: {'method': 'POST', 'path': 'http://nuclio-mm-app-project-serving.default-tenant.svc.cluster.local:8080/v2/models/RandomForestClassifier/infer'}\n",
      "> 2024-05-22 10:03:01,780 [info] Invoking function: {'method': 'POST', 'path': 'http://nuclio-mm-app-project-serving.default-tenant.svc.cluster.local:8080/v2/models/RandomForestClassifier/infer'}\n",
      "> 2024-05-22 10:03:01,803 [info] Invoking function: {'method': 'POST', 'path': 'http://nuclio-mm-app-project-serving.default-tenant.svc.cluster.local:8080/v2/models/RandomForestClassifier/infer'}\n",
      "> 2024-05-22 10:03:01,856 [info] Invoking function: {'method': 'POST', 'path': 'http://nuclio-mm-app-project-serving.default-tenant.svc.cluster.local:8080/v2/models/RandomForestClassifier/infer'}\n",
      "> 2024-05-22 10:03:01,910 [info] Invoking function: {'method': 'POST', 'path': 'http://nuclio-mm-app-project-serving.default-tenant.svc.cluster.local:8080/v2/models/RandomForestClassifier/infer'}\n",
      "> 2024-05-22 10:03:01,934 [info] Invoking function: {'method': 'POST', 'path': 'http://nuclio-mm-app-project-serving.default-tenant.svc.cluster.local:8080/v2/models/RandomForestClassifier/infer'}\n",
      "> 2024-05-22 10:03:01,957 [info] Invoking function: {'method': 'POST', 'path': 'http://nuclio-mm-app-project-serving.default-tenant.svc.cluster.local:8080/v2/models/RandomForestClassifier/infer'}\n",
      "> 2024-05-22 10:03:02,011 [info] Invoking function: {'method': 'POST', 'path': 'http://nuclio-mm-app-project-serving.default-tenant.svc.cluster.local:8080/v2/models/RandomForestClassifier/infer'}\n",
      "> 2024-05-22 10:03:02,065 [info] Invoking function: {'method': 'POST', 'path': 'http://nuclio-mm-app-project-serving.default-tenant.svc.cluster.local:8080/v2/models/RandomForestClassifier/infer'}\n",
      "> 2024-05-22 10:03:02,088 [info] Invoking function: {'method': 'POST', 'path': 'http://nuclio-mm-app-project-serving.default-tenant.svc.cluster.local:8080/v2/models/RandomForestClassifier/infer'}\n",
      "> 2024-05-22 10:03:02,141 [info] Invoking function: {'method': 'POST', 'path': 'http://nuclio-mm-app-project-serving.default-tenant.svc.cluster.local:8080/v2/models/RandomForestClassifier/infer'}\n",
      "> 2024-05-22 10:03:02,165 [info] Invoking function: {'method': 'POST', 'path': 'http://nuclio-mm-app-project-serving.default-tenant.svc.cluster.local:8080/v2/models/RandomForestClassifier/infer'}\n",
      "> 2024-05-22 10:03:02,189 [info] Invoking function: {'method': 'POST', 'path': 'http://nuclio-mm-app-project-serving.default-tenant.svc.cluster.local:8080/v2/models/RandomForestClassifier/infer'}\n",
      "> 2024-05-22 10:03:02,242 [info] Invoking function: {'method': 'POST', 'path': 'http://nuclio-mm-app-project-serving.default-tenant.svc.cluster.local:8080/v2/models/RandomForestClassifier/infer'}\n",
      "> 2024-05-22 10:03:02,266 [info] Invoking function: {'method': 'POST', 'path': 'http://nuclio-mm-app-project-serving.default-tenant.svc.cluster.local:8080/v2/models/RandomForestClassifier/infer'}\n",
      "> 2024-05-22 10:03:02,319 [info] Invoking function: {'method': 'POST', 'path': 'http://nuclio-mm-app-project-serving.default-tenant.svc.cluster.local:8080/v2/models/RandomForestClassifier/infer'}\n",
      "> 2024-05-22 10:03:02,372 [info] Invoking function: {'method': 'POST', 'path': 'http://nuclio-mm-app-project-serving.default-tenant.svc.cluster.local:8080/v2/models/RandomForestClassifier/infer'}\n",
      "> 2024-05-22 10:03:02,426 [info] Invoking function: {'method': 'POST', 'path': 'http://nuclio-mm-app-project-serving.default-tenant.svc.cluster.local:8080/v2/models/RandomForestClassifier/infer'}\n",
      "> 2024-05-22 10:03:02,480 [info] Invoking function: {'method': 'POST', 'path': 'http://nuclio-mm-app-project-serving.default-tenant.svc.cluster.local:8080/v2/models/RandomForestClassifier/infer'}\n",
      "> 2024-05-22 10:03:02,504 [info] Invoking function: {'method': 'POST', 'path': 'http://nuclio-mm-app-project-serving.default-tenant.svc.cluster.local:8080/v2/models/RandomForestClassifier/infer'}\n",
      "> 2024-05-22 10:03:02,557 [info] Invoking function: {'method': 'POST', 'path': 'http://nuclio-mm-app-project-serving.default-tenant.svc.cluster.local:8080/v2/models/RandomForestClassifier/infer'}\n",
      "> 2024-05-22 10:03:02,581 [info] Invoking function: {'method': 'POST', 'path': 'http://nuclio-mm-app-project-serving.default-tenant.svc.cluster.local:8080/v2/models/RandomForestClassifier/infer'}\n",
      "> 2024-05-22 10:03:02,605 [info] Invoking function: {'method': 'POST', 'path': 'http://nuclio-mm-app-project-serving.default-tenant.svc.cluster.local:8080/v2/models/RandomForestClassifier/infer'}\n",
      "> 2024-05-22 10:03:02,629 [info] Invoking function: {'method': 'POST', 'path': 'http://nuclio-mm-app-project-serving.default-tenant.svc.cluster.local:8080/v2/models/RandomForestClassifier/infer'}\n",
      "> 2024-05-22 10:03:02,683 [info] Invoking function: {'method': 'POST', 'path': 'http://nuclio-mm-app-project-serving.default-tenant.svc.cluster.local:8080/v2/models/RandomForestClassifier/infer'}\n",
      "> 2024-05-22 10:03:02,737 [info] Invoking function: {'method': 'POST', 'path': 'http://nuclio-mm-app-project-serving.default-tenant.svc.cluster.local:8080/v2/models/RandomForestClassifier/infer'}\n",
      "> 2024-05-22 10:03:02,761 [info] Invoking function: {'method': 'POST', 'path': 'http://nuclio-mm-app-project-serving.default-tenant.svc.cluster.local:8080/v2/models/RandomForestClassifier/infer'}\n",
      "> 2024-05-22 10:03:02,814 [info] Invoking function: {'method': 'POST', 'path': 'http://nuclio-mm-app-project-serving.default-tenant.svc.cluster.local:8080/v2/models/RandomForestClassifier/infer'}\n",
      "> 2024-05-22 10:03:02,836 [info] Invoking function: {'method': 'POST', 'path': 'http://nuclio-mm-app-project-serving.default-tenant.svc.cluster.local:8080/v2/models/RandomForestClassifier/infer'}\n",
      "> 2024-05-22 10:03:02,859 [info] Invoking function: {'method': 'POST', 'path': 'http://nuclio-mm-app-project-serving.default-tenant.svc.cluster.local:8080/v2/models/RandomForestClassifier/infer'}\n",
      "> 2024-05-22 10:03:02,912 [info] Invoking function: {'method': 'POST', 'path': 'http://nuclio-mm-app-project-serving.default-tenant.svc.cluster.local:8080/v2/models/RandomForestClassifier/infer'}\n",
      "> 2024-05-22 10:03:02,935 [info] Invoking function: {'method': 'POST', 'path': 'http://nuclio-mm-app-project-serving.default-tenant.svc.cluster.local:8080/v2/models/RandomForestClassifier/infer'}\n",
      "> 2024-05-22 10:03:02,957 [info] Invoking function: {'method': 'POST', 'path': 'http://nuclio-mm-app-project-serving.default-tenant.svc.cluster.local:8080/v2/models/RandomForestClassifier/infer'}\n",
      "> 2024-05-22 10:03:02,980 [info] Invoking function: {'method': 'POST', 'path': 'http://nuclio-mm-app-project-serving.default-tenant.svc.cluster.local:8080/v2/models/RandomForestClassifier/infer'}\n",
      "> 2024-05-22 10:03:03,002 [info] Invoking function: {'method': 'POST', 'path': 'http://nuclio-mm-app-project-serving.default-tenant.svc.cluster.local:8080/v2/models/RandomForestClassifier/infer'}\n",
      "> 2024-05-22 10:03:03,059 [info] Invoking function: {'method': 'POST', 'path': 'http://nuclio-mm-app-project-serving.default-tenant.svc.cluster.local:8080/v2/models/RandomForestClassifier/infer'}\n",
      "> 2024-05-22 10:03:03,111 [info] Invoking function: {'method': 'POST', 'path': 'http://nuclio-mm-app-project-serving.default-tenant.svc.cluster.local:8080/v2/models/RandomForestClassifier/infer'}\n",
      "> 2024-05-22 10:03:03,135 [info] Invoking function: {'method': 'POST', 'path': 'http://nuclio-mm-app-project-serving.default-tenant.svc.cluster.local:8080/v2/models/RandomForestClassifier/infer'}\n",
      "> 2024-05-22 10:03:03,159 [info] Invoking function: {'method': 'POST', 'path': 'http://nuclio-mm-app-project-serving.default-tenant.svc.cluster.local:8080/v2/models/RandomForestClassifier/infer'}\n",
      "> 2024-05-22 10:03:03,182 [info] Invoking function: {'method': 'POST', 'path': 'http://nuclio-mm-app-project-serving.default-tenant.svc.cluster.local:8080/v2/models/RandomForestClassifier/infer'}\n",
      "> 2024-05-22 10:03:03,204 [info] Invoking function: {'method': 'POST', 'path': 'http://nuclio-mm-app-project-serving.default-tenant.svc.cluster.local:8080/v2/models/RandomForestClassifier/infer'}\n",
      "> 2024-05-22 10:03:03,257 [info] Invoking function: {'method': 'POST', 'path': 'http://nuclio-mm-app-project-serving.default-tenant.svc.cluster.local:8080/v2/models/RandomForestClassifier/infer'}\n",
      "> 2024-05-22 10:03:03,281 [info] Invoking function: {'method': 'POST', 'path': 'http://nuclio-mm-app-project-serving.default-tenant.svc.cluster.local:8080/v2/models/RandomForestClassifier/infer'}\n",
      "> 2024-05-22 10:03:03,303 [info] Invoking function: {'method': 'POST', 'path': 'http://nuclio-mm-app-project-serving.default-tenant.svc.cluster.local:8080/v2/models/RandomForestClassifier/infer'}\n",
      "> 2024-05-22 10:03:03,326 [info] Invoking function: {'method': 'POST', 'path': 'http://nuclio-mm-app-project-serving.default-tenant.svc.cluster.local:8080/v2/models/RandomForestClassifier/infer'}\n",
      "> 2024-05-22 10:03:03,348 [info] Invoking function: {'method': 'POST', 'path': 'http://nuclio-mm-app-project-serving.default-tenant.svc.cluster.local:8080/v2/models/RandomForestClassifier/infer'}\n",
      "> 2024-05-22 10:03:03,371 [info] Invoking function: {'method': 'POST', 'path': 'http://nuclio-mm-app-project-serving.default-tenant.svc.cluster.local:8080/v2/models/RandomForestClassifier/infer'}\n",
      "> 2024-05-22 10:03:03,394 [info] Invoking function: {'method': 'POST', 'path': 'http://nuclio-mm-app-project-serving.default-tenant.svc.cluster.local:8080/v2/models/RandomForestClassifier/infer'}\n",
      "> 2024-05-22 10:03:03,447 [info] Invoking function: {'method': 'POST', 'path': 'http://nuclio-mm-app-project-serving.default-tenant.svc.cluster.local:8080/v2/models/RandomForestClassifier/infer'}\n",
      "> 2024-05-22 10:03:03,499 [info] Invoking function: {'method': 'POST', 'path': 'http://nuclio-mm-app-project-serving.default-tenant.svc.cluster.local:8080/v2/models/RandomForestClassifier/infer'}\n",
      "> 2024-05-22 10:03:03,522 [info] Invoking function: {'method': 'POST', 'path': 'http://nuclio-mm-app-project-serving.default-tenant.svc.cluster.local:8080/v2/models/RandomForestClassifier/infer'}\n",
      "> 2024-05-22 10:03:03,544 [info] Invoking function: {'method': 'POST', 'path': 'http://nuclio-mm-app-project-serving.default-tenant.svc.cluster.local:8080/v2/models/RandomForestClassifier/infer'}\n",
      "> 2024-05-22 10:03:03,596 [info] Invoking function: {'method': 'POST', 'path': 'http://nuclio-mm-app-project-serving.default-tenant.svc.cluster.local:8080/v2/models/RandomForestClassifier/infer'}\n",
      "> 2024-05-22 10:03:03,619 [info] Invoking function: {'method': 'POST', 'path': 'http://nuclio-mm-app-project-serving.default-tenant.svc.cluster.local:8080/v2/models/RandomForestClassifier/infer'}\n",
      "> 2024-05-22 10:03:03,671 [info] Invoking function: {'method': 'POST', 'path': 'http://nuclio-mm-app-project-serving.default-tenant.svc.cluster.local:8080/v2/models/RandomForestClassifier/infer'}\n",
      "> 2024-05-22 10:03:03,693 [info] Invoking function: {'method': 'POST', 'path': 'http://nuclio-mm-app-project-serving.default-tenant.svc.cluster.local:8080/v2/models/RandomForestClassifier/infer'}\n",
      "> 2024-05-22 10:03:03,714 [info] Invoking function: {'method': 'POST', 'path': 'http://nuclio-mm-app-project-serving.default-tenant.svc.cluster.local:8080/v2/models/RandomForestClassifier/infer'}\n",
      "> 2024-05-22 10:03:03,736 [info] Invoking function: {'method': 'POST', 'path': 'http://nuclio-mm-app-project-serving.default-tenant.svc.cluster.local:8080/v2/models/RandomForestClassifier/infer'}\n",
      "> 2024-05-22 10:03:03,788 [info] Invoking function: {'method': 'POST', 'path': 'http://nuclio-mm-app-project-serving.default-tenant.svc.cluster.local:8080/v2/models/RandomForestClassifier/infer'}\n",
      "> 2024-05-22 10:03:03,810 [info] Invoking function: {'method': 'POST', 'path': 'http://nuclio-mm-app-project-serving.default-tenant.svc.cluster.local:8080/v2/models/RandomForestClassifier/infer'}\n",
      "> 2024-05-22 10:03:03,862 [info] Invoking function: {'method': 'POST', 'path': 'http://nuclio-mm-app-project-serving.default-tenant.svc.cluster.local:8080/v2/models/RandomForestClassifier/infer'}\n",
      "> 2024-05-22 10:03:03,885 [info] Invoking function: {'method': 'POST', 'path': 'http://nuclio-mm-app-project-serving.default-tenant.svc.cluster.local:8080/v2/models/RandomForestClassifier/infer'}\n",
      "> 2024-05-22 10:03:03,936 [info] Invoking function: {'method': 'POST', 'path': 'http://nuclio-mm-app-project-serving.default-tenant.svc.cluster.local:8080/v2/models/RandomForestClassifier/infer'}\n",
      "> 2024-05-22 10:03:03,989 [info] Invoking function: {'method': 'POST', 'path': 'http://nuclio-mm-app-project-serving.default-tenant.svc.cluster.local:8080/v2/models/RandomForestClassifier/infer'}\n"
     ]
    }
   ],
   "source": [
    "import json\n",
    "from time import sleep\n",
    "from random import choice, uniform\n",
    "\n",
    "iris = load_iris()\n",
    "iris_data = iris[\"data\"].tolist()\n",
    "\n",
    "model_name = \"RandomForestClassifier\"\n",
    "serving_1 = project.get_function(\"serving\")\n",
    "\n",
    "for i in range(150):\n",
    "    data_point = choice(iris_data)\n",
    "    # data_point = [0.5,0.5,0.5,0.5]\n",
    "    serving_1.invoke(\n",
    "        f\"v2/models/{model_name}/infer\", json.dumps({\"inputs\": [data_point]})\n",
    "    )\n",
    "    sleep(choice([0.01, 0.04]))"
   ]
  },
  {
   "cell_type": "markdown",
   "id": "9ddf342a-aa6f-4898-87c1-a4976bd283a8",
   "metadata": {},
   "source": [
    "## View the application results\n",
    "\n",
    "<img src=\"./_static/images/mm-myapp.png\" >\n",
    "\n",
    "And if you've used Evidently:\n",
    "\n",
    "<img src=\"./_static/images/mm-logger-dashb-evidently.png\" >\n",
    "\n",
    "<img src=\"./_static/images/mm-evidently.png\" >\n",
    "\n"
   ]
  },
  {
   "cell_type": "markdown",
   "id": "cb09c03d",
   "metadata": {},
   "source": [
    "## View the status of the model monitoring jobs \n",
    "\n",
    "View the model monitoring jobs in Jobs and Workflows. Model monitoring jobs run continuously, therefore they should \n",
    "have a blue dot indicating that the function is running. (A green dot indicates that the job completed.)\n",
    "\n",
    "For more information on the UI, see [Model monitoring using the platform UI](../monitoring/model-monitoring-deployment.html#model-monitoring-in-the-platform-ui).\n",
    "\n",
    "<img src=\"./_static/images/mm-monitor-jobs.png\" >"
   ]
  },
  {
   "cell_type": "markdown",
   "id": "16fa41b3",
   "metadata": {},
   "source": [
    "<a id=\"view-dashboards\"></a>\n",
    "## View detailed drift dashboards"
   ]
  },
  {
   "cell_type": "markdown",
   "id": "306e0309",
   "metadata": {},
   "source": [
    "Grafana has detailed dashboards that show additional information on each model in the project:\n",
    "\n",
    "For more information on the dashboards, see [Model monitoring using Grafana dashboards](../monitoring/model-monitoring-deployment.html#model-monitoring-using-grafana-dashboards).\n",
    "\n",
    "The **Overview** dashboard displays the model endpoint IDs of a specific project. Only deployed models with Model Monitoring enabled are displayed. Endpoint IDs are URIs used to provide access to performance data and drift detection statistics of a deployed model."
   ]
  },
  {
   "cell_type": "markdown",
   "id": "bd4d7c9c",
   "metadata": {},
   "source": [
    "![grafana_dashboard_1](./_static/images/grafana_dashboard_1.png)"
   ]
  },
  {
   "cell_type": "markdown",
   "id": "97ef9345",
   "metadata": {},
   "source": [
    "The **Model Monitoring Details** dashboard displays the real-time performance data of the selected model, including graphs of individual features over time. "
   ]
  },
  {
   "cell_type": "markdown",
   "id": "da470eca",
   "metadata": {},
   "source": [
    "![grafana_dashboard_2](./_static/images/grafana_dashboard_2.png)"
   ]
  },
  {
   "cell_type": "markdown",
   "id": "c3ce647b",
   "metadata": {},
   "source": [
    "The **Model Monitoring Performance** dashboard displaysdrift and operational metrics over time."
   ]
  },
  {
   "cell_type": "markdown",
   "id": "54888c18",
   "metadata": {},
   "source": [
    "![grafana_dashboard_3](./_static/images/grafana_dashboard_3.png)"
   ]
  },
  {
   "cell_type": "markdown",
   "id": "de9ed1fc",
   "metadata": {},
   "source": [
    "## Done!\n",
    "Congratulations! You’ve completed Part 5 of the MLRun getting-started tutorial. To continue, proceed to [Part 6 Batch inference and drift detection](./07-batch-infer)."
   ]
  }
 ],
 "metadata": {
  "kernelspec": {
   "display_name": "Python 3 (ipykernel)",
   "language": "python",
   "name": "python3"
  },
  "language_info": {
   "codemirror_mode": {
    "name": "ipython",
    "version": 3
   },
   "file_extension": ".py",
   "mimetype": "text/x-python",
   "name": "python",
   "nbconvert_exporter": "python",
   "pygments_lexer": "ipython3",
   "version": "3.9.13"
  }
 },
 "nbformat": 4,
 "nbformat_minor": 5
}
