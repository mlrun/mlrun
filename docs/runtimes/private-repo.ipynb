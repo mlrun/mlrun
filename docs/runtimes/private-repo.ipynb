{
 "cells": [
  {
   "cell_type": "markdown",
   "id": "150d9e6d",
   "metadata": {},
   "source": [
    "(private-repo)=\n",
    "# Using a private repo as a function hub\n",
    "\n",
    "You can save functions to a private repo, and use the repo as your own function hub. You can export multiple versions, as yaml files, and import any one of them by using the version number."
   ]
  },
  {
   "cell_type": "code",
   "execution_count": null,
   "id": "6952e062",
   "metadata": {},
   "outputs": [],
   "source": [
    "import mlrun"
   ]
  },
  {
   "cell_type": "code",
   "execution_count": null,
   "id": "e1635dfd",
   "metadata": {},
   "outputs": [],
   "source": [
    "project = mlrun.get_or_create_project('hub','./',user_project=True)"
   ]
  },
  {
   "cell_type": "markdown",
   "id": "15d0bcf6",
   "metadata": {},
   "source": [
    "## Create and export an MLRun function from a file\n",
    "\n",
    "You can use the function tag to tag the function in mlrun. It is not related to the git tag. For example, this function has a 'version1' tag in mlrun and a 'v1' tag in git."
   ]
  },
  {
   "cell_type": "code",
   "execution_count": null,
   "id": "13a08e5e",
   "metadata": {},
   "outputs": [],
   "source": [
    "function = mlrun.code_to_function('func-hub',tag='version1',handler='func',image='mlrun/mlrun',filename='./my-hub/func/func.py',kind='job')"
   ]
  },
  {
   "cell_type": "markdown",
   "id": "91abe5f9",
   "metadata": {},
   "source": [
    "Export the function to a YAML file:\n",
    "- The name of the function YAML must be named `function.yaml`\n",
    "- The .yaml file will be stored in a path like this: /function-name/function.yaml (e.g /func/function.yaml)"
   ]
  },
  {
   "cell_type": "code",
   "execution_count": null,
   "id": "7a387151",
   "metadata": {},
   "outputs": [],
   "source": [
    "function.export('./my-hub/func/function.yaml')"
   ]
  },
  {
   "cell_type": "markdown",
   "id": "ea2cf3a3",
   "metadata": {},
   "source": [
    "## Change the MLRun hub_url\n",
    "\n",
    "This example changes the hub_url to https://raw.githubusercontent.com/user_name/repo_name"
   ]
  },
  {
   "cell_type": "code",
   "execution_count": null,
   "id": "42b2e63f",
   "metadata": {},
   "outputs": [],
   "source": [
    "mlrun.mlconf.hub_url = \"https://raw.githubusercontent.com/user name/repo name\""
   ]
  },
  {
   "cell_type": "markdown",
   "id": "4e774941",
   "metadata": {},
   "source": [
    "## Import and run the function from your repo \n",
    "\n",
    "Assume there are multiple versions in git, v1, v2, etc. You specify which version you want by appendng the \":tag#\" to \n",
    "the hub path. The path must be to a folder, with the `function.yaml` file in the func directory. \n",
    "MLRun pulls the `function.yaml` file."
   ]
  },
  {
   "cell_type": "code",
   "execution_count": null,
   "id": "14cd8049",
   "metadata": {},
   "outputs": [],
   "source": [
    "#Import the v1 tag from git:\n",
    "import_func_1 = mlrun.import_function('hub://func:v1')\n",
    "\n",
    "# print the results\n",
    "print(import_func_1.to_yaml())\n",
    "\n",
    "#Run the function:\n",
    "import_func_1.run()"
   ]
  }
 ],
 "metadata": {
  "kernelspec": {
   "display_name": "Python 3 (ipykernel)",
   "language": "python",
   "name": "python3"
  },
  "language_info": {
   "codemirror_mode": {
    "name": "ipython",
    "version": 3
   },
   "file_extension": ".py",
   "mimetype": "text/x-python",
   "name": "python",
   "nbconvert_exporter": "python",
   "pygments_lexer": "ipython3",
   "version": "3.7.7"
  }
 },
 "nbformat": 4,
 "nbformat_minor": 5
}
