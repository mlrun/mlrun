{
 "cells": [
  {
   "cell_type": "markdown",
   "metadata": {},
   "source": [
    "# How real time pipelines work"
   ]
  },
  {
   "cell_type": "code",
   "execution_count": null,
   "metadata": {},
   "outputs": [],
   "source": []
  },
  {
   "cell_type": "markdown",
   "metadata": {},
   "source": [
    "A graph is composed of the following:\n",
    "\n",
    "* Step: A Step runs a function or class handler or a REST API call. MLRun comes with a list of [pre-built steps](./available-steps.md) that include data manipulation, readers, writers and model serving. You can also write your own steps using \n",
    "    standard Python functions or custom functions/classes, or can be a external REST API (the special $remote class).\n",
    "* Router: A special type of step is a router with routing logic and multiple child routes/models. The basic \n",
    "    routing logic is to route to the child routes based on the `event.path`. More advanced or custom routing can be used,\n",
    "    for example, the ensemble router sends the event to all child routes in parallel, aggregates the result and responds.\n",
    "* Queue: A queue or stream that accepts data from one or more source steps and publishes to one or more output steps. \n",
    "    Queues are best used to connect independent functions/containers. Queues can run in-memory or be implemented using a stream,     which allows it to span processes/containers.\n",
    "    \n",
    "The Graph server has two modes of operation (topologies):\n",
    "\n",
    "* Router topology (default): A minimal configuration with a single router and child tasks/routes. This can be used for simple model serving or single hop configurations.\n",
    "* Flow topology: A full graph/DAG. The flow topology is implemented using two engines: async (the default)\n",
    "is based on [Storey](https://github.com/mlrun/storey) and asynchronous event loop; and `sync`, which supports a simple\n",
    "sequence of steps.\n",
    "\n",
    "The first graph element accepts an `Event` object, transforms/processes the event and passes the result to the next steps \n",
    "in the graph. The final result can be written out to some destination (file, DB, stream, ..) \n",
    "or returned back to the caller (one of the graph steps can be marked with `.respond()`)."
   ]
  },
  {
   "cell_type": "markdown",
   "metadata": {},
   "source": [
    "## The Event object\n",
    "\n",
    "The Graph state machine accepts an Event object (similar to a Nuclio Event) and passes \n",
    "it along the pipeline. An Event object hosts the event `body` along with other attributes \n",
    "such as `path` (http request path), `method` (GET, POST, ..), and`id` (unique event ID).\n",
    "\n",
    "In some cases the events represent a record with a unique `key`, which can be read/set \n",
    "through the `event.key`. Records have associated `event.time` that, by default, is \n",
    "the arrival time, but can also be set by a step.\n",
    "\n",
    "The Task steps are called with the `event.body` by default. If a task step needs to \n",
    "read or set other event elements (key, path, time, ..) you should set the task `full_event`\n",
    "argument to `True`.\n",
    "\n",
    "Task steps support optional `input_path` and `result_path` attributes that allow controlling which portion of \n",
    "the event is sent as input to the step, and where to update the returned result.\n",
    "\n",
    "For example, for an event body `{\"req\": {\"body\": \"x\"}}`, `input_path=\"req.body\"` and `result_path=\"resp\"` \n",
    "the step gets `\"x\"` as the input. The output after the step is `{\"req\": {\"body\": \"x\"}: \"resp\": <step output>}`.\n",
    "Note that `input_path` and `result_path` do not work together with `full_event=True`."
   ]
  },
  {
   "cell_type": "markdown",
   "metadata": {},
   "source": [
    "## The Context object\n",
    "\n",
    "The step classes are initialized with a `context` object (when they have `context` in their `__init__` args).\n",
    "The context is used to pass data and for interfacing with system services. The context object has the \n",
    "following attributes and methods.\n",
    "\n",
    "Attributes:\n",
    "* **logger**: Central logger (Nuclio logger when running in Nuclio).\n",
    "* **verbose**: True if in verbose/debug mode.\n",
    "* **root**: The graph object.\n",
    "* **current_function**: When running in a distributed graph, the current child function name.\n",
    "\n",
    "Methods:\n",
    "* **get_param(key, default=None)**: Get the graph parameter by key. Parameters are set at the\n",
    "  serving function (e.g. `function.spec.parameters = {\"param1\": \"x\"}`).\n",
    "* **get_secret(key)**: Get the value of a project/user secret.\n",
    "* **get_store_resource(uri, use_cache=True)**: Get the mlrun store object (data item, artifact, model, feature set, feature vector).\n",
    "* **get_remote_endpoint(name, external=False)**: Return the remote nuclio/serving function http(s) endpoint given its [project/]function-name[:tag].\n",
    "* **Response(headers=None, body=None, content_type=None, status_code=200)**: Create a nuclio response object, for returning detailed http responses.\n",
    "\n",
    "Example, using the context:"
   ]
  },
  {
   "cell_type": "code",
   "execution_count": null,
   "metadata": {},
   "outputs": [],
   "source": [
    " if self.context.verbose:\n",
    "        self.context.logger.info('my message', some_arg='text')\n",
    "    x = self.context.get_param('x', 0)"
   ]
  },
  {
   "cell_type": "markdown",
   "metadata": {},
   "source": [
    "## Building distributed graphs\n",
    "\n",
    "Graphs can be hosted by a single function (using zero to n containers), or span multiple functions\n",
    "where each function can have its own container image and resources (replicas, GPUs/CPUs, volumes, etc.).\n",
    "It has a `root` function, which is where you configure triggers (http, incoming stream, cron, ..), \n",
    "and optional downstream child functions.\n",
    "\n",
    "You can specify the `function` attribute in `Task` or `Router` steps. This indicates where \n",
    "this step should run. When the `function` attribute is not specified it runs on the root function.</b>\n",
    "`function=\"*\"` means the step can run in any of the child functions.\n",
    "\n",
    "Steps on different functions should be connected using a `Queue` step (a stream).\n",
    "\n",
    "**Adding a child function:**"
   ]
  },
  {
   "cell_type": "code",
   "execution_count": null,
   "metadata": {},
   "outputs": [],
   "source": [
    "```python\n",
    "fn.add_child_function('enrich', \n",
    "                      './entity_extraction.ipynb', \n",
    "                      image='mlrun/mlrun',\n",
    "                      requirements=[\"storey\", \"sklearn\"])\n",
    "```"
   ]
  },
  {
   "cell_type": "markdown",
   "metadata": {},
   "source": [
    "See a [complete example](./model-serving-get-started.html#example-nlp-processing-pipeline-with-real-time-streaming).  "
   ]
  }
 ],
 "metadata": {
  "kernelspec": {
   "display_name": "Python 3 (ipykernel)",
   "language": "python",
   "name": "python3"
  },
  "language_info": {
   "codemirror_mode": {
    "name": "ipython",
    "version": 3
   },
   "file_extension": ".py",
   "mimetype": "text/x-python",
   "name": "python",
   "nbconvert_exporter": "python",
   "pygments_lexer": "ipython3",
   "version": "3.7.7"
  }
 },
 "nbformat": 4,
 "nbformat_minor": 4
}
