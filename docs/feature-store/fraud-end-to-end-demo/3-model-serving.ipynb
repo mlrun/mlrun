{
 "cells": [
  {
   "cell_type": "markdown",
   "metadata": {},
   "source": [
    "# Part 3: Serving\n",
    "In this part we will user MLRun's **serving runtime** to deploy our trained models from the previous stage a `Voting Ensemble` using **max vote** logic.  \n",
    "We will also use MLRun's **Feature store** to receive the latest tag of the online **Feature Vector** we defined in the preveious stage.\n",
    "\n",
    "We will:\n",
    "- Define a model class to load our models, run preprocessing and predict on the data\n",
    "- Define Voting Ensemble function on top of our models\n",
    "- Test the serving function locally using our `mock server`\n",
    "- Deploy the function to the cluster and test it live\n"
   ]
  },
  {
   "cell_type": "markdown",
   "metadata": {},
   "source": [
    "## Environment Setup\n",
    "\n",
    "Since our work is done in a this project scope, we will first want to define the project itself for all our MLRun work in this notebook."
   ]
  },
  {
   "cell_type": "code",
   "execution_count": 1,
   "metadata": {},
   "outputs": [],
   "source": [
    "import mlrun\n",
    "project, _ = mlrun.set_environment(project='fraud-demo', user_project=True)"
   ]
  },
  {
   "cell_type": "markdown",
   "metadata": {},
   "source": [
    "## Define Model Class\n",
    "- Load models\n",
    "- Predict from the FS Online service via the `source` key"
   ]
  },
  {
   "cell_type": "code",
   "execution_count": 2,
   "metadata": {},
   "outputs": [],
   "source": [
    "# nuclio: start-code"
   ]
  },
  {
   "cell_type": "code",
   "execution_count": 3,
   "metadata": {},
   "outputs": [],
   "source": [
    "from cloudpickle import load\n",
    "import numpy as np\n",
    "import mlrun\n",
    "import os\n",
    "\n",
    "class ClassifierModel(mlrun.serving.V2ModelServer):\n",
    "    \n",
    "    def load(self):\n",
    "        \"\"\"load and initialize the model and/or other elements\"\"\"\n",
    "        model_file, extra_data = self.get_model('.pkl')\n",
    "        self.model = load(open(model_file, 'rb'))\n",
    "        \n",
    "        # Setup FS Online service\n",
    "        feature_vector_name = os.getenv('FEATURE_VECTOR_NAME', 'transactions-fraud')\n",
    "        feature_vector_tag = os.getenv('FEATURE_VECTOR_TAG', 'v1')\n",
    "        self.feature_service = mlrun.feature_store.get_online_feature_service(f'{feature_vector_name}:{feature_vector_tag}')\n",
    "        \n",
    "        # Get feature vector statistics for imputing\n",
    "        self.feature_stats = self.feature_service.vector.get_stats_table()\n",
    "        \n",
    "        # Default category\n",
    "        self.default_category = 0\n",
    "        \n",
    "    def preprocess(self, body: dict, op) -> list:\n",
    "        \"\"\"Turn an entity identifier (source) to a Feature Vector\"\"\"\n",
    "        # Get patient feature vector \n",
    "        # from the patient_id given in the request\n",
    "        vectors = self.feature_service.get([{'source': source} for source in body['inputs']])\n",
    "        \n",
    "        # Impute inf's in the data to the feature's mean value\n",
    "        # using the collected statistics from the Feature store\n",
    "        feature_vectors = []\n",
    "        for fv in vectors:\n",
    "            new_vec = []\n",
    "            for f, v in fv.items():\n",
    "                if type(v) == float:\n",
    "                    if np.isinf(v) or np.isnan(v):\n",
    "                        new_vec.append(self.feature_stats.loc[f, 'mean'])\n",
    "                    else:\n",
    "                        new_vec.append(v)\n",
    "                elif v == None:\n",
    "                    new_vec.append(self.default_category)\n",
    "                else:\n",
    "                    new_vec.append(v)\n",
    "            feature_vectors.append(new_vec)\n",
    "            \n",
    "        # Set the final feature vector as our inputs\n",
    "        # to pass to the predict function\n",
    "        body['inputs'] = feature_vectors\n",
    "        return body\n",
    "\n",
    "    def predict(self, body: dict) -> list:\n",
    "        \"\"\"Generate model predictions from sample\"\"\"\n",
    "        feats = np.asarray(body['inputs'])\n",
    "        result: np.ndarray = self.model.predict(feats)\n",
    "        return result.tolist()"
   ]
  },
  {
   "cell_type": "code",
   "execution_count": 4,
   "metadata": {},
   "outputs": [],
   "source": [
    "# nuclio: end-code"
   ]
  },
  {
   "cell_type": "markdown",
   "metadata": {},
   "source": [
    "## Define Serving Function\n",
    "- Gather ClassifierModel code from this notebook\n",
    "- Define `VotingEnsemble` - Max-Vote based ensemble\n",
    "- Add downloaded models to the ensemble"
   ]
  },
  {
   "cell_type": "code",
   "execution_count": 5,
   "metadata": {},
   "outputs": [
    {
     "data": {
      "image/svg+xml": [
       "<?xml version=\"1.0\" encoding=\"UTF-8\" standalone=\"no\"?>\n",
       "<!DOCTYPE svg PUBLIC \"-//W3C//DTD SVG 1.1//EN\"\n",
       " \"http://www.w3.org/Graphics/SVG/1.1/DTD/svg11.dtd\">\n",
       "<!-- Generated by graphviz version 2.40.1 (20161225.0304)\n",
       " -->\n",
       "<!-- Title: mlrun&#45;flow Pages: 1 -->\n",
       "<svg width=\"763pt\" height=\"196pt\"\n",
       " viewBox=\"0.00 0.00 763.28 196.00\" xmlns=\"http://www.w3.org/2000/svg\" xmlns:xlink=\"http://www.w3.org/1999/xlink\">\n",
       "<g id=\"graph0\" class=\"graph\" transform=\"scale(1 1) rotate(0) translate(4 192)\">\n",
       "<title>mlrun&#45;flow</title>\n",
       "<polygon fill=\"#ffffff\" stroke=\"transparent\" points=\"-4,4 -4,-192 759.2803,-192 759.2803,4 -4,4\"/>\n",
       "<!-- _start -->\n",
       "<g id=\"node1\" class=\"node\">\n",
       "<title>_start</title>\n",
       "<polygon fill=\"#d3d3d3\" stroke=\"#000000\" points=\"404.0871,-152.0493 406.2376,-152.1479 408.3659,-152.2953 410.4632,-152.4913 412.5211,-152.7353 414.5313,-153.0266 416.4859,-153.3645 418.3773,-153.7479 420.1982,-154.1759 421.942,-154.6472 423.6024,-155.1606 425.1736,-155.7147 426.6502,-156.308 428.0278,-156.9388 429.3021,-157.6054 430.4697,-158.3059 431.5277,-159.0385 432.4739,-159.8012 433.3065,-160.5918 434.0245,-161.4082 434.6274,-162.2481 435.1154,-163.1093 435.4891,-163.9894 435.7498,-164.886 435.8991,-165.7965 435.9393,-166.7186 435.873,-167.6497 435.7032,-168.5873 435.4333,-169.5287 435.0671,-170.4713 434.6086,-171.4127 434.0621,-172.3503 433.4319,-173.2814 432.7227,-174.2035 431.9391,-175.114 431.086,-176.0106 430.168,-176.8907 429.19,-177.7519 428.1566,-178.5918 427.0724,-179.4082 425.942,-180.1988 424.7695,-180.9615 423.5592,-181.6941 422.3151,-182.3946 421.0407,-183.0612 419.7397,-183.692 418.4153,-184.2853 417.0705,-184.8394 415.708,-185.3528 414.3304,-185.8241 412.9398,-186.2521 411.5385,-186.6355 410.1281,-186.9734 408.7104,-187.2647 407.2868,-187.5087 405.8585,-187.7047 404.4268,-187.8521 402.9926,-187.9507 401.5571,-188 400.1211,-188 398.6856,-187.9507 397.2514,-187.8521 395.8197,-187.7047 394.3914,-187.5087 392.9678,-187.2647 391.5501,-186.9734 390.1397,-186.6355 388.7384,-186.2521 387.3478,-185.8241 385.9702,-185.3528 384.6077,-184.8394 383.2629,-184.2853 381.9385,-183.692 380.6375,-183.0612 379.3631,-182.3946 378.119,-181.6941 376.9087,-180.9615 375.7362,-180.1988 374.6058,-179.4082 373.5216,-178.5918 372.4882,-177.7519 371.5102,-176.8907 370.5922,-176.0106 369.7391,-175.114 368.9555,-174.2035 368.2463,-173.2814 367.6161,-172.3503 367.0696,-171.4127 366.6111,-170.4713 366.2449,-169.5287 365.975,-168.5873 365.8052,-167.6497 365.7389,-166.7186 365.7791,-165.7965 365.9284,-164.886 366.1891,-163.9894 366.5628,-163.1093 367.0508,-162.2481 367.6537,-161.4082 368.3717,-160.5918 369.2043,-159.8012 370.1505,-159.0385 371.2085,-158.3059 372.3761,-157.6054 373.6504,-156.9388 375.028,-156.308 376.5046,-155.7147 378.0758,-155.1606 379.7362,-154.6472 381.48,-154.1759 383.3009,-153.7479 385.1923,-153.3645 387.1469,-153.0266 389.1571,-152.7353 391.215,-152.4913 393.3123,-152.2953 395.4406,-152.1479 397.5911,-152.0493 399.7549,-152 401.9233,-152 404.0871,-152.0493\"/>\n",
       "<text text-anchor=\"middle\" x=\"400.8391\" y=\"-166.3\" font-family=\"Times,serif\" font-size=\"14.00\" fill=\"#000000\">start</text>\n",
       "</g>\n",
       "<g id=\"node2\" class=\"node\">\n",
       "<title></title>\n",
       "<polygon fill=\"none\" stroke=\"#000000\" points=\"427.8391,-86.5442 427.8391,-101.4558 412.0229,-112 389.6553,-112 373.8391,-101.4558 373.8391,-86.5442 389.6553,-76 412.0229,-76 427.8391,-86.5442\"/>\n",
       "<polygon fill=\"none\" stroke=\"#000000\" points=\"431.8391,-84.4034 431.8391,-103.5966 413.234,-116 388.4442,-116 369.8391,-103.5966 369.8391,-84.4034 388.4442,-72 413.234,-72 431.8391,-84.4034\"/>\n",
       "</g>\n",
       "<!-- _start&#45;&gt; -->\n",
       "<g id=\"edge1\" class=\"edge\">\n",
       "<title>_start&#45;&gt;</title>\n",
       "<path fill=\"none\" stroke=\"#000000\" d=\"M400.8391,-151.9891C400.8391,-144.291 400.8391,-135.0629 400.8391,-126.2561\"/>\n",
       "<polygon fill=\"#000000\" stroke=\"#000000\" points=\"404.3392,-126.2282 400.8391,-116.2282 397.3392,-126.2282 404.3392,-126.2282\"/>\n",
       "</g>\n",
       "<!-- RandomForestClassifier -->\n",
       "<g id=\"node3\" class=\"node\">\n",
       "<title>RandomForestClassifier</title>\n",
       "<ellipse fill=\"none\" stroke=\"#000000\" cx=\"122.8391\" cy=\"-18\" rx=\"122.6784\" ry=\"18\"/>\n",
       "<text text-anchor=\"middle\" x=\"122.8391\" y=\"-14.3\" font-family=\"Times,serif\" font-size=\"14.00\" fill=\"#000000\">RandomForestClassifier</text>\n",
       "</g>\n",
       "<!-- &#45;&gt;RandomForestClassifier -->\n",
       "<g id=\"edge2\" class=\"edge\">\n",
       "<title>&#45;&gt;RandomForestClassifier</title>\n",
       "<path fill=\"none\" stroke=\"#000000\" d=\"M369.7582,-85.5031C326.6973,-73.731 247.7558,-52.1499 190.7028,-36.5527\"/>\n",
       "<polygon fill=\"#000000\" stroke=\"#000000\" points=\"191.6011,-33.1699 181.032,-33.9089 189.7551,-39.9221 191.6011,-33.1699\"/>\n",
       "</g>\n",
       "<!-- GradientBoostingClassifier -->\n",
       "<g id=\"node4\" class=\"node\">\n",
       "<title>GradientBoostingClassifier</title>\n",
       "<ellipse fill=\"none\" stroke=\"#000000\" cx=\"400.8391\" cy=\"-18\" rx=\"137.2758\" ry=\"18\"/>\n",
       "<text text-anchor=\"middle\" x=\"400.8391\" y=\"-14.3\" font-family=\"Times,serif\" font-size=\"14.00\" fill=\"#000000\">GradientBoostingClassifier</text>\n",
       "</g>\n",
       "<!-- &#45;&gt;GradientBoostingClassifier -->\n",
       "<g id=\"edge3\" class=\"edge\">\n",
       "<title>&#45;&gt;GradientBoostingClassifier</title>\n",
       "<path fill=\"none\" stroke=\"#000000\" d=\"M400.8391,-71.6086C400.8391,-63.7272 400.8391,-54.7616 400.8391,-46.4482\"/>\n",
       "<polygon fill=\"#000000\" stroke=\"#000000\" points=\"404.3392,-46.3974 400.8391,-36.3975 397.3392,-46.3975 404.3392,-46.3974\"/>\n",
       "</g>\n",
       "<!-- AdaBoostClassifier -->\n",
       "<g id=\"node5\" class=\"node\">\n",
       "<title>AdaBoostClassifier</title>\n",
       "<ellipse fill=\"none\" stroke=\"#000000\" cx=\"655.8391\" cy=\"-18\" rx=\"99.3824\" ry=\"18\"/>\n",
       "<text text-anchor=\"middle\" x=\"655.8391\" y=\"-14.3\" font-family=\"Times,serif\" font-size=\"14.00\" fill=\"#000000\">AdaBoostClassifier</text>\n",
       "</g>\n",
       "<!-- &#45;&gt;AdaBoostClassifier -->\n",
       "<g id=\"edge4\" class=\"edge\">\n",
       "<title>&#45;&gt;AdaBoostClassifier</title>\n",
       "<path fill=\"none\" stroke=\"#000000\" d=\"M431.8522,-84.7569C472.0036,-72.7902 542.8987,-51.6607 594.1931,-36.3729\"/>\n",
       "<polygon fill=\"#000000\" stroke=\"#000000\" points=\"595.2692,-39.7044 603.853,-33.4939 593.2698,-32.996 595.2692,-39.7044\"/>\n",
       "</g>\n",
       "</g>\n",
       "</svg>\n"
      ],
      "text/plain": [
       "<graphviz.dot.Digraph at 0x7f23ce2d3790>"
      ]
     },
     "execution_count": 5,
     "metadata": {},
     "output_type": "execute_result"
    }
   ],
   "source": [
    "from mlrun import auto_mount\n",
    "\n",
    "# Create the serving function from our code above\n",
    "fn = mlrun.code_to_function('transaction-fraud', kind='serving', image=\"mlrun/mlrun\")\n",
    "\n",
    "# Apply a mount so we can load the model files directly from the v3io fs\n",
    "fn.apply(auto_mount())\n",
    "\n",
    "# Set the Voting Ensemble as our router\n",
    "fn.set_topology('router', 'mlrun.serving.VotingEnsemble', name='Transactionfraud')\n",
    "\n",
    "# Add the three previously trained models to the ensemble\n",
    "db = mlrun.get_run_db()\n",
    "sklearn_models = db.list_artifacts(project=project, best_iteration=False, labels={'framework': 'sklearn'})\n",
    "models = {model['algorithm']: os.path.join(model['target_path'], model['model_file']) for model in sklearn_models}\n",
    "\n",
    "for model_name, model_path in models.items():\n",
    "    fn.add_model(model_name, class_name=\"ClassifierModel\", model_path=model_path)\n",
    "    \n",
    "# Set the feature vector and tag for the model to pickup\n",
    "# setting them as environment variables allows us to easily\n",
    "# update the function with new feature vector and it's being\n",
    "# tracked by MLRun as a function parameter.\n",
    "feature_vector_name = 'transactions-fraud'\n",
    "feature_vector_tag = 'v1'\n",
    "fn.set_envs({'FEATURE_VECTOR_NAME': feature_vector_name,\n",
    "             'FEATURE_VECTOR_TAG': feature_vector_tag})\n",
    "    \n",
    "# Plot the ensemble configuration\n",
    "fn.spec.graph.plot()"
   ]
  },
  {
   "cell_type": "markdown",
   "metadata": {},
   "source": [
    "## Test the server locally"
   ]
  },
  {
   "cell_type": "code",
   "execution_count": 6,
   "metadata": {},
   "outputs": [
    {
     "name": "stdout",
     "output_type": "stream",
     "text": [
      "> 2021-06-20 08:23:50,893 [info] model RandomForestClassifier was loaded\n",
      "> 2021-06-20 08:23:50,952 [info] model GradientBoostingClassifier was loaded\n",
      "> 2021-06-20 08:23:51,001 [info] model AdaBoostClassifier was loaded\n",
      "> 2021-06-20 08:23:51,002 [info] Loaded ['RandomForestClassifier', 'GradientBoostingClassifier', 'AdaBoostClassifier']\n"
     ]
    }
   ],
   "source": [
    "# Create a mock server from the serving function\n",
    "server = fn.to_mock_server()"
   ]
  },
  {
   "cell_type": "markdown",
   "metadata": {},
   "source": [
    "### View a sample of the online features"
   ]
  },
  {
   "cell_type": "code",
   "execution_count": 7,
   "metadata": {},
   "outputs": [
    {
     "data": {
      "text/plain": [
       "[{'amount_sum_2h': 0.0,\n",
       "  'amount_sum_12h': 128.69,\n",
       "  'amount_sum_24h': 196.29,\n",
       "  'amount_max_2h': -inf,\n",
       "  'amount_max_12h': 106.24,\n",
       "  'amount_max_24h': 106.24,\n",
       "  'amount_count_2h': 0.0,\n",
       "  'amount_avg_12h': 42.89666666666667,\n",
       "  'amount': 3.28}]"
      ]
     },
     "execution_count": 7,
     "metadata": {},
     "output_type": "execute_result"
    }
   ],
   "source": [
    "import mlrun.feature_store as fs\n",
    "\n",
    "# Create the online feature service\n",
    "svc = fs.get_online_feature_service('transactions-fraud:v1')\n",
    "\n",
    "# Get sample feature vector\n",
    "sample_id = 'C76780537'\n",
    "sample_fv = svc.get([{'source': sample_id}])\n",
    "sample_fv"
   ]
  },
  {
   "cell_type": "code",
   "execution_count": 8,
   "metadata": {},
   "outputs": [
    {
     "data": {
      "text/plain": [
       "{'id': '4c38e61352884579a0e38914e59b8bc1',\n",
       " 'model_name': [0],\n",
       " 'outputs': [0],\n",
       " 'model_version': 'v1'}"
      ]
     },
     "execution_count": 8,
     "metadata": {},
     "output_type": "execute_result"
    }
   ],
   "source": [
    "import json\n",
    "\n",
    "# Send a sample ID for predcition\n",
    "server.test(path='/v2/models/infer',\n",
    "            body=json.dumps({'inputs': [sample_id]}))"
   ]
  },
  {
   "cell_type": "markdown",
   "metadata": {},
   "source": [
    "### Test the function on the kubernetes cluster"
   ]
  },
  {
   "cell_type": "markdown",
   "metadata": {},
   "source": [
    "#### Deploy"
   ]
  },
  {
   "cell_type": "code",
   "execution_count": 9,
   "metadata": {},
   "outputs": [
    {
     "name": "stdout",
     "output_type": "stream",
     "text": [
      "> 2021-06-20 08:23:51,126 [info] Starting remote function deploy\n",
      "2021-06-20 08:23:51  (info) Deploying function\n",
      "2021-06-20 08:23:51  (info) Building\n",
      "2021-06-20 08:23:51  (info) Staging files and preparing base images\n",
      "2021-06-20 08:23:51  (info) Building processor image\n",
      "2021-06-20 08:23:53  (info) Build complete\n",
      "2021-06-20 08:24:01  (info) Function deploy complete\n",
      "> 2021-06-20 08:24:02,316 [info] function deployed, address=default-tenant.app.dev6.lab.iguazeng.com:31573\n"
     ]
    }
   ],
   "source": [
    "addr = fn.deploy()"
   ]
  },
  {
   "cell_type": "code",
   "execution_count": 10,
   "metadata": {},
   "outputs": [
    {
     "data": {
      "text/plain": [
       "{'id': '7abdc722-c7b6-4c8b-9edc-138c1afd25f6',\n",
       " 'model_name': [0],\n",
       " 'outputs': [0],\n",
       " 'model_version': 'v1'}"
      ]
     },
     "execution_count": 10,
     "metadata": {},
     "output_type": "execute_result"
    }
   ],
   "source": [
    "fn.invoke(path='/v2/models/infer',\n",
    "          body=json.dumps({'inputs': [sample_id]}))"
   ]
  },
  {
   "cell_type": "code",
   "execution_count": null,
   "metadata": {},
   "outputs": [],
   "source": []
  }
 ],
 "metadata": {
  "kernelspec": {
   "display_name": "Python 3",
   "language": "python",
   "name": "python3"
  },
  "language_info": {
   "codemirror_mode": {
    "name": "ipython",
    "version": 3
   },
   "file_extension": ".py",
   "mimetype": "text/x-python",
   "name": "python",
   "nbconvert_exporter": "python",
   "pygments_lexer": "ipython3",
   "version": "3.7.6"
  }
 },
 "nbformat": 4,
 "nbformat_minor": 4
}
