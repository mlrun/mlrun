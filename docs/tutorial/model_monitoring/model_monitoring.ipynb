{
 "cells": [
  {
   "cell_type": "markdown",
   "metadata": {},
   "source": [
    "(model-monitoring-tutorial)= \n",
    "# Model Monitoring and Drift Detection\n",
    "\n",
    "In this tutorial, we will be leveraging the model monitoring capabilities of MLRun to deploy a model to a live endpoint and calculate data drift.\n",
    "\n",
    "Make sure you have reviewed the basics in MLRun [**Quick Start Tutorial**](../01-mlrun-basics.html)."
   ]
  },
  {
   "cell_type": "markdown",
   "metadata": {},
   "source": [
    "Tutorial steps:\n",
    "- [**Create an MLRun project**](#setup-project)\n",
    "- [**Log a Model with a given framework and training set**](#log-model-with-training-data)\n",
    "- [**Import an MLRun function from the marketplace**](#import-serving-function)\n",
    "- [**Deploy Serving Function with Drift Detection**](#deploy-serving-function-with-drift-detection)\n",
    "- [**Simulate Production Traffic**](#simulate-production-traffic)\n",
    "- [**View Drift Calculations and Status**](#view-drift-calculations-and-status)\n",
    "- [**View Detailed Drift Dashboards**](#view-detailed-drift-dashboards)"
   ]
  },
  {
   "cell_type": "markdown",
   "metadata": {},
   "source": [
    "## MLRun Installation and Configuration\n",
    "\n",
    "Before running this notebook make sure `mlrun` is installed and that you have configured the access to the MLRun service. "
   ]
  },
  {
   "cell_type": "code",
   "execution_count": null,
   "metadata": {},
   "outputs": [],
   "source": [
    "# install MLRun if not installed, run this only once (restart the notebook after the install !!!)\n",
    "%pip install mlrun"
   ]
  },
  {
   "cell_type": "markdown",
   "metadata": {},
   "source": [
    "## Setup Project\n",
    "\n",
    "First, we will import the dependencies and create an [MLRun project](https://docs.mlrun.org/en/latest/projects/project.html). This will contain all of our models, functions, datasets, etc:"
   ]
  },
  {
   "cell_type": "code",
   "execution_count": 1,
   "metadata": {},
   "outputs": [
    {
     "name": "stdout",
     "output_type": "stream",
     "text": [
      "> 2022-09-20 15:35:11,602 [info] Server and client versions are not the same: {'parsed_server_version': VersionInfo(major=1, minor=0, patch=4, prerelease=None, build=None), 'parsed_client_version': VersionInfo(major=1, minor=1, patch=0, prerelease=None, build=None)}\n"
     ]
    }
   ],
   "source": [
    "import mlrun\n",
    "import os\n",
    "import pandas as pd"
   ]
  },
  {
   "cell_type": "code",
   "execution_count": 2,
   "metadata": {},
   "outputs": [
    {
     "name": "stdout",
     "output_type": "stream",
     "text": [
      "> 2022-09-20 15:35:31,185 [info] loaded project drift-detection from MLRun DB\n"
     ]
    }
   ],
   "source": [
    "project = mlrun.get_or_create_project(name=\"drift-detection\", context=\"./\")"
   ]
  },
  {
   "cell_type": "markdown",
   "metadata": {},
   "source": [
    "> Note: This tutorial will not focus on training a model, but rather will start from the point of already having a trained model with a corresponding training dataset.\n",
    "\n",
    "We will be logging the following model file and dataset to deploy and calculate data drift. The model is a [RandomForestClassifier](https://scikit-learn.org/stable/modules/generated/sklearn.ensemble.RandomForestClassifier.html) from sklearn and the dataset is in `csv` format."
   ]
  },
  {
   "cell_type": "code",
   "execution_count": 3,
   "metadata": {},
   "outputs": [],
   "source": [
    "model_path = mlrun.get_sample_path('models/model-monitoring/model.pkl')\n",
    "training_set_path = mlrun.get_sample_path('data/model-monitoring/train.csv')"
   ]
  },
  {
   "cell_type": "markdown",
   "metadata": {},
   "source": [
    "## Log Model with Training Data\n",
    "\n",
    "Next, we will log the model using MLRun experiment tracking. This is usually done in a training pipeline, but you can also bring in your pre-trained models from other sources. See [Working with data and model artifacts](https://docs.mlrun.org/en/latest/training/working-with-data-and-model-artifacts.html) and [Automated experiment tracking](https://docs.mlrun.org/en/latest/concepts/auto-logging-mlops.html) for more information."
   ]
  },
  {
   "cell_type": "code",
   "execution_count": 4,
   "metadata": {},
   "outputs": [],
   "source": [
    "model_name = \"RandomForestClassifier\""
   ]
  },
  {
   "cell_type": "code",
   "execution_count": 5,
   "metadata": {},
   "outputs": [],
   "source": [
    "model_artifact = project.log_model(\n",
    "    key=model_name,\n",
    "    model_file=model_path,\n",
    "    framework=\"sklearn\",\n",
    "    training_set=pd.read_csv(training_set_path)\n",
    ")"
   ]
  },
  {
   "cell_type": "code",
   "execution_count": 6,
   "metadata": {},
   "outputs": [
    {
     "data": {
      "text/plain": [
       "'store://models/drift-detection/RandomForestClassifier#0:latest'"
      ]
     },
     "execution_count": 6,
     "metadata": {},
     "output_type": "execute_result"
    }
   ],
   "source": [
    "model_artifact.uri"
   ]
  },
  {
   "cell_type": "markdown",
   "metadata": {},
   "source": [
    "## Import Serving Function\n",
    "\n",
    "Then, we will import the [model server](https://github.com/mlrun/functions/tree/master/v2_model_server) function from the [MLRun Function Marketplace](https://www.mlrun.org/marketplace/). Additionally, we will mount the filesytem, add our model that was logged via experiment tracking, and enable drift detection.\n",
    "\n",
    "The core line here is `serving_fn.set_tracking()` which will create the required infrastructure behind the scenes to perform drift detection. See the [Model monitoring overview](https://docs.mlrun.org/en/latest/model_monitoring/model-monitoring-deployment.html) for more info on what is deployed."
   ]
  },
  {
   "cell_type": "code",
   "execution_count": 7,
   "metadata": {
    "collapsed": false,
    "jupyter": {
     "outputs_hidden": false
    },
    "pycharm": {
     "name": "#%%\n"
    }
   },
   "outputs": [],
   "source": [
    "# Import the serving function from the function hub and mount filesystem\n",
    "serving_fn = mlrun.import_function('hub://v2_model_server', new_name=\"serving\").apply(mlrun.auto_mount())\n",
    "\n",
    "# Add the model to the serving function's routing spec\n",
    "serving_fn.add_model(model_name, model_path=model_artifact.uri)\n",
    "\n",
    "# Enable model monitoring\n",
    "serving_fn.set_tracking()"
   ]
  },
  {
   "cell_type": "markdown",
   "metadata": {},
   "source": [
    "## Deploy Serving Function with Drift Detection\n",
    "\n",
    "Finally, we can deploy our serving function with drift detection enabled with a single line of code:"
   ]
  },
  {
   "cell_type": "code",
   "execution_count": 8,
   "metadata": {
    "collapsed": false,
    "jupyter": {
     "outputs_hidden": false
    },
    "pycharm": {
     "name": "#%%\n"
    }
   },
   "outputs": [
    {
     "name": "stdout",
     "output_type": "stream",
     "text": [
      "> 2022-09-20 13:50:37,662 [info] Starting remote function deploy\n",
      "2022-09-20 13:50:39  (info) Deploying function\n",
      "2022-09-20 13:50:39  (info) Building\n",
      "2022-09-20 13:50:40  (info) Staging files and preparing base images\n",
      "2022-09-20 13:50:40  (info) Building processor image\n",
      "2022-09-20 13:51:55  (info) Build complete\n",
      "2022-09-20 13:52:09  (info) Function deploy complete\n",
      "> 2022-09-20 13:52:10,139 [info] successfully deployed function: {'internal_invocation_urls': ['nuclio-drift-detection-serving.default-tenant.svc.cluster.local:8080'], 'external_invocation_urls': ['drift-detection-serving-drift-detection.default-tenant.app.us-sales-350.iguazio-cd1.com/']}\n"
     ]
    },
    {
     "data": {
      "text/plain": [
       "'http://drift-detection-serving-drift-detection.default-tenant.app.us-sales-350.iguazio-cd1.com/'"
      ]
     },
     "execution_count": 8,
     "metadata": {},
     "output_type": "execute_result"
    }
   ],
   "source": [
    "serving_fn.deploy()"
   ]
  },
  {
   "cell_type": "markdown",
   "metadata": {},
   "source": [
    "## View Deployed Resources"
   ]
  },
  {
   "cell_type": "markdown",
   "metadata": {},
   "source": [
    "At this point, you should see the newly deployed model server as well as a `model-monitoring-stream` and a scheduled job. The `model-monitoring-stream` will collect, process, and save the incoming requests to the model server. The scheduled job will do the actual calculation (by default every hour)."
   ]
  },
  {
   "cell_type": "markdown",
   "metadata": {},
   "source": [
    "![drift_table_plot](../../_static/images/tutorial/model_monitoring/project_dashboard.png)"
   ]
  },
  {
   "cell_type": "markdown",
   "metadata": {},
   "source": [
    "## Simulate Production Traffic\n",
    "\n",
    "Next, we will use following code to simulate incoming production data using elements from the training set. Because the data is coming from the same training set we logged, we are not expecting any data drift.\n",
    "\n",
    "> *Note: By default, the drift calculation will start via the scheduled hourly batch job after receiving 10,000 incoming requests*"
   ]
  },
  {
   "cell_type": "code",
   "execution_count": null,
   "metadata": {
    "collapsed": false,
    "jupyter": {
     "outputs_hidden": false
    },
    "pycharm": {
     "name": "#%%\n"
    }
   },
   "outputs": [],
   "source": [
    "import json\n",
    "from time import sleep\n",
    "from random import choice, uniform\n",
    "import logging\n",
    "from tqdm import tqdm\n",
    "\n",
    "# Suppress print messages\n",
    "logging.getLogger(name=\"mlrun\").setLevel(logging.WARNING)\n",
    "\n",
    "# Get training set as list\n",
    "iris_data = pd.read_csv(training_set_path).to_dict(orient=\"split\")[\"data\"]\n",
    "\n",
    "# Simulate traffic using random elements from training set\n",
    "for i in tqdm(range(12_000)):\n",
    "    data_point = choice(iris_data)\n",
    "    serving_fn.invoke(f'v2/models/{model_name}/infer', json.dumps({'inputs': [data_point]}))"
   ]
  },
  {
   "cell_type": "markdown",
   "metadata": {},
   "source": [
    "## View Drift Calculations and Status"
   ]
  },
  {
   "cell_type": "markdown",
   "metadata": {},
   "source": [
    "Once data drift has been calculated, you can view it in the MLRun UI. This includes a high level overview of the model status:"
   ]
  },
  {
   "cell_type": "markdown",
   "metadata": {},
   "source": [
    "![model_endpoint_1](../../_static/images/tutorial/model_monitoring/model_endpoint_1.png)"
   ]
  },
  {
   "cell_type": "markdown",
   "metadata": {},
   "source": [
    "A more detailed view on model information and overall drift metrics:"
   ]
  },
  {
   "cell_type": "markdown",
   "metadata": {},
   "source": [
    "![model_endpoint_2](../../_static/images/tutorial/model_monitoring/model_endpoint_2.png)"
   ]
  },
  {
   "cell_type": "markdown",
   "metadata": {},
   "source": [
    "As well as| a view for feature-level distributions and drift metrics:"
   ]
  },
  {
   "cell_type": "markdown",
   "metadata": {},
   "source": [
    "![model_endpoint_3](../../_static/images/tutorial/model_monitoring/model_endpoint_3.png)"
   ]
  },
  {
   "cell_type": "markdown",
   "metadata": {},
   "source": [
    "## View Detailed Drift Dashboards"
   ]
  },
  {
   "cell_type": "markdown",
   "metadata": {},
   "source": [
    "Finally, there are also more detailed Grafana dashboards that show additional information on each model in the project:\n",
    "\n",
    "> For more information on accessing these dashboards, see [Model monitoring using Grafana dashboards](https://docs.mlrun.org/en/latest/model_monitoring/model-monitoring-deployment.html#model-monitoring-using-grafana-dashboards)."
   ]
  },
  {
   "cell_type": "markdown",
   "metadata": {},
   "source": [
    "![grafana_dashboard_1](../../_static/images/tutorial/model_monitoring/grafana_dashboard_1.png)"
   ]
  },
  {
   "cell_type": "markdown",
   "metadata": {},
   "source": [
    "Graphs of individual features over time:"
   ]
  },
  {
   "cell_type": "markdown",
   "metadata": {},
   "source": [
    "![grafana_dashboard_2](../../_static/images/tutorial/model_monitoring/grafana_dashboard_2.png)"
   ]
  },
  {
   "cell_type": "markdown",
   "metadata": {},
   "source": [
    "As well as drift and operational metrics over time:"
   ]
  },
  {
   "cell_type": "markdown",
   "metadata": {},
   "source": [
    "![grafana_dashboard_3](../../_static/images/tutorial/model_monitoring/grafana_dashboard_3.png)"
   ]
  }
 ],
 "metadata": {
  "kernelspec": {
   "display_name": "Python 3",
   "language": "python",
   "name": "python3"
  },
  "language_info": {
   "codemirror_mode": {
    "name": "ipython",
    "version": 3
   },
   "file_extension": ".py",
   "mimetype": "text/x-python",
   "name": "python",
   "nbconvert_exporter": "python",
   "pygments_lexer": "ipython3",
   "version": "3.7.6"
  }
 },
 "nbformat": 4,
 "nbformat_minor": 4
}
