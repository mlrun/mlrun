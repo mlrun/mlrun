{
 "cells": [
  {
   "cell_type": "markdown",
   "id": "887ae6fb",
   "metadata": {},
   "source": [
    "(nuclio-real-time-functions)=\n",
    "# Nuclio real-time functions\n",
    "\n",
    "Nuclio is a high-performance \"serverless\" framework focused on data, I/O, and compute intensive workloads. It is well integrated with popular \n",
    "data science tools, such as Jupyter and Kubeflow; supports a variety of data and streaming sources; and supports execution over CPUs and GPUs. \n",
    "\n",
    "You can use Nuclio through a fully managed application service (in the cloud or on-prem) in the Iguazio MLOps Platform. MLRun serving \n",
    "utilizes serverless Nuclio functions to create multi-stage real-time pipelines. \n",
    "\n",
    "The underlying Nuclio serverless engine uses a high-performance parallel processing engine that maximizes the utilization of CPUs and GPUs, \n",
    "supports 13 protocols and invocation methods (for example, HTTP, Cron, Kafka, Kinesis), and includes dynamic auto-scaling for HTTP and \n",
    "streaming. Nuclio and MLRun support the full life cycle, including auto-generation of micro-services, APIs, load-balancing, logging, \n",
    "monitoring, and configuration management—such that developers can focus on code, and deploy to production faster with minimal work.\n",
    "\n",
    "Nuclio is extremely fast: a single function instance can process hundreds of thousands of HTTP requests or data records per second. To learn \n",
    "more about how Nuclio works, see the Nuclio architecture [documentation](https://nuclio.io/docs/latest/concepts/architecture/). \n",
    "\n",
    "Nuclio is secure: Nuclio is integrated with Kaniko to allow a secure and production-ready way of building Docker images at run time.\n",
    "\n",
    "Read more in the [Nuclio documentation](https://nuclio.io/docs/latest/) and the open-source [MLRun library](https://github.com/mlrun/mlrun).\n",
    "\n",
    "## Example of Nuclio function\n",
    "\n",
    "You can create your own Nuclio function, for example a data processing function. For every Nuclio function, by default, there is one worker. See [Number of GPUs](../runtimes/configuring-job-resources.html#number-of-gpus).\n",
    "\n",
    "The following code illustrates an example of an MLRun function, of kind 'nuclio', that can be deployed to the cluster."
   ]
  },
  {
   "cell_type": "markdown",
   "id": "3c9b59b3",
   "metadata": {},
   "source": [
    "Create a file `func.py` with the code of the function: \n",
    "```\n",
    "def handler(context, event):\n",
    "    return \"Hello\"\n",
    "```    "
   ]
  },
  {
   "cell_type": "markdown",
   "id": "b2dcd26e",
   "metadata": {},
   "source": [
    "Create the project and the Nuclio function:"
   ]
  },
  {
   "cell_type": "code",
   "execution_count": null,
   "id": "105fb38e",
   "metadata": {},
   "outputs": [],
   "source": [
    "import mlrun"
   ]
  },
  {
   "cell_type": "code",
   "execution_count": null,
   "id": "dc620518",
   "metadata": {},
   "outputs": [],
   "source": [
    "# Create the project\n",
    "project = mlrun.get_or_create_project(\"nuclio-project\", \"./\")"
   ]
  },
  {
   "cell_type": "code",
   "execution_count": null,
   "id": "5dda40ef",
   "metadata": {},
   "outputs": [],
   "source": [
    "# Create a Nuclio function\n",
    "project.set_function(\n",
    "    func=\"func.py\",\n",
    "    image=\"mlrun/mlrun\",\n",
    "    kind=\"nuclio\",\n",
    "    name=\"nuclio-func\",\n",
    "    handler=\"handler\",\n",
    ")\n",
    "# Save the function within the project\n",
    "project.save()\n",
    "# Deploy the function in the cluster\n",
    "project.deploy_function(\"nuclio-func\")"
   ]
  }
 ],
 "metadata": {
  "kernelspec": {
   "display_name": "Python 3 (ipykernel)",
   "language": "python",
   "name": "python3"
  },
  "language_info": {
   "codemirror_mode": {
    "name": "ipython",
    "version": 3
   },
   "file_extension": ".py",
   "mimetype": "text/x-python",
   "name": "python",
   "nbconvert_exporter": "python",
   "pygments_lexer": "ipython3",
   "version": "3.10.1"
  }
 },
 "nbformat": 4,
 "nbformat_minor": 5
}
