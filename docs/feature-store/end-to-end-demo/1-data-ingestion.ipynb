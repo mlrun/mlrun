{
 "cells": [
  {
   "cell_type": "markdown",
   "source": [
    "# Part 1: Data Ingestion\n"
   ],
   "metadata": {}
  },
  {
   "cell_type": "markdown",
   "source": [
    "This demo showcases financial fraud prevention and using the MLRun feature store to define complex features that help identify fraud. Fraud prevention specifically is a challenge as it requires processing raw transaction and events in real-time and being able to quickly respond and block transactions before they occur.\n",
    "\n",
    "To address this, we create a development pipeline and a production pipeline. Both pipelines share the same feature engineering and model code, but serve data very differently. Furthermore, we automate the data and model monitoring process, identify drift and trigger retraining in a CI/CD pipeline. This process is described in the diagram below:\n",
    "\n",
    "![Feature store demo diagram - fraud prevention](../../_static/images/feature_store_demo_diagram.png)"
   ],
   "metadata": {}
  },
  {
   "cell_type": "markdown",
   "source": [
    "The raw data is described as follows:\n",
    "\n",
    "| TRANSACTIONS                                                                    || &#x2551; |EVENTS                                                                           || \n",
    "|-----------------|----------------------------------------------------------------|----------|-----------------|----------------------------------------------------------------|\n",
    "| **age**         | age group value 0-6. Some values are marked as U for unknown   | &#x2551; | **source**      | The party/entity related to the event                          |\n",
    "| **gender**      | A character to define the age                                  | &#x2551; | **event**       | event, such as login or password change                        |\n",
    "| **zipcodeOri**  | ZIP code of the person originating the transaction             | &#x2551; | **timestamp**   | The date and time of the event                                 |\n",
    "| **zipMerchant** | ZIP code of the merchant receiving the transaction             | &#x2551; |                 |                                                                |\n",
    "| **category**    | category of the transaction (e.g., transportation, food, etc.) | &#x2551; |                 |                                                                |\n",
    "| **amount**      | the total amount of the transaction                            | &#x2551; |                 |                                                                |\n",
    "| **fraud**       | whether the transaction is fraudulent                          | &#x2551; |                 |                                                                |\n",
    "| **timestamp**   | the date and time in which the transaction took place          | &#x2551; |                 |                                                                |\n",
    "| **source**      | the ID of the party/entity performing the transaction          | &#x2551; |                 |                                                                |\n",
    "| **target**      | the ID of the party/entity receiving the transaction           | &#x2551; |                 |                                                                |\n",
    "| **device**      | the device ID used to perform the transaction                  | &#x2551; |                 |                                                                |"
   ],
   "metadata": {}
  },
  {
   "cell_type": "markdown",
   "source": [
    "This notebook introduces how to **Ingest** different data sources to the **Feature Store**.\n",
    "\n",
    "The following FeatureSets will be created:\n",
    "- **Transactions**: Monetary transactions between a source and a target.\n",
    "- **Events**: Account events such as account login or a password change.\n",
    "- **Label**: Fraud label for the data.\n",
    "\n",
    "By the end of this tutorial you’ll learn how to:\n",
    "\n",
    "- Create an ingestion pipeline for each data source.\n",
    "- Define preprocessing, aggregation and validation of the pipeline.\n",
    "- Run the pipeline locally within the notebook.\n",
    "- Launch a real-time function to ingest live data.\n",
    "- Schedule a cron to run the task when needed."
   ],
   "metadata": {}
  },
  {
   "cell_type": "code",
   "execution_count": 1,
   "source": [
    "import mlrun\n",
    "\n",
    "project_name_base = 'fraud-demo'\n",
    "\n",
    "# Initialize the MLRun project object\n",
    "project = mlrun.get_or_create_project(project_name_base, context=\"./\", user_project=True)\n",
    "\n",
    "# Display the current project name\n",
    "print(f'Project name: {project.name}')"
   ],
   "outputs": [
    {
     "output_type": "stream",
     "name": "stdout",
     "text": [
      "> 2021-09-10 01:27:11,960 [info] created and saved project fraud-demo\n",
      "Project name: fraud-demo-admin\n"
     ]
    }
   ],
   "metadata": {}
  },
  {
   "cell_type": "markdown",
   "source": [
    "We also include an helper function for the demo to adjust the data's date ranges to be relative to now."
   ],
   "metadata": {}
  },
  {
   "cell_type": "code",
   "execution_count": 2,
   "source": [
    "# Helper functions to adjust the timestamps of our data\n",
    "# while keeping the order of the selected events and\n",
    "# the relative distance from one event to the other\n",
    "\n",
    "def date_adjustment(sample, data_max, new_max, old_data_period, new_data_period):\n",
    "    '''\n",
    "        Adjust a specific sample's date according to the original and new time periods\n",
    "    '''\n",
    "    sample_dates_scale = ((data_max - sample) / old_data_period)\n",
    "    sample_delta = new_data_period * sample_dates_scale\n",
    "    new_sample_ts = new_max - sample_delta\n",
    "    return new_sample_ts\n",
    "\n",
    "def adjust_data_timespan(dataframe, timestamp_col='timestamp', new_period='2d', new_max_date_str='now'):\n",
    "    '''\n",
    "        Adjust the dataframe timestamps to the new time period\n",
    "    '''\n",
    "    # Calculate old time period\n",
    "    data_min = dataframe.timestamp.min()\n",
    "    data_max = dataframe.timestamp.max()\n",
    "    old_data_period = data_max-data_min\n",
    "    \n",
    "    # Set new time period\n",
    "    new_time_period = pd.Timedelta(new_period)\n",
    "    new_max = pd.Timestamp(new_max_date_str)\n",
    "    new_min = new_max-new_time_period\n",
    "    new_data_period = new_max-new_min\n",
    "    \n",
    "    # Apply the timestamp change\n",
    "    df = dataframe.copy()\n",
    "    df[timestamp_col] = df[timestamp_col].apply(lambda x: date_adjustment(x, data_max, new_max, old_data_period, new_data_period))\n",
    "    return df"
   ],
   "outputs": [],
   "metadata": {}
  },
  {
   "cell_type": "markdown",
   "source": [
    "## Define the Real-Time Credit Transactions Feature Set (data pipeline)\n",
    "\n"
   ],
   "metadata": {}
  },
  {
   "cell_type": "markdown",
   "source": [
    "### Load and view the credit transaction data\n"
   ],
   "metadata": {}
  },
  {
   "cell_type": "code",
   "execution_count": 3,
   "source": [
    "import pandas as pd\n",
    "\n",
    "# Load the dataset\n",
    "data = pd.read_csv('https://s3.wasabisys.com/iguazio/data/fraud-demo-mlrun-fs-docs/data.csv', parse_dates=['timestamp'])\n",
    "\n",
    "# Sample 50k lines\n",
    "data = data.sample(50000)\n",
    "\n",
    "# Adjust the samples timestamp for the past 2 days\n",
    "data = adjust_data_timespan(data, new_period='2d')\n",
    "\n",
    "data.head()"
   ],
   "outputs": [
    {
     "output_type": "execute_result",
     "data": {
      "text/html": [
       "<div>\n",
       "<style scoped>\n",
       "    .dataframe tbody tr th:only-of-type {\n",
       "        vertical-align: middle;\n",
       "    }\n",
       "\n",
       "    .dataframe tbody tr th {\n",
       "        vertical-align: top;\n",
       "    }\n",
       "\n",
       "    .dataframe thead th {\n",
       "        text-align: right;\n",
       "    }\n",
       "</style>\n",
       "<table border=\"1\" class=\"dataframe\">\n",
       "  <thead>\n",
       "    <tr style=\"text-align: right;\">\n",
       "      <th></th>\n",
       "      <th>step</th>\n",
       "      <th>age</th>\n",
       "      <th>gender</th>\n",
       "      <th>zipcodeOri</th>\n",
       "      <th>zipMerchant</th>\n",
       "      <th>category</th>\n",
       "      <th>amount</th>\n",
       "      <th>fraud</th>\n",
       "      <th>timestamp</th>\n",
       "      <th>source</th>\n",
       "      <th>target</th>\n",
       "      <th>device</th>\n",
       "    </tr>\n",
       "  </thead>\n",
       "  <tbody>\n",
       "    <tr>\n",
       "      <th>102145</th>\n",
       "      <td>37</td>\n",
       "      <td>4</td>\n",
       "      <td>F</td>\n",
       "      <td>28007</td>\n",
       "      <td>28007</td>\n",
       "      <td>es_transportation</td>\n",
       "      <td>5.20</td>\n",
       "      <td>0</td>\n",
       "      <td>2021-09-09 07:58:17.482607044</td>\n",
       "      <td>C559952121</td>\n",
       "      <td>M1823072687</td>\n",
       "      <td>9e85eb0ade9c4813b38e2087dffad384</td>\n",
       "    </tr>\n",
       "    <tr>\n",
       "      <th>184215</th>\n",
       "      <td>63</td>\n",
       "      <td>5</td>\n",
       "      <td>M</td>\n",
       "      <td>28007</td>\n",
       "      <td>28007</td>\n",
       "      <td>es_transportation</td>\n",
       "      <td>5.04</td>\n",
       "      <td>0</td>\n",
       "      <td>2021-09-09 10:51:42.813273856</td>\n",
       "      <td>C442137737</td>\n",
       "      <td>M348934600</td>\n",
       "      <td>856a6e236eeb44c989bbfa42fface657</td>\n",
       "    </tr>\n",
       "    <tr>\n",
       "      <th>29190</th>\n",
       "      <td>11</td>\n",
       "      <td>2</td>\n",
       "      <td>M</td>\n",
       "      <td>28007</td>\n",
       "      <td>28007</td>\n",
       "      <td>es_transportation</td>\n",
       "      <td>2.31</td>\n",
       "      <td>0</td>\n",
       "      <td>2021-09-09 06:16:18.501963568</td>\n",
       "      <td>C855082400</td>\n",
       "      <td>M348934600</td>\n",
       "      <td>de4e38fa167942229cdb219f0b684502</td>\n",
       "    </tr>\n",
       "    <tr>\n",
       "      <th>43871</th>\n",
       "      <td>16</td>\n",
       "      <td>4</td>\n",
       "      <td>F</td>\n",
       "      <td>28007</td>\n",
       "      <td>28007</td>\n",
       "      <td>es_transportation</td>\n",
       "      <td>42.65</td>\n",
       "      <td>0</td>\n",
       "      <td>2021-09-08 09:53:20.129364917</td>\n",
       "      <td>C1693925346</td>\n",
       "      <td>M348934600</td>\n",
       "      <td>cef0c51a6af84fd980cbf8946a0bb026</td>\n",
       "    </tr>\n",
       "    <tr>\n",
       "      <th>402162</th>\n",
       "      <td>127</td>\n",
       "      <td>6</td>\n",
       "      <td>F</td>\n",
       "      <td>28007</td>\n",
       "      <td>28007</td>\n",
       "      <td>es_transportation</td>\n",
       "      <td>34.92</td>\n",
       "      <td>0</td>\n",
       "      <td>2021-09-09 07:05:15.134547987</td>\n",
       "      <td>C1465725042</td>\n",
       "      <td>M348934600</td>\n",
       "      <td>e23354e7b93349ce841a0fb6879ed13b</td>\n",
       "    </tr>\n",
       "  </tbody>\n",
       "</table>\n",
       "</div>"
      ],
      "text/plain": [
       "        step age gender  zipcodeOri  zipMerchant           category  amount  \\\n",
       "102145    37   4      F       28007        28007  es_transportation    5.20   \n",
       "184215    63   5      M       28007        28007  es_transportation    5.04   \n",
       "29190     11   2      M       28007        28007  es_transportation    2.31   \n",
       "43871     16   4      F       28007        28007  es_transportation   42.65   \n",
       "402162   127   6      F       28007        28007  es_transportation   34.92   \n",
       "\n",
       "        fraud                     timestamp       source       target  \\\n",
       "102145      0 2021-09-09 07:58:17.482607044   C559952121  M1823072687   \n",
       "184215      0 2021-09-09 10:51:42.813273856   C442137737   M348934600   \n",
       "29190       0 2021-09-09 06:16:18.501963568   C855082400   M348934600   \n",
       "43871       0 2021-09-08 09:53:20.129364917  C1693925346   M348934600   \n",
       "402162      0 2021-09-09 07:05:15.134547987  C1465725042   M348934600   \n",
       "\n",
       "                                  device  \n",
       "102145  9e85eb0ade9c4813b38e2087dffad384  \n",
       "184215  856a6e236eeb44c989bbfa42fface657  \n",
       "29190   de4e38fa167942229cdb219f0b684502  \n",
       "43871   cef0c51a6af84fd980cbf8946a0bb026  \n",
       "402162  e23354e7b93349ce841a0fb6879ed13b  "
      ]
     },
     "metadata": {},
     "execution_count": 3
    }
   ],
   "metadata": {}
  },
  {
   "cell_type": "markdown",
   "source": [
    "### Build and run the pipeline"
   ],
   "metadata": {}
  },
  {
   "cell_type": "code",
   "execution_count": 4,
   "source": [
    "# Import MLRun's Feature Store\n",
    "import mlrun.feature_store as fstore\n",
    "from mlrun.feature_store.steps import OneHotEncoder, MapValues, DateExtractor"
   ],
   "outputs": [],
   "metadata": {}
  },
  {
   "cell_type": "markdown",
   "source": [
    "Create the FeatureSet (data pipeline) definition for the **credit transaction processing** which describes the offline/online data transformations and aggregations.<br>\n",
    "The feature store will automatically add an offline `parquet` target and an online `NoSQL` target by using `set_targets()`.\n",
    "\n",
    "The data pipeline consists of:\n",
    "\n",
    "* **Extracting** the data components (hour, day of week)\n",
    "* **Mapping** the age values\n",
    "* **One hot encoding** for the transaction category and the gender\n",
    "* **Aggregating** the amount (avg, sum, count, max over 2/12/24 hour time windows)\n",
    "* **Aggregating** the transactions per category (over 14 days time windows)\n",
    "* **Writing** the results to **offline** (Parquet) and **online** (NoSQL) targets "
   ],
   "metadata": {}
  },
  {
   "cell_type": "code",
   "execution_count": 5,
   "source": [
    "# Define and add value mapping\n",
    "main_categories = [\"es_transportation\", \"es_health\", \"es_otherservices\",\n",
    "       \"es_food\", \"es_hotelservices\", \"es_barsandrestaurants\",\n",
    "       \"es_tech\", \"es_sportsandtoys\", \"es_wellnessandbeauty\",\n",
    "       \"es_hyper\", \"es_fashion\", \"es_home\", \"es_contents\",\n",
    "       \"es_travel\", \"es_leisure\"]\n",
    "\n",
    "# One Hot Encode the newly defined mappings\n",
    "one_hot_encoder_mapping = {'category': main_categories,\n",
    "                           'gender': list(data.gender.unique())}"
   ],
   "outputs": [],
   "metadata": {}
  },
  {
   "cell_type": "code",
   "execution_count": 6,
   "source": [
    "# Define the transactions FeatureSet\n",
    "transaction_set = fstore.FeatureSet(\"transactions\", \n",
    "                                 entities=[fstore.Entity(\"source\")], \n",
    "                                 timestamp_key='timestamp', \n",
    "                                 description=\"transactions feature set\")\n",
    "\n",
    "# Define the graph steps\n",
    "transaction_set.graph\\\n",
    "    .to(DateExtractor(parts = ['hour', 'day_of_week'], timestamp_col = 'timestamp'))\\\n",
    "    .to(MapValues(mapping={'age': {'U': '0'}}, with_original_features=True))\\\n",
    "    .to(OneHotEncoder(mapping=one_hot_encoder_mapping))\n",
    "\n",
    "\n",
    "# Add aggregations for 2, 12, and 24 hour time windows\n",
    "transaction_set.add_aggregation(name='amount',\n",
    "                                column='amount',\n",
    "                                operations=['avg','sum', 'count','max'],\n",
    "                                windows=['2h', '12h', '24h'],\n",
    "                                period='1h')\n",
    "\n",
    "\n",
    "# Add the category aggregations over a 14 day window\n",
    "for category in main_categories:\n",
    "    transaction_set.add_aggregation(name=category,column=f'category_{category}',\n",
    "                                    operations=['count'], windows=['14d'], period='1d')\n",
    "\n",
    "# Add default (offline-parquet & online-nosql) targets\n",
    "transaction_set.set_targets()\n",
    "\n",
    "# Plot the pipeline so we can see the different steps\n",
    "transaction_set.plot(rankdir=\"LR\", with_targets=True)"
   ],
   "outputs": [
    {
     "output_type": "execute_result",
     "data": {
      "image/svg+xml": "<?xml version=\"1.0\" encoding=\"UTF-8\" standalone=\"no\"?>\n<!DOCTYPE svg PUBLIC \"-//W3C//DTD SVG 1.1//EN\"\n \"http://www.w3.org/Graphics/SVG/1.1/DTD/svg11.dtd\">\n<!-- Generated by graphviz version 2.40.1 (20161225.0304)\n -->\n<!-- Title: mlrun&#45;flow Pages: 1 -->\n<svg width=\"911pt\" height=\"98pt\"\n viewBox=\"0.00 0.00 911.35 98.00\" xmlns=\"http://www.w3.org/2000/svg\" xmlns:xlink=\"http://www.w3.org/1999/xlink\">\n<g id=\"graph0\" class=\"graph\" transform=\"scale(1 1) rotate(0) translate(4 94)\">\n<title>mlrun&#45;flow</title>\n<polygon fill=\"#ffffff\" stroke=\"transparent\" points=\"-4,4 -4,-94 907.3476,-94 907.3476,4 -4,4\"/>\n<!-- _start -->\n<g id=\"node1\" class=\"node\">\n<title>_start</title>\n<polygon fill=\"#d3d3d3\" stroke=\"#000000\" points=\"38.5476,-27.0493 40.698,-27.1479 42.8263,-27.2953 44.9236,-27.4913 46.9815,-27.7353 48.9917,-28.0266 50.9463,-28.3645 52.8377,-28.7479 54.6587,-29.1759 56.4025,-29.6472 58.0628,-30.1606 59.634,-30.7147 61.1107,-31.308 62.4882,-31.9388 63.7625,-32.6054 64.9302,-33.3059 65.9882,-34.0385 66.9343,-34.8012 67.7669,-35.5918 68.4849,-36.4082 69.0878,-37.2481 69.5758,-38.1093 69.9496,-38.9894 70.2102,-39.886 70.3595,-40.7965 70.3997,-41.7186 70.3334,-42.6497 70.1636,-43.5873 69.8937,-44.5287 69.5276,-45.4713 69.0691,-46.4127 68.5225,-47.3503 67.8923,-48.2814 67.1831,-49.2035 66.3996,-50.114 65.5464,-51.0106 64.6285,-51.8907 63.6504,-52.7519 62.617,-53.5918 61.5329,-54.4082 60.4024,-55.1988 59.2299,-55.9615 58.0197,-56.6941 56.7755,-57.3946 55.5012,-58.0612 54.2002,-58.692 52.8757,-59.2853 51.5309,-59.8394 50.1684,-60.3528 48.7908,-60.8241 47.4003,-61.2521 45.9989,-61.6355 44.5886,-61.9734 43.1708,-62.2647 41.7472,-62.5087 40.3189,-62.7047 38.8872,-62.8521 37.4531,-62.9507 36.0175,-63 34.5815,-63 33.146,-62.9507 31.7119,-62.8521 30.2801,-62.7047 28.8519,-62.5087 27.4282,-62.2647 26.0105,-61.9734 24.6001,-61.6355 23.1988,-61.2521 21.8083,-60.8241 20.4306,-60.3528 19.0681,-59.8394 17.7233,-59.2853 16.3989,-58.692 15.0979,-58.0612 13.8236,-57.3946 12.5794,-56.6941 11.3691,-55.9615 10.1967,-55.1988 9.0662,-54.4082 7.982,-53.5918 6.9486,-52.7519 5.9706,-51.8907 5.0526,-51.0106 4.1995,-50.114 3.4159,-49.2035 2.7067,-48.2814 2.0765,-47.3503 1.53,-46.4127 1.0715,-45.4713 .7053,-44.5287 .4355,-43.5873 .2657,-42.6497 .1993,-41.7186 .2395,-40.7965 .3888,-39.886 .6495,-38.9894 1.0232,-38.1093 1.5112,-37.2481 2.1141,-36.4082 2.8321,-35.5918 3.6647,-34.8012 4.6109,-34.0385 5.6689,-33.3059 6.8365,-32.6054 8.1108,-31.9388 9.4884,-31.308 10.9651,-30.7147 12.5362,-30.1606 14.1966,-29.6472 15.9404,-29.1759 17.7614,-28.7479 19.6528,-28.3645 21.6074,-28.0266 23.6176,-27.7353 25.6755,-27.4913 27.7728,-27.2953 29.901,-27.1479 32.0515,-27.0493 34.2154,-27 36.3837,-27 38.5476,-27.0493\"/>\n<text text-anchor=\"middle\" x=\"35.2995\" y=\"-41.3\" font-family=\"Times,serif\" font-size=\"14.00\" fill=\"#000000\">start</text>\n</g>\n<!-- DateExtractor -->\n<g id=\"node2\" class=\"node\">\n<title>DateExtractor</title>\n<ellipse fill=\"none\" stroke=\"#000000\" cx=\"183.9422\" cy=\"-45\" rx=\"77.1866\" ry=\"18\"/>\n<text text-anchor=\"middle\" x=\"183.9422\" y=\"-41.3\" font-family=\"Times,serif\" font-size=\"14.00\" fill=\"#000000\">DateExtractor</text>\n</g>\n<!-- _start&#45;&gt;DateExtractor -->\n<g id=\"edge1\" class=\"edge\">\n<title>_start&#45;&gt;DateExtractor</title>\n<path fill=\"none\" stroke=\"#000000\" d=\"M69.7748,-45C77.8994,-45 86.9261,-45 96.2428,-45\"/>\n<polygon fill=\"#000000\" stroke=\"#000000\" points=\"96.4373,-48.5001 106.4373,-45 96.4373,-41.5001 96.4373,-48.5001\"/>\n</g>\n<!-- MapValues -->\n<g id=\"node3\" class=\"node\">\n<title>MapValues</title>\n<ellipse fill=\"none\" stroke=\"#000000\" cx=\"359.0298\" cy=\"-45\" rx=\"61.99\" ry=\"18\"/>\n<text text-anchor=\"middle\" x=\"359.0298\" y=\"-41.3\" font-family=\"Times,serif\" font-size=\"14.00\" fill=\"#000000\">MapValues</text>\n</g>\n<!-- DateExtractor&#45;&gt;MapValues -->\n<g id=\"edge2\" class=\"edge\">\n<title>DateExtractor&#45;&gt;MapValues</title>\n<path fill=\"none\" stroke=\"#000000\" d=\"M261.5028,-45C269.9567,-45 278.5363,-45 286.9209,-45\"/>\n<polygon fill=\"#000000\" stroke=\"#000000\" points=\"287.0301,-48.5001 297.03,-45 287.03,-41.5001 287.0301,-48.5001\"/>\n</g>\n<!-- OneHotEncoder -->\n<g id=\"node4\" class=\"node\">\n<title>OneHotEncoder</title>\n<ellipse fill=\"none\" stroke=\"#000000\" cx=\"543.2167\" cy=\"-45\" rx=\"86.3847\" ry=\"18\"/>\n<text text-anchor=\"middle\" x=\"543.2167\" y=\"-41.3\" font-family=\"Times,serif\" font-size=\"14.00\" fill=\"#000000\">OneHotEncoder</text>\n</g>\n<!-- MapValues&#45;&gt;OneHotEncoder -->\n<g id=\"edge3\" class=\"edge\">\n<title>MapValues&#45;&gt;OneHotEncoder</title>\n<path fill=\"none\" stroke=\"#000000\" d=\"M420.8738,-45C429.1365,-45 437.7646,-45 446.4483,-45\"/>\n<polygon fill=\"#000000\" stroke=\"#000000\" points=\"446.6492,-48.5001 456.6492,-45 446.6492,-41.5001 446.6492,-48.5001\"/>\n</g>\n<!-- Aggregates -->\n<g id=\"node5\" class=\"node\">\n<title>Aggregates</title>\n<ellipse fill=\"none\" stroke=\"#000000\" cx=\"730.0033\" cy=\"-45\" rx=\"64.189\" ry=\"18\"/>\n<text text-anchor=\"middle\" x=\"730.0033\" y=\"-41.3\" font-family=\"Times,serif\" font-size=\"14.00\" fill=\"#000000\">Aggregates</text>\n</g>\n<!-- OneHotEncoder&#45;&gt;Aggregates -->\n<g id=\"edge4\" class=\"edge\">\n<title>OneHotEncoder&#45;&gt;Aggregates</title>\n<path fill=\"none\" stroke=\"#000000\" d=\"M629.7751,-45C638.3235,-45 646.9487,-45 655.3621,-45\"/>\n<polygon fill=\"#000000\" stroke=\"#000000\" points=\"655.5003,-48.5001 665.5003,-45 655.5002,-41.5001 655.5003,-48.5001\"/>\n</g>\n<!-- parquet -->\n<g id=\"node6\" class=\"node\">\n<title>parquet</title>\n<path fill=\"none\" stroke=\"#000000\" d=\"M903.3476,-86.7273C903.3476,-88.5331 886.9877,-90 866.8476,-90 846.7075,-90 830.3476,-88.5331 830.3476,-86.7273 830.3476,-86.7273 830.3476,-57.2727 830.3476,-57.2727 830.3476,-55.4669 846.7075,-54 866.8476,-54 886.9877,-54 903.3476,-55.4669 903.3476,-57.2727 903.3476,-57.2727 903.3476,-86.7273 903.3476,-86.7273\"/>\n<path fill=\"none\" stroke=\"#000000\" d=\"M903.3476,-86.7273C903.3476,-84.9214 886.9877,-83.4545 866.8476,-83.4545 846.7075,-83.4545 830.3476,-84.9214 830.3476,-86.7273\"/>\n<text text-anchor=\"middle\" x=\"866.8476\" y=\"-68.3\" font-family=\"Times,serif\" font-size=\"14.00\" fill=\"#000000\">parquet</text>\n</g>\n<!-- Aggregates&#45;&gt;parquet -->\n<g id=\"edge5\" class=\"edge\">\n<title>Aggregates&#45;&gt;parquet</title>\n<path fill=\"none\" stroke=\"#000000\" d=\"M782.9109,-55.4389C795.2502,-57.8735 808.3001,-60.4483 820.3382,-62.8235\"/>\n<polygon fill=\"#000000\" stroke=\"#000000\" points=\"819.6861,-66.2622 830.1744,-64.7642 821.0411,-59.3946 819.6861,-66.2622\"/>\n</g>\n<!-- nosql -->\n<g id=\"node7\" class=\"node\">\n<title>nosql</title>\n<path fill=\"none\" stroke=\"#000000\" d=\"M894.3476,-32.7273C894.3476,-34.5331 882.0217,-36 866.8476,-36 851.6735,-36 839.3476,-34.5331 839.3476,-32.7273 839.3476,-32.7273 839.3476,-3.2727 839.3476,-3.2727 839.3476,-1.4669 851.6735,0 866.8476,0 882.0217,0 894.3476,-1.4669 894.3476,-3.2727 894.3476,-3.2727 894.3476,-32.7273 894.3476,-32.7273\"/>\n<path fill=\"none\" stroke=\"#000000\" d=\"M894.3476,-32.7273C894.3476,-30.9214 882.0217,-29.4545 866.8476,-29.4545 851.6735,-29.4545 839.3476,-30.9214 839.3476,-32.7273\"/>\n<text text-anchor=\"middle\" x=\"866.8476\" y=\"-14.3\" font-family=\"Times,serif\" font-size=\"14.00\" fill=\"#000000\">nosql</text>\n</g>\n<!-- Aggregates&#45;&gt;nosql -->\n<g id=\"edge6\" class=\"edge\">\n<title>Aggregates&#45;&gt;nosql</title>\n<path fill=\"none\" stroke=\"#000000\" d=\"M782.9109,-34.5611C798.4043,-31.5042 815.0181,-28.2262 829.3426,-25.3999\"/>\n<polygon fill=\"#000000\" stroke=\"#000000\" points=\"830.1864,-28.801 839.3197,-23.4314 828.8313,-21.9334 830.1864,-28.801\"/>\n</g>\n</g>\n</svg>\n",
      "text/plain": [
       "<graphviz.dot.Digraph at 0x7f2fc27d11d0>"
      ]
     },
     "metadata": {},
     "execution_count": 6
    }
   ],
   "metadata": {}
  },
  {
   "cell_type": "markdown",
   "source": [
    "**Ingest the data to the feature store and view the transformed data:**"
   ],
   "metadata": {}
  },
  {
   "cell_type": "code",
   "execution_count": 7,
   "source": [
    "# Use our dataframe as datasource and ingest it through our previously defined pipeline\n",
    "resp = fstore.ingest(transaction_set, data, \n",
    "                 infer_options=fstore.InferOptions.default())\n",
    "\n",
    "resp.head()"
   ],
   "outputs": [
    {
     "output_type": "execute_result",
     "data": {
      "text/html": [
       "<div>\n",
       "<style scoped>\n",
       "    .dataframe tbody tr th:only-of-type {\n",
       "        vertical-align: middle;\n",
       "    }\n",
       "\n",
       "    .dataframe tbody tr th {\n",
       "        vertical-align: top;\n",
       "    }\n",
       "\n",
       "    .dataframe thead th {\n",
       "        text-align: right;\n",
       "    }\n",
       "</style>\n",
       "<table border=\"1\" class=\"dataframe\">\n",
       "  <thead>\n",
       "    <tr style=\"text-align: right;\">\n",
       "      <th></th>\n",
       "      <th>amount_max_2h</th>\n",
       "      <th>amount_max_12h</th>\n",
       "      <th>amount_max_24h</th>\n",
       "      <th>amount_count_2h</th>\n",
       "      <th>amount_count_12h</th>\n",
       "      <th>amount_count_24h</th>\n",
       "      <th>amount_sum_2h</th>\n",
       "      <th>amount_sum_12h</th>\n",
       "      <th>amount_sum_24h</th>\n",
       "      <th>amount_avg_2h</th>\n",
       "      <th>...</th>\n",
       "      <th>category_es_contents</th>\n",
       "      <th>category_es_travel</th>\n",
       "      <th>category_es_leisure</th>\n",
       "      <th>amount</th>\n",
       "      <th>fraud</th>\n",
       "      <th>timestamp</th>\n",
       "      <th>target</th>\n",
       "      <th>device</th>\n",
       "      <th>timestamp_hour</th>\n",
       "      <th>timestamp_day_of_week</th>\n",
       "    </tr>\n",
       "    <tr>\n",
       "      <th>source</th>\n",
       "      <th></th>\n",
       "      <th></th>\n",
       "      <th></th>\n",
       "      <th></th>\n",
       "      <th></th>\n",
       "      <th></th>\n",
       "      <th></th>\n",
       "      <th></th>\n",
       "      <th></th>\n",
       "      <th></th>\n",
       "      <th></th>\n",
       "      <th></th>\n",
       "      <th></th>\n",
       "      <th></th>\n",
       "      <th></th>\n",
       "      <th></th>\n",
       "      <th></th>\n",
       "      <th></th>\n",
       "      <th></th>\n",
       "      <th></th>\n",
       "      <th></th>\n",
       "    </tr>\n",
       "  </thead>\n",
       "  <tbody>\n",
       "    <tr>\n",
       "      <th>C559952121</th>\n",
       "      <td>5.20</td>\n",
       "      <td>5.20</td>\n",
       "      <td>5.20</td>\n",
       "      <td>1.0</td>\n",
       "      <td>1.0</td>\n",
       "      <td>1.0</td>\n",
       "      <td>5.20</td>\n",
       "      <td>5.20</td>\n",
       "      <td>5.20</td>\n",
       "      <td>5.20</td>\n",
       "      <td>...</td>\n",
       "      <td>0</td>\n",
       "      <td>0</td>\n",
       "      <td>0</td>\n",
       "      <td>5.20</td>\n",
       "      <td>0</td>\n",
       "      <td>2021-09-09 07:58:17.482607044</td>\n",
       "      <td>M1823072687</td>\n",
       "      <td>9e85eb0ade9c4813b38e2087dffad384</td>\n",
       "      <td>7</td>\n",
       "      <td>3</td>\n",
       "    </tr>\n",
       "    <tr>\n",
       "      <th>C442137737</th>\n",
       "      <td>5.04</td>\n",
       "      <td>5.04</td>\n",
       "      <td>5.04</td>\n",
       "      <td>1.0</td>\n",
       "      <td>1.0</td>\n",
       "      <td>1.0</td>\n",
       "      <td>5.04</td>\n",
       "      <td>5.04</td>\n",
       "      <td>5.04</td>\n",
       "      <td>5.04</td>\n",
       "      <td>...</td>\n",
       "      <td>0</td>\n",
       "      <td>0</td>\n",
       "      <td>0</td>\n",
       "      <td>5.04</td>\n",
       "      <td>0</td>\n",
       "      <td>2021-09-09 10:51:42.813273856</td>\n",
       "      <td>M348934600</td>\n",
       "      <td>856a6e236eeb44c989bbfa42fface657</td>\n",
       "      <td>10</td>\n",
       "      <td>3</td>\n",
       "    </tr>\n",
       "    <tr>\n",
       "      <th>C855082400</th>\n",
       "      <td>2.31</td>\n",
       "      <td>2.31</td>\n",
       "      <td>2.31</td>\n",
       "      <td>1.0</td>\n",
       "      <td>1.0</td>\n",
       "      <td>1.0</td>\n",
       "      <td>2.31</td>\n",
       "      <td>2.31</td>\n",
       "      <td>2.31</td>\n",
       "      <td>2.31</td>\n",
       "      <td>...</td>\n",
       "      <td>0</td>\n",
       "      <td>0</td>\n",
       "      <td>0</td>\n",
       "      <td>2.31</td>\n",
       "      <td>0</td>\n",
       "      <td>2021-09-09 06:16:18.501963568</td>\n",
       "      <td>M348934600</td>\n",
       "      <td>de4e38fa167942229cdb219f0b684502</td>\n",
       "      <td>6</td>\n",
       "      <td>3</td>\n",
       "    </tr>\n",
       "    <tr>\n",
       "      <th>C1693925346</th>\n",
       "      <td>42.65</td>\n",
       "      <td>42.65</td>\n",
       "      <td>42.65</td>\n",
       "      <td>1.0</td>\n",
       "      <td>1.0</td>\n",
       "      <td>1.0</td>\n",
       "      <td>42.65</td>\n",
       "      <td>42.65</td>\n",
       "      <td>42.65</td>\n",
       "      <td>42.65</td>\n",
       "      <td>...</td>\n",
       "      <td>0</td>\n",
       "      <td>0</td>\n",
       "      <td>0</td>\n",
       "      <td>42.65</td>\n",
       "      <td>0</td>\n",
       "      <td>2021-09-08 09:53:20.129364917</td>\n",
       "      <td>M348934600</td>\n",
       "      <td>cef0c51a6af84fd980cbf8946a0bb026</td>\n",
       "      <td>9</td>\n",
       "      <td>2</td>\n",
       "    </tr>\n",
       "    <tr>\n",
       "      <th>C1465725042</th>\n",
       "      <td>34.92</td>\n",
       "      <td>34.92</td>\n",
       "      <td>34.92</td>\n",
       "      <td>1.0</td>\n",
       "      <td>1.0</td>\n",
       "      <td>1.0</td>\n",
       "      <td>34.92</td>\n",
       "      <td>34.92</td>\n",
       "      <td>34.92</td>\n",
       "      <td>34.92</td>\n",
       "      <td>...</td>\n",
       "      <td>0</td>\n",
       "      <td>0</td>\n",
       "      <td>0</td>\n",
       "      <td>34.92</td>\n",
       "      <td>0</td>\n",
       "      <td>2021-09-09 07:05:15.134547987</td>\n",
       "      <td>M348934600</td>\n",
       "      <td>e23354e7b93349ce841a0fb6879ed13b</td>\n",
       "      <td>7</td>\n",
       "      <td>3</td>\n",
       "    </tr>\n",
       "  </tbody>\n",
       "</table>\n",
       "<p>5 rows × 58 columns</p>\n",
       "</div>"
      ],
      "text/plain": [
       "             amount_max_2h  amount_max_12h  amount_max_24h  amount_count_2h  \\\n",
       "source                                                                        \n",
       "C559952121            5.20            5.20            5.20              1.0   \n",
       "C442137737            5.04            5.04            5.04              1.0   \n",
       "C855082400            2.31            2.31            2.31              1.0   \n",
       "C1693925346          42.65           42.65           42.65              1.0   \n",
       "C1465725042          34.92           34.92           34.92              1.0   \n",
       "\n",
       "             amount_count_12h  amount_count_24h  amount_sum_2h  \\\n",
       "source                                                           \n",
       "C559952121                1.0               1.0           5.20   \n",
       "C442137737                1.0               1.0           5.04   \n",
       "C855082400                1.0               1.0           2.31   \n",
       "C1693925346               1.0               1.0          42.65   \n",
       "C1465725042               1.0               1.0          34.92   \n",
       "\n",
       "             amount_sum_12h  amount_sum_24h  amount_avg_2h  ...  \\\n",
       "source                                                      ...   \n",
       "C559952121             5.20            5.20           5.20  ...   \n",
       "C442137737             5.04            5.04           5.04  ...   \n",
       "C855082400             2.31            2.31           2.31  ...   \n",
       "C1693925346           42.65           42.65          42.65  ...   \n",
       "C1465725042           34.92           34.92          34.92  ...   \n",
       "\n",
       "             category_es_contents  category_es_travel  category_es_leisure  \\\n",
       "source                                                                       \n",
       "C559952121                      0                   0                    0   \n",
       "C442137737                      0                   0                    0   \n",
       "C855082400                      0                   0                    0   \n",
       "C1693925346                     0                   0                    0   \n",
       "C1465725042                     0                   0                    0   \n",
       "\n",
       "             amount  fraud                     timestamp       target  \\\n",
       "source                                                                  \n",
       "C559952121     5.20      0 2021-09-09 07:58:17.482607044  M1823072687   \n",
       "C442137737     5.04      0 2021-09-09 10:51:42.813273856   M348934600   \n",
       "C855082400     2.31      0 2021-09-09 06:16:18.501963568   M348934600   \n",
       "C1693925346   42.65      0 2021-09-08 09:53:20.129364917   M348934600   \n",
       "C1465725042   34.92      0 2021-09-09 07:05:15.134547987   M348934600   \n",
       "\n",
       "                                       device  timestamp_hour  \\\n",
       "source                                                          \n",
       "C559952121   9e85eb0ade9c4813b38e2087dffad384               7   \n",
       "C442137737   856a6e236eeb44c989bbfa42fface657              10   \n",
       "C855082400   de4e38fa167942229cdb219f0b684502               6   \n",
       "C1693925346  cef0c51a6af84fd980cbf8946a0bb026               9   \n",
       "C1465725042  e23354e7b93349ce841a0fb6879ed13b               7   \n",
       "\n",
       "             timestamp_day_of_week  \n",
       "source                              \n",
       "C559952121                       3  \n",
       "C442137737                       3  \n",
       "C855082400                       3  \n",
       "C1693925346                      2  \n",
       "C1465725042                      3  \n",
       "\n",
       "[5 rows x 58 columns]"
      ]
     },
     "metadata": {},
     "execution_count": 7
    }
   ],
   "metadata": {}
  },
  {
   "cell_type": "markdown",
   "source": [
    "## Define and Ingest the User Events Feature Set\n",
    "\n",
    "This feature set will contain all the user events related to the platform such as account logins, details or password change.\n",
    "\n",
    "The first step will be to load our publicly available dataset:"
   ],
   "metadata": {}
  },
  {
   "cell_type": "code",
   "execution_count": 8,
   "source": [
    "# Load the events dataset\n",
    "events = pd.read_csv('https://s3.wasabisys.com/iguazio/data/fraud-demo-mlrun-fs-docs/events.csv', index_col=0, quotechar=\"\\'\", parse_dates=['timestamp'])\n",
    "\n",
    "# Adjust to the last 2 days to see the latest aggregations in our online feature vectors\n",
    "events = adjust_data_timespan(events, new_period='2d')\n",
    "events.head()"
   ],
   "outputs": [
    {
     "output_type": "execute_result",
     "data": {
      "text/html": [
       "<div>\n",
       "<style scoped>\n",
       "    .dataframe tbody tr th:only-of-type {\n",
       "        vertical-align: middle;\n",
       "    }\n",
       "\n",
       "    .dataframe tbody tr th {\n",
       "        vertical-align: top;\n",
       "    }\n",
       "\n",
       "    .dataframe thead th {\n",
       "        text-align: right;\n",
       "    }\n",
       "</style>\n",
       "<table border=\"1\" class=\"dataframe\">\n",
       "  <thead>\n",
       "    <tr style=\"text-align: right;\">\n",
       "      <th></th>\n",
       "      <th>source</th>\n",
       "      <th>event</th>\n",
       "      <th>timestamp</th>\n",
       "    </tr>\n",
       "  </thead>\n",
       "  <tbody>\n",
       "    <tr>\n",
       "      <th>0</th>\n",
       "      <td>C1974668487</td>\n",
       "      <td>details_change</td>\n",
       "      <td>2021-09-09 10:36:38.729594086</td>\n",
       "    </tr>\n",
       "    <tr>\n",
       "      <th>1</th>\n",
       "      <td>C1973547259</td>\n",
       "      <td>login</td>\n",
       "      <td>2021-09-09 13:38:12.986734508</td>\n",
       "    </tr>\n",
       "    <tr>\n",
       "      <th>2</th>\n",
       "      <td>C515668508</td>\n",
       "      <td>login</td>\n",
       "      <td>2021-09-09 10:11:19.267911302</td>\n",
       "    </tr>\n",
       "    <tr>\n",
       "      <th>3</th>\n",
       "      <td>C1721541488</td>\n",
       "      <td>details_change</td>\n",
       "      <td>2021-09-09 12:18:49.377128221</td>\n",
       "    </tr>\n",
       "    <tr>\n",
       "      <th>4</th>\n",
       "      <td>C394979408</td>\n",
       "      <td>password_change</td>\n",
       "      <td>2021-09-09 13:56:37.424551667</td>\n",
       "    </tr>\n",
       "  </tbody>\n",
       "</table>\n",
       "</div>"
      ],
      "text/plain": [
       "        source            event                     timestamp\n",
       "0  C1974668487   details_change 2021-09-09 10:36:38.729594086\n",
       "1  C1973547259            login 2021-09-09 13:38:12.986734508\n",
       "2   C515668508            login 2021-09-09 10:11:19.267911302\n",
       "3  C1721541488   details_change 2021-09-09 12:18:49.377128221\n",
       "4   C394979408  password_change 2021-09-09 13:56:37.424551667"
      ]
     },
     "metadata": {},
     "execution_count": 8
    }
   ],
   "metadata": {}
  },
  {
   "cell_type": "markdown",
   "source": [
    "### Build the events feature set and ingest data\n",
    "\n",
    "Now we will define the events feature set.\n",
    "This is a pretty straight forward pipeline in which we only one hot encode the event categories and save the data to the default targets."
   ],
   "metadata": {}
  },
  {
   "cell_type": "code",
   "execution_count": 9,
   "source": [
    "events_set = fstore.FeatureSet(\"events\",\n",
    "                           entities=[fstore.Entity(\"source\")],\n",
    "                           timestamp_key='timestamp', \n",
    "                           description=\"events feature set\")\n",
    "\n",
    "# Define and add value mapping\n",
    "events_mapping = {'event': list(events.event.unique())}\n",
    "\n",
    "# One Hot Encode\n",
    "events_set.graph.to(OneHotEncoder(mapping=events_mapping), name='encode_event_types')\n",
    "\n",
    "events_set.set_targets()\n",
    "events_set.plot(rankdir=\"LR\", with_targets=True)"
   ],
   "outputs": [
    {
     "output_type": "execute_result",
     "data": {
      "image/svg+xml": "<?xml version=\"1.0\" encoding=\"UTF-8\" standalone=\"no\"?>\n<!DOCTYPE svg PUBLIC \"-//W3C//DTD SVG 1.1//EN\"\n \"http://www.w3.org/Graphics/SVG/1.1/DTD/svg11.dtd\">\n<!-- Generated by graphviz version 2.40.1 (20161225.0304)\n -->\n<!-- Title: mlrun&#45;flow Pages: 1 -->\n<svg width=\"433pt\" height=\"98pt\"\n viewBox=\"0.00 0.00 432.88 98.00\" xmlns=\"http://www.w3.org/2000/svg\" xmlns:xlink=\"http://www.w3.org/1999/xlink\">\n<g id=\"graph0\" class=\"graph\" transform=\"scale(1 1) rotate(0) translate(4 94)\">\n<title>mlrun&#45;flow</title>\n<polygon fill=\"#ffffff\" stroke=\"transparent\" points=\"-4,4 -4,-94 428.8805,-94 428.8805,4 -4,4\"/>\n<!-- _start -->\n<g id=\"node1\" class=\"node\">\n<title>_start</title>\n<polygon fill=\"#d3d3d3\" stroke=\"#000000\" points=\"38.5476,-27.0493 40.698,-27.1479 42.8263,-27.2953 44.9236,-27.4913 46.9815,-27.7353 48.9917,-28.0266 50.9463,-28.3645 52.8377,-28.7479 54.6587,-29.1759 56.4025,-29.6472 58.0628,-30.1606 59.634,-30.7147 61.1107,-31.308 62.4882,-31.9388 63.7625,-32.6054 64.9302,-33.3059 65.9882,-34.0385 66.9343,-34.8012 67.7669,-35.5918 68.4849,-36.4082 69.0878,-37.2481 69.5758,-38.1093 69.9496,-38.9894 70.2102,-39.886 70.3595,-40.7965 70.3997,-41.7186 70.3334,-42.6497 70.1636,-43.5873 69.8937,-44.5287 69.5276,-45.4713 69.0691,-46.4127 68.5225,-47.3503 67.8923,-48.2814 67.1831,-49.2035 66.3996,-50.114 65.5464,-51.0106 64.6285,-51.8907 63.6504,-52.7519 62.617,-53.5918 61.5329,-54.4082 60.4024,-55.1988 59.2299,-55.9615 58.0197,-56.6941 56.7755,-57.3946 55.5012,-58.0612 54.2002,-58.692 52.8757,-59.2853 51.5309,-59.8394 50.1684,-60.3528 48.7908,-60.8241 47.4003,-61.2521 45.9989,-61.6355 44.5886,-61.9734 43.1708,-62.2647 41.7472,-62.5087 40.3189,-62.7047 38.8872,-62.8521 37.4531,-62.9507 36.0175,-63 34.5815,-63 33.146,-62.9507 31.7119,-62.8521 30.2801,-62.7047 28.8519,-62.5087 27.4282,-62.2647 26.0105,-61.9734 24.6001,-61.6355 23.1988,-61.2521 21.8083,-60.8241 20.4306,-60.3528 19.0681,-59.8394 17.7233,-59.2853 16.3989,-58.692 15.0979,-58.0612 13.8236,-57.3946 12.5794,-56.6941 11.3691,-55.9615 10.1967,-55.1988 9.0662,-54.4082 7.982,-53.5918 6.9486,-52.7519 5.9706,-51.8907 5.0526,-51.0106 4.1995,-50.114 3.4159,-49.2035 2.7067,-48.2814 2.0765,-47.3503 1.53,-46.4127 1.0715,-45.4713 .7053,-44.5287 .4355,-43.5873 .2657,-42.6497 .1993,-41.7186 .2395,-40.7965 .3888,-39.886 .6495,-38.9894 1.0232,-38.1093 1.5112,-37.2481 2.1141,-36.4082 2.8321,-35.5918 3.6647,-34.8012 4.6109,-34.0385 5.6689,-33.3059 6.8365,-32.6054 8.1108,-31.9388 9.4884,-31.308 10.9651,-30.7147 12.5362,-30.1606 14.1966,-29.6472 15.9404,-29.1759 17.7614,-28.7479 19.6528,-28.3645 21.6074,-28.0266 23.6176,-27.7353 25.6755,-27.4913 27.7728,-27.2953 29.901,-27.1479 32.0515,-27.0493 34.2154,-27 36.3837,-27 38.5476,-27.0493\"/>\n<text text-anchor=\"middle\" x=\"35.2995\" y=\"-41.3\" font-family=\"Times,serif\" font-size=\"14.00\" fill=\"#000000\">start</text>\n</g>\n<!-- encode_event_types -->\n<g id=\"node2\" class=\"node\">\n<title>encode_event_types</title>\n<ellipse fill=\"none\" stroke=\"#000000\" cx=\"211.2398\" cy=\"-45\" rx=\"104.7816\" ry=\"18\"/>\n<text text-anchor=\"middle\" x=\"211.2398\" y=\"-41.3\" font-family=\"Times,serif\" font-size=\"14.00\" fill=\"#000000\">encode_event_types</text>\n</g>\n<!-- _start&#45;&gt;encode_event_types -->\n<g id=\"edge1\" class=\"edge\">\n<title>_start&#45;&gt;encode_event_types</title>\n<path fill=\"none\" stroke=\"#000000\" d=\"M70.0597,-45C78.0024,-45 86.8722,-45 96.1912,-45\"/>\n<polygon fill=\"#000000\" stroke=\"#000000\" points=\"96.457,-48.5001 106.457,-45 96.457,-41.5001 96.457,-48.5001\"/>\n</g>\n<!-- parquet -->\n<g id=\"node3\" class=\"node\">\n<title>parquet</title>\n<path fill=\"none\" stroke=\"#000000\" d=\"M424.8805,-86.7273C424.8805,-88.5331 408.5206,-90 388.3805,-90 368.2404,-90 351.8805,-88.5331 351.8805,-86.7273 351.8805,-86.7273 351.8805,-57.2727 351.8805,-57.2727 351.8805,-55.4669 368.2404,-54 388.3805,-54 408.5206,-54 424.8805,-55.4669 424.8805,-57.2727 424.8805,-57.2727 424.8805,-86.7273 424.8805,-86.7273\"/>\n<path fill=\"none\" stroke=\"#000000\" d=\"M424.8805,-86.7273C424.8805,-84.9214 408.5206,-83.4545 388.3805,-83.4545 368.2404,-83.4545 351.8805,-84.9214 351.8805,-86.7273\"/>\n<text text-anchor=\"middle\" x=\"388.3805\" y=\"-68.3\" font-family=\"Times,serif\" font-size=\"14.00\" fill=\"#000000\">parquet</text>\n</g>\n<!-- encode_event_types&#45;&gt;parquet -->\n<g id=\"edge2\" class=\"edge\">\n<title>encode_event_types&#45;&gt;parquet</title>\n<path fill=\"none\" stroke=\"#000000\" d=\"M289.7098,-56.9605C307.4737,-59.6681 325.7867,-62.4594 341.7403,-64.891\"/>\n<polygon fill=\"#000000\" stroke=\"#000000\" points=\"341.4406,-68.3857 351.8539,-66.4326 342.4955,-61.4656 341.4406,-68.3857\"/>\n</g>\n<!-- nosql -->\n<g id=\"node4\" class=\"node\">\n<title>nosql</title>\n<path fill=\"none\" stroke=\"#000000\" d=\"M415.8805,-32.7273C415.8805,-34.5331 403.5545,-36 388.3805,-36 373.2064,-36 360.8805,-34.5331 360.8805,-32.7273 360.8805,-32.7273 360.8805,-3.2727 360.8805,-3.2727 360.8805,-1.4669 373.2064,0 388.3805,0 403.5545,0 415.8805,-1.4669 415.8805,-3.2727 415.8805,-3.2727 415.8805,-32.7273 415.8805,-32.7273\"/>\n<path fill=\"none\" stroke=\"#000000\" d=\"M415.8805,-32.7273C415.8805,-30.9214 403.5545,-29.4545 388.3805,-29.4545 373.2064,-29.4545 360.8805,-30.9214 360.8805,-32.7273\"/>\n<text text-anchor=\"middle\" x=\"388.3805\" y=\"-14.3\" font-family=\"Times,serif\" font-size=\"14.00\" fill=\"#000000\">nosql</text>\n</g>\n<!-- encode_event_types&#45;&gt;nosql -->\n<g id=\"edge3\" class=\"edge\">\n<title>encode_event_types&#45;&gt;nosql</title>\n<path fill=\"none\" stroke=\"#000000\" d=\"M289.7098,-33.0395C310.9065,-29.8087 332.885,-26.4587 350.7038,-23.7427\"/>\n<polygon fill=\"#000000\" stroke=\"#000000\" points=\"351.3187,-27.1895 360.6772,-22.2226 350.2639,-20.2694 351.3187,-27.1895\"/>\n</g>\n</g>\n</svg>\n",
      "text/plain": [
       "<graphviz.dot.Digraph at 0x7f2fc27bf9d0>"
      ]
     },
     "metadata": {},
     "execution_count": 9
    }
   ],
   "metadata": {}
  },
  {
   "cell_type": "code",
   "execution_count": 10,
   "source": [
    "# Ingestion of our newly created events feature set\n",
    "events_df=fstore.ingest(events_set, events)"
   ],
   "outputs": [],
   "metadata": {}
  },
  {
   "cell_type": "code",
   "execution_count": 11,
   "source": [
    "events_df.head()"
   ],
   "outputs": [
    {
     "output_type": "execute_result",
     "data": {
      "text/html": [
       "<div>\n",
       "<style scoped>\n",
       "    .dataframe tbody tr th:only-of-type {\n",
       "        vertical-align: middle;\n",
       "    }\n",
       "\n",
       "    .dataframe tbody tr th {\n",
       "        vertical-align: top;\n",
       "    }\n",
       "\n",
       "    .dataframe thead th {\n",
       "        text-align: right;\n",
       "    }\n",
       "</style>\n",
       "<table border=\"1\" class=\"dataframe\">\n",
       "  <thead>\n",
       "    <tr style=\"text-align: right;\">\n",
       "      <th></th>\n",
       "      <th>event_details_change</th>\n",
       "      <th>event_login</th>\n",
       "      <th>event_password_change</th>\n",
       "      <th>timestamp</th>\n",
       "    </tr>\n",
       "    <tr>\n",
       "      <th>source</th>\n",
       "      <th></th>\n",
       "      <th></th>\n",
       "      <th></th>\n",
       "      <th></th>\n",
       "    </tr>\n",
       "  </thead>\n",
       "  <tbody>\n",
       "    <tr>\n",
       "      <th>C1974668487</th>\n",
       "      <td>1</td>\n",
       "      <td>0</td>\n",
       "      <td>0</td>\n",
       "      <td>2021-09-09 10:36:38.729594086</td>\n",
       "    </tr>\n",
       "    <tr>\n",
       "      <th>C1973547259</th>\n",
       "      <td>0</td>\n",
       "      <td>1</td>\n",
       "      <td>0</td>\n",
       "      <td>2021-09-09 13:38:12.986734508</td>\n",
       "    </tr>\n",
       "    <tr>\n",
       "      <th>C515668508</th>\n",
       "      <td>0</td>\n",
       "      <td>1</td>\n",
       "      <td>0</td>\n",
       "      <td>2021-09-09 10:11:19.267911302</td>\n",
       "    </tr>\n",
       "    <tr>\n",
       "      <th>C1721541488</th>\n",
       "      <td>1</td>\n",
       "      <td>0</td>\n",
       "      <td>0</td>\n",
       "      <td>2021-09-09 12:18:49.377128221</td>\n",
       "    </tr>\n",
       "    <tr>\n",
       "      <th>C394979408</th>\n",
       "      <td>0</td>\n",
       "      <td>0</td>\n",
       "      <td>1</td>\n",
       "      <td>2021-09-09 13:56:37.424551667</td>\n",
       "    </tr>\n",
       "  </tbody>\n",
       "</table>\n",
       "</div>"
      ],
      "text/plain": [
       "             event_details_change  event_login  event_password_change  \\\n",
       "source                                                                  \n",
       "C1974668487                     1            0                      0   \n",
       "C1973547259                     0            1                      0   \n",
       "C515668508                      0            1                      0   \n",
       "C1721541488                     1            0                      0   \n",
       "C394979408                      0            0                      1   \n",
       "\n",
       "                                timestamp  \n",
       "source                                     \n",
       "C1974668487 2021-09-09 10:36:38.729594086  \n",
       "C1973547259 2021-09-09 13:38:12.986734508  \n",
       "C515668508  2021-09-09 10:11:19.267911302  \n",
       "C1721541488 2021-09-09 12:18:49.377128221  \n",
       "C394979408  2021-09-09 13:56:37.424551667  "
      ]
     },
     "metadata": {},
     "execution_count": 11
    }
   ],
   "metadata": {}
  },
  {
   "cell_type": "markdown",
   "source": [
    "### Create a labels dataset for model training\n",
    "\n",
    "This feature set contains the label for the fraud demo, it will be ingested directly to the default targets without any changes"
   ],
   "metadata": {}
  },
  {
   "cell_type": "code",
   "execution_count": 12,
   "source": [
    "# Define the `labels` feature set\n",
    "labels_set = fstore.FeatureSet(\"labels\", \n",
    "                           entities=[fstore.Entity(\"source\")], \n",
    "                           timestamp_key='timestamp',\n",
    "                           description=\"training labels\",\n",
    "                           engine=\"pandas\")\n",
    "\n",
    "def create_labels(df):\n",
    "    labels = df[['fraud','source','timestamp']].copy()\n",
    "    labels = labels.rename(columns={\"fraud\": \"label\"})\n",
    "    labels['timestamp'] = labels['timestamp'].astype(\"datetime64[ms]\")\n",
    "    labels['label'] = labels['label'].astype(int)\n",
    "    labels.set_index('source', inplace=True)\n",
    "    return labels\n",
    "\n",
    "\n",
    "labels_set.graph.to(name=\"create_labels\", handler=create_labels)\n",
    "\n",
    "# specify only Parquet (offline) target since its not used for real-time\n",
    "labels_set.set_targets(['parquet'], with_defaults=False)\n",
    "labels_set.plot(with_targets=True)"
   ],
   "outputs": [
    {
     "output_type": "execute_result",
     "data": {
      "image/svg+xml": "<?xml version=\"1.0\" encoding=\"UTF-8\" standalone=\"no\"?>\n<!DOCTYPE svg PUBLIC \"-//W3C//DTD SVG 1.1//EN\"\n \"http://www.w3.org/Graphics/SVG/1.1/DTD/svg11.dtd\">\n<!-- Generated by graphviz version 2.40.1 (20161225.0304)\n -->\n<!-- Title: mlrun&#45;flow Pages: 1 -->\n<svg width=\"154pt\" height=\"188pt\"\n viewBox=\"0.00 0.00 153.59 188.00\" xmlns=\"http://www.w3.org/2000/svg\" xmlns:xlink=\"http://www.w3.org/1999/xlink\">\n<g id=\"graph0\" class=\"graph\" transform=\"scale(1 1) rotate(0) translate(4 184)\">\n<title>mlrun&#45;flow</title>\n<polygon fill=\"#ffffff\" stroke=\"transparent\" points=\"-4,4 -4,-184 149.5871,-184 149.5871,4 -4,4\"/>\n<!-- _start -->\n<g id=\"node1\" class=\"node\">\n<title>_start</title>\n<polygon fill=\"#d3d3d3\" stroke=\"#000000\" points=\"76.0416,-144.0493 78.1921,-144.1479 80.3203,-144.2953 82.4176,-144.4913 84.4755,-144.7353 86.4857,-145.0266 88.4403,-145.3645 90.3317,-145.7479 92.1527,-146.1759 93.8965,-146.6472 95.5569,-147.1606 97.128,-147.7147 98.6047,-148.308 99.9822,-148.9388 101.2566,-149.6054 102.4242,-150.3059 103.4822,-151.0385 104.4283,-151.8012 105.2609,-152.5918 105.9789,-153.4082 106.5819,-154.2481 107.0699,-155.1093 107.4436,-155.9894 107.7042,-156.886 107.8535,-157.7965 107.8937,-158.7186 107.8274,-159.6497 107.6576,-160.5873 107.3877,-161.5287 107.0216,-162.4713 106.5631,-163.4127 106.0165,-164.3503 105.3864,-165.2814 104.6771,-166.2035 103.8936,-167.114 103.0404,-168.0106 102.1225,-168.8907 101.1445,-169.7519 100.111,-170.5918 99.0269,-171.4082 97.8964,-172.1988 96.724,-172.9615 95.5137,-173.6941 94.2695,-174.3946 92.9952,-175.0612 91.6942,-175.692 90.3698,-176.2853 89.0249,-176.8394 87.6624,-177.3528 86.2848,-177.8241 84.8943,-178.2521 83.4929,-178.6355 82.0826,-178.9734 80.6649,-179.2647 79.2412,-179.5087 77.8129,-179.7047 76.3812,-179.8521 74.9471,-179.9507 73.5115,-180 72.0755,-180 70.64,-179.9507 69.2059,-179.8521 67.7741,-179.7047 66.3459,-179.5087 64.9222,-179.2647 63.5045,-178.9734 62.0941,-178.6355 60.6928,-178.2521 59.3023,-177.8241 57.9246,-177.3528 56.5622,-176.8394 55.2173,-176.2853 53.8929,-175.692 52.5919,-175.0612 51.3176,-174.3946 50.0734,-173.6941 48.8631,-172.9615 47.6907,-172.1988 46.5602,-171.4082 45.476,-170.5918 44.4426,-169.7519 43.4646,-168.8907 42.5466,-168.0106 41.6935,-167.114 40.9099,-166.2035 40.2007,-165.2814 39.5706,-164.3503 39.024,-163.4127 38.5655,-162.4713 38.1993,-161.5287 37.9295,-160.5873 37.7597,-159.6497 37.6934,-158.7186 37.7335,-157.7965 37.8829,-156.886 38.1435,-155.9894 38.5172,-155.1093 39.0052,-154.2481 39.6082,-153.4082 40.3262,-152.5918 41.1588,-151.8012 42.1049,-151.0385 43.1629,-150.3059 44.3305,-149.6054 45.6048,-148.9388 46.9824,-148.308 48.4591,-147.7147 50.0302,-147.1606 51.6906,-146.6472 53.4344,-146.1759 55.2554,-145.7479 57.1468,-145.3645 59.1014,-145.0266 61.1116,-144.7353 63.1695,-144.4913 65.2668,-144.2953 67.395,-144.1479 69.5455,-144.0493 71.7094,-144 73.8777,-144 76.0416,-144.0493\"/>\n<text text-anchor=\"middle\" x=\"72.7935\" y=\"-158.3\" font-family=\"Times,serif\" font-size=\"14.00\" fill=\"#000000\">start</text>\n</g>\n<!-- create_labels -->\n<g id=\"node2\" class=\"node\">\n<title>create_labels</title>\n<ellipse fill=\"none\" stroke=\"#000000\" cx=\"72.7935\" cy=\"-90\" rx=\"72.5877\" ry=\"18\"/>\n<text text-anchor=\"middle\" x=\"72.7935\" y=\"-86.3\" font-family=\"Times,serif\" font-size=\"14.00\" fill=\"#000000\">create_labels</text>\n</g>\n<!-- _start&#45;&gt;create_labels -->\n<g id=\"edge1\" class=\"edge\">\n<title>_start&#45;&gt;create_labels</title>\n<path fill=\"none\" stroke=\"#000000\" d=\"M72.7935,-143.8314C72.7935,-136.131 72.7935,-126.9743 72.7935,-118.4166\"/>\n<polygon fill=\"#000000\" stroke=\"#000000\" points=\"76.2936,-118.4132 72.7935,-108.4133 69.2936,-118.4133 76.2936,-118.4132\"/>\n</g>\n<!-- parquet -->\n<g id=\"node3\" class=\"node\">\n<title>parquet</title>\n<path fill=\"none\" stroke=\"#000000\" d=\"M109.2935,-32.7273C109.2935,-34.5331 92.9337,-36 72.7935,-36 52.6534,-36 36.2935,-34.5331 36.2935,-32.7273 36.2935,-32.7273 36.2935,-3.2727 36.2935,-3.2727 36.2935,-1.4669 52.6534,0 72.7935,0 92.9337,0 109.2935,-1.4669 109.2935,-3.2727 109.2935,-3.2727 109.2935,-32.7273 109.2935,-32.7273\"/>\n<path fill=\"none\" stroke=\"#000000\" d=\"M109.2935,-32.7273C109.2935,-30.9214 92.9337,-29.4545 72.7935,-29.4545 52.6534,-29.4545 36.2935,-30.9214 36.2935,-32.7273\"/>\n<text text-anchor=\"middle\" x=\"72.7935\" y=\"-14.3\" font-family=\"Times,serif\" font-size=\"14.00\" fill=\"#000000\">parquet</text>\n</g>\n<!-- create_labels&#45;&gt;parquet -->\n<g id=\"edge2\" class=\"edge\">\n<title>create_labels&#45;&gt;parquet</title>\n<path fill=\"none\" stroke=\"#000000\" d=\"M72.7935,-71.8314C72.7935,-64.131 72.7935,-54.9743 72.7935,-46.4166\"/>\n<polygon fill=\"#000000\" stroke=\"#000000\" points=\"76.2936,-46.4132 72.7935,-36.4133 69.2936,-46.4133 76.2936,-46.4132\"/>\n</g>\n</g>\n</svg>\n",
      "text/plain": [
       "<graphviz.dot.Digraph at 0x7f2f7dcc4750>"
      ]
     },
     "metadata": {},
     "execution_count": 12
    }
   ],
   "metadata": {}
  },
  {
   "cell_type": "code",
   "execution_count": 13,
   "source": [
    "# preview the resulting labels (will not write to data to the feature store)\n",
    "fstore.preview(labels_set, data)"
   ],
   "outputs": [
    {
     "output_type": "execute_result",
     "data": {
      "text/html": [
       "<div>\n",
       "<style scoped>\n",
       "    .dataframe tbody tr th:only-of-type {\n",
       "        vertical-align: middle;\n",
       "    }\n",
       "\n",
       "    .dataframe tbody tr th {\n",
       "        vertical-align: top;\n",
       "    }\n",
       "\n",
       "    .dataframe thead th {\n",
       "        text-align: right;\n",
       "    }\n",
       "</style>\n",
       "<table border=\"1\" class=\"dataframe\">\n",
       "  <thead>\n",
       "    <tr style=\"text-align: right;\">\n",
       "      <th></th>\n",
       "      <th>label</th>\n",
       "      <th>timestamp</th>\n",
       "    </tr>\n",
       "    <tr>\n",
       "      <th>source</th>\n",
       "      <th></th>\n",
       "      <th></th>\n",
       "    </tr>\n",
       "  </thead>\n",
       "  <tbody>\n",
       "    <tr>\n",
       "      <th>C559952121</th>\n",
       "      <td>0</td>\n",
       "      <td>2021-09-09 07:58:17.482</td>\n",
       "    </tr>\n",
       "    <tr>\n",
       "      <th>C442137737</th>\n",
       "      <td>0</td>\n",
       "      <td>2021-09-09 10:51:42.813</td>\n",
       "    </tr>\n",
       "    <tr>\n",
       "      <th>C855082400</th>\n",
       "      <td>0</td>\n",
       "      <td>2021-09-09 06:16:18.501</td>\n",
       "    </tr>\n",
       "    <tr>\n",
       "      <th>C1693925346</th>\n",
       "      <td>0</td>\n",
       "      <td>2021-09-08 09:53:20.129</td>\n",
       "    </tr>\n",
       "    <tr>\n",
       "      <th>C1465725042</th>\n",
       "      <td>0</td>\n",
       "      <td>2021-09-09 07:05:15.134</td>\n",
       "    </tr>\n",
       "    <tr>\n",
       "      <th>...</th>\n",
       "      <td>...</td>\n",
       "      <td>...</td>\n",
       "    </tr>\n",
       "    <tr>\n",
       "      <th>C1871594117</th>\n",
       "      <td>0</td>\n",
       "      <td>2021-09-09 23:50:34.118</td>\n",
       "    </tr>\n",
       "    <tr>\n",
       "      <th>C719332132</th>\n",
       "      <td>0</td>\n",
       "      <td>2021-09-08 03:56:58.341</td>\n",
       "    </tr>\n",
       "    <tr>\n",
       "      <th>C218446443</th>\n",
       "      <td>1</td>\n",
       "      <td>2021-09-08 04:15:52.266</td>\n",
       "    </tr>\n",
       "    <tr>\n",
       "      <th>C1192874833</th>\n",
       "      <td>0</td>\n",
       "      <td>2021-09-08 02:05:37.534</td>\n",
       "    </tr>\n",
       "    <tr>\n",
       "      <th>C1342849651</th>\n",
       "      <td>0</td>\n",
       "      <td>2021-09-09 04:34:21.722</td>\n",
       "    </tr>\n",
       "  </tbody>\n",
       "</table>\n",
       "<p>50000 rows × 2 columns</p>\n",
       "</div>"
      ],
      "text/plain": [
       "             label               timestamp\n",
       "source                                    \n",
       "C559952121       0 2021-09-09 07:58:17.482\n",
       "C442137737       0 2021-09-09 10:51:42.813\n",
       "C855082400       0 2021-09-09 06:16:18.501\n",
       "C1693925346      0 2021-09-08 09:53:20.129\n",
       "C1465725042      0 2021-09-09 07:05:15.134\n",
       "...            ...                     ...\n",
       "C1871594117      0 2021-09-09 23:50:34.118\n",
       "C719332132       0 2021-09-08 03:56:58.341\n",
       "C218446443       1 2021-09-08 04:15:52.266\n",
       "C1192874833      0 2021-09-08 02:05:37.534\n",
       "C1342849651      0 2021-09-09 04:34:21.722\n",
       "\n",
       "[50000 rows x 2 columns]"
      ]
     },
     "metadata": {},
     "execution_count": 13
    }
   ],
   "metadata": {}
  },
  {
   "cell_type": "code",
   "execution_count": 14,
   "source": [
    "# Ingest the labels feature set\n",
    "df = fstore.ingest(labels_set, data)"
   ],
   "outputs": [],
   "metadata": {}
  },
  {
   "cell_type": "markdown",
   "source": [
    "## Deploy as real-time pipeline\n",
    "\n",
    "When dealing with real-time aggregation, it's important to be able to update these aggregations in real-time.\n",
    "For this purpose, we will create live serving functions that will update the online feature store of the `transactions` FeatureSet and `Events` FeatureSet.\n",
    "\n",
    "Using MLRun's `serving` runtime, craetes a nuclio function loaded with our feature set's computational graph definition\n",
    "and an `HttpSource` to define the HTTP trigger.\n",
    "\n",
    "Notice that the implementation below does not require any rewrite of the pipeline logic."
   ],
   "metadata": {}
  },
  {
   "cell_type": "markdown",
   "source": [
    "### Deploy transactions feature set live endpoint"
   ],
   "metadata": {}
  },
  {
   "cell_type": "code",
   "execution_count": 15,
   "source": [
    "# create iguazio v3io stream and transactions push API endpoint\n",
    "transaction_stream = f'v3io:///projects/{project.name}/streams/transaction'\n",
    "transaction_pusher = mlrun.datastore.get_stream_pusher(transaction_stream)"
   ],
   "outputs": [],
   "metadata": {}
  },
  {
   "cell_type": "code",
   "execution_count": 16,
   "source": [
    "# Define the HTTP Source to_dictable the HTTP trigger on our function and expose the endpoint.\n",
    "# as any other datasource, we will define the `key` and `time` fields here too.\n",
    "http_source = mlrun.datastore.sources.HttpSource(key_field='source', time_field='timestamp')\n",
    "transaction_set.spec.source = http_source\n",
    "\n",
    "# Create a real-time serverless function definition to deploy the ingestion pipeline on.\n",
    "# the serving runtimes enables the deployment of our feature set's computational graph\n",
    "function = mlrun.new_function('ingest-transactions', kind='serving', image='mlrun/mlrun')\n",
    "\n",
    "function.with_code(body=\" \")  # empty code since there are no custom classes/functions (cannot be \"\")\n",
    "\n",
    "# Add stream trigger (must first create the stream)\n",
    "function.add_v3io_stream_trigger(transaction_stream)\n",
    "\n",
    "run_config = fstore.RunConfig(function=function, local=False).apply(mlrun.mount_v3io())"
   ],
   "outputs": [],
   "metadata": {}
  },
  {
   "cell_type": "code",
   "execution_count": 17,
   "source": [
    "# Deploy the transactions feature set's ingestion service using the feature set\n",
    "# and all the defined resources above.\n",
    "transaction_set_endpoint = fstore.deploy_ingestion_service(featureset=transaction_set,\n",
    "                                                       #source=http_source,\n",
    "                                                       run_config=run_config)"
   ],
   "outputs": [
    {
     "output_type": "stream",
     "name": "stdout",
     "text": [
      "> 2021-09-10 01:30:51,267 [info] Starting remote function deploy\n",
      "2021-09-10 01:30:51  (info) Deploying function\n",
      "2021-09-10 01:30:51  (info) Building\n",
      "2021-09-10 01:30:51  (info) Staging files and preparing base images\n",
      "2021-09-10 01:30:51  (info) Building processor image\n",
      "2021-09-10 01:30:52  (info) Build complete\n",
      "2021-09-10 01:31:01  (info) Function deploy complete\n",
      "> 2021-09-10 01:31:01,977 [info] successfully deployed function: {'internal_invocation_urls': ['nuclio-fraud-demo-admin-ingest-transactions.default-tenant.svc.cluster.local:8080'], 'external_invocation_urls': ['fraud-demo-admin-ingest-transactions-fraud-demo-admin.default-tenant.app.jnewriujxdig.iguazio-cd1.com/']}\n"
     ]
    }
   ],
   "metadata": {}
  },
  {
   "cell_type": "markdown",
   "source": [
    "### Test the feature set HTTP endpoint with a sample"
   ],
   "metadata": {}
  },
  {
   "cell_type": "markdown",
   "source": [
    "By defining our `transactions` feature set we can now use MLRun and Storey to deploy it as a live endpoint, ready to ingest new data!\n",
    "\n",
    "Using MLRun's `serving` runtime, we will create a nuclio function loaded with our feature set's computational graph definition and an `HttpSource` to define the HTTP trigger."
   ],
   "metadata": {}
  },
  {
   "cell_type": "code",
   "execution_count": 18,
   "source": [
    "import requests\n",
    "import json\n",
    "\n",
    "# Select a sample from the dataset and serialize it to JSON\n",
    "sample = data.sample(1)\n",
    "sample = json.loads(sample.to_json(orient='records'))[0]\n",
    "sample['timestamp'] = str(pd.Timestamp.now())\n",
    "sample"
   ],
   "outputs": [
    {
     "output_type": "execute_result",
     "data": {
      "text/plain": [
       "{'step': 123,\n",
       " 'age': '1',\n",
       " 'gender': 'M',\n",
       " 'zipcodeOri': 28007,\n",
       " 'zipMerchant': 28007,\n",
       " 'category': 'es_transportation',\n",
       " 'amount': 23.87,\n",
       " 'fraud': 0,\n",
       " 'timestamp': '2021-09-10 01:31:02.086024',\n",
       " 'source': 'C269960003',\n",
       " 'target': 'M348934600',\n",
       " 'device': '6857df5dbf2a43f4a2579a3bbfce5f50'}"
      ]
     },
     "metadata": {},
     "execution_count": 18
    }
   ],
   "metadata": {}
  },
  {
   "cell_type": "code",
   "execution_count": 19,
   "source": [
    "# Post the sample to the ingestion endpoint\n",
    "requests.post(transaction_set_endpoint, json=sample).text"
   ],
   "outputs": [
    {
     "output_type": "execute_result",
     "data": {
      "text/plain": [
       "'{\"id\": \"1d157dab-6bdc-44a1-ab93-341ce6f8d9e2\"}'"
      ]
     },
     "metadata": {},
     "execution_count": 19
    }
   ],
   "metadata": {}
  },
  {
   "cell_type": "markdown",
   "source": [
    "### Test the feature set real-time stream endpoint"
   ],
   "metadata": {}
  },
  {
   "cell_type": "code",
   "execution_count": 20,
   "source": [
    "import time\n",
    "for i in range(1):\n",
    "    transaction_pusher.push({'data': json.dumps(sample)})\n",
    "    time.sleep(1)"
   ],
   "outputs": [],
   "metadata": {}
  },
  {
   "cell_type": "markdown",
   "source": [
    "### Deploy the events feature set live endpoint"
   ],
   "metadata": {}
  },
  {
   "cell_type": "code",
   "execution_count": 21,
   "source": [
    "# create iguazio v3io stream and transactions push API endpoint\n",
    "events_stream = f'v3io:///projects/{project.name}/streams/events'\n",
    "events_pusher = mlrun.datastore.get_stream_pusher(events_stream)"
   ],
   "outputs": [],
   "metadata": {}
  },
  {
   "cell_type": "code",
   "execution_count": 22,
   "source": [
    "# Deploy the events feature set's ingestion service using the feature set\n",
    "# and all the previously defined resources.\n",
    "\n",
    "# Create a `serving` \"base function\" to deploy the ingestion function on.\n",
    "# the serving runtimes enables the deployment of our feature set's computational graph\n",
    "function = mlrun.new_function('ingest-events', kind='serving', image='mlrun/mlrun')\n",
    "function.with_code(body=\" \")\n",
    "\n",
    "# Add stream trigger\n",
    "function.add_v3io_stream_trigger(events_stream)\n",
    "\n",
    "run_config = fstore.RunConfig(function=function, local=False).apply(mlrun.mount_v3io())\n",
    "\n",
    "events_set_endpoint = fstore.deploy_ingestion_service(name=\"ingest-events\", featureset=events_set,\n",
    "                                                  source=http_source, run_config=run_config)"
   ],
   "outputs": [
    {
     "output_type": "stream",
     "name": "stdout",
     "text": [
      "> 2021-09-10 01:31:03,238 [info] Starting remote function deploy\n",
      "2021-09-10 01:31:03  (info) Deploying function\n",
      "2021-09-10 01:31:03  (info) Building\n",
      "2021-09-10 01:31:03  (info) Staging files and preparing base images\n",
      "2021-09-10 01:31:03  (info) Building processor image\n",
      "2021-09-10 01:31:04  (info) Build complete\n",
      "> 2021-09-10 01:31:13,888 [info] successfully deployed function: {'internal_invocation_urls': ['nuclio-fraud-demo-admin-ingest-events.default-tenant.svc.cluster.local:8080'], 'external_invocation_urls': ['fraud-demo-admin-ingest-events-fraud-demo-admin.default-tenant.app.jnewriujxdig.iguazio-cd1.com/']}\n"
     ]
    }
   ],
   "metadata": {}
  },
  {
   "cell_type": "code",
   "execution_count": 23,
   "source": [
    "# Select a sample from the events dataset and serialize it to JSON\n",
    "sample = events.sample(1)\n",
    "sample = json.loads(sample.to_json(orient='records'))[0]\n",
    "sample['timestamp'] = '2021-06-11 22:07:58'\n",
    "sample"
   ],
   "outputs": [
    {
     "output_type": "execute_result",
     "data": {
      "text/plain": [
       "{'source': 'C895429374', 'event': 'login', 'timestamp': '2021-06-11 22:07:58'}"
      ]
     },
     "metadata": {},
     "execution_count": 23
    }
   ],
   "metadata": {}
  },
  {
   "cell_type": "code",
   "execution_count": 24,
   "source": [
    "# Post the sample to the ingestion endpoint\n",
    "requests.post(events_set_endpoint, json=sample).text"
   ],
   "outputs": [
    {
     "output_type": "execute_result",
     "data": {
      "text/plain": [
       "'{\"id\": \"47de9619-4bff-4a36-904a-162f7262ca99\"}'"
      ]
     },
     "metadata": {},
     "execution_count": 24
    }
   ],
   "metadata": {}
  },
  {
   "cell_type": "code",
   "execution_count": 25,
   "source": [
    "for i in range(1):\n",
    "    events_pusher.push({'data': json.dumps(sample)})\n",
    "    time.sleep(1)"
   ],
   "outputs": [],
   "metadata": {}
  },
  {
   "cell_type": "markdown",
   "source": [
    "## Done!\n",
    "\n",
    "You've completed Part 1 of the data-ingestion with the feature store.\n",
    "Proceed to [Part 2](2-model-training.ipynb) to learn how to train an ML model using the feature store data."
   ],
   "metadata": {}
  }
 ],
 "metadata": {
  "kernelspec": {
   "display_name": "Python [conda env:root] *",
   "language": "python",
   "name": "conda-root-py"
  },
  "language_info": {
   "codemirror_mode": {
    "name": "ipython",
    "version": 3
   },
   "file_extension": ".py",
   "mimetype": "text/x-python",
   "name": "python",
   "nbconvert_exporter": "python",
   "pygments_lexer": "ipython3",
   "version": "3.7.6"
  }
 },
 "nbformat": 4,
 "nbformat_minor": 4
}