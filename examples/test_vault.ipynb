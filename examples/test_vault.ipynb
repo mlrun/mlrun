{
 "cells": [
  {
   "cell_type": "markdown",
   "metadata": {},
   "source": [
    "# MLRun secret handling using Vault - Demo\n",
    "\n",
    "This notebook demonstrates secret creation and handling in MLRun.\n"
   ]
  },
  {
   "cell_type": "code",
   "execution_count": null,
   "metadata": {},
   "outputs": [],
   "source": [
    "from mlrun import new_task, get_run_db, new_function, run_local\n",
    "import os\n",
    "from mlrun import mlconf, code_to_function, new_project"
   ]
  },
  {
   "cell_type": "markdown",
   "metadata": {},
   "source": [
    "## Create a project & initialize Vault support\n",
    "When a project is created, the `create_project_secrets` command can be used to request that the underlying framework is created that will enable Vault secrets to be used with this project. Calling this method on the project will create the following constructs for the project (if not already existing):\n",
    "\n",
    "1. A k8s serviceaccount (`sa-vault-{project name}`)\n",
    "2. A Vault policy (`mlrun-project-{project name}`) that enables access to secrets in the project path (`/secrets/secret/mlrun/projects/{proj name}`)\n",
    "3. A Vault k8s role (`mlrun-role-project-{project name}`) that associates the SA's token with the policy\n",
    "\n",
    "These configurations are performed on the MLRun API server side, not from the client."
   ]
  },
  {
   "cell_type": "code",
   "execution_count": null,
   "metadata": {},
   "outputs": [],
   "source": [
    "proj_name = 'vault-mlrun'\n",
    "func_name = 'vault-func'\n",
    "\n",
    "proj = new_project(proj_name)"
   ]
  },
  {
   "cell_type": "markdown",
   "metadata": {},
   "source": [
    "The `create_vault_secrets` utility function allows creating project secrets, and will place them in the project secret path.\n",
    ">Note: This method runs on the MLRun API server. For running similar commands locally (for example, if you have no MLRun API setup), please refer to the instructions later in this notebook."
   ]
  },
  {
   "cell_type": "code",
   "execution_count": null,
   "metadata": {},
   "outputs": [],
   "source": [
    "project_secrets = {'aws_key': '1234567890', 'github_key': 'proj1Key!!!'}\n",
    "proj.create_vault_secrets(project_secrets)\n",
    "proj.get_vault_secret_keys()"
   ]
  },
  {
   "cell_type": "markdown",
   "metadata": {},
   "source": [
    "Project objects also allow access to Vault secrets directly (not through function contexts). You need to associate the project with Vault secret-source using the `.with_secret()` function, and then can use the `.get_secret()` utility function to extract secret value.\n",
    "This allows client-side, read-only access to vault secrets associated with the given project. To perform write operations, refer to next cell.\n",
    "\n",
    ">Note: These methods runs on client-side, which means the computer/pod hosting this notebook must have Vault connectivity (and access Token) for this to work."
   ]
  },
  {
   "cell_type": "code",
   "execution_count": null,
   "metadata": {},
   "outputs": [],
   "source": [
    "# Using empty list for secret keys grants access to all secrets associated with this project.\n",
    "proj.with_secrets('vault',[])\n",
    "print(proj.get_vault_secret_keys())\n",
    "print(proj.get_secret('github_key'))"
   ]
  },
  {
   "cell_type": "markdown",
   "metadata": {},
   "source": [
    "### Accessing Vault functionality locally\n",
    "The following commands allow client-side write (and read) commands on secrets, both in project context and in user context (instead of `project` parameter use the `user` parameter). Of course, these APIs are still subject to Vault access permissions for the running process, so they do not allow elevated permissions beyond those granted to the execution context."
   ]
  },
  {
   "cell_type": "code",
   "execution_count": null,
   "metadata": {},
   "outputs": [],
   "source": [
    "from mlrun.utils.vault import VaultStore\n",
    "\n",
    "vault = VaultStore()\n",
    "\n",
    "project_secrets[\"azure_key\"] = \"1111-2222-3333-4444\"\n",
    "vault.add_vault_secrets(project_secrets, project=proj_name)\n",
    "vault.get_secrets([],project=proj_name)"
   ]
  },
  {
   "cell_type": "markdown",
   "metadata": {
    "pycharm": {
     "name": "#%% md\n"
    }
   },
   "source": [
    "## Create and deploy a function"
   ]
  },
  {
   "cell_type": "code",
   "execution_count": null,
   "metadata": {},
   "outputs": [],
   "source": [
    "func_path = os.path.abspath(\"vault_function.py\")\n",
    "\n",
    "func = code_to_function(name=func_name,\n",
    "                        filename=func_path,\n",
    "                        handler='vault_func',\n",
    "                        project=proj_name,\n",
    "                        kind='job')\n",
    "\n",
    "func.doc()"
   ]
  },
  {
   "cell_type": "code",
   "execution_count": null,
   "metadata": {},
   "outputs": [],
   "source": [
    "# If needed, use this command to utilize a local MLRun image for your functions, rather than the default mlrun/mlrun image.\n",
    "# func.spec.image = 'saarcoiguazio/mlrun:unstable'"
   ]
  },
  {
   "cell_type": "markdown",
   "metadata": {
    "pycharm": {
     "name": "#%% md\n"
    }
   },
   "source": [
    "## Initialize function runtime and execute\n",
    "The `.with_secrets` function has a '`vault`' secret kind that will pass the specified Vault project secrets to the function context. The function spec\n",
    "only contains the keys of the secrets ('aws_key' etc.) - the actual secret value is retrieved from Vault and planted in the function \n",
    "context in runtime."
   ]
  },
  {
   "cell_type": "code",
   "execution_count": null,
   "metadata": {
    "pycharm": {
     "name": "#%%\n"
    }
   },
   "outputs": [],
   "source": [
    "task = new_task(project=proj_name,\n",
    "                name='vault_test_run',\n",
    "                handler='vault_func',\n",
    "                params={'secrets':['password', 'github_key', 'aws_key']})\n",
    "\n",
    "# Add access to project-level secrets\n",
    "# task.with_secrets('vault', [\"aws_key\", \"github_key\"])\n",
    "task.with_secrets('vault', [])\n",
    "\n",
    "# Can also use the following code to add user-level secrets\n",
    "# task.with_secrets('vault', {\"user\": \"admin\", \"secrets\": [\"password\", \"user_id\"]})\n",
    "\n",
    "print(task.to_yaml())"
   ]
  },
  {
   "cell_type": "code",
   "execution_count": null,
   "metadata": {},
   "outputs": [],
   "source": [
    "result = func.run(task)"
   ]
  },
  {
   "cell_type": "markdown",
   "metadata": {
    "pycharm": {
     "name": "#%% md\n"
    }
   },
   "source": [
    "## Run the same function in another project's context\n",
    "We will create a 2nd project, and assign different secret values to it. When the same function is executed in the new project's runtime context, it will get \n",
    "the new project's secrets. When running in this context, the function has no access to other projects' secrets."
   ]
  },
  {
   "cell_type": "code",
   "execution_count": null,
   "metadata": {},
   "outputs": [],
   "source": [
    "proj_name_2 = 'vault-mlrun-2'\n",
    "proj2 = new_project(proj_name_2)\n",
    "proj2.create_vault_secrets({'aws_key': '0987654321', 'github_key': 'proj2Key???', 'password': 'myPassword'})"
   ]
  },
  {
   "cell_type": "code",
   "execution_count": null,
   "metadata": {},
   "outputs": [],
   "source": [
    "task2 = new_task(project=proj_name_2,\n",
    "                 name='vault_test_run_2',\n",
    "                 handler='vault_func',\n",
    "                 params={'secrets':['password', 'github_key', 'aws_key']})\n",
    "task2.with_secrets('vault', [\"aws_key\", \"github_key\", \"password\"])\n",
    "\n",
    "result = func.run(task2)"
   ]
  },
  {
   "cell_type": "code",
   "execution_count": null,
   "metadata": {
    "collapsed": false,
    "jupyter": {
     "outputs_hidden": false
    },
    "pycharm": {
     "name": "#%%\n"
    }
   },
   "outputs": [],
   "source": [
    "proj2.get_vault_secret_keys()"
   ]
  },
  {
   "cell_type": "code",
   "execution_count": null,
   "metadata": {},
   "outputs": [],
   "source": []
  }
 ],
 "metadata": {
  "kernelspec": {
   "display_name": "Python 3",
   "language": "python",
   "name": "python3"
  },
  "language_info": {
   "codemirror_mode": {
    "name": "ipython",
    "version": 3
   },
   "file_extension": ".py",
   "mimetype": "text/x-python",
   "name": "python",
   "nbconvert_exporter": "python",
   "pygments_lexer": "ipython3",
   "version": "3.8.5"
  }
 },
 "nbformat": 4,
 "nbformat_minor": 4
}
