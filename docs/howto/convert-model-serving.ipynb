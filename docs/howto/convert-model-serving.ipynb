{
 "cells": [
  {
   "cell_type": "markdown",
   "metadata": {
    "pycharm": {
     "name": "#%% md\n"
    }
   },
   "source": [
    "# Model Serving Function"
   ]
  },
  {
   "cell_type": "code",
   "execution_count": 1,
   "metadata": {},
   "outputs": [],
   "source": [
    "import mlrun"
   ]
  },
  {
   "cell_type": "code",
   "execution_count": 2,
   "metadata": {},
   "outputs": [],
   "source": [
    "%nuclio cmd -c pip install lightgbm"
   ]
  },
  {
   "cell_type": "code",
   "execution_count": 3,
   "metadata": {},
   "outputs": [
    {
     "name": "stdout",
     "output_type": "stream",
     "text": [
      "%nuclio: setting spec.build.baseImage to 'mlrun/mlrun'\n",
      "%nuclio: setting kind to 'serving'\n"
     ]
    }
   ],
   "source": [
    "%nuclio config spec.build.baseImage = \"mlrun/mlrun\"\n",
    "%nuclio config kind = \"serving\""
   ]
  },
  {
   "cell_type": "code",
   "execution_count": 4,
   "metadata": {},
   "outputs": [],
   "source": [
    "import numpy as np\n",
    "from cloudpickle import load\n",
    "\n",
    "class LGBMModel(mlrun.serving.V2ModelServer):\n",
    "    \n",
    "    def load(self):\n",
    "        model_file, extra_data = self.get_model('.pkl')\n",
    "        self.model = load(open(model_file, 'rb'))\n",
    "\n",
    "    def predict(self, body):\n",
    "        try:\n",
    "            feats = np.asarray(body['inputs'])\n",
    "            result = self.model.predict(feats)\n",
    "            return result.tolist()\n",
    "        except Exception as e:\n",
    "            raise Exception(\"Failed to predict %s\" % e)"
   ]
  },
  {
   "cell_type": "code",
   "execution_count": 5,
   "metadata": {},
   "outputs": [],
   "source": [
    "# nuclio: end-code"
   ]
  },
  {
   "cell_type": "markdown",
   "metadata": {},
   "source": [
    "## Deploy and Test The Function"
   ]
  },
  {
   "cell_type": "code",
   "execution_count": 6,
   "metadata": {},
   "outputs": [],
   "source": [
    "models_path = 'https://s3.wasabisys.com/iguazio/models/lightgbm/SampleModel.pkl'"
   ]
  },
  {
   "cell_type": "code",
   "execution_count": 7,
   "metadata": {},
   "outputs": [],
   "source": [
    "fn = mlrun.code_to_function('lightgbm-serving',\n",
    "                            description=\"LightGBM Serving\",\n",
    "                            categories=['serving', 'ml'],\n",
    "                            labels={'author': 'edmondg', 'framework': 'lightgbm'})\n",
    "fn.spec.default_class = 'LGBMModel'"
   ]
  },
  {
   "cell_type": "code",
   "execution_count": 8,
   "metadata": {},
   "outputs": [
    {
     "data": {
      "text/plain": [
       "<mlrun.serving.states.TaskState at 0x7fa838f23b50>"
      ]
     },
     "execution_count": 8,
     "metadata": {},
     "output_type": "execute_result"
    }
   ],
   "source": [
    "fn.add_model('nyc-taxi-server', model_path=models_path)"
   ]
  },
  {
   "cell_type": "code",
   "execution_count": 9,
   "metadata": {},
   "outputs": [
    {
     "name": "stdout",
     "output_type": "stream",
     "text": [
      "> 2021-01-28 10:56:00,391 [info] Starting remote function deploy\n",
      "2021-01-28 10:56:00  (info) Deploying function\n",
      "2021-01-28 10:56:00  (info) Building\n",
      "2021-01-28 10:56:00  (info) Staging files and preparing base images\n",
      "2021-01-28 10:56:00  (info) Building processor image\n",
      "2021-01-28 10:56:01  (info) Build complete\n",
      "2021-01-28 10:56:09  (info) Function deploy complete\n",
      "> 2021-01-28 10:56:10,399 [info] function deployed, address=default-tenant.app.jinkwubtllaf.iguazio-cd1.com:32169\n"
     ]
    }
   ],
   "source": [
    "# deploy the function\n",
    "fn.apply(mlrun.platforms.auto_mount())\n",
    "address = fn.deploy()"
   ]
  },
  {
   "cell_type": "code",
   "execution_count": 10,
   "metadata": {},
   "outputs": [
    {
     "data": {
      "text/plain": [
       "{'id': 'cd3aca51-1823-453b-81fb-e2cf2a148906',\n",
       " 'model_name': 'nyc-taxi-server',\n",
       " 'outputs': [25.374309065093435]}"
      ]
     },
     "execution_count": 10,
     "metadata": {},
     "output_type": "execute_result"
    }
   ],
   "source": [
    "# test the function\n",
    "my_data = '''{\"inputs\":[[5.1, 3.5, 1.4, 3, 5.1, 3.5, 1.4, 0.2, 5.1, 3.5, 1.4, 0.2, 5.1, 3.5, 1.4, 0.2]]}'''\n",
    "fn.invoke('/v2/models/nyc-taxi-server/predict', my_data)"
   ]
  }
 ],
 "metadata": {
  "kernelspec": {
   "display_name": "Python 3",
   "language": "python",
   "name": "python3"
  },
  "language_info": {
   "codemirror_mode": {
    "name": "ipython",
    "version": 3
   },
   "file_extension": ".py",
   "mimetype": "text/x-python",
   "name": "python",
   "nbconvert_exporter": "python",
   "pygments_lexer": "ipython3",
   "version": "3.7.6"
  }
 },
 "nbformat": 4,
 "nbformat_minor": 4
}