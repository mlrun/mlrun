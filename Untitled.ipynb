{
 "cells": [
  {
   "cell_type": "code",
   "execution_count": 1,
   "id": "fb7bd126",
   "metadata": {},
   "outputs": [],
   "source": [
    "from adlfs import AzureBlobFileSystem"
   ]
  },
  {
   "cell_type": "code",
   "execution_count": 2,
   "id": "914e0e4c",
   "metadata": {},
   "outputs": [],
   "source": [
    "fs = AzureBlobFileSystem(connection_string=\"DefaultEndpointsProtocol=https;AccountName=testaccountgen2;AccountKey=5yQlcKiBaeuN+AZCcb2t13TdJW6RABeFXOfgtCCeei/F4fXoTj5Uy7cFY+vqIQcgSfjIszhXh06ZvI8d/Oxb6A==;EndpointSuffix=core.windows.net\")"
   ]
  },
  {
   "cell_type": "code",
   "execution_count": 8,
   "id": "e5718c15",
   "metadata": {},
   "outputs": [
    {
     "data": {
      "text/plain": [
       "True"
      ]
     },
     "execution_count": 8,
     "metadata": {},
     "output_type": "execute_result"
    }
   ],
   "source": [
    "fs.isdir(\"storage-container/demo_data.parquet\")"
   ]
  },
  {
   "cell_type": "code",
   "execution_count": 11,
   "id": "ae74d5cd",
   "metadata": {},
   "outputs": [],
   "source": [
    "import os"
   ]
  },
  {
   "cell_type": "code",
   "execution_count": 12,
   "id": "d8892191",
   "metadata": {},
   "outputs": [],
   "source": [
    "path = os.path.join(\"az://storage-container/demo_data.parquet\".partition(\"//\")[2], \"demo_data.parquet\")"
   ]
  },
  {
   "cell_type": "code",
   "execution_count": 14,
   "id": "1d2a0bfa",
   "metadata": {},
   "outputs": [],
   "source": [
    "from dask.distributed import Client\n",
    "import dask.dataframe as dd\n",
    "c = Client()"
   ]
  },
  {
   "cell_type": "code",
   "execution_count": 16,
   "id": "8adc25fb",
   "metadata": {},
   "outputs": [],
   "source": [
    "ddf = dd.read_parquet(\"az://storage-container/demo_data.parquet\", storage_options={'connection_string':\n",
    "                                                                                  \"DefaultEndpointsProtocol=https;AccountName=testaccountgen2;AccountKey=5yQlcKiBaeuN+AZCcb2t13TdJW6RABeFXOfgtCCeei/F4fXoTj5Uy7cFY+vqIQcgSfjIszhXh06ZvI8d/Oxb6A==;EndpointSuffix=core.windows.net\"})"
   ]
  },
  {
   "cell_type": "code",
   "execution_count": 17,
   "id": "866e824b",
   "metadata": {},
   "outputs": [
    {
     "data": {
      "text/html": [
       "<div>\n",
       "<style scoped>\n",
       "    .dataframe tbody tr th:only-of-type {\n",
       "        vertical-align: middle;\n",
       "    }\n",
       "\n",
       "    .dataframe tbody tr th {\n",
       "        vertical-align: top;\n",
       "    }\n",
       "\n",
       "    .dataframe thead th {\n",
       "        text-align: right;\n",
       "    }\n",
       "</style>\n",
       "<table border=\"1\" class=\"dataframe\">\n",
       "  <thead>\n",
       "    <tr style=\"text-align: right;\">\n",
       "      <th></th>\n",
       "      <th>A</th>\n",
       "      <th>B</th>\n",
       "      <th>C</th>\n",
       "      <th>D</th>\n",
       "      <th>E</th>\n",
       "      <th>F</th>\n",
       "    </tr>\n",
       "    <tr>\n",
       "      <th>index</th>\n",
       "      <th></th>\n",
       "      <th></th>\n",
       "      <th></th>\n",
       "      <th></th>\n",
       "      <th></th>\n",
       "      <th></th>\n",
       "    </tr>\n",
       "  </thead>\n",
       "  <tbody>\n",
       "    <tr>\n",
       "      <th>0</th>\n",
       "      <td>0.464400</td>\n",
       "      <td>0.942594</td>\n",
       "      <td>0.614053</td>\n",
       "      <td>0.937478</td>\n",
       "      <td>0.524446</td>\n",
       "      <td>0.385020</td>\n",
       "    </tr>\n",
       "    <tr>\n",
       "      <th>1</th>\n",
       "      <td>0.895155</td>\n",
       "      <td>0.312353</td>\n",
       "      <td>0.441985</td>\n",
       "      <td>0.181114</td>\n",
       "      <td>0.277331</td>\n",
       "      <td>0.867207</td>\n",
       "    </tr>\n",
       "    <tr>\n",
       "      <th>2</th>\n",
       "      <td>0.710447</td>\n",
       "      <td>0.275992</td>\n",
       "      <td>0.358910</td>\n",
       "      <td>0.477144</td>\n",
       "      <td>0.145201</td>\n",
       "      <td>0.588366</td>\n",
       "    </tr>\n",
       "    <tr>\n",
       "      <th>3</th>\n",
       "      <td>0.099443</td>\n",
       "      <td>0.520704</td>\n",
       "      <td>0.052522</td>\n",
       "      <td>0.599338</td>\n",
       "      <td>0.497286</td>\n",
       "      <td>0.507366</td>\n",
       "    </tr>\n",
       "    <tr>\n",
       "      <th>4</th>\n",
       "      <td>0.074884</td>\n",
       "      <td>0.233145</td>\n",
       "      <td>0.684133</td>\n",
       "      <td>0.690217</td>\n",
       "      <td>0.724108</td>\n",
       "      <td>0.995860</td>\n",
       "    </tr>\n",
       "  </tbody>\n",
       "</table>\n",
       "</div>"
      ],
      "text/plain": [
       "              A         B         C         D         E         F\n",
       "index                                                            \n",
       "0      0.464400  0.942594  0.614053  0.937478  0.524446  0.385020\n",
       "1      0.895155  0.312353  0.441985  0.181114  0.277331  0.867207\n",
       "2      0.710447  0.275992  0.358910  0.477144  0.145201  0.588366\n",
       "3      0.099443  0.520704  0.052522  0.599338  0.497286  0.507366\n",
       "4      0.074884  0.233145  0.684133  0.690217  0.724108  0.995860"
      ]
     },
     "execution_count": 17,
     "metadata": {},
     "output_type": "execute_result"
    }
   ],
   "source": [
    "ddf.head()"
   ]
  },
  {
   "cell_type": "code",
   "execution_count": 19,
   "id": "ba230c0f",
   "metadata": {},
   "outputs": [
    {
     "data": {
      "text/html": [
       "<div>\n",
       "<style scoped>\n",
       "    .dataframe tbody tr th:only-of-type {\n",
       "        vertical-align: middle;\n",
       "    }\n",
       "\n",
       "    .dataframe tbody tr th {\n",
       "        vertical-align: top;\n",
       "    }\n",
       "\n",
       "    .dataframe thead th {\n",
       "        text-align: right;\n",
       "    }\n",
       "</style>\n",
       "<table border=\"1\" class=\"dataframe\">\n",
       "  <thead>\n",
       "    <tr style=\"text-align: right;\">\n",
       "      <th></th>\n",
       "      <th>A</th>\n",
       "      <th>B</th>\n",
       "      <th>C</th>\n",
       "      <th>D</th>\n",
       "      <th>E</th>\n",
       "      <th>F</th>\n",
       "    </tr>\n",
       "  </thead>\n",
       "  <tbody>\n",
       "    <tr>\n",
       "      <th>0</th>\n",
       "      <td>0.464400</td>\n",
       "      <td>0.942594</td>\n",
       "      <td>0.614053</td>\n",
       "      <td>0.937478</td>\n",
       "      <td>0.524446</td>\n",
       "      <td>0.385020</td>\n",
       "    </tr>\n",
       "    <tr>\n",
       "      <th>1</th>\n",
       "      <td>0.895155</td>\n",
       "      <td>0.312353</td>\n",
       "      <td>0.441985</td>\n",
       "      <td>0.181114</td>\n",
       "      <td>0.277331</td>\n",
       "      <td>0.867207</td>\n",
       "    </tr>\n",
       "    <tr>\n",
       "      <th>2</th>\n",
       "      <td>0.710447</td>\n",
       "      <td>0.275992</td>\n",
       "      <td>0.358910</td>\n",
       "      <td>0.477144</td>\n",
       "      <td>0.145201</td>\n",
       "      <td>0.588366</td>\n",
       "    </tr>\n",
       "    <tr>\n",
       "      <th>3</th>\n",
       "      <td>0.099443</td>\n",
       "      <td>0.520704</td>\n",
       "      <td>0.052522</td>\n",
       "      <td>0.599338</td>\n",
       "      <td>0.497286</td>\n",
       "      <td>0.507366</td>\n",
       "    </tr>\n",
       "    <tr>\n",
       "      <th>4</th>\n",
       "      <td>0.074884</td>\n",
       "      <td>0.233145</td>\n",
       "      <td>0.684133</td>\n",
       "      <td>0.690217</td>\n",
       "      <td>0.724108</td>\n",
       "      <td>0.995860</td>\n",
       "    </tr>\n",
       "  </tbody>\n",
       "</table>\n",
       "</div>"
      ],
      "text/plain": [
       "          A         B         C         D         E         F\n",
       "0  0.464400  0.942594  0.614053  0.937478  0.524446  0.385020\n",
       "1  0.895155  0.312353  0.441985  0.181114  0.277331  0.867207\n",
       "2  0.710447  0.275992  0.358910  0.477144  0.145201  0.588366\n",
       "3  0.099443  0.520704  0.052522  0.599338  0.497286  0.507366\n",
       "4  0.074884  0.233145  0.684133  0.690217  0.724108  0.995860"
      ]
     },
     "execution_count": 19,
     "metadata": {},
     "output_type": "execute_result"
    }
   ],
   "source": [
    "ddf.reset_index(drop=True).head()"
   ]
  },
  {
   "cell_type": "code",
   "execution_count": null,
   "id": "4d526159",
   "metadata": {},
   "outputs": [],
   "source": []
  }
 ],
 "metadata": {
  "kernelspec": {
   "display_name": "Python 3",
   "language": "python",
   "name": "python3"
  },
  "language_info": {
   "codemirror_mode": {
    "name": "ipython",
    "version": 3
   },
   "file_extension": ".py",
   "mimetype": "text/x-python",
   "name": "python",
   "nbconvert_exporter": "python",
   "pygments_lexer": "ipython3",
   "version": "3.7.10"
  }
 },
 "nbformat": 4,
 "nbformat_minor": 5
}
