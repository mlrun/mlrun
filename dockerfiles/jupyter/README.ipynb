{
 "cells": [
  {
   "cell_type": "markdown",
   "id": "fe75d580-e99a-4dce-947c-39de1a913f71",
   "metadata": {},
   "source": [
    "<p align=\"left\"><img src=\"_static/images/MLRun-logo.png\" alt=\"MLRun logo\" width=\"150\"/></p>\n",
    "\n",
    "\n",
    "# The Open Source MLOps Orchestration Framework\n",
    "\n",
    "MLRun **simplifies & accelerates** the production pipeline design using a modular strategy, where the different parts contribute to a continuous, automated, and far simpler path from research and development to scalable production pipelines, without refactoring code, adding glue logic, or spending significant efforts on data and ML engineering.\n",
    "\n",
    "MLRun uses **Serverless Function** technology: write the code once, using your preferred development environment and simple “local” semantics, and then run it as-is on different platforms and at scale. MLRun automates the data processing and movement, build process, execution, scaling, versioning, parameterization, outputs tracking, CI/CD integration, deployment to production, monitoring, and more.\n",
    "\n",
    "Check [**MLRun Documentation**](https://docs.mlrun.org/en/latest/index.html) for further details.\n",
    "\n",
    "## Configure Your Environment\n",
    "\n",
    "MLRun  backend service can run locally or over Kubernetes (preferred), see the instructions for installing it [**locally** using Docker](https://docs.mlrun.org/en/latest/install/local-docker.html) or [over **Kubernetes** Cluster](https://docs.mlrun.org/en/latest/install/kubernetes.html). Alternatively, you can use [Iguazio's **managed** MLRun service](https://www.iguazio.com/docs/latest-release/).\n",
    "\n",
    "This Jupyter Notebook server is designed to work with the different options, it works out of the box with the **local** deployment mode.<br> \n",
    "In order to work with remote MLRun service (Kubernetes or managed) you need to edit and save the [**mlrun.env**](./mlrun.env) file in the following way:\n",
    "\n",
    "```sh\n",
    "# set remote MLRun service address, username and access-key\n",
    "MLRUN_DBPATH=https://<service-address>\n",
    "V3IO_USERNAME=<user>\n",
    "V3IO_ACCESS_KEY=<access-key>\n",
    "```\n",
    "\n",
    "**Once You are done, save the file using the menu or `ctrl + s`, you may need to restart existing Notebooks for the changes to take effect.**"
   ]
  },
  {
   "cell_type": "markdown",
   "id": "d9e73896-e1f8-4f87-8858-0c199c02874c",
   "metadata": {},
   "source": [
    "## Tutorials and Examples\n",
    "\n",
    "The following tutorials provide a hands-on introduction to using MLRun to implement a data science workflow and automate machine-learning operations (MLOps).\n",
    "\n",
    "Make sure you start with the [**Quick Start Tutorial**](./tutorial/01-mlrun-basics.ipynb) to understand the basics before going through the other notebooks.\n",
    "\n",
    "- [**Quick Start Tutorial**](./tutorial/01-mlrun-basics.ipynb)\n",
    "- [**Train, Compare, and Register Models**](./tutorial/02-model-training.ipynb)\n",
    "- [**Serving ML/DL models**](./tutorial/03-model-serving.ipynb)\n",
    "- [**Projects and Automated ML Pipeline**](./tutorial/04-pipeline.ipynb)\n",
    "- [**Real-time Monitoring & Drift Detection (currently require Iguazio cluster)**](./tutorial/05-model-monitoring.ipynb)\n",
    "- [**Add MLOps to existing code**](./tutorial/06-add-mlops-to-code.ipynb)\n",
    "- [**Batch Inference and Drift Detection**](./tutorial/07-batch-infer.ipynb)\n",
    "\n",
    "\n",
    "You can find different end to end demos in under the [**demos folder**](./demos/README.md).\n",
    "\n"
   ]
  },
  {
   "cell_type": "code",
   "execution_count": null,
   "id": "9ce594a4-2515-468e-9283-b39530d1ee32",
   "metadata": {},
   "outputs": [],
   "source": []
  }
 ],
 "metadata": {
  "kernelspec": {
   "display_name": "Python 3",
   "language": "python",
   "name": "python3"
  },
  "language_info": {
   "codemirror_mode": {
    "name": "ipython",
    "version": 3
   },
   "file_extension": ".py",
   "mimetype": "text/x-python",
   "name": "python",
   "nbconvert_exporter": "python",
   "pygments_lexer": "ipython3",
   "version": "3.8.8"
  }
 },
 "nbformat": 4,
 "nbformat_minor": 5
}
