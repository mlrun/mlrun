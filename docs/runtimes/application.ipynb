{
 "cells": [
  {
   "cell_type": "markdown",
   "metadata": {},
   "source": [
    "(application)=\n",
    "# Application runtime\n",
    "\n",
    "You can use the {py:meth}`~mlrun.runtimes.ApplicationRuntime` to provide an image that runs on top of your deployed model. \n",
    "\n",
    "The application runtime deploys a container image (for example, a web application) that is exposed on a specific port, and a command to run the HTTP server. The runtime is based on top of Nuclio, and adds the application as a side-car to a Nuclio function pod while the actual function is a reverse proxy to that application. \n",
    "\n",
    "You can set an existing image to run in the application, or let the application runtime build the side-car image for you, by specifying the source code, and pulling at build-time. \n",
    "\n",
    "> Note: The default base image is `python:3.9` when not specifying and image for the application.\n",
    "    \n",
    "An API Gateway, by default, is in front of the application and can provide different authentication methods, or none.\n",
    "\n",
    "Typical use cases are:\n",
    "- Deploy a [Vizro](https://github.com/mckinsey/vizro) dashboard that communicates with an external source (for example, a serving model) to display graphs, data, and inference.\n",
    "- Deploy a model and a UI &mdash; the model serving is the backend and the UI is the side car.\n",
    "- Deploy a fastapi web-server with an MLRun model. In this case, the Nuclio function is a reverse proxy and the user web-app is the side car.\n",
    "\n",
    "\n",
    "## Usage examples\n",
    "\n",
    "Deploy a Vizro dashboard from a pre-built image:"
   ]
  },
  {
   "cell_type": "code",
   "execution_count": null,
   "metadata": {},
   "outputs": [],
   "source": [
    "# Create an application runtime (with pre-built image)\n",
    "application = project.set_function(\n",
    "    name=\"my-vizro-dashboard\", kind=\"application\", image=\"repo/my-vizro-image:latest\"\n",
    ")\n",
    "# Set the port that the side-car listens on\n",
    "application.set_internal_application_port(port=8050)\n",
    "\n",
    "# Deploy\n",
    "application.deploy()"
   ]
  },
  {
   "cell_type": "markdown",
   "metadata": {},
   "source": [
    "Deploy a Vizro dashboard from a source archive or git:"
   ]
  },
  {
   "cell_type": "code",
   "execution_count": null,
   "metadata": {},
   "outputs": [],
   "source": [
    "# Specify the source to be loaded at build-time or run-time\n",
    "application = project.set_function(\n",
    "    name=\"my-vizro-dashboard\", kind=\"application\", requirements=[\"vizro\"]\n",
    ")\n",
    "application.set_internal_application_port(8050)\n",
    "application.spec.command = \"gunicorn\"\n",
    "application.spec.args = [\n",
    "    \"<my-app>:<my-server>\",\n",
    "    \"--bind\",\n",
    "    \"0.0.0.0:8050\",\n",
    "]\n",
    "\n",
    "# Provide code artifacts\n",
    "application.with_source_archive(\n",
    "    \"git://github.com/org/repo#my-branch\", pull_at_runtime=False\n",
    ")\n",
    "\n",
    "# Build the application image via MLRun and deploy the Nuclio function\n",
    "# Optionally add mlrun\n",
    "application.deploy(with_mlrun=False)"
   ]
  },
  {
   "cell_type": "markdown",
   "source": [
    "Reusing an already built reverse proxy image is done when:\n",
    "- Redeploying a function that built the reverse proxy once and has `application.status.container_image` enriched.\n",
    "- It was already built manually with `mlrun.runtimes.ApplicationRuntime.deploy_reverse_proxy_image()`.\n",
    "\n",
    "Using one of the above options can help minimize redundant builds and streamline the development cycle. "
   ],
   "metadata": {
    "collapsed": false
   }
  },
  {
   "metadata": {},
   "cell_type": "markdown",
   "source": [
    "### Authentication modes\n",
    "\n",
    "An application runtime can be accessed through an API Gateway that supports various authentication methods. \n",
    "The standard authentication mode is typically none, unless the application is deployed on the Iguazio platform, where access-key authentication becomes the default.\n",
    "\n",
    "The different authentication modes can be configured as follows:"
   ]
  },
  {
   "metadata": {},
   "cell_type": "code",
   "outputs": [],
   "execution_count": null,
   "source": [
    "from mlrun.common.schemas.api_gateway import APIGatewayAuthenticationMode\n",
    "\n",
    "# deploy with authentication mode \"none\"\n",
    "application.deploy(\n",
    "    authentication_mode=APIGatewayAuthenticationMode.none,\n",
    ")\n",
    "\n",
    "# for Basic authentication mode, credentials are also required.\n",
    "# This means that the application can be invoked only using these credentials\n",
    "application.deploy(\n",
    "    authentication_mode=APIGatewayAuthenticationMode.basic,\n",
    "    authentication_creds=(\"my-username\", \"my-password\")\n",
    ")\n",
    "\n",
    "# for access-key authentication mode, the application can be invoked only with a valid session\n",
    "application.deploy(\n",
    "    authentication_mode=APIGatewayAuthenticationMode.access_key,\n",
    ")"
   ]
  },
  {
   "metadata": {},
   "cell_type": "markdown",
   "source": [
    "### Application runtime in a dark environment\n",
    "\n",
    "To use application runtime in a dark (air-gapped) environment, you need to build the reverse proxy image and push it to a private registry, following the steps below:"
   ]
  },
  {
   "metadata": {},
   "cell_type": "code",
   "outputs": [],
   "execution_count": null,
   "source": [
    "# 1. Create the reverse proxy image in a non air-gapped system\n",
    "import mlrun.runtimes.nuclio.application\n",
    "mlrun.runtimes.nuclio.application.ApplicationRuntime.deploy_reverse_proxy_image()\n",
    "\n",
    "# 2. The created image name is saved on the ApplicationRuntime class:\n",
    "mlrun.runtimes.nuclio.application.ApplicationRuntime.reverse_proxy_image\n",
    "\n",
    "# 3. Push the created image to the system’s docker registry\n",
    "\n",
    "# 4. On the air-gapped environment, set the image on the class property:\n",
    "mlrun.runtimes.nuclio.application.ApplicationRuntime.reverse_proxy_image = \"registry/reverse-proxy-image:<tag>\"\n",
    "\n",
    "# 5. When creating application functions, this image will be used as the reverse proxy image, and it won’t be built again."
   ]
  }
 ],
 "metadata": {
  "kernelspec": {
   "display_name": "Python 3 (ipykernel)",
   "language": "python",
   "name": "python3"
  },
  "language_info": {
   "codemirror_mode": {
    "name": "ipython",
    "version": 3
   },
   "file_extension": ".py",
   "mimetype": "text/x-python",
   "name": "python",
   "nbconvert_exporter": "python",
   "pygments_lexer": "ipython3",
   "version": "3.9.13"
  }
 },
 "nbformat": 4,
 "nbformat_minor": 4
}
