{
 "cells": [
  {
   "cell_type": "markdown",
   "id": "c478ebb2",
   "metadata": {},
   "source": [
    "# MLflow tracker tutorial\n",
    "\n",
    "This tutorial demonstrates how to seamlessly integrate and transfer logs from MLflow to MLRun, </br>\n",
    "creating a unified and powerful platform for your machine learning experiments.\n",
    "\n",
    "MLflow and MLRun are two exceptional tools that, when combined, offer a comprehensive solution for managing, tracking, and deploying machine learning models. \n",
    "\n",
    "This notebook guides you through the process of:\n",
    "\n",
    "1. Setting up the integration between MLflow and MLRun.\n",
    "2. Extracting data, metrics, and artifacts from MLflow experiments.\n",
    "3. Creating MLRun artifacts and projects to organize and manage the transferred data.\n",
    "4. Leveraging MLRun's capabilities for model deployment and data processing.\n",
    "\n",
    "By the end of this tutorial, you will have a understanding of how to establish a smooth flow of data between MLflow and MLRun."
   ]
  },
  {
   "cell_type": "code",
   "execution_count": 13,
   "id": "1a968d75-13ba-4e7a-886e-f12316cc1ff2",
   "metadata": {},
   "outputs": [
    {
     "name": "stdout",
     "output_type": "stream",
     "text": [
      "\u001b[33mWARNING: Ignoring invalid distribution -lotly (/User/.pythonlibs/mlrun-base/lib/python3.9/site-packages)\u001b[0m\u001b[33m\n",
      "\u001b[0m\u001b[33mWARNING: Ignoring invalid distribution -lotly (/User/.pythonlibs/mlrun-base/lib/python3.9/site-packages)\u001b[0m\u001b[33m\n",
      "\u001b[0mFound existing installation: mlrun 0.0.0+unstable\n",
      "Uninstalling mlrun-0.0.0+unstable:\n",
      "  Successfully uninstalled mlrun-0.0.0+unstable\n"
     ]
    }
   ],
   "source": [
    "! pip uninstall mlrun -y"
   ]
  },
  {
   "cell_type": "code",
   "execution_count": 14,
   "id": "3faa232a-9387-4e22-ac27-d6d807e365da",
   "metadata": {},
   "outputs": [
    {
     "name": "stdout",
     "output_type": "stream",
     "text": [
      "\u001b[33mWARNING: Ignoring invalid distribution -lotly (/User/.pythonlibs/mlrun-base/lib/python3.9/site-packages)\u001b[0m\u001b[33m\n",
      "\u001b[0m\u001b[33mWARNING: Ignoring invalid distribution -lotly (/User/.pythonlibs/mlrun-base/lib/python3.9/site-packages)\u001b[0m\u001b[33m\n",
      "\u001b[0mCollecting git+https://github.com/ZeevRispler/mlrun.git@mlflow-track\n",
      "  Cloning https://github.com/ZeevRispler/mlrun.git (to revision mlflow-track) to /tmp/pip-req-build-sz2k3yn7\n",
      "  Running command git clone --filter=blob:none --quiet https://github.com/ZeevRispler/mlrun.git /tmp/pip-req-build-sz2k3yn7\n",
      "  Running command git checkout -b mlflow-track --track origin/mlflow-track\n",
      "  Switched to a new branch 'mlflow-track'\n",
      "  Branch 'mlflow-track' set up to track remote branch 'mlflow-track' from 'origin'.\n",
      "  Resolved https://github.com/ZeevRispler/mlrun.git to commit bc932259877b6896628e62d9f62168b7596f9f02\n",
      "  Installing build dependencies ... \u001b[?25ldone\n",
      "\u001b[?25h  Getting requirements to build wheel ... \u001b[?25ldone\n",
      "\u001b[?25h  Preparing metadata (pyproject.toml) ... \u001b[?25ldone\n",
      "\u001b[?25hRequirement already satisfied: nest-asyncio~=1.0 in /conda/envs/mlrun-base/lib/python3.9/site-packages (from mlrun==0.0.0+unstable) (1.5.6)\n",
      "Requirement already satisfied: pandas<3,>=1.2 in /conda/envs/mlrun-base/lib/python3.9/site-packages (from mlrun==0.0.0+unstable) (1.4.4)\n",
      "Requirement already satisfied: numpy<1.23.0,>=1.16.5 in /conda/envs/mlrun-base/lib/python3.9/site-packages (from mlrun==0.0.0+unstable) (1.22.4)\n",
      "Requirement already satisfied: python-dotenv~=0.17.0 in /conda/envs/mlrun-base/lib/python3.9/site-packages (from mlrun==0.0.0+unstable) (0.17.1)\n",
      "Requirement already satisfied: ipython~=8.10 in /conda/envs/mlrun-base/lib/python3.9/site-packages (from mlrun==0.0.0+unstable) (8.11.0)\n",
      "Requirement already satisfied: pydantic>=1.10.8,~=1.10 in ./.pythonlibs/mlrun-base/lib/python3.9/site-packages (from mlrun==0.0.0+unstable) (1.10.11)\n",
      "Requirement already satisfied: fsspec<2023.7,>=2023.1 in ./.pythonlibs/mlrun-base/lib/python3.9/site-packages (from mlrun==0.0.0+unstable) (2023.6.0)\n",
      "Collecting setuptools~=68.2\n",
      "  Using cached setuptools-68.2.2-py3-none-any.whl (807 kB)\n",
      "Requirement already satisfied: pyyaml~=5.1 in /conda/envs/mlrun-base/lib/python3.9/site-packages (from mlrun==0.0.0+unstable) (5.4.1)\n",
      "Requirement already satisfied: pyarrow<12,>=10.0 in /conda/envs/mlrun-base/lib/python3.9/site-packages (from mlrun==0.0.0+unstable) (10.0.1)\n",
      "Requirement already satisfied: mergedeep~=1.3 in /conda/envs/mlrun-base/lib/python3.9/site-packages (from mlrun==0.0.0+unstable) (1.3.4)\n",
      "Requirement already satisfied: deprecated~=1.2 in /conda/envs/mlrun-base/lib/python3.9/site-packages (from mlrun==0.0.0+unstable) (1.2.13)\n",
      "Collecting storey~=1.6.1\n",
      "  Downloading storey-1.6.3-py3-none-any.whl (161 kB)\n",
      "\u001b[2K     \u001b[90m━━━━━━━━━━━━━━━━━━━━━━━━━━━━━━━━━━━━━━━\u001b[0m \u001b[32m161.3/161.3 kB\u001b[0m \u001b[31m5.1 MB/s\u001b[0m eta \u001b[36m0:00:00\u001b[0m\n",
      "\u001b[?25hRequirement already satisfied: v3io-frames~=0.10.7 in ./.pythonlibs/mlrun-base/lib/python3.9/site-packages (from mlrun==0.0.0+unstable) (0.10.8)\n",
      "Requirement already satisfied: GitPython>=3.1.30,~=3.1 in /conda/envs/mlrun-base/lib/python3.9/site-packages (from mlrun==0.0.0+unstable) (3.1.31)\n",
      "Requirement already satisfied: jinja2~=3.1 in /conda/envs/mlrun-base/lib/python3.9/site-packages (from mlrun==0.0.0+unstable) (3.1.2)\n",
      "Requirement already satisfied: v3io~=0.5.21 in ./.pythonlibs/mlrun-base/lib/python3.9/site-packages (from mlrun==0.0.0+unstable) (0.5.21)\n",
      "Requirement already satisfied: requests~=2.31 in ./.pythonlibs/mlrun-base/lib/python3.9/site-packages (from mlrun==0.0.0+unstable) (2.31.0)\n",
      "Requirement already satisfied: semver~=3.0 in ./.pythonlibs/mlrun-base/lib/python3.9/site-packages (from mlrun==0.0.0+unstable) (3.0.1)\n",
      "Requirement already satisfied: kfp<1.8.14,~=1.8.0 in /conda/envs/mlrun-base/lib/python3.9/site-packages (from mlrun==0.0.0+unstable) (1.8.13)\n",
      "Requirement already satisfied: tabulate~=0.8.6 in /conda/envs/mlrun-base/lib/python3.9/site-packages (from mlrun==0.0.0+unstable) (0.8.10)\n",
      "Requirement already satisfied: aiohttp-retry~=2.8 in /conda/envs/mlrun-base/lib/python3.9/site-packages (from mlrun==0.0.0+unstable) (2.8.3)\n",
      "Requirement already satisfied: aiohttp~=3.8 in /conda/envs/mlrun-base/lib/python3.9/site-packages (from mlrun==0.0.0+unstable) (3.8.4)\n",
      "Collecting click~=8.1\n",
      "  Downloading click-8.1.7-py3-none-any.whl (97 kB)\n",
      "\u001b[2K     \u001b[90m━━━━━━━━━━━━━━━━━━━━━━━━━━━━━━━━━━━━━━━━\u001b[0m \u001b[32m97.9/97.9 kB\u001b[0m \u001b[31m26.4 MB/s\u001b[0m eta \u001b[36m0:00:00\u001b[0m\n",
      "\u001b[?25hRequirement already satisfied: inflection~=0.5.0 in /conda/envs/mlrun-base/lib/python3.9/site-packages (from mlrun==0.0.0+unstable) (0.5.1)\n",
      "Requirement already satisfied: anyio~=3.7 in ./.pythonlibs/mlrun-base/lib/python3.9/site-packages (from mlrun==0.0.0+unstable) (3.7.1)\n",
      "Requirement already satisfied: dependency-injector~=4.41 in ./.pythonlibs/mlrun-base/lib/python3.9/site-packages (from mlrun==0.0.0+unstable) (4.41.0)\n",
      "Collecting orjson~=3.9\n",
      "  Downloading orjson-3.9.10-cp39-cp39-manylinux_2_17_x86_64.manylinux2014_x86_64.whl (138 kB)\n",
      "\u001b[2K     \u001b[90m━━━━━━━━━━━━━━━━━━━━━━━━━━━━━━━━━━━━━━\u001b[0m \u001b[32m138.6/138.6 kB\u001b[0m \u001b[31m30.7 MB/s\u001b[0m eta \u001b[36m0:00:00\u001b[0m\n",
      "\u001b[?25hRequirement already satisfied: nuclio-jupyter~=0.9.12 in ./.pythonlibs/mlrun-base/lib/python3.9/site-packages (from mlrun==0.0.0+unstable) (0.9.13)\n",
      "Requirement already satisfied: v3iofs~=0.1.15 in /conda/envs/mlrun-base/lib/python3.9/site-packages (from mlrun==0.0.0+unstable) (0.1.15)\n",
      "Requirement already satisfied: urllib3<1.27,>=1.26.9 in /conda/envs/mlrun-base/lib/python3.9/site-packages (from mlrun==0.0.0+unstable) (1.26.15)\n",
      "Requirement already satisfied: async-timeout<5.0,>=4.0.0a3 in /conda/envs/mlrun-base/lib/python3.9/site-packages (from aiohttp~=3.8->mlrun==0.0.0+unstable) (4.0.2)\n",
      "Requirement already satisfied: aiosignal>=1.1.2 in /conda/envs/mlrun-base/lib/python3.9/site-packages (from aiohttp~=3.8->mlrun==0.0.0+unstable) (1.3.1)\n",
      "Requirement already satisfied: charset-normalizer<4.0,>=2.0 in /conda/envs/mlrun-base/lib/python3.9/site-packages (from aiohttp~=3.8->mlrun==0.0.0+unstable) (3.1.0)\n",
      "Requirement already satisfied: yarl<2.0,>=1.0 in /conda/envs/mlrun-base/lib/python3.9/site-packages (from aiohttp~=3.8->mlrun==0.0.0+unstable) (1.8.2)\n",
      "Requirement already satisfied: frozenlist>=1.1.1 in /conda/envs/mlrun-base/lib/python3.9/site-packages (from aiohttp~=3.8->mlrun==0.0.0+unstable) (1.3.3)\n",
      "Requirement already satisfied: attrs>=17.3.0 in /conda/envs/mlrun-base/lib/python3.9/site-packages (from aiohttp~=3.8->mlrun==0.0.0+unstable) (22.2.0)\n",
      "Requirement already satisfied: multidict<7.0,>=4.5 in /conda/envs/mlrun-base/lib/python3.9/site-packages (from aiohttp~=3.8->mlrun==0.0.0+unstable) (6.0.4)\n",
      "Requirement already satisfied: sniffio>=1.1 in /conda/envs/mlrun-base/lib/python3.9/site-packages (from anyio~=3.7->mlrun==0.0.0+unstable) (1.3.0)\n",
      "Requirement already satisfied: idna>=2.8 in ./.pythonlibs/mlrun-base/lib/python3.9/site-packages (from anyio~=3.7->mlrun==0.0.0+unstable) (2.10)\n",
      "Requirement already satisfied: exceptiongroup in ./.pythonlibs/mlrun-base/lib/python3.9/site-packages (from anyio~=3.7->mlrun==0.0.0+unstable) (1.1.3)\n",
      "Requirement already satisfied: six<=1.16.0,>=1.7.0 in /conda/envs/mlrun-base/lib/python3.9/site-packages (from dependency-injector~=4.41->mlrun==0.0.0+unstable) (1.16.0)\n",
      "Requirement already satisfied: wrapt<2,>=1.10 in /conda/envs/mlrun-base/lib/python3.9/site-packages (from deprecated~=1.2->mlrun==0.0.0+unstable) (1.15.0)\n",
      "Requirement already satisfied: gitdb<5,>=4.0.1 in /conda/envs/mlrun-base/lib/python3.9/site-packages (from GitPython>=3.1.30,~=3.1->mlrun==0.0.0+unstable) (4.0.10)\n",
      "Requirement already satisfied: traitlets>=5 in /conda/envs/mlrun-base/lib/python3.9/site-packages (from ipython~=8.10->mlrun==0.0.0+unstable) (5.9.0)\n",
      "Requirement already satisfied: prompt-toolkit!=3.0.37,<3.1.0,>=3.0.30 in /conda/envs/mlrun-base/lib/python3.9/site-packages (from ipython~=8.10->mlrun==0.0.0+unstable) (3.0.38)\n",
      "Requirement already satisfied: jedi>=0.16 in /conda/envs/mlrun-base/lib/python3.9/site-packages (from ipython~=8.10->mlrun==0.0.0+unstable) (0.18.2)\n",
      "Requirement already satisfied: matplotlib-inline in /conda/envs/mlrun-base/lib/python3.9/site-packages (from ipython~=8.10->mlrun==0.0.0+unstable) (0.1.6)\n",
      "Requirement already satisfied: pickleshare in /conda/envs/mlrun-base/lib/python3.9/site-packages (from ipython~=8.10->mlrun==0.0.0+unstable) (0.7.5)\n",
      "Requirement already satisfied: pexpect>4.3 in /conda/envs/mlrun-base/lib/python3.9/site-packages (from ipython~=8.10->mlrun==0.0.0+unstable) (4.8.0)\n",
      "Requirement already satisfied: stack-data in /conda/envs/mlrun-base/lib/python3.9/site-packages (from ipython~=8.10->mlrun==0.0.0+unstable) (0.6.2)\n",
      "Requirement already satisfied: decorator in /conda/envs/mlrun-base/lib/python3.9/site-packages (from ipython~=8.10->mlrun==0.0.0+unstable) (5.1.1)\n",
      "Requirement already satisfied: backcall in /conda/envs/mlrun-base/lib/python3.9/site-packages (from ipython~=8.10->mlrun==0.0.0+unstable) (0.2.0)\n",
      "Requirement already satisfied: pygments>=2.4.0 in /conda/envs/mlrun-base/lib/python3.9/site-packages (from ipython~=8.10->mlrun==0.0.0+unstable) (2.15.1)\n",
      "Requirement already satisfied: MarkupSafe>=2.0 in /conda/envs/mlrun-base/lib/python3.9/site-packages (from jinja2~=3.1->mlrun==0.0.0+unstable) (2.1.2)\n",
      "Requirement already satisfied: google-auth<2,>=1.6.1 in /conda/envs/mlrun-base/lib/python3.9/site-packages (from kfp<1.8.14,~=1.8.0->mlrun==0.0.0+unstable) (1.35.0)\n",
      "Requirement already satisfied: fire<1,>=0.3.1 in /conda/envs/mlrun-base/lib/python3.9/site-packages (from kfp<1.8.14,~=1.8.0->mlrun==0.0.0+unstable) (0.5.0)\n",
      "Requirement already satisfied: strip-hints<1,>=0.1.8 in /conda/envs/mlrun-base/lib/python3.9/site-packages (from kfp<1.8.14,~=1.8.0->mlrun==0.0.0+unstable) (0.1.10)\n",
      "Requirement already satisfied: docstring-parser<1,>=0.7.3 in /conda/envs/mlrun-base/lib/python3.9/site-packages (from kfp<1.8.14,~=1.8.0->mlrun==0.0.0+unstable) (0.15)\n",
      "Requirement already satisfied: cloudpickle<3,>=2.0.0 in /conda/envs/mlrun-base/lib/python3.9/site-packages (from kfp<1.8.14,~=1.8.0->mlrun==0.0.0+unstable) (2.2.1)\n",
      "Requirement already satisfied: protobuf<4,>=3.13.0 in /conda/envs/mlrun-base/lib/python3.9/site-packages (from kfp<1.8.14,~=1.8.0->mlrun==0.0.0+unstable) (3.19.6)\n",
      "Requirement already satisfied: kubernetes<19,>=8.0.0 in /conda/envs/mlrun-base/lib/python3.9/site-packages (from kfp<1.8.14,~=1.8.0->mlrun==0.0.0+unstable) (12.0.1)\n",
      "Requirement already satisfied: kfp-pipeline-spec<0.2.0,>=0.1.14 in /conda/envs/mlrun-base/lib/python3.9/site-packages (from kfp<1.8.14,~=1.8.0->mlrun==0.0.0+unstable) (0.1.16)\n",
      "Requirement already satisfied: google-cloud-storage<2,>=1.20.0 in /conda/envs/mlrun-base/lib/python3.9/site-packages (from kfp<1.8.14,~=1.8.0->mlrun==0.0.0+unstable) (1.44.0)\n",
      "Requirement already satisfied: google-api-core!=2.0.*,!=2.1.*,!=2.2.*,!=2.3.0,<3.0.0dev,>=1.31.5 in /conda/envs/mlrun-base/lib/python3.9/site-packages (from kfp<1.8.14,~=1.8.0->mlrun==0.0.0+unstable) (2.10.2)\n",
      "Requirement already satisfied: absl-py<2,>=0.9 in /conda/envs/mlrun-base/lib/python3.9/site-packages (from kfp<1.8.14,~=1.8.0->mlrun==0.0.0+unstable) (1.4.0)\n",
      "Requirement already satisfied: kfp-server-api<2.0.0,>=1.1.2 in /conda/envs/mlrun-base/lib/python3.9/site-packages (from kfp<1.8.14,~=1.8.0->mlrun==0.0.0+unstable) (1.8.5)\n",
      "Requirement already satisfied: jsonschema<4,>=3.0.1 in /conda/envs/mlrun-base/lib/python3.9/site-packages (from kfp<1.8.14,~=1.8.0->mlrun==0.0.0+unstable) (3.2.0)\n",
      "Requirement already satisfied: uritemplate<4,>=3.0.1 in /conda/envs/mlrun-base/lib/python3.9/site-packages (from kfp<1.8.14,~=1.8.0->mlrun==0.0.0+unstable) (3.0.1)\n",
      "Requirement already satisfied: requests-toolbelt<1,>=0.8.0 in /conda/envs/mlrun-base/lib/python3.9/site-packages (from kfp<1.8.14,~=1.8.0->mlrun==0.0.0+unstable) (0.10.1)\n",
      "Requirement already satisfied: google-api-python-client<2,>=1.7.8 in /conda/envs/mlrun-base/lib/python3.9/site-packages (from kfp<1.8.14,~=1.8.0->mlrun==0.0.0+unstable) (1.12.11)\n",
      "Requirement already satisfied: typer<1.0,>=0.3.2 in /conda/envs/mlrun-base/lib/python3.9/site-packages (from kfp<1.8.14,~=1.8.0->mlrun==0.0.0+unstable) (0.7.0)\n",
      "Requirement already satisfied: nbconvert>=6.4.5 in /conda/envs/mlrun-base/lib/python3.9/site-packages (from nuclio-jupyter~=0.9.12->mlrun==0.0.0+unstable) (7.3.1)\n",
      "Requirement already satisfied: boto3>=1.9 in /conda/envs/mlrun-base/lib/python3.9/site-packages (from nuclio-jupyter~=0.9.12->mlrun==0.0.0+unstable) (1.17.106)\n",
      "Requirement already satisfied: notebook<7.0.0,>=6.4 in /conda/envs/mlrun-base/lib/python3.9/site-packages (from nuclio-jupyter~=0.9.12->mlrun==0.0.0+unstable) (6.5.4)\n",
      "Requirement already satisfied: python-dateutil>=2.8.1 in /conda/envs/mlrun-base/lib/python3.9/site-packages (from pandas<3,>=1.2->mlrun==0.0.0+unstable) (2.8.2)\n",
      "Requirement already satisfied: pytz>=2020.1 in /conda/envs/mlrun-base/lib/python3.9/site-packages (from pandas<3,>=1.2->mlrun==0.0.0+unstable) (2023.3)\n",
      "Requirement already satisfied: typing-extensions>=4.2.0 in /conda/envs/mlrun-base/lib/python3.9/site-packages (from pydantic>=1.10.8,~=1.10->mlrun==0.0.0+unstable) (4.5.0)\n",
      "Requirement already satisfied: certifi>=2017.4.17 in /conda/envs/mlrun-base/lib/python3.9/site-packages (from requests~=2.31->mlrun==0.0.0+unstable) (2022.12.7)\n",
      "Requirement already satisfied: nuclio-sdk>=0.5.3 in ./.pythonlibs/mlrun-base/lib/python3.9/site-packages (from storey~=1.6.1->mlrun==0.0.0+unstable) (0.5.6)\n",
      "Requirement already satisfied: xxhash>=1 in /conda/envs/mlrun-base/lib/python3.9/site-packages (from storey~=1.6.1->mlrun==0.0.0+unstable) (3.2.0)\n",
      "Requirement already satisfied: ujson>=3 in /conda/envs/mlrun-base/lib/python3.9/site-packages (from v3io~=0.5.21->mlrun==0.0.0+unstable) (5.7.0)\n",
      "Requirement already satisfied: future>=0.18.2 in /conda/envs/mlrun-base/lib/python3.9/site-packages (from v3io~=0.5.21->mlrun==0.0.0+unstable) (0.18.3)\n",
      "Requirement already satisfied: grpcio-tools!=1.34.0,<1.49,>=1.30 in /conda/envs/mlrun-base/lib/python3.9/site-packages (from v3io-frames~=0.10.7->mlrun==0.0.0+unstable) (1.48.2)\n",
      "Requirement already satisfied: googleapis-common-protos>=1.5.3 in /conda/envs/mlrun-base/lib/python3.9/site-packages (from v3io-frames~=0.10.7->mlrun==0.0.0+unstable) (1.59.0)\n",
      "Requirement already satisfied: jmespath<1.0.0,>=0.7.1 in /conda/envs/mlrun-base/lib/python3.9/site-packages (from boto3>=1.9->nuclio-jupyter~=0.9.12->mlrun==0.0.0+unstable) (0.10.0)\n",
      "Requirement already satisfied: botocore<1.21.0,>=1.20.106 in /conda/envs/mlrun-base/lib/python3.9/site-packages (from boto3>=1.9->nuclio-jupyter~=0.9.12->mlrun==0.0.0+unstable) (1.20.106)\n",
      "Requirement already satisfied: s3transfer<0.5.0,>=0.4.0 in /conda/envs/mlrun-base/lib/python3.9/site-packages (from boto3>=1.9->nuclio-jupyter~=0.9.12->mlrun==0.0.0+unstable) (0.4.2)\n",
      "Requirement already satisfied: termcolor in /conda/envs/mlrun-base/lib/python3.9/site-packages (from fire<1,>=0.3.1->kfp<1.8.14,~=1.8.0->mlrun==0.0.0+unstable) (2.2.0)\n",
      "Requirement already satisfied: smmap<6,>=3.0.1 in /conda/envs/mlrun-base/lib/python3.9/site-packages (from gitdb<5,>=4.0.1->GitPython>=3.1.30,~=3.1->mlrun==0.0.0+unstable) (5.0.0)\n",
      "Requirement already satisfied: httplib2<1dev,>=0.15.0 in /conda/envs/mlrun-base/lib/python3.9/site-packages (from google-api-python-client<2,>=1.7.8->kfp<1.8.14,~=1.8.0->mlrun==0.0.0+unstable) (0.22.0)\n",
      "Requirement already satisfied: google-auth-httplib2>=0.0.3 in /conda/envs/mlrun-base/lib/python3.9/site-packages (from google-api-python-client<2,>=1.7.8->kfp<1.8.14,~=1.8.0->mlrun==0.0.0+unstable) (0.1.0)\n",
      "Requirement already satisfied: rsa<5,>=3.1.4 in /conda/envs/mlrun-base/lib/python3.9/site-packages (from google-auth<2,>=1.6.1->kfp<1.8.14,~=1.8.0->mlrun==0.0.0+unstable) (4.9)\n",
      "Requirement already satisfied: pyasn1-modules>=0.2.1 in /conda/envs/mlrun-base/lib/python3.9/site-packages (from google-auth<2,>=1.6.1->kfp<1.8.14,~=1.8.0->mlrun==0.0.0+unstable) (0.2.8)\n",
      "Requirement already satisfied: cachetools<5.0,>=2.0.0 in /conda/envs/mlrun-base/lib/python3.9/site-packages (from google-auth<2,>=1.6.1->kfp<1.8.14,~=1.8.0->mlrun==0.0.0+unstable) (4.2.4)\n",
      "Requirement already satisfied: google-cloud-core<3.0dev,>=1.6.0 in /conda/envs/mlrun-base/lib/python3.9/site-packages (from google-cloud-storage<2,>=1.20.0->kfp<1.8.14,~=1.8.0->mlrun==0.0.0+unstable) (2.3.2)\n",
      "Requirement already satisfied: google-resumable-media<3.0dev,>=1.3.0 in /conda/envs/mlrun-base/lib/python3.9/site-packages (from google-cloud-storage<2,>=1.20.0->kfp<1.8.14,~=1.8.0->mlrun==0.0.0+unstable) (2.4.1)\n",
      "Requirement already satisfied: grpcio>=1.48.2 in /conda/envs/mlrun-base/lib/python3.9/site-packages (from grpcio-tools!=1.34.0,<1.49,>=1.30->v3io-frames~=0.10.7->mlrun==0.0.0+unstable) (1.48.2)\n",
      "Requirement already satisfied: parso<0.9.0,>=0.8.0 in /conda/envs/mlrun-base/lib/python3.9/site-packages (from jedi>=0.16->ipython~=8.10->mlrun==0.0.0+unstable) (0.8.3)\n",
      "Requirement already satisfied: pyrsistent>=0.14.0 in /conda/envs/mlrun-base/lib/python3.9/site-packages (from jsonschema<4,>=3.0.1->kfp<1.8.14,~=1.8.0->mlrun==0.0.0+unstable) (0.19.3)\n",
      "Requirement already satisfied: requests-oauthlib in /conda/envs/mlrun-base/lib/python3.9/site-packages (from kubernetes<19,>=8.0.0->kfp<1.8.14,~=1.8.0->mlrun==0.0.0+unstable) (1.3.1)\n",
      "Requirement already satisfied: websocket-client!=0.40.0,!=0.41.*,!=0.42.*,>=0.32.0 in /conda/envs/mlrun-base/lib/python3.9/site-packages (from kubernetes<19,>=8.0.0->kfp<1.8.14,~=1.8.0->mlrun==0.0.0+unstable) (1.5.1)\n",
      "Requirement already satisfied: bleach in /conda/envs/mlrun-base/lib/python3.9/site-packages (from nbconvert>=6.4.5->nuclio-jupyter~=0.9.12->mlrun==0.0.0+unstable) (6.0.0)\n",
      "Requirement already satisfied: nbformat>=5.1 in /conda/envs/mlrun-base/lib/python3.9/site-packages (from nbconvert>=6.4.5->nuclio-jupyter~=0.9.12->mlrun==0.0.0+unstable) (5.8.0)\n",
      "Requirement already satisfied: mistune<3,>=2.0.3 in /conda/envs/mlrun-base/lib/python3.9/site-packages (from nbconvert>=6.4.5->nuclio-jupyter~=0.9.12->mlrun==0.0.0+unstable) (2.0.5)\n",
      "Requirement already satisfied: pandocfilters>=1.4.1 in /conda/envs/mlrun-base/lib/python3.9/site-packages (from nbconvert>=6.4.5->nuclio-jupyter~=0.9.12->mlrun==0.0.0+unstable) (1.5.0)\n",
      "Requirement already satisfied: importlib-metadata>=3.6 in /conda/envs/mlrun-base/lib/python3.9/site-packages (from nbconvert>=6.4.5->nuclio-jupyter~=0.9.12->mlrun==0.0.0+unstable) (6.5.0)\n",
      "Requirement already satisfied: jupyter-core>=4.7 in /conda/envs/mlrun-base/lib/python3.9/site-packages (from nbconvert>=6.4.5->nuclio-jupyter~=0.9.12->mlrun==0.0.0+unstable) (5.3.0)\n",
      "Requirement already satisfied: beautifulsoup4 in /conda/envs/mlrun-base/lib/python3.9/site-packages (from nbconvert>=6.4.5->nuclio-jupyter~=0.9.12->mlrun==0.0.0+unstable) (4.12.2)\n",
      "Requirement already satisfied: jupyterlab-pygments in /conda/envs/mlrun-base/lib/python3.9/site-packages (from nbconvert>=6.4.5->nuclio-jupyter~=0.9.12->mlrun==0.0.0+unstable) (0.2.2)\n",
      "Requirement already satisfied: tinycss2 in /conda/envs/mlrun-base/lib/python3.9/site-packages (from nbconvert>=6.4.5->nuclio-jupyter~=0.9.12->mlrun==0.0.0+unstable) (1.2.1)\n",
      "Requirement already satisfied: nbclient>=0.5.0 in /conda/envs/mlrun-base/lib/python3.9/site-packages (from nbconvert>=6.4.5->nuclio-jupyter~=0.9.12->mlrun==0.0.0+unstable) (0.7.3)\n",
      "Requirement already satisfied: packaging in /conda/envs/mlrun-base/lib/python3.9/site-packages (from nbconvert>=6.4.5->nuclio-jupyter~=0.9.12->mlrun==0.0.0+unstable) (21.3)\n",
      "Requirement already satisfied: defusedxml in /conda/envs/mlrun-base/lib/python3.9/site-packages (from nbconvert>=6.4.5->nuclio-jupyter~=0.9.12->mlrun==0.0.0+unstable) (0.7.1)\n",
      "Requirement already satisfied: argon2-cffi in /conda/envs/mlrun-base/lib/python3.9/site-packages (from notebook<7.0.0,>=6.4->nuclio-jupyter~=0.9.12->mlrun==0.0.0+unstable) (21.3.0)\n",
      "Requirement already satisfied: tornado>=6.1 in /conda/envs/mlrun-base/lib/python3.9/site-packages (from notebook<7.0.0,>=6.4->nuclio-jupyter~=0.9.12->mlrun==0.0.0+unstable) (6.3)\n",
      "Requirement already satisfied: terminado>=0.8.3 in /conda/envs/mlrun-base/lib/python3.9/site-packages (from notebook<7.0.0,>=6.4->nuclio-jupyter~=0.9.12->mlrun==0.0.0+unstable) (0.17.1)\n",
      "Requirement already satisfied: ipykernel in /conda/envs/mlrun-base/lib/python3.9/site-packages (from notebook<7.0.0,>=6.4->nuclio-jupyter~=0.9.12->mlrun==0.0.0+unstable) (5.5.5)\n",
      "Requirement already satisfied: Send2Trash>=1.8.0 in /conda/envs/mlrun-base/lib/python3.9/site-packages (from notebook<7.0.0,>=6.4->nuclio-jupyter~=0.9.12->mlrun==0.0.0+unstable) (1.8.0)\n",
      "Requirement already satisfied: nbclassic>=0.4.7 in /conda/envs/mlrun-base/lib/python3.9/site-packages (from notebook<7.0.0,>=6.4->nuclio-jupyter~=0.9.12->mlrun==0.0.0+unstable) (0.5.5)\n",
      "Requirement already satisfied: pyzmq>=17 in /conda/envs/mlrun-base/lib/python3.9/site-packages (from notebook<7.0.0,>=6.4->nuclio-jupyter~=0.9.12->mlrun==0.0.0+unstable) (25.0.2)\n",
      "Requirement already satisfied: jupyter-client>=5.3.4 in /conda/envs/mlrun-base/lib/python3.9/site-packages (from notebook<7.0.0,>=6.4->nuclio-jupyter~=0.9.12->mlrun==0.0.0+unstable) (8.2.0)\n",
      "Requirement already satisfied: prometheus-client in /conda/envs/mlrun-base/lib/python3.9/site-packages (from notebook<7.0.0,>=6.4->nuclio-jupyter~=0.9.12->mlrun==0.0.0+unstable) (0.16.0)\n",
      "Requirement already satisfied: ipython-genutils in /conda/envs/mlrun-base/lib/python3.9/site-packages (from notebook<7.0.0,>=6.4->nuclio-jupyter~=0.9.12->mlrun==0.0.0+unstable) (0.2.0)\n",
      "Requirement already satisfied: ptyprocess>=0.5 in /conda/envs/mlrun-base/lib/python3.9/site-packages (from pexpect>4.3->ipython~=8.10->mlrun==0.0.0+unstable) (0.7.0)\n",
      "Requirement already satisfied: wcwidth in /conda/envs/mlrun-base/lib/python3.9/site-packages (from prompt-toolkit!=3.0.37,<3.1.0,>=3.0.30->ipython~=8.10->mlrun==0.0.0+unstable) (0.2.6)\n",
      "Requirement already satisfied: wheel in /conda/envs/mlrun-base/lib/python3.9/site-packages (from strip-hints<1,>=0.1.8->kfp<1.8.14,~=1.8.0->mlrun==0.0.0+unstable) (0.38.4)\n",
      "Requirement already satisfied: asttokens>=2.1.0 in /conda/envs/mlrun-base/lib/python3.9/site-packages (from stack-data->ipython~=8.10->mlrun==0.0.0+unstable) (2.2.1)\n",
      "Requirement already satisfied: pure-eval in /conda/envs/mlrun-base/lib/python3.9/site-packages (from stack-data->ipython~=8.10->mlrun==0.0.0+unstable) (0.2.2)\n",
      "Requirement already satisfied: executing>=1.2.0 in /conda/envs/mlrun-base/lib/python3.9/site-packages (from stack-data->ipython~=8.10->mlrun==0.0.0+unstable) (1.2.0)\n",
      "Requirement already satisfied: google-crc32c<2.0dev,>=1.0 in /conda/envs/mlrun-base/lib/python3.9/site-packages (from google-resumable-media<3.0dev,>=1.3.0->google-cloud-storage<2,>=1.20.0->kfp<1.8.14,~=1.8.0->mlrun==0.0.0+unstable) (1.5.0)\n",
      "Requirement already satisfied: pyparsing!=3.0.0,!=3.0.1,!=3.0.2,!=3.0.3,<4,>=2.4.2 in /conda/envs/mlrun-base/lib/python3.9/site-packages (from httplib2<1dev,>=0.15.0->google-api-python-client<2,>=1.7.8->kfp<1.8.14,~=1.8.0->mlrun==0.0.0+unstable) (3.0.9)\n",
      "Requirement already satisfied: zipp>=0.5 in /conda/envs/mlrun-base/lib/python3.9/site-packages (from importlib-metadata>=3.6->nbconvert>=6.4.5->nuclio-jupyter~=0.9.12->mlrun==0.0.0+unstable) (3.15.0)\n",
      "Requirement already satisfied: platformdirs>=2.5 in /conda/envs/mlrun-base/lib/python3.9/site-packages (from jupyter-core>=4.7->nbconvert>=6.4.5->nuclio-jupyter~=0.9.12->mlrun==0.0.0+unstable) (3.2.0)\n",
      "Requirement already satisfied: jupyter-server>=1.8 in /conda/envs/mlrun-base/lib/python3.9/site-packages (from nbclassic>=0.4.7->notebook<7.0.0,>=6.4->nuclio-jupyter~=0.9.12->mlrun==0.0.0+unstable) (2.5.0)\n",
      "Requirement already satisfied: notebook-shim>=0.1.0 in /conda/envs/mlrun-base/lib/python3.9/site-packages (from nbclassic>=0.4.7->notebook<7.0.0,>=6.4->nuclio-jupyter~=0.9.12->mlrun==0.0.0+unstable) (0.2.2)\n",
      "Requirement already satisfied: fastjsonschema in /conda/envs/mlrun-base/lib/python3.9/site-packages (from nbformat>=5.1->nbconvert>=6.4.5->nuclio-jupyter~=0.9.12->mlrun==0.0.0+unstable) (2.16.3)\n",
      "Requirement already satisfied: pyasn1<0.5.0,>=0.4.6 in /conda/envs/mlrun-base/lib/python3.9/site-packages (from pyasn1-modules>=0.2.1->google-auth<2,>=1.6.1->kfp<1.8.14,~=1.8.0->mlrun==0.0.0+unstable) (0.4.8)\n",
      "Requirement already satisfied: argon2-cffi-bindings in /conda/envs/mlrun-base/lib/python3.9/site-packages (from argon2-cffi->notebook<7.0.0,>=6.4->nuclio-jupyter~=0.9.12->mlrun==0.0.0+unstable) (21.2.0)\n",
      "Requirement already satisfied: soupsieve>1.2 in /conda/envs/mlrun-base/lib/python3.9/site-packages (from beautifulsoup4->nbconvert>=6.4.5->nuclio-jupyter~=0.9.12->mlrun==0.0.0+unstable) (2.4.1)\n",
      "Requirement already satisfied: webencodings in /conda/envs/mlrun-base/lib/python3.9/site-packages (from bleach->nbconvert>=6.4.5->nuclio-jupyter~=0.9.12->mlrun==0.0.0+unstable) (0.5.1)\n",
      "Requirement already satisfied: oauthlib>=3.0.0 in /conda/envs/mlrun-base/lib/python3.9/site-packages (from requests-oauthlib->kubernetes<19,>=8.0.0->kfp<1.8.14,~=1.8.0->mlrun==0.0.0+unstable) (3.2.2)\n",
      "Requirement already satisfied: jupyter-events>=0.4.0 in /conda/envs/mlrun-base/lib/python3.9/site-packages (from jupyter-server>=1.8->nbclassic>=0.4.7->notebook<7.0.0,>=6.4->nuclio-jupyter~=0.9.12->mlrun==0.0.0+unstable) (0.6.3)\n",
      "Requirement already satisfied: jupyter-server-terminals in /conda/envs/mlrun-base/lib/python3.9/site-packages (from jupyter-server>=1.8->nbclassic>=0.4.7->notebook<7.0.0,>=6.4->nuclio-jupyter~=0.9.12->mlrun==0.0.0+unstable) (0.4.4)\n",
      "Requirement already satisfied: cffi>=1.0.1 in /conda/envs/mlrun-base/lib/python3.9/site-packages (from argon2-cffi-bindings->argon2-cffi->notebook<7.0.0,>=6.4->nuclio-jupyter~=0.9.12->mlrun==0.0.0+unstable) (1.15.1)\n",
      "Requirement already satisfied: pycparser in /conda/envs/mlrun-base/lib/python3.9/site-packages (from cffi>=1.0.1->argon2-cffi-bindings->argon2-cffi->notebook<7.0.0,>=6.4->nuclio-jupyter~=0.9.12->mlrun==0.0.0+unstable) (2.21)\n",
      "Requirement already satisfied: rfc3339-validator in /conda/envs/mlrun-base/lib/python3.9/site-packages (from jupyter-events>=0.4.0->jupyter-server>=1.8->nbclassic>=0.4.7->notebook<7.0.0,>=6.4->nuclio-jupyter~=0.9.12->mlrun==0.0.0+unstable) (0.1.4)\n",
      "Requirement already satisfied: python-json-logger>=2.0.4 in /conda/envs/mlrun-base/lib/python3.9/site-packages (from jupyter-events>=0.4.0->jupyter-server>=1.8->nbclassic>=0.4.7->notebook<7.0.0,>=6.4->nuclio-jupyter~=0.9.12->mlrun==0.0.0+unstable) (2.0.7)\n",
      "Requirement already satisfied: rfc3986-validator>=0.1.1 in /conda/envs/mlrun-base/lib/python3.9/site-packages (from jupyter-events>=0.4.0->jupyter-server>=1.8->nbclassic>=0.4.7->notebook<7.0.0,>=6.4->nuclio-jupyter~=0.9.12->mlrun==0.0.0+unstable) (0.1.1)\n",
      "\u001b[33mWARNING: jsonschema 3.2.0 does not provide the extra 'format-nongpl'\u001b[0m\u001b[33m\n",
      "\u001b[0mBuilding wheels for collected packages: mlrun\n",
      "  Building wheel for mlrun (pyproject.toml) ... \u001b[?25ldone\n",
      "\u001b[?25h  Created wheel for mlrun: filename=mlrun-0.0.0+unstable-py3-none-any.whl size=990498 sha256=eb44bfaf9258ff127bb187f087740350914286412d65e54b01649ad04d860df0\n",
      "  Stored in directory: /tmp/pip-ephem-wheel-cache-odiyur4d/wheels/3e/e9/a6/5f687ea2ea37f3e196668eabd2cbf1f475b2e376595335e85e\n",
      "Successfully built mlrun\n",
      "\u001b[33mWARNING: Ignoring invalid distribution -lotly (/User/.pythonlibs/mlrun-base/lib/python3.9/site-packages)\u001b[0m\u001b[33m\n",
      "\u001b[0mInstalling collected packages: setuptools, orjson, click, storey, mlrun\n",
      "  Attempting uninstall: setuptools\n",
      "\u001b[33m    WARNING: Ignoring invalid distribution -lotly (/User/.pythonlibs/mlrun-base/lib/python3.9/site-packages)\u001b[0m\u001b[33m\n",
      "\u001b[0m    Found existing installation: setuptools 65.7.0\n",
      "    Uninstalling setuptools-65.7.0:\n",
      "      Successfully uninstalled setuptools-65.7.0\n",
      "  Attempting uninstall: orjson\n",
      "\u001b[33m    WARNING: Ignoring invalid distribution -lotly (/User/.pythonlibs/mlrun-base/lib/python3.9/site-packages)\u001b[0m\u001b[33m\n",
      "\u001b[0m    Found existing installation: orjson 3.8.11\n",
      "    Uninstalling orjson-3.8.11:\n",
      "      Successfully uninstalled orjson-3.8.11\n",
      "  Attempting uninstall: click\n",
      "\u001b[33m    WARNING: Ignoring invalid distribution -lotly (/User/.pythonlibs/mlrun-base/lib/python3.9/site-packages)\u001b[0m\u001b[33m\n",
      "\u001b[0m    Found existing installation: click 8.0.4\n",
      "    Uninstalling click-8.0.4:\n",
      "      Successfully uninstalled click-8.0.4\n",
      "  Attempting uninstall: storey\n",
      "\u001b[33m    WARNING: Ignoring invalid distribution -lotly (/User/.pythonlibs/mlrun-base/lib/python3.9/site-packages)\u001b[0m\u001b[33m\n",
      "\u001b[0m    Found existing installation: storey 1.5.6\n",
      "    Uninstalling storey-1.5.6:\n",
      "      Successfully uninstalled storey-1.5.6\n",
      "\u001b[33mWARNING: Ignoring invalid distribution -lotly (/User/.pythonlibs/mlrun-base/lib/python3.9/site-packages)\u001b[0m\u001b[33m\n",
      "\u001b[0m\u001b[33mWARNING: Ignoring invalid distribution -lotly (/User/.pythonlibs/mlrun-base/lib/python3.9/site-packages)\u001b[0m\u001b[33m\n",
      "\u001b[0m\u001b[33mWARNING: Ignoring invalid distribution -lotly (/User/.pythonlibs/mlrun-base/lib/python3.9/site-packages)\u001b[0m\u001b[33m\n",
      "\u001b[0m\u001b[33mWARNING: Ignoring invalid distribution -lotly (/User/.pythonlibs/mlrun-base/lib/python3.9/site-packages)\u001b[0m\u001b[33m\n",
      "\u001b[0m\u001b[33mWARNING: Ignoring invalid distribution -lotly (/User/.pythonlibs/mlrun-base/lib/python3.9/site-packages)\u001b[0m\u001b[33m\n",
      "\u001b[0m\u001b[31mERROR: pip's dependency resolver does not currently take into account all the packages that are installed. This behaviour is the source of the following dependency conflicts.\n",
      "gcsfs 2021.8.1 requires fsspec==2021.08.1, but you have fsspec 2023.6.0 which is incompatible.\u001b[0m\u001b[31m\n",
      "\u001b[0mSuccessfully installed click-8.1.7 mlrun-0.0.0+unstable orjson-3.9.10 setuptools-68.2.2 storey-1.6.3\n",
      "Note: you may need to restart the kernel to use updated packages.\n"
     ]
    }
   ],
   "source": [
    "pip install -U git+https://github.com/ZeevRispler/mlrun.git@mlflow-track"
   ]
  },
  {
   "cell_type": "markdown",
   "id": "9a8db175-51f4-4218-afd1-752cc0e65216",
   "metadata": {
    "tags": []
   },
   "source": [
    "## Xgboost example function"
   ]
  },
  {
   "cell_type": "code",
   "execution_count": 1,
   "id": "44a1e133-954d-47a3-9b0f-6e181fe12ea7",
   "metadata": {},
   "outputs": [
    {
     "name": "stdout",
     "output_type": "stream",
     "text": [
      "Overwriting training.py\n"
     ]
    }
   ],
   "source": [
    "%%writefile training.py\n",
    "\n",
    "import mlflow\n",
    "import mlflow.xgboost\n",
    "import xgboost as xgb\n",
    "from mlflow import log_metric\n",
    "from sklearn import datasets\n",
    "from sklearn.metrics import accuracy_score, log_loss\n",
    "from sklearn.model_selection import train_test_split\n",
    "\n",
    "def example_xgb_run():\n",
    "    # Prepare train and test data\n",
    "    iris = datasets.load_iris()\n",
    "    X = iris.data\n",
    "    y = iris.target\n",
    "    X_train, X_test, y_train, y_test = train_test_split(\n",
    "        X, y, test_size=0.2, random_state=42\n",
    "    )\n",
    "\n",
    "    # Enable auto logging\n",
    "    mlflow.xgboost.autolog()\n",
    "\n",
    "    dtrain = xgb.DMatrix(X_train, label=y_train)\n",
    "    dtest = xgb.DMatrix(X_test, label=y_test)\n",
    "\n",
    "    with mlflow.start_run():\n",
    "        # Train model\n",
    "        params = {\n",
    "            \"objective\": \"multi:softprob\",\n",
    "            \"num_class\": 3,\n",
    "            \"learning_rate\": 0.3,\n",
    "            \"eval_metric\": \"mlogloss\",\n",
    "            \"colsample_bytree\": 1.0,\n",
    "            \"subsample\": 1.0,\n",
    "            \"seed\": 42,\n",
    "        }\n",
    "        model = xgb.train(params, dtrain, evals=[(dtrain, \"train\")])\n",
    "        \n",
    "        # Evaluate model\n",
    "        y_proba = model.predict(dtest)\n",
    "        y_pred = y_proba.argmax(axis=1)\n",
    "        loss = log_loss(y_test, y_proba)\n",
    "        acc = accuracy_score(y_test, y_pred)\n",
    "        \n",
    "        # Log metrics by hand\n",
    "        mlflow.log_metrics({\"log_loss\": loss, \"accuracy\": acc})"
   ]
  },
  {
   "cell_type": "markdown",
   "id": "1cf984c9-78a9-443f-9465-111263101dcd",
   "metadata": {},
   "source": [
    "## Mlrun code "
   ]
  },
  {
   "cell_type": "markdown",
   "id": "365e4b39-9f39-40ae-aac4-7c4f42bce9bd",
   "metadata": {},
   "source": [
    "### Change the mlrun config to use the tracker\n"
   ]
  },
  {
   "cell_type": "code",
   "execution_count": 2,
   "id": "0b194d04-e08f-4161-a65b-4f18d10fdbf0",
   "metadata": {},
   "outputs": [
    {
     "name": "stdout",
     "output_type": "stream",
     "text": [
      "> 2023-11-07 13:20:58,439 [warning] Failed resolving version info. Ignoring and using defaults\n",
      "> 2023-11-07 13:21:00,435 [warning] Server or client version is unstable. Assuming compatible: {'server_version': '1.5.2-rc1+track', 'client_version': '0.0.0+unstable'}\n"
     ]
    }
   ],
   "source": [
    "import mlrun\n",
    "\n",
    "mlrun.mlconf.external_platform_tracking.enabled = True"
   ]
  },
  {
   "cell_type": "markdown",
   "id": "b16bb4db-8a2a-4453-a42e-0e8e74ab8f53",
   "metadata": {},
   "source": [
    "### Three options to run tracking:\n",
    "- Set: `mlrun.mlconf.external_platform_tracking.mlflow.match_experiment_to_runtime` to True. This determines the run id and is the safest method\n",
    "- Set the experiment name at: `mlflow.environment_variables.MLFLOW_EXPERIMENT_NAME.set`. This determines the experiment, you need to track the run added to it\n",
    "- Just run it, then look across all experiments for added runs. This is not recommended."
   ]
  },
  {
   "cell_type": "markdown",
   "id": "8b7bc72a-bd1b-408a-afa8-e474d91c4a20",
   "metadata": {},
   "source": [
    "### Create the project and function"
   ]
  },
  {
   "cell_type": "code",
   "execution_count": 3,
   "id": "3382b909-a8dc-41a3-afb1-b64df9bb7318",
   "metadata": {},
   "outputs": [
    {
     "name": "stdout",
     "output_type": "stream",
     "text": [
      "> 2023-11-07 13:21:00,550 [info] Project loaded successfully: {'project_name': 'mlflow-tracking-example'}\n",
      "> 2023-11-07 13:21:00,556 [warning] Failed to add git metadata, ignore if path is not part of a git repo.: {'path': './', 'error': '/User'}\n"
     ]
    }
   ],
   "source": [
    "# choose the first run option from above\n",
    "mlrun.mlconf.external_platform_tracking.mlflow.match_experiment_to_runtime = True\n",
    "\n",
    "# Create a project for this demo:\n",
    "project = mlrun.get_or_create_project(name=\"mlflow-tracking-example\", context=\"./\")\n",
    "\n",
    "# Create a MLRun function using the example train file (all the functions must be located in it):\n",
    "training_func = project.set_function(\n",
    "    func=\"training.py\",\n",
    "    name=\"example-xgb-run\",\n",
    "    kind=\"job\",\n",
    "    image=\"mlrun/mlrun\",\n",
    ")"
   ]
  },
  {
   "cell_type": "markdown",
   "id": "91597f57-364d-4d2a-b926-97b9d8afc81b",
   "metadata": {},
   "source": [
    "### Run the function\n",
    "\n",
    "After running the function, you can look at the UI and see all metrics and parameters are logged in mlrun."
   ]
  },
  {
   "cell_type": "code",
   "execution_count": 4,
   "id": "8ba452dd-1756-4bfb-af64-d741e234dba3",
   "metadata": {},
   "outputs": [
    {
     "name": "stdout",
     "output_type": "stream",
     "text": [
      "> 2023-11-07 13:21:00,596 [info] Storing function: {'name': 'example-xgb-run-example-xgb-run', 'uid': 'ad1fec0b0df04083b034e3839460b623', 'db': 'http://mlrun-api:8080'}\n",
      "[0]\ttrain-mlogloss:0.74723\n",
      "[1]\ttrain-mlogloss:0.54060\n",
      "[2]\ttrain-mlogloss:0.40276\n",
      "[3]\ttrain-mlogloss:0.30789\n",
      "[4]\ttrain-mlogloss:0.24051\n",
      "[5]\ttrain-mlogloss:0.19086\n",
      "[6]\ttrain-mlogloss:0.15471\n",
      "[7]\ttrain-mlogloss:0.12807\n",
      "[8]\ttrain-mlogloss:0.10722\n",
      "[9]\ttrain-mlogloss:0.09053\n"
     ]
    },
    {
     "name": "stderr",
     "output_type": "stream",
     "text": [
      "2023/11/07 13:21:17 WARNING mlflow.utils.autologging_utils: MLflow autologging encountered a warning: \"/User/.pythonlibs/mlrun-base/lib/python3.9/site-packages/_distutils_hack/__init__.py:33: UserWarning: Setuptools is replacing distutils.\"\n"
     ]
    },
    {
     "data": {
      "text/html": [
       "<style>\n",
       ".dictlist {\n",
       "  background-color: #4EC64B;\n",
       "  text-align: center;\n",
       "  margin: 4px;\n",
       "  border-radius: 3px; padding: 0px 3px 1px 3px; display: inline-block;}\n",
       ".artifact {\n",
       "  cursor: pointer;\n",
       "  background-color: #4EC64B;\n",
       "  text-align: left;\n",
       "  margin: 4px; border-radius: 3px; padding: 0px 3px 1px 3px; display: inline-block;\n",
       "}\n",
       "div.block.hidden {\n",
       "  display: none;\n",
       "}\n",
       ".clickable {\n",
       "  cursor: pointer;\n",
       "}\n",
       ".ellipsis {\n",
       "  display: inline-block;\n",
       "  max-width: 60px;\n",
       "  white-space: nowrap;\n",
       "  overflow: hidden;\n",
       "  text-overflow: ellipsis;\n",
       "}\n",
       ".master-wrapper {\n",
       "  display: flex;\n",
       "  flex-flow: row nowrap;\n",
       "  justify-content: flex-start;\n",
       "  align-items: stretch;\n",
       "}\n",
       ".master-tbl {\n",
       "  flex: 3\n",
       "}\n",
       ".master-wrapper > div {\n",
       "  margin: 4px;\n",
       "  padding: 10px;\n",
       "}\n",
       "iframe.fileview {\n",
       "  border: 0 none;\n",
       "  height: 100%;\n",
       "  width: 100%;\n",
       "  white-space: pre-wrap;\n",
       "}\n",
       ".pane-header-title {\n",
       "  width: 80%;\n",
       "  font-weight: 500;\n",
       "}\n",
       ".pane-header {\n",
       "  line-height: 1;\n",
       "  background-color: #4EC64B;\n",
       "  padding: 3px;\n",
       "}\n",
       ".pane-header .close {\n",
       "  font-size: 20px;\n",
       "  font-weight: 700;\n",
       "  float: right;\n",
       "  margin-top: -5px;\n",
       "}\n",
       ".master-wrapper .right-pane {\n",
       "  border: 1px inset silver;\n",
       "  width: 40%;\n",
       "  min-height: 300px;\n",
       "  flex: 3\n",
       "  min-width: 500px;\n",
       "}\n",
       ".master-wrapper * {\n",
       "  box-sizing: border-box;\n",
       "}\n",
       "</style><script>\n",
       "function copyToClipboard(fld) {\n",
       "    if (document.queryCommandSupported && document.queryCommandSupported('copy')) {\n",
       "        var textarea = document.createElement('textarea');\n",
       "        textarea.textContent = fld.innerHTML;\n",
       "        textarea.style.position = 'fixed';\n",
       "        document.body.appendChild(textarea);\n",
       "        textarea.select();\n",
       "\n",
       "        try {\n",
       "            return document.execCommand('copy'); // Security exception may be thrown by some browsers.\n",
       "        } catch (ex) {\n",
       "\n",
       "        } finally {\n",
       "            document.body.removeChild(textarea);\n",
       "        }\n",
       "    }\n",
       "}\n",
       "function expandPanel(el) {\n",
       "  const panelName = \"#\" + el.getAttribute('paneName');\n",
       "  console.log(el.title);\n",
       "\n",
       "  document.querySelector(panelName + \"-title\").innerHTML = el.title\n",
       "  iframe = document.querySelector(panelName + \"-body\");\n",
       "\n",
       "  const tblcss = `<style> body { font-family: Arial, Helvetica, sans-serif;}\n",
       "    #csv { margin-bottom: 15px; }\n",
       "    #csv table { border-collapse: collapse;}\n",
       "    #csv table td { padding: 4px 8px; border: 1px solid silver;} </style>`;\n",
       "\n",
       "  function csvToHtmlTable(str) {\n",
       "    return '<div id=\"csv\"><table><tr><td>' +  str.replace(/[\\n\\r]+$/g, '').replace(/[\\n\\r]+/g, '</td></tr><tr><td>')\n",
       "      .replace(/,/g, '</td><td>') + '</td></tr></table></div>';\n",
       "  }\n",
       "\n",
       "  function reqListener () {\n",
       "    if (el.title.endsWith(\".csv\")) {\n",
       "      iframe.setAttribute(\"srcdoc\", tblcss + csvToHtmlTable(this.responseText));\n",
       "    } else {\n",
       "      iframe.setAttribute(\"srcdoc\", this.responseText);\n",
       "    }\n",
       "    console.log(this.responseText);\n",
       "  }\n",
       "\n",
       "  const oReq = new XMLHttpRequest();\n",
       "  oReq.addEventListener(\"load\", reqListener);\n",
       "  oReq.open(\"GET\", el.title);\n",
       "  oReq.send();\n",
       "\n",
       "\n",
       "  //iframe.src = el.title;\n",
       "  const resultPane = document.querySelector(panelName + \"-pane\");\n",
       "  if (resultPane.classList.contains(\"hidden\")) {\n",
       "    resultPane.classList.remove(\"hidden\");\n",
       "  }\n",
       "}\n",
       "function closePanel(el) {\n",
       "  const panelName = \"#\" + el.getAttribute('paneName')\n",
       "  const resultPane = document.querySelector(panelName + \"-pane\");\n",
       "  if (!resultPane.classList.contains(\"hidden\")) {\n",
       "    resultPane.classList.add(\"hidden\");\n",
       "  }\n",
       "}\n",
       "\n",
       "</script>\n",
       "<div class=\"master-wrapper\">\n",
       "  <div class=\"block master-tbl\"><div>\n",
       "<style scoped>\n",
       "    .dataframe tbody tr th:only-of-type {\n",
       "        vertical-align: middle;\n",
       "    }\n",
       "\n",
       "    .dataframe tbody tr th {\n",
       "        vertical-align: top;\n",
       "    }\n",
       "\n",
       "    .dataframe thead th {\n",
       "        text-align: right;\n",
       "    }\n",
       "</style>\n",
       "<table border=\"1\" class=\"dataframe\">\n",
       "  <thead>\n",
       "    <tr style=\"text-align: right;\">\n",
       "      <th>project</th>\n",
       "      <th>uid</th>\n",
       "      <th>iter</th>\n",
       "      <th>start</th>\n",
       "      <th>state</th>\n",
       "      <th>name</th>\n",
       "      <th>labels</th>\n",
       "      <th>inputs</th>\n",
       "      <th>parameters</th>\n",
       "      <th>results</th>\n",
       "      <th>artifacts</th>\n",
       "    </tr>\n",
       "  </thead>\n",
       "  <tbody>\n",
       "    <tr>\n",
       "      <td>mlflow-tracking-example</td>\n",
       "      <td><div title=\"ad1fec0b0df04083b034e3839460b623\"><a href=\"https://dashboard.default-tenant.app.llm2.iguazio-cd0.com/mlprojects/mlflow-tracking-example/jobs/monitor/ad1fec0b0df04083b034e3839460b623/overview\" target=\"_blank\" >...9460b623</a></div></td>\n",
       "      <td>0</td>\n",
       "      <td>Nov 07 13:21:00</td>\n",
       "      <td>completed</td>\n",
       "      <td>example-xgb-run-example-xgb-run</td>\n",
       "      <td><div class=\"dictlist\">v3io_user=zeevr</div><div class=\"dictlist\">kind=local</div><div class=\"dictlist\">owner=zeevr</div><div class=\"dictlist\">host=jupyter-zeev-8c4f96bdf-6j652</div><div class=\"dictlist\">mlflow-user=iguazio</div><div class=\"dictlist\">mlflow-run-name=unleashed-sow-351</div><div class=\"dictlist\">mlflow-run-id=bd94ff39bd4543b3b6351872a8600bb0</div><div class=\"dictlist\">mlflow-experiment-id=962295732764069350</div></td>\n",
       "      <td></td>\n",
       "      <td><div class=\"dictlist\">colsample_bytree=1.0</div><div class=\"dictlist\">custom_metric=None</div><div class=\"dictlist\">early_stopping_rounds=None</div><div class=\"dictlist\">eval_metric=mlogloss</div><div class=\"dictlist\">learning_rate=0.3</div><div class=\"dictlist\">maximize=None</div><div class=\"dictlist\">num_boost_round=10</div><div class=\"dictlist\">num_class=3</div><div class=\"dictlist\">objective=multi:softprob</div><div class=\"dictlist\">seed=42</div><div class=\"dictlist\">subsample=1.0</div><div class=\"dictlist\">verbose_eval=True</div></td>\n",
       "      <td><div class=\"dictlist\">accuracy=1.0</div><div class=\"dictlist\">log_loss=0.06621863381213823</div><div class=\"dictlist\">train-mlogloss=0.09053360810503364</div></td>\n",
       "      <td><div class=\"artifact\" onclick=\"expandPanel(this)\" paneName=\"resultb49c03ed\" title=\"files/v3io/projects/mlflow-tracking-example/artifacts/example-xgb-run-example-xgb-run/0/feature_importance_weight_json.json\">feature_importance_weight_json</div><div class=\"artifact\" onclick=\"expandPanel(this)\" paneName=\"resultb49c03ed\" title=\"files/v3io/projects/mlflow-tracking-example/artifacts/example-xgb-run-example-xgb-run/0/feature_importance_weight_png.png\">feature_importance_weight_png</div><div title=\"v3io:///projects/mlflow-tracking-example/artifacts/example-xgb-run-example-xgb-run/0/model/\">model</div></td>\n",
       "    </tr>\n",
       "  </tbody>\n",
       "</table>\n",
       "</div></div>\n",
       "  <div id=\"resultb49c03ed-pane\" class=\"right-pane block hidden\">\n",
       "    <div class=\"pane-header\">\n",
       "      <span id=\"resultb49c03ed-title\" class=\"pane-header-title\">Title</span>\n",
       "      <span onclick=\"closePanel(this)\" paneName=\"resultb49c03ed\" class=\"close clickable\">&times;</span>\n",
       "    </div>\n",
       "    <iframe class=\"fileview\" id=\"resultb49c03ed-body\"></iframe>\n",
       "  </div>\n",
       "</div>\n"
      ],
      "text/plain": [
       "<IPython.core.display.HTML object>"
      ]
     },
     "metadata": {},
     "output_type": "display_data"
    },
    {
     "name": "stdout",
     "output_type": "stream",
     "text": [
      "\n"
     ]
    },
    {
     "data": {
      "text/html": [
       "<b> > to track results use the .show() or .logs() methods  or <a href=\"https://dashboard.default-tenant.app.llm2.iguazio-cd0.com/mlprojects/mlflow-tracking-example/jobs/monitor/ad1fec0b0df04083b034e3839460b623/overview\" target=\"_blank\">click here</a> to open in UI</b>"
      ],
      "text/plain": [
       "<IPython.core.display.HTML object>"
      ]
     },
     "metadata": {},
     "output_type": "display_data"
    },
    {
     "name": "stdout",
     "output_type": "stream",
     "text": [
      "> 2023-11-07 13:21:19,604 [info] Run execution finished: {'status': 'completed', 'name': 'example-xgb-run-example-xgb-run'}\n"
     ]
    }
   ],
   "source": [
    "# Run the example code using mlrun\n",
    "train_run = training_func.run(\n",
    "    local=True, handler=\"example_xgb_run\",\n",
    ")"
   ]
  },
  {
   "cell_type": "markdown",
   "id": "655d5c46-2c0a-46f2-bbec-a58853260476",
   "metadata": {},
   "source": [
    "## Examine the results\n",
    "You can also inspect the results using the UI."
   ]
  },
  {
   "cell_type": "code",
   "execution_count": 5,
   "id": "d23beb02-e455-48dc-9d9f-9e3d4549ec71",
   "metadata": {},
   "outputs": [
    {
     "data": {
      "text/plain": [
       "{'accuracy': 1.0,\n",
       " 'log_loss': 0.06621863381213823,\n",
       " 'train-mlogloss': 0.09053360810503364,\n",
       " 'feature_importance_weight_json': 'store://artifacts/mlflow-tracking-example/example-xgb-run-example-xgb-run_feature_importance_weight_json:ad1fec0b0df04083b034e3839460b623',\n",
       " 'feature_importance_weight_png': 'store://artifacts/mlflow-tracking-example/example-xgb-run-example-xgb-run_feature_importance_weight_png:ad1fec0b0df04083b034e3839460b623',\n",
       " 'model': 'store://artifacts/mlflow-tracking-example/example-xgb-run-example-xgb-run_model:ad1fec0b0df04083b034e3839460b623'}"
      ]
     },
     "execution_count": 5,
     "metadata": {},
     "output_type": "execute_result"
    }
   ],
   "source": [
    "train_run.outputs"
   ]
  },
  {
   "cell_type": "code",
   "execution_count": 6,
   "id": "b05f4c2a-5f2d-4d7c-9c21-39c0a949cfc3",
   "metadata": {},
   "outputs": [
    {
     "data": {
      "text/plain": [
       "{'accuracy': 1.0,\n",
       " 'log_loss': 0.06621863381213823,\n",
       " 'train-mlogloss': 0.09053360810503364}"
      ]
     },
     "execution_count": 6,
     "metadata": {},
     "output_type": "execute_result"
    }
   ],
   "source": [
    "train_run.status.results"
   ]
  },
  {
   "cell_type": "code",
   "execution_count": 7,
   "id": "925b3445-18b4-4497-9783-52b4cd069401",
   "metadata": {},
   "outputs": [
    {
     "data": {
      "image/png": "[encoded data removed]",
      "text/plain": [
       "<IPython.core.display.Image object>"
      ]
     },
     "metadata": {},
     "output_type": "display_data"
    }
   ],
   "source": [
    "train_run.artifact(\"feature_importance_weight_png\").show()"
   ]
  },
  {
   "cell_type": "markdown",
   "id": "844edc05-0b6a-4e84-9213-1d3cbf6f833e",
   "metadata": {},
   "source": [
    "# Test this as a model server"
   ]
  },
  {
   "cell_type": "markdown",
   "id": "af6489cb-35e2-4b0d-8a0d-e8954a44534a",
   "metadata": {},
   "source": [
    "### To use this as an model server we need to implement two functions, load and predict"
   ]
  },
  {
   "cell_type": "code",
   "execution_count": 8,
   "id": "381bb171-5111-4cc1-b81c-fdb813a6208f",
   "metadata": {},
   "outputs": [
    {
     "name": "stdout",
     "output_type": "stream",
     "text": [
      "Overwriting serving.py\n"
     ]
    }
   ],
   "source": [
    "%%writefile serving.py\n",
    "\n",
    "import zipfile\n",
    "from typing import Any, Dict, List, Union\n",
    "\n",
    "import mlflow\n",
    "import numpy as np\n",
    "import os\n",
    "import mlrun\n",
    "from mlrun.serving.v2_serving import V2ModelServer\n",
    "import xgboost as xgb\n",
    "import pandas as pd\n",
    "\n",
    "class MLFlowModelServer(V2ModelServer):\n",
    "    \"\"\"\n",
    "    MLFlow tracker Model serving class, inheriting the V2ModelServer class for being initialized automatically by the model\n",
    "    server and be able to run locally as part of a nuclio serverless function, or as part of a real-time pipeline.\n",
    "    \"\"\"\n",
    "\n",
    "    def load(self):\n",
    "        \"\"\"\n",
    "        loads an model that was logged by the MLFlow tracker model\n",
    "        \"\"\"\n",
    "        # Unzip the model dir and then use mlflow's load function\n",
    "        model_file, _ = self.get_model(\".zip\")\n",
    "        model_path_unzip = model_file.replace(\".zip\", \"\")\n",
    "\n",
    "        with zipfile.ZipFile(model_file, \"r\") as zip_ref:\n",
    "            zip_ref.extractall(model_path_unzip)\n",
    "            \n",
    "        self.model = mlflow.pyfunc.load_model(model_path_unzip)\n",
    "\n",
    "    def predict(self, request: Dict[str, Any]) -> list:\n",
    "        \"\"\"\n",
    "        Infer the inputs through the model. The inferred data will\n",
    "        be read from the \"inputs\" key of the request.\n",
    "\n",
    "        :param request: The request to the model using xgboost's predict. \n",
    "                The input to the model will be read from the \"inputs\" key.\n",
    "\n",
    "        :return: The model's prediction on the given input.\n",
    "        \"\"\"\n",
    "        \n",
    "        # Get the inputs and set to accepted type:\n",
    "        inputs = pd.DataFrame(request[\"inputs\"])\n",
    "\n",
    "        # Predict using the model's predict function:\n",
    "        predictions = self.model.predict(inputs)\n",
    "\n",
    "        # Return as list:\n",
    "        return predictions.tolist()\n"
   ]
  },
  {
   "cell_type": "markdown",
   "id": "40182a6f-fc46-4a33-a7f5-7ee8ee171966",
   "metadata": {},
   "source": [
    "### Create the server and serving function"
   ]
  },
  {
   "cell_type": "code",
   "execution_count": 9,
   "id": "f5fe910b-e177-4af7-84de-41a571d1774c",
   "metadata": {},
   "outputs": [
    {
     "name": "stdout",
     "output_type": "stream",
     "text": [
      "> 2023-11-07 13:21:19,690 [warning] Failed to add git metadata, ignore if path is not part of a git repo.: {'path': './', 'error': '/User'}\n"
     ]
    }
   ],
   "source": [
    "serving_func = project.set_function(\n",
    "    func=\"serving.py\",\n",
    "    name=\"example-xgb-server\",\n",
    "    kind=\"serving\",\n",
    "    image=\"mlrun/mlrun\",\n",
    ")"
   ]
  },
  {
   "cell_type": "code",
   "execution_count": 10,
   "id": "ddbfd48f-a90e-4fe6-9caa-ddffeacf63d1",
   "metadata": {},
   "outputs": [
    {
     "data": {
      "text/plain": [
       "<mlrun.serving.states.TaskStep at 0x7f8450794d60>"
      ]
     },
     "execution_count": 10,
     "metadata": {},
     "output_type": "execute_result"
    }
   ],
   "source": [
    "# Add the model\n",
    "serving_func.add_model(\"mlflow_xgb_model\", class_name=\"MLFlowModelServer\", model_path=train_run.outputs[\"model\"])"
   ]
  },
  {
   "cell_type": "code",
   "execution_count": 11,
   "id": "2298d111-2f53-4b84-be9e-e4e8a228dcc4",
   "metadata": {},
   "outputs": [
    {
     "name": "stdout",
     "output_type": "stream",
     "text": [
      "> 2023-11-07 13:21:19,833 [info] model mlflow_xgb_model was loaded\n",
      "> 2023-11-07 13:21:19,834 [info] Loaded ['mlflow_xgb_model']\n"
     ]
    }
   ],
   "source": [
    "# Create a mock server\n",
    "server = serving_func.to_mock_server()"
   ]
  },
  {
   "cell_type": "markdown",
   "id": "f54d7c06-4972-4881-9bc9-fba7db0adbe4",
   "metadata": {},
   "source": [
    "### Test the model "
   ]
  },
  {
   "cell_type": "code",
   "execution_count": 12,
   "id": "4f256490-f225-4bd6-ac8a-5fc12a0f335d",
   "metadata": {},
   "outputs": [],
   "source": [
    "# An example taken randomly from the dataset the model was trained on\n",
    "x = [[5.1, 3.5, 1.4, 0.2]]\n",
    "result = server.test(\"/v2/models/mlflow_xgb_model/predict\", {\"inputs\": x})"
   ]
  },
  {
   "cell_type": "code",
   "execution_count": 13,
   "id": "47839f4b-bb2d-4341-99c5-e34fa31270c9",
   "metadata": {},
   "outputs": [
    {
     "data": {
      "text/plain": [
       "{'id': '4188f3585d9d42b7b184324f713c9c26',\n",
       " 'model_name': 'mlflow_xgb_model',\n",
       " 'outputs': [[0.9505813121795654, 0.025876399129629135, 0.02354232780635357]]}"
      ]
     },
     "execution_count": 13,
     "metadata": {},
     "output_type": "execute_result"
    }
   ],
   "source": [
    "# look at the result \n",
    "result"
   ]
  },
  {
   "cell_type": "markdown",
   "id": "673c1a3d-f343-4277-a066-a66e657c50f3",
   "metadata": {},
   "source": [
    "# Offline tests"
   ]
  },
  {
   "cell_type": "markdown",
   "id": "78128565-d17f-40fb-be55-2a37aaf970c7",
   "metadata": {},
   "source": [
    "This example runs a function that's being logged by mlflow without mlrun.\n",
    "Afterwards you import it into MLRun."
   ]
  },
  {
   "cell_type": "code",
   "execution_count": 14,
   "id": "bf3c9a9b-9b5b-4f56-bbf2-03f8a0c0122e",
   "metadata": {},
   "outputs": [
    {
     "name": "stdout",
     "output_type": "stream",
     "text": [
      "Overwriting offline_training.py\n"
     ]
    }
   ],
   "source": [
    "%%writefile offline_training.py\n",
    "\n",
    "import mlflow\n",
    "import mlflow.xgboost\n",
    "import xgboost as xgb\n",
    "from mlflow import log_metric\n",
    "from sklearn import datasets\n",
    "from sklearn.metrics import accuracy_score, log_loss\n",
    "from sklearn.model_selection import train_test_split\n",
    "\n",
    "mlflow.environment_variables.MLFLOW_EXPERIMENT_NAME.set(\"example_xgb_run\")\n",
    "\n",
    "# The function you run that is logged by mlflow\n",
    "def example_xgb_run():\n",
    "    # Prepare train and test data\n",
    "    iris = datasets.load_iris()\n",
    "    X = iris.data\n",
    "    y = iris.target\n",
    "    X_train, X_test, y_train, y_test = train_test_split(\n",
    "        X, y, test_size=0.2, random_state=42\n",
    "    )\n",
    "\n",
    "    # Enable auto logging\n",
    "    mlflow.xgboost.autolog()\n",
    "\n",
    "    dtrain = xgb.DMatrix(X_train, label=y_train)\n",
    "    dtest = xgb.DMatrix(X_test, label=y_test)\n",
    "\n",
    "    with mlflow.start_run():\n",
    "        # Train model\n",
    "        params = {\n",
    "            \"objective\": \"multi:softprob\",\n",
    "            \"num_class\": 3,\n",
    "            \"learning_rate\": 0.3,\n",
    "            \"eval_metric\": \"mlogloss\",\n",
    "            \"colsample_bytree\": 1.0,\n",
    "            \"subsample\": 1.0,\n",
    "            \"seed\": 42,\n",
    "        }\n",
    "        model = xgb.train(params, dtrain, evals=[(dtrain, \"train\")])\n",
    "        \n",
    "        # Evaluate model\n",
    "        y_proba = model.predict(dtest)\n",
    "        y_pred = y_proba.argmax(axis=1)\n",
    "        loss = log_loss(y_test, y_proba)\n",
    "        acc = accuracy_score(y_test, y_pred)\n",
    "        \n",
    "        # log metrics by hand\n",
    "        mlflow.log_metrics({\"log_loss\": loss, \"accuracy\": acc})"
   ]
  },
  {
   "cell_type": "code",
   "execution_count": null,
   "id": "6fc17dac",
   "metadata": {},
   "outputs": [],
   "source": []
  },
  {
   "cell_type": "code",
   "execution_count": 15,
   "id": "aa2b4ee0-5d8d-4bc6-939c-1614555dd840",
   "metadata": {},
   "outputs": [],
   "source": [
    "import sys\n",
    "import os\n",
    "sys.path.insert(0, os.path.abspath(\"./\"))\n",
    "from offline_training import example_xgb_run\n",
    "import mlrun\n",
    "from mlrun.track.trackers.mlflow_tracker import MLFlowTracker\n",
    "import tempfile\n",
    "import mlflow\n",
    "# Allow all tracking\n",
    "mlrun.mlconf.external_platform_tracking.enabled = True"
   ]
  },
  {
   "cell_type": "markdown",
   "id": "15cdf546-0afd-4806-ac09-31c246dc08c3",
   "metadata": {},
   "source": [
    "## Import offline run"
   ]
  },
  {
   "cell_type": "code",
   "execution_count": 16,
   "id": "f509c3c7-1ceb-46ff-80d7-dc78003eb928",
   "metadata": {},
   "outputs": [
    {
     "name": "stdout",
     "output_type": "stream",
     "text": [
      "> 2023-11-07 13:21:33,092 [info] Project loaded successfully: {'project_name': 'mlflow-tracking-example'}\n",
      "> 2023-11-07 13:21:33,100 [warning] Failed to add git metadata, ignore if path is not part of a git repo.: {'path': './', 'error': '/User'}\n"
     ]
    }
   ],
   "source": [
    "\n",
    "# Create a project for this demo:\n",
    "project = mlrun.get_or_create_project(name=\"mlflow-tracking-example\", context=\"./\")\n",
    "\n",
    "# Create a MLRun function that you will log in to:\n",
    "function_name = \"example-xgb-run\"\n",
    "\n",
    "training_func = project.set_function(\n",
    "    func=\"offline_training.py\",\n",
    "    name=function_name,\n",
    "    kind=\"job\",\n",
    "    image=\"mlrun/mlrun\",\n",
    ")"
   ]
  },
  {
   "cell_type": "code",
   "execution_count": 20,
   "id": "6ab00ead-5ce7-4b42-ab2f-6f3c1006c1d0",
   "metadata": {},
   "outputs": [
    {
     "name": "stdout",
     "output_type": "stream",
     "text": [
      "[0]\ttrain-mlogloss:0.74723\n",
      "[1]\ttrain-mlogloss:0.54060\n",
      "[2]\ttrain-mlogloss:0.40276\n",
      "[3]\ttrain-mlogloss:0.30789\n",
      "[4]\ttrain-mlogloss:0.24051\n",
      "[5]\ttrain-mlogloss:0.19086\n",
      "[6]\ttrain-mlogloss:0.15471\n",
      "[7]\ttrain-mlogloss:0.12807\n",
      "[8]\ttrain-mlogloss:0.10722\n",
      "[9]\ttrain-mlogloss:0.09053\n",
      "> 2023-11-07 13:22:37,911 [info] logging run results to: http://mlrun-api:8080\n"
     ]
    },
    {
     "data": {
      "text/html": [
       "<style>\n",
       ".dictlist {\n",
       "  background-color: #4EC64B;\n",
       "  text-align: center;\n",
       "  margin: 4px;\n",
       "  border-radius: 3px; padding: 0px 3px 1px 3px; display: inline-block;}\n",
       ".artifact {\n",
       "  cursor: pointer;\n",
       "  background-color: #4EC64B;\n",
       "  text-align: left;\n",
       "  margin: 4px; border-radius: 3px; padding: 0px 3px 1px 3px; display: inline-block;\n",
       "}\n",
       "div.block.hidden {\n",
       "  display: none;\n",
       "}\n",
       ".clickable {\n",
       "  cursor: pointer;\n",
       "}\n",
       ".ellipsis {\n",
       "  display: inline-block;\n",
       "  max-width: 60px;\n",
       "  white-space: nowrap;\n",
       "  overflow: hidden;\n",
       "  text-overflow: ellipsis;\n",
       "}\n",
       ".master-wrapper {\n",
       "  display: flex;\n",
       "  flex-flow: row nowrap;\n",
       "  justify-content: flex-start;\n",
       "  align-items: stretch;\n",
       "}\n",
       ".master-tbl {\n",
       "  flex: 3\n",
       "}\n",
       ".master-wrapper > div {\n",
       "  margin: 4px;\n",
       "  padding: 10px;\n",
       "}\n",
       "iframe.fileview {\n",
       "  border: 0 none;\n",
       "  height: 100%;\n",
       "  width: 100%;\n",
       "  white-space: pre-wrap;\n",
       "}\n",
       ".pane-header-title {\n",
       "  width: 80%;\n",
       "  font-weight: 500;\n",
       "}\n",
       ".pane-header {\n",
       "  line-height: 1;\n",
       "  background-color: #4EC64B;\n",
       "  padding: 3px;\n",
       "}\n",
       ".pane-header .close {\n",
       "  font-size: 20px;\n",
       "  font-weight: 700;\n",
       "  float: right;\n",
       "  margin-top: -5px;\n",
       "}\n",
       ".master-wrapper .right-pane {\n",
       "  border: 1px inset silver;\n",
       "  width: 40%;\n",
       "  min-height: 300px;\n",
       "  flex: 3\n",
       "  min-width: 500px;\n",
       "}\n",
       ".master-wrapper * {\n",
       "  box-sizing: border-box;\n",
       "}\n",
       "</style><script>\n",
       "function copyToClipboard(fld) {\n",
       "    if (document.queryCommandSupported && document.queryCommandSupported('copy')) {\n",
       "        var textarea = document.createElement('textarea');\n",
       "        textarea.textContent = fld.innerHTML;\n",
       "        textarea.style.position = 'fixed';\n",
       "        document.body.appendChild(textarea);\n",
       "        textarea.select();\n",
       "\n",
       "        try {\n",
       "            return document.execCommand('copy'); // Security exception may be thrown by some browsers.\n",
       "        } catch (ex) {\n",
       "\n",
       "        } finally {\n",
       "            document.body.removeChild(textarea);\n",
       "        }\n",
       "    }\n",
       "}\n",
       "function expandPanel(el) {\n",
       "  const panelName = \"#\" + el.getAttribute('paneName');\n",
       "  console.log(el.title);\n",
       "\n",
       "  document.querySelector(panelName + \"-title\").innerHTML = el.title\n",
       "  iframe = document.querySelector(panelName + \"-body\");\n",
       "\n",
       "  const tblcss = `<style> body { font-family: Arial, Helvetica, sans-serif;}\n",
       "    #csv { margin-bottom: 15px; }\n",
       "    #csv table { border-collapse: collapse;}\n",
       "    #csv table td { padding: 4px 8px; border: 1px solid silver;} </style>`;\n",
       "\n",
       "  function csvToHtmlTable(str) {\n",
       "    return '<div id=\"csv\"><table><tr><td>' +  str.replace(/[\\n\\r]+$/g, '').replace(/[\\n\\r]+/g, '</td></tr><tr><td>')\n",
       "      .replace(/,/g, '</td><td>') + '</td></tr></table></div>';\n",
       "  }\n",
       "\n",
       "  function reqListener () {\n",
       "    if (el.title.endsWith(\".csv\")) {\n",
       "      iframe.setAttribute(\"srcdoc\", tblcss + csvToHtmlTable(this.responseText));\n",
       "    } else {\n",
       "      iframe.setAttribute(\"srcdoc\", this.responseText);\n",
       "    }\n",
       "    console.log(this.responseText);\n",
       "  }\n",
       "\n",
       "  const oReq = new XMLHttpRequest();\n",
       "  oReq.addEventListener(\"load\", reqListener);\n",
       "  oReq.open(\"GET\", el.title);\n",
       "  oReq.send();\n",
       "\n",
       "\n",
       "  //iframe.src = el.title;\n",
       "  const resultPane = document.querySelector(panelName + \"-pane\");\n",
       "  if (resultPane.classList.contains(\"hidden\")) {\n",
       "    resultPane.classList.remove(\"hidden\");\n",
       "  }\n",
       "}\n",
       "function closePanel(el) {\n",
       "  const panelName = \"#\" + el.getAttribute('paneName')\n",
       "  const resultPane = document.querySelector(panelName + \"-pane\");\n",
       "  if (!resultPane.classList.contains(\"hidden\")) {\n",
       "    resultPane.classList.add(\"hidden\");\n",
       "  }\n",
       "}\n",
       "\n",
       "</script>\n",
       "<div class=\"master-wrapper\">\n",
       "  <div class=\"block master-tbl\"><div>\n",
       "<style scoped>\n",
       "    .dataframe tbody tr th:only-of-type {\n",
       "        vertical-align: middle;\n",
       "    }\n",
       "\n",
       "    .dataframe tbody tr th {\n",
       "        vertical-align: top;\n",
       "    }\n",
       "\n",
       "    .dataframe thead th {\n",
       "        text-align: right;\n",
       "    }\n",
       "</style>\n",
       "<table border=\"1\" class=\"dataframe\">\n",
       "  <thead>\n",
       "    <tr style=\"text-align: right;\">\n",
       "      <th>project</th>\n",
       "      <th>uid</th>\n",
       "      <th>iter</th>\n",
       "      <th>start</th>\n",
       "      <th>state</th>\n",
       "      <th>name</th>\n",
       "      <th>labels</th>\n",
       "      <th>inputs</th>\n",
       "      <th>parameters</th>\n",
       "      <th>results</th>\n",
       "      <th>artifacts</th>\n",
       "    </tr>\n",
       "  </thead>\n",
       "  <tbody>\n",
       "    <tr>\n",
       "      <td>default</td>\n",
       "      <td><div title=\"baea30472f94402b80359f7cd9046639\"><a href=\"https://dashboard.default-tenant.app.llm2.iguazio-cd0.com/mlprojects/default/jobs/monitor/baea30472f94402b80359f7cd9046639/overview\" target=\"_blank\" >...d9046639</a></div></td>\n",
       "      <td>0</td>\n",
       "      <td>Nov 07 13:22:37</td>\n",
       "      <td>running</td>\n",
       "      <td>serious-swan-748</td>\n",
       "      <td><div class=\"dictlist\">host=jupyter-zeev-8c4f96bdf-6j652</div><div class=\"dictlist\">mlflow-user=iguazio</div><div class=\"dictlist\">mlflow-run-name=serious-swan-748</div><div class=\"dictlist\">mlflow-run-id=baea30472f94402b80359f7cd9046639</div><div class=\"dictlist\">mlflow-experiment-id=386053050020337317</div></td>\n",
       "      <td></td>\n",
       "      <td><div class=\"dictlist\">objective=multi:softprob</div><div class=\"dictlist\">num_class=3</div><div class=\"dictlist\">learning_rate=0.3</div><div class=\"dictlist\">eval_metric=mlogloss</div><div class=\"dictlist\">colsample_bytree=1.0</div><div class=\"dictlist\">subsample=1.0</div><div class=\"dictlist\">seed=42</div><div class=\"dictlist\">num_boost_round=10</div><div class=\"dictlist\">maximize=None</div><div class=\"dictlist\">early_stopping_rounds=None</div><div class=\"dictlist\">verbose_eval=True</div><div class=\"dictlist\">custom_metric=None</div></td>\n",
       "      <td><div class=\"dictlist\">train-mlogloss=0.09053360810503364</div><div class=\"dictlist\">log_loss=0.06621863381213823</div><div class=\"dictlist\">accuracy=1.0</div></td>\n",
       "      <td><div title=\"/tmp/tmp75c4oct0/serious-swan-748/0/feature_importance_weight_json.json\">feature_importance_weight_json</div><div title=\"/tmp/tmp75c4oct0/serious-swan-748/0/feature_importance_weight_png.png\">feature_importance_weight_png</div><div title=\"/tmp/tmp75c4oct0/serious-swan-748/0/model\">model</div></td>\n",
       "    </tr>\n",
       "  </tbody>\n",
       "</table>\n",
       "</div></div>\n",
       "  <div id=\"resultcacf9b3a-pane\" class=\"right-pane block hidden\">\n",
       "    <div class=\"pane-header\">\n",
       "      <span id=\"resultcacf9b3a-title\" class=\"pane-header-title\">Title</span>\n",
       "      <span onclick=\"closePanel(this)\" paneName=\"resultcacf9b3a\" class=\"close clickable\">&times;</span>\n",
       "    </div>\n",
       "    <iframe class=\"fileview\" id=\"resultcacf9b3a-body\"></iframe>\n",
       "  </div>\n",
       "</div>\n"
      ],
      "text/plain": [
       "<IPython.core.display.HTML object>"
      ]
     },
     "metadata": {},
     "output_type": "display_data"
    },
    {
     "name": "stdout",
     "output_type": "stream",
     "text": [
      "\n"
     ]
    },
    {
     "data": {
      "text/html": [
       "<b> > to track results use the .show() or .logs() methods  or <a href=\"https://dashboard.default-tenant.app.llm2.iguazio-cd0.com/mlprojects/default/jobs/monitor/baea30472f94402b80359f7cd9046639/overview\" target=\"_blank\">click here</a> to open in UI</b>"
      ],
      "text/plain": [
       "<IPython.core.display.HTML object>"
      ]
     },
     "metadata": {},
     "output_type": "display_data"
    }
   ],
   "source": [
    "# Create a temporary working area to avoid junk in your working area    \n",
    "with tempfile.TemporaryDirectory() as test_directory:\n",
    "    mlflow.set_tracking_uri(test_directory)  # Tell mlflow where to save logged data\n",
    "\n",
    "    # Run mlflow wrapped code\n",
    "    example_xgb_run()\n",
    "\n",
    "    # Set mlconf path to artifacts\n",
    "    mlrun.mlconf.artifact_path = test_directory + \"/artifact\"\n",
    "    \n",
    "    # Find the lastest mlflow run\n",
    "    mlflow_run = mlflow.last_active_run()\n",
    "    \n",
    "    # Import the run into mlrun using the function you created earlier\n",
    "    imported_run = MLFlowTracker().import_run(\n",
    "        project=project,\n",
    "        reference_id=mlflow_run.info.run_id,\n",
    "        function_name=function_name,\n",
    "    )\n",
    "\n"
   ]
  },
  {
   "cell_type": "markdown",
   "id": "e76eeed4-280c-4fe7-b573-888d18438167",
   "metadata": {},
   "source": [
    "## Import offline model"
   ]
  },
  {
   "cell_type": "code",
   "execution_count": null,
   "id": "f4a350e2-bedf-4da3-8822-6cc77064cf94",
   "metadata": {},
   "outputs": [
    {
     "name": "stdout",
     "output_type": "stream",
     "text": [
      "[0]\ttrain-mlogloss:0.74723\n",
      "[1]\ttrain-mlogloss:0.54060\n",
      "[2]\ttrain-mlogloss:0.40276\n",
      "[3]\ttrain-mlogloss:0.30789\n",
      "[4]\ttrain-mlogloss:0.24051\n",
      "[5]\ttrain-mlogloss:0.19086\n",
      "[6]\ttrain-mlogloss:0.15471\n",
      "[7]\ttrain-mlogloss:0.12807\n",
      "[8]\ttrain-mlogloss:0.10722\n",
      "[9]\ttrain-mlogloss:0.09053\n"
     ]
    }
   ],
   "source": [
    "# Create a temporary working area to avoid junk in your working area    \n",
    "with tempfile.TemporaryDirectory() as test_directory:\n",
    "    mlflow.set_tracking_uri(test_directory)  # Tell mlflow where to save logged data\n",
    "\n",
    "    # Run mlflow wrapped code\n",
    "    example_xgb_run()\n",
    "    \n",
    "    # Create a project for this tester:\n",
    "    project = mlrun.get_or_create_project(name=\"default\", context=test_directory)\n",
    "\n",
    "    # Access the model's uri through mlflow's last run\n",
    "    mlflow_run = mlflow.last_active_run()\n",
    "    model_uri = mlflow_run.info.artifact_uri + \"/model\"\n",
    "\n",
    "    key = \"test_model\"\n",
    "    MLFlowTracker().import_model(\n",
    "        project=project,\n",
    "        reference_id=model_uri,\n",
    "        key=key,\n",
    "        metrics=mlflow_run.data.metrics,\n",
    "    )\n",
    "\n",
    "    # Validate the model was logged into project\n",
    "    assert project.get_artifact(key)"
   ]
  },
  {
   "cell_type": "code",
   "execution_count": null,
   "id": "ef48ac1d",
   "metadata": {},
   "outputs": [],
   "source": []
  }
 ],
 "metadata": {
  "kernelspec": {
   "display_name": "Python 3 (ipykernel)",
   "language": "python",
   "name": "python3"
  },
  "language_info": {
   "codemirror_mode": {
    "name": "ipython",
    "version": 3
   },
   "file_extension": ".py",
   "mimetype": "text/x-python",
   "name": "python",
   "nbconvert_exporter": "python",
   "pygments_lexer": "ipython3",
   "version": "3.9.13"
  }
 },
 "nbformat": 4,
 "nbformat_minor": 5
}
