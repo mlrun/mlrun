{
 "cells": [
  {
   "cell_type": "markdown",
   "id": "ea8f6c9f",
   "metadata": {},
   "source": [
    "# Model monitoring and drift detection\n",
    "\n",
    "This tutorial illustrates the basic model monitoring capabilities of MLRun: deploying a model to a live endpoint and \n",
    "calculating data drift.\n",
    "\n",
    "See the overview to model monitoring in {ref}`model-monitoring`.\n",
    "\n",
    "Make sure you have reviewed the basics in MLRun [**Quick Start Tutorial**](../01-mlrun-basics.html)."
   ]
  },
  {
   "cell_type": "markdown",
   "id": "699c9e94",
   "metadata": {},
   "source": [
    "## MLRun installation and configuration\n",
    "\n",
    "Before running this notebook make sure `mlrun` is installed and that you have configured the access to the MLRun service. "
   ]
  },
  {
   "cell_type": "markdown",
   "id": "2ccd4c68",
   "metadata": {},
   "source": [
    "## Set up the project\n",
    "\n",
    "First, import the dependencies and create an [MLRun project](https://docs.mlrun.org/en/latest/projects/project.html). This  contains all of the models, functions, datasets, etc."
   ]
  },
  {
   "cell_type": "code",
   "execution_count": 1,
   "id": "c548d350-83c5-4886-8f96-401c8c139b7a",
   "metadata": {},
   "outputs": [
    {
     "name": "stdout",
     "output_type": "stream",
     "text": [
      "> 2024-03-27 11:22:46,181 [info] Loading project from path: {'project_name': 'mm-app-project', 'path': './'}\n",
      "> 2024-03-27 11:23:01,621 [info] Project loaded successfully: {'project_name': 'mm-app-project', 'path': './', 'stored_in_db': True}\n"
     ]
    }
   ],
   "source": [
    "%config Completer.use_jedi = False\n",
    "import os\n",
    "import pandas as pd\n",
    "from sklearn.datasets import load_iris\n",
    "import mlrun\n",
    "from mlrun import import_function, get_dataitem, get_or_create_project\n",
    "import uuid\n",
    "\n",
    "project_name = \"mm-app-project\"\n",
    "project = get_or_create_project(project_name, context=\"./\")"
   ]
  },
  {
   "cell_type": "markdown",
   "id": "9c8944e0-565a-4bc2-9515-e9a8f9724fb8",
   "metadata": {},
   "source": [
    "```{admonition} Note\n",
    "This tutorial does not focus on training a model. Instead, it starts with a trained model and its corresponding training dataset.\n",
    "```\n",
    "\n",
    "## Enable model monitoring\n",
    "\n",
    "Model monitoring is enabled per project. {py:meth}`~mlrun.projects.MlrunProject.enable_model_monitoring` brings up the controller and schedules it according to the `base_period`, and deploys the writer.\n",
    "\n",
    "The controller runs, by default, every 10 minutes, which is also the minimum interval. You can modify the frequency with the parameter `base_period`. To change the `base_period`, first run {py:meth}`~mlrun.projects.MlrunProject.disable_model_monitoring`, then run `enable_model_monitoring` with the new `base_period` value. "
   ]
  },
  {
   "cell_type": "code",
   "execution_count": 20,
   "id": "db1bcc3d-77d4-45ad-9048-7586c65ab346",
   "metadata": {},
   "outputs": [
    {
     "data": {
      "text/plain": [
       "{'kind': 'job',\n",
       " 'metadata': {'name': 'model-monitoring-controller',\n",
       "  'tag': 'latest',\n",
       "  'hash': '9824dcff5ff5a7c39e9c2abdddd2083ae0ae2709',\n",
       "  'project': 'mm-app-project',\n",
       "  'categories': [],\n",
       "  'updated': '2024-03-27T22:41:00.042253+00:00',\n",
       "  'credentials': {'access_key': '$ref:mlrun-auth-secrets.2042be5df933a276c0d947d7082c1126940f4c4efa1b79184cbd4aac'}},\n",
       " 'spec': {'command': '',\n",
       "  'args': [],\n",
       "  'image': 'mlrun/mlrun',\n",
       "  'build': {'functionSourceCode': 'IyBDb3B5cmlnaHQgMjAyMyBJZ3VhemlvCiMKIyBMaWNlbnNlZCB1bmRlciB0aGUgQXBhY2hlIExpY2Vuc2UsIFZlcnNpb24gMi4wICh0aGUgIkxpY2Vuc2UiKTsKIyB5b3UgbWF5IG5vdCB1c2UgdGhpcyBmaWxlIGV4Y2VwdCBpbiBjb21wbGlhbmNlIHdpdGggdGhlIExpY2Vuc2UuCiMgWW91IG1heSBvYnRhaW4gYSBjb3B5IG9mIHRoZSBMaWNlbnNlIGF0CiMKIyAgIGh0dHA6Ly93d3cuYXBhY2hlLm9yZy9saWNlbnNlcy9MSUNFTlNFLTIuMAojCiMgVW5sZXNzIHJlcXVpcmVkIGJ5IGFwcGxpY2FibGUgbGF3IG9yIGFncmVlZCB0byBpbiB3cml0aW5nLCBzb2Z0d2FyZQojIGRpc3RyaWJ1dGVkIHVuZGVyIHRoZSBMaWNlbnNlIGlzIGRpc3RyaWJ1dGVkIG9uIGFuICJBUyBJUyIgQkFTSVMsCiMgV0lUSE9VVCBXQVJSQU5USUVTIE9SIENPTkRJVElPTlMgT0YgQU5ZIEtJTkQsIGVpdGhlciBleHByZXNzIG9yIGltcGxpZWQuCiMgU2VlIHRoZSBMaWNlbnNlIGZvciB0aGUgc3BlY2lmaWMgbGFuZ3VhZ2UgZ292ZXJuaW5nIHBlcm1pc3Npb25zIGFuZAojIGxpbWl0YXRpb25zIHVuZGVyIHRoZSBMaWNlbnNlLgoKaW1wb3J0IG1scnVuCmZyb20gbWxydW4ubW9kZWxfbW9uaXRvcmluZy5jb250cm9sbGVyIGltcG9ydCBNb25pdG9yaW5nQXBwbGljYXRpb25Db250cm9sbGVyCgoKZGVmIGhhbmRsZXIoY29udGV4dDogbWxydW4ucnVuLk1MQ2xpZW50Q3R4KSAtPiBOb25lOgogICAgIiIiCiAgICBSdW4gbW9kZWwgbW9uaXRvcmluZyBhcHBsaWNhdGlvbiBwcm9jZXNzb3IKCiAgICA6cGFyYW0gY29udGV4dDogdGhlIE1MUnVuIGNvbnRleHQKICAgICIiIgogICAgbW9uaXRvcl9hcHBfY29udHJvbGxlciA9IE1vbml0b3JpbmdBcHBsaWNhdGlvbkNvbnRyb2xsZXIoCiAgICAgICAgY29udGV4dD1jb250ZXh0LAogICAgICAgIHByb2plY3Q9Y29udGV4dC5wcm9qZWN0LAogICAgKQogICAgbW9uaXRvcl9hcHBfY29udHJvbGxlci5ydW4oKQo=',\n",
       "   'commands': [],\n",
       "   'code_origin': '/mlrun/mlrun/model_monitoring/controller_handler.py',\n",
       "   'origin_filename': '/mlrun/mlrun/model_monitoring/controller_handler.py',\n",
       "   'requirements': []},\n",
       "  'entry_points': {'handler': {'name': 'handler',\n",
       "    'doc': 'Run model monitoring application processor',\n",
       "    'parameters': [{'name': 'context',\n",
       "      'type': 'mlrun.run.MLClientCtx',\n",
       "      'doc': 'the MLRun context'}],\n",
       "    'outputs': [{'type': 'None'}],\n",
       "    'lineno': 19,\n",
       "    'has_varargs': False,\n",
       "    'has_kwargs': False}},\n",
       "  'description': '',\n",
       "  'default_handler': 'handler',\n",
       "  'disable_auto_mount': True,\n",
       "  'clone_target_dir': '',\n",
       "  'volumes': [],\n",
       "  'volume_mounts': [],\n",
       "  'env': [{'name': 'MODEL_MONITORING_ACCESS_KEY',\n",
       "    'valueFrom': {'secretKeyRef': {'key': 'mlrun.model-monitoring.MODEL_MONITORING_ACCESS_KEY',\n",
       "      'name': 'mlrun-project-secrets-mm-app-project'}}},\n",
       "   {'name': 'V3IO_API', 'value': 'http://v3io-webapi:8081'},\n",
       "   {'name': 'V3IO_USERNAME', 'value': 'pipelines'},\n",
       "   {'name': 'V3IO_ACCESS_KEY',\n",
       "    'valueFrom': {'secretKeyRef': {'key': 'accessKey',\n",
       "      'name': 'mlrun-auth-secrets.782263857e5a4c9067f8e67e1a1352b3a9690adb47069b2abfda286d'}}},\n",
       "   {'name': 'V3IO_FRAMESD', 'value': 'http://framesd:8080'},\n",
       "   {'name': 'MLRUN_AUTH_SESSION',\n",
       "    'valueFrom': {'secretKeyRef': {'key': 'accessKey',\n",
       "      'name': 'mlrun-auth-secrets.2042be5df933a276c0d947d7082c1126940f4c4efa1b79184cbd4aac'}}}],\n",
       "  'resources': {'requests': {'memory': '1Mi', 'cpu': '25m'},\n",
       "   'limits': {'memory': '20Gi', 'cpu': '2'}},\n",
       "  'priority_class_name': 'igz-workload-medium',\n",
       "  'preemption_mode': 'prevent',\n",
       "  'state_thresholds': {'pending_scheduled': '1h',\n",
       "   'pending_not_scheduled': '-1',\n",
       "   'image_pull_backoff': '1h',\n",
       "   'executing': '24h'},\n",
       "  'affinity': None,\n",
       "  'tolerations': None,\n",
       "  'security_context': {}},\n",
       " 'verbose': False,\n",
       " 'status': {}}"
      ]
     },
     "execution_count": 20,
     "metadata": {},
     "output_type": "execute_result"
    }
   ],
   "source": [
    "project.enable_model_monitoring(base_period=1)"
   ]
  },
  {
   "cell_type": "markdown",
   "id": "6f1de530",
   "metadata": {},
   "source": [
    "## Log the model artifacts\n",
    "\n",
    "See full parameter details in {py:meth}`~mlrun.projects.MlrunProject.log_model`."
   ]
  },
  {
   "cell_type": "code",
   "execution_count": 3,
   "id": "ee81d857-7c02-4687-bb3d-92f0f3e05c51",
   "metadata": {
    "tags": []
   },
   "outputs": [
    {
     "data": {
      "text/plain": [
       "<mlrun.artifacts.model.ModelArtifact at 0x7f2f1f7cadf0>"
      ]
     },
     "execution_count": 3,
     "metadata": {},
     "output_type": "execute_result"
    }
   ],
   "source": [
    "iris = load_iris()\n",
    "train_set = pd.DataFrame(\n",
    "    iris[\"data\"],\n",
    "    columns=[\"sepal_length_cm\", \"sepal_width_cm\", \"petal_length_cm\", \"petal_width_cm\"],\n",
    ")\n",
    "\n",
    "model_name = \"RandomForestClassifier\"\n",
    "project.log_model(\n",
    "    model_name,\n",
    "    model_file=\"model.pkl\",\n",
    "    training_set=train_set,\n",
    "    framework=\"sklearn\",\n",
    ")"
   ]
  },
  {
   "cell_type": "markdown",
   "id": "1f1993e5-94c8-472d-b026-e1f6e5f89297",
   "metadata": {
    "tags": []
   },
   "source": [
    "## Import, enable monitoring, and deploy the serving function\n",
    "\n",
    "Import the [model server](https://github.com/mlrun/functions/tree/master/v2_model_server) function from the [MLRun Function Hub](https://www.mlrun.org/hub/), add the model that was logged via experiment tracking, and enable drift detection.\n",
    "\n",
    "The core line here is `serving_fn.set_tracking()`, which creates the required infrastructure behind the scenes to perform drift detection. See {ref}`model-monitoring` for more details on what is deployed.\n",
    "\n",
    "Then you deploy the serving function with drift detection enabled with a single line of code.\n",
    "\n",
    "The result of this step is that the model-monitoring stream pod writes data to Parquet, by model endpoint. Every base period, the controller checks for new data and if it finds, sends it to the relevant app."
   ]
  },
  {
   "cell_type": "code",
   "execution_count": 4,
   "id": "c9ea9061-00d8-4914-b4a5-90c0beb23180",
   "metadata": {
    "scrolled": true
   },
   "outputs": [
    {
     "name": "stdout",
     "output_type": "stream",
     "text": [
      "> 2024-03-27 11:23:03,268 [info] Starting remote function deploy\n",
      "2024-03-27 11:23:05  (info) Deploying function\n",
      "2024-03-27 11:23:05  (info) Building\n",
      "2024-03-27 11:23:06  (info) Staging files and preparing base images\n",
      "2024-03-27 11:23:06  (warn) Using user provided base image, runtime interpreter version is provided by the base image\n",
      "2024-03-27 11:23:06  (info) Building processor image\n",
      "2024-03-27 11:24:41  (info) Build complete\n",
      "2024-03-27 11:24:50  (info) Function deploy complete\n",
      "> 2024-03-27 11:24:57,598 [info] Successfully deployed function: {'internal_invocation_urls': ['nuclio-mm-app-project-serving.default-tenant.svc.cluster.local:8080'], 'external_invocation_urls': ['mm-app-project-serving.default-tenant.app.dev13.lab.iguazeng.com/']}\n"
     ]
    },
    {
     "data": {
      "text/plain": [
       "DeployStatus(state=ready, outputs={'endpoint': 'http://mm-app-project-serving.default-tenant.app.dev13.lab.iguazeng.com/', 'name': 'mm-app-project-serving'})"
      ]
     },
     "execution_count": 4,
     "metadata": {},
     "output_type": "execute_result"
    }
   ],
   "source": [
    "# Import the serving function\n",
    "serving_fn = import_function(\n",
    "    \"hub://v2_model_server\", project=project_name, new_name=\"serving\"\n",
    ")\n",
    "\n",
    "# Add the model to the serving function's routing spec\n",
    "serving_fn.add_model(\n",
    "    model_name, model_path=f\"store://models/{project_name}/{model_name}:latest\"\n",
    ")\n",
    "\n",
    "# Enable monitoring on this serving function\n",
    "serving_fn.set_tracking()\n",
    "\n",
    "serving_fn.spec.build.requirements = [\"scikit-learn\"]\n",
    "\n",
    "# Deploy the serving function\n",
    "project.deploy_function(serving_fn)"
   ]
  },
  {
   "cell_type": "markdown",
   "id": "c1386e06-5bd0-4206-84a1-73d88dcf1bbb",
   "metadata": {
    "tags": []
   },
   "source": [
    "## View deployed resources\n",
    "\n",
    "At this point, you should see the controller and the model-monitoring-batch jobs in the UI under **Projects | Jobs and Workflows**.\n",
    "\n",
    "## Invoke the model\n",
    "\n",
    "See full parameter details in {py:meth}`~mlrun.runtimes.RemoteRuntime.invoke`."
   ]
  },
  {
   "cell_type": "code",
   "execution_count": 5,
   "id": "d56d6d94-f40a-43d8-b9bf-9a6a8ca401b2",
   "metadata": {
    "scrolled": true,
    "tags": []
   },
   "outputs": [
    {
     "name": "stdout",
     "output_type": "stream",
     "text": [
      "> 2024-03-27 11:24:57,744 [info] Invoking function: {'method': 'POST', 'path': 'http://nuclio-mm-app-project-serving.default-tenant.svc.cluster.local:8080/v2/models/RandomForestClassifier/infer'}\n",
      "> 2024-03-27 11:24:58,156 [info] Invoking function: {'method': 'POST', 'path': 'http://nuclio-mm-app-project-serving.default-tenant.svc.cluster.local:8080/v2/models/RandomForestClassifier/infer'}\n",
      "> 2024-03-27 11:24:58,184 [info] Invoking function: {'method': 'POST', 'path': 'http://nuclio-mm-app-project-serving.default-tenant.svc.cluster.local:8080/v2/models/RandomForestClassifier/infer'}\n",
      "> 2024-03-27 11:24:58,241 [info] Invoking function: {'method': 'POST', 'path': 'http://nuclio-mm-app-project-serving.default-tenant.svc.cluster.local:8080/v2/models/RandomForestClassifier/infer'}\n",
      "> 2024-03-27 11:24:58,300 [info] Invoking function: {'method': 'POST', 'path': 'http://nuclio-mm-app-project-serving.default-tenant.svc.cluster.local:8080/v2/models/RandomForestClassifier/infer'}\n",
      "> 2024-03-27 11:24:58,360 [info] Invoking function: {'method': 'POST', 'path': 'http://nuclio-mm-app-project-serving.default-tenant.svc.cluster.local:8080/v2/models/RandomForestClassifier/infer'}\n",
      "> 2024-03-27 11:24:58,420 [info] Invoking function: {'method': 'POST', 'path': 'http://nuclio-mm-app-project-serving.default-tenant.svc.cluster.local:8080/v2/models/RandomForestClassifier/infer'}\n",
      "> 2024-03-27 11:24:58,483 [info] Invoking function: {'method': 'POST', 'path': 'http://nuclio-mm-app-project-serving.default-tenant.svc.cluster.local:8080/v2/models/RandomForestClassifier/infer'}\n",
      "> 2024-03-27 11:24:58,516 [info] Invoking function: {'method': 'POST', 'path': 'http://nuclio-mm-app-project-serving.default-tenant.svc.cluster.local:8080/v2/models/RandomForestClassifier/infer'}\n",
      "> 2024-03-27 11:24:58,551 [info] Invoking function: {'method': 'POST', 'path': 'http://nuclio-mm-app-project-serving.default-tenant.svc.cluster.local:8080/v2/models/RandomForestClassifier/infer'}\n",
      "> 2024-03-27 11:24:58,581 [info] Invoking function: {'method': 'POST', 'path': 'http://nuclio-mm-app-project-serving.default-tenant.svc.cluster.local:8080/v2/models/RandomForestClassifier/infer'}\n",
      "> 2024-03-27 11:24:58,614 [info] Invoking function: {'method': 'POST', 'path': 'http://nuclio-mm-app-project-serving.default-tenant.svc.cluster.local:8080/v2/models/RandomForestClassifier/infer'}\n",
      "> 2024-03-27 11:24:58,643 [info] Invoking function: {'method': 'POST', 'path': 'http://nuclio-mm-app-project-serving.default-tenant.svc.cluster.local:8080/v2/models/RandomForestClassifier/infer'}\n",
      "> 2024-03-27 11:24:58,704 [info] Invoking function: {'method': 'POST', 'path': 'http://nuclio-mm-app-project-serving.default-tenant.svc.cluster.local:8080/v2/models/RandomForestClassifier/infer'}\n",
      "> 2024-03-27 11:24:58,731 [info] Invoking function: {'method': 'POST', 'path': 'http://nuclio-mm-app-project-serving.default-tenant.svc.cluster.local:8080/v2/models/RandomForestClassifier/infer'}\n",
      "> 2024-03-27 11:24:58,758 [info] Invoking function: {'method': 'POST', 'path': 'http://nuclio-mm-app-project-serving.default-tenant.svc.cluster.local:8080/v2/models/RandomForestClassifier/infer'}\n",
      "> 2024-03-27 11:24:58,814 [info] Invoking function: {'method': 'POST', 'path': 'http://nuclio-mm-app-project-serving.default-tenant.svc.cluster.local:8080/v2/models/RandomForestClassifier/infer'}\n",
      "> 2024-03-27 11:24:58,842 [info] Invoking function: {'method': 'POST', 'path': 'http://nuclio-mm-app-project-serving.default-tenant.svc.cluster.local:8080/v2/models/RandomForestClassifier/infer'}\n",
      "> 2024-03-27 11:24:58,898 [info] Invoking function: {'method': 'POST', 'path': 'http://nuclio-mm-app-project-serving.default-tenant.svc.cluster.local:8080/v2/models/RandomForestClassifier/infer'}\n",
      "> 2024-03-27 11:24:58,926 [info] Invoking function: {'method': 'POST', 'path': 'http://nuclio-mm-app-project-serving.default-tenant.svc.cluster.local:8080/v2/models/RandomForestClassifier/infer'}\n",
      "> 2024-03-27 11:24:58,985 [info] Invoking function: {'method': 'POST', 'path': 'http://nuclio-mm-app-project-serving.default-tenant.svc.cluster.local:8080/v2/models/RandomForestClassifier/infer'}\n",
      "> 2024-03-27 11:24:59,013 [info] Invoking function: {'method': 'POST', 'path': 'http://nuclio-mm-app-project-serving.default-tenant.svc.cluster.local:8080/v2/models/RandomForestClassifier/infer'}\n",
      "> 2024-03-27 11:24:59,074 [info] Invoking function: {'method': 'POST', 'path': 'http://nuclio-mm-app-project-serving.default-tenant.svc.cluster.local:8080/v2/models/RandomForestClassifier/infer'}\n",
      "> 2024-03-27 11:24:59,135 [info] Invoking function: {'method': 'POST', 'path': 'http://nuclio-mm-app-project-serving.default-tenant.svc.cluster.local:8080/v2/models/RandomForestClassifier/infer'}\n",
      "> 2024-03-27 11:24:59,196 [info] Invoking function: {'method': 'POST', 'path': 'http://nuclio-mm-app-project-serving.default-tenant.svc.cluster.local:8080/v2/models/RandomForestClassifier/infer'}\n",
      "> 2024-03-27 11:24:59,254 [info] Invoking function: {'method': 'POST', 'path': 'http://nuclio-mm-app-project-serving.default-tenant.svc.cluster.local:8080/v2/models/RandomForestClassifier/infer'}\n",
      "> 2024-03-27 11:24:59,331 [info] Invoking function: {'method': 'POST', 'path': 'http://nuclio-mm-app-project-serving.default-tenant.svc.cluster.local:8080/v2/models/RandomForestClassifier/infer'}\n",
      "> 2024-03-27 11:24:59,360 [info] Invoking function: {'method': 'POST', 'path': 'http://nuclio-mm-app-project-serving.default-tenant.svc.cluster.local:8080/v2/models/RandomForestClassifier/infer'}\n",
      "> 2024-03-27 11:24:59,419 [info] Invoking function: {'method': 'POST', 'path': 'http://nuclio-mm-app-project-serving.default-tenant.svc.cluster.local:8080/v2/models/RandomForestClassifier/infer'}\n",
      "> 2024-03-27 11:24:59,482 [info] Invoking function: {'method': 'POST', 'path': 'http://nuclio-mm-app-project-serving.default-tenant.svc.cluster.local:8080/v2/models/RandomForestClassifier/infer'}\n",
      "> 2024-03-27 11:24:59,543 [info] Invoking function: {'method': 'POST', 'path': 'http://nuclio-mm-app-project-serving.default-tenant.svc.cluster.local:8080/v2/models/RandomForestClassifier/infer'}\n",
      "> 2024-03-27 11:24:59,602 [info] Invoking function: {'method': 'POST', 'path': 'http://nuclio-mm-app-project-serving.default-tenant.svc.cluster.local:8080/v2/models/RandomForestClassifier/infer'}\n",
      "> 2024-03-27 11:24:59,664 [info] Invoking function: {'method': 'POST', 'path': 'http://nuclio-mm-app-project-serving.default-tenant.svc.cluster.local:8080/v2/models/RandomForestClassifier/infer'}\n",
      "> 2024-03-27 11:24:59,694 [info] Invoking function: {'method': 'POST', 'path': 'http://nuclio-mm-app-project-serving.default-tenant.svc.cluster.local:8080/v2/models/RandomForestClassifier/infer'}\n",
      "> 2024-03-27 11:24:59,728 [info] Invoking function: {'method': 'POST', 'path': 'http://nuclio-mm-app-project-serving.default-tenant.svc.cluster.local:8080/v2/models/RandomForestClassifier/infer'}\n",
      "> 2024-03-27 11:24:59,787 [info] Invoking function: {'method': 'POST', 'path': 'http://nuclio-mm-app-project-serving.default-tenant.svc.cluster.local:8080/v2/models/RandomForestClassifier/infer'}\n",
      "> 2024-03-27 11:24:59,818 [info] Invoking function: {'method': 'POST', 'path': 'http://nuclio-mm-app-project-serving.default-tenant.svc.cluster.local:8080/v2/models/RandomForestClassifier/infer'}\n",
      "> 2024-03-27 11:24:59,881 [info] Invoking function: {'method': 'POST', 'path': 'http://nuclio-mm-app-project-serving.default-tenant.svc.cluster.local:8080/v2/models/RandomForestClassifier/infer'}\n",
      "> 2024-03-27 11:24:59,941 [info] Invoking function: {'method': 'POST', 'path': 'http://nuclio-mm-app-project-serving.default-tenant.svc.cluster.local:8080/v2/models/RandomForestClassifier/infer'}\n",
      "> 2024-03-27 11:24:59,971 [info] Invoking function: {'method': 'POST', 'path': 'http://nuclio-mm-app-project-serving.default-tenant.svc.cluster.local:8080/v2/models/RandomForestClassifier/infer'}\n",
      "> 2024-03-27 11:24:59,997 [info] Invoking function: {'method': 'POST', 'path': 'http://nuclio-mm-app-project-serving.default-tenant.svc.cluster.local:8080/v2/models/RandomForestClassifier/infer'}\n",
      "> 2024-03-27 11:25:00,058 [info] Invoking function: {'method': 'POST', 'path': 'http://nuclio-mm-app-project-serving.default-tenant.svc.cluster.local:8080/v2/models/RandomForestClassifier/infer'}\n",
      "> 2024-03-27 11:25:00,118 [info] Invoking function: {'method': 'POST', 'path': 'http://nuclio-mm-app-project-serving.default-tenant.svc.cluster.local:8080/v2/models/RandomForestClassifier/infer'}\n",
      "> 2024-03-27 11:25:00,148 [info] Invoking function: {'method': 'POST', 'path': 'http://nuclio-mm-app-project-serving.default-tenant.svc.cluster.local:8080/v2/models/RandomForestClassifier/infer'}\n",
      "> 2024-03-27 11:25:00,175 [info] Invoking function: {'method': 'POST', 'path': 'http://nuclio-mm-app-project-serving.default-tenant.svc.cluster.local:8080/v2/models/RandomForestClassifier/infer'}\n",
      "> 2024-03-27 11:25:00,232 [info] Invoking function: {'method': 'POST', 'path': 'http://nuclio-mm-app-project-serving.default-tenant.svc.cluster.local:8080/v2/models/RandomForestClassifier/infer'}\n",
      "> 2024-03-27 11:25:00,261 [info] Invoking function: {'method': 'POST', 'path': 'http://nuclio-mm-app-project-serving.default-tenant.svc.cluster.local:8080/v2/models/RandomForestClassifier/infer'}\n",
      "> 2024-03-27 11:25:00,319 [info] Invoking function: {'method': 'POST', 'path': 'http://nuclio-mm-app-project-serving.default-tenant.svc.cluster.local:8080/v2/models/RandomForestClassifier/infer'}\n",
      "> 2024-03-27 11:25:00,348 [info] Invoking function: {'method': 'POST', 'path': 'http://nuclio-mm-app-project-serving.default-tenant.svc.cluster.local:8080/v2/models/RandomForestClassifier/infer'}\n",
      "> 2024-03-27 11:25:00,376 [info] Invoking function: {'method': 'POST', 'path': 'http://nuclio-mm-app-project-serving.default-tenant.svc.cluster.local:8080/v2/models/RandomForestClassifier/infer'}\n",
      "> 2024-03-27 11:25:00,435 [info] Invoking function: {'method': 'POST', 'path': 'http://nuclio-mm-app-project-serving.default-tenant.svc.cluster.local:8080/v2/models/RandomForestClassifier/infer'}\n",
      "> 2024-03-27 11:25:00,465 [info] Invoking function: {'method': 'POST', 'path': 'http://nuclio-mm-app-project-serving.default-tenant.svc.cluster.local:8080/v2/models/RandomForestClassifier/infer'}\n",
      "> 2024-03-27 11:25:00,525 [info] Invoking function: {'method': 'POST', 'path': 'http://nuclio-mm-app-project-serving.default-tenant.svc.cluster.local:8080/v2/models/RandomForestClassifier/infer'}\n",
      "> 2024-03-27 11:25:00,555 [info] Invoking function: {'method': 'POST', 'path': 'http://nuclio-mm-app-project-serving.default-tenant.svc.cluster.local:8080/v2/models/RandomForestClassifier/infer'}\n",
      "> 2024-03-27 11:25:00,584 [info] Invoking function: {'method': 'POST', 'path': 'http://nuclio-mm-app-project-serving.default-tenant.svc.cluster.local:8080/v2/models/RandomForestClassifier/infer'}\n",
      "> 2024-03-27 11:25:00,613 [info] Invoking function: {'method': 'POST', 'path': 'http://nuclio-mm-app-project-serving.default-tenant.svc.cluster.local:8080/v2/models/RandomForestClassifier/infer'}\n",
      "> 2024-03-27 11:25:00,672 [info] Invoking function: {'method': 'POST', 'path': 'http://nuclio-mm-app-project-serving.default-tenant.svc.cluster.local:8080/v2/models/RandomForestClassifier/infer'}\n",
      "> 2024-03-27 11:25:00,702 [info] Invoking function: {'method': 'POST', 'path': 'http://nuclio-mm-app-project-serving.default-tenant.svc.cluster.local:8080/v2/models/RandomForestClassifier/infer'}\n",
      "> 2024-03-27 11:25:00,773 [info] Invoking function: {'method': 'POST', 'path': 'http://nuclio-mm-app-project-serving.default-tenant.svc.cluster.local:8080/v2/models/RandomForestClassifier/infer'}\n",
      "> 2024-03-27 11:25:00,833 [info] Invoking function: {'method': 'POST', 'path': 'http://nuclio-mm-app-project-serving.default-tenant.svc.cluster.local:8080/v2/models/RandomForestClassifier/infer'}\n",
      "> 2024-03-27 11:25:00,892 [info] Invoking function: {'method': 'POST', 'path': 'http://nuclio-mm-app-project-serving.default-tenant.svc.cluster.local:8080/v2/models/RandomForestClassifier/infer'}\n",
      "> 2024-03-27 11:25:00,951 [info] Invoking function: {'method': 'POST', 'path': 'http://nuclio-mm-app-project-serving.default-tenant.svc.cluster.local:8080/v2/models/RandomForestClassifier/infer'}\n",
      "> 2024-03-27 11:25:01,011 [info] Invoking function: {'method': 'POST', 'path': 'http://nuclio-mm-app-project-serving.default-tenant.svc.cluster.local:8080/v2/models/RandomForestClassifier/infer'}\n",
      "> 2024-03-27 11:25:01,042 [info] Invoking function: {'method': 'POST', 'path': 'http://nuclio-mm-app-project-serving.default-tenant.svc.cluster.local:8080/v2/models/RandomForestClassifier/infer'}\n",
      "> 2024-03-27 11:25:01,069 [info] Invoking function: {'method': 'POST', 'path': 'http://nuclio-mm-app-project-serving.default-tenant.svc.cluster.local:8080/v2/models/RandomForestClassifier/infer'}\n",
      "> 2024-03-27 11:25:01,098 [info] Invoking function: {'method': 'POST', 'path': 'http://nuclio-mm-app-project-serving.default-tenant.svc.cluster.local:8080/v2/models/RandomForestClassifier/infer'}\n",
      "> 2024-03-27 11:25:01,127 [info] Invoking function: {'method': 'POST', 'path': 'http://nuclio-mm-app-project-serving.default-tenant.svc.cluster.local:8080/v2/models/RandomForestClassifier/infer'}\n",
      "> 2024-03-27 11:25:01,186 [info] Invoking function: {'method': 'POST', 'path': 'http://nuclio-mm-app-project-serving.default-tenant.svc.cluster.local:8080/v2/models/RandomForestClassifier/infer'}\n",
      "> 2024-03-27 11:25:01,215 [info] Invoking function: {'method': 'POST', 'path': 'http://nuclio-mm-app-project-serving.default-tenant.svc.cluster.local:8080/v2/models/RandomForestClassifier/infer'}\n",
      "> 2024-03-27 11:25:01,248 [info] Invoking function: {'method': 'POST', 'path': 'http://nuclio-mm-app-project-serving.default-tenant.svc.cluster.local:8080/v2/models/RandomForestClassifier/infer'}\n",
      "> 2024-03-27 11:25:01,305 [info] Invoking function: {'method': 'POST', 'path': 'http://nuclio-mm-app-project-serving.default-tenant.svc.cluster.local:8080/v2/models/RandomForestClassifier/infer'}\n",
      "> 2024-03-27 11:25:01,373 [info] Invoking function: {'method': 'POST', 'path': 'http://nuclio-mm-app-project-serving.default-tenant.svc.cluster.local:8080/v2/models/RandomForestClassifier/infer'}\n",
      "> 2024-03-27 11:25:01,431 [info] Invoking function: {'method': 'POST', 'path': 'http://nuclio-mm-app-project-serving.default-tenant.svc.cluster.local:8080/v2/models/RandomForestClassifier/infer'}\n",
      "> 2024-03-27 11:25:01,462 [info] Invoking function: {'method': 'POST', 'path': 'http://nuclio-mm-app-project-serving.default-tenant.svc.cluster.local:8080/v2/models/RandomForestClassifier/infer'}\n",
      "> 2024-03-27 11:25:01,520 [info] Invoking function: {'method': 'POST', 'path': 'http://nuclio-mm-app-project-serving.default-tenant.svc.cluster.local:8080/v2/models/RandomForestClassifier/infer'}\n",
      "> 2024-03-27 11:25:01,578 [info] Invoking function: {'method': 'POST', 'path': 'http://nuclio-mm-app-project-serving.default-tenant.svc.cluster.local:8080/v2/models/RandomForestClassifier/infer'}\n",
      "> 2024-03-27 11:25:01,637 [info] Invoking function: {'method': 'POST', 'path': 'http://nuclio-mm-app-project-serving.default-tenant.svc.cluster.local:8080/v2/models/RandomForestClassifier/infer'}\n",
      "> 2024-03-27 11:25:01,694 [info] Invoking function: {'method': 'POST', 'path': 'http://nuclio-mm-app-project-serving.default-tenant.svc.cluster.local:8080/v2/models/RandomForestClassifier/infer'}\n",
      "> 2024-03-27 11:25:01,754 [info] Invoking function: {'method': 'POST', 'path': 'http://nuclio-mm-app-project-serving.default-tenant.svc.cluster.local:8080/v2/models/RandomForestClassifier/infer'}\n",
      "> 2024-03-27 11:25:01,814 [info] Invoking function: {'method': 'POST', 'path': 'http://nuclio-mm-app-project-serving.default-tenant.svc.cluster.local:8080/v2/models/RandomForestClassifier/infer'}\n",
      "> 2024-03-27 11:25:01,879 [info] Invoking function: {'method': 'POST', 'path': 'http://nuclio-mm-app-project-serving.default-tenant.svc.cluster.local:8080/v2/models/RandomForestClassifier/infer'}\n",
      "> 2024-03-27 11:25:01,908 [info] Invoking function: {'method': 'POST', 'path': 'http://nuclio-mm-app-project-serving.default-tenant.svc.cluster.local:8080/v2/models/RandomForestClassifier/infer'}\n",
      "> 2024-03-27 11:25:01,936 [info] Invoking function: {'method': 'POST', 'path': 'http://nuclio-mm-app-project-serving.default-tenant.svc.cluster.local:8080/v2/models/RandomForestClassifier/infer'}\n",
      "> 2024-03-27 11:25:01,968 [info] Invoking function: {'method': 'POST', 'path': 'http://nuclio-mm-app-project-serving.default-tenant.svc.cluster.local:8080/v2/models/RandomForestClassifier/infer'}\n",
      "> 2024-03-27 11:25:01,998 [info] Invoking function: {'method': 'POST', 'path': 'http://nuclio-mm-app-project-serving.default-tenant.svc.cluster.local:8080/v2/models/RandomForestClassifier/infer'}\n",
      "> 2024-03-27 11:25:02,057 [info] Invoking function: {'method': 'POST', 'path': 'http://nuclio-mm-app-project-serving.default-tenant.svc.cluster.local:8080/v2/models/RandomForestClassifier/infer'}\n",
      "> 2024-03-27 11:25:02,087 [info] Invoking function: {'method': 'POST', 'path': 'http://nuclio-mm-app-project-serving.default-tenant.svc.cluster.local:8080/v2/models/RandomForestClassifier/infer'}\n",
      "> 2024-03-27 11:25:02,116 [info] Invoking function: {'method': 'POST', 'path': 'http://nuclio-mm-app-project-serving.default-tenant.svc.cluster.local:8080/v2/models/RandomForestClassifier/infer'}\n",
      "> 2024-03-27 11:25:02,144 [info] Invoking function: {'method': 'POST', 'path': 'http://nuclio-mm-app-project-serving.default-tenant.svc.cluster.local:8080/v2/models/RandomForestClassifier/infer'}\n",
      "> 2024-03-27 11:25:02,178 [info] Invoking function: {'method': 'POST', 'path': 'http://nuclio-mm-app-project-serving.default-tenant.svc.cluster.local:8080/v2/models/RandomForestClassifier/infer'}\n",
      "> 2024-03-27 11:25:02,236 [info] Invoking function: {'method': 'POST', 'path': 'http://nuclio-mm-app-project-serving.default-tenant.svc.cluster.local:8080/v2/models/RandomForestClassifier/infer'}\n",
      "> 2024-03-27 11:25:02,266 [info] Invoking function: {'method': 'POST', 'path': 'http://nuclio-mm-app-project-serving.default-tenant.svc.cluster.local:8080/v2/models/RandomForestClassifier/infer'}\n",
      "> 2024-03-27 11:25:02,294 [info] Invoking function: {'method': 'POST', 'path': 'http://nuclio-mm-app-project-serving.default-tenant.svc.cluster.local:8080/v2/models/RandomForestClassifier/infer'}\n",
      "> 2024-03-27 11:25:02,352 [info] Invoking function: {'method': 'POST', 'path': 'http://nuclio-mm-app-project-serving.default-tenant.svc.cluster.local:8080/v2/models/RandomForestClassifier/infer'}\n",
      "> 2024-03-27 11:25:02,412 [info] Invoking function: {'method': 'POST', 'path': 'http://nuclio-mm-app-project-serving.default-tenant.svc.cluster.local:8080/v2/models/RandomForestClassifier/infer'}\n",
      "> 2024-03-27 11:25:02,441 [info] Invoking function: {'method': 'POST', 'path': 'http://nuclio-mm-app-project-serving.default-tenant.svc.cluster.local:8080/v2/models/RandomForestClassifier/infer'}\n",
      "> 2024-03-27 11:25:02,498 [info] Invoking function: {'method': 'POST', 'path': 'http://nuclio-mm-app-project-serving.default-tenant.svc.cluster.local:8080/v2/models/RandomForestClassifier/infer'}\n",
      "> 2024-03-27 11:25:02,527 [info] Invoking function: {'method': 'POST', 'path': 'http://nuclio-mm-app-project-serving.default-tenant.svc.cluster.local:8080/v2/models/RandomForestClassifier/infer'}\n",
      "> 2024-03-27 11:25:02,584 [info] Invoking function: {'method': 'POST', 'path': 'http://nuclio-mm-app-project-serving.default-tenant.svc.cluster.local:8080/v2/models/RandomForestClassifier/infer'}\n",
      "> 2024-03-27 11:25:02,614 [info] Invoking function: {'method': 'POST', 'path': 'http://nuclio-mm-app-project-serving.default-tenant.svc.cluster.local:8080/v2/models/RandomForestClassifier/infer'}\n",
      "> 2024-03-27 11:25:02,673 [info] Invoking function: {'method': 'POST', 'path': 'http://nuclio-mm-app-project-serving.default-tenant.svc.cluster.local:8080/v2/models/RandomForestClassifier/infer'}\n",
      "> 2024-03-27 11:25:02,732 [info] Invoking function: {'method': 'POST', 'path': 'http://nuclio-mm-app-project-serving.default-tenant.svc.cluster.local:8080/v2/models/RandomForestClassifier/infer'}\n",
      "> 2024-03-27 11:25:02,790 [info] Invoking function: {'method': 'POST', 'path': 'http://nuclio-mm-app-project-serving.default-tenant.svc.cluster.local:8080/v2/models/RandomForestClassifier/infer'}\n",
      "> 2024-03-27 11:25:02,820 [info] Invoking function: {'method': 'POST', 'path': 'http://nuclio-mm-app-project-serving.default-tenant.svc.cluster.local:8080/v2/models/RandomForestClassifier/infer'}\n",
      "> 2024-03-27 11:25:02,878 [info] Invoking function: {'method': 'POST', 'path': 'http://nuclio-mm-app-project-serving.default-tenant.svc.cluster.local:8080/v2/models/RandomForestClassifier/infer'}\n",
      "> 2024-03-27 11:25:02,905 [info] Invoking function: {'method': 'POST', 'path': 'http://nuclio-mm-app-project-serving.default-tenant.svc.cluster.local:8080/v2/models/RandomForestClassifier/infer'}\n",
      "> 2024-03-27 11:25:02,934 [info] Invoking function: {'method': 'POST', 'path': 'http://nuclio-mm-app-project-serving.default-tenant.svc.cluster.local:8080/v2/models/RandomForestClassifier/infer'}\n",
      "> 2024-03-27 11:25:02,960 [info] Invoking function: {'method': 'POST', 'path': 'http://nuclio-mm-app-project-serving.default-tenant.svc.cluster.local:8080/v2/models/RandomForestClassifier/infer'}\n",
      "> 2024-03-27 11:25:03,019 [info] Invoking function: {'method': 'POST', 'path': 'http://nuclio-mm-app-project-serving.default-tenant.svc.cluster.local:8080/v2/models/RandomForestClassifier/infer'}\n",
      "> 2024-03-27 11:25:03,079 [info] Invoking function: {'method': 'POST', 'path': 'http://nuclio-mm-app-project-serving.default-tenant.svc.cluster.local:8080/v2/models/RandomForestClassifier/infer'}\n",
      "> 2024-03-27 11:25:03,138 [info] Invoking function: {'method': 'POST', 'path': 'http://nuclio-mm-app-project-serving.default-tenant.svc.cluster.local:8080/v2/models/RandomForestClassifier/infer'}\n",
      "> 2024-03-27 11:25:03,171 [info] Invoking function: {'method': 'POST', 'path': 'http://nuclio-mm-app-project-serving.default-tenant.svc.cluster.local:8080/v2/models/RandomForestClassifier/infer'}\n",
      "> 2024-03-27 11:25:03,229 [info] Invoking function: {'method': 'POST', 'path': 'http://nuclio-mm-app-project-serving.default-tenant.svc.cluster.local:8080/v2/models/RandomForestClassifier/infer'}\n",
      "> 2024-03-27 11:25:03,288 [info] Invoking function: {'method': 'POST', 'path': 'http://nuclio-mm-app-project-serving.default-tenant.svc.cluster.local:8080/v2/models/RandomForestClassifier/infer'}\n",
      "> 2024-03-27 11:25:03,353 [info] Invoking function: {'method': 'POST', 'path': 'http://nuclio-mm-app-project-serving.default-tenant.svc.cluster.local:8080/v2/models/RandomForestClassifier/infer'}\n",
      "> 2024-03-27 11:25:03,415 [info] Invoking function: {'method': 'POST', 'path': 'http://nuclio-mm-app-project-serving.default-tenant.svc.cluster.local:8080/v2/models/RandomForestClassifier/infer'}\n",
      "> 2024-03-27 11:25:03,447 [info] Invoking function: {'method': 'POST', 'path': 'http://nuclio-mm-app-project-serving.default-tenant.svc.cluster.local:8080/v2/models/RandomForestClassifier/infer'}\n",
      "> 2024-03-27 11:25:03,505 [info] Invoking function: {'method': 'POST', 'path': 'http://nuclio-mm-app-project-serving.default-tenant.svc.cluster.local:8080/v2/models/RandomForestClassifier/infer'}\n",
      "> 2024-03-27 11:25:03,534 [info] Invoking function: {'method': 'POST', 'path': 'http://nuclio-mm-app-project-serving.default-tenant.svc.cluster.local:8080/v2/models/RandomForestClassifier/infer'}\n",
      "> 2024-03-27 11:25:03,562 [info] Invoking function: {'method': 'POST', 'path': 'http://nuclio-mm-app-project-serving.default-tenant.svc.cluster.local:8080/v2/models/RandomForestClassifier/infer'}\n",
      "> 2024-03-27 11:25:03,591 [info] Invoking function: {'method': 'POST', 'path': 'http://nuclio-mm-app-project-serving.default-tenant.svc.cluster.local:8080/v2/models/RandomForestClassifier/infer'}\n",
      "> 2024-03-27 11:25:03,649 [info] Invoking function: {'method': 'POST', 'path': 'http://nuclio-mm-app-project-serving.default-tenant.svc.cluster.local:8080/v2/models/RandomForestClassifier/infer'}\n",
      "> 2024-03-27 11:25:03,677 [info] Invoking function: {'method': 'POST', 'path': 'http://nuclio-mm-app-project-serving.default-tenant.svc.cluster.local:8080/v2/models/RandomForestClassifier/infer'}\n",
      "> 2024-03-27 11:25:03,735 [info] Invoking function: {'method': 'POST', 'path': 'http://nuclio-mm-app-project-serving.default-tenant.svc.cluster.local:8080/v2/models/RandomForestClassifier/infer'}\n",
      "> 2024-03-27 11:25:03,794 [info] Invoking function: {'method': 'POST', 'path': 'http://nuclio-mm-app-project-serving.default-tenant.svc.cluster.local:8080/v2/models/RandomForestClassifier/infer'}\n",
      "> 2024-03-27 11:25:03,862 [info] Invoking function: {'method': 'POST', 'path': 'http://nuclio-mm-app-project-serving.default-tenant.svc.cluster.local:8080/v2/models/RandomForestClassifier/infer'}\n",
      "> 2024-03-27 11:25:03,892 [info] Invoking function: {'method': 'POST', 'path': 'http://nuclio-mm-app-project-serving.default-tenant.svc.cluster.local:8080/v2/models/RandomForestClassifier/infer'}\n",
      "> 2024-03-27 11:25:03,919 [info] Invoking function: {'method': 'POST', 'path': 'http://nuclio-mm-app-project-serving.default-tenant.svc.cluster.local:8080/v2/models/RandomForestClassifier/infer'}\n",
      "> 2024-03-27 11:25:03,947 [info] Invoking function: {'method': 'POST', 'path': 'http://nuclio-mm-app-project-serving.default-tenant.svc.cluster.local:8080/v2/models/RandomForestClassifier/infer'}\n",
      "> 2024-03-27 11:25:04,005 [info] Invoking function: {'method': 'POST', 'path': 'http://nuclio-mm-app-project-serving.default-tenant.svc.cluster.local:8080/v2/models/RandomForestClassifier/infer'}\n",
      "> 2024-03-27 11:25:04,063 [info] Invoking function: {'method': 'POST', 'path': 'http://nuclio-mm-app-project-serving.default-tenant.svc.cluster.local:8080/v2/models/RandomForestClassifier/infer'}\n",
      "> 2024-03-27 11:25:04,091 [info] Invoking function: {'method': 'POST', 'path': 'http://nuclio-mm-app-project-serving.default-tenant.svc.cluster.local:8080/v2/models/RandomForestClassifier/infer'}\n",
      "> 2024-03-27 11:25:04,119 [info] Invoking function: {'method': 'POST', 'path': 'http://nuclio-mm-app-project-serving.default-tenant.svc.cluster.local:8080/v2/models/RandomForestClassifier/infer'}\n",
      "> 2024-03-27 11:25:04,145 [info] Invoking function: {'method': 'POST', 'path': 'http://nuclio-mm-app-project-serving.default-tenant.svc.cluster.local:8080/v2/models/RandomForestClassifier/infer'}\n",
      "> 2024-03-27 11:25:04,202 [info] Invoking function: {'method': 'POST', 'path': 'http://nuclio-mm-app-project-serving.default-tenant.svc.cluster.local:8080/v2/models/RandomForestClassifier/infer'}\n",
      "> 2024-03-27 11:25:04,261 [info] Invoking function: {'method': 'POST', 'path': 'http://nuclio-mm-app-project-serving.default-tenant.svc.cluster.local:8080/v2/models/RandomForestClassifier/infer'}\n",
      "> 2024-03-27 11:25:04,320 [info] Invoking function: {'method': 'POST', 'path': 'http://nuclio-mm-app-project-serving.default-tenant.svc.cluster.local:8080/v2/models/RandomForestClassifier/infer'}\n",
      "> 2024-03-27 11:25:04,378 [info] Invoking function: {'method': 'POST', 'path': 'http://nuclio-mm-app-project-serving.default-tenant.svc.cluster.local:8080/v2/models/RandomForestClassifier/infer'}\n",
      "> 2024-03-27 11:25:04,409 [info] Invoking function: {'method': 'POST', 'path': 'http://nuclio-mm-app-project-serving.default-tenant.svc.cluster.local:8080/v2/models/RandomForestClassifier/infer'}\n",
      "> 2024-03-27 11:25:04,438 [info] Invoking function: {'method': 'POST', 'path': 'http://nuclio-mm-app-project-serving.default-tenant.svc.cluster.local:8080/v2/models/RandomForestClassifier/infer'}\n",
      "> 2024-03-27 11:25:04,466 [info] Invoking function: {'method': 'POST', 'path': 'http://nuclio-mm-app-project-serving.default-tenant.svc.cluster.local:8080/v2/models/RandomForestClassifier/infer'}\n",
      "> 2024-03-27 11:25:04,498 [info] Invoking function: {'method': 'POST', 'path': 'http://nuclio-mm-app-project-serving.default-tenant.svc.cluster.local:8080/v2/models/RandomForestClassifier/infer'}\n",
      "> 2024-03-27 11:25:04,580 [info] Invoking function: {'method': 'POST', 'path': 'http://nuclio-mm-app-project-serving.default-tenant.svc.cluster.local:8080/v2/models/RandomForestClassifier/infer'}\n",
      "> 2024-03-27 11:25:04,640 [info] Invoking function: {'method': 'POST', 'path': 'http://nuclio-mm-app-project-serving.default-tenant.svc.cluster.local:8080/v2/models/RandomForestClassifier/infer'}\n",
      "> 2024-03-27 11:25:04,672 [info] Invoking function: {'method': 'POST', 'path': 'http://nuclio-mm-app-project-serving.default-tenant.svc.cluster.local:8080/v2/models/RandomForestClassifier/infer'}\n",
      "> 2024-03-27 11:25:04,702 [info] Invoking function: {'method': 'POST', 'path': 'http://nuclio-mm-app-project-serving.default-tenant.svc.cluster.local:8080/v2/models/RandomForestClassifier/infer'}\n",
      "> 2024-03-27 11:25:04,766 [info] Invoking function: {'method': 'POST', 'path': 'http://nuclio-mm-app-project-serving.default-tenant.svc.cluster.local:8080/v2/models/RandomForestClassifier/infer'}\n",
      "> 2024-03-27 11:25:04,830 [info] Invoking function: {'method': 'POST', 'path': 'http://nuclio-mm-app-project-serving.default-tenant.svc.cluster.local:8080/v2/models/RandomForestClassifier/infer'}\n",
      "> 2024-03-27 11:25:04,896 [info] Invoking function: {'method': 'POST', 'path': 'http://nuclio-mm-app-project-serving.default-tenant.svc.cluster.local:8080/v2/models/RandomForestClassifier/infer'}\n",
      "> 2024-03-27 11:25:04,926 [info] Invoking function: {'method': 'POST', 'path': 'http://nuclio-mm-app-project-serving.default-tenant.svc.cluster.local:8080/v2/models/RandomForestClassifier/infer'}\n"
     ]
    }
   ],
   "source": [
    "import json\n",
    "from time import sleep\n",
    "from random import choice, uniform\n",
    "\n",
    "iris = load_iris()\n",
    "iris_data = iris[\"data\"].tolist()\n",
    "\n",
    "model_name = \"RandomForestClassifier\"\n",
    "serving_1 = project.get_function(\"serving\")\n",
    "0\n",
    "for i in range(150):\n",
    "    # data_point = choice(iris_data)\n",
    "    data_point = [0.5, 0.5, 0.5, 0.5]\n",
    "    serving_1.invoke(\n",
    "        f\"v2/models/{model_name}/infer\", json.dumps({\"inputs\": [data_point]})\n",
    "    )\n",
    "    sleep(choice([0.01, 0.04]))"
   ]
  },
  {
   "cell_type": "markdown",
   "id": "367392df-0760-41ef-8881-b7e3b4bd90c9",
   "metadata": {
    "tags": []
   },
   "source": [
    "At this stage you can see the model endpoints and minimal meta data (for example, last prediction and average latency) in the **Models | Model Endpoints** page. \n",
    "\n",
    "<img src=\"./_static/images/model_endpoint_1.png\" width=\"1000\" >\n",
    "\n",
    "You can also see the basic statistics in Grafana.\n",
    "\n",
    "## Register and deploy the model-monitoring jobs\n",
    "\n",
    "The next step is to deploy the model-monitoring job to generate the full meta data. Add the monitoring function to the project using {py:meth}`~mlrun.projects.MlrunProject.set_model_monitoring_function`. \n",
    "Then, deploy the function using {py:meth}`~mlrun.projects.MlrunProject.deploy_function`.\n",
    "\n",
    "This example illustrates two monitoring jobs:\n",
    "- The first is the default [batch monitoring job](https://www.mlrun.org/hub/functions/master/model-monitoring-batch/).\n",
    "- The second integrates [Evidently](https://github.com/evidentlyai/evidently) as an MLRun function to create MLRun artifacts.\n",
    "\n",
    "After deploying the jobs they show in the UI under Real-time functions (Nuclio)."
   ]
  },
  {
   "cell_type": "code",
   "execution_count": 6,
   "id": "6c078d0e-34e3-4c50-8e4e-895414fa000e",
   "metadata": {},
   "outputs": [
    {
     "name": "stdout",
     "output_type": "stream",
     "text": [
      "> 2024-03-27 11:25:05,047 [info] Starting remote function deploy\n",
      "2024-03-27 11:25:05  (info) Deploying function\n",
      "2024-03-27 11:25:05  (info) Building\n",
      "2024-03-27 11:25:06  (info) Staging files and preparing base images\n",
      "2024-03-27 11:25:06  (warn) Using user provided base image, runtime interpreter version is provided by the base image\n",
      "2024-03-27 11:25:06  (info) Building processor image\n",
      "2024-03-27 11:26:31  (info) Build complete\n",
      "2024-03-27 11:27:03  (info) Function deploy complete\n",
      "> 2024-03-27 11:27:07,628 [info] Successfully deployed function: {'internal_invocation_urls': ['nuclio-mm-app-project-myapp.default-tenant.svc.cluster.local:8080'], 'external_invocation_urls': ['mm-app-project-myapp.default-tenant.app.dev13.lab.iguazeng.com/']}\n"
     ]
    },
    {
     "data": {
      "text/plain": [
       "DeployStatus(state=ready, outputs={'endpoint': 'http://mm-app-project-myapp.default-tenant.app.dev13.lab.iguazeng.com/', 'name': 'mm-app-project-myapp'})"
      ]
     },
     "execution_count": 6,
     "metadata": {},
     "output_type": "execute_result"
    }
   ],
   "source": [
    "# register the first app named \"demo_app\"\n",
    "my_app = project.set_model_monitoring_function(\n",
    "    func=\"./assets/demo_app.py\",\n",
    "    application_class=\"DemoMonitoringApp\",\n",
    "    name=\"myApp\",\n",
    ")\n",
    "\n",
    "project.deploy_function(my_app)"
   ]
  },
  {
   "cell_type": "code",
   "execution_count": 7,
   "id": "bea6e8fb-c6d5-44f6-a46e-7c8a01e295ca",
   "metadata": {
    "tags": []
   },
   "outputs": [
    {
     "name": "stdout",
     "output_type": "stream",
     "text": [
      "> 2024-03-27 11:27:07,787 [info] Starting remote function deploy\n",
      "2024-03-27 11:27:08  (info) Deploying function\n",
      "2024-03-27 11:27:08  (info) Building\n",
      "2024-03-27 11:27:08  (info) Staging files and preparing base images\n",
      "2024-03-27 11:27:08  (warn) Using user provided base image, runtime interpreter version is provided by the base image\n",
      "2024-03-27 11:27:08  (info) Building processor image\n",
      "2024-03-27 11:28:33  (info) Build complete\n",
      "2024-03-27 11:29:09  (info) Function deploy complete\n",
      "> 2024-03-27 11:29:10,021 [info] Successfully deployed function: {'internal_invocation_urls': ['nuclio-mm-app-project-myevidentlyapp.default-tenant.svc.cluster.local:8080'], 'external_invocation_urls': ['mm-app-project-myevidentlyapp.default-tenant.app.dev13.lab.iguazeng.com/']}\n"
     ]
    },
    {
     "data": {
      "text/plain": [
       "DeployStatus(state=ready, outputs={'endpoint': 'http://mm-app-project-myevidentlyapp.default-tenant.app.dev13.lab.iguazeng.com/', 'name': 'mm-app-project-myevidentlyapp'})"
      ]
     },
     "execution_count": 7,
     "metadata": {},
     "output_type": "execute_result"
    }
   ],
   "source": [
    "# register the second app named \"evidently_app\"\n",
    "my_evidently_app = project.set_model_monitoring_function(\n",
    "    func=\"./assets/evidently_app.py\",\n",
    "    image=\"mlrun/mlrun\",\n",
    "    requirements=[\n",
    "        \"evidently~=0.4.3\",\n",
    "    ],\n",
    "    name=\"MyEvidentlyApp\",\n",
    "    application_class=\"DemoEvidentlyMonitoringApp\",\n",
    "    evidently_workspace_path=os.path.abspath(\n",
    "        f\"/v3io/projects/{project_name}/artifacts/evidently_workspace\"\n",
    "    ),\n",
    "    evidently_project_id=str(uuid.uuid4()),\n",
    ")\n",
    "\n",
    "project.deploy_function(my_evidently_app)"
   ]
  },
  {
   "cell_type": "markdown",
   "id": "9e6f414b-dccd-45b1-9dc8-ada2c82b85cd",
   "metadata": {
    "tags": []
   },
   "source": [
    "## Invoke the model again\n",
    "The controller checks for new datasets every `base_period` to send to the app. Invoking the model a second time ensures that the previous window closed and therefore the data contains the full monitoring window. From this point on, the applications are triggered by the controller. The controller checks the Parquet DB every 10 minutes (or non-default \n",
    "`base_period`) and streams any new data to the app."
   ]
  },
  {
   "cell_type": "code",
   "execution_count": 13,
   "id": "906174a1-d300-4860-ae41-1284fe9b544a",
   "metadata": {
    "scrolled": true,
    "tags": []
   },
   "outputs": [
    {
     "name": "stdout",
     "output_type": "stream",
     "text": [
      "> 2024-03-27 11:34:53,930 [info] Invoking function: {'method': 'POST', 'path': 'http://nuclio-mm-app-project-serving.default-tenant.svc.cluster.local:8080/v2/models/RandomForestClassifier/infer'}\n",
      "> 2024-03-27 11:34:53,964 [info] Invoking function: {'method': 'POST', 'path': 'http://nuclio-mm-app-project-serving.default-tenant.svc.cluster.local:8080/v2/models/RandomForestClassifier/infer'}\n",
      "> 2024-03-27 11:34:54,022 [info] Invoking function: {'method': 'POST', 'path': 'http://nuclio-mm-app-project-serving.default-tenant.svc.cluster.local:8080/v2/models/RandomForestClassifier/infer'}\n",
      "> 2024-03-27 11:34:54,082 [info] Invoking function: {'method': 'POST', 'path': 'http://nuclio-mm-app-project-serving.default-tenant.svc.cluster.local:8080/v2/models/RandomForestClassifier/infer'}\n",
      "> 2024-03-27 11:34:54,141 [info] Invoking function: {'method': 'POST', 'path': 'http://nuclio-mm-app-project-serving.default-tenant.svc.cluster.local:8080/v2/models/RandomForestClassifier/infer'}\n",
      "> 2024-03-27 11:34:54,201 [info] Invoking function: {'method': 'POST', 'path': 'http://nuclio-mm-app-project-serving.default-tenant.svc.cluster.local:8080/v2/models/RandomForestClassifier/infer'}\n",
      "> 2024-03-27 11:34:54,232 [info] Invoking function: {'method': 'POST', 'path': 'http://nuclio-mm-app-project-serving.default-tenant.svc.cluster.local:8080/v2/models/RandomForestClassifier/infer'}\n",
      "> 2024-03-27 11:34:54,292 [info] Invoking function: {'method': 'POST', 'path': 'http://nuclio-mm-app-project-serving.default-tenant.svc.cluster.local:8080/v2/models/RandomForestClassifier/infer'}\n",
      "> 2024-03-27 11:34:54,355 [info] Invoking function: {'method': 'POST', 'path': 'http://nuclio-mm-app-project-serving.default-tenant.svc.cluster.local:8080/v2/models/RandomForestClassifier/infer'}\n",
      "> 2024-03-27 11:34:54,384 [info] Invoking function: {'method': 'POST', 'path': 'http://nuclio-mm-app-project-serving.default-tenant.svc.cluster.local:8080/v2/models/RandomForestClassifier/infer'}\n",
      "> 2024-03-27 11:34:54,442 [info] Invoking function: {'method': 'POST', 'path': 'http://nuclio-mm-app-project-serving.default-tenant.svc.cluster.local:8080/v2/models/RandomForestClassifier/infer'}\n",
      "> 2024-03-27 11:34:54,510 [info] Invoking function: {'method': 'POST', 'path': 'http://nuclio-mm-app-project-serving.default-tenant.svc.cluster.local:8080/v2/models/RandomForestClassifier/infer'}\n",
      "> 2024-03-27 11:34:54,570 [info] Invoking function: {'method': 'POST', 'path': 'http://nuclio-mm-app-project-serving.default-tenant.svc.cluster.local:8080/v2/models/RandomForestClassifier/infer'}\n",
      "> 2024-03-27 11:34:54,628 [info] Invoking function: {'method': 'POST', 'path': 'http://nuclio-mm-app-project-serving.default-tenant.svc.cluster.local:8080/v2/models/RandomForestClassifier/infer'}\n",
      "> 2024-03-27 11:34:54,688 [info] Invoking function: {'method': 'POST', 'path': 'http://nuclio-mm-app-project-serving.default-tenant.svc.cluster.local:8080/v2/models/RandomForestClassifier/infer'}\n",
      "> 2024-03-27 11:34:54,747 [info] Invoking function: {'method': 'POST', 'path': 'http://nuclio-mm-app-project-serving.default-tenant.svc.cluster.local:8080/v2/models/RandomForestClassifier/infer'}\n",
      "> 2024-03-27 11:34:54,781 [info] Invoking function: {'method': 'POST', 'path': 'http://nuclio-mm-app-project-serving.default-tenant.svc.cluster.local:8080/v2/models/RandomForestClassifier/infer'}\n",
      "> 2024-03-27 11:34:54,842 [info] Invoking function: {'method': 'POST', 'path': 'http://nuclio-mm-app-project-serving.default-tenant.svc.cluster.local:8080/v2/models/RandomForestClassifier/infer'}\n",
      "> 2024-03-27 11:34:54,872 [info] Invoking function: {'method': 'POST', 'path': 'http://nuclio-mm-app-project-serving.default-tenant.svc.cluster.local:8080/v2/models/RandomForestClassifier/infer'}\n",
      "> 2024-03-27 11:34:54,929 [info] Invoking function: {'method': 'POST', 'path': 'http://nuclio-mm-app-project-serving.default-tenant.svc.cluster.local:8080/v2/models/RandomForestClassifier/infer'}\n",
      "> 2024-03-27 11:34:54,958 [info] Invoking function: {'method': 'POST', 'path': 'http://nuclio-mm-app-project-serving.default-tenant.svc.cluster.local:8080/v2/models/RandomForestClassifier/infer'}\n",
      "> 2024-03-27 11:34:55,016 [info] Invoking function: {'method': 'POST', 'path': 'http://nuclio-mm-app-project-serving.default-tenant.svc.cluster.local:8080/v2/models/RandomForestClassifier/infer'}\n",
      "> 2024-03-27 11:34:55,044 [info] Invoking function: {'method': 'POST', 'path': 'http://nuclio-mm-app-project-serving.default-tenant.svc.cluster.local:8080/v2/models/RandomForestClassifier/infer'}\n",
      "> 2024-03-27 11:34:55,100 [info] Invoking function: {'method': 'POST', 'path': 'http://nuclio-mm-app-project-serving.default-tenant.svc.cluster.local:8080/v2/models/RandomForestClassifier/infer'}\n",
      "> 2024-03-27 11:34:55,157 [info] Invoking function: {'method': 'POST', 'path': 'http://nuclio-mm-app-project-serving.default-tenant.svc.cluster.local:8080/v2/models/RandomForestClassifier/infer'}\n",
      "> 2024-03-27 11:34:55,186 [info] Invoking function: {'method': 'POST', 'path': 'http://nuclio-mm-app-project-serving.default-tenant.svc.cluster.local:8080/v2/models/RandomForestClassifier/infer'}\n",
      "> 2024-03-27 11:34:55,214 [info] Invoking function: {'method': 'POST', 'path': 'http://nuclio-mm-app-project-serving.default-tenant.svc.cluster.local:8080/v2/models/RandomForestClassifier/infer'}\n",
      "> 2024-03-27 11:34:55,243 [info] Invoking function: {'method': 'POST', 'path': 'http://nuclio-mm-app-project-serving.default-tenant.svc.cluster.local:8080/v2/models/RandomForestClassifier/infer'}\n",
      "> 2024-03-27 11:34:55,272 [info] Invoking function: {'method': 'POST', 'path': 'http://nuclio-mm-app-project-serving.default-tenant.svc.cluster.local:8080/v2/models/RandomForestClassifier/infer'}\n",
      "> 2024-03-27 11:34:55,299 [info] Invoking function: {'method': 'POST', 'path': 'http://nuclio-mm-app-project-serving.default-tenant.svc.cluster.local:8080/v2/models/RandomForestClassifier/infer'}\n",
      "> 2024-03-27 11:34:55,357 [info] Invoking function: {'method': 'POST', 'path': 'http://nuclio-mm-app-project-serving.default-tenant.svc.cluster.local:8080/v2/models/RandomForestClassifier/infer'}\n",
      "> 2024-03-27 11:34:55,386 [info] Invoking function: {'method': 'POST', 'path': 'http://nuclio-mm-app-project-serving.default-tenant.svc.cluster.local:8080/v2/models/RandomForestClassifier/infer'}\n",
      "> 2024-03-27 11:34:55,448 [info] Invoking function: {'method': 'POST', 'path': 'http://nuclio-mm-app-project-serving.default-tenant.svc.cluster.local:8080/v2/models/RandomForestClassifier/infer'}\n",
      "> 2024-03-27 11:34:55,506 [info] Invoking function: {'method': 'POST', 'path': 'http://nuclio-mm-app-project-serving.default-tenant.svc.cluster.local:8080/v2/models/RandomForestClassifier/infer'}\n",
      "> 2024-03-27 11:34:55,563 [info] Invoking function: {'method': 'POST', 'path': 'http://nuclio-mm-app-project-serving.default-tenant.svc.cluster.local:8080/v2/models/RandomForestClassifier/infer'}\n",
      "> 2024-03-27 11:34:55,590 [info] Invoking function: {'method': 'POST', 'path': 'http://nuclio-mm-app-project-serving.default-tenant.svc.cluster.local:8080/v2/models/RandomForestClassifier/infer'}\n",
      "> 2024-03-27 11:34:55,648 [info] Invoking function: {'method': 'POST', 'path': 'http://nuclio-mm-app-project-serving.default-tenant.svc.cluster.local:8080/v2/models/RandomForestClassifier/infer'}\n",
      "> 2024-03-27 11:34:55,706 [info] Invoking function: {'method': 'POST', 'path': 'http://nuclio-mm-app-project-serving.default-tenant.svc.cluster.local:8080/v2/models/RandomForestClassifier/infer'}\n",
      "> 2024-03-27 11:34:55,734 [info] Invoking function: {'method': 'POST', 'path': 'http://nuclio-mm-app-project-serving.default-tenant.svc.cluster.local:8080/v2/models/RandomForestClassifier/infer'}\n",
      "> 2024-03-27 11:34:55,761 [info] Invoking function: {'method': 'POST', 'path': 'http://nuclio-mm-app-project-serving.default-tenant.svc.cluster.local:8080/v2/models/RandomForestClassifier/infer'}\n",
      "> 2024-03-27 11:34:55,788 [info] Invoking function: {'method': 'POST', 'path': 'http://nuclio-mm-app-project-serving.default-tenant.svc.cluster.local:8080/v2/models/RandomForestClassifier/infer'}\n",
      "> 2024-03-27 11:34:55,815 [info] Invoking function: {'method': 'POST', 'path': 'http://nuclio-mm-app-project-serving.default-tenant.svc.cluster.local:8080/v2/models/RandomForestClassifier/infer'}\n",
      "> 2024-03-27 11:34:55,873 [info] Invoking function: {'method': 'POST', 'path': 'http://nuclio-mm-app-project-serving.default-tenant.svc.cluster.local:8080/v2/models/RandomForestClassifier/infer'}\n",
      "> 2024-03-27 11:34:55,901 [info] Invoking function: {'method': 'POST', 'path': 'http://nuclio-mm-app-project-serving.default-tenant.svc.cluster.local:8080/v2/models/RandomForestClassifier/infer'}\n",
      "> 2024-03-27 11:34:55,960 [info] Invoking function: {'method': 'POST', 'path': 'http://nuclio-mm-app-project-serving.default-tenant.svc.cluster.local:8080/v2/models/RandomForestClassifier/infer'}\n",
      "> 2024-03-27 11:34:55,992 [info] Invoking function: {'method': 'POST', 'path': 'http://nuclio-mm-app-project-serving.default-tenant.svc.cluster.local:8080/v2/models/RandomForestClassifier/infer'}\n",
      "> 2024-03-27 11:34:56,050 [info] Invoking function: {'method': 'POST', 'path': 'http://nuclio-mm-app-project-serving.default-tenant.svc.cluster.local:8080/v2/models/RandomForestClassifier/infer'}\n",
      "> 2024-03-27 11:34:56,118 [info] Invoking function: {'method': 'POST', 'path': 'http://nuclio-mm-app-project-serving.default-tenant.svc.cluster.local:8080/v2/models/RandomForestClassifier/infer'}\n",
      "> 2024-03-27 11:34:56,176 [info] Invoking function: {'method': 'POST', 'path': 'http://nuclio-mm-app-project-serving.default-tenant.svc.cluster.local:8080/v2/models/RandomForestClassifier/infer'}\n",
      "> 2024-03-27 11:34:56,235 [info] Invoking function: {'method': 'POST', 'path': 'http://nuclio-mm-app-project-serving.default-tenant.svc.cluster.local:8080/v2/models/RandomForestClassifier/infer'}\n",
      "> 2024-03-27 11:34:56,264 [info] Invoking function: {'method': 'POST', 'path': 'http://nuclio-mm-app-project-serving.default-tenant.svc.cluster.local:8080/v2/models/RandomForestClassifier/infer'}\n",
      "> 2024-03-27 11:34:56,323 [info] Invoking function: {'method': 'POST', 'path': 'http://nuclio-mm-app-project-serving.default-tenant.svc.cluster.local:8080/v2/models/RandomForestClassifier/infer'}\n",
      "> 2024-03-27 11:34:56,382 [info] Invoking function: {'method': 'POST', 'path': 'http://nuclio-mm-app-project-serving.default-tenant.svc.cluster.local:8080/v2/models/RandomForestClassifier/infer'}\n",
      "> 2024-03-27 11:34:56,440 [info] Invoking function: {'method': 'POST', 'path': 'http://nuclio-mm-app-project-serving.default-tenant.svc.cluster.local:8080/v2/models/RandomForestClassifier/infer'}\n",
      "> 2024-03-27 11:34:56,468 [info] Invoking function: {'method': 'POST', 'path': 'http://nuclio-mm-app-project-serving.default-tenant.svc.cluster.local:8080/v2/models/RandomForestClassifier/infer'}\n",
      "> 2024-03-27 11:34:56,525 [info] Invoking function: {'method': 'POST', 'path': 'http://nuclio-mm-app-project-serving.default-tenant.svc.cluster.local:8080/v2/models/RandomForestClassifier/infer'}\n",
      "> 2024-03-27 11:34:56,554 [info] Invoking function: {'method': 'POST', 'path': 'http://nuclio-mm-app-project-serving.default-tenant.svc.cluster.local:8080/v2/models/RandomForestClassifier/infer'}\n",
      "> 2024-03-27 11:34:56,581 [info] Invoking function: {'method': 'POST', 'path': 'http://nuclio-mm-app-project-serving.default-tenant.svc.cluster.local:8080/v2/models/RandomForestClassifier/infer'}\n",
      "> 2024-03-27 11:34:56,611 [info] Invoking function: {'method': 'POST', 'path': 'http://nuclio-mm-app-project-serving.default-tenant.svc.cluster.local:8080/v2/models/RandomForestClassifier/infer'}\n",
      "> 2024-03-27 11:34:56,670 [info] Invoking function: {'method': 'POST', 'path': 'http://nuclio-mm-app-project-serving.default-tenant.svc.cluster.local:8080/v2/models/RandomForestClassifier/infer'}\n",
      "> 2024-03-27 11:34:56,701 [info] Invoking function: {'method': 'POST', 'path': 'http://nuclio-mm-app-project-serving.default-tenant.svc.cluster.local:8080/v2/models/RandomForestClassifier/infer'}\n",
      "> 2024-03-27 11:34:56,760 [info] Invoking function: {'method': 'POST', 'path': 'http://nuclio-mm-app-project-serving.default-tenant.svc.cluster.local:8080/v2/models/RandomForestClassifier/infer'}\n",
      "> 2024-03-27 11:34:56,789 [info] Invoking function: {'method': 'POST', 'path': 'http://nuclio-mm-app-project-serving.default-tenant.svc.cluster.local:8080/v2/models/RandomForestClassifier/infer'}\n",
      "> 2024-03-27 11:34:56,848 [info] Invoking function: {'method': 'POST', 'path': 'http://nuclio-mm-app-project-serving.default-tenant.svc.cluster.local:8080/v2/models/RandomForestClassifier/infer'}\n",
      "> 2024-03-27 11:34:56,878 [info] Invoking function: {'method': 'POST', 'path': 'http://nuclio-mm-app-project-serving.default-tenant.svc.cluster.local:8080/v2/models/RandomForestClassifier/infer'}\n",
      "> 2024-03-27 11:34:56,906 [info] Invoking function: {'method': 'POST', 'path': 'http://nuclio-mm-app-project-serving.default-tenant.svc.cluster.local:8080/v2/models/RandomForestClassifier/infer'}\n",
      "> 2024-03-27 11:34:56,970 [info] Invoking function: {'method': 'POST', 'path': 'http://nuclio-mm-app-project-serving.default-tenant.svc.cluster.local:8080/v2/models/RandomForestClassifier/infer'}\n",
      "> 2024-03-27 11:34:56,999 [info] Invoking function: {'method': 'POST', 'path': 'http://nuclio-mm-app-project-serving.default-tenant.svc.cluster.local:8080/v2/models/RandomForestClassifier/infer'}\n",
      "> 2024-03-27 11:34:57,027 [info] Invoking function: {'method': 'POST', 'path': 'http://nuclio-mm-app-project-serving.default-tenant.svc.cluster.local:8080/v2/models/RandomForestClassifier/infer'}\n",
      "> 2024-03-27 11:34:57,087 [info] Invoking function: {'method': 'POST', 'path': 'http://nuclio-mm-app-project-serving.default-tenant.svc.cluster.local:8080/v2/models/RandomForestClassifier/infer'}\n",
      "> 2024-03-27 11:34:57,145 [info] Invoking function: {'method': 'POST', 'path': 'http://nuclio-mm-app-project-serving.default-tenant.svc.cluster.local:8080/v2/models/RandomForestClassifier/infer'}\n",
      "> 2024-03-27 11:34:57,174 [info] Invoking function: {'method': 'POST', 'path': 'http://nuclio-mm-app-project-serving.default-tenant.svc.cluster.local:8080/v2/models/RandomForestClassifier/infer'}\n",
      "> 2024-03-27 11:34:57,232 [info] Invoking function: {'method': 'POST', 'path': 'http://nuclio-mm-app-project-serving.default-tenant.svc.cluster.local:8080/v2/models/RandomForestClassifier/infer'}\n",
      "> 2024-03-27 11:34:57,289 [info] Invoking function: {'method': 'POST', 'path': 'http://nuclio-mm-app-project-serving.default-tenant.svc.cluster.local:8080/v2/models/RandomForestClassifier/infer'}\n",
      "> 2024-03-27 11:34:57,322 [info] Invoking function: {'method': 'POST', 'path': 'http://nuclio-mm-app-project-serving.default-tenant.svc.cluster.local:8080/v2/models/RandomForestClassifier/infer'}\n",
      "> 2024-03-27 11:34:57,380 [info] Invoking function: {'method': 'POST', 'path': 'http://nuclio-mm-app-project-serving.default-tenant.svc.cluster.local:8080/v2/models/RandomForestClassifier/infer'}\n",
      "> 2024-03-27 11:34:57,408 [info] Invoking function: {'method': 'POST', 'path': 'http://nuclio-mm-app-project-serving.default-tenant.svc.cluster.local:8080/v2/models/RandomForestClassifier/infer'}\n",
      "> 2024-03-27 11:34:57,466 [info] Invoking function: {'method': 'POST', 'path': 'http://nuclio-mm-app-project-serving.default-tenant.svc.cluster.local:8080/v2/models/RandomForestClassifier/infer'}\n",
      "> 2024-03-27 11:34:57,534 [info] Invoking function: {'method': 'POST', 'path': 'http://nuclio-mm-app-project-serving.default-tenant.svc.cluster.local:8080/v2/models/RandomForestClassifier/infer'}\n",
      "> 2024-03-27 11:34:57,562 [info] Invoking function: {'method': 'POST', 'path': 'http://nuclio-mm-app-project-serving.default-tenant.svc.cluster.local:8080/v2/models/RandomForestClassifier/infer'}\n",
      "> 2024-03-27 11:34:57,589 [info] Invoking function: {'method': 'POST', 'path': 'http://nuclio-mm-app-project-serving.default-tenant.svc.cluster.local:8080/v2/models/RandomForestClassifier/infer'}\n",
      "> 2024-03-27 11:34:57,616 [info] Invoking function: {'method': 'POST', 'path': 'http://nuclio-mm-app-project-serving.default-tenant.svc.cluster.local:8080/v2/models/RandomForestClassifier/infer'}\n",
      "> 2024-03-27 11:34:57,672 [info] Invoking function: {'method': 'POST', 'path': 'http://nuclio-mm-app-project-serving.default-tenant.svc.cluster.local:8080/v2/models/RandomForestClassifier/infer'}\n",
      "> 2024-03-27 11:34:57,699 [info] Invoking function: {'method': 'POST', 'path': 'http://nuclio-mm-app-project-serving.default-tenant.svc.cluster.local:8080/v2/models/RandomForestClassifier/infer'}\n",
      "> 2024-03-27 11:34:57,727 [info] Invoking function: {'method': 'POST', 'path': 'http://nuclio-mm-app-project-serving.default-tenant.svc.cluster.local:8080/v2/models/RandomForestClassifier/infer'}\n",
      "> 2024-03-27 11:34:57,785 [info] Invoking function: {'method': 'POST', 'path': 'http://nuclio-mm-app-project-serving.default-tenant.svc.cluster.local:8080/v2/models/RandomForestClassifier/infer'}\n",
      "> 2024-03-27 11:34:57,814 [info] Invoking function: {'method': 'POST', 'path': 'http://nuclio-mm-app-project-serving.default-tenant.svc.cluster.local:8080/v2/models/RandomForestClassifier/infer'}\n",
      "> 2024-03-27 11:34:57,846 [info] Invoking function: {'method': 'POST', 'path': 'http://nuclio-mm-app-project-serving.default-tenant.svc.cluster.local:8080/v2/models/RandomForestClassifier/infer'}\n",
      "> 2024-03-27 11:34:57,905 [info] Invoking function: {'method': 'POST', 'path': 'http://nuclio-mm-app-project-serving.default-tenant.svc.cluster.local:8080/v2/models/RandomForestClassifier/infer'}\n",
      "> 2024-03-27 11:34:57,964 [info] Invoking function: {'method': 'POST', 'path': 'http://nuclio-mm-app-project-serving.default-tenant.svc.cluster.local:8080/v2/models/RandomForestClassifier/infer'}\n",
      "> 2024-03-27 11:34:57,994 [info] Invoking function: {'method': 'POST', 'path': 'http://nuclio-mm-app-project-serving.default-tenant.svc.cluster.local:8080/v2/models/RandomForestClassifier/infer'}\n",
      "> 2024-03-27 11:34:58,021 [info] Invoking function: {'method': 'POST', 'path': 'http://nuclio-mm-app-project-serving.default-tenant.svc.cluster.local:8080/v2/models/RandomForestClassifier/infer'}\n",
      "> 2024-03-27 11:34:58,049 [info] Invoking function: {'method': 'POST', 'path': 'http://nuclio-mm-app-project-serving.default-tenant.svc.cluster.local:8080/v2/models/RandomForestClassifier/infer'}\n",
      "> 2024-03-27 11:34:58,078 [info] Invoking function: {'method': 'POST', 'path': 'http://nuclio-mm-app-project-serving.default-tenant.svc.cluster.local:8080/v2/models/RandomForestClassifier/infer'}\n",
      "> 2024-03-27 11:34:58,135 [info] Invoking function: {'method': 'POST', 'path': 'http://nuclio-mm-app-project-serving.default-tenant.svc.cluster.local:8080/v2/models/RandomForestClassifier/infer'}\n",
      "> 2024-03-27 11:34:58,166 [info] Invoking function: {'method': 'POST', 'path': 'http://nuclio-mm-app-project-serving.default-tenant.svc.cluster.local:8080/v2/models/RandomForestClassifier/infer'}\n",
      "> 2024-03-27 11:34:58,195 [info] Invoking function: {'method': 'POST', 'path': 'http://nuclio-mm-app-project-serving.default-tenant.svc.cluster.local:8080/v2/models/RandomForestClassifier/infer'}\n",
      "> 2024-03-27 11:34:58,227 [info] Invoking function: {'method': 'POST', 'path': 'http://nuclio-mm-app-project-serving.default-tenant.svc.cluster.local:8080/v2/models/RandomForestClassifier/infer'}\n",
      "> 2024-03-27 11:34:58,268 [info] Invoking function: {'method': 'POST', 'path': 'http://nuclio-mm-app-project-serving.default-tenant.svc.cluster.local:8080/v2/models/RandomForestClassifier/infer'}\n",
      "> 2024-03-27 11:34:58,332 [info] Invoking function: {'method': 'POST', 'path': 'http://nuclio-mm-app-project-serving.default-tenant.svc.cluster.local:8080/v2/models/RandomForestClassifier/infer'}\n",
      "> 2024-03-27 11:34:58,392 [info] Invoking function: {'method': 'POST', 'path': 'http://nuclio-mm-app-project-serving.default-tenant.svc.cluster.local:8080/v2/models/RandomForestClassifier/infer'}\n",
      "> 2024-03-27 11:34:58,450 [info] Invoking function: {'method': 'POST', 'path': 'http://nuclio-mm-app-project-serving.default-tenant.svc.cluster.local:8080/v2/models/RandomForestClassifier/infer'}\n",
      "> 2024-03-27 11:34:58,481 [info] Invoking function: {'method': 'POST', 'path': 'http://nuclio-mm-app-project-serving.default-tenant.svc.cluster.local:8080/v2/models/RandomForestClassifier/infer'}\n",
      "> 2024-03-27 11:34:58,541 [info] Invoking function: {'method': 'POST', 'path': 'http://nuclio-mm-app-project-serving.default-tenant.svc.cluster.local:8080/v2/models/RandomForestClassifier/infer'}\n",
      "> 2024-03-27 11:34:58,574 [info] Invoking function: {'method': 'POST', 'path': 'http://nuclio-mm-app-project-serving.default-tenant.svc.cluster.local:8080/v2/models/RandomForestClassifier/infer'}\n",
      "> 2024-03-27 11:34:58,604 [info] Invoking function: {'method': 'POST', 'path': 'http://nuclio-mm-app-project-serving.default-tenant.svc.cluster.local:8080/v2/models/RandomForestClassifier/infer'}\n",
      "> 2024-03-27 11:34:58,631 [info] Invoking function: {'method': 'POST', 'path': 'http://nuclio-mm-app-project-serving.default-tenant.svc.cluster.local:8080/v2/models/RandomForestClassifier/infer'}\n",
      "> 2024-03-27 11:34:58,691 [info] Invoking function: {'method': 'POST', 'path': 'http://nuclio-mm-app-project-serving.default-tenant.svc.cluster.local:8080/v2/models/RandomForestClassifier/infer'}\n",
      "> 2024-03-27 11:34:58,749 [info] Invoking function: {'method': 'POST', 'path': 'http://nuclio-mm-app-project-serving.default-tenant.svc.cluster.local:8080/v2/models/RandomForestClassifier/infer'}\n",
      "> 2024-03-27 11:34:58,806 [info] Invoking function: {'method': 'POST', 'path': 'http://nuclio-mm-app-project-serving.default-tenant.svc.cluster.local:8080/v2/models/RandomForestClassifier/infer'}\n",
      "> 2024-03-27 11:34:58,832 [info] Invoking function: {'method': 'POST', 'path': 'http://nuclio-mm-app-project-serving.default-tenant.svc.cluster.local:8080/v2/models/RandomForestClassifier/infer'}\n",
      "> 2024-03-27 11:34:58,888 [info] Invoking function: {'method': 'POST', 'path': 'http://nuclio-mm-app-project-serving.default-tenant.svc.cluster.local:8080/v2/models/RandomForestClassifier/infer'}\n",
      "> 2024-03-27 11:34:58,918 [info] Invoking function: {'method': 'POST', 'path': 'http://nuclio-mm-app-project-serving.default-tenant.svc.cluster.local:8080/v2/models/RandomForestClassifier/infer'}\n",
      "> 2024-03-27 11:34:58,946 [info] Invoking function: {'method': 'POST', 'path': 'http://nuclio-mm-app-project-serving.default-tenant.svc.cluster.local:8080/v2/models/RandomForestClassifier/infer'}\n",
      "> 2024-03-27 11:34:58,975 [info] Invoking function: {'method': 'POST', 'path': 'http://nuclio-mm-app-project-serving.default-tenant.svc.cluster.local:8080/v2/models/RandomForestClassifier/infer'}\n",
      "> 2024-03-27 11:34:59,036 [info] Invoking function: {'method': 'POST', 'path': 'http://nuclio-mm-app-project-serving.default-tenant.svc.cluster.local:8080/v2/models/RandomForestClassifier/infer'}\n",
      "> 2024-03-27 11:34:59,069 [info] Invoking function: {'method': 'POST', 'path': 'http://nuclio-mm-app-project-serving.default-tenant.svc.cluster.local:8080/v2/models/RandomForestClassifier/infer'}\n",
      "> 2024-03-27 11:34:59,098 [info] Invoking function: {'method': 'POST', 'path': 'http://nuclio-mm-app-project-serving.default-tenant.svc.cluster.local:8080/v2/models/RandomForestClassifier/infer'}\n",
      "> 2024-03-27 11:34:59,127 [info] Invoking function: {'method': 'POST', 'path': 'http://nuclio-mm-app-project-serving.default-tenant.svc.cluster.local:8080/v2/models/RandomForestClassifier/infer'}\n",
      "> 2024-03-27 11:34:59,153 [info] Invoking function: {'method': 'POST', 'path': 'http://nuclio-mm-app-project-serving.default-tenant.svc.cluster.local:8080/v2/models/RandomForestClassifier/infer'}\n",
      "> 2024-03-27 11:34:59,211 [info] Invoking function: {'method': 'POST', 'path': 'http://nuclio-mm-app-project-serving.default-tenant.svc.cluster.local:8080/v2/models/RandomForestClassifier/infer'}\n",
      "> 2024-03-27 11:34:59,240 [info] Invoking function: {'method': 'POST', 'path': 'http://nuclio-mm-app-project-serving.default-tenant.svc.cluster.local:8080/v2/models/RandomForestClassifier/infer'}\n",
      "> 2024-03-27 11:34:59,266 [info] Invoking function: {'method': 'POST', 'path': 'http://nuclio-mm-app-project-serving.default-tenant.svc.cluster.local:8080/v2/models/RandomForestClassifier/infer'}\n",
      "> 2024-03-27 11:34:59,293 [info] Invoking function: {'method': 'POST', 'path': 'http://nuclio-mm-app-project-serving.default-tenant.svc.cluster.local:8080/v2/models/RandomForestClassifier/infer'}\n",
      "> 2024-03-27 11:34:59,350 [info] Invoking function: {'method': 'POST', 'path': 'http://nuclio-mm-app-project-serving.default-tenant.svc.cluster.local:8080/v2/models/RandomForestClassifier/infer'}\n",
      "> 2024-03-27 11:34:59,408 [info] Invoking function: {'method': 'POST', 'path': 'http://nuclio-mm-app-project-serving.default-tenant.svc.cluster.local:8080/v2/models/RandomForestClassifier/infer'}\n",
      "> 2024-03-27 11:34:59,437 [info] Invoking function: {'method': 'POST', 'path': 'http://nuclio-mm-app-project-serving.default-tenant.svc.cluster.local:8080/v2/models/RandomForestClassifier/infer'}\n",
      "> 2024-03-27 11:34:59,466 [info] Invoking function: {'method': 'POST', 'path': 'http://nuclio-mm-app-project-serving.default-tenant.svc.cluster.local:8080/v2/models/RandomForestClassifier/infer'}\n",
      "> 2024-03-27 11:34:59,525 [info] Invoking function: {'method': 'POST', 'path': 'http://nuclio-mm-app-project-serving.default-tenant.svc.cluster.local:8080/v2/models/RandomForestClassifier/infer'}\n",
      "> 2024-03-27 11:34:59,584 [info] Invoking function: {'method': 'POST', 'path': 'http://nuclio-mm-app-project-serving.default-tenant.svc.cluster.local:8080/v2/models/RandomForestClassifier/infer'}\n",
      "> 2024-03-27 11:34:59,643 [info] Invoking function: {'method': 'POST', 'path': 'http://nuclio-mm-app-project-serving.default-tenant.svc.cluster.local:8080/v2/models/RandomForestClassifier/infer'}\n",
      "> 2024-03-27 11:34:59,701 [info] Invoking function: {'method': 'POST', 'path': 'http://nuclio-mm-app-project-serving.default-tenant.svc.cluster.local:8080/v2/models/RandomForestClassifier/infer'}\n",
      "> 2024-03-27 11:34:59,730 [info] Invoking function: {'method': 'POST', 'path': 'http://nuclio-mm-app-project-serving.default-tenant.svc.cluster.local:8080/v2/models/RandomForestClassifier/infer'}\n",
      "> 2024-03-27 11:34:59,789 [info] Invoking function: {'method': 'POST', 'path': 'http://nuclio-mm-app-project-serving.default-tenant.svc.cluster.local:8080/v2/models/RandomForestClassifier/infer'}\n",
      "> 2024-03-27 11:34:59,848 [info] Invoking function: {'method': 'POST', 'path': 'http://nuclio-mm-app-project-serving.default-tenant.svc.cluster.local:8080/v2/models/RandomForestClassifier/infer'}\n",
      "> 2024-03-27 11:34:59,877 [info] Invoking function: {'method': 'POST', 'path': 'http://nuclio-mm-app-project-serving.default-tenant.svc.cluster.local:8080/v2/models/RandomForestClassifier/infer'}\n",
      "> 2024-03-27 11:34:59,935 [info] Invoking function: {'method': 'POST', 'path': 'http://nuclio-mm-app-project-serving.default-tenant.svc.cluster.local:8080/v2/models/RandomForestClassifier/infer'}\n",
      "> 2024-03-27 11:34:59,963 [info] Invoking function: {'method': 'POST', 'path': 'http://nuclio-mm-app-project-serving.default-tenant.svc.cluster.local:8080/v2/models/RandomForestClassifier/infer'}\n",
      "> 2024-03-27 11:35:00,021 [info] Invoking function: {'method': 'POST', 'path': 'http://nuclio-mm-app-project-serving.default-tenant.svc.cluster.local:8080/v2/models/RandomForestClassifier/infer'}\n",
      "> 2024-03-27 11:35:00,081 [info] Invoking function: {'method': 'POST', 'path': 'http://nuclio-mm-app-project-serving.default-tenant.svc.cluster.local:8080/v2/models/RandomForestClassifier/infer'}\n",
      "> 2024-03-27 11:35:00,152 [info] Invoking function: {'method': 'POST', 'path': 'http://nuclio-mm-app-project-serving.default-tenant.svc.cluster.local:8080/v2/models/RandomForestClassifier/infer'}\n",
      "> 2024-03-27 11:35:00,182 [info] Invoking function: {'method': 'POST', 'path': 'http://nuclio-mm-app-project-serving.default-tenant.svc.cluster.local:8080/v2/models/RandomForestClassifier/infer'}\n",
      "> 2024-03-27 11:35:00,209 [info] Invoking function: {'method': 'POST', 'path': 'http://nuclio-mm-app-project-serving.default-tenant.svc.cluster.local:8080/v2/models/RandomForestClassifier/infer'}\n",
      "> 2024-03-27 11:35:00,267 [info] Invoking function: {'method': 'POST', 'path': 'http://nuclio-mm-app-project-serving.default-tenant.svc.cluster.local:8080/v2/models/RandomForestClassifier/infer'}\n",
      "> 2024-03-27 11:35:00,297 [info] Invoking function: {'method': 'POST', 'path': 'http://nuclio-mm-app-project-serving.default-tenant.svc.cluster.local:8080/v2/models/RandomForestClassifier/infer'}\n",
      "> 2024-03-27 11:35:00,353 [info] Invoking function: {'method': 'POST', 'path': 'http://nuclio-mm-app-project-serving.default-tenant.svc.cluster.local:8080/v2/models/RandomForestClassifier/infer'}\n",
      "> 2024-03-27 11:35:00,412 [info] Invoking function: {'method': 'POST', 'path': 'http://nuclio-mm-app-project-serving.default-tenant.svc.cluster.local:8080/v2/models/RandomForestClassifier/infer'}\n",
      "> 2024-03-27 11:35:00,470 [info] Invoking function: {'method': 'POST', 'path': 'http://nuclio-mm-app-project-serving.default-tenant.svc.cluster.local:8080/v2/models/RandomForestClassifier/infer'}\n",
      "> 2024-03-27 11:35:00,503 [info] Invoking function: {'method': 'POST', 'path': 'http://nuclio-mm-app-project-serving.default-tenant.svc.cluster.local:8080/v2/models/RandomForestClassifier/infer'}\n",
      "> 2024-03-27 11:35:00,531 [info] Invoking function: {'method': 'POST', 'path': 'http://nuclio-mm-app-project-serving.default-tenant.svc.cluster.local:8080/v2/models/RandomForestClassifier/infer'}\n"
     ]
    }
   ],
   "source": [
    "import json\n",
    "from time import sleep\n",
    "from random import choice, uniform\n",
    "\n",
    "iris = load_iris()\n",
    "iris_data = iris[\"data\"].tolist()\n",
    "\n",
    "model_name = \"RandomForestClassifier\"\n",
    "serving_1 = project.get_function(\"serving\")\n",
    "\n",
    "for i in range(150):\n",
    "    data_point = choice(iris_data)\n",
    "    # data_point = [0.5,0.5,0.5,0.5]\n",
    "    serving_1.invoke(\n",
    "        f\"v2/models/{model_name}/infer\", json.dumps({\"inputs\": [data_point]})\n",
    "    )\n",
    "    sleep(choice([0.01, 0.04]))"
   ]
  },
  {
   "cell_type": "markdown",
   "id": "9ddf342a-aa6f-4898-87c1-a4976bd283a8",
   "metadata": {},
   "source": [
    "Now you can view the application results. \n",
    "\n",
    "<img src=\"./_static/images/mm-myapp.png\" >\n",
    "\n",
    "And if you've used Evidently:\n",
    "\n",
    "<img src=\"./_static/images/mm-logger-dashb-evidently.png\" >\n",
    "\n",
    "<img src=\"./_static/images/mm-evidently.png\" >\n",
    "\n"
   ]
  },
  {
   "cell_type": "markdown",
   "id": "cb09c03d",
   "metadata": {},
   "source": [
    "## View the status of the model monitoring jobs \n",
    "\n",
    "View the model monitoring jobs in Jobs and Workflows. Model monitoring jobs run continuously, therefore they should \n",
    "have a blue dot indicating that the function is running. (A green dot indicates that the job completed.)\n",
    "\n",
    "For more information on the UI, see [Model monitoring using the platform UI](../monitoring/model-monitoring-deployment.html#model-monitoring-in-the-platform-ui).\n",
    "\n",
    "<img src=\"./_static/images/mm-monitor-jobs.png\" >"
   ]
  },
  {
   "cell_type": "markdown",
   "id": "16fa41b3",
   "metadata": {},
   "source": [
    "<a id=\"view-dashboards\"></a>\n",
    "## View detailed drift dashboards"
   ]
  },
  {
   "cell_type": "markdown",
   "id": "306e0309",
   "metadata": {},
   "source": [
    "Grafana has detailed dashboards that show additional information on each model in the project:\n",
    "\n",
    "For more information on the dashboards, see [Model monitoring using Grafana dashboards](../monitoring/model-monitoring-deployment.html#model-monitoring-using-grafana-dashboards)."
   ]
  },
  {
   "cell_type": "markdown",
   "id": "bd4d7c9c",
   "metadata": {},
   "source": [
    "![grafana_dashboard_1](./_static/images/grafana_dashboard_1.png)"
   ]
  },
  {
   "cell_type": "markdown",
   "id": "97ef9345",
   "metadata": {},
   "source": [
    "Graphs of individual features over time:"
   ]
  },
  {
   "cell_type": "markdown",
   "id": "da470eca",
   "metadata": {},
   "source": [
    "![grafana_dashboard_2](./_static/images/grafana_dashboard_2.png)"
   ]
  },
  {
   "cell_type": "markdown",
   "id": "c3ce647b",
   "metadata": {},
   "source": [
    "As well as drift and operational metrics over time:"
   ]
  },
  {
   "cell_type": "markdown",
   "id": "54888c18",
   "metadata": {},
   "source": [
    "![grafana_dashboard_3](./_static/images/grafana_dashboard_3.png)"
   ]
  },
  {
   "cell_type": "markdown",
   "id": "de9ed1fc",
   "metadata": {},
   "source": [
    "## Done!\n",
    "Congratulations! You’ve completed Part 5 of the MLRun getting-started tutorial. To continue, proceed to [Part 6 Batch inference and drift detection](./07-batch-infer)."
   ]
  }
 ],
 "metadata": {
  "kernelspec": {
   "display_name": "Python 3 (ipykernel)",
   "language": "python",
   "name": "python3"
  },
  "language_info": {
   "codemirror_mode": {
    "name": "ipython",
    "version": 3
   },
   "file_extension": ".py",
   "mimetype": "text/x-python",
   "name": "python",
   "nbconvert_exporter": "python",
   "pygments_lexer": "ipython3",
   "version": "3.9.13"
  }
 },
 "nbformat": 4,
 "nbformat_minor": 5
}
